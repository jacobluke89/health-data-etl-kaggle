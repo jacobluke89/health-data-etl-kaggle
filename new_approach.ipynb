{
 "cells": [
  {
   "cell_type": "code",
   "execution_count": 47,
   "outputs": [],
   "source": [
    "from data_generator.csv_data_processor import CSVDataProcessor\n",
    "from utils.util_funcs import get_row_count, display_df, get_column_names\n",
    "from utils.read_write import read_postgres_table\n",
    "from spark_instance import spark\n",
    "from pyspark.sql import Window\n",
    "from data_generator.constants import ColConstants\n",
    "\n",
    "from pyspark.sql.functions import col, lower, lit, rand, array, floor, concat, when, row_number, concat_ws, date_format, count\n",
    "  "
   ],
   "metadata": {
    "collapsed": false,
    "ExecuteTime": {
     "end_time": "2024-02-11T21:46:20.836605Z",
     "start_time": "2024-02-11T21:46:20.809852Z"
    }
   },
   "id": "344f364a0ecf68e0"
  },
  {
   "cell_type": "code",
   "execution_count": 2,
   "id": "initial_id",
   "metadata": {
    "collapsed": true,
    "ExecuteTime": {
     "end_time": "2024-02-11T21:08:37.696859Z",
     "start_time": "2024-02-11T21:08:37.661566Z"
    }
   },
   "outputs": [],
   "source": [
    "# csv_reader = CSVDataProcessor(spark, \"data/healthcare_dataset.csv\")\n",
    "# \n",
    "# # Read the CSV file\n",
    "# raw_df = csv_reader.run()\n"
   ]
  },
  {
   "cell_type": "code",
   "execution_count": 3,
   "outputs": [],
   "source": [
    "# min_age_days = 1 * 365  # Minimum age in days (18 years)\n",
    "# max_age_days = 90 * 365  # Maximum age in days (90 years)\n",
    "# \n",
    "# raw_df = (raw_df.withColumn(\"DOB\", expr(f\"date_sub(current_date(), CAST(round(rand() * ({max_age_days} - {min_age_days}) + {min_age_days}) AS INT))\"))\n",
    "#         .withColumn(\"Age\", floor(datediff(current_date(), col(\"DOB\")) / 365.25)))\n",
    "\n",
    "\n"
   ],
   "metadata": {
    "collapsed": false,
    "ExecuteTime": {
     "end_time": "2024-02-11T21:08:37.699756Z",
     "start_time": "2024-02-11T21:08:37.667830Z"
    }
   },
   "id": "62f17c7d47c49e7e"
  },
  {
   "cell_type": "code",
   "execution_count": 4,
   "outputs": [],
   "source": [
    "df = read_postgres_table(\"dob_age_raw_data\")"
   ],
   "metadata": {
    "collapsed": false,
    "ExecuteTime": {
     "end_time": "2024-02-11T21:08:40.279262Z",
     "start_time": "2024-02-11T21:08:37.676947Z"
    }
   },
   "id": "19c3e561ca62f93"
  },
  {
   "cell_type": "code",
   "execution_count": 5,
   "outputs": [
    {
     "name": "stderr",
     "output_type": "stream",
     "text": [
      "                                                                                \r"
     ]
    },
    {
     "name": "stdout",
     "output_type": "stream",
     "text": [
      "10000\n"
     ]
    },
    {
     "data": {
      "text/plain": "10000"
     },
     "execution_count": 5,
     "metadata": {},
     "output_type": "execute_result"
    }
   ],
   "source": [
    "# df.show()\n",
    "get_row_count(df, True)"
   ],
   "metadata": {
    "collapsed": false,
    "ExecuteTime": {
     "end_time": "2024-02-11T21:08:43.316512Z",
     "start_time": "2024-02-11T21:08:40.280318Z"
    }
   },
   "id": "fbde22f97f00f1f1"
  },
  {
   "cell_type": "code",
   "execution_count": 6,
   "outputs": [],
   "source": [
    "# df.where(col(\"Age\") < 16).show()"
   ],
   "metadata": {
    "collapsed": false,
    "ExecuteTime": {
     "end_time": "2024-02-11T21:08:43.317077Z",
     "start_time": "2024-02-11T21:08:43.273859Z"
    }
   },
   "id": "78babd09a1688d38"
  },
  {
   "cell_type": "code",
   "execution_count": 7,
   "outputs": [],
   "source": [
    "from constants.admission_types_tests_dataset import admission_mapping, admission_tests\n",
    "# Flatten the mapping and create a DataFrame\n",
    "flattened = [\n",
    "    (top_level, sub_level, stay_type, admission_tests.get(sub_level, [\"No tests\"]))\n",
    "    for top_level, sub_level_dict in admission_mapping.items()\n",
    "    for sub_level, stay_types in sub_level_dict.items()\n",
    "    for stay_type in stay_types\n",
    "]\n",
    "\n"
   ],
   "metadata": {
    "collapsed": false,
    "ExecuteTime": {
     "end_time": "2024-02-11T21:08:43.317607Z",
     "start_time": "2024-02-11T21:08:43.282125Z"
    }
   },
   "id": "d463e373907bf09e"
  },
  {
   "cell_type": "code",
   "execution_count": 8,
   "outputs": [
    {
     "name": "stderr",
     "output_type": "stream",
     "text": [
      "                                                                                \r"
     ]
    },
    {
     "data": {
      "text/plain": "   top_level_admission      sub_level_admission    stay_type  \\\n0            emergency               injury_rtc    inpatient   \n1            emergency               injury_rtc  day_patient   \n2            emergency           self_inflicted    inpatient   \n3            emergency               cardiology    inpatient   \n4            emergency               cardiology  day_patient   \n5            emergency                neurology    inpatient   \n6            emergency              pulmonology    inpatient   \n7            emergency              pulmonology  day_patient   \n8            emergency      infectious_diseases    inpatient   \n9            emergency      infectious_diseases   outpatient   \n10         gp_referral                   mental    inpatient   \n11         gp_referral                   mental   outpatient   \n12         gp_referral              orthopedics    inpatient   \n13         gp_referral              orthopedics  day_patient   \n14         gp_referral         gastroenterology  day_patient   \n15         gp_referral         gastroenterology   outpatient   \n16         gp_referral            endocrinology   outpatient   \n17         gp_referral              dermatology   outpatient   \n18         gp_referral               geriatrics    inpatient   \n19         gp_referral               geriatrics   outpatient   \n20   hospital_referral               nephrology    inpatient   \n21   hospital_referral               cardiology    inpatient   \n22   hospital_referral               cardiology  day_patient   \n23   hospital_referral                neurology    inpatient   \n24   hospital_referral                 oncology    inpatient   \n25   hospital_referral                 oncology  day_patient   \n26   hospital_referral  otorhinolaryngology_ENT    inpatient   \n27   hospital_referral  otorhinolaryngology_ENT  day_patient   \n28       self_referral                   mental   outpatient   \n29       self_referral              dermatology   outpatient   \n30       self_referral              orthopedics  day_patient   \n31       self_referral         gastroenterology   outpatient   \n32       self_referral            endocrinology   outpatient   \n33       self_referral                 oncology    inpatient   \n34       self_referral                 oncology  day_patient   \n35       self_referral                 oncology   outpatient   \n36            elective                maternity    inpatient   \n37            elective                maternity  day_patient   \n38            elective              orthopedics    inpatient   \n39            elective              orthopedics  day_patient   \n40            elective               obstetrics    inpatient   \n41            elective            ophthalmology  day_patient   \n42            elective            ophthalmology   outpatient   \n43            elective               geriatrics    inpatient   \n44            elective               geriatrics   outpatient   \n\n                                       possible_tests  \n0    [X-rays, CT scans, MRI, Ultrasound, Blood tests]  \n1    [X-rays, CT scans, MRI, Ultrasound, Blood tests]  \n2   [Psychological assessment, X-rays (for physica...  \n3   [ECG, Echocardiogram, Stress tests, Cardiac ca...  \n4   [ECG, Echocardiogram, Stress tests, Cardiac ca...  \n5   [MRI or CT scans of the brain, Electroencephal...  \n6   [Pulmonary function tests, Chest X-ray, CT sca...  \n7   [Pulmonary function tests, Chest X-ray, CT sca...  \n8   [Blood cultures, PCR tests, Antibody tests, ch...  \n9   [Blood cultures, PCR tests, Antibody tests, ch...  \n10  [Psychological evaluation, Blood tests, Brain ...  \n11  [Psychological evaluation, Blood tests, Brain ...  \n12   [X-rays, MRI, CT scans, Bone scans, Blood tests]  \n13   [X-rays, MRI, CT scans, Bone scans, Blood tests]  \n14  [Endoscopy, Colonoscopy, Blood tests, Stool te...  \n15  [Endoscopy, Colonoscopy, Blood tests, Stool te...  \n16  [Blood tests (hormone levels), Thyroid functio...  \n17  [Skin biopsy, Patch tests, Skin scrapings, Blo...  \n18  [Comprehensive geriatric assessment, Blood tes...  \n19  [Comprehensive geriatric assessment, Blood tes...  \n20  [Blood tests (renal function tests), Urine tes...  \n21  [ECG, Echocardiogram, Stress tests, Cardiac ca...  \n22  [ECG, Echocardiogram, Stress tests, Cardiac ca...  \n23  [MRI or CT scans of the brain, Electroencephal...  \n24  [Biopsies, MRI, Ultrasound, Blood tests, Imagi...  \n25  [Biopsies, MRI, Ultrasound, Blood tests, Imagi...  \n26  [Hearing tests, Endoscopy of the ear/nose/thro...  \n27  [Hearing tests, Endoscopy of the ear/nose/thro...  \n28  [Psychological evaluation, Blood tests, Brain ...  \n29  [Skin biopsy, Patch tests, Skin scrapings, Blo...  \n30   [X-rays, MRI, CT scans, Bone scans, Blood tests]  \n31  [Endoscopy, Colonoscopy, Blood tests, Stool te...  \n32  [Blood tests (hormone levels), Thyroid functio...  \n33  [Biopsies, MRI, Ultrasound, Blood tests, Imagi...  \n34  [Biopsies, MRI, Ultrasound, Blood tests, Imagi...  \n35  [Biopsies, MRI, Ultrasound, Blood tests, Imagi...  \n36  [Ultrasound, Blood tests, Glucose tolerance te...  \n37  [Ultrasound, Blood tests, Glucose tolerance te...  \n38   [X-rays, MRI, CT scans, Bone scans, Blood tests]  \n39   [X-rays, MRI, CT scans, Bone scans, Blood tests]  \n40  [Ultrasound, Blood tests, Glucose tolerance te...  \n41  [Eye exam, Tonometry (eye pressure test), Reti...  \n42  [Eye exam, Tonometry (eye pressure test), Reti...  \n43  [Comprehensive geriatric assessment, Blood tes...  \n44  [Comprehensive geriatric assessment, Blood tes...  ",
      "text/html": "<div>\n<style scoped>\n    .dataframe tbody tr th:only-of-type {\n        vertical-align: middle;\n    }\n\n    .dataframe tbody tr th {\n        vertical-align: top;\n    }\n\n    .dataframe thead th {\n        text-align: right;\n    }\n</style>\n<table border=\"1\" class=\"dataframe\">\n  <thead>\n    <tr style=\"text-align: right;\">\n      <th></th>\n      <th>top_level_admission</th>\n      <th>sub_level_admission</th>\n      <th>stay_type</th>\n      <th>possible_tests</th>\n    </tr>\n  </thead>\n  <tbody>\n    <tr>\n      <th>0</th>\n      <td>emergency</td>\n      <td>injury_rtc</td>\n      <td>inpatient</td>\n      <td>[X-rays, CT scans, MRI, Ultrasound, Blood tests]</td>\n    </tr>\n    <tr>\n      <th>1</th>\n      <td>emergency</td>\n      <td>injury_rtc</td>\n      <td>day_patient</td>\n      <td>[X-rays, CT scans, MRI, Ultrasound, Blood tests]</td>\n    </tr>\n    <tr>\n      <th>2</th>\n      <td>emergency</td>\n      <td>self_inflicted</td>\n      <td>inpatient</td>\n      <td>[Psychological assessment, X-rays (for physica...</td>\n    </tr>\n    <tr>\n      <th>3</th>\n      <td>emergency</td>\n      <td>cardiology</td>\n      <td>inpatient</td>\n      <td>[ECG, Echocardiogram, Stress tests, Cardiac ca...</td>\n    </tr>\n    <tr>\n      <th>4</th>\n      <td>emergency</td>\n      <td>cardiology</td>\n      <td>day_patient</td>\n      <td>[ECG, Echocardiogram, Stress tests, Cardiac ca...</td>\n    </tr>\n    <tr>\n      <th>5</th>\n      <td>emergency</td>\n      <td>neurology</td>\n      <td>inpatient</td>\n      <td>[MRI or CT scans of the brain, Electroencephal...</td>\n    </tr>\n    <tr>\n      <th>6</th>\n      <td>emergency</td>\n      <td>pulmonology</td>\n      <td>inpatient</td>\n      <td>[Pulmonary function tests, Chest X-ray, CT sca...</td>\n    </tr>\n    <tr>\n      <th>7</th>\n      <td>emergency</td>\n      <td>pulmonology</td>\n      <td>day_patient</td>\n      <td>[Pulmonary function tests, Chest X-ray, CT sca...</td>\n    </tr>\n    <tr>\n      <th>8</th>\n      <td>emergency</td>\n      <td>infectious_diseases</td>\n      <td>inpatient</td>\n      <td>[Blood cultures, PCR tests, Antibody tests, ch...</td>\n    </tr>\n    <tr>\n      <th>9</th>\n      <td>emergency</td>\n      <td>infectious_diseases</td>\n      <td>outpatient</td>\n      <td>[Blood cultures, PCR tests, Antibody tests, ch...</td>\n    </tr>\n    <tr>\n      <th>10</th>\n      <td>gp_referral</td>\n      <td>mental</td>\n      <td>inpatient</td>\n      <td>[Psychological evaluation, Blood tests, Brain ...</td>\n    </tr>\n    <tr>\n      <th>11</th>\n      <td>gp_referral</td>\n      <td>mental</td>\n      <td>outpatient</td>\n      <td>[Psychological evaluation, Blood tests, Brain ...</td>\n    </tr>\n    <tr>\n      <th>12</th>\n      <td>gp_referral</td>\n      <td>orthopedics</td>\n      <td>inpatient</td>\n      <td>[X-rays, MRI, CT scans, Bone scans, Blood tests]</td>\n    </tr>\n    <tr>\n      <th>13</th>\n      <td>gp_referral</td>\n      <td>orthopedics</td>\n      <td>day_patient</td>\n      <td>[X-rays, MRI, CT scans, Bone scans, Blood tests]</td>\n    </tr>\n    <tr>\n      <th>14</th>\n      <td>gp_referral</td>\n      <td>gastroenterology</td>\n      <td>day_patient</td>\n      <td>[Endoscopy, Colonoscopy, Blood tests, Stool te...</td>\n    </tr>\n    <tr>\n      <th>15</th>\n      <td>gp_referral</td>\n      <td>gastroenterology</td>\n      <td>outpatient</td>\n      <td>[Endoscopy, Colonoscopy, Blood tests, Stool te...</td>\n    </tr>\n    <tr>\n      <th>16</th>\n      <td>gp_referral</td>\n      <td>endocrinology</td>\n      <td>outpatient</td>\n      <td>[Blood tests (hormone levels), Thyroid functio...</td>\n    </tr>\n    <tr>\n      <th>17</th>\n      <td>gp_referral</td>\n      <td>dermatology</td>\n      <td>outpatient</td>\n      <td>[Skin biopsy, Patch tests, Skin scrapings, Blo...</td>\n    </tr>\n    <tr>\n      <th>18</th>\n      <td>gp_referral</td>\n      <td>geriatrics</td>\n      <td>inpatient</td>\n      <td>[Comprehensive geriatric assessment, Blood tes...</td>\n    </tr>\n    <tr>\n      <th>19</th>\n      <td>gp_referral</td>\n      <td>geriatrics</td>\n      <td>outpatient</td>\n      <td>[Comprehensive geriatric assessment, Blood tes...</td>\n    </tr>\n    <tr>\n      <th>20</th>\n      <td>hospital_referral</td>\n      <td>nephrology</td>\n      <td>inpatient</td>\n      <td>[Blood tests (renal function tests), Urine tes...</td>\n    </tr>\n    <tr>\n      <th>21</th>\n      <td>hospital_referral</td>\n      <td>cardiology</td>\n      <td>inpatient</td>\n      <td>[ECG, Echocardiogram, Stress tests, Cardiac ca...</td>\n    </tr>\n    <tr>\n      <th>22</th>\n      <td>hospital_referral</td>\n      <td>cardiology</td>\n      <td>day_patient</td>\n      <td>[ECG, Echocardiogram, Stress tests, Cardiac ca...</td>\n    </tr>\n    <tr>\n      <th>23</th>\n      <td>hospital_referral</td>\n      <td>neurology</td>\n      <td>inpatient</td>\n      <td>[MRI or CT scans of the brain, Electroencephal...</td>\n    </tr>\n    <tr>\n      <th>24</th>\n      <td>hospital_referral</td>\n      <td>oncology</td>\n      <td>inpatient</td>\n      <td>[Biopsies, MRI, Ultrasound, Blood tests, Imagi...</td>\n    </tr>\n    <tr>\n      <th>25</th>\n      <td>hospital_referral</td>\n      <td>oncology</td>\n      <td>day_patient</td>\n      <td>[Biopsies, MRI, Ultrasound, Blood tests, Imagi...</td>\n    </tr>\n    <tr>\n      <th>26</th>\n      <td>hospital_referral</td>\n      <td>otorhinolaryngology_ENT</td>\n      <td>inpatient</td>\n      <td>[Hearing tests, Endoscopy of the ear/nose/thro...</td>\n    </tr>\n    <tr>\n      <th>27</th>\n      <td>hospital_referral</td>\n      <td>otorhinolaryngology_ENT</td>\n      <td>day_patient</td>\n      <td>[Hearing tests, Endoscopy of the ear/nose/thro...</td>\n    </tr>\n    <tr>\n      <th>28</th>\n      <td>self_referral</td>\n      <td>mental</td>\n      <td>outpatient</td>\n      <td>[Psychological evaluation, Blood tests, Brain ...</td>\n    </tr>\n    <tr>\n      <th>29</th>\n      <td>self_referral</td>\n      <td>dermatology</td>\n      <td>outpatient</td>\n      <td>[Skin biopsy, Patch tests, Skin scrapings, Blo...</td>\n    </tr>\n    <tr>\n      <th>30</th>\n      <td>self_referral</td>\n      <td>orthopedics</td>\n      <td>day_patient</td>\n      <td>[X-rays, MRI, CT scans, Bone scans, Blood tests]</td>\n    </tr>\n    <tr>\n      <th>31</th>\n      <td>self_referral</td>\n      <td>gastroenterology</td>\n      <td>outpatient</td>\n      <td>[Endoscopy, Colonoscopy, Blood tests, Stool te...</td>\n    </tr>\n    <tr>\n      <th>32</th>\n      <td>self_referral</td>\n      <td>endocrinology</td>\n      <td>outpatient</td>\n      <td>[Blood tests (hormone levels), Thyroid functio...</td>\n    </tr>\n    <tr>\n      <th>33</th>\n      <td>self_referral</td>\n      <td>oncology</td>\n      <td>inpatient</td>\n      <td>[Biopsies, MRI, Ultrasound, Blood tests, Imagi...</td>\n    </tr>\n    <tr>\n      <th>34</th>\n      <td>self_referral</td>\n      <td>oncology</td>\n      <td>day_patient</td>\n      <td>[Biopsies, MRI, Ultrasound, Blood tests, Imagi...</td>\n    </tr>\n    <tr>\n      <th>35</th>\n      <td>self_referral</td>\n      <td>oncology</td>\n      <td>outpatient</td>\n      <td>[Biopsies, MRI, Ultrasound, Blood tests, Imagi...</td>\n    </tr>\n    <tr>\n      <th>36</th>\n      <td>elective</td>\n      <td>maternity</td>\n      <td>inpatient</td>\n      <td>[Ultrasound, Blood tests, Glucose tolerance te...</td>\n    </tr>\n    <tr>\n      <th>37</th>\n      <td>elective</td>\n      <td>maternity</td>\n      <td>day_patient</td>\n      <td>[Ultrasound, Blood tests, Glucose tolerance te...</td>\n    </tr>\n    <tr>\n      <th>38</th>\n      <td>elective</td>\n      <td>orthopedics</td>\n      <td>inpatient</td>\n      <td>[X-rays, MRI, CT scans, Bone scans, Blood tests]</td>\n    </tr>\n    <tr>\n      <th>39</th>\n      <td>elective</td>\n      <td>orthopedics</td>\n      <td>day_patient</td>\n      <td>[X-rays, MRI, CT scans, Bone scans, Blood tests]</td>\n    </tr>\n    <tr>\n      <th>40</th>\n      <td>elective</td>\n      <td>obstetrics</td>\n      <td>inpatient</td>\n      <td>[Ultrasound, Blood tests, Glucose tolerance te...</td>\n    </tr>\n    <tr>\n      <th>41</th>\n      <td>elective</td>\n      <td>ophthalmology</td>\n      <td>day_patient</td>\n      <td>[Eye exam, Tonometry (eye pressure test), Reti...</td>\n    </tr>\n    <tr>\n      <th>42</th>\n      <td>elective</td>\n      <td>ophthalmology</td>\n      <td>outpatient</td>\n      <td>[Eye exam, Tonometry (eye pressure test), Reti...</td>\n    </tr>\n    <tr>\n      <th>43</th>\n      <td>elective</td>\n      <td>geriatrics</td>\n      <td>inpatient</td>\n      <td>[Comprehensive geriatric assessment, Blood tes...</td>\n    </tr>\n    <tr>\n      <th>44</th>\n      <td>elective</td>\n      <td>geriatrics</td>\n      <td>outpatient</td>\n      <td>[Comprehensive geriatric assessment, Blood tes...</td>\n    </tr>\n  </tbody>\n</table>\n</div>"
     },
     "metadata": {},
     "output_type": "display_data"
    }
   ],
   "source": [
    "\"\"\"\n",
    "STEP 1 \n",
    "    From the flattened data list we wish to create a DataFrame. This contains all the possible combinations for the given \n",
    "    top level admissions, sub level admissions, stay types and list of tests available from the admission_mapping, stay_type and admission_tests lists or dictionaries in admission_types_test_dataset.py\n",
    "\"\"\"\n",
    "mapping_df = spark.createDataFrame(flattened, [\"top_level_admission\", \"sub_level_admission\", \"stay_type\", \"possible_tests\"])\n",
    "\n",
    "display_df(mapping_df, 100)"
   ],
   "metadata": {
    "collapsed": false,
    "ExecuteTime": {
     "end_time": "2024-02-11T21:08:44.956482Z",
     "start_time": "2024-02-11T21:08:43.291992Z"
    }
   },
   "id": "e1dc302cbd5cd49e"
  },
  {
   "cell_type": "code",
   "execution_count": 9,
   "outputs": [
    {
     "name": "stdout",
     "output_type": "stream",
     "text": [
      "['emergency', 'gp_referral', 'hospital_referral', 'self_referral', 'elective']\n",
      "10000\n",
      "90008\n"
     ]
    },
    {
     "name": "stderr",
     "output_type": "stream",
     "text": [
      "                                                                                \r"
     ]
    },
    {
     "data": {
      "text/plain": "    top_level_admission             name  Age  gender blood_type  \\\n0              elective  Tiffany Ramirez   39  Female         O-   \n1              elective  Tiffany Ramirez   39  Female         O-   \n2              elective  Tiffany Ramirez   39  Female         O-   \n3              elective  Tiffany Ramirez   39  Female         O-   \n4              elective  Tiffany Ramirez   39  Female         O-   \n..                  ...              ...  ...     ...        ...   \n994            elective       David Boyd   25  Female        AB-   \n995            elective       David Boyd   25  Female        AB-   \n996            elective       David Boyd   25  Female        AB-   \n997            elective       David Boyd   25  Female        AB-   \n998            elective       David Boyd   25  Female        AB-   \n\n    medical_condition date_of_admission          doctor  \\\n0            Diabetes        2022-11-17  Patrick Parker   \n1            Diabetes        2022-11-17  Patrick Parker   \n2            Diabetes        2022-11-17  Patrick Parker   \n3            Diabetes        2022-11-17  Patrick Parker   \n4            Diabetes        2022-11-17  Patrick Parker   \n..                ...               ...             ...   \n994            Cancer        2021-03-07     Kyle Miller   \n995            Cancer        2021-03-07     Kyle Miller   \n996            Cancer        2021-03-07     Kyle Miller   \n997            Cancer        2021-03-07     Kyle Miller   \n998            Cancer        2021-03-07     Kyle Miller   \n\n                       hospital insurance_provider  ...  room_number  \\\n0              Wallace-Hamilton           Medicare  ...          146   \n1              Wallace-Hamilton           Medicare  ...          146   \n2              Wallace-Hamilton           Medicare  ...          146   \n3              Wallace-Hamilton           Medicare  ...          146   \n4              Wallace-Hamilton           Medicare  ...          146   \n..                          ...                ...  ...          ...   \n994  Caldwell, Patton and Scott           Medicare  ...          355   \n995  Caldwell, Patton and Scott           Medicare  ...          355   \n996  Caldwell, Patton and Scott           Medicare  ...          355   \n997  Caldwell, Patton and Scott           Medicare  ...          355   \n998  Caldwell, Patton and Scott           Medicare  ...          355   \n\n     discharge_date  medication  test_results         DOB is_female  \\\n0        2022-12-01     Aspirin  Inconclusive  1984-09-30      True   \n1        2022-12-01     Aspirin  Inconclusive  1984-09-30      True   \n2        2022-12-01     Aspirin  Inconclusive  1984-09-30      True   \n3        2022-12-01     Aspirin  Inconclusive  1984-09-30      True   \n4        2022-12-01     Aspirin  Inconclusive  1984-09-30      True   \n..              ...         ...           ...         ...       ...   \n994      2021-04-05  Penicillin      Abnormal  1998-06-10      True   \n995      2021-04-05  Penicillin      Abnormal  1998-06-10      True   \n996      2021-04-05  Penicillin      Abnormal  1998-06-10      True   \n997      2021-04-05  Penicillin      Abnormal  1998-06-10      True   \n998      2021-04-05  Penicillin      Abnormal  1998-06-10      True   \n\n     is_pediatric  sub_level_admission    stay_type  \\\n0           False            maternity    inpatient   \n1           False            maternity  day_patient   \n2           False          orthopedics    inpatient   \n3           False          orthopedics  day_patient   \n4           False           obstetrics    inpatient   \n..            ...                  ...          ...   \n994         False           obstetrics    inpatient   \n995         False        ophthalmology  day_patient   \n996         False        ophthalmology   outpatient   \n997         False           geriatrics    inpatient   \n998         False           geriatrics   outpatient   \n\n                                        possible_tests  \n0    [Ultrasound, Blood tests, Glucose tolerance te...  \n1    [Ultrasound, Blood tests, Glucose tolerance te...  \n2     [X-rays, MRI, CT scans, Bone scans, Blood tests]  \n3     [X-rays, MRI, CT scans, Bone scans, Blood tests]  \n4    [Ultrasound, Blood tests, Glucose tolerance te...  \n..                                                 ...  \n994  [Ultrasound, Blood tests, Glucose tolerance te...  \n995  [Eye exam, Tonometry (eye pressure test), Reti...  \n996  [Eye exam, Tonometry (eye pressure test), Reti...  \n997  [Comprehensive geriatric assessment, Blood tes...  \n998  [Comprehensive geriatric assessment, Blood tes...  \n\n[999 rows x 21 columns]",
      "text/html": "<div>\n<style scoped>\n    .dataframe tbody tr th:only-of-type {\n        vertical-align: middle;\n    }\n\n    .dataframe tbody tr th {\n        vertical-align: top;\n    }\n\n    .dataframe thead th {\n        text-align: right;\n    }\n</style>\n<table border=\"1\" class=\"dataframe\">\n  <thead>\n    <tr style=\"text-align: right;\">\n      <th></th>\n      <th>top_level_admission</th>\n      <th>name</th>\n      <th>Age</th>\n      <th>gender</th>\n      <th>blood_type</th>\n      <th>medical_condition</th>\n      <th>date_of_admission</th>\n      <th>doctor</th>\n      <th>hospital</th>\n      <th>insurance_provider</th>\n      <th>...</th>\n      <th>room_number</th>\n      <th>discharge_date</th>\n      <th>medication</th>\n      <th>test_results</th>\n      <th>DOB</th>\n      <th>is_female</th>\n      <th>is_pediatric</th>\n      <th>sub_level_admission</th>\n      <th>stay_type</th>\n      <th>possible_tests</th>\n    </tr>\n  </thead>\n  <tbody>\n    <tr>\n      <th>0</th>\n      <td>elective</td>\n      <td>Tiffany Ramirez</td>\n      <td>39</td>\n      <td>Female</td>\n      <td>O-</td>\n      <td>Diabetes</td>\n      <td>2022-11-17</td>\n      <td>Patrick Parker</td>\n      <td>Wallace-Hamilton</td>\n      <td>Medicare</td>\n      <td>...</td>\n      <td>146</td>\n      <td>2022-12-01</td>\n      <td>Aspirin</td>\n      <td>Inconclusive</td>\n      <td>1984-09-30</td>\n      <td>True</td>\n      <td>False</td>\n      <td>maternity</td>\n      <td>inpatient</td>\n      <td>[Ultrasound, Blood tests, Glucose tolerance te...</td>\n    </tr>\n    <tr>\n      <th>1</th>\n      <td>elective</td>\n      <td>Tiffany Ramirez</td>\n      <td>39</td>\n      <td>Female</td>\n      <td>O-</td>\n      <td>Diabetes</td>\n      <td>2022-11-17</td>\n      <td>Patrick Parker</td>\n      <td>Wallace-Hamilton</td>\n      <td>Medicare</td>\n      <td>...</td>\n      <td>146</td>\n      <td>2022-12-01</td>\n      <td>Aspirin</td>\n      <td>Inconclusive</td>\n      <td>1984-09-30</td>\n      <td>True</td>\n      <td>False</td>\n      <td>maternity</td>\n      <td>day_patient</td>\n      <td>[Ultrasound, Blood tests, Glucose tolerance te...</td>\n    </tr>\n    <tr>\n      <th>2</th>\n      <td>elective</td>\n      <td>Tiffany Ramirez</td>\n      <td>39</td>\n      <td>Female</td>\n      <td>O-</td>\n      <td>Diabetes</td>\n      <td>2022-11-17</td>\n      <td>Patrick Parker</td>\n      <td>Wallace-Hamilton</td>\n      <td>Medicare</td>\n      <td>...</td>\n      <td>146</td>\n      <td>2022-12-01</td>\n      <td>Aspirin</td>\n      <td>Inconclusive</td>\n      <td>1984-09-30</td>\n      <td>True</td>\n      <td>False</td>\n      <td>orthopedics</td>\n      <td>inpatient</td>\n      <td>[X-rays, MRI, CT scans, Bone scans, Blood tests]</td>\n    </tr>\n    <tr>\n      <th>3</th>\n      <td>elective</td>\n      <td>Tiffany Ramirez</td>\n      <td>39</td>\n      <td>Female</td>\n      <td>O-</td>\n      <td>Diabetes</td>\n      <td>2022-11-17</td>\n      <td>Patrick Parker</td>\n      <td>Wallace-Hamilton</td>\n      <td>Medicare</td>\n      <td>...</td>\n      <td>146</td>\n      <td>2022-12-01</td>\n      <td>Aspirin</td>\n      <td>Inconclusive</td>\n      <td>1984-09-30</td>\n      <td>True</td>\n      <td>False</td>\n      <td>orthopedics</td>\n      <td>day_patient</td>\n      <td>[X-rays, MRI, CT scans, Bone scans, Blood tests]</td>\n    </tr>\n    <tr>\n      <th>4</th>\n      <td>elective</td>\n      <td>Tiffany Ramirez</td>\n      <td>39</td>\n      <td>Female</td>\n      <td>O-</td>\n      <td>Diabetes</td>\n      <td>2022-11-17</td>\n      <td>Patrick Parker</td>\n      <td>Wallace-Hamilton</td>\n      <td>Medicare</td>\n      <td>...</td>\n      <td>146</td>\n      <td>2022-12-01</td>\n      <td>Aspirin</td>\n      <td>Inconclusive</td>\n      <td>1984-09-30</td>\n      <td>True</td>\n      <td>False</td>\n      <td>obstetrics</td>\n      <td>inpatient</td>\n      <td>[Ultrasound, Blood tests, Glucose tolerance te...</td>\n    </tr>\n    <tr>\n      <th>...</th>\n      <td>...</td>\n      <td>...</td>\n      <td>...</td>\n      <td>...</td>\n      <td>...</td>\n      <td>...</td>\n      <td>...</td>\n      <td>...</td>\n      <td>...</td>\n      <td>...</td>\n      <td>...</td>\n      <td>...</td>\n      <td>...</td>\n      <td>...</td>\n      <td>...</td>\n      <td>...</td>\n      <td>...</td>\n      <td>...</td>\n      <td>...</td>\n      <td>...</td>\n      <td>...</td>\n    </tr>\n    <tr>\n      <th>994</th>\n      <td>elective</td>\n      <td>David Boyd</td>\n      <td>25</td>\n      <td>Female</td>\n      <td>AB-</td>\n      <td>Cancer</td>\n      <td>2021-03-07</td>\n      <td>Kyle Miller</td>\n      <td>Caldwell, Patton and Scott</td>\n      <td>Medicare</td>\n      <td>...</td>\n      <td>355</td>\n      <td>2021-04-05</td>\n      <td>Penicillin</td>\n      <td>Abnormal</td>\n      <td>1998-06-10</td>\n      <td>True</td>\n      <td>False</td>\n      <td>obstetrics</td>\n      <td>inpatient</td>\n      <td>[Ultrasound, Blood tests, Glucose tolerance te...</td>\n    </tr>\n    <tr>\n      <th>995</th>\n      <td>elective</td>\n      <td>David Boyd</td>\n      <td>25</td>\n      <td>Female</td>\n      <td>AB-</td>\n      <td>Cancer</td>\n      <td>2021-03-07</td>\n      <td>Kyle Miller</td>\n      <td>Caldwell, Patton and Scott</td>\n      <td>Medicare</td>\n      <td>...</td>\n      <td>355</td>\n      <td>2021-04-05</td>\n      <td>Penicillin</td>\n      <td>Abnormal</td>\n      <td>1998-06-10</td>\n      <td>True</td>\n      <td>False</td>\n      <td>ophthalmology</td>\n      <td>day_patient</td>\n      <td>[Eye exam, Tonometry (eye pressure test), Reti...</td>\n    </tr>\n    <tr>\n      <th>996</th>\n      <td>elective</td>\n      <td>David Boyd</td>\n      <td>25</td>\n      <td>Female</td>\n      <td>AB-</td>\n      <td>Cancer</td>\n      <td>2021-03-07</td>\n      <td>Kyle Miller</td>\n      <td>Caldwell, Patton and Scott</td>\n      <td>Medicare</td>\n      <td>...</td>\n      <td>355</td>\n      <td>2021-04-05</td>\n      <td>Penicillin</td>\n      <td>Abnormal</td>\n      <td>1998-06-10</td>\n      <td>True</td>\n      <td>False</td>\n      <td>ophthalmology</td>\n      <td>outpatient</td>\n      <td>[Eye exam, Tonometry (eye pressure test), Reti...</td>\n    </tr>\n    <tr>\n      <th>997</th>\n      <td>elective</td>\n      <td>David Boyd</td>\n      <td>25</td>\n      <td>Female</td>\n      <td>AB-</td>\n      <td>Cancer</td>\n      <td>2021-03-07</td>\n      <td>Kyle Miller</td>\n      <td>Caldwell, Patton and Scott</td>\n      <td>Medicare</td>\n      <td>...</td>\n      <td>355</td>\n      <td>2021-04-05</td>\n      <td>Penicillin</td>\n      <td>Abnormal</td>\n      <td>1998-06-10</td>\n      <td>True</td>\n      <td>False</td>\n      <td>geriatrics</td>\n      <td>inpatient</td>\n      <td>[Comprehensive geriatric assessment, Blood tes...</td>\n    </tr>\n    <tr>\n      <th>998</th>\n      <td>elective</td>\n      <td>David Boyd</td>\n      <td>25</td>\n      <td>Female</td>\n      <td>AB-</td>\n      <td>Cancer</td>\n      <td>2021-03-07</td>\n      <td>Kyle Miller</td>\n      <td>Caldwell, Patton and Scott</td>\n      <td>Medicare</td>\n      <td>...</td>\n      <td>355</td>\n      <td>2021-04-05</td>\n      <td>Penicillin</td>\n      <td>Abnormal</td>\n      <td>1998-06-10</td>\n      <td>True</td>\n      <td>False</td>\n      <td>geriatrics</td>\n      <td>outpatient</td>\n      <td>[Comprehensive geriatric assessment, Blood tes...</td>\n    </tr>\n  </tbody>\n</table>\n<p>999 rows × 21 columns</p>\n</div>"
     },
     "metadata": {},
     "output_type": "display_data"
    }
   ],
   "source": [
    "\"\"\"\n",
    "STEP 2 \n",
    "    Create a list of admission_types randomly assign this to the original patient in the original data set, \n",
    "    whilst dropping the original admission_type column. Then join with mapping_df on top_level_admission col to give access to possible \n",
    "    conditions, mappings and so on.\n",
    "\"\"\"\n",
    "admission_types = list(admission_mapping.keys())\n",
    "\n",
    "print(admission_types)\n",
    "\n",
    "keys_array = array([lit(key) for key in admission_types])\n",
    "\n",
    "# Define constants and conditions\n",
    "female_only = ['maternity', 'obstetrics']\n",
    "is_female = lower(col('gender')) == 'female'\n",
    "is_pediatric = col(\"Age\") < 18\n",
    "is_geriatric = (col(\"Age\") >= 65) & (col(\"sub_level_admission\") == \"geriatrics\")\n",
    "\n",
    "df = (df.withColumn(\"top_level_admission\", keys_array[floor(rand() * len(admission_types))]).drop(\"admission_type\")\n",
    "        .withColumn(\"is_female\", is_female)\n",
    "        .withColumn(\"is_pediatric\", is_pediatric)\n",
    "      )\n",
    "get_row_count(df, True)\n",
    "df = df.join(mapping_df, \"top_level_admission\", \"inner\")\n",
    "get_row_count(df, True)\n",
    "display_df(df, 999)"
   ],
   "metadata": {
    "collapsed": false,
    "ExecuteTime": {
     "end_time": "2024-02-11T21:08:51.799009Z",
     "start_time": "2024-02-11T21:08:44.961403Z"
    }
   },
   "id": "b51112bb4b4cff7a"
  },
  {
   "cell_type": "code",
   "execution_count": 12,
   "outputs": [],
   "source": [
    "\"\"\"\n",
    "STEP 3 \n",
    "    Create a rowq ranking using a unique cols, created from stay_name and unique_id. \n",
    "    Verification done below. \n",
    "    \n",
    "\"\"\"\n",
    "\n",
    "df =  df.withColumn('stay_name', \n",
    "                   when(col('stay_type') == 'out_patient', concat(col('name'), lit('_out_patient')))\n",
    "                   .when(col('stay_type') == 'inpatient', concat(col('name'), lit('_inpatient')))\n",
    "                   .when(col('stay_type') == 'day_patient', concat(col('name'), lit('_day_patient')))\n",
    "                   .otherwise(col('name'))\n",
    "                  ).withColumn(\"unique_id\", concat_ws(\"_\", \"name\", date_format(\"DOB\", \"yyyyMMdd\")))\n",
    "\n",
    "\n",
    "# Define a window specification that partitions data by 'top_level_admission' (or another unique patient identifier if needed)\n",
    "windowSpec = Window.partitionBy('stay_name', 'unique_id').orderBy(rand())\n",
    "\n",
    "# Assign row numbers within each partition in a random order\n",
    "ranked_df = df.withColumn(\"row_num\", row_number().over(windowSpec))\n"
   ],
   "metadata": {
    "collapsed": false,
    "ExecuteTime": {
     "end_time": "2024-02-11T21:08:56.593831Z",
     "start_time": "2024-02-11T21:08:56.493859Z"
    }
   },
   "id": "e039e0ce5ff0816d"
  },
  {
   "cell_type": "code",
   "execution_count": 53,
   "outputs": [],
   "source": [
    "ranked_df.createGlobalTempView(\"ranked_df\")\n",
    "\n",
    "unique_dobs_df = spark.sql(\"\"\"\n",
    "WITH NameCounts AS (\n",
    "    SELECT name\n",
    "    FROM global_temp.ranked_df\n",
    ")\n",
    "\n",
    "SELECT DISTINCT r.name, r.unique_id\n",
    "FROM global_temp.ranked_df r\n",
    "JOIN NameCounts n ON r.name = n.name\n",
    "ORDER BY r.name\n",
    "LIMIT 10\n",
    "\"\"\")"
   ],
   "metadata": {
    "collapsed": false,
    "ExecuteTime": {
     "end_time": "2024-02-11T21:52:00.770853Z",
     "start_time": "2024-02-11T21:52:00.672451Z"
    }
   },
   "id": "e16046564d50a89a"
  },
  {
   "cell_type": "code",
   "execution_count": 54,
   "outputs": [
    {
     "name": "stderr",
     "output_type": "stream",
     "text": [
      "                                                                                \r"
     ]
    }
   ],
   "source": [
    "from pyspark.sql import DataFrame\n",
    "\n",
    "# COSTLY WAY TO VERIFY THAT THE RANK WORKS BELOW.... \n",
    "\n",
    "def verify_ranking_counts(_df: DataFrame, ranked_df: DataFrame, names: list, unique_ids: list):\n",
    "    for name, unique_id in zip(names, unique_ids):\n",
    "        # Define filter conditions\n",
    "        name_condition = col(\"name\") == name\n",
    "        unique_id_condition = col(\"unique_id\") == unique_id\n",
    "        stay_name_condition = col(\"stay_name\").like(f\"{name}_%\")\n",
    "\n",
    "        df_filtered_count = (_df\n",
    "                             .filter(name_condition & unique_id_condition & stay_name_condition)\n",
    "                             .count())\n",
    "\n",
    "        ranked_df_filtered_count = (ranked_df\n",
    "                                    .filter(name_condition & unique_id_condition & stay_name_condition)\n",
    "                                    .count())\n",
    "\n",
    "        # Assert that the counts are equal for each name-unique_id pair\n",
    "        assert df_filtered_count == ranked_df_filtered_count, f\"The number of matching rows for {name} with unique ID {unique_id} should be the same in both DataFrames.\"\n",
    "\n",
    "# Example usage:\n",
    "unique_names = [row['name'] for row in unique_dobs_df.select(\"name\").collect()]\n",
    "unique_ids = [row['unique_id'] for row in unique_dobs_df.select(\"unique_id\").collect()]\n",
    "verify_ranking_counts(df, ranked_df, unique_names, unique_ids)"
   ],
   "metadata": {
    "collapsed": false,
    "ExecuteTime": {
     "end_time": "2024-02-11T21:52:13.609738Z",
     "start_time": "2024-02-11T21:52:01.524072Z"
    }
   },
   "id": "e8a7e1a934ab2401"
  },
  {
   "cell_type": "code",
   "execution_count": 52,
   "outputs": [
    {
     "name": "stdout",
     "output_type": "stream",
     "text": [
      "0\n"
     ]
    }
   ],
   "source": [
    "def verify_ranking(_df: DataFrame, ranked_df: DataFrame):\n",
    "    joined_df = _df.alias(\"df\").join(\n",
    "        ranked_df.alias(\"ranked\"),\n",
    "       \n",
    "       (col(\"df.unique_id\") == col(\"ranked.unique_id\")),\n",
    "        \"inner\"\n",
    "    )\n",
    "\n",
    "    verification_df = joined_df.select(\n",
    "       col(\"df.unique_id\")\n",
    "    ).distinct().groupBy(\"unique_id\").agg(\n",
    "        count(\"unique_id\").alias(\"unique_id_count\")\n",
    "    )\n",
    "\n",
    "    # Check if any name has a mismatch in the count of unique IDs\n",
    "    mismatch_count = verification_df.filter(\"unique_id_count > 1\").count()\n",
    "\n",
    "    # Assert that there are no mismatches\n",
    "    assert mismatch_count == 0, f\"There are names with mismatched unique ID counts. mismatch_count: {mismatch_count}\"\n",
    "\n",
    "verify_ranking(df, ranked_df)\n"
   ],
   "metadata": {
    "collapsed": false,
    "ExecuteTime": {
     "end_time": "2024-02-11T21:51:37.353288Z",
     "start_time": "2024-02-11T21:51:35.536198Z"
    }
   },
   "id": "2a76a593168901f0"
  },
  {
   "cell_type": "code",
   "execution_count": 60,
   "outputs": [
    {
     "name": "stderr",
     "output_type": "stream",
     "text": [
      "                                                                                \r"
     ]
    }
   ],
   "source": [
    "\"\"\"\n",
    "Step 4: \n",
    "    Sort out geriatrics data and verify that individuals are not geriatrics \n",
    "\"\"\"\n",
    "\n",
    "not_geriatric_df = ranked_df.withColumn(\"is_geriatric\", is_geriatric).where((col('sub_level_admission') == 'geriatrics') &( col(\"is_geriatric\") == False))\n",
    "\n",
    "ranked_tot = get_row_count(ranked_df)\n",
    "geriatric_tot = get_row_count(not_geriatric_df)\n",
    "\n",
    "filtered_df = ranked_df.join(not_geriatric_df, on= ['sub_level_admission', 'DOB'], how=\"left_anti\")\n",
    "\n",
    "filtered_tot = get_row_count(filtered_df)\n",
    "\n",
    "assert filtered_tot == ranked_tot - geriatric_tot, \"Row counts do not match expected value\"\n",
    "\n",
    "# checks the above calculation\n",
    "assert get_row_count(filtered_df.where((col('sub_level_admission') == 'geriatrics') &( col(\"is_geriatric\") == False))) == 0"
   ],
   "metadata": {
    "collapsed": false,
    "ExecuteTime": {
     "end_time": "2024-02-11T21:55:43.143715Z",
     "start_time": "2024-02-11T21:55:38.760388Z"
    }
   },
   "id": "9746b1d222d3d1ea"
  },
  {
   "cell_type": "code",
   "execution_count": null,
   "outputs": [],
   "source": [
    "# TODO filter on is pediatric, geriatric and is_female to be done here and same people with dob? needs  to be considered "
   ],
   "metadata": {
    "collapsed": false
   },
   "id": "a6c3ad275ded5720"
  },
  {
   "cell_type": "code",
   "execution_count": 70,
   "outputs": [],
   "source": [
    "assert get_row_count(ranked_df.where((col(\"gender\") == \"Male\") & (col(\"is_female\") == True))) == 0\n",
    "\n",
    "not_female_df = filtered_df.where((col(\"sub_level_admission\").isin(female_only)) & (col(\"is_female\") == False))\n",
    "\n",
    "assert  not_female_df.where((col(\"gender\") == \"Female\") & (col(\"is_female\") == True)).count() == 0"
   ],
   "metadata": {
    "collapsed": false,
    "ExecuteTime": {
     "end_time": "2024-02-11T22:17:14.175874Z",
     "start_time": "2024-02-11T22:17:14.019321Z"
    }
   },
   "id": "98464e3c079c1e34"
  },
  {
   "cell_type": "code",
   "execution_count": 77,
   "outputs": [
    {
     "name": "stderr",
     "output_type": "stream",
     "text": [
      "                                                                                \r"
     ]
    },
    {
     "data": {
      "text/plain": "   sub_level_admission         DOB top_level_admission            name  Age  \\\n0            maternity  1978-06-05            elective  Aaron Hamilton   45   \n1            maternity  1978-06-05            elective  Aaron Hamilton   45   \n2           obstetrics  1978-06-05            elective  Aaron Hamilton   45   \n3            maternity  1995-08-24            elective    Aaron Hughes   28   \n4           obstetrics  1995-08-24            elective    Aaron Hughes   28   \n5            maternity  1995-08-24            elective    Aaron Hughes   28   \n6            maternity  1983-07-07            elective    Aaron Miller   40   \n7           obstetrics  1983-07-07            elective    Aaron Miller   40   \n8            maternity  1983-07-07            elective    Aaron Miller   40   \n9            maternity  1951-07-03            elective    Abigail Horn   72   \n10           maternity  1951-07-03            elective    Abigail Horn   72   \n11          obstetrics  1951-07-03            elective    Abigail Horn   72   \n12           maternity  2019-07-01            elective  Abigail Wilson    4   \n13          obstetrics  2019-07-01            elective  Abigail Wilson    4   \n14           maternity  2019-07-01            elective  Abigail Wilson    4   \n15           maternity  1987-04-26            elective   Abigail Young   36   \n16           maternity  1987-04-26            elective   Abigail Young   36   \n17          obstetrics  1987-04-26            elective   Abigail Young   36   \n18           maternity  2010-11-30            elective     Adam Bryant   13   \n19          obstetrics  2010-11-30            elective     Adam Bryant   13   \n\n   gender blood_type medical_condition date_of_admission               doctor  \\\n0    Male         B-      Hypertension        2022-08-21       Traci Williams   \n1    Male         B-      Hypertension        2022-08-21       Traci Williams   \n2    Male         B-      Hypertension        2022-08-21       Traci Williams   \n3    Male         O-            Asthma        2020-12-04           Scott Beck   \n4    Male         O-            Asthma        2020-12-04           Scott Beck   \n5    Male         O-            Asthma        2020-12-04           Scott Beck   \n6    Male         A+         Arthritis        2020-09-27         Matthew Mora   \n7    Male         A+         Arthritis        2020-09-27         Matthew Mora   \n8    Male         A+         Arthritis        2020-09-27         Matthew Mora   \n9    Male        AB+          Diabetes        2021-10-26    Elizabeth Flowers   \n10   Male        AB+          Diabetes        2021-10-26    Elizabeth Flowers   \n11   Male        AB+          Diabetes        2021-10-26    Elizabeth Flowers   \n12   Male        AB+      Hypertension        2021-06-15          Sara Adkins   \n13   Male        AB+      Hypertension        2021-06-15          Sara Adkins   \n14   Male        AB+      Hypertension        2021-06-15          Sara Adkins   \n15   Male         A+            Cancer        2019-06-07   Christopher Carter   \n16   Male         A+            Cancer        2019-06-07   Christopher Carter   \n17   Male         A+            Cancer        2019-06-07   Christopher Carter   \n18   Male         A-          Diabetes        2021-04-02  Miss Kayla Ruiz DVM   \n19   Male         A-          Diabetes        2021-04-02  Miss Kayla Ruiz DVM   \n\n    ...   medication test_results  is_female  is_pediatric    stay_type  \\\n0   ...    Ibuprofen     Abnormal      False         False  day_patient   \n1   ...    Ibuprofen     Abnormal      False         False    inpatient   \n2   ...    Ibuprofen     Abnormal      False         False    inpatient   \n3   ...      Aspirin     Abnormal      False         False  day_patient   \n4   ...      Aspirin     Abnormal      False         False    inpatient   \n5   ...      Aspirin     Abnormal      False         False    inpatient   \n6   ...  Paracetamol       Normal      False         False  day_patient   \n7   ...  Paracetamol       Normal      False         False    inpatient   \n8   ...  Paracetamol       Normal      False         False    inpatient   \n9   ...  Paracetamol       Normal      False         False  day_patient   \n10  ...  Paracetamol       Normal      False         False    inpatient   \n11  ...  Paracetamol       Normal      False         False    inpatient   \n12  ...   Penicillin       Normal      False          True  day_patient   \n13  ...   Penicillin       Normal      False          True    inpatient   \n14  ...   Penicillin       Normal      False          True    inpatient   \n15  ...      Lipitor     Abnormal      False         False  day_patient   \n16  ...      Lipitor     Abnormal      False         False    inpatient   \n17  ...      Lipitor     Abnormal      False         False    inpatient   \n18  ...    Ibuprofen     Abnormal      False          True  day_patient   \n19  ...    Ibuprofen     Abnormal      False          True    inpatient   \n\n                                       possible_tests  \\\n0   [Ultrasound, Blood tests, Glucose tolerance te...   \n1   [Ultrasound, Blood tests, Glucose tolerance te...   \n2   [Ultrasound, Blood tests, Glucose tolerance te...   \n3   [Ultrasound, Blood tests, Glucose tolerance te...   \n4   [Ultrasound, Blood tests, Glucose tolerance te...   \n5   [Ultrasound, Blood tests, Glucose tolerance te...   \n6   [Ultrasound, Blood tests, Glucose tolerance te...   \n7   [Ultrasound, Blood tests, Glucose tolerance te...   \n8   [Ultrasound, Blood tests, Glucose tolerance te...   \n9   [Ultrasound, Blood tests, Glucose tolerance te...   \n10  [Ultrasound, Blood tests, Glucose tolerance te...   \n11  [Ultrasound, Blood tests, Glucose tolerance te...   \n12  [Ultrasound, Blood tests, Glucose tolerance te...   \n13  [Ultrasound, Blood tests, Glucose tolerance te...   \n14  [Ultrasound, Blood tests, Glucose tolerance te...   \n15  [Ultrasound, Blood tests, Glucose tolerance te...   \n16  [Ultrasound, Blood tests, Glucose tolerance te...   \n17  [Ultrasound, Blood tests, Glucose tolerance te...   \n18  [Ultrasound, Blood tests, Glucose tolerance te...   \n19  [Ultrasound, Blood tests, Glucose tolerance te...   \n\n                     stay_name                unique_id  is_geriatric row_num  \n0   Aaron Hamilton_day_patient  Aaron Hamilton_19780605         False       3  \n1     Aaron Hamilton_inpatient  Aaron Hamilton_19780605         False       1  \n2     Aaron Hamilton_inpatient  Aaron Hamilton_19780605         False       3  \n3     Aaron Hughes_day_patient    Aaron Hughes_19950824         False       3  \n4       Aaron Hughes_inpatient    Aaron Hughes_19950824         False       1  \n5       Aaron Hughes_inpatient    Aaron Hughes_19950824         False       2  \n6     Aaron Miller_day_patient    Aaron Miller_19830707         False       3  \n7       Aaron Miller_inpatient    Aaron Miller_19830707         False       1  \n8       Aaron Miller_inpatient    Aaron Miller_19830707         False       3  \n9     Abigail Horn_day_patient    Abigail Horn_19510703         False       3  \n10      Abigail Horn_inpatient    Abigail Horn_19510703         False       2  \n11      Abigail Horn_inpatient    Abigail Horn_19510703         False       3  \n12  Abigail Wilson_day_patient  Abigail Wilson_20190701         False       1  \n13    Abigail Wilson_inpatient  Abigail Wilson_20190701         False       1  \n14    Abigail Wilson_inpatient  Abigail Wilson_20190701         False       2  \n15   Abigail Young_day_patient   Abigail Young_19870426         False       3  \n16     Abigail Young_inpatient   Abigail Young_19870426         False       2  \n17     Abigail Young_inpatient   Abigail Young_19870426         False       3  \n18     Adam Bryant_day_patient     Adam Bryant_20101130         False       1  \n19       Adam Bryant_inpatient     Adam Bryant_20101130         False       2  \n\n[20 rows x 25 columns]",
      "text/html": "<div>\n<style scoped>\n    .dataframe tbody tr th:only-of-type {\n        vertical-align: middle;\n    }\n\n    .dataframe tbody tr th {\n        vertical-align: top;\n    }\n\n    .dataframe thead th {\n        text-align: right;\n    }\n</style>\n<table border=\"1\" class=\"dataframe\">\n  <thead>\n    <tr style=\"text-align: right;\">\n      <th></th>\n      <th>sub_level_admission</th>\n      <th>DOB</th>\n      <th>top_level_admission</th>\n      <th>name</th>\n      <th>Age</th>\n      <th>gender</th>\n      <th>blood_type</th>\n      <th>medical_condition</th>\n      <th>date_of_admission</th>\n      <th>doctor</th>\n      <th>...</th>\n      <th>medication</th>\n      <th>test_results</th>\n      <th>is_female</th>\n      <th>is_pediatric</th>\n      <th>stay_type</th>\n      <th>possible_tests</th>\n      <th>stay_name</th>\n      <th>unique_id</th>\n      <th>is_geriatric</th>\n      <th>row_num</th>\n    </tr>\n  </thead>\n  <tbody>\n    <tr>\n      <th>0</th>\n      <td>maternity</td>\n      <td>1978-06-05</td>\n      <td>elective</td>\n      <td>Aaron Hamilton</td>\n      <td>45</td>\n      <td>Male</td>\n      <td>B-</td>\n      <td>Hypertension</td>\n      <td>2022-08-21</td>\n      <td>Traci Williams</td>\n      <td>...</td>\n      <td>Ibuprofen</td>\n      <td>Abnormal</td>\n      <td>False</td>\n      <td>False</td>\n      <td>day_patient</td>\n      <td>[Ultrasound, Blood tests, Glucose tolerance te...</td>\n      <td>Aaron Hamilton_day_patient</td>\n      <td>Aaron Hamilton_19780605</td>\n      <td>False</td>\n      <td>3</td>\n    </tr>\n    <tr>\n      <th>1</th>\n      <td>maternity</td>\n      <td>1978-06-05</td>\n      <td>elective</td>\n      <td>Aaron Hamilton</td>\n      <td>45</td>\n      <td>Male</td>\n      <td>B-</td>\n      <td>Hypertension</td>\n      <td>2022-08-21</td>\n      <td>Traci Williams</td>\n      <td>...</td>\n      <td>Ibuprofen</td>\n      <td>Abnormal</td>\n      <td>False</td>\n      <td>False</td>\n      <td>inpatient</td>\n      <td>[Ultrasound, Blood tests, Glucose tolerance te...</td>\n      <td>Aaron Hamilton_inpatient</td>\n      <td>Aaron Hamilton_19780605</td>\n      <td>False</td>\n      <td>1</td>\n    </tr>\n    <tr>\n      <th>2</th>\n      <td>obstetrics</td>\n      <td>1978-06-05</td>\n      <td>elective</td>\n      <td>Aaron Hamilton</td>\n      <td>45</td>\n      <td>Male</td>\n      <td>B-</td>\n      <td>Hypertension</td>\n      <td>2022-08-21</td>\n      <td>Traci Williams</td>\n      <td>...</td>\n      <td>Ibuprofen</td>\n      <td>Abnormal</td>\n      <td>False</td>\n      <td>False</td>\n      <td>inpatient</td>\n      <td>[Ultrasound, Blood tests, Glucose tolerance te...</td>\n      <td>Aaron Hamilton_inpatient</td>\n      <td>Aaron Hamilton_19780605</td>\n      <td>False</td>\n      <td>3</td>\n    </tr>\n    <tr>\n      <th>3</th>\n      <td>maternity</td>\n      <td>1995-08-24</td>\n      <td>elective</td>\n      <td>Aaron Hughes</td>\n      <td>28</td>\n      <td>Male</td>\n      <td>O-</td>\n      <td>Asthma</td>\n      <td>2020-12-04</td>\n      <td>Scott Beck</td>\n      <td>...</td>\n      <td>Aspirin</td>\n      <td>Abnormal</td>\n      <td>False</td>\n      <td>False</td>\n      <td>day_patient</td>\n      <td>[Ultrasound, Blood tests, Glucose tolerance te...</td>\n      <td>Aaron Hughes_day_patient</td>\n      <td>Aaron Hughes_19950824</td>\n      <td>False</td>\n      <td>3</td>\n    </tr>\n    <tr>\n      <th>4</th>\n      <td>obstetrics</td>\n      <td>1995-08-24</td>\n      <td>elective</td>\n      <td>Aaron Hughes</td>\n      <td>28</td>\n      <td>Male</td>\n      <td>O-</td>\n      <td>Asthma</td>\n      <td>2020-12-04</td>\n      <td>Scott Beck</td>\n      <td>...</td>\n      <td>Aspirin</td>\n      <td>Abnormal</td>\n      <td>False</td>\n      <td>False</td>\n      <td>inpatient</td>\n      <td>[Ultrasound, Blood tests, Glucose tolerance te...</td>\n      <td>Aaron Hughes_inpatient</td>\n      <td>Aaron Hughes_19950824</td>\n      <td>False</td>\n      <td>1</td>\n    </tr>\n    <tr>\n      <th>5</th>\n      <td>maternity</td>\n      <td>1995-08-24</td>\n      <td>elective</td>\n      <td>Aaron Hughes</td>\n      <td>28</td>\n      <td>Male</td>\n      <td>O-</td>\n      <td>Asthma</td>\n      <td>2020-12-04</td>\n      <td>Scott Beck</td>\n      <td>...</td>\n      <td>Aspirin</td>\n      <td>Abnormal</td>\n      <td>False</td>\n      <td>False</td>\n      <td>inpatient</td>\n      <td>[Ultrasound, Blood tests, Glucose tolerance te...</td>\n      <td>Aaron Hughes_inpatient</td>\n      <td>Aaron Hughes_19950824</td>\n      <td>False</td>\n      <td>2</td>\n    </tr>\n    <tr>\n      <th>6</th>\n      <td>maternity</td>\n      <td>1983-07-07</td>\n      <td>elective</td>\n      <td>Aaron Miller</td>\n      <td>40</td>\n      <td>Male</td>\n      <td>A+</td>\n      <td>Arthritis</td>\n      <td>2020-09-27</td>\n      <td>Matthew Mora</td>\n      <td>...</td>\n      <td>Paracetamol</td>\n      <td>Normal</td>\n      <td>False</td>\n      <td>False</td>\n      <td>day_patient</td>\n      <td>[Ultrasound, Blood tests, Glucose tolerance te...</td>\n      <td>Aaron Miller_day_patient</td>\n      <td>Aaron Miller_19830707</td>\n      <td>False</td>\n      <td>3</td>\n    </tr>\n    <tr>\n      <th>7</th>\n      <td>obstetrics</td>\n      <td>1983-07-07</td>\n      <td>elective</td>\n      <td>Aaron Miller</td>\n      <td>40</td>\n      <td>Male</td>\n      <td>A+</td>\n      <td>Arthritis</td>\n      <td>2020-09-27</td>\n      <td>Matthew Mora</td>\n      <td>...</td>\n      <td>Paracetamol</td>\n      <td>Normal</td>\n      <td>False</td>\n      <td>False</td>\n      <td>inpatient</td>\n      <td>[Ultrasound, Blood tests, Glucose tolerance te...</td>\n      <td>Aaron Miller_inpatient</td>\n      <td>Aaron Miller_19830707</td>\n      <td>False</td>\n      <td>1</td>\n    </tr>\n    <tr>\n      <th>8</th>\n      <td>maternity</td>\n      <td>1983-07-07</td>\n      <td>elective</td>\n      <td>Aaron Miller</td>\n      <td>40</td>\n      <td>Male</td>\n      <td>A+</td>\n      <td>Arthritis</td>\n      <td>2020-09-27</td>\n      <td>Matthew Mora</td>\n      <td>...</td>\n      <td>Paracetamol</td>\n      <td>Normal</td>\n      <td>False</td>\n      <td>False</td>\n      <td>inpatient</td>\n      <td>[Ultrasound, Blood tests, Glucose tolerance te...</td>\n      <td>Aaron Miller_inpatient</td>\n      <td>Aaron Miller_19830707</td>\n      <td>False</td>\n      <td>3</td>\n    </tr>\n    <tr>\n      <th>9</th>\n      <td>maternity</td>\n      <td>1951-07-03</td>\n      <td>elective</td>\n      <td>Abigail Horn</td>\n      <td>72</td>\n      <td>Male</td>\n      <td>AB+</td>\n      <td>Diabetes</td>\n      <td>2021-10-26</td>\n      <td>Elizabeth Flowers</td>\n      <td>...</td>\n      <td>Paracetamol</td>\n      <td>Normal</td>\n      <td>False</td>\n      <td>False</td>\n      <td>day_patient</td>\n      <td>[Ultrasound, Blood tests, Glucose tolerance te...</td>\n      <td>Abigail Horn_day_patient</td>\n      <td>Abigail Horn_19510703</td>\n      <td>False</td>\n      <td>3</td>\n    </tr>\n    <tr>\n      <th>10</th>\n      <td>maternity</td>\n      <td>1951-07-03</td>\n      <td>elective</td>\n      <td>Abigail Horn</td>\n      <td>72</td>\n      <td>Male</td>\n      <td>AB+</td>\n      <td>Diabetes</td>\n      <td>2021-10-26</td>\n      <td>Elizabeth Flowers</td>\n      <td>...</td>\n      <td>Paracetamol</td>\n      <td>Normal</td>\n      <td>False</td>\n      <td>False</td>\n      <td>inpatient</td>\n      <td>[Ultrasound, Blood tests, Glucose tolerance te...</td>\n      <td>Abigail Horn_inpatient</td>\n      <td>Abigail Horn_19510703</td>\n      <td>False</td>\n      <td>2</td>\n    </tr>\n    <tr>\n      <th>11</th>\n      <td>obstetrics</td>\n      <td>1951-07-03</td>\n      <td>elective</td>\n      <td>Abigail Horn</td>\n      <td>72</td>\n      <td>Male</td>\n      <td>AB+</td>\n      <td>Diabetes</td>\n      <td>2021-10-26</td>\n      <td>Elizabeth Flowers</td>\n      <td>...</td>\n      <td>Paracetamol</td>\n      <td>Normal</td>\n      <td>False</td>\n      <td>False</td>\n      <td>inpatient</td>\n      <td>[Ultrasound, Blood tests, Glucose tolerance te...</td>\n      <td>Abigail Horn_inpatient</td>\n      <td>Abigail Horn_19510703</td>\n      <td>False</td>\n      <td>3</td>\n    </tr>\n    <tr>\n      <th>12</th>\n      <td>maternity</td>\n      <td>2019-07-01</td>\n      <td>elective</td>\n      <td>Abigail Wilson</td>\n      <td>4</td>\n      <td>Male</td>\n      <td>AB+</td>\n      <td>Hypertension</td>\n      <td>2021-06-15</td>\n      <td>Sara Adkins</td>\n      <td>...</td>\n      <td>Penicillin</td>\n      <td>Normal</td>\n      <td>False</td>\n      <td>True</td>\n      <td>day_patient</td>\n      <td>[Ultrasound, Blood tests, Glucose tolerance te...</td>\n      <td>Abigail Wilson_day_patient</td>\n      <td>Abigail Wilson_20190701</td>\n      <td>False</td>\n      <td>1</td>\n    </tr>\n    <tr>\n      <th>13</th>\n      <td>obstetrics</td>\n      <td>2019-07-01</td>\n      <td>elective</td>\n      <td>Abigail Wilson</td>\n      <td>4</td>\n      <td>Male</td>\n      <td>AB+</td>\n      <td>Hypertension</td>\n      <td>2021-06-15</td>\n      <td>Sara Adkins</td>\n      <td>...</td>\n      <td>Penicillin</td>\n      <td>Normal</td>\n      <td>False</td>\n      <td>True</td>\n      <td>inpatient</td>\n      <td>[Ultrasound, Blood tests, Glucose tolerance te...</td>\n      <td>Abigail Wilson_inpatient</td>\n      <td>Abigail Wilson_20190701</td>\n      <td>False</td>\n      <td>1</td>\n    </tr>\n    <tr>\n      <th>14</th>\n      <td>maternity</td>\n      <td>2019-07-01</td>\n      <td>elective</td>\n      <td>Abigail Wilson</td>\n      <td>4</td>\n      <td>Male</td>\n      <td>AB+</td>\n      <td>Hypertension</td>\n      <td>2021-06-15</td>\n      <td>Sara Adkins</td>\n      <td>...</td>\n      <td>Penicillin</td>\n      <td>Normal</td>\n      <td>False</td>\n      <td>True</td>\n      <td>inpatient</td>\n      <td>[Ultrasound, Blood tests, Glucose tolerance te...</td>\n      <td>Abigail Wilson_inpatient</td>\n      <td>Abigail Wilson_20190701</td>\n      <td>False</td>\n      <td>2</td>\n    </tr>\n    <tr>\n      <th>15</th>\n      <td>maternity</td>\n      <td>1987-04-26</td>\n      <td>elective</td>\n      <td>Abigail Young</td>\n      <td>36</td>\n      <td>Male</td>\n      <td>A+</td>\n      <td>Cancer</td>\n      <td>2019-06-07</td>\n      <td>Christopher Carter</td>\n      <td>...</td>\n      <td>Lipitor</td>\n      <td>Abnormal</td>\n      <td>False</td>\n      <td>False</td>\n      <td>day_patient</td>\n      <td>[Ultrasound, Blood tests, Glucose tolerance te...</td>\n      <td>Abigail Young_day_patient</td>\n      <td>Abigail Young_19870426</td>\n      <td>False</td>\n      <td>3</td>\n    </tr>\n    <tr>\n      <th>16</th>\n      <td>maternity</td>\n      <td>1987-04-26</td>\n      <td>elective</td>\n      <td>Abigail Young</td>\n      <td>36</td>\n      <td>Male</td>\n      <td>A+</td>\n      <td>Cancer</td>\n      <td>2019-06-07</td>\n      <td>Christopher Carter</td>\n      <td>...</td>\n      <td>Lipitor</td>\n      <td>Abnormal</td>\n      <td>False</td>\n      <td>False</td>\n      <td>inpatient</td>\n      <td>[Ultrasound, Blood tests, Glucose tolerance te...</td>\n      <td>Abigail Young_inpatient</td>\n      <td>Abigail Young_19870426</td>\n      <td>False</td>\n      <td>2</td>\n    </tr>\n    <tr>\n      <th>17</th>\n      <td>obstetrics</td>\n      <td>1987-04-26</td>\n      <td>elective</td>\n      <td>Abigail Young</td>\n      <td>36</td>\n      <td>Male</td>\n      <td>A+</td>\n      <td>Cancer</td>\n      <td>2019-06-07</td>\n      <td>Christopher Carter</td>\n      <td>...</td>\n      <td>Lipitor</td>\n      <td>Abnormal</td>\n      <td>False</td>\n      <td>False</td>\n      <td>inpatient</td>\n      <td>[Ultrasound, Blood tests, Glucose tolerance te...</td>\n      <td>Abigail Young_inpatient</td>\n      <td>Abigail Young_19870426</td>\n      <td>False</td>\n      <td>3</td>\n    </tr>\n    <tr>\n      <th>18</th>\n      <td>maternity</td>\n      <td>2010-11-30</td>\n      <td>elective</td>\n      <td>Adam Bryant</td>\n      <td>13</td>\n      <td>Male</td>\n      <td>A-</td>\n      <td>Diabetes</td>\n      <td>2021-04-02</td>\n      <td>Miss Kayla Ruiz DVM</td>\n      <td>...</td>\n      <td>Ibuprofen</td>\n      <td>Abnormal</td>\n      <td>False</td>\n      <td>True</td>\n      <td>day_patient</td>\n      <td>[Ultrasound, Blood tests, Glucose tolerance te...</td>\n      <td>Adam Bryant_day_patient</td>\n      <td>Adam Bryant_20101130</td>\n      <td>False</td>\n      <td>1</td>\n    </tr>\n    <tr>\n      <th>19</th>\n      <td>obstetrics</td>\n      <td>2010-11-30</td>\n      <td>elective</td>\n      <td>Adam Bryant</td>\n      <td>13</td>\n      <td>Male</td>\n      <td>A-</td>\n      <td>Diabetes</td>\n      <td>2021-04-02</td>\n      <td>Miss Kayla Ruiz DVM</td>\n      <td>...</td>\n      <td>Ibuprofen</td>\n      <td>Abnormal</td>\n      <td>False</td>\n      <td>True</td>\n      <td>inpatient</td>\n      <td>[Ultrasound, Blood tests, Glucose tolerance te...</td>\n      <td>Adam Bryant_inpatient</td>\n      <td>Adam Bryant_20101130</td>\n      <td>False</td>\n      <td>2</td>\n    </tr>\n  </tbody>\n</table>\n<p>20 rows × 25 columns</p>\n</div>"
     },
     "metadata": {},
     "output_type": "display_data"
    }
   ],
   "source": [
    "display_df(not_female_df)"
   ],
   "metadata": {
    "collapsed": false,
    "ExecuteTime": {
     "end_time": "2024-02-11T22:19:51.505822Z",
     "start_time": "2024-02-11T22:19:49.504830Z"
    }
   },
   "id": "c01ca418c35a5169"
  },
  {
   "cell_type": "code",
   "execution_count": 88,
   "outputs": [
    {
     "name": "stderr",
     "output_type": "stream",
     "text": [
      "                                                                                \r"
     ]
    },
    {
     "name": "stdout",
     "output_type": "stream",
     "text": [
      "81354\n"
     ]
    },
    {
     "name": "stderr",
     "output_type": "stream",
     "text": [
      "                                                                                \r"
     ]
    }
   ],
   "source": [
    "not_female_tot = get_row_count(not_female_df)\n",
    "\n",
    "filtered_df_female = filtered_df.join(not_female_df, on=['sub_level_admission', 'DOB'], how = 'left_anti')\n",
    "\n",
    "filtered_female_tot = get_row_count(filtered_df_female, True)\n",
    "\n",
    "assert filtered_df_female.where((col(\"gender\") == \"Male\") & (col(\"sub_level_admission\").isin(female_only))).count() == 0 \n"
   ],
   "metadata": {
    "collapsed": false,
    "ExecuteTime": {
     "end_time": "2024-02-11T22:31:35.562094Z",
     "start_time": "2024-02-11T22:31:30.953859Z"
    }
   },
   "id": "d7c1ee011b044991"
  },
  {
   "cell_type": "code",
   "execution_count": 91,
   "outputs": [],
   "source": [
    "# filter pediatric patients who cannot be pregnant (based on legal age in the UK, 16) No assumption made an individual cannot choose to get pregnant before this age. \n",
    "under16_female_df = filtered_df_female.where((col(\"Age\") <16) & (col(\"sub_level_admission\") == 'maternity')).orderBy(\"Age\")"
   ],
   "metadata": {
    "collapsed": false,
    "ExecuteTime": {
     "end_time": "2024-02-11T22:32:52.871313Z",
     "start_time": "2024-02-11T22:32:52.777714Z"
    }
   },
   "id": "630396c288fa291b"
  },
  {
   "cell_type": "code",
   "execution_count": 98,
   "outputs": [
    {
     "data": {
      "text/plain": "    sub_level_admission         DOB top_level_admission             name  Age  \\\n0             maternity  2023-02-04            elective     Angela Brown    1   \n1             maternity  2023-02-04            elective     Angela Brown    1   \n2             maternity  2022-05-13            elective   Cindy Robinson    1   \n3             maternity  2022-05-13            elective   Cindy Robinson    1   \n4             maternity  2022-06-23            elective   Dustin Garrett    1   \n..                  ...         ...                 ...              ...  ...   \n311           maternity  2008-10-01            elective  Mr. John Wright   15   \n312           maternity  2008-08-19            elective       Robert Ali   15   \n313           maternity  2008-08-19            elective       Robert Ali   15   \n314           maternity  2008-11-29            elective  Steven Castillo   15   \n315           maternity  2008-11-29            elective  Steven Castillo   15   \n\n     gender blood_type medical_condition date_of_admission          doctor  \\\n0    Female         B+           Obesity        2019-02-28         Kyle Wu   \n1    Female         B+           Obesity        2019-02-28         Kyle Wu   \n2    Female         B+            Asthma        2023-03-11     Ashley Dean   \n3    Female         B+            Asthma        2023-03-11     Ashley Dean   \n4    Female         O-          Diabetes        2023-07-06  Rodney Johnson   \n..      ...        ...               ...               ...             ...   \n311  Female         B-         Arthritis        2022-04-06   Travis Norris   \n312  Female         A+           Obesity        2020-04-26   Steven Bailey   \n313  Female         A+           Obesity        2020-04-26   Steven Bailey   \n314  Female         A+         Arthritis        2019-09-18    Natasha Gray   \n315  Female         A+         Arthritis        2019-09-18    Natasha Gray   \n\n     ...   medication  test_results  is_female  is_pediatric    stay_type  \\\n0    ...    Ibuprofen      Abnormal       True          True  day_patient   \n1    ...    Ibuprofen      Abnormal       True          True    inpatient   \n2    ...  Paracetamol      Abnormal       True          True  day_patient   \n3    ...  Paracetamol      Abnormal       True          True    inpatient   \n4    ...    Ibuprofen      Abnormal       True          True  day_patient   \n..   ...          ...           ...        ...           ...          ...   \n311  ...   Penicillin      Abnormal       True          True    inpatient   \n312  ...   Penicillin  Inconclusive       True          True  day_patient   \n313  ...   Penicillin  Inconclusive       True          True    inpatient   \n314  ...    Ibuprofen      Abnormal       True          True  day_patient   \n315  ...    Ibuprofen      Abnormal       True          True    inpatient   \n\n                                        possible_tests  \\\n0    [Ultrasound, Blood tests, Glucose tolerance te...   \n1    [Ultrasound, Blood tests, Glucose tolerance te...   \n2    [Ultrasound, Blood tests, Glucose tolerance te...   \n3    [Ultrasound, Blood tests, Glucose tolerance te...   \n4    [Ultrasound, Blood tests, Glucose tolerance te...   \n..                                                 ...   \n311  [Ultrasound, Blood tests, Glucose tolerance te...   \n312  [Ultrasound, Blood tests, Glucose tolerance te...   \n313  [Ultrasound, Blood tests, Glucose tolerance te...   \n314  [Ultrasound, Blood tests, Glucose tolerance te...   \n315  [Ultrasound, Blood tests, Glucose tolerance te...   \n\n                       stay_name                 unique_id  is_geriatric  \\\n0       Angela Brown_day_patient     Angela Brown_20230204         False   \n1         Angela Brown_inpatient     Angela Brown_20230204         False   \n2     Cindy Robinson_day_patient   Cindy Robinson_20220513         False   \n3       Cindy Robinson_inpatient   Cindy Robinson_20220513         False   \n4     Dustin Garrett_day_patient   Dustin Garrett_20220623         False   \n..                           ...                       ...           ...   \n311    Mr. John Wright_inpatient  Mr. John Wright_20081001         False   \n312       Robert Ali_day_patient       Robert Ali_20080819         False   \n313         Robert Ali_inpatient       Robert Ali_20080819         False   \n314  Steven Castillo_day_patient  Steven Castillo_20081129         False   \n315    Steven Castillo_inpatient  Steven Castillo_20081129         False   \n\n    row_num  \n0         2  \n1         2  \n2         3  \n3         2  \n4         2  \n..      ...  \n311       1  \n312       3  \n313       1  \n314       3  \n315       2  \n\n[316 rows x 25 columns]",
      "text/html": "<div>\n<style scoped>\n    .dataframe tbody tr th:only-of-type {\n        vertical-align: middle;\n    }\n\n    .dataframe tbody tr th {\n        vertical-align: top;\n    }\n\n    .dataframe thead th {\n        text-align: right;\n    }\n</style>\n<table border=\"1\" class=\"dataframe\">\n  <thead>\n    <tr style=\"text-align: right;\">\n      <th></th>\n      <th>sub_level_admission</th>\n      <th>DOB</th>\n      <th>top_level_admission</th>\n      <th>name</th>\n      <th>Age</th>\n      <th>gender</th>\n      <th>blood_type</th>\n      <th>medical_condition</th>\n      <th>date_of_admission</th>\n      <th>doctor</th>\n      <th>...</th>\n      <th>medication</th>\n      <th>test_results</th>\n      <th>is_female</th>\n      <th>is_pediatric</th>\n      <th>stay_type</th>\n      <th>possible_tests</th>\n      <th>stay_name</th>\n      <th>unique_id</th>\n      <th>is_geriatric</th>\n      <th>row_num</th>\n    </tr>\n  </thead>\n  <tbody>\n    <tr>\n      <th>0</th>\n      <td>maternity</td>\n      <td>2023-02-04</td>\n      <td>elective</td>\n      <td>Angela Brown</td>\n      <td>1</td>\n      <td>Female</td>\n      <td>B+</td>\n      <td>Obesity</td>\n      <td>2019-02-28</td>\n      <td>Kyle Wu</td>\n      <td>...</td>\n      <td>Ibuprofen</td>\n      <td>Abnormal</td>\n      <td>True</td>\n      <td>True</td>\n      <td>day_patient</td>\n      <td>[Ultrasound, Blood tests, Glucose tolerance te...</td>\n      <td>Angela Brown_day_patient</td>\n      <td>Angela Brown_20230204</td>\n      <td>False</td>\n      <td>2</td>\n    </tr>\n    <tr>\n      <th>1</th>\n      <td>maternity</td>\n      <td>2023-02-04</td>\n      <td>elective</td>\n      <td>Angela Brown</td>\n      <td>1</td>\n      <td>Female</td>\n      <td>B+</td>\n      <td>Obesity</td>\n      <td>2019-02-28</td>\n      <td>Kyle Wu</td>\n      <td>...</td>\n      <td>Ibuprofen</td>\n      <td>Abnormal</td>\n      <td>True</td>\n      <td>True</td>\n      <td>inpatient</td>\n      <td>[Ultrasound, Blood tests, Glucose tolerance te...</td>\n      <td>Angela Brown_inpatient</td>\n      <td>Angela Brown_20230204</td>\n      <td>False</td>\n      <td>2</td>\n    </tr>\n    <tr>\n      <th>2</th>\n      <td>maternity</td>\n      <td>2022-05-13</td>\n      <td>elective</td>\n      <td>Cindy Robinson</td>\n      <td>1</td>\n      <td>Female</td>\n      <td>B+</td>\n      <td>Asthma</td>\n      <td>2023-03-11</td>\n      <td>Ashley Dean</td>\n      <td>...</td>\n      <td>Paracetamol</td>\n      <td>Abnormal</td>\n      <td>True</td>\n      <td>True</td>\n      <td>day_patient</td>\n      <td>[Ultrasound, Blood tests, Glucose tolerance te...</td>\n      <td>Cindy Robinson_day_patient</td>\n      <td>Cindy Robinson_20220513</td>\n      <td>False</td>\n      <td>3</td>\n    </tr>\n    <tr>\n      <th>3</th>\n      <td>maternity</td>\n      <td>2022-05-13</td>\n      <td>elective</td>\n      <td>Cindy Robinson</td>\n      <td>1</td>\n      <td>Female</td>\n      <td>B+</td>\n      <td>Asthma</td>\n      <td>2023-03-11</td>\n      <td>Ashley Dean</td>\n      <td>...</td>\n      <td>Paracetamol</td>\n      <td>Abnormal</td>\n      <td>True</td>\n      <td>True</td>\n      <td>inpatient</td>\n      <td>[Ultrasound, Blood tests, Glucose tolerance te...</td>\n      <td>Cindy Robinson_inpatient</td>\n      <td>Cindy Robinson_20220513</td>\n      <td>False</td>\n      <td>2</td>\n    </tr>\n    <tr>\n      <th>4</th>\n      <td>maternity</td>\n      <td>2022-06-23</td>\n      <td>elective</td>\n      <td>Dustin Garrett</td>\n      <td>1</td>\n      <td>Female</td>\n      <td>O-</td>\n      <td>Diabetes</td>\n      <td>2023-07-06</td>\n      <td>Rodney Johnson</td>\n      <td>...</td>\n      <td>Ibuprofen</td>\n      <td>Abnormal</td>\n      <td>True</td>\n      <td>True</td>\n      <td>day_patient</td>\n      <td>[Ultrasound, Blood tests, Glucose tolerance te...</td>\n      <td>Dustin Garrett_day_patient</td>\n      <td>Dustin Garrett_20220623</td>\n      <td>False</td>\n      <td>2</td>\n    </tr>\n    <tr>\n      <th>...</th>\n      <td>...</td>\n      <td>...</td>\n      <td>...</td>\n      <td>...</td>\n      <td>...</td>\n      <td>...</td>\n      <td>...</td>\n      <td>...</td>\n      <td>...</td>\n      <td>...</td>\n      <td>...</td>\n      <td>...</td>\n      <td>...</td>\n      <td>...</td>\n      <td>...</td>\n      <td>...</td>\n      <td>...</td>\n      <td>...</td>\n      <td>...</td>\n      <td>...</td>\n      <td>...</td>\n    </tr>\n    <tr>\n      <th>311</th>\n      <td>maternity</td>\n      <td>2008-10-01</td>\n      <td>elective</td>\n      <td>Mr. John Wright</td>\n      <td>15</td>\n      <td>Female</td>\n      <td>B-</td>\n      <td>Arthritis</td>\n      <td>2022-04-06</td>\n      <td>Travis Norris</td>\n      <td>...</td>\n      <td>Penicillin</td>\n      <td>Abnormal</td>\n      <td>True</td>\n      <td>True</td>\n      <td>inpatient</td>\n      <td>[Ultrasound, Blood tests, Glucose tolerance te...</td>\n      <td>Mr. John Wright_inpatient</td>\n      <td>Mr. John Wright_20081001</td>\n      <td>False</td>\n      <td>1</td>\n    </tr>\n    <tr>\n      <th>312</th>\n      <td>maternity</td>\n      <td>2008-08-19</td>\n      <td>elective</td>\n      <td>Robert Ali</td>\n      <td>15</td>\n      <td>Female</td>\n      <td>A+</td>\n      <td>Obesity</td>\n      <td>2020-04-26</td>\n      <td>Steven Bailey</td>\n      <td>...</td>\n      <td>Penicillin</td>\n      <td>Inconclusive</td>\n      <td>True</td>\n      <td>True</td>\n      <td>day_patient</td>\n      <td>[Ultrasound, Blood tests, Glucose tolerance te...</td>\n      <td>Robert Ali_day_patient</td>\n      <td>Robert Ali_20080819</td>\n      <td>False</td>\n      <td>3</td>\n    </tr>\n    <tr>\n      <th>313</th>\n      <td>maternity</td>\n      <td>2008-08-19</td>\n      <td>elective</td>\n      <td>Robert Ali</td>\n      <td>15</td>\n      <td>Female</td>\n      <td>A+</td>\n      <td>Obesity</td>\n      <td>2020-04-26</td>\n      <td>Steven Bailey</td>\n      <td>...</td>\n      <td>Penicillin</td>\n      <td>Inconclusive</td>\n      <td>True</td>\n      <td>True</td>\n      <td>inpatient</td>\n      <td>[Ultrasound, Blood tests, Glucose tolerance te...</td>\n      <td>Robert Ali_inpatient</td>\n      <td>Robert Ali_20080819</td>\n      <td>False</td>\n      <td>1</td>\n    </tr>\n    <tr>\n      <th>314</th>\n      <td>maternity</td>\n      <td>2008-11-29</td>\n      <td>elective</td>\n      <td>Steven Castillo</td>\n      <td>15</td>\n      <td>Female</td>\n      <td>A+</td>\n      <td>Arthritis</td>\n      <td>2019-09-18</td>\n      <td>Natasha Gray</td>\n      <td>...</td>\n      <td>Ibuprofen</td>\n      <td>Abnormal</td>\n      <td>True</td>\n      <td>True</td>\n      <td>day_patient</td>\n      <td>[Ultrasound, Blood tests, Glucose tolerance te...</td>\n      <td>Steven Castillo_day_patient</td>\n      <td>Steven Castillo_20081129</td>\n      <td>False</td>\n      <td>3</td>\n    </tr>\n    <tr>\n      <th>315</th>\n      <td>maternity</td>\n      <td>2008-11-29</td>\n      <td>elective</td>\n      <td>Steven Castillo</td>\n      <td>15</td>\n      <td>Female</td>\n      <td>A+</td>\n      <td>Arthritis</td>\n      <td>2019-09-18</td>\n      <td>Natasha Gray</td>\n      <td>...</td>\n      <td>Ibuprofen</td>\n      <td>Abnormal</td>\n      <td>True</td>\n      <td>True</td>\n      <td>inpatient</td>\n      <td>[Ultrasound, Blood tests, Glucose tolerance te...</td>\n      <td>Steven Castillo_inpatient</td>\n      <td>Steven Castillo_20081129</td>\n      <td>False</td>\n      <td>2</td>\n    </tr>\n  </tbody>\n</table>\n<p>316 rows × 25 columns</p>\n</div>"
     },
     "metadata": {},
     "output_type": "display_data"
    },
    {
     "name": "stderr",
     "output_type": "stream",
     "text": [
      "                                                                                \r"
     ]
    },
    {
     "data": {
      "text/plain": "     sub_level_admission         DOB top_level_admission              name  \\\n0            orthopedics  1979-03-09         gp_referral    Aaron Gonzales   \n1            orthopedics  1979-03-09         gp_referral    Aaron Gonzales   \n2            dermatology  1953-12-22         gp_referral       Alan Ibarra   \n3                 mental  1993-10-04       self_referral       Albert Dunn   \n4             cardiology  1946-06-24           emergency  Alexander Harris   \n..                   ...         ...                 ...               ...   \n195               mental  1996-07-27         gp_referral    Joseph Coleman   \n196           nephrology  1968-10-25   hospital_referral    Joseph Daniels   \n197             oncology  2017-12-26   hospital_referral      Joseph Perez   \n198             oncology  2017-12-26   hospital_referral      Joseph Perez   \n199  infectious_diseases  1966-11-07           emergency      Joseph Price   \n\n     Age  gender blood_type medical_condition date_of_admission  \\\n0     44  Female         B-      Hypertension        2019-09-10   \n1     44  Female         B-      Hypertension        2019-09-10   \n2     70    Male         O+         Arthritis        2020-03-26   \n3     30    Male         A+           Obesity        2021-01-22   \n4     77    Male        AB+          Diabetes        2023-03-30   \n..   ...     ...        ...               ...               ...   \n195   27    Male         O-            Asthma        2022-05-16   \n196   55    Male         A-      Hypertension        2020-04-10   \n197    6    Male         A-      Hypertension        2022-12-03   \n198    6    Male         A-      Hypertension        2022-12-03   \n199   57  Female         B-            Cancer        2020-12-28   \n\n             doctor  ...   medication  test_results  is_female  is_pediatric  \\\n0       Ian Edwards  ...      Aspirin  Inconclusive       True         False   \n1       Ian Edwards  ...      Aspirin  Inconclusive       True         False   \n2     Steven Rhodes  ...      Lipitor        Normal      False         False   \n3        Rita Payne  ...  Paracetamol      Abnormal      False         False   \n4     Daniel Mosley  ...   Penicillin      Abnormal      False         False   \n..              ...  ...          ...           ...        ...           ...   \n195  Kelly Cantrell  ...  Paracetamol  Inconclusive      False         False   \n196  Stephen Melton  ...   Penicillin  Inconclusive      False         False   \n197    Janet Jordan  ...      Aspirin      Abnormal      False          True   \n198    Janet Jordan  ...      Aspirin      Abnormal      False          True   \n199  Donna Martinez  ...      Lipitor      Abnormal       True         False   \n\n       stay_type                                     possible_tests  \\\n0    day_patient   [X-rays, MRI, CT scans, Bone scans, Blood tests]   \n1      inpatient   [X-rays, MRI, CT scans, Bone scans, Blood tests]   \n2     outpatient  [Skin biopsy, Patch tests, Skin scrapings, Blo...   \n3     outpatient  [Psychological evaluation, Blood tests, Brain ...   \n4    day_patient  [ECG, Echocardiogram, Stress tests, Cardiac ca...   \n..           ...                                                ...   \n195    inpatient  [Psychological evaluation, Blood tests, Brain ...   \n196    inpatient  [Blood tests (renal function tests), Urine tes...   \n197  day_patient  [Biopsies, MRI, Ultrasound, Blood tests, Imagi...   \n198    inpatient  [Biopsies, MRI, Ultrasound, Blood tests, Imagi...   \n199   outpatient  [Blood cultures, PCR tests, Antibody tests, ch...   \n\n                        stay_name                  unique_id  is_geriatric  \\\n0      Aaron Gonzales_day_patient    Aaron Gonzales_19790309         False   \n1        Aaron Gonzales_inpatient    Aaron Gonzales_19790309         False   \n2                     Alan Ibarra       Alan Ibarra_19531222         False   \n3                     Albert Dunn       Albert Dunn_19931004         False   \n4    Alexander Harris_day_patient  Alexander Harris_19460624         False   \n..                            ...                        ...           ...   \n195      Joseph Coleman_inpatient    Joseph Coleman_19960727         False   \n196      Joseph Daniels_inpatient    Joseph Daniels_19681025         False   \n197      Joseph Perez_day_patient      Joseph Perez_20171226         False   \n198        Joseph Perez_inpatient      Joseph Perez_20171226         False   \n199                  Joseph Price      Joseph Price_19661107         False   \n\n    row_num  \n0         1  \n1         3  \n2         5  \n3         1  \n4         1  \n..      ...  \n195       3  \n196       4  \n197       3  \n198       4  \n199       1  \n\n[200 rows x 25 columns]",
      "text/html": "<div>\n<style scoped>\n    .dataframe tbody tr th:only-of-type {\n        vertical-align: middle;\n    }\n\n    .dataframe tbody tr th {\n        vertical-align: top;\n    }\n\n    .dataframe thead th {\n        text-align: right;\n    }\n</style>\n<table border=\"1\" class=\"dataframe\">\n  <thead>\n    <tr style=\"text-align: right;\">\n      <th></th>\n      <th>sub_level_admission</th>\n      <th>DOB</th>\n      <th>top_level_admission</th>\n      <th>name</th>\n      <th>Age</th>\n      <th>gender</th>\n      <th>blood_type</th>\n      <th>medical_condition</th>\n      <th>date_of_admission</th>\n      <th>doctor</th>\n      <th>...</th>\n      <th>medication</th>\n      <th>test_results</th>\n      <th>is_female</th>\n      <th>is_pediatric</th>\n      <th>stay_type</th>\n      <th>possible_tests</th>\n      <th>stay_name</th>\n      <th>unique_id</th>\n      <th>is_geriatric</th>\n      <th>row_num</th>\n    </tr>\n  </thead>\n  <tbody>\n    <tr>\n      <th>0</th>\n      <td>orthopedics</td>\n      <td>1979-03-09</td>\n      <td>gp_referral</td>\n      <td>Aaron Gonzales</td>\n      <td>44</td>\n      <td>Female</td>\n      <td>B-</td>\n      <td>Hypertension</td>\n      <td>2019-09-10</td>\n      <td>Ian Edwards</td>\n      <td>...</td>\n      <td>Aspirin</td>\n      <td>Inconclusive</td>\n      <td>True</td>\n      <td>False</td>\n      <td>day_patient</td>\n      <td>[X-rays, MRI, CT scans, Bone scans, Blood tests]</td>\n      <td>Aaron Gonzales_day_patient</td>\n      <td>Aaron Gonzales_19790309</td>\n      <td>False</td>\n      <td>1</td>\n    </tr>\n    <tr>\n      <th>1</th>\n      <td>orthopedics</td>\n      <td>1979-03-09</td>\n      <td>gp_referral</td>\n      <td>Aaron Gonzales</td>\n      <td>44</td>\n      <td>Female</td>\n      <td>B-</td>\n      <td>Hypertension</td>\n      <td>2019-09-10</td>\n      <td>Ian Edwards</td>\n      <td>...</td>\n      <td>Aspirin</td>\n      <td>Inconclusive</td>\n      <td>True</td>\n      <td>False</td>\n      <td>inpatient</td>\n      <td>[X-rays, MRI, CT scans, Bone scans, Blood tests]</td>\n      <td>Aaron Gonzales_inpatient</td>\n      <td>Aaron Gonzales_19790309</td>\n      <td>False</td>\n      <td>3</td>\n    </tr>\n    <tr>\n      <th>2</th>\n      <td>dermatology</td>\n      <td>1953-12-22</td>\n      <td>gp_referral</td>\n      <td>Alan Ibarra</td>\n      <td>70</td>\n      <td>Male</td>\n      <td>O+</td>\n      <td>Arthritis</td>\n      <td>2020-03-26</td>\n      <td>Steven Rhodes</td>\n      <td>...</td>\n      <td>Lipitor</td>\n      <td>Normal</td>\n      <td>False</td>\n      <td>False</td>\n      <td>outpatient</td>\n      <td>[Skin biopsy, Patch tests, Skin scrapings, Blo...</td>\n      <td>Alan Ibarra</td>\n      <td>Alan Ibarra_19531222</td>\n      <td>False</td>\n      <td>5</td>\n    </tr>\n    <tr>\n      <th>3</th>\n      <td>mental</td>\n      <td>1993-10-04</td>\n      <td>self_referral</td>\n      <td>Albert Dunn</td>\n      <td>30</td>\n      <td>Male</td>\n      <td>A+</td>\n      <td>Obesity</td>\n      <td>2021-01-22</td>\n      <td>Rita Payne</td>\n      <td>...</td>\n      <td>Paracetamol</td>\n      <td>Abnormal</td>\n      <td>False</td>\n      <td>False</td>\n      <td>outpatient</td>\n      <td>[Psychological evaluation, Blood tests, Brain ...</td>\n      <td>Albert Dunn</td>\n      <td>Albert Dunn_19931004</td>\n      <td>False</td>\n      <td>1</td>\n    </tr>\n    <tr>\n      <th>4</th>\n      <td>cardiology</td>\n      <td>1946-06-24</td>\n      <td>emergency</td>\n      <td>Alexander Harris</td>\n      <td>77</td>\n      <td>Male</td>\n      <td>AB+</td>\n      <td>Diabetes</td>\n      <td>2023-03-30</td>\n      <td>Daniel Mosley</td>\n      <td>...</td>\n      <td>Penicillin</td>\n      <td>Abnormal</td>\n      <td>False</td>\n      <td>False</td>\n      <td>day_patient</td>\n      <td>[ECG, Echocardiogram, Stress tests, Cardiac ca...</td>\n      <td>Alexander Harris_day_patient</td>\n      <td>Alexander Harris_19460624</td>\n      <td>False</td>\n      <td>1</td>\n    </tr>\n    <tr>\n      <th>...</th>\n      <td>...</td>\n      <td>...</td>\n      <td>...</td>\n      <td>...</td>\n      <td>...</td>\n      <td>...</td>\n      <td>...</td>\n      <td>...</td>\n      <td>...</td>\n      <td>...</td>\n      <td>...</td>\n      <td>...</td>\n      <td>...</td>\n      <td>...</td>\n      <td>...</td>\n      <td>...</td>\n      <td>...</td>\n      <td>...</td>\n      <td>...</td>\n      <td>...</td>\n      <td>...</td>\n    </tr>\n    <tr>\n      <th>195</th>\n      <td>mental</td>\n      <td>1996-07-27</td>\n      <td>gp_referral</td>\n      <td>Joseph Coleman</td>\n      <td>27</td>\n      <td>Male</td>\n      <td>O-</td>\n      <td>Asthma</td>\n      <td>2022-05-16</td>\n      <td>Kelly Cantrell</td>\n      <td>...</td>\n      <td>Paracetamol</td>\n      <td>Inconclusive</td>\n      <td>False</td>\n      <td>False</td>\n      <td>inpatient</td>\n      <td>[Psychological evaluation, Blood tests, Brain ...</td>\n      <td>Joseph Coleman_inpatient</td>\n      <td>Joseph Coleman_19960727</td>\n      <td>False</td>\n      <td>3</td>\n    </tr>\n    <tr>\n      <th>196</th>\n      <td>nephrology</td>\n      <td>1968-10-25</td>\n      <td>hospital_referral</td>\n      <td>Joseph Daniels</td>\n      <td>55</td>\n      <td>Male</td>\n      <td>A-</td>\n      <td>Hypertension</td>\n      <td>2020-04-10</td>\n      <td>Stephen Melton</td>\n      <td>...</td>\n      <td>Penicillin</td>\n      <td>Inconclusive</td>\n      <td>False</td>\n      <td>False</td>\n      <td>inpatient</td>\n      <td>[Blood tests (renal function tests), Urine tes...</td>\n      <td>Joseph Daniels_inpatient</td>\n      <td>Joseph Daniels_19681025</td>\n      <td>False</td>\n      <td>4</td>\n    </tr>\n    <tr>\n      <th>197</th>\n      <td>oncology</td>\n      <td>2017-12-26</td>\n      <td>hospital_referral</td>\n      <td>Joseph Perez</td>\n      <td>6</td>\n      <td>Male</td>\n      <td>A-</td>\n      <td>Hypertension</td>\n      <td>2022-12-03</td>\n      <td>Janet Jordan</td>\n      <td>...</td>\n      <td>Aspirin</td>\n      <td>Abnormal</td>\n      <td>False</td>\n      <td>True</td>\n      <td>day_patient</td>\n      <td>[Biopsies, MRI, Ultrasound, Blood tests, Imagi...</td>\n      <td>Joseph Perez_day_patient</td>\n      <td>Joseph Perez_20171226</td>\n      <td>False</td>\n      <td>3</td>\n    </tr>\n    <tr>\n      <th>198</th>\n      <td>oncology</td>\n      <td>2017-12-26</td>\n      <td>hospital_referral</td>\n      <td>Joseph Perez</td>\n      <td>6</td>\n      <td>Male</td>\n      <td>A-</td>\n      <td>Hypertension</td>\n      <td>2022-12-03</td>\n      <td>Janet Jordan</td>\n      <td>...</td>\n      <td>Aspirin</td>\n      <td>Abnormal</td>\n      <td>False</td>\n      <td>True</td>\n      <td>inpatient</td>\n      <td>[Biopsies, MRI, Ultrasound, Blood tests, Imagi...</td>\n      <td>Joseph Perez_inpatient</td>\n      <td>Joseph Perez_20171226</td>\n      <td>False</td>\n      <td>4</td>\n    </tr>\n    <tr>\n      <th>199</th>\n      <td>infectious_diseases</td>\n      <td>1966-11-07</td>\n      <td>emergency</td>\n      <td>Joseph Price</td>\n      <td>57</td>\n      <td>Female</td>\n      <td>B-</td>\n      <td>Cancer</td>\n      <td>2020-12-28</td>\n      <td>Donna Martinez</td>\n      <td>...</td>\n      <td>Lipitor</td>\n      <td>Abnormal</td>\n      <td>True</td>\n      <td>False</td>\n      <td>outpatient</td>\n      <td>[Blood cultures, PCR tests, Antibody tests, ch...</td>\n      <td>Joseph Price</td>\n      <td>Joseph Price_19661107</td>\n      <td>False</td>\n      <td>1</td>\n    </tr>\n  </tbody>\n</table>\n<p>200 rows × 25 columns</p>\n</div>"
     },
     "metadata": {},
     "output_type": "display_data"
    },
    {
     "name": "stderr",
     "output_type": "stream",
     "text": [
      "                                                                                \r"
     ]
    },
    {
     "name": "stdout",
     "output_type": "stream",
     "text": [
      "316\n"
     ]
    },
    {
     "name": "stderr",
     "output_type": "stream",
     "text": [
      "                                                                                \r"
     ]
    }
   ],
   "source": [
    "filtered_df_female_u16 = filtered_df_female.join(under16_female_df, on=['sub_level_admission', 'DOB'], how = 'left_anti')\n",
    "\n",
    "filtered_female_tot_u16 = get_row_count(under16_female_df, True)\n",
    "\n",
    "assert filtered_df_female_u16.where((col(\"sub_level_admission\") == \"maternity\") & (col(\"Age\") <16)).count() == 0 "
   ],
   "metadata": {
    "collapsed": false,
    "ExecuteTime": {
     "end_time": "2024-02-11T22:42:06.821573Z",
     "start_time": "2024-02-11T22:41:58.983889Z"
    }
   },
   "id": "cc11c7ec6b0a65"
  },
  {
   "cell_type": "code",
   "execution_count": null,
   "outputs": [],
   "source": [
    "# TODO: drop full name for initial and surname since nname column is poor. \n",
    "# adjust doctor column \n",
    "# medical condition \n",
    "# admission date to be checked again dob, \n",
    "# medication to be checked \n",
    "# choose random results \n",
    "\n",
    "# drop stay_name and unique_id \n"
   ],
   "metadata": {
    "collapsed": false
   },
   "id": "a79379063057bfee"
  },
  {
   "cell_type": "code",
   "execution_count": null,
   "outputs": [],
   "source": [
    "# Filter to keep only the top-ranked row within each partition\n",
    "ranked_df = filtered_df_female"
   ],
   "metadata": {
    "collapsed": false
   },
   "id": "4879749b20208b88"
  },
  {
   "cell_type": "code",
   "execution_count": null,
   "outputs": [],
   "source": [
    "ranked_df.where(col(\"name\") == \"Daniel Mccoy\").show(n=8000)"
   ],
   "metadata": {
    "collapsed": false
   },
   "id": "2ef205bb8eadc990"
  },
  {
   "cell_type": "code",
   "execution_count": null,
   "outputs": [],
   "source": [
    "from pyspark.sql.types import StringType\n",
    "\n",
    "df = filtered_df_female.select([col(c).cast(StringType()).alias(c) for c in df.columns])\n",
    "df.write.csv('./temp_data/female/filtered_df_female.csv', mode = 'overwrite', header=True)"
   ],
   "metadata": {
    "collapsed": false
   },
   "id": "1eb59205ef488cec"
  },
  {
   "cell_type": "code",
   "execution_count": null,
   "outputs": [],
   "source": [
    "# TODO initialise first name to make data more realistic for name columns i.e. Daniel Mccoy is seen a Male name but here its Female"
   ],
   "metadata": {
    "collapsed": false
   },
   "id": "31a9a6e7e0527585"
  },
  {
   "cell_type": "code",
   "execution_count": null,
   "outputs": [],
   "source": [
    "spark.stop()"
   ],
   "metadata": {
    "collapsed": false
   },
   "id": "88f0099b41d9dc86"
  },
  {
   "cell_type": "code",
   "execution_count": null,
   "outputs": [],
   "source": [],
   "metadata": {
    "collapsed": false
   },
   "id": "e68e3f5c6b955395"
  }
 ],
 "metadata": {
  "kernelspec": {
   "display_name": "Python 3",
   "language": "python",
   "name": "python3"
  },
  "language_info": {
   "codemirror_mode": {
    "name": "ipython",
    "version": 2
   },
   "file_extension": ".py",
   "mimetype": "text/x-python",
   "name": "python",
   "nbconvert_exporter": "python",
   "pygments_lexer": "ipython2",
   "version": "2.7.6"
  }
 },
 "nbformat": 4,
 "nbformat_minor": 5
}
