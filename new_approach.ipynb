{
 "cells": [
  {
   "cell_type": "code",
   "execution_count": null,
   "id": "344f364a0ecf68e0",
   "metadata": {
    "collapsed": false
   },
   "outputs": [],
   "source": [
    "import random\n",
    "from data_generator.csv_data_processor import CSVDataProcessor\n",
    "from utils.util_funcs import get_row_count, display_df, remove_data, verify_ranking, verify_ranking_counts\n",
    "from utils.read_write import read_postgres_table\n",
    "from spark_instance import spark\n",
    "from pyspark.sql import Window\n",
    "\n",
    "from pyspark.sql.functions import col, lower, lit, rand, array, concat, when, row_number, concat_ws, date_format, split, size\n",
    "  "
   ]
  },
  {
   "cell_type": "code",
   "execution_count": null,
   "id": "initial_id",
   "metadata": {
    "collapsed": true,
    "jupyter": {
     "outputs_hidden": true
    }
   },
   "outputs": [],
   "source": [
    "# csv_reader = CSVDataProcessor(spark, \"data/healthcare_dataset.csv\")\n",
    "# \n",
    "# # Read the CSV file\n",
    "# raw_df = csv_reader.run()\n"
   ]
  },
  {
   "cell_type": "code",
   "execution_count": null,
   "id": "62f17c7d47c49e7e",
   "metadata": {
    "collapsed": false
   },
   "outputs": [],
   "source": [
    "# min_age_days = 1 * 365  # Minimum age in days (18 years)\n",
    "# max_age_days = 90 * 365  # Maximum age in days (90 years)\n",
    "# \n",
    "# raw_df = (raw_df.withColumn(\"DOB\", expr(f\"date_sub(current_date(), CAST(round(rand() * ({max_age_days} - {min_age_days}) + {min_age_days}) AS INT))\"))\n",
    "#         .withColumn(\"Age\", floor(datediff(current_date(), col(\"DOB\")) / 365.25)))\n",
    "\n",
    "\n"
   ]
  },
  {
   "cell_type": "code",
   "execution_count": null,
   "id": "19c3e561ca62f93",
   "metadata": {
    "collapsed": false
   },
   "outputs": [],
   "source": [
    "# above is commented out as it's saved in the database:\n",
    "df = read_postgres_table(\"dob_age_raw_data\")"
   ]
  },
  {
   "cell_type": "code",
   "execution_count": null,
   "id": "d463e373907bf09e",
   "metadata": {
    "collapsed": false
   },
   "outputs": [],
   "source": [
    "from constants.admission_types_dataset import admission_mapping, AdmissionTypes\n",
    "flattened = [\n",
    "    (\n",
    "        top_level.name,\n",
    "        sub_level_key.name,\n",
    "        list(sub_level_info.get(\"stay_types\")),\n",
    "        sub_level_info.get(\"tests\"),  \n",
    "        random.choice(sub_level_info.get(\"doctors\"))\n",
    "    )\n",
    "    for top_level, sub_level_dict in admission_mapping.items()\n",
    "    for sub_level_key, sub_level_info in sub_level_dict.items()\n",
    "]\n",
    "\n"
   ]
  },
  {
   "cell_type": "code",
   "execution_count": null,
   "id": "9aa93b831b3aed7b",
   "metadata": {
    "collapsed": false
   },
   "outputs": [],
   "source": [
    "flattened"
   ]
  },
  {
   "cell_type": "code",
   "execution_count": null,
   "id": "76324a29d381e7c4",
   "metadata": {
    "collapsed": false
   },
   "outputs": [],
   "source": [
    "from constants.condition_probabilities import condition_age_probability_dict\n",
    "\n",
    "flattened_condition_probabilities = [\n",
    "    (\n",
    "        sub_admission,\n",
    "        condition,\n",
    "        gender if gender in ['male', 'female'] else None,\n",
    "        float(age_range[0]),\n",
    "        float(age_range[1]) if len(age_range) > 1 else float('inf'),\n",
    "        float(probability) \n",
    "    )\n",
    "    for sub_admission, conditions in condition_age_probability_dict.items()\n",
    "    for condition, genders_or_age_prob_list in conditions.items()\n",
    "    for gender, age_prob_list in (genders_or_age_prob_list.items() if isinstance(genders_or_age_prob_list, dict) else [(None, genders_or_age_prob_list)])\n",
    "    for age_range, probability in age_prob_list\n",
    "]\n",
    "\n"
   ]
  },
  {
   "cell_type": "code",
   "execution_count": null,
   "id": "18fa988bdaed2265",
   "metadata": {
    "collapsed": false
   },
   "outputs": [],
   "source": [
    "from pyspark.sql.types import StructType, StructField, StringType, FloatType\n",
    "\n",
    "columns = [\"condition_admission_type\", \"condition\", \"gender\", \"age_min\", \"age_max\", \"probability\"]\n",
    "schema = StructType([\n",
    "    StructField(\"condition_admission_type\", StringType(), True),\n",
    "    StructField(\"condition\", StringType(), True),\n",
    "    StructField(\"condition_gender\", StringType(), True),  # Assuming gender can be specific probability for gender 'male', 'female', or null\n",
    "    StructField(\"age_min\", FloatType(), False),\n",
    "    StructField(\"age_max\", FloatType(), False),\n",
    "    StructField(\"probability\", FloatType(), False)\n",
    "])\n",
    "\n",
    "\n",
    "\n",
    "condition_prob_df = spark.createDataFrame(data=flattened_condition_probabilities, schema=schema)\n"
   ]
  },
  {
   "cell_type": "code",
   "execution_count": null,
   "id": "76a88bdeea4c696e",
   "metadata": {
    "collapsed": false
   },
   "outputs": [],
   "source": [
    "condition_prob_df.show()"
   ]
  },
  {
   "cell_type": "code",
   "execution_count": null,
   "id": "a7c5cd63962527f8",
   "metadata": {
    "collapsed": false
   },
   "outputs": [],
   "source": [
    "df.show()"
   ]
  },
  {
   "cell_type": "code",
   "execution_count": null,
   "id": "e1dc302cbd5cd49e",
   "metadata": {
    "collapsed": false
   },
   "outputs": [],
   "source": [
    "\"\"\"\n",
    "STEP 1 \n",
    "    From the flattened data list we wish to create a DataFrame. This contains all the possible combinations for the given \n",
    "    top level admissions, sub level admissions, stay types and list of tests available from the admission_mapping, stay_type and admission_tests lists or dictionaries in admission_types_test_dataset.py\n",
    "\"\"\"\n",
    "\n",
    "mapping_df = spark.createDataFrame(flattened, [\"top_level_admission\", \"sub_level_admission\", \"stay_types\", \"possible_tests\", \"doctor\"])\n",
    "\n",
    "display_df(mapping_df, 45)"
   ]
  },
  {
   "cell_type": "code",
   "execution_count": null,
   "id": "7215090b2c80a8c3",
   "metadata": {
    "collapsed": false
   },
   "outputs": [],
   "source": [
    "joined_tbl = mapping_df.join(condition_prob_df, on=[mapping_df.sub_level_admission == condition_prob_df.condition_admission_type], how=\"left\")"
   ]
  },
  {
   "cell_type": "code",
   "execution_count": null,
   "id": "2efb5e38286a2598",
   "metadata": {
    "collapsed": false
   },
   "outputs": [],
   "source": [
    "joined_tbl.show(n=2000)"
   ]
  },
  {
   "cell_type": "code",
   "execution_count": null,
   "id": "b51112bb4b4cff7a",
   "metadata": {
    "collapsed": false
   },
   "outputs": [],
   "source": [
    "\"\"\"\n",
    "STEP 2 \n",
    "    Create a list of admission_types randomly assign this to the original patient in the original data set, \n",
    "    whilst dropping the original admission_type column. Then join with mapping_df on top_level_admission col to give access to possible \n",
    "    conditions, mappings and so on.\n",
    "\"\"\"\n",
    "admission_type_names = [member.name for member in AdmissionTypes]\n",
    "\n",
    "keys_array = array([lit(name) for name in admission_type_names])\n",
    "\n",
    "# Define constants and conditions\n",
    "female_only = [\"MATERNITY\", 'obstetrics']\n",
    "is_female = lower(col('gender')) == 'female'\n",
    "is_pediatric = col(\"Age\") < 18\n",
    "is_geriatric = (col(\"Age\") >= 65)\n",
    "\n",
    "df = (df.withColumn(\"is_female\", is_female)\n",
    "        .withColumn(\"is_pediatric\", is_pediatric)\n",
    "        .withColumn(\"is_geriatric\", is_geriatric)\n",
    "        .withColumn(\"unique_id\", concat_ws(\"_\", \"name\", date_format(\"DOB\", \"yyyyMMdd\")))\n",
    "        .drop(\"doctor\", \"medical_condition\", \"test_results\", \"medication\", \"admission_type\")\n",
    "      )\n",
    "get_row_count(df, True)\n",
    "\n"
   ]
  },
  {
   "cell_type": "code",
   "execution_count": null,
   "outputs": [],
   "source": [
    "df.show()"
   ],
   "metadata": {
    "collapsed": false
   },
   "id": "2b2870752decdcae"
  },
  {
   "cell_type": "code",
   "execution_count": null,
   "outputs": [],
   "source": [
    "from constants.type_constants import SubAdmissionTypes\n",
    "\n",
    "enum_values = [e.name for e in SubAdmissionTypes]\n",
    "\n",
    "enum_df = spark.createDataFrame(enum_values, StringType()).toDF(\"admission_type\")"
   ],
   "metadata": {
    "collapsed": false
   },
   "id": "24cda9bc09c7e38d"
  },
  {
   "cell_type": "code",
   "execution_count": null,
   "id": "3970b6d3692be37f",
   "metadata": {
    "collapsed": false
   },
   "outputs": [],
   "source": [
    "\n",
    "from utils.conditions_creator import ConditionsCreator\n",
    "\n",
    "\"\"\"\n",
    "STEP 3  \n",
    "Create Enum class df and join it on to main driver df. \n",
    "Then create conditions \n",
    "\"\"\"\n",
    "from utils.thread_operations import runner\n",
    "\n",
    "selected_conditions_df = runner(spark, ConditionsCreator, df, joined_tbl, enum_df)\n"
   ]
  },
  {
   "cell_type": "code",
   "execution_count": null,
   "outputs": [],
   "source": [
    "total_count = selected_conditions_df.count()\n",
    "\n",
    "distinct_count = selected_conditions_df.select(\"unique_id\").distinct().count()\n",
    "\n",
    "is_unique = total_count == distinct_count\n",
    "\n",
    "print(f\"final_df is distinct for every row? {is_unique}\")"
   ],
   "metadata": {
    "collapsed": false
   },
   "id": "d17f37445f91f96a"
  },
  {
   "cell_type": "code",
   "execution_count": null,
   "outputs": [],
   "source": [
    "# selected_conditions_df.repartition(10).write.csv('./temp_data/selected_conditions/selected_conditions.csv', mode = 'overwrite', header=True)"
   ],
   "metadata": {
    "collapsed": false
   },
   "id": "a2358394fff8878f"
  },
  {
   "cell_type": "code",
   "execution_count": null,
   "id": "eacf363f1da4a0f9",
   "metadata": {
    "collapsed": false
   },
   "outputs": [],
   "source": [
    "selected_conditions_df.orderBy(col(\"unique_id\")).show(n=20000)"
   ]
  },
  {
   "cell_type": "code",
   "execution_count": null,
   "id": "b97d496c5cbbf43c",
   "metadata": {
    "collapsed": false
   },
   "outputs": [],
   "source": [
    "joined_selected_conditions_df = df.join(selected_conditions_df, on=\"unique_id\", how=\"left\")\n"
   ]
  },
  {
   "cell_type": "code",
   "execution_count": null,
   "id": "c66e290dbecadac6",
   "metadata": {
    "collapsed": false
   },
   "outputs": [],
   "source": [
    "joined_selected_conditions_df.where(col(\"chosen_condition\").isNull()).show(n=1000) "
   ]
  },
  {
   "cell_type": "code",
   "execution_count": null,
   "id": "f984ebcf31c80767",
   "metadata": {
    "collapsed": false
   },
   "outputs": [],
   "source": [
    "get_row_count(joined_selected_conditions_df)"
   ]
  },
  {
   "cell_type": "code",
   "execution_count": null,
   "id": "d883931ab7588b0d",
   "metadata": {
    "collapsed": false
   },
   "outputs": [],
   "source": [
    "\n",
    "split_col = split(df['name'], ' ')\n",
    "\n",
    "df_renamed = (df.withColumn('name', \n",
    "                    when(size(split_col) == 4, concat(split_col.getItem(1).substr(1, 1), lit('. '), split_col.getItem(2).substr(1, 1), lit('. '), split_col.getItem(3)))\n",
    "                    .when(size(split_col) == 3, concat(split_col.getItem(1).substr(1, 1), lit('. '), split_col.getItem(2)))\n",
    "                    .otherwise(\n",
    "                        concat(split_col.getItem(0).substr(1, 1), lit('. '), split_col.getItem(1))\n",
    "                               )\n",
    "                    )\n",
    "      )\n"
   ]
  },
  {
   "cell_type": "code",
   "execution_count": null,
   "id": "e3bb25e7bfae988",
   "metadata": {
    "collapsed": false
   },
   "outputs": [],
   "source": [
    "df_renamed.show()"
   ]
  },
  {
   "cell_type": "code",
   "execution_count": null,
   "id": "d88ea8c674b90792",
   "metadata": {
    "collapsed": false
   },
   "outputs": [],
   "source": [
    "(df_renamed.select(\"name\", \"DOB\", \"Age\", \"gender\", \"blood_type\", \"date_of_admission\", \"discharge_date\", \"top_level_admission\", \"sub_level_admission\", \"possible_tests\", \"conditions\", \"doctor\", \"hospital\", \"room_number\", \"insurance_provider\", \"billing_amount\", \"stay_type\", \"is_female\", \"is_geriatric\", \"is_pediatric\", \"stay_name\", \"row_num\", \"unique_id\")\n",
    " .show(n=200))"
   ]
  },
  {
   "cell_type": "code",
   "execution_count": null,
   "id": "bc7aa0cdf857cd7c",
   "metadata": {
    "collapsed": false
   },
   "outputs": [],
   "source": [
    "df_new = df_renamed.drop(\"row_num\")\n",
    "\n",
    "windowSpec = Window.partitionBy('stay_name', 'unique_id').orderBy(rand())\n",
    "\n",
    "# Assign row numbers within each partition in a random order\n",
    "df_new_part = df_new.withColumn(\"row_num\", row_number().over(windowSpec))\n",
    "\n",
    "df_new_part.select([\"name\", \"DOB\", \"Age\", \"gender\", \"blood_type\", \"date_of_admission\", \"discharge_date\", \"top_level_admission\", \"sub_level_admission\", \"possible_tests\", \"conditions\", \"doctor\", \"hospital\", \"room_number\", \"insurance_provider\", \"billing_amount\", \"stay_type\", \"is_female\", \"is_geriatric\", \"is_pediatric\", \"stay_name\", \"row_num\", \"unique_id\"]).where(col(\"stay_name\") ==\"Tiffany Ramirez\").show() "
   ]
  },
  {
   "cell_type": "code",
   "execution_count": null,
   "id": "7e88430e60903a00",
   "metadata": {
    "collapsed": false
   },
   "outputs": [],
   "source": [
    "get_row_count(df_new_part)"
   ]
  },
  {
   "cell_type": "code",
   "execution_count": null,
   "id": "5763dee08b19e6d5",
   "metadata": {
    "collapsed": false
   },
   "outputs": [],
   "source": [
    "[\"name\", \"DOB\", \"Age\", \"gender\", \"blood_type\", \"date_of_admission\", \"discharge_date\", \"top_level_admission\", \"sub_level_admission\", \"possible_tests\", \"conditions\", \"doctor\", \"hospital\", \"room_number\", \"insurance_provider\", \"billing_amount\", \"stay_type\", \"is_female\", \"is_geriatric\" \"is_pediatric\", \"stay_name\", \"row_num\", \"unique_id\"]"
   ]
  },
  {
   "cell_type": "code",
   "execution_count": null,
   "id": "a171c1b405d88408",
   "metadata": {
    "collapsed": false
   },
   "outputs": [],
   "source": [
    "df_new_part.show(n=2000)"
   ]
  },
  {
   "cell_type": "code",
   "execution_count": null,
   "id": "a79379063057bfee",
   "metadata": {
    "collapsed": false
   },
   "outputs": [],
   "source": [
    "# TODO:  \n",
    "# medical condition to be  chosen \n",
    "# tests to be chosen\n",
    "# admission date to be checked again dob,  \n",
    "# TODO filter on is pediatric, geriatric and is_female to be done here and same people with dob? needs  to be considered \n",
    "# drop stay_name and unique_id \n"
   ]
  },
  {
   "cell_type": "code",
   "execution_count": null,
   "id": "1eb59205ef488cec",
   "metadata": {
    "collapsed": false
   },
   "outputs": [],
   "source": [
    "# df = join_with_condition_prob_df.select([col(c).cast(StringType()).alias(c) for c in join_with_condition_prob_df.columns])\n",
    "# df.show()\n",
    "# df.repartition(10).write.csv('./temp_data/join_with_condition_prob_df/renamed.csv', mode = 'overwrite', header=True)"
   ]
  },
  {
   "cell_type": "code",
   "execution_count": null,
   "id": "88f0099b41d9dc86",
   "metadata": {
    "collapsed": false
   },
   "outputs": [],
   "source": [
    "spark.stop()"
   ]
  },
  {
   "cell_type": "code",
   "execution_count": null,
   "id": "d986e68bfc10315d",
   "metadata": {
    "collapsed": false
   },
   "outputs": [],
   "source": []
  },
  {
   "cell_type": "code",
   "execution_count": null,
   "id": "46d89b5173e46238",
   "metadata": {
    "collapsed": false
   },
   "outputs": [],
   "source": []
  }
 ],
 "metadata": {
  "kernelspec": {
   "display_name": "Python 3 (ipykernel)",
   "language": "python",
   "name": "python3"
  },
  "language_info": {
   "codemirror_mode": {
    "name": "ipython",
    "version": 3
   },
   "file_extension": ".py",
   "mimetype": "text/x-python",
   "name": "python",
   "nbconvert_exporter": "python",
   "pygments_lexer": "ipython3",
   "version": "3.11.4"
  }
 },
 "nbformat": 4,
 "nbformat_minor": 5
}
