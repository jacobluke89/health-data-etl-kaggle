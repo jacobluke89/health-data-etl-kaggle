{
 "cells": [
  {
   "cell_type": "code",
   "execution_count": 5,
   "outputs": [
    {
     "name": "stderr",
     "output_type": "stream",
     "text": [
      "/Users/jacobbickerstaff/Desktop/Development/health-data-etl-kaggle/venv/lib/python3.11/site-packages/pyspark/pandas/__init__.py:50: UserWarning: 'PYARROW_IGNORE_TIMEZONE' environment variable was not set. It is required to set this environment variable to '1' in both driver and executor sides if you use pyarrow>=2.0.0. pandas-on-Spark will set it for you but it does not work if there is a Spark context already launched.\n",
      "  warnings.warn(\n",
      "24/02/22 23:11:30 WARN NativeCodeLoader: Unable to load native-hadoop library for your platform... using builtin-java classes where applicable\n",
      "Setting default log level to \"WARN\".\n",
      "To adjust logging level use sc.setLogLevel(newLevel). For SparkR, use setLogLevel(newLevel).\n"
     ]
    }
   ],
   "source": [
    "from data_generator.csv_data_processor import CSVDataProcessor\n",
    "from utils.util_funcs import get_row_count, display_df, remove_data, verify_ranking, verify_ranking_counts\n",
    "from utils.read_write import read_postgres_table\n",
    "from spark_instance import spark\n",
    "from pyspark.sql import Window\n",
    "\n",
    "from pyspark.sql.functions import col, lower, lit, rand, array, floor, concat, when, row_number, concat_ws, date_format, count, split, size\n",
    "  "
   ],
   "metadata": {
    "collapsed": false,
    "ExecuteTime": {
     "end_time": "2024-02-22T23:11:33.114375Z",
     "start_time": "2024-02-22T23:11:27.330982Z"
    }
   },
   "id": "344f364a0ecf68e0"
  },
  {
   "cell_type": "code",
   "execution_count": 6,
   "id": "initial_id",
   "metadata": {
    "collapsed": true,
    "ExecuteTime": {
     "end_time": "2024-02-22T23:11:36.146471Z",
     "start_time": "2024-02-22T23:11:36.131297Z"
    }
   },
   "outputs": [],
   "source": [
    "# csv_reader = CSVDataProcessor(spark, \"data/healthcare_dataset.csv\")\n",
    "# \n",
    "# # Read the CSV file\n",
    "# raw_df = csv_reader.run()\n"
   ]
  },
  {
   "cell_type": "code",
   "execution_count": 7,
   "outputs": [],
   "source": [
    "# min_age_days = 1 * 365  # Minimum age in days (18 years)\n",
    "# max_age_days = 90 * 365  # Maximum age in days (90 years)\n",
    "# \n",
    "# raw_df = (raw_df.withColumn(\"DOB\", expr(f\"date_sub(current_date(), CAST(round(rand() * ({max_age_days} - {min_age_days}) + {min_age_days}) AS INT))\"))\n",
    "#         .withColumn(\"Age\", floor(datediff(current_date(), col(\"DOB\")) / 365.25)))\n",
    "\n",
    "\n"
   ],
   "metadata": {
    "collapsed": false,
    "ExecuteTime": {
     "end_time": "2024-02-22T23:11:36.764455Z",
     "start_time": "2024-02-22T23:11:36.747370Z"
    }
   },
   "id": "62f17c7d47c49e7e"
  },
  {
   "cell_type": "code",
   "execution_count": 8,
   "outputs": [],
   "source": [
    "# above is commented out as it's saved in the database:\n",
    "df = read_postgres_table(\"dob_age_raw_data\")"
   ],
   "metadata": {
    "collapsed": false,
    "ExecuteTime": {
     "end_time": "2024-02-22T23:11:40.937513Z",
     "start_time": "2024-02-22T23:11:37.336304Z"
    }
   },
   "id": "19c3e561ca62f93"
  },
  {
   "cell_type": "code",
   "execution_count": 9,
   "outputs": [],
   "source": [
    "# df.where(col(\"Age\") < 16).show()"
   ],
   "metadata": {
    "collapsed": false,
    "ExecuteTime": {
     "end_time": "2024-02-22T23:11:40.937822Z",
     "start_time": "2024-02-22T23:11:40.858476Z"
    }
   },
   "id": "78babd09a1688d38"
  },
  {
   "cell_type": "code",
   "execution_count": 11,
   "outputs": [],
   "source": [
    "from constants.admission_types_dataset import admission_mapping, CONDITION_TESTS, CONDITIONS_CONST, STAY_TYPES\n",
    "\n",
    "\n",
    "flattened = [\n",
    "    (\n",
    "        top_level.name,\n",
    "        sub_level_key.name,\n",
    "        stay_type,\n",
    "        \", \".join([item for sublist in sub_level_info.get(CONDITIONS_CONST, [[\"No conditions\"]]) for item in sublist]),  \", \".join(sub_level_info.get(CONDITION_TESTS, [\"No tests\"])) \n",
    "    )\n",
    "    for top_level, sub_level_dict in admission_mapping.items()\n",
    "    for sub_level_key, sub_level_info in sub_level_dict.items()\n",
    "    for stay_type in (sub_level_info[STAY_TYPES] if isinstance(sub_level_info, dict) else sub_level_info)\n",
    "]\n",
    "\n"
   ],
   "metadata": {
    "collapsed": false,
    "ExecuteTime": {
     "end_time": "2024-02-22T23:11:40.938342Z",
     "start_time": "2024-02-22T23:11:40.928006Z"
    }
   },
   "id": "d463e373907bf09e"
  },
  {
   "cell_type": "code",
   "execution_count": 11,
   "outputs": [],
   "source": [],
   "metadata": {
    "collapsed": false,
    "ExecuteTime": {
     "end_time": "2024-02-22T23:11:42.695376Z",
     "start_time": "2024-02-22T23:11:42.688110Z"
    }
   },
   "id": "843b08e8abe947cd"
  },
  {
   "cell_type": "code",
   "execution_count": 12,
   "outputs": [
    {
     "data": {
      "text/plain": "[('EMERGENCY',\n  'INJURY_RTC',\n  'Inpatient',\n  'Whiplash, Concussions, Contusions (bruises), Lacerations, Abrasions, Fractures, Sprains, Strains, Dislocations, Rib Fractures, Internal Bleeding, Pneumothorax (collapsed lung), Spinal Cord Injuries, Traumatic Brain Injuries (TBIs), Crush Injuries, Amputations, Psychological Trauma, Burn Injuries, Skull Fractures, Pelvic Fractures, Facial Fractures, Hematomas, Organ Damage, Cervical Spine Injuries, Thoracic Spine Injuries, Lumbar Spine Injuries, Tendon Injuries, Nerve Damage, Eye Injuries, Dental Injuries, Post-Traumatic Arthritis, Compartment Syndrome, Soft Tissue Injuries, Seat Belt Injuries, Airbag Injuries, Lower Extremity Injuries, Upper Extremity Injuries, Drowning or Near-Drowning Incidents, Hypothermia or Frostbite, Heatstroke, Acoustic Trauma, Stress Fractures, Bursitis',\n  'X-rays, CT scans, MRI, Ultrasound, Blood tests'),\n ('EMERGENCY',\n  'INJURY_RTC',\n  'Day Patient',\n  'Whiplash, Concussions, Contusions (bruises), Lacerations, Abrasions, Fractures, Sprains, Strains, Dislocations, Rib Fractures, Internal Bleeding, Pneumothorax (collapsed lung), Spinal Cord Injuries, Traumatic Brain Injuries (TBIs), Crush Injuries, Amputations, Psychological Trauma, Burn Injuries, Skull Fractures, Pelvic Fractures, Facial Fractures, Hematomas, Organ Damage, Cervical Spine Injuries, Thoracic Spine Injuries, Lumbar Spine Injuries, Tendon Injuries, Nerve Damage, Eye Injuries, Dental Injuries, Post-Traumatic Arthritis, Compartment Syndrome, Soft Tissue Injuries, Seat Belt Injuries, Airbag Injuries, Lower Extremity Injuries, Upper Extremity Injuries, Drowning or Near-Drowning Incidents, Hypothermia or Frostbite, Heatstroke, Acoustic Trauma, Stress Fractures, Bursitis',\n  'X-rays, CT scans, MRI, Ultrasound, Blood tests'),\n ('EMERGENCY',\n  'SELF_INFLICTED',\n  'Inpatient',\n  'No conditions',\n  'Psychological assessment, X-rays (for physical injuries), Blood tests, Toxicology screening'),\n ('EMERGENCY',\n  'CARDIOLOGY',\n  'Inpatient',\n  'Hypertension (High Blood Pressure), Coronary Artery Disease, Heart Attack, Heart Failure, Arrhythmias, Peripheral Artery Disease, Stroke, Aneurysms, Venous Thromboembolism',\n  'ECG, Echocardiogram, Stress tests, Cardiac catheterization, Blood tests'),\n ('EMERGENCY',\n  'CARDIOLOGY',\n  'Day Patient',\n  'Hypertension (High Blood Pressure), Coronary Artery Disease, Heart Attack, Heart Failure, Arrhythmias, Peripheral Artery Disease, Stroke, Aneurysms, Venous Thromboembolism',\n  'ECG, Echocardiogram, Stress tests, Cardiac catheterization, Blood tests'),\n ('EMERGENCY',\n  'NEUROLOGY',\n  'Inpatient',\n  \"Migraines, Epilepsy, Parkinson's Disease, Alzheimer's Disease, Multiple Sclerosis, Stroke, Peripheral Neuropathy, Bell's Palsy, Sciatica, Concussion\",\n  'MRI or CT scans of the brain, Electroencephalogram (EEG), Lumbar puncture, Nerve conduction studies, Blood tests'),\n ('EMERGENCY',\n  'NEUROLOGY',\n  'Day Patient',\n  \"Migraines, Epilepsy, Parkinson's Disease, Alzheimer's Disease, Multiple Sclerosis, Stroke, Peripheral Neuropathy, Bell's Palsy, Sciatica, Concussion\",\n  'MRI or CT scans of the brain, Electroencephalogram (EEG), Lumbar puncture, Nerve conduction studies, Blood tests'),\n ('EMERGENCY',\n  'NEUROLOGY',\n  'Outpatient',\n  \"Migraines, Epilepsy, Parkinson's Disease, Alzheimer's Disease, Multiple Sclerosis, Stroke, Peripheral Neuropathy, Bell's Palsy, Sciatica, Concussion\",\n  'MRI or CT scans of the brain, Electroencephalogram (EEG), Lumbar puncture, Nerve conduction studies, Blood tests'),\n ('EMERGENCY',\n  'GASTROENTEROLOGY',\n  'Inpatient',\n  \"Gastro-oesophageal Reflux Disease (GORD), Irritable Bowel Syndrome (IBS), Inflammatory Bowel Disease (IBD) - including Crohn's Disease and Ulcerative Colitis, Coeliac Disease, Peptic Ulcers, Gallstones, Chronic Liver Disease - including Hepatitis and Cirrhosis, Pancreatitis, Gastroenteritis, Diverticular Disease\",\n  'Endoscopy, Colonoscopy, Blood tests, Stool tests, Abdominal ultrasound, CT scan'),\n ('EMERGENCY',\n  'GASTROENTEROLOGY',\n  'Day Patient',\n  \"Gastro-oesophageal Reflux Disease (GORD), Irritable Bowel Syndrome (IBS), Inflammatory Bowel Disease (IBD) - including Crohn's Disease and Ulcerative Colitis, Coeliac Disease, Peptic Ulcers, Gallstones, Chronic Liver Disease - including Hepatitis and Cirrhosis, Pancreatitis, Gastroenteritis, Diverticular Disease\",\n  'Endoscopy, Colonoscopy, Blood tests, Stool tests, Abdominal ultrasound, CT scan'),\n ('EMERGENCY',\n  'GASTROENTEROLOGY',\n  'Outpatient',\n  \"Gastro-oesophageal Reflux Disease (GORD), Irritable Bowel Syndrome (IBS), Inflammatory Bowel Disease (IBD) - including Crohn's Disease and Ulcerative Colitis, Coeliac Disease, Peptic Ulcers, Gallstones, Chronic Liver Disease - including Hepatitis and Cirrhosis, Pancreatitis, Gastroenteritis, Diverticular Disease\",\n  'Endoscopy, Colonoscopy, Blood tests, Stool tests, Abdominal ultrasound, CT scan'),\n ('EMERGENCY',\n  'RESPIRATORY',\n  'Inpatient',\n  'Asthma, Chronic Obstructive Pulmonary Disease (COPD), Pneumonia, Bronchitis, Sinusitis, Allergic Rhinitis, Pulmonary Embolism, Lung Cancer, Cystic Fibrosis, Sleep Apnea',\n  'Pulmonary function tests, Chest X-ray, CT scan, Bronchoscopy'),\n ('EMERGENCY',\n  'RESPIRATORY',\n  'Day Patient',\n  'Asthma, Chronic Obstructive Pulmonary Disease (COPD), Pneumonia, Bronchitis, Sinusitis, Allergic Rhinitis, Pulmonary Embolism, Lung Cancer, Cystic Fibrosis, Sleep Apnea',\n  'Pulmonary function tests, Chest X-ray, CT scan, Bronchoscopy'),\n ('EMERGENCY',\n  'RESPIRATORY',\n  'Outpatient',\n  'Asthma, Chronic Obstructive Pulmonary Disease (COPD), Pneumonia, Bronchitis, Sinusitis, Allergic Rhinitis, Pulmonary Embolism, Lung Cancer, Cystic Fibrosis, Sleep Apnea',\n  'Pulmonary function tests, Chest X-ray, CT scan, Bronchoscopy'),\n ('EMERGENCY',\n  'INFECTIOUS_DISEASES',\n  'Inpatient',\n  'Influenza, Urinary Tract Infections (UTIs), HIV/AIDS, Hepatitis, Tuberculosis, Malaria, COVID-19, Strep Throat, Herpes Simplex Virus',\n  'Blood cultures, PCR tests, Antibody tests, chest X-ray, Lumbar puncture'),\n ('EMERGENCY',\n  'INFECTIOUS_DISEASES',\n  'Day Patient',\n  'Influenza, Urinary Tract Infections (UTIs), HIV/AIDS, Hepatitis, Tuberculosis, Malaria, COVID-19, Strep Throat, Herpes Simplex Virus',\n  'Blood cultures, PCR tests, Antibody tests, chest X-ray, Lumbar puncture'),\n ('EMERGENCY',\n  'MATERNITY',\n  'Inpatient',\n  'Labour and Delivery, Scheduled Caesarean Section, Induction of Labour, Preterm Labour, Pre-eclampsia/Eclampsia, Gestational Diabetes Monitoring, Antepartum Haemorrhage, Pregnancy-induced Hypertension, Ruptured Membranes without Contractions, Postpartum Complications',\n  'Ultrasound, Blood tests, Glucose tolerance test, Amniocentesis'),\n ('EMERGENCY',\n  'MATERNITY',\n  'Day Patient',\n  'Labour and Delivery, Scheduled Caesarean Section, Induction of Labour, Preterm Labour, Pre-eclampsia/Eclampsia, Gestational Diabetes Monitoring, Antepartum Haemorrhage, Pregnancy-induced Hypertension, Ruptured Membranes without Contractions, Postpartum Complications',\n  'Ultrasound, Blood tests, Glucose tolerance test, Amniocentesis'),\n ('EMERGENCY',\n  'MATERNITY',\n  'Outpatient',\n  'Labour and Delivery, Scheduled Caesarean Section, Induction of Labour, Preterm Labour, Pre-eclampsia/Eclampsia, Gestational Diabetes Monitoring, Antepartum Haemorrhage, Pregnancy-induced Hypertension, Ruptured Membranes without Contractions, Postpartum Complications',\n  'Ultrasound, Blood tests, Glucose tolerance test, Amniocentesis'),\n ('EMERGENCY',\n  'PSYCHIATRIC',\n  'Inpatient',\n  'Depression, Anxiety Disorders, Bipolar Disorder, Schizophrenia, Post-Traumatic Stress Disorder (PTSD), Obsessive-Compulsive Disorder (OCD), Eating Disorders (Anorexia, Bulimia), Attention Deficit Hyperactivity Disorder (ADHD), Autism Spectrum Disorder, Insomnia',\n  'Psychological evaluation, Blood tests, Brain imaging (MRI, CT scans), Electroencephalogram (EEG)'),\n ('EMERGENCY',\n  'PSYCHIATRIC',\n  'Day Patient',\n  'Depression, Anxiety Disorders, Bipolar Disorder, Schizophrenia, Post-Traumatic Stress Disorder (PTSD), Obsessive-Compulsive Disorder (OCD), Eating Disorders (Anorexia, Bulimia), Attention Deficit Hyperactivity Disorder (ADHD), Autism Spectrum Disorder, Insomnia',\n  'Psychological evaluation, Blood tests, Brain imaging (MRI, CT scans), Electroencephalogram (EEG)'),\n ('EMERGENCY',\n  'PSYCHIATRIC',\n  'Outpatient',\n  'Depression, Anxiety Disorders, Bipolar Disorder, Schizophrenia, Post-Traumatic Stress Disorder (PTSD), Obsessive-Compulsive Disorder (OCD), Eating Disorders (Anorexia, Bulimia), Attention Deficit Hyperactivity Disorder (ADHD), Autism Spectrum Disorder, Insomnia',\n  'Psychological evaluation, Blood tests, Brain imaging (MRI, CT scans), Electroencephalogram (EEG)'),\n ('EMERGENCY',\n  'ORTHOPEDICS',\n  'Inpatient',\n  'Osteoarthritis, Rheumatoid Arthritis, Osteoporosis, Fractures, Anterior Cruciate Ligament (ACL) Injuries, Meniscus Tears, Rotator Cuff Tears, Carpal Tunnel Syndrome, Spinal Disc Herniation, Scoliosis',\n  'X-rays, MRI, CT scans, Bone scans, Blood tests'),\n ('EMERGENCY',\n  'ORTHOPEDICS',\n  'Day Patient',\n  'Osteoarthritis, Rheumatoid Arthritis, Osteoporosis, Fractures, Anterior Cruciate Ligament (ACL) Injuries, Meniscus Tears, Rotator Cuff Tears, Carpal Tunnel Syndrome, Spinal Disc Herniation, Scoliosis',\n  'X-rays, MRI, CT scans, Bone scans, Blood tests'),\n ('EMERGENCY',\n  'ORTHOPEDICS',\n  'Outpatient',\n  'Osteoarthritis, Rheumatoid Arthritis, Osteoporosis, Fractures, Anterior Cruciate Ligament (ACL) Injuries, Meniscus Tears, Rotator Cuff Tears, Carpal Tunnel Syndrome, Spinal Disc Herniation, Scoliosis',\n  'X-rays, MRI, CT scans, Bone scans, Blood tests'),\n ('GP_REFERRAL',\n  'PSYCHIATRIC',\n  'Inpatient',\n  'Depression, Anxiety Disorders, Bipolar Disorder, Schizophrenia, Post-Traumatic Stress Disorder (PTSD), Obsessive-Compulsive Disorder (OCD), Eating Disorders (Anorexia, Bulimia), Attention Deficit Hyperactivity Disorder (ADHD), Autism Spectrum Disorder, Insomnia',\n  'Psychological evaluation, Blood tests, Brain imaging (MRI, CT scans), Electroencephalogram (EEG)'),\n ('GP_REFERRAL',\n  'PSYCHIATRIC',\n  'Day Patient',\n  'Depression, Anxiety Disorders, Bipolar Disorder, Schizophrenia, Post-Traumatic Stress Disorder (PTSD), Obsessive-Compulsive Disorder (OCD), Eating Disorders (Anorexia, Bulimia), Attention Deficit Hyperactivity Disorder (ADHD), Autism Spectrum Disorder, Insomnia',\n  'Psychological evaluation, Blood tests, Brain imaging (MRI, CT scans), Electroencephalogram (EEG)'),\n ('GP_REFERRAL',\n  'PSYCHIATRIC',\n  'Outpatient',\n  'Depression, Anxiety Disorders, Bipolar Disorder, Schizophrenia, Post-Traumatic Stress Disorder (PTSD), Obsessive-Compulsive Disorder (OCD), Eating Disorders (Anorexia, Bulimia), Attention Deficit Hyperactivity Disorder (ADHD), Autism Spectrum Disorder, Insomnia',\n  'Psychological evaluation, Blood tests, Brain imaging (MRI, CT scans), Electroencephalogram (EEG)'),\n ('GP_REFERRAL',\n  'ORTHOPEDICS',\n  'Outpatient',\n  'Osteoarthritis, Rheumatoid Arthritis, Osteoporosis, Fractures, Anterior Cruciate Ligament (ACL) Injuries, Meniscus Tears, Rotator Cuff Tears, Carpal Tunnel Syndrome, Spinal Disc Herniation, Scoliosis',\n  'X-rays, MRI, CT scans, Bone scans, Blood tests'),\n ('GP_REFERRAL',\n  'GASTROENTEROLOGY',\n  'Inpatient',\n  \"Gastro-oesophageal Reflux Disease (GORD), Irritable Bowel Syndrome (IBS), Inflammatory Bowel Disease (IBD) - including Crohn's Disease and Ulcerative Colitis, Coeliac Disease, Peptic Ulcers, Gallstones, Chronic Liver Disease - including Hepatitis and Cirrhosis, Pancreatitis, Gastroenteritis, Diverticular Disease\",\n  'Endoscopy, Colonoscopy, Blood tests, Stool tests, Abdominal ultrasound, CT scan'),\n ('GP_REFERRAL',\n  'GASTROENTEROLOGY',\n  'Day Patient',\n  \"Gastro-oesophageal Reflux Disease (GORD), Irritable Bowel Syndrome (IBS), Inflammatory Bowel Disease (IBD) - including Crohn's Disease and Ulcerative Colitis, Coeliac Disease, Peptic Ulcers, Gallstones, Chronic Liver Disease - including Hepatitis and Cirrhosis, Pancreatitis, Gastroenteritis, Diverticular Disease\",\n  'Endoscopy, Colonoscopy, Blood tests, Stool tests, Abdominal ultrasound, CT scan'),\n ('GP_REFERRAL',\n  'GASTROENTEROLOGY',\n  'Outpatient',\n  \"Gastro-oesophageal Reflux Disease (GORD), Irritable Bowel Syndrome (IBS), Inflammatory Bowel Disease (IBD) - including Crohn's Disease and Ulcerative Colitis, Coeliac Disease, Peptic Ulcers, Gallstones, Chronic Liver Disease - including Hepatitis and Cirrhosis, Pancreatitis, Gastroenteritis, Diverticular Disease\",\n  'Endoscopy, Colonoscopy, Blood tests, Stool tests, Abdominal ultrasound, CT scan'),\n ('GP_REFERRAL',\n  'ENDOCRINOLOGY',\n  'Outpatient',\n  \"Diabetes Mellitus - Type 1 and Type 2, Thyroid Disorders - including Hypothyroidism and Hyperthyroidism, Addison's Disease, Cushing's Syndrome, Polycystic Ovary Syndrome (PCOS), Osteoporosis, Pituitary Disorders, Hyperlipidaemia, Gout, Metabolic Syndrome\",\n  'Blood tests (hormone levels), Thyroid function tests, Bone density tests'),\n ('GP_REFERRAL',\n  'DERMATOLOGY',\n  'Outpatient',\n  'Acne, Eczema, Psoriasis, Dermatitis, Skin Cancer, Rosacea, Hives (Urticaria), Impetigo, Cellulitis, Shingles (Herpes Zoster)',\n  'Skin biopsy, Patch tests, Skin scrapings, Blood tests'),\n ('GP_REFERRAL',\n  'MATERNITY',\n  'Inpatient',\n  'Labour and Delivery, Scheduled Caesarean Section, Induction of Labour, Preterm Labour, Pre-eclampsia/Eclampsia, Gestational Diabetes Monitoring, Antepartum Haemorrhage, Pregnancy-induced Hypertension, Ruptured Membranes without Contractions, Postpartum Complications',\n  'Ultrasound, Blood tests, Glucose tolerance test, Amniocentesis'),\n ('GP_REFERRAL',\n  'MATERNITY',\n  'Day Patient',\n  'Labour and Delivery, Scheduled Caesarean Section, Induction of Labour, Preterm Labour, Pre-eclampsia/Eclampsia, Gestational Diabetes Monitoring, Antepartum Haemorrhage, Pregnancy-induced Hypertension, Ruptured Membranes without Contractions, Postpartum Complications',\n  'Ultrasound, Blood tests, Glucose tolerance test, Amniocentesis'),\n ('GP_REFERRAL',\n  'MATERNITY',\n  'Outpatient',\n  'Labour and Delivery, Scheduled Caesarean Section, Induction of Labour, Preterm Labour, Pre-eclampsia/Eclampsia, Gestational Diabetes Monitoring, Antepartum Haemorrhage, Pregnancy-induced Hypertension, Ruptured Membranes without Contractions, Postpartum Complications',\n  'Ultrasound, Blood tests, Glucose tolerance test, Amniocentesis'),\n ('GP_REFERRAL', 'GERIATRICS', 'Inpatient', 'No conditions', 'No tests'),\n ('GP_REFERRAL', 'GERIATRICS', 'Outpatient', 'No conditions', 'No tests'),\n ('HOSPITAL_REFERRAL',\n  'CARDIOLOGY',\n  'Inpatient',\n  'Hypertension (High Blood Pressure), Coronary Artery Disease, Heart Attack, Heart Failure, Arrhythmias, Peripheral Artery Disease, Stroke, Aneurysms, Venous Thromboembolism',\n  'ECG, Echocardiogram, Stress tests, Cardiac catheterization, Blood tests'),\n ('HOSPITAL_REFERRAL',\n  'CARDIOLOGY',\n  'Day Patient',\n  'Hypertension (High Blood Pressure), Coronary Artery Disease, Heart Attack, Heart Failure, Arrhythmias, Peripheral Artery Disease, Stroke, Aneurysms, Venous Thromboembolism',\n  'ECG, Echocardiogram, Stress tests, Cardiac catheterization, Blood tests'),\n ('HOSPITAL_REFERRAL',\n  'NEPHROLOGY',\n  'Inpatient',\n  'Chronic Kidney Disease (CKD), Acute Kidney Injury (AKI), Glomerulonephritis, Polycystic Kidney Disease, Kidney Stones, Urinary Tract Infections (UTIs), Nephrotic Syndrome, Renal Artery Stenosis, Haemodialysis-related Amyloidosis, Hyperkalaemia',\n  'Blood tests (renal function tests), Urine tests, Ultrasound of the kidneys, Biopsy'),\n ('HOSPITAL_REFERRAL',\n  'NEPHROLOGY',\n  'Day Patient',\n  'Chronic Kidney Disease (CKD), Acute Kidney Injury (AKI), Glomerulonephritis, Polycystic Kidney Disease, Kidney Stones, Urinary Tract Infections (UTIs), Nephrotic Syndrome, Renal Artery Stenosis, Haemodialysis-related Amyloidosis, Hyperkalaemia',\n  'Blood tests (renal function tests), Urine tests, Ultrasound of the kidneys, Biopsy'),\n ('HOSPITAL_REFERRAL',\n  'NEPHROLOGY',\n  'Outpatient',\n  'Chronic Kidney Disease (CKD), Acute Kidney Injury (AKI), Glomerulonephritis, Polycystic Kidney Disease, Kidney Stones, Urinary Tract Infections (UTIs), Nephrotic Syndrome, Renal Artery Stenosis, Haemodialysis-related Amyloidosis, Hyperkalaemia',\n  'Blood tests (renal function tests), Urine tests, Ultrasound of the kidneys, Biopsy'),\n ('HOSPITAL_REFERRAL',\n  'NEUROLOGY',\n  'Inpatient',\n  \"Migraines, Epilepsy, Parkinson's Disease, Alzheimer's Disease, Multiple Sclerosis, Stroke, Peripheral Neuropathy, Bell's Palsy, Sciatica, Concussion\",\n  'MRI or CT scans of the brain, Electroencephalogram (EEG), Lumbar puncture, Nerve conduction studies, Blood tests'),\n ('HOSPITAL_REFERRAL',\n  'NEUROLOGY',\n  'Day Patient',\n  \"Migraines, Epilepsy, Parkinson's Disease, Alzheimer's Disease, Multiple Sclerosis, Stroke, Peripheral Neuropathy, Bell's Palsy, Sciatica, Concussion\",\n  'MRI or CT scans of the brain, Electroencephalogram (EEG), Lumbar puncture, Nerve conduction studies, Blood tests'),\n ('HOSPITAL_REFERRAL',\n  'NEUROLOGY',\n  'Outpatient',\n  \"Migraines, Epilepsy, Parkinson's Disease, Alzheimer's Disease, Multiple Sclerosis, Stroke, Peripheral Neuropathy, Bell's Palsy, Sciatica, Concussion\",\n  'MRI or CT scans of the brain, Electroencephalogram (EEG), Lumbar puncture, Nerve conduction studies, Blood tests'),\n ('HOSPITAL_REFERRAL',\n  'ONCOLOGY',\n  'Inpatient',\n  'Breast Cancer, Lung Cancer, Prostate Cancer, Colorectal Cancer, Melanoma, Leukemia, Lymphoma, Pancreatic Cancer, Ovarian Cancer, Bladder Cancer',\n  'Biopsies, MRI, Ultrasound, Blood tests, Imaging CT, Imaging MRI, Imaging PET scans, X-rays, Biopsy, CT scans'),\n ('HOSPITAL_REFERRAL',\n  'ONCOLOGY',\n  'Day Patient',\n  'Breast Cancer, Lung Cancer, Prostate Cancer, Colorectal Cancer, Melanoma, Leukemia, Lymphoma, Pancreatic Cancer, Ovarian Cancer, Bladder Cancer',\n  'Biopsies, MRI, Ultrasound, Blood tests, Imaging CT, Imaging MRI, Imaging PET scans, X-rays, Biopsy, CT scans'),\n ('HOSPITAL_REFERRAL',\n  'ONCOLOGY',\n  'Outpatient',\n  'Breast Cancer, Lung Cancer, Prostate Cancer, Colorectal Cancer, Melanoma, Leukemia, Lymphoma, Pancreatic Cancer, Ovarian Cancer, Bladder Cancer',\n  'Biopsies, MRI, Ultrasound, Blood tests, Imaging CT, Imaging MRI, Imaging PET scans, X-rays, Biopsy, CT scans'),\n ('HOSPITAL_REFERRAL',\n  'HEMATOLOGY',\n  'Inpatient',\n  'Anemia, Hemophilia, Leukemia, Lymphoma, Sickle Cell Disease, Deep Vein Thrombosis (DVT), Iron Deficiency Anemia, Thrombocytopenia, Hemochromatosis, Polycythemia Vera',\n  'Full Blood Count (FBC), Coagulation Profile, Bone Marrow Biopsy, Haemoglobin Electrophoresis, Erythrocyte Sedimentation Rate (ESR), Serum Ferritin, Blood Film, Immunophenotyping, Cytogenetic Testing, Molecular Genetic Tests'),\n ('HOSPITAL_REFERRAL',\n  'HEMATOLOGY',\n  'Day Patient',\n  'Anemia, Hemophilia, Leukemia, Lymphoma, Sickle Cell Disease, Deep Vein Thrombosis (DVT), Iron Deficiency Anemia, Thrombocytopenia, Hemochromatosis, Polycythemia Vera',\n  'Full Blood Count (FBC), Coagulation Profile, Bone Marrow Biopsy, Haemoglobin Electrophoresis, Erythrocyte Sedimentation Rate (ESR), Serum Ferritin, Blood Film, Immunophenotyping, Cytogenetic Testing, Molecular Genetic Tests'),\n ('HOSPITAL_REFERRAL',\n  'HEMATOLOGY',\n  'Outpatient',\n  'Anemia, Hemophilia, Leukemia, Lymphoma, Sickle Cell Disease, Deep Vein Thrombosis (DVT), Iron Deficiency Anemia, Thrombocytopenia, Hemochromatosis, Polycythemia Vera',\n  'Full Blood Count (FBC), Coagulation Profile, Bone Marrow Biopsy, Haemoglobin Electrophoresis, Erythrocyte Sedimentation Rate (ESR), Serum Ferritin, Blood Film, Immunophenotyping, Cytogenetic Testing, Molecular Genetic Tests'),\n ('HOSPITAL_REFERRAL',\n  'UROLOGY',\n  'Inpatient',\n  'Urinary Tract Infections (UTIs), Kidney Stones, Erectile Dysfunction, Prostate Enlargement (Benign Prostatic Hyperplasia), Bladder Infections, Chronic Kidney Disease, Urinary Incontinence, Prostatitis, Overactive Bladder, Kidney Failure',\n  'Urinalysis, Blood Tests for Kidney Function, Ultrasound of the Kidneys and Bladder, Cystoscopy, Urodynamic Testing, Prostate-Specific Antigen (PSA) Test, CT Urogram, MRI of the Pelvis, Intravenous Pyelogram (IVP), Renal Biopsy'),\n ('HOSPITAL_REFERRAL',\n  'UROLOGY',\n  'Day Patient',\n  'Urinary Tract Infections (UTIs), Kidney Stones, Erectile Dysfunction, Prostate Enlargement (Benign Prostatic Hyperplasia), Bladder Infections, Chronic Kidney Disease, Urinary Incontinence, Prostatitis, Overactive Bladder, Kidney Failure',\n  'Urinalysis, Blood Tests for Kidney Function, Ultrasound of the Kidneys and Bladder, Cystoscopy, Urodynamic Testing, Prostate-Specific Antigen (PSA) Test, CT Urogram, MRI of the Pelvis, Intravenous Pyelogram (IVP), Renal Biopsy'),\n ('HOSPITAL_REFERRAL',\n  'UROLOGY',\n  'Outpatient',\n  'Urinary Tract Infections (UTIs), Kidney Stones, Erectile Dysfunction, Prostate Enlargement (Benign Prostatic Hyperplasia), Bladder Infections, Chronic Kidney Disease, Urinary Incontinence, Prostatitis, Overactive Bladder, Kidney Failure',\n  'Urinalysis, Blood Tests for Kidney Function, Ultrasound of the Kidneys and Bladder, Cystoscopy, Urodynamic Testing, Prostate-Specific Antigen (PSA) Test, CT Urogram, MRI of the Pelvis, Intravenous Pyelogram (IVP), Renal Biopsy'),\n ('HOSPITAL_REFERRAL',\n  'GASTROINTESTINAL_DISORDERS',\n  'Inpatient',\n  \"Gastroesophageal Reflux Disease (GERD), Peptic Ulcer Disease, Irritable Bowel Syndrome (IBS), Crohn's Disease, Ulcerative Colitis, Gallstones, Hepatitis, Cirrhosis, Pancreatitis, Celiac Disease\",\n  'Endoscopy, Colonoscopy, Blood tests, Stool tests, Abdominal ultrasound, CT scan'),\n ('HOSPITAL_REFERRAL',\n  'GASTROINTESTINAL_DISORDERS',\n  'Day Patient',\n  \"Gastroesophageal Reflux Disease (GERD), Peptic Ulcer Disease, Irritable Bowel Syndrome (IBS), Crohn's Disease, Ulcerative Colitis, Gallstones, Hepatitis, Cirrhosis, Pancreatitis, Celiac Disease\",\n  'Endoscopy, Colonoscopy, Blood tests, Stool tests, Abdominal ultrasound, CT scan'),\n ('HOSPITAL_REFERRAL',\n  'GASTROINTESTINAL_DISORDERS',\n  'Outpatient',\n  \"Gastroesophageal Reflux Disease (GERD), Peptic Ulcer Disease, Irritable Bowel Syndrome (IBS), Crohn's Disease, Ulcerative Colitis, Gallstones, Hepatitis, Cirrhosis, Pancreatitis, Celiac Disease\",\n  'Endoscopy, Colonoscopy, Blood tests, Stool tests, Abdominal ultrasound, CT scan'),\n ('HOSPITAL_REFERRAL',\n  'RESPIRATORY',\n  'Inpatient',\n  'Asthma, Chronic Obstructive Pulmonary Disease (COPD), Pneumonia, Bronchitis, Sinusitis, Allergic Rhinitis, Pulmonary Embolism, Lung Cancer, Cystic Fibrosis, Sleep Apnea',\n  'Pulmonary function tests, Chest X-ray, CT scan, Bronchoscopy'),\n ('HOSPITAL_REFERRAL',\n  'RESPIRATORY',\n  'Day Patient',\n  'Asthma, Chronic Obstructive Pulmonary Disease (COPD), Pneumonia, Bronchitis, Sinusitis, Allergic Rhinitis, Pulmonary Embolism, Lung Cancer, Cystic Fibrosis, Sleep Apnea',\n  'Pulmonary function tests, Chest X-ray, CT scan, Bronchoscopy'),\n ('HOSPITAL_REFERRAL',\n  'RESPIRATORY',\n  'Outpatient',\n  'Asthma, Chronic Obstructive Pulmonary Disease (COPD), Pneumonia, Bronchitis, Sinusitis, Allergic Rhinitis, Pulmonary Embolism, Lung Cancer, Cystic Fibrosis, Sleep Apnea',\n  'Pulmonary function tests, Chest X-ray, CT scan, Bronchoscopy'),\n ('HOSPITAL_REFERRAL',\n  'MUSCULOSKELETAL',\n  'Inpatient',\n  'Low Back Pain, Tendinitis, Bursitis, Fibromyalgia, Gout, Ankylosing Spondylitis, Plantar Fasciitis, Repetitive Strain Injury (RSI), Lupus, Polymyalgia Rheumatica',\n  'X-rays, MRI Scan, CT Scan, Bone Scan, Dual-energy X-ray Absorptiometry (DEXA) Scan, Electromyography (EMG), Nerve Conduction Studies, Ultrasound, Arthroscopy, Blood Tests for Rheumatoid Factor & Anti-CCP'),\n ('HOSPITAL_REFERRAL',\n  'MUSCULOSKELETAL',\n  'Day Patient',\n  'Low Back Pain, Tendinitis, Bursitis, Fibromyalgia, Gout, Ankylosing Spondylitis, Plantar Fasciitis, Repetitive Strain Injury (RSI), Lupus, Polymyalgia Rheumatica',\n  'X-rays, MRI Scan, CT Scan, Bone Scan, Dual-energy X-ray Absorptiometry (DEXA) Scan, Electromyography (EMG), Nerve Conduction Studies, Ultrasound, Arthroscopy, Blood Tests for Rheumatoid Factor & Anti-CCP'),\n ('HOSPITAL_REFERRAL',\n  'MUSCULOSKELETAL',\n  'Outpatient',\n  'Low Back Pain, Tendinitis, Bursitis, Fibromyalgia, Gout, Ankylosing Spondylitis, Plantar Fasciitis, Repetitive Strain Injury (RSI), Lupus, Polymyalgia Rheumatica',\n  'X-rays, MRI Scan, CT Scan, Bone Scan, Dual-energy X-ray Absorptiometry (DEXA) Scan, Electromyography (EMG), Nerve Conduction Studies, Ultrasound, Arthroscopy, Blood Tests for Rheumatoid Factor & Anti-CCP'),\n ('HOSPITAL_REFERRAL',\n  'OTORHINOLARYNGOLOGY_ENT',\n  'Inpatient',\n  \"Otitis Media (Middle Ear Infection), Otitis Externa (Swimmer's Ear), Sinusitis, Tonsillitis, Laryngitis, Meniere's Disease, Tinnitus, Hearing Loss, Pharyngitis, Rhinitis\",\n  'Hearing tests, Endoscopy of the ear/nose/throat, Imaging CT, Imaging MRI'),\n ('HOSPITAL_REFERRAL',\n  'OTORHINOLARYNGOLOGY_ENT',\n  'Day Patient',\n  \"Otitis Media (Middle Ear Infection), Otitis Externa (Swimmer's Ear), Sinusitis, Tonsillitis, Laryngitis, Meniere's Disease, Tinnitus, Hearing Loss, Pharyngitis, Rhinitis\",\n  'Hearing tests, Endoscopy of the ear/nose/throat, Imaging CT, Imaging MRI'),\n ('HOSPITAL_REFERRAL',\n  'OTORHINOLARYNGOLOGY_ENT',\n  'Outpatient',\n  \"Otitis Media (Middle Ear Infection), Otitis Externa (Swimmer's Ear), Sinusitis, Tonsillitis, Laryngitis, Meniere's Disease, Tinnitus, Hearing Loss, Pharyngitis, Rhinitis\",\n  'Hearing tests, Endoscopy of the ear/nose/throat, Imaging CT, Imaging MRI'),\n ('SELF_REFERRAL',\n  'PSYCHIATRIC',\n  'Outpatient',\n  'Depression, Anxiety Disorders, Bipolar Disorder, Schizophrenia, Post-Traumatic Stress Disorder (PTSD), Obsessive-Compulsive Disorder (OCD), Eating Disorders (Anorexia, Bulimia), Attention Deficit Hyperactivity Disorder (ADHD), Autism Spectrum Disorder, Insomnia',\n  'Psychological evaluation, Blood tests, Brain imaging (MRI, CT scans), Electroencephalogram (EEG)'),\n ('SELF_REFERRAL',\n  'DERMATOLOGY',\n  'Outpatient',\n  'Acne, Eczema, Psoriasis, Dermatitis, Skin Cancer, Rosacea, Hives (Urticaria), Impetigo, Cellulitis, Shingles (Herpes Zoster)',\n  'Skin biopsy, Patch tests, Skin scrapings, Blood tests'),\n ('SELF_REFERRAL',\n  'ORTHOPEDICS',\n  'Outpatient',\n  'Osteoarthritis, Rheumatoid Arthritis, Osteoporosis, Fractures, Anterior Cruciate Ligament (ACL) Injuries, Meniscus Tears, Rotator Cuff Tears, Carpal Tunnel Syndrome, Spinal Disc Herniation, Scoliosis',\n  'X-rays, MRI, CT scans, Bone scans, Blood tests'),\n ('SELF_REFERRAL',\n  'GASTROENTEROLOGY',\n  'Outpatient',\n  \"Gastro-oesophageal Reflux Disease (GORD), Irritable Bowel Syndrome (IBS), Inflammatory Bowel Disease (IBD) - including Crohn's Disease and Ulcerative Colitis, Coeliac Disease, Peptic Ulcers, Gallstones, Chronic Liver Disease - including Hepatitis and Cirrhosis, Pancreatitis, Gastroenteritis, Diverticular Disease\",\n  'Endoscopy, Colonoscopy, Blood tests, Stool tests, Abdominal ultrasound, CT scan'),\n ('SELF_REFERRAL',\n  'OPHTHALMOLOGY',\n  'Outpatient',\n  'Refractive Errors, Cataracts, Glaucoma, Age-related Macular Degeneration (AMD), Diabetic Retinopathy, Dry Eye Syndrome, Conjunctivitis, Retinal Detachment, Uveitis, Keratitis',\n  'Eye exam, Tonometry (eye pressure test), Retinal imaging, Visual field test'),\n ('SELF_REFERRAL',\n  'ENDOCRINOLOGY',\n  'Outpatient',\n  \"Diabetes Mellitus - Type 1 and Type 2, Thyroid Disorders - including Hypothyroidism and Hyperthyroidism, Addison's Disease, Cushing's Syndrome, Polycystic Ovary Syndrome (PCOS), Osteoporosis, Pituitary Disorders, Hyperlipidaemia, Gout, Metabolic Syndrome\",\n  'Blood tests (hormone levels), Thyroid function tests, Bone density tests'),\n ('ELECTIVE',\n  'MATERNITY',\n  'Inpatient',\n  'Labour and Delivery, Scheduled Caesarean Section, Induction of Labour, Preterm Labour, Pre-eclampsia/Eclampsia, Gestational Diabetes Monitoring, Antepartum Haemorrhage, Pregnancy-induced Hypertension, Ruptured Membranes without Contractions, Postpartum Complications',\n  'Ultrasound, Blood tests, Glucose tolerance test, Amniocentesis'),\n ('ELECTIVE',\n  'MATERNITY',\n  'Day Patient',\n  'Labour and Delivery, Scheduled Caesarean Section, Induction of Labour, Preterm Labour, Pre-eclampsia/Eclampsia, Gestational Diabetes Monitoring, Antepartum Haemorrhage, Pregnancy-induced Hypertension, Ruptured Membranes without Contractions, Postpartum Complications',\n  'Ultrasound, Blood tests, Glucose tolerance test, Amniocentesis'),\n ('ELECTIVE',\n  'MATERNITY',\n  'Outpatient',\n  'Labour and Delivery, Scheduled Caesarean Section, Induction of Labour, Preterm Labour, Pre-eclampsia/Eclampsia, Gestational Diabetes Monitoring, Antepartum Haemorrhage, Pregnancy-induced Hypertension, Ruptured Membranes without Contractions, Postpartum Complications',\n  'Ultrasound, Blood tests, Glucose tolerance test, Amniocentesis')]"
     },
     "execution_count": 12,
     "metadata": {},
     "output_type": "execute_result"
    }
   ],
   "source": [
    "flattened"
   ],
   "metadata": {
    "collapsed": false,
    "ExecuteTime": {
     "end_time": "2024-02-22T23:11:43.190414Z",
     "start_time": "2024-02-22T23:11:43.176744Z"
    }
   },
   "id": "220eadadf68afef4"
  },
  {
   "cell_type": "code",
   "execution_count": 13,
   "outputs": [
    {
     "name": "stderr",
     "output_type": "stream",
     "text": [
      "                                                                                \r"
     ]
    },
    {
     "data": {
      "text/plain": "   top_level_admission  sub_level_admission    stay_type  \\\n0            EMERGENCY           INJURY_RTC    Inpatient   \n1            EMERGENCY           INJURY_RTC  Day Patient   \n2            EMERGENCY       SELF_INFLICTED    Inpatient   \n3            EMERGENCY           CARDIOLOGY    Inpatient   \n4            EMERGENCY           CARDIOLOGY  Day Patient   \n5            EMERGENCY            NEUROLOGY    Inpatient   \n6            EMERGENCY            NEUROLOGY  Day Patient   \n7            EMERGENCY            NEUROLOGY   Outpatient   \n8            EMERGENCY     GASTROENTEROLOGY    Inpatient   \n9            EMERGENCY     GASTROENTEROLOGY  Day Patient   \n10           EMERGENCY     GASTROENTEROLOGY   Outpatient   \n11           EMERGENCY          RESPIRATORY    Inpatient   \n12           EMERGENCY          RESPIRATORY  Day Patient   \n13           EMERGENCY          RESPIRATORY   Outpatient   \n14           EMERGENCY  INFECTIOUS_DISEASES    Inpatient   \n15           EMERGENCY  INFECTIOUS_DISEASES  Day Patient   \n16           EMERGENCY            MATERNITY    Inpatient   \n17           EMERGENCY            MATERNITY  Day Patient   \n18           EMERGENCY            MATERNITY   Outpatient   \n19           EMERGENCY          PSYCHIATRIC    Inpatient   \n20           EMERGENCY          PSYCHIATRIC  Day Patient   \n21           EMERGENCY          PSYCHIATRIC   Outpatient   \n22           EMERGENCY          ORTHOPEDICS    Inpatient   \n23           EMERGENCY          ORTHOPEDICS  Day Patient   \n24           EMERGENCY          ORTHOPEDICS   Outpatient   \n25         GP_REFERRAL          PSYCHIATRIC    Inpatient   \n26         GP_REFERRAL          PSYCHIATRIC  Day Patient   \n27         GP_REFERRAL          PSYCHIATRIC   Outpatient   \n28         GP_REFERRAL          ORTHOPEDICS   Outpatient   \n29         GP_REFERRAL     GASTROENTEROLOGY    Inpatient   \n30         GP_REFERRAL     GASTROENTEROLOGY  Day Patient   \n31         GP_REFERRAL     GASTROENTEROLOGY   Outpatient   \n32         GP_REFERRAL        ENDOCRINOLOGY   Outpatient   \n33         GP_REFERRAL          DERMATOLOGY   Outpatient   \n34         GP_REFERRAL            MATERNITY    Inpatient   \n35         GP_REFERRAL            MATERNITY  Day Patient   \n36         GP_REFERRAL            MATERNITY   Outpatient   \n37         GP_REFERRAL           GERIATRICS    Inpatient   \n38         GP_REFERRAL           GERIATRICS   Outpatient   \n39   HOSPITAL_REFERRAL           CARDIOLOGY    Inpatient   \n40   HOSPITAL_REFERRAL           CARDIOLOGY  Day Patient   \n41   HOSPITAL_REFERRAL           NEPHROLOGY    Inpatient   \n42   HOSPITAL_REFERRAL           NEPHROLOGY  Day Patient   \n43   HOSPITAL_REFERRAL           NEPHROLOGY   Outpatient   \n44   HOSPITAL_REFERRAL            NEUROLOGY    Inpatient   \n\n                                       possible_tests  \\\n0   Whiplash, Concussions, Contusions (bruises), L...   \n1   Whiplash, Concussions, Contusions (bruises), L...   \n2                                       No conditions   \n3   Hypertension (High Blood Pressure), Coronary A...   \n4   Hypertension (High Blood Pressure), Coronary A...   \n5   Migraines, Epilepsy, Parkinson's Disease, Alzh...   \n6   Migraines, Epilepsy, Parkinson's Disease, Alzh...   \n7   Migraines, Epilepsy, Parkinson's Disease, Alzh...   \n8   Gastro-oesophageal Reflux Disease (GORD), Irri...   \n9   Gastro-oesophageal Reflux Disease (GORD), Irri...   \n10  Gastro-oesophageal Reflux Disease (GORD), Irri...   \n11  Asthma, Chronic Obstructive Pulmonary Disease ...   \n12  Asthma, Chronic Obstructive Pulmonary Disease ...   \n13  Asthma, Chronic Obstructive Pulmonary Disease ...   \n14  Influenza, Urinary Tract Infections (UTIs), HI...   \n15  Influenza, Urinary Tract Infections (UTIs), HI...   \n16  Labour and Delivery, Scheduled Caesarean Secti...   \n17  Labour and Delivery, Scheduled Caesarean Secti...   \n18  Labour and Delivery, Scheduled Caesarean Secti...   \n19  Depression, Anxiety Disorders, Bipolar Disorde...   \n20  Depression, Anxiety Disorders, Bipolar Disorde...   \n21  Depression, Anxiety Disorders, Bipolar Disorde...   \n22  Osteoarthritis, Rheumatoid Arthritis, Osteopor...   \n23  Osteoarthritis, Rheumatoid Arthritis, Osteopor...   \n24  Osteoarthritis, Rheumatoid Arthritis, Osteopor...   \n25  Depression, Anxiety Disorders, Bipolar Disorde...   \n26  Depression, Anxiety Disorders, Bipolar Disorde...   \n27  Depression, Anxiety Disorders, Bipolar Disorde...   \n28  Osteoarthritis, Rheumatoid Arthritis, Osteopor...   \n29  Gastro-oesophageal Reflux Disease (GORD), Irri...   \n30  Gastro-oesophageal Reflux Disease (GORD), Irri...   \n31  Gastro-oesophageal Reflux Disease (GORD), Irri...   \n32  Diabetes Mellitus - Type 1 and Type 2, Thyroid...   \n33  Acne, Eczema, Psoriasis, Dermatitis, Skin Canc...   \n34  Labour and Delivery, Scheduled Caesarean Secti...   \n35  Labour and Delivery, Scheduled Caesarean Secti...   \n36  Labour and Delivery, Scheduled Caesarean Secti...   \n37                                      No conditions   \n38                                      No conditions   \n39  Hypertension (High Blood Pressure), Coronary A...   \n40  Hypertension (High Blood Pressure), Coronary A...   \n41  Chronic Kidney Disease (CKD), Acute Kidney Inj...   \n42  Chronic Kidney Disease (CKD), Acute Kidney Inj...   \n43  Chronic Kidney Disease (CKD), Acute Kidney Inj...   \n44  Migraines, Epilepsy, Parkinson's Disease, Alzh...   \n\n                                           conditions  \n0      X-rays, CT scans, MRI, Ultrasound, Blood tests  \n1      X-rays, CT scans, MRI, Ultrasound, Blood tests  \n2   Psychological assessment, X-rays (for physical...  \n3   ECG, Echocardiogram, Stress tests, Cardiac cat...  \n4   ECG, Echocardiogram, Stress tests, Cardiac cat...  \n5   MRI or CT scans of the brain, Electroencephalo...  \n6   MRI or CT scans of the brain, Electroencephalo...  \n7   MRI or CT scans of the brain, Electroencephalo...  \n8   Endoscopy, Colonoscopy, Blood tests, Stool tes...  \n9   Endoscopy, Colonoscopy, Blood tests, Stool tes...  \n10  Endoscopy, Colonoscopy, Blood tests, Stool tes...  \n11  Pulmonary function tests, Chest X-ray, CT scan...  \n12  Pulmonary function tests, Chest X-ray, CT scan...  \n13  Pulmonary function tests, Chest X-ray, CT scan...  \n14  Blood cultures, PCR tests, Antibody tests, che...  \n15  Blood cultures, PCR tests, Antibody tests, che...  \n16  Ultrasound, Blood tests, Glucose tolerance tes...  \n17  Ultrasound, Blood tests, Glucose tolerance tes...  \n18  Ultrasound, Blood tests, Glucose tolerance tes...  \n19  Psychological evaluation, Blood tests, Brain i...  \n20  Psychological evaluation, Blood tests, Brain i...  \n21  Psychological evaluation, Blood tests, Brain i...  \n22     X-rays, MRI, CT scans, Bone scans, Blood tests  \n23     X-rays, MRI, CT scans, Bone scans, Blood tests  \n24     X-rays, MRI, CT scans, Bone scans, Blood tests  \n25  Psychological evaluation, Blood tests, Brain i...  \n26  Psychological evaluation, Blood tests, Brain i...  \n27  Psychological evaluation, Blood tests, Brain i...  \n28     X-rays, MRI, CT scans, Bone scans, Blood tests  \n29  Endoscopy, Colonoscopy, Blood tests, Stool tes...  \n30  Endoscopy, Colonoscopy, Blood tests, Stool tes...  \n31  Endoscopy, Colonoscopy, Blood tests, Stool tes...  \n32  Blood tests (hormone levels), Thyroid function...  \n33  Skin biopsy, Patch tests, Skin scrapings, Bloo...  \n34  Ultrasound, Blood tests, Glucose tolerance tes...  \n35  Ultrasound, Blood tests, Glucose tolerance tes...  \n36  Ultrasound, Blood tests, Glucose tolerance tes...  \n37                                           No tests  \n38                                           No tests  \n39  ECG, Echocardiogram, Stress tests, Cardiac cat...  \n40  ECG, Echocardiogram, Stress tests, Cardiac cat...  \n41  Blood tests (renal function tests), Urine test...  \n42  Blood tests (renal function tests), Urine test...  \n43  Blood tests (renal function tests), Urine test...  \n44  MRI or CT scans of the brain, Electroencephalo...  ",
      "text/html": "<div>\n<style scoped>\n    .dataframe tbody tr th:only-of-type {\n        vertical-align: middle;\n    }\n\n    .dataframe tbody tr th {\n        vertical-align: top;\n    }\n\n    .dataframe thead th {\n        text-align: right;\n    }\n</style>\n<table border=\"1\" class=\"dataframe\">\n  <thead>\n    <tr style=\"text-align: right;\">\n      <th></th>\n      <th>top_level_admission</th>\n      <th>sub_level_admission</th>\n      <th>stay_type</th>\n      <th>possible_tests</th>\n      <th>conditions</th>\n    </tr>\n  </thead>\n  <tbody>\n    <tr>\n      <th>0</th>\n      <td>EMERGENCY</td>\n      <td>INJURY_RTC</td>\n      <td>Inpatient</td>\n      <td>Whiplash, Concussions, Contusions (bruises), L...</td>\n      <td>X-rays, CT scans, MRI, Ultrasound, Blood tests</td>\n    </tr>\n    <tr>\n      <th>1</th>\n      <td>EMERGENCY</td>\n      <td>INJURY_RTC</td>\n      <td>Day Patient</td>\n      <td>Whiplash, Concussions, Contusions (bruises), L...</td>\n      <td>X-rays, CT scans, MRI, Ultrasound, Blood tests</td>\n    </tr>\n    <tr>\n      <th>2</th>\n      <td>EMERGENCY</td>\n      <td>SELF_INFLICTED</td>\n      <td>Inpatient</td>\n      <td>No conditions</td>\n      <td>Psychological assessment, X-rays (for physical...</td>\n    </tr>\n    <tr>\n      <th>3</th>\n      <td>EMERGENCY</td>\n      <td>CARDIOLOGY</td>\n      <td>Inpatient</td>\n      <td>Hypertension (High Blood Pressure), Coronary A...</td>\n      <td>ECG, Echocardiogram, Stress tests, Cardiac cat...</td>\n    </tr>\n    <tr>\n      <th>4</th>\n      <td>EMERGENCY</td>\n      <td>CARDIOLOGY</td>\n      <td>Day Patient</td>\n      <td>Hypertension (High Blood Pressure), Coronary A...</td>\n      <td>ECG, Echocardiogram, Stress tests, Cardiac cat...</td>\n    </tr>\n    <tr>\n      <th>5</th>\n      <td>EMERGENCY</td>\n      <td>NEUROLOGY</td>\n      <td>Inpatient</td>\n      <td>Migraines, Epilepsy, Parkinson's Disease, Alzh...</td>\n      <td>MRI or CT scans of the brain, Electroencephalo...</td>\n    </tr>\n    <tr>\n      <th>6</th>\n      <td>EMERGENCY</td>\n      <td>NEUROLOGY</td>\n      <td>Day Patient</td>\n      <td>Migraines, Epilepsy, Parkinson's Disease, Alzh...</td>\n      <td>MRI or CT scans of the brain, Electroencephalo...</td>\n    </tr>\n    <tr>\n      <th>7</th>\n      <td>EMERGENCY</td>\n      <td>NEUROLOGY</td>\n      <td>Outpatient</td>\n      <td>Migraines, Epilepsy, Parkinson's Disease, Alzh...</td>\n      <td>MRI or CT scans of the brain, Electroencephalo...</td>\n    </tr>\n    <tr>\n      <th>8</th>\n      <td>EMERGENCY</td>\n      <td>GASTROENTEROLOGY</td>\n      <td>Inpatient</td>\n      <td>Gastro-oesophageal Reflux Disease (GORD), Irri...</td>\n      <td>Endoscopy, Colonoscopy, Blood tests, Stool tes...</td>\n    </tr>\n    <tr>\n      <th>9</th>\n      <td>EMERGENCY</td>\n      <td>GASTROENTEROLOGY</td>\n      <td>Day Patient</td>\n      <td>Gastro-oesophageal Reflux Disease (GORD), Irri...</td>\n      <td>Endoscopy, Colonoscopy, Blood tests, Stool tes...</td>\n    </tr>\n    <tr>\n      <th>10</th>\n      <td>EMERGENCY</td>\n      <td>GASTROENTEROLOGY</td>\n      <td>Outpatient</td>\n      <td>Gastro-oesophageal Reflux Disease (GORD), Irri...</td>\n      <td>Endoscopy, Colonoscopy, Blood tests, Stool tes...</td>\n    </tr>\n    <tr>\n      <th>11</th>\n      <td>EMERGENCY</td>\n      <td>RESPIRATORY</td>\n      <td>Inpatient</td>\n      <td>Asthma, Chronic Obstructive Pulmonary Disease ...</td>\n      <td>Pulmonary function tests, Chest X-ray, CT scan...</td>\n    </tr>\n    <tr>\n      <th>12</th>\n      <td>EMERGENCY</td>\n      <td>RESPIRATORY</td>\n      <td>Day Patient</td>\n      <td>Asthma, Chronic Obstructive Pulmonary Disease ...</td>\n      <td>Pulmonary function tests, Chest X-ray, CT scan...</td>\n    </tr>\n    <tr>\n      <th>13</th>\n      <td>EMERGENCY</td>\n      <td>RESPIRATORY</td>\n      <td>Outpatient</td>\n      <td>Asthma, Chronic Obstructive Pulmonary Disease ...</td>\n      <td>Pulmonary function tests, Chest X-ray, CT scan...</td>\n    </tr>\n    <tr>\n      <th>14</th>\n      <td>EMERGENCY</td>\n      <td>INFECTIOUS_DISEASES</td>\n      <td>Inpatient</td>\n      <td>Influenza, Urinary Tract Infections (UTIs), HI...</td>\n      <td>Blood cultures, PCR tests, Antibody tests, che...</td>\n    </tr>\n    <tr>\n      <th>15</th>\n      <td>EMERGENCY</td>\n      <td>INFECTIOUS_DISEASES</td>\n      <td>Day Patient</td>\n      <td>Influenza, Urinary Tract Infections (UTIs), HI...</td>\n      <td>Blood cultures, PCR tests, Antibody tests, che...</td>\n    </tr>\n    <tr>\n      <th>16</th>\n      <td>EMERGENCY</td>\n      <td>MATERNITY</td>\n      <td>Inpatient</td>\n      <td>Labour and Delivery, Scheduled Caesarean Secti...</td>\n      <td>Ultrasound, Blood tests, Glucose tolerance tes...</td>\n    </tr>\n    <tr>\n      <th>17</th>\n      <td>EMERGENCY</td>\n      <td>MATERNITY</td>\n      <td>Day Patient</td>\n      <td>Labour and Delivery, Scheduled Caesarean Secti...</td>\n      <td>Ultrasound, Blood tests, Glucose tolerance tes...</td>\n    </tr>\n    <tr>\n      <th>18</th>\n      <td>EMERGENCY</td>\n      <td>MATERNITY</td>\n      <td>Outpatient</td>\n      <td>Labour and Delivery, Scheduled Caesarean Secti...</td>\n      <td>Ultrasound, Blood tests, Glucose tolerance tes...</td>\n    </tr>\n    <tr>\n      <th>19</th>\n      <td>EMERGENCY</td>\n      <td>PSYCHIATRIC</td>\n      <td>Inpatient</td>\n      <td>Depression, Anxiety Disorders, Bipolar Disorde...</td>\n      <td>Psychological evaluation, Blood tests, Brain i...</td>\n    </tr>\n    <tr>\n      <th>20</th>\n      <td>EMERGENCY</td>\n      <td>PSYCHIATRIC</td>\n      <td>Day Patient</td>\n      <td>Depression, Anxiety Disorders, Bipolar Disorde...</td>\n      <td>Psychological evaluation, Blood tests, Brain i...</td>\n    </tr>\n    <tr>\n      <th>21</th>\n      <td>EMERGENCY</td>\n      <td>PSYCHIATRIC</td>\n      <td>Outpatient</td>\n      <td>Depression, Anxiety Disorders, Bipolar Disorde...</td>\n      <td>Psychological evaluation, Blood tests, Brain i...</td>\n    </tr>\n    <tr>\n      <th>22</th>\n      <td>EMERGENCY</td>\n      <td>ORTHOPEDICS</td>\n      <td>Inpatient</td>\n      <td>Osteoarthritis, Rheumatoid Arthritis, Osteopor...</td>\n      <td>X-rays, MRI, CT scans, Bone scans, Blood tests</td>\n    </tr>\n    <tr>\n      <th>23</th>\n      <td>EMERGENCY</td>\n      <td>ORTHOPEDICS</td>\n      <td>Day Patient</td>\n      <td>Osteoarthritis, Rheumatoid Arthritis, Osteopor...</td>\n      <td>X-rays, MRI, CT scans, Bone scans, Blood tests</td>\n    </tr>\n    <tr>\n      <th>24</th>\n      <td>EMERGENCY</td>\n      <td>ORTHOPEDICS</td>\n      <td>Outpatient</td>\n      <td>Osteoarthritis, Rheumatoid Arthritis, Osteopor...</td>\n      <td>X-rays, MRI, CT scans, Bone scans, Blood tests</td>\n    </tr>\n    <tr>\n      <th>25</th>\n      <td>GP_REFERRAL</td>\n      <td>PSYCHIATRIC</td>\n      <td>Inpatient</td>\n      <td>Depression, Anxiety Disorders, Bipolar Disorde...</td>\n      <td>Psychological evaluation, Blood tests, Brain i...</td>\n    </tr>\n    <tr>\n      <th>26</th>\n      <td>GP_REFERRAL</td>\n      <td>PSYCHIATRIC</td>\n      <td>Day Patient</td>\n      <td>Depression, Anxiety Disorders, Bipolar Disorde...</td>\n      <td>Psychological evaluation, Blood tests, Brain i...</td>\n    </tr>\n    <tr>\n      <th>27</th>\n      <td>GP_REFERRAL</td>\n      <td>PSYCHIATRIC</td>\n      <td>Outpatient</td>\n      <td>Depression, Anxiety Disorders, Bipolar Disorde...</td>\n      <td>Psychological evaluation, Blood tests, Brain i...</td>\n    </tr>\n    <tr>\n      <th>28</th>\n      <td>GP_REFERRAL</td>\n      <td>ORTHOPEDICS</td>\n      <td>Outpatient</td>\n      <td>Osteoarthritis, Rheumatoid Arthritis, Osteopor...</td>\n      <td>X-rays, MRI, CT scans, Bone scans, Blood tests</td>\n    </tr>\n    <tr>\n      <th>29</th>\n      <td>GP_REFERRAL</td>\n      <td>GASTROENTEROLOGY</td>\n      <td>Inpatient</td>\n      <td>Gastro-oesophageal Reflux Disease (GORD), Irri...</td>\n      <td>Endoscopy, Colonoscopy, Blood tests, Stool tes...</td>\n    </tr>\n    <tr>\n      <th>30</th>\n      <td>GP_REFERRAL</td>\n      <td>GASTROENTEROLOGY</td>\n      <td>Day Patient</td>\n      <td>Gastro-oesophageal Reflux Disease (GORD), Irri...</td>\n      <td>Endoscopy, Colonoscopy, Blood tests, Stool tes...</td>\n    </tr>\n    <tr>\n      <th>31</th>\n      <td>GP_REFERRAL</td>\n      <td>GASTROENTEROLOGY</td>\n      <td>Outpatient</td>\n      <td>Gastro-oesophageal Reflux Disease (GORD), Irri...</td>\n      <td>Endoscopy, Colonoscopy, Blood tests, Stool tes...</td>\n    </tr>\n    <tr>\n      <th>32</th>\n      <td>GP_REFERRAL</td>\n      <td>ENDOCRINOLOGY</td>\n      <td>Outpatient</td>\n      <td>Diabetes Mellitus - Type 1 and Type 2, Thyroid...</td>\n      <td>Blood tests (hormone levels), Thyroid function...</td>\n    </tr>\n    <tr>\n      <th>33</th>\n      <td>GP_REFERRAL</td>\n      <td>DERMATOLOGY</td>\n      <td>Outpatient</td>\n      <td>Acne, Eczema, Psoriasis, Dermatitis, Skin Canc...</td>\n      <td>Skin biopsy, Patch tests, Skin scrapings, Bloo...</td>\n    </tr>\n    <tr>\n      <th>34</th>\n      <td>GP_REFERRAL</td>\n      <td>MATERNITY</td>\n      <td>Inpatient</td>\n      <td>Labour and Delivery, Scheduled Caesarean Secti...</td>\n      <td>Ultrasound, Blood tests, Glucose tolerance tes...</td>\n    </tr>\n    <tr>\n      <th>35</th>\n      <td>GP_REFERRAL</td>\n      <td>MATERNITY</td>\n      <td>Day Patient</td>\n      <td>Labour and Delivery, Scheduled Caesarean Secti...</td>\n      <td>Ultrasound, Blood tests, Glucose tolerance tes...</td>\n    </tr>\n    <tr>\n      <th>36</th>\n      <td>GP_REFERRAL</td>\n      <td>MATERNITY</td>\n      <td>Outpatient</td>\n      <td>Labour and Delivery, Scheduled Caesarean Secti...</td>\n      <td>Ultrasound, Blood tests, Glucose tolerance tes...</td>\n    </tr>\n    <tr>\n      <th>37</th>\n      <td>GP_REFERRAL</td>\n      <td>GERIATRICS</td>\n      <td>Inpatient</td>\n      <td>No conditions</td>\n      <td>No tests</td>\n    </tr>\n    <tr>\n      <th>38</th>\n      <td>GP_REFERRAL</td>\n      <td>GERIATRICS</td>\n      <td>Outpatient</td>\n      <td>No conditions</td>\n      <td>No tests</td>\n    </tr>\n    <tr>\n      <th>39</th>\n      <td>HOSPITAL_REFERRAL</td>\n      <td>CARDIOLOGY</td>\n      <td>Inpatient</td>\n      <td>Hypertension (High Blood Pressure), Coronary A...</td>\n      <td>ECG, Echocardiogram, Stress tests, Cardiac cat...</td>\n    </tr>\n    <tr>\n      <th>40</th>\n      <td>HOSPITAL_REFERRAL</td>\n      <td>CARDIOLOGY</td>\n      <td>Day Patient</td>\n      <td>Hypertension (High Blood Pressure), Coronary A...</td>\n      <td>ECG, Echocardiogram, Stress tests, Cardiac cat...</td>\n    </tr>\n    <tr>\n      <th>41</th>\n      <td>HOSPITAL_REFERRAL</td>\n      <td>NEPHROLOGY</td>\n      <td>Inpatient</td>\n      <td>Chronic Kidney Disease (CKD), Acute Kidney Inj...</td>\n      <td>Blood tests (renal function tests), Urine test...</td>\n    </tr>\n    <tr>\n      <th>42</th>\n      <td>HOSPITAL_REFERRAL</td>\n      <td>NEPHROLOGY</td>\n      <td>Day Patient</td>\n      <td>Chronic Kidney Disease (CKD), Acute Kidney Inj...</td>\n      <td>Blood tests (renal function tests), Urine test...</td>\n    </tr>\n    <tr>\n      <th>43</th>\n      <td>HOSPITAL_REFERRAL</td>\n      <td>NEPHROLOGY</td>\n      <td>Outpatient</td>\n      <td>Chronic Kidney Disease (CKD), Acute Kidney Inj...</td>\n      <td>Blood tests (renal function tests), Urine test...</td>\n    </tr>\n    <tr>\n      <th>44</th>\n      <td>HOSPITAL_REFERRAL</td>\n      <td>NEUROLOGY</td>\n      <td>Inpatient</td>\n      <td>Migraines, Epilepsy, Parkinson's Disease, Alzh...</td>\n      <td>MRI or CT scans of the brain, Electroencephalo...</td>\n    </tr>\n  </tbody>\n</table>\n</div>"
     },
     "metadata": {},
     "output_type": "display_data"
    }
   ],
   "source": [
    "\"\"\"\n",
    "STEP 1 \n",
    "    From the flattened data list we wish to create a DataFrame. This contains all the possible combinations for the given \n",
    "    top level admissions, sub level admissions, stay types and list of tests available from the admission_mapping, stay_type and admission_tests lists or dictionaries in admission_types_test_dataset.py\n",
    "\"\"\"\n",
    "mapping_df = spark.createDataFrame(flattened, [\"top_level_admission\", \"sub_level_admission\", \"stay_type\", \"possible_tests\", \"conditions\"])\n",
    "\n",
    "display_df(mapping_df, 45)"
   ],
   "metadata": {
    "collapsed": false,
    "ExecuteTime": {
     "end_time": "2024-02-22T23:11:47.533981Z",
     "start_time": "2024-02-22T23:11:43.814450Z"
    }
   },
   "id": "e1dc302cbd5cd49e"
  },
  {
   "cell_type": "code",
   "execution_count": 9,
   "outputs": [
    {
     "name": "stdout",
     "output_type": "stream",
     "text": [
      "['emergency', 'gp_referral', 'hospital_referral', 'self_referral', 'elective']\n",
      "10000\n",
      "90137\n"
     ]
    },
    {
     "name": "stderr",
     "output_type": "stream",
     "text": [
      "                                                                                \r"
     ]
    },
    {
     "data": {
      "text/plain": "    top_level_admission          name  Age  gender blood_type  \\\n0              elective     Chad Byrd   59    Male         B-   \n1              elective     Chad Byrd   59    Male         B-   \n2              elective     Chad Byrd   59    Male         B-   \n3              elective     Chad Byrd   59    Male         B-   \n4              elective     Chad Byrd   59    Male         B-   \n..                  ...           ...  ...     ...        ...   \n994            elective  Daniel Mccoy   24  Female        AB+   \n995            elective  Daniel Mccoy   24  Female        AB+   \n996            elective  Daniel Mccoy   24  Female        AB+   \n997            elective  Daniel Mccoy   24  Female        AB+   \n998            elective  Daniel Mccoy   24  Female        AB+   \n\n    medical_condition date_of_admission         doctor     hospital  \\\n0             Obesity        2019-01-09     Paul Baker   Walton LLC   \n1             Obesity        2019-01-09     Paul Baker   Walton LLC   \n2             Obesity        2019-01-09     Paul Baker   Walton LLC   \n3             Obesity        2019-01-09     Paul Baker   Walton LLC   \n4             Obesity        2019-01-09     Paul Baker   Walton LLC   \n..                ...               ...            ...          ...   \n994            Asthma        2022-12-25  Dylan Andrews  Sanchez Ltd   \n995            Asthma        2022-12-25  Dylan Andrews  Sanchez Ltd   \n996            Asthma        2022-12-25  Dylan Andrews  Sanchez Ltd   \n997            Asthma        2022-12-25  Dylan Andrews  Sanchez Ltd   \n998            Asthma        2022-12-25  Dylan Andrews  Sanchez Ltd   \n\n    insurance_provider  ...  room_number  discharge_date  medication  \\\n0             Medicare  ...          292      2019-02-08     Lipitor   \n1             Medicare  ...          292      2019-02-08     Lipitor   \n2             Medicare  ...          292      2019-02-08     Lipitor   \n3             Medicare  ...          292      2019-02-08     Lipitor   \n4             Medicare  ...          292      2019-02-08     Lipitor   \n..                 ...  ...          ...             ...         ...   \n994   UnitedHealthcare  ...          250      2022-12-30  Penicillin   \n995   UnitedHealthcare  ...          250      2022-12-30  Penicillin   \n996   UnitedHealthcare  ...          250      2022-12-30  Penicillin   \n997   UnitedHealthcare  ...          250      2022-12-30  Penicillin   \n998   UnitedHealthcare  ...          250      2022-12-30  Penicillin   \n\n     test_results         DOB is_female  is_pediatric  sub_level_admission  \\\n0          Normal  1964-06-30     False         False            maternity   \n1          Normal  1964-06-30     False         False            maternity   \n2          Normal  1964-06-30     False         False          orthopedics   \n3          Normal  1964-06-30     False         False          orthopedics   \n4          Normal  1964-06-30     False         False           obstetrics   \n..            ...         ...       ...           ...                  ...   \n994  Inconclusive  2000-02-04      True         False           obstetrics   \n995  Inconclusive  2000-02-04      True         False        ophthalmology   \n996  Inconclusive  2000-02-04      True         False        ophthalmology   \n997  Inconclusive  2000-02-04      True         False           geriatrics   \n998  Inconclusive  2000-02-04      True         False           geriatrics   \n\n       stay_type                                     possible_tests  \n0    day_patient  [Ultrasound, Blood tests, Glucose tolerance te...  \n1      inpatient  [Ultrasound, Blood tests, Glucose tolerance te...  \n2    day_patient   [X-rays, MRI, CT scans, Bone scans, Blood tests]  \n3      inpatient   [X-rays, MRI, CT scans, Bone scans, Blood tests]  \n4      inpatient  [Ultrasound, Blood tests, Glucose tolerance te...  \n..           ...                                                ...  \n994    inpatient  [Ultrasound, Blood tests, Glucose tolerance te...  \n995  day_patient  [Eye exam, Tonometry (eye pressure test), Reti...  \n996   outpatient  [Eye exam, Tonometry (eye pressure test), Reti...  \n997    inpatient  [Comprehensive geriatric assessment, Blood tes...  \n998   outpatient  [Comprehensive geriatric assessment, Blood tes...  \n\n[999 rows x 21 columns]",
      "text/html": "<div>\n<style scoped>\n    .dataframe tbody tr th:only-of-type {\n        vertical-align: middle;\n    }\n\n    .dataframe tbody tr th {\n        vertical-align: top;\n    }\n\n    .dataframe thead th {\n        text-align: right;\n    }\n</style>\n<table border=\"1\" class=\"dataframe\">\n  <thead>\n    <tr style=\"text-align: right;\">\n      <th></th>\n      <th>top_level_admission</th>\n      <th>name</th>\n      <th>Age</th>\n      <th>gender</th>\n      <th>blood_type</th>\n      <th>medical_condition</th>\n      <th>date_of_admission</th>\n      <th>doctor</th>\n      <th>hospital</th>\n      <th>insurance_provider</th>\n      <th>...</th>\n      <th>room_number</th>\n      <th>discharge_date</th>\n      <th>medication</th>\n      <th>test_results</th>\n      <th>DOB</th>\n      <th>is_female</th>\n      <th>is_pediatric</th>\n      <th>sub_level_admission</th>\n      <th>stay_type</th>\n      <th>possible_tests</th>\n    </tr>\n  </thead>\n  <tbody>\n    <tr>\n      <th>0</th>\n      <td>elective</td>\n      <td>Chad Byrd</td>\n      <td>59</td>\n      <td>Male</td>\n      <td>B-</td>\n      <td>Obesity</td>\n      <td>2019-01-09</td>\n      <td>Paul Baker</td>\n      <td>Walton LLC</td>\n      <td>Medicare</td>\n      <td>...</td>\n      <td>292</td>\n      <td>2019-02-08</td>\n      <td>Lipitor</td>\n      <td>Normal</td>\n      <td>1964-06-30</td>\n      <td>False</td>\n      <td>False</td>\n      <td>maternity</td>\n      <td>day_patient</td>\n      <td>[Ultrasound, Blood tests, Glucose tolerance te...</td>\n    </tr>\n    <tr>\n      <th>1</th>\n      <td>elective</td>\n      <td>Chad Byrd</td>\n      <td>59</td>\n      <td>Male</td>\n      <td>B-</td>\n      <td>Obesity</td>\n      <td>2019-01-09</td>\n      <td>Paul Baker</td>\n      <td>Walton LLC</td>\n      <td>Medicare</td>\n      <td>...</td>\n      <td>292</td>\n      <td>2019-02-08</td>\n      <td>Lipitor</td>\n      <td>Normal</td>\n      <td>1964-06-30</td>\n      <td>False</td>\n      <td>False</td>\n      <td>maternity</td>\n      <td>inpatient</td>\n      <td>[Ultrasound, Blood tests, Glucose tolerance te...</td>\n    </tr>\n    <tr>\n      <th>2</th>\n      <td>elective</td>\n      <td>Chad Byrd</td>\n      <td>59</td>\n      <td>Male</td>\n      <td>B-</td>\n      <td>Obesity</td>\n      <td>2019-01-09</td>\n      <td>Paul Baker</td>\n      <td>Walton LLC</td>\n      <td>Medicare</td>\n      <td>...</td>\n      <td>292</td>\n      <td>2019-02-08</td>\n      <td>Lipitor</td>\n      <td>Normal</td>\n      <td>1964-06-30</td>\n      <td>False</td>\n      <td>False</td>\n      <td>orthopedics</td>\n      <td>day_patient</td>\n      <td>[X-rays, MRI, CT scans, Bone scans, Blood tests]</td>\n    </tr>\n    <tr>\n      <th>3</th>\n      <td>elective</td>\n      <td>Chad Byrd</td>\n      <td>59</td>\n      <td>Male</td>\n      <td>B-</td>\n      <td>Obesity</td>\n      <td>2019-01-09</td>\n      <td>Paul Baker</td>\n      <td>Walton LLC</td>\n      <td>Medicare</td>\n      <td>...</td>\n      <td>292</td>\n      <td>2019-02-08</td>\n      <td>Lipitor</td>\n      <td>Normal</td>\n      <td>1964-06-30</td>\n      <td>False</td>\n      <td>False</td>\n      <td>orthopedics</td>\n      <td>inpatient</td>\n      <td>[X-rays, MRI, CT scans, Bone scans, Blood tests]</td>\n    </tr>\n    <tr>\n      <th>4</th>\n      <td>elective</td>\n      <td>Chad Byrd</td>\n      <td>59</td>\n      <td>Male</td>\n      <td>B-</td>\n      <td>Obesity</td>\n      <td>2019-01-09</td>\n      <td>Paul Baker</td>\n      <td>Walton LLC</td>\n      <td>Medicare</td>\n      <td>...</td>\n      <td>292</td>\n      <td>2019-02-08</td>\n      <td>Lipitor</td>\n      <td>Normal</td>\n      <td>1964-06-30</td>\n      <td>False</td>\n      <td>False</td>\n      <td>obstetrics</td>\n      <td>inpatient</td>\n      <td>[Ultrasound, Blood tests, Glucose tolerance te...</td>\n    </tr>\n    <tr>\n      <th>...</th>\n      <td>...</td>\n      <td>...</td>\n      <td>...</td>\n      <td>...</td>\n      <td>...</td>\n      <td>...</td>\n      <td>...</td>\n      <td>...</td>\n      <td>...</td>\n      <td>...</td>\n      <td>...</td>\n      <td>...</td>\n      <td>...</td>\n      <td>...</td>\n      <td>...</td>\n      <td>...</td>\n      <td>...</td>\n      <td>...</td>\n      <td>...</td>\n      <td>...</td>\n      <td>...</td>\n    </tr>\n    <tr>\n      <th>994</th>\n      <td>elective</td>\n      <td>Daniel Mccoy</td>\n      <td>24</td>\n      <td>Female</td>\n      <td>AB+</td>\n      <td>Asthma</td>\n      <td>2022-12-25</td>\n      <td>Dylan Andrews</td>\n      <td>Sanchez Ltd</td>\n      <td>UnitedHealthcare</td>\n      <td>...</td>\n      <td>250</td>\n      <td>2022-12-30</td>\n      <td>Penicillin</td>\n      <td>Inconclusive</td>\n      <td>2000-02-04</td>\n      <td>True</td>\n      <td>False</td>\n      <td>obstetrics</td>\n      <td>inpatient</td>\n      <td>[Ultrasound, Blood tests, Glucose tolerance te...</td>\n    </tr>\n    <tr>\n      <th>995</th>\n      <td>elective</td>\n      <td>Daniel Mccoy</td>\n      <td>24</td>\n      <td>Female</td>\n      <td>AB+</td>\n      <td>Asthma</td>\n      <td>2022-12-25</td>\n      <td>Dylan Andrews</td>\n      <td>Sanchez Ltd</td>\n      <td>UnitedHealthcare</td>\n      <td>...</td>\n      <td>250</td>\n      <td>2022-12-30</td>\n      <td>Penicillin</td>\n      <td>Inconclusive</td>\n      <td>2000-02-04</td>\n      <td>True</td>\n      <td>False</td>\n      <td>ophthalmology</td>\n      <td>day_patient</td>\n      <td>[Eye exam, Tonometry (eye pressure test), Reti...</td>\n    </tr>\n    <tr>\n      <th>996</th>\n      <td>elective</td>\n      <td>Daniel Mccoy</td>\n      <td>24</td>\n      <td>Female</td>\n      <td>AB+</td>\n      <td>Asthma</td>\n      <td>2022-12-25</td>\n      <td>Dylan Andrews</td>\n      <td>Sanchez Ltd</td>\n      <td>UnitedHealthcare</td>\n      <td>...</td>\n      <td>250</td>\n      <td>2022-12-30</td>\n      <td>Penicillin</td>\n      <td>Inconclusive</td>\n      <td>2000-02-04</td>\n      <td>True</td>\n      <td>False</td>\n      <td>ophthalmology</td>\n      <td>outpatient</td>\n      <td>[Eye exam, Tonometry (eye pressure test), Reti...</td>\n    </tr>\n    <tr>\n      <th>997</th>\n      <td>elective</td>\n      <td>Daniel Mccoy</td>\n      <td>24</td>\n      <td>Female</td>\n      <td>AB+</td>\n      <td>Asthma</td>\n      <td>2022-12-25</td>\n      <td>Dylan Andrews</td>\n      <td>Sanchez Ltd</td>\n      <td>UnitedHealthcare</td>\n      <td>...</td>\n      <td>250</td>\n      <td>2022-12-30</td>\n      <td>Penicillin</td>\n      <td>Inconclusive</td>\n      <td>2000-02-04</td>\n      <td>True</td>\n      <td>False</td>\n      <td>geriatrics</td>\n      <td>inpatient</td>\n      <td>[Comprehensive geriatric assessment, Blood tes...</td>\n    </tr>\n    <tr>\n      <th>998</th>\n      <td>elective</td>\n      <td>Daniel Mccoy</td>\n      <td>24</td>\n      <td>Female</td>\n      <td>AB+</td>\n      <td>Asthma</td>\n      <td>2022-12-25</td>\n      <td>Dylan Andrews</td>\n      <td>Sanchez Ltd</td>\n      <td>UnitedHealthcare</td>\n      <td>...</td>\n      <td>250</td>\n      <td>2022-12-30</td>\n      <td>Penicillin</td>\n      <td>Inconclusive</td>\n      <td>2000-02-04</td>\n      <td>True</td>\n      <td>False</td>\n      <td>geriatrics</td>\n      <td>outpatient</td>\n      <td>[Comprehensive geriatric assessment, Blood tes...</td>\n    </tr>\n  </tbody>\n</table>\n<p>999 rows × 21 columns</p>\n</div>"
     },
     "metadata": {},
     "output_type": "display_data"
    }
   ],
   "source": [
    "\"\"\"\n",
    "STEP 2 \n",
    "    Create a list of admission_types randomly assign this to the original patient in the original data set, \n",
    "    whilst dropping the original admission_type column. Then join with mapping_df on top_level_admission col to give access to possible \n",
    "    conditions, mappings and so on.\n",
    "\"\"\"\n",
    "admission_types = list(admission_mapping.keys())\n",
    "\n",
    "print(admission_types)\n",
    "\n",
    "keys_array = array([lit(key) for key in admission_types])\n",
    "\n",
    "# Define constants and conditions\n",
    "female_only = ['maternity', 'obstetrics']\n",
    "is_female = lower(col('gender')) == 'female'\n",
    "is_pediatric = col(\"Age\") < 18\n",
    "is_geriatric = (col(\"Age\") >= 65) & (col(\"sub_level_admission\") == \"geriatrics\")\n",
    "\n",
    "df = (df.withColumn(\"top_level_admission\", keys_array[floor(rand() * len(admission_types))]).drop(\"admission_type\")\n",
    "        .withColumn(\"is_female\", is_female)\n",
    "        .withColumn(\"is_pediatric\", is_pediatric)\n",
    "      )\n",
    "get_row_count(df, True)\n",
    "df = df.join(mapping_df, \"top_level_admission\", \"inner\")\n",
    "get_row_count(df, True)\n",
    "display_df(df, 999)"
   ],
   "metadata": {
    "collapsed": false,
    "ExecuteTime": {
     "end_time": "2024-02-13T20:31:02.551185Z",
     "start_time": "2024-02-13T20:30:55.313121Z"
    }
   },
   "id": "b51112bb4b4cff7a"
  },
  {
   "cell_type": "code",
   "execution_count": 10,
   "outputs": [],
   "source": [
    "\"\"\"\n",
    "STEP 3 \n",
    "    Create a rowq ranking using a unique cols, created from stay_name and unique_id. \n",
    "    Verification done below. \n",
    "    \n",
    "\"\"\"\n",
    "\n",
    "df =  df.withColumn('stay_name', \n",
    "                   when(col('stay_type') == 'out_patient', concat(col('name'), lit('_out_patient')))\n",
    "                   .when(col('stay_type') == 'inpatient', concat(col('name'), lit('_inpatient')))\n",
    "                   .when(col('stay_type') == 'day_patient', concat(col('name'), lit('_day_patient')))\n",
    "                   .otherwise(col('name'))\n",
    "                  ).withColumn(\"unique_id\", concat_ws(\"_\", \"name\", date_format(\"DOB\", \"yyyyMMdd\")))\n",
    "\n",
    "\n",
    "# Define a window specification that partitions data by 'top_level_admission' (or another unique patient identifier if needed)\n",
    "windowSpec = Window.partitionBy('stay_name', 'unique_id').orderBy(rand())\n",
    "\n",
    "# Assign row numbers within each partition in a random order\n",
    "ranked_df = df.withColumn(\"row_num\", row_number().over(windowSpec))\n"
   ],
   "metadata": {
    "collapsed": false,
    "ExecuteTime": {
     "end_time": "2024-02-13T20:31:02.765454Z",
     "start_time": "2024-02-13T20:31:02.538737Z"
    }
   },
   "id": "e039e0ce5ff0816d"
  },
  {
   "cell_type": "code",
   "execution_count": 11,
   "outputs": [
    {
     "name": "stderr",
     "output_type": "stream",
     "text": [
      "24/02/13 20:31:02 WARN SparkStringUtils: Truncated the string representation of a plan since it was too large. This behavior can be adjusted by setting 'spark.sql.debug.maxToStringFields'.\n"
     ]
    }
   ],
   "source": [
    "ranked_df.createGlobalTempView(\"ranked_df\")\n",
    "\n",
    "unique_dobs_df = spark.sql(\"\"\"\n",
    "WITH NameCounts AS (\n",
    "    SELECT name\n",
    "    FROM global_temp.ranked_df\n",
    ")\n",
    "\n",
    "SELECT DISTINCT r.name, r.unique_id\n",
    "FROM global_temp.ranked_df r\n",
    "JOIN NameCounts n ON r.name = n.name\n",
    "ORDER BY r.name\n",
    "LIMIT 10\n",
    "\"\"\")"
   ],
   "metadata": {
    "collapsed": false,
    "ExecuteTime": {
     "end_time": "2024-02-13T20:31:03.058018Z",
     "start_time": "2024-02-13T20:31:02.739084Z"
    }
   },
   "id": "e16046564d50a89a"
  },
  {
   "cell_type": "code",
   "execution_count": 12,
   "outputs": [
    {
     "name": "stderr",
     "output_type": "stream",
     "text": [
      "                                                                                \r"
     ]
    }
   ],
   "source": [
    "# COSTLY WAY TO VERIFY THAT THE RANK WORKS BELOW....  due to .collect() and .count() in verify_ranking_counts() function\n",
    "\n",
    "# Example usage:\n",
    "unique_names = [row['name'] for row in unique_dobs_df.select(\"name\").collect()]\n",
    "unique_ids = [row['unique_id'] for row in unique_dobs_df.select(\"unique_id\").collect()]\n",
    "verify_ranking_counts(df, ranked_df, unique_names, unique_ids)\n",
    "\n",
    "# this function is faster than above\n",
    "verify_ranking(df, ranked_df)\n"
   ],
   "metadata": {
    "collapsed": false,
    "ExecuteTime": {
     "end_time": "2024-02-13T20:31:15.729430Z",
     "start_time": "2024-02-13T20:31:03.031321Z"
    }
   },
   "id": "e8a7e1a934ab2401"
  },
  {
   "cell_type": "code",
   "execution_count": 13,
   "outputs": [],
   "source": [
    "\"\"\"\n",
    "Step 4: \n",
    "    Sort out geriatrics data and verify that individuals are not geriatrics \n",
    "\"\"\"\n",
    "ranked_df = ranked_df.withColumn(\"is_geriatric\", is_geriatric)\n",
    "\n",
    "not_geriatric_df = ranked_df.where((col('sub_level_admission') == 'geriatrics') &( col(\"is_geriatric\") == False))\n",
    "\n",
    "filtered_df = remove_data(ranked_df, not_geriatric_df, (col('sub_level_admission') == 'geriatrics') ,  ( col(\"is_geriatric\") == False))\n"
   ],
   "metadata": {
    "collapsed": false,
    "ExecuteTime": {
     "end_time": "2024-02-13T20:31:16.698718Z",
     "start_time": "2024-02-13T20:31:15.729156Z"
    }
   },
   "id": "9746b1d222d3d1ea"
  },
  {
   "cell_type": "code",
   "execution_count": 14,
   "outputs": [],
   "source": [
    "not_female_df = filtered_df.where((col(\"sub_level_admission\").isin(female_only)) & (col(\"is_female\") == False))\n",
    "filtered_df_female = remove_data(filtered_df, not_female_df, (col(\"gender\") == \"Male\"),  (col(\"sub_level_admission\").isin(female_only)))\n"
   ],
   "metadata": {
    "collapsed": false,
    "ExecuteTime": {
     "end_time": "2024-02-13T20:31:17.899852Z",
     "start_time": "2024-02-13T20:31:16.700138Z"
    }
   },
   "id": "d7c1ee011b044991"
  },
  {
   "cell_type": "code",
   "execution_count": 15,
   "outputs": [],
   "source": [
    "# filter pediatric patients who cannot be pregnant (based on legal age in the UK, 16) No assumption made an individual cannot choose to get pregnant before this age. \n",
    "under16_female_df = filtered_df_female.where((col(\"Age\") <16) & (col(\"sub_level_admission\") == 'maternity')).orderBy(\"Age\")"
   ],
   "metadata": {
    "collapsed": false,
    "ExecuteTime": {
     "end_time": "2024-02-13T20:31:17.946421Z",
     "start_time": "2024-02-13T20:31:17.902474Z"
    }
   },
   "id": "630396c288fa291b"
  },
  {
   "cell_type": "code",
   "execution_count": 16,
   "outputs": [
    {
     "name": "stderr",
     "output_type": "stream",
     "text": [
      "                                                                                \r"
     ]
    }
   ],
   "source": [
    "df = remove_data(filtered_df_female, under16_female_df, (col(\"sub_level_admission\") == \"maternity\"), (col(\"Age\") <16))"
   ],
   "metadata": {
    "collapsed": false,
    "ExecuteTime": {
     "end_time": "2024-02-13T20:31:19.599002Z",
     "start_time": "2024-02-13T20:31:17.948231Z"
    }
   },
   "id": "cc11c7ec6b0a65"
  },
  {
   "cell_type": "code",
   "execution_count": 17,
   "outputs": [],
   "source": [
    "\n",
    "split_col = split(df['name'], ' ')\n",
    "\n",
    "df_renamed = (df.withColumn('name', \n",
    "                    when(size(split_col) == 4, concat(split_col.getItem(1).substr(1, 1), lit('. '), split_col.getItem(2).substr(1, 1), lit('. '), split_col.getItem(3)))\n",
    "                    .when(size(split_col) == 3, concat(split_col.getItem(1).substr(1, 1), lit('. '), split_col.getItem(2)))\n",
    "                    .otherwise(\n",
    "                        concat(split_col.getItem(0).substr(1, 1), lit('. '), split_col.getItem(1))\n",
    "                               )\n",
    "                    )\n",
    "      )\n"
   ],
   "metadata": {
    "collapsed": false,
    "ExecuteTime": {
     "end_time": "2024-02-13T20:31:19.667191Z",
     "start_time": "2024-02-13T20:31:19.602980Z"
    }
   },
   "id": "d883931ab7588b0d"
  },
  {
   "cell_type": "code",
   "execution_count": 21,
   "outputs": [
    {
     "name": "stderr",
     "output_type": "stream",
     "text": [
      "                                                                                \r"
     ]
    },
    {
     "name": "stdout",
     "output_type": "stream",
     "text": [
      "+--------------------+----------+-------------------+------------+---+------+----------+-----------------+-----------------+-------------------+--------------------+------------------+------------------+-----------+--------------+-----------+------------+---------+------------+-----------+--------------------+--------------------+--------------------+-------+------------+\n",
      "| sub_level_admission|       DOB|top_level_admission|        name|Age|gender|blood_type|medical_condition|date_of_admission|             doctor|            hospital|insurance_provider|    billing_amount|room_number|discharge_date| medication|test_results|is_female|is_pediatric|  stay_type|      possible_tests|           stay_name|           unique_id|row_num|is_geriatric|\n",
      "+--------------------+----------+-------------------+------------+---+------+----------+-----------------+-----------------+-------------------+--------------------+------------------+------------------+-----------+--------------+-----------+------------+---------+------------+-----------+--------------------+--------------------+--------------------+-------+------------+\n",
      "|           neurology|2020-03-29|          emergency|    A. Adams|  3|Female|       AB+|        Arthritis|       2019-02-01|         Adam Simon|Gordon, Chen and ...|             Cigna| 42060.54190245227|        396|    2019-02-18|    Lipitor|Inconclusive|     true|        true|  inpatient|[MRI or CT scans ...|Andrew Adams_inpa...|Andrew Adams_2020...|      4|       false|\n",
      "|      self_inflicted|2020-03-29|          emergency|    A. Adams|  3|Female|       AB+|        Arthritis|       2019-02-01|         Adam Simon|Gordon, Chen and ...|             Cigna| 42060.54190245227|        396|    2019-02-18|    Lipitor|Inconclusive|     true|        true|  inpatient|[Psychological as...|Andrew Adams_inpa...|Andrew Adams_2020...|      6|       false|\n",
      "| infectious_diseases|2020-03-29|          emergency|    A. Adams|  3|Female|       AB+|        Arthritis|       2019-02-01|         Adam Simon|Gordon, Chen and ...|             Cigna| 42060.54190245227|        396|    2019-02-18|    Lipitor|Inconclusive|     true|        true| outpatient|[Blood cultures, ...|        Andrew Adams|Andrew Adams_2020...|      1|       false|\n",
      "| infectious_diseases|2020-03-29|          emergency|    A. Adams|  3|Female|       AB+|        Arthritis|       2019-02-01|         Adam Simon|Gordon, Chen and ...|             Cigna| 42060.54190245227|        396|    2019-02-18|    Lipitor|Inconclusive|     true|        true|  inpatient|[Blood cultures, ...|Andrew Adams_inpa...|Andrew Adams_2020...|      3|       false|\n",
      "|         pulmonology|2020-03-29|          emergency|    A. Adams|  3|Female|       AB+|        Arthritis|       2019-02-01|         Adam Simon|Gordon, Chen and ...|             Cigna| 42060.54190245227|        396|    2019-02-18|    Lipitor|Inconclusive|     true|        true|day_patient|[Pulmonary functi...|Andrew Adams_day_...|Andrew Adams_2020...|      3|       false|\n",
      "|         pulmonology|2020-03-29|          emergency|    A. Adams|  3|Female|       AB+|        Arthritis|       2019-02-01|         Adam Simon|Gordon, Chen and ...|             Cigna| 42060.54190245227|        396|    2019-02-18|    Lipitor|Inconclusive|     true|        true|  inpatient|[Pulmonary functi...|Andrew Adams_inpa...|Andrew Adams_2020...|      1|       false|\n",
      "|          injury_rtc|2020-03-29|          emergency|    A. Adams|  3|Female|       AB+|        Arthritis|       2019-02-01|         Adam Simon|Gordon, Chen and ...|             Cigna| 42060.54190245227|        396|    2019-02-18|    Lipitor|Inconclusive|     true|        true|day_patient|[X-rays, CT scans...|Andrew Adams_day_...|Andrew Adams_2020...|      2|       false|\n",
      "|          injury_rtc|2020-03-29|          emergency|    A. Adams|  3|Female|       AB+|        Arthritis|       2019-02-01|         Adam Simon|Gordon, Chen and ...|             Cigna| 42060.54190245227|        396|    2019-02-18|    Lipitor|Inconclusive|     true|        true|  inpatient|[X-rays, CT scans...|Andrew Adams_inpa...|Andrew Adams_2020...|      2|       false|\n",
      "|          cardiology|2020-03-29|          emergency|    A. Adams|  3|Female|       AB+|        Arthritis|       2019-02-01|         Adam Simon|Gordon, Chen and ...|             Cigna| 42060.54190245227|        396|    2019-02-18|    Lipitor|Inconclusive|     true|        true|day_patient|[ECG, Echocardiog...|Andrew Adams_day_...|Andrew Adams_2020...|      1|       false|\n",
      "|          cardiology|2020-03-29|          emergency|    A. Adams|  3|Female|       AB+|        Arthritis|       2019-02-01|         Adam Simon|Gordon, Chen and ...|             Cigna| 42060.54190245227|        396|    2019-02-18|    Lipitor|Inconclusive|     true|        true|  inpatient|[ECG, Echocardiog...|Andrew Adams_inpa...|Andrew Adams_2020...|      5|       false|\n",
      "|          cardiology|2016-01-10|  hospital_referral|    A. Adams|  8|  Male|        O+|         Diabetes|       2020-11-22|        Eric Romero|        Smith-Rivera|          Medicare|16667.598315013645|        386|    2020-11-30|    Aspirin|Inconclusive|    false|        true|day_patient|[ECG, Echocardiog...|Amy Adams_day_pat...|  Amy Adams_20160110|      2|       false|\n",
      "|          cardiology|2016-01-10|  hospital_referral|    A. Adams|  8|  Male|        O+|         Diabetes|       2020-11-22|        Eric Romero|        Smith-Rivera|          Medicare|16667.598315013645|        386|    2020-11-30|    Aspirin|Inconclusive|    false|        true|  inpatient|[ECG, Echocardiog...| Amy Adams_inpatient|  Amy Adams_20160110|      5|       false|\n",
      "|          nephrology|2016-01-10|  hospital_referral|    A. Adams|  8|  Male|        O+|         Diabetes|       2020-11-22|        Eric Romero|        Smith-Rivera|          Medicare|16667.598315013645|        386|    2020-11-30|    Aspirin|Inconclusive|    false|        true|  inpatient|[Blood tests (ren...| Amy Adams_inpatient|  Amy Adams_20160110|      2|       false|\n",
      "|           neurology|2016-01-10|  hospital_referral|    A. Adams|  8|  Male|        O+|         Diabetes|       2020-11-22|        Eric Romero|        Smith-Rivera|          Medicare|16667.598315013645|        386|    2020-11-30|    Aspirin|Inconclusive|    false|        true|  inpatient|[MRI or CT scans ...| Amy Adams_inpatient|  Amy Adams_20160110|      3|       false|\n",
      "|otorhinolaryngolo...|2016-01-10|  hospital_referral|    A. Adams|  8|  Male|        O+|         Diabetes|       2020-11-22|        Eric Romero|        Smith-Rivera|          Medicare|16667.598315013645|        386|    2020-11-30|    Aspirin|Inconclusive|    false|        true|day_patient|[Hearing tests, E...|Amy Adams_day_pat...|  Amy Adams_20160110|      1|       false|\n",
      "|otorhinolaryngolo...|2016-01-10|  hospital_referral|    A. Adams|  8|  Male|        O+|         Diabetes|       2020-11-22|        Eric Romero|        Smith-Rivera|          Medicare|16667.598315013645|        386|    2020-11-30|    Aspirin|Inconclusive|    false|        true|  inpatient|[Hearing tests, E...| Amy Adams_inpatient|  Amy Adams_20160110|      1|       false|\n",
      "|            oncology|2016-01-10|  hospital_referral|    A. Adams|  8|  Male|        O+|         Diabetes|       2020-11-22|        Eric Romero|        Smith-Rivera|          Medicare|16667.598315013645|        386|    2020-11-30|    Aspirin|Inconclusive|    false|        true|day_patient|[Biopsies, MRI, U...|Amy Adams_day_pat...|  Amy Adams_20160110|      3|       false|\n",
      "|            oncology|2016-01-10|  hospital_referral|    A. Adams|  8|  Male|        O+|         Diabetes|       2020-11-22|        Eric Romero|        Smith-Rivera|          Medicare|16667.598315013645|        386|    2020-11-30|    Aspirin|Inconclusive|    false|        true|  inpatient|[Biopsies, MRI, U...| Amy Adams_inpatient|  Amy Adams_20160110|      4|       false|\n",
      "|         orthopedics|2002-10-23|        gp_referral|    A. Adams| 21|Female|        A-|         Diabetes|       2021-09-17|    Cassie Martinez|            Tran Ltd|          Medicare| 49148.49027845049|        224|    2021-09-21|Paracetamol|Inconclusive|     true|       false|day_patient|[X-rays, MRI, CT ...|Amber Adams_day_p...|Amber Adams_20021023|      1|       false|\n",
      "|         orthopedics|2002-10-23|        gp_referral|    A. Adams| 21|Female|        A-|         Diabetes|       2021-09-17|    Cassie Martinez|            Tran Ltd|          Medicare| 49148.49027845049|        224|    2021-09-21|Paracetamol|Inconclusive|     true|       false|  inpatient|[X-rays, MRI, CT ...|Amber Adams_inpat...|Amber Adams_20021023|      1|       false|\n",
      "|          nephrology|2002-10-06|  hospital_referral|    A. Adams| 21|Female|       AB-|         Diabetes|       2018-12-31|   Frank Williamson|         Smith Group|             Cigna|39182.239327105686|        362|    2019-01-17|    Aspirin|      Normal|     true|       false|  inpatient|[Blood tests (ren...|Ashley Adams_inpa...|Ashley Adams_2002...|      3|       false|\n",
      "|otorhinolaryngolo...|2002-10-06|  hospital_referral|    A. Adams| 21|Female|       AB-|         Diabetes|       2018-12-31|   Frank Williamson|         Smith Group|             Cigna|39182.239327105686|        362|    2019-01-17|    Aspirin|      Normal|     true|       false|day_patient|[Hearing tests, E...|Ashley Adams_day_...|Ashley Adams_2002...|      1|       false|\n",
      "|otorhinolaryngolo...|2002-10-06|  hospital_referral|    A. Adams| 21|Female|       AB-|         Diabetes|       2018-12-31|   Frank Williamson|         Smith Group|             Cigna|39182.239327105686|        362|    2019-01-17|    Aspirin|      Normal|     true|       false|  inpatient|[Hearing tests, E...|Ashley Adams_inpa...|Ashley Adams_2002...|      5|       false|\n",
      "|       endocrinology|2002-10-23|        gp_referral|    A. Adams| 21|Female|        A-|         Diabetes|       2021-09-17|    Cassie Martinez|            Tran Ltd|          Medicare| 49148.49027845049|        224|    2021-09-21|Paracetamol|Inconclusive|     true|       false| outpatient|[Blood tests (hor...|         Amber Adams|Amber Adams_20021023|      1|       false|\n",
      "|           neurology|2002-10-06|  hospital_referral|    A. Adams| 21|Female|       AB-|         Diabetes|       2018-12-31|   Frank Williamson|         Smith Group|             Cigna|39182.239327105686|        362|    2019-01-17|    Aspirin|      Normal|     true|       false|  inpatient|[MRI or CT scans ...|Ashley Adams_inpa...|Ashley Adams_2002...|      2|       false|\n",
      "|            oncology|2002-10-06|  hospital_referral|    A. Adams| 21|Female|       AB-|         Diabetes|       2018-12-31|   Frank Williamson|         Smith Group|             Cigna|39182.239327105686|        362|    2019-01-17|    Aspirin|      Normal|     true|       false|day_patient|[Biopsies, MRI, U...|Ashley Adams_day_...|Ashley Adams_2002...|      3|       false|\n",
      "|            oncology|2002-10-06|  hospital_referral|    A. Adams| 21|Female|       AB-|         Diabetes|       2018-12-31|   Frank Williamson|         Smith Group|             Cigna|39182.239327105686|        362|    2019-01-17|    Aspirin|      Normal|     true|       false|  inpatient|[Biopsies, MRI, U...|Ashley Adams_inpa...|Ashley Adams_2002...|      1|       false|\n",
      "|    gastroenterology|2002-10-23|        gp_referral|    A. Adams| 21|Female|        A-|         Diabetes|       2021-09-17|    Cassie Martinez|            Tran Ltd|          Medicare| 49148.49027845049|        224|    2021-09-21|Paracetamol|Inconclusive|     true|       false| outpatient|[Endoscopy, Colon...|         Amber Adams|Amber Adams_20021023|      5|       false|\n",
      "|    gastroenterology|2002-10-23|        gp_referral|    A. Adams| 21|Female|        A-|         Diabetes|       2021-09-17|    Cassie Martinez|            Tran Ltd|          Medicare| 49148.49027845049|        224|    2021-09-21|Paracetamol|Inconclusive|     true|       false|day_patient|[Endoscopy, Colon...|Amber Adams_day_p...|Amber Adams_20021023|      2|       false|\n",
      "|         dermatology|2002-10-23|        gp_referral|    A. Adams| 21|Female|        A-|         Diabetes|       2021-09-17|    Cassie Martinez|            Tran Ltd|          Medicare| 49148.49027845049|        224|    2021-09-21|Paracetamol|Inconclusive|     true|       false| outpatient|[Skin biopsy, Pat...|         Amber Adams|Amber Adams_20021023|      4|       false|\n",
      "|          cardiology|2002-10-06|  hospital_referral|    A. Adams| 21|Female|       AB-|         Diabetes|       2018-12-31|   Frank Williamson|         Smith Group|             Cigna|39182.239327105686|        362|    2019-01-17|    Aspirin|      Normal|     true|       false|day_patient|[ECG, Echocardiog...|Ashley Adams_day_...|Ashley Adams_2002...|      2|       false|\n",
      "|          cardiology|2002-10-06|  hospital_referral|    A. Adams| 21|Female|       AB-|         Diabetes|       2018-12-31|   Frank Williamson|         Smith Group|             Cigna|39182.239327105686|        362|    2019-01-17|    Aspirin|      Normal|     true|       false|  inpatient|[ECG, Echocardiog...|Ashley Adams_inpa...|Ashley Adams_2002...|      4|       false|\n",
      "|              mental|2002-10-23|        gp_referral|    A. Adams| 21|Female|        A-|         Diabetes|       2021-09-17|    Cassie Martinez|            Tran Ltd|          Medicare| 49148.49027845049|        224|    2021-09-21|Paracetamol|Inconclusive|     true|       false| outpatient|[Psychological ev...|         Amber Adams|Amber Adams_20021023|      3|       false|\n",
      "|              mental|2002-10-23|        gp_referral|    A. Adams| 21|Female|        A-|         Diabetes|       2021-09-17|    Cassie Martinez|            Tran Ltd|          Medicare| 49148.49027845049|        224|    2021-09-21|Paracetamol|Inconclusive|     true|       false|  inpatient|[Psychological ev...|Amber Adams_inpat...|Amber Adams_20021023|      2|       false|\n",
      "|            oncology|1999-02-21|  hospital_referral|    A. Adams| 24|Female|        A+|          Obesity|       2022-09-06|      Samuel Taylor|          Snow Group|          Medicare|1000.1808370217517|        258|    2022-09-18|Paracetamol|    Abnormal|     true|       false|day_patient|[Biopsies, MRI, U...|Anna Adams_day_pa...| Anna Adams_19990221|      2|       false|\n",
      "|            oncology|1999-02-21|  hospital_referral|    A. Adams| 24|Female|        A+|          Obesity|       2022-09-06|      Samuel Taylor|          Snow Group|          Medicare|1000.1808370217517|        258|    2022-09-18|Paracetamol|    Abnormal|     true|       false|  inpatient|[Biopsies, MRI, U...|Anna Adams_inpatient| Anna Adams_19990221|      3|       false|\n",
      "|          nephrology|1999-02-21|  hospital_referral|    A. Adams| 24|Female|        A+|          Obesity|       2022-09-06|      Samuel Taylor|          Snow Group|          Medicare|1000.1808370217517|        258|    2022-09-18|Paracetamol|    Abnormal|     true|       false|  inpatient|[Blood tests (ren...|Anna Adams_inpatient| Anna Adams_19990221|      4|       false|\n",
      "|otorhinolaryngolo...|1999-02-21|  hospital_referral|    A. Adams| 24|Female|        A+|          Obesity|       2022-09-06|      Samuel Taylor|          Snow Group|          Medicare|1000.1808370217517|        258|    2022-09-18|Paracetamol|    Abnormal|     true|       false|day_patient|[Hearing tests, E...|Anna Adams_day_pa...| Anna Adams_19990221|      3|       false|\n",
      "|otorhinolaryngolo...|1999-02-21|  hospital_referral|    A. Adams| 24|Female|        A+|          Obesity|       2022-09-06|      Samuel Taylor|          Snow Group|          Medicare|1000.1808370217517|        258|    2022-09-18|Paracetamol|    Abnormal|     true|       false|  inpatient|[Hearing tests, E...|Anna Adams_inpatient| Anna Adams_19990221|      2|       false|\n",
      "|           neurology|1999-02-21|  hospital_referral|    A. Adams| 24|Female|        A+|          Obesity|       2022-09-06|      Samuel Taylor|          Snow Group|          Medicare|1000.1808370217517|        258|    2022-09-18|Paracetamol|    Abnormal|     true|       false|  inpatient|[MRI or CT scans ...|Anna Adams_inpatient| Anna Adams_19990221|      5|       false|\n",
      "|          cardiology|1999-02-21|  hospital_referral|    A. Adams| 24|Female|        A+|          Obesity|       2022-09-06|      Samuel Taylor|          Snow Group|          Medicare|1000.1808370217517|        258|    2022-09-18|Paracetamol|    Abnormal|     true|       false|day_patient|[ECG, Echocardiog...|Anna Adams_day_pa...| Anna Adams_19990221|      1|       false|\n",
      "|          cardiology|1999-02-21|  hospital_referral|    A. Adams| 24|Female|        A+|          Obesity|       2022-09-06|      Samuel Taylor|          Snow Group|          Medicare|1000.1808370217517|        258|    2022-09-18|Paracetamol|    Abnormal|     true|       false|  inpatient|[ECG, Echocardiog...|Anna Adams_inpatient| Anna Adams_19990221|      1|       false|\n",
      "|            oncology|1936-07-01|  hospital_referral|    A. Adams| 87|  Male|        O-|     Hypertension|       2022-12-12|    Sylvia Sullivan|   Townsend-Campbell|             Cigna| 4894.981267722751|        248|    2022-12-31|    Aspirin|    Abnormal|    false|       false|  inpatient|[Biopsies, MRI, U...|Andres Adams_inpa...|Andres Adams_1936...|      4|       false|\n",
      "|          nephrology|1936-07-01|  hospital_referral|    A. Adams| 87|  Male|        O-|     Hypertension|       2022-12-12|    Sylvia Sullivan|   Townsend-Campbell|             Cigna| 4894.981267722751|        248|    2022-12-31|    Aspirin|    Abnormal|    false|       false|  inpatient|[Blood tests (ren...|Andres Adams_inpa...|Andres Adams_1936...|      5|       false|\n",
      "|            oncology|1936-07-01|  hospital_referral|    A. Adams| 87|  Male|        O-|     Hypertension|       2022-12-12|    Sylvia Sullivan|   Townsend-Campbell|             Cigna| 4894.981267722751|        248|    2022-12-31|    Aspirin|    Abnormal|    false|       false|day_patient|[Biopsies, MRI, U...|Andres Adams_day_...|Andres Adams_1936...|      2|       false|\n",
      "|otorhinolaryngolo...|1936-07-01|  hospital_referral|    A. Adams| 87|  Male|        O-|     Hypertension|       2022-12-12|    Sylvia Sullivan|   Townsend-Campbell|             Cigna| 4894.981267722751|        248|    2022-12-31|    Aspirin|    Abnormal|    false|       false|day_patient|[Hearing tests, E...|Andres Adams_day_...|Andres Adams_1936...|      3|       false|\n",
      "|otorhinolaryngolo...|1936-07-01|  hospital_referral|    A. Adams| 87|  Male|        O-|     Hypertension|       2022-12-12|    Sylvia Sullivan|   Townsend-Campbell|             Cigna| 4894.981267722751|        248|    2022-12-31|    Aspirin|    Abnormal|    false|       false|  inpatient|[Hearing tests, E...|Andres Adams_inpa...|Andres Adams_1936...|      2|       false|\n",
      "|           neurology|1936-07-01|  hospital_referral|    A. Adams| 87|  Male|        O-|     Hypertension|       2022-12-12|    Sylvia Sullivan|   Townsend-Campbell|             Cigna| 4894.981267722751|        248|    2022-12-31|    Aspirin|    Abnormal|    false|       false|  inpatient|[MRI or CT scans ...|Andres Adams_inpa...|Andres Adams_1936...|      3|       false|\n",
      "|          cardiology|1936-07-01|  hospital_referral|    A. Adams| 87|  Male|        O-|     Hypertension|       2022-12-12|    Sylvia Sullivan|   Townsend-Campbell|             Cigna| 4894.981267722751|        248|    2022-12-31|    Aspirin|    Abnormal|    false|       false|day_patient|[ECG, Echocardiog...|Andres Adams_day_...|Andres Adams_1936...|      1|       false|\n",
      "|          cardiology|1936-07-01|  hospital_referral|    A. Adams| 87|  Male|        O-|     Hypertension|       2022-12-12|    Sylvia Sullivan|   Townsend-Campbell|             Cigna| 4894.981267722751|        248|    2022-12-31|    Aspirin|    Abnormal|    false|       false|  inpatient|[ECG, Echocardiog...|Andres Adams_inpa...|Andres Adams_1936...|      1|       false|\n",
      "|          cardiology|2011-01-10|  hospital_referral|   A. Adkins| 13|  Male|        O-|     Hypertension|       2020-05-28|      Alexis Martin|          Harris Ltd|             Cigna| 39880.93402704448|        498|    2020-06-06|  Ibuprofen|    Abnormal|    false|        true|day_patient|[ECG, Echocardiog...|Alexis Adkins_day...|Alexis Adkins_201...|      1|       false|\n",
      "|          cardiology|2011-01-10|  hospital_referral|   A. Adkins| 13|  Male|        O-|     Hypertension|       2020-05-28|      Alexis Martin|          Harris Ltd|             Cigna| 39880.93402704448|        498|    2020-06-06|  Ibuprofen|    Abnormal|    false|        true|  inpatient|[ECG, Echocardiog...|Alexis Adkins_inp...|Alexis Adkins_201...|      1|       false|\n",
      "|otorhinolaryngolo...|2011-01-10|  hospital_referral|   A. Adkins| 13|  Male|        O-|     Hypertension|       2020-05-28|      Alexis Martin|          Harris Ltd|             Cigna| 39880.93402704448|        498|    2020-06-06|  Ibuprofen|    Abnormal|    false|        true|day_patient|[Hearing tests, E...|Alexis Adkins_day...|Alexis Adkins_201...|      2|       false|\n",
      "|otorhinolaryngolo...|2011-01-10|  hospital_referral|   A. Adkins| 13|  Male|        O-|     Hypertension|       2020-05-28|      Alexis Martin|          Harris Ltd|             Cigna| 39880.93402704448|        498|    2020-06-06|  Ibuprofen|    Abnormal|    false|        true|  inpatient|[Hearing tests, E...|Alexis Adkins_inp...|Alexis Adkins_201...|      4|       false|\n",
      "|            oncology|2011-01-10|  hospital_referral|   A. Adkins| 13|  Male|        O-|     Hypertension|       2020-05-28|      Alexis Martin|          Harris Ltd|             Cigna| 39880.93402704448|        498|    2020-06-06|  Ibuprofen|    Abnormal|    false|        true|day_patient|[Biopsies, MRI, U...|Alexis Adkins_day...|Alexis Adkins_201...|      3|       false|\n",
      "|            oncology|2011-01-10|  hospital_referral|   A. Adkins| 13|  Male|        O-|     Hypertension|       2020-05-28|      Alexis Martin|          Harris Ltd|             Cigna| 39880.93402704448|        498|    2020-06-06|  Ibuprofen|    Abnormal|    false|        true|  inpatient|[Biopsies, MRI, U...|Alexis Adkins_inp...|Alexis Adkins_201...|      3|       false|\n",
      "|          nephrology|2011-01-10|  hospital_referral|   A. Adkins| 13|  Male|        O-|     Hypertension|       2020-05-28|      Alexis Martin|          Harris Ltd|             Cigna| 39880.93402704448|        498|    2020-06-06|  Ibuprofen|    Abnormal|    false|        true|  inpatient|[Blood tests (ren...|Alexis Adkins_inp...|Alexis Adkins_201...|      5|       false|\n",
      "|           neurology|2011-01-10|  hospital_referral|   A. Adkins| 13|  Male|        O-|     Hypertension|       2020-05-28|      Alexis Martin|          Harris Ltd|             Cigna| 39880.93402704448|        498|    2020-06-06|  Ibuprofen|    Abnormal|    false|        true|  inpatient|[MRI or CT scans ...|Alexis Adkins_inp...|Alexis Adkins_201...|      2|       false|\n",
      "|       ophthalmology|1967-08-02|           elective|  A. Aguilar| 56|  Male|        O-|           Asthma|       2022-09-23|       Patty Murphy|            Mayo-Lee|          Medicare| 39298.31397906687|        499|    2022-09-29| Penicillin|      Normal|    false|       false| outpatient|[Eye exam, Tonome...|     Allison Aguilar|Allison Aguilar_1...|      2|       false|\n",
      "|       ophthalmology|1967-08-02|           elective|  A. Aguilar| 56|  Male|        O-|           Asthma|       2022-09-23|       Patty Murphy|            Mayo-Lee|          Medicare| 39298.31397906687|        499|    2022-09-29| Penicillin|      Normal|    false|       false|day_patient|[Eye exam, Tonome...|Allison Aguilar_d...|Allison Aguilar_1...|      2|       false|\n",
      "|         orthopedics|1967-08-02|           elective|  A. Aguilar| 56|  Male|        O-|           Asthma|       2022-09-23|       Patty Murphy|            Mayo-Lee|          Medicare| 39298.31397906687|        499|    2022-09-29| Penicillin|      Normal|    false|       false|day_patient|[X-rays, MRI, CT ...|Allison Aguilar_d...|Allison Aguilar_1...|      1|       false|\n",
      "|         orthopedics|1967-08-02|           elective|  A. Aguilar| 56|  Male|        O-|           Asthma|       2022-09-23|       Patty Murphy|            Mayo-Lee|          Medicare| 39298.31397906687|        499|    2022-09-29| Penicillin|      Normal|    false|       false|  inpatient|[X-rays, MRI, CT ...|Allison Aguilar_i...|Allison Aguilar_1...|      3|       false|\n",
      "|         dermatology|1937-02-16|      self_referral|  A. Aguilar| 86|Female|       AB+|         Diabetes|       2023-06-19|        Anna Greene|     Arnold-Martinez|          Medicare| 45809.65808749955|        464|    2023-07-10| Penicillin|Inconclusive|     true|       false| outpatient|[Skin biopsy, Pat...|      Amanda Aguilar|Amanda Aguilar_19...|      4|       false|\n",
      "|            oncology|1937-02-16|      self_referral|  A. Aguilar| 86|Female|       AB+|         Diabetes|       2023-06-19|        Anna Greene|     Arnold-Martinez|          Medicare| 45809.65808749955|        464|    2023-07-10| Penicillin|Inconclusive|     true|       false| outpatient|[Biopsies, MRI, U...|      Amanda Aguilar|Amanda Aguilar_19...|      3|       false|\n",
      "|            oncology|1937-02-16|      self_referral|  A. Aguilar| 86|Female|       AB+|         Diabetes|       2023-06-19|        Anna Greene|     Arnold-Martinez|          Medicare| 45809.65808749955|        464|    2023-07-10| Penicillin|Inconclusive|     true|       false|day_patient|[Biopsies, MRI, U...|Amanda Aguilar_da...|Amanda Aguilar_19...|      2|       false|\n",
      "|            oncology|1937-02-16|      self_referral|  A. Aguilar| 86|Female|       AB+|         Diabetes|       2023-06-19|        Anna Greene|     Arnold-Martinez|          Medicare| 45809.65808749955|        464|    2023-07-10| Penicillin|Inconclusive|     true|       false|  inpatient|[Biopsies, MRI, U...|Amanda Aguilar_in...|Amanda Aguilar_19...|      1|       false|\n",
      "|         orthopedics|1937-02-16|      self_referral|  A. Aguilar| 86|Female|       AB+|         Diabetes|       2023-06-19|        Anna Greene|     Arnold-Martinez|          Medicare| 45809.65808749955|        464|    2023-07-10| Penicillin|Inconclusive|     true|       false|day_patient|[X-rays, MRI, CT ...|Amanda Aguilar_da...|Amanda Aguilar_19...|      1|       false|\n",
      "|              mental|1937-02-16|      self_referral|  A. Aguilar| 86|Female|       AB+|         Diabetes|       2023-06-19|        Anna Greene|     Arnold-Martinez|          Medicare| 45809.65808749955|        464|    2023-07-10| Penicillin|Inconclusive|     true|       false| outpatient|[Psychological ev...|      Amanda Aguilar|Amanda Aguilar_19...|      2|       false|\n",
      "|       endocrinology|1937-02-16|      self_referral|  A. Aguilar| 86|Female|       AB+|         Diabetes|       2023-06-19|        Anna Greene|     Arnold-Martinez|          Medicare| 45809.65808749955|        464|    2023-07-10| Penicillin|Inconclusive|     true|       false| outpatient|[Blood tests (hor...|      Amanda Aguilar|Amanda Aguilar_19...|      5|       false|\n",
      "|    gastroenterology|1937-02-16|      self_referral|  A. Aguilar| 86|Female|       AB+|         Diabetes|       2023-06-19|        Anna Greene|     Arnold-Martinez|          Medicare| 45809.65808749955|        464|    2023-07-10| Penicillin|Inconclusive|     true|       false| outpatient|[Endoscopy, Colon...|      Amanda Aguilar|Amanda Aguilar_19...|      1|       false|\n",
      "|              mental|2017-08-23|        gp_referral|    A. Allen|  6|Female|       AB-|           Asthma|       2023-05-25|     Julie Thompson|Herrera, Roberts ...|        Blue Cross| 8628.143559606928|        342|    2023-06-11|    Lipitor|Inconclusive|     true|        true| outpatient|[Psychological ev...|          Adam Allen| Adam Allen_20170823|      3|       false|\n",
      "|              mental|2017-08-23|        gp_referral|    A. Allen|  6|Female|       AB-|           Asthma|       2023-05-25|     Julie Thompson|Herrera, Roberts ...|        Blue Cross| 8628.143559606928|        342|    2023-06-11|    Lipitor|Inconclusive|     true|        true|  inpatient|[Psychological ev...|Adam Allen_inpatient| Adam Allen_20170823|      2|       false|\n",
      "|         dermatology|2017-08-23|        gp_referral|    A. Allen|  6|Female|       AB-|           Asthma|       2023-05-25|     Julie Thompson|Herrera, Roberts ...|        Blue Cross| 8628.143559606928|        342|    2023-06-11|    Lipitor|Inconclusive|     true|        true| outpatient|[Skin biopsy, Pat...|          Adam Allen| Adam Allen_20170823|      5|       false|\n",
      "|    gastroenterology|2017-08-23|        gp_referral|    A. Allen|  6|Female|       AB-|           Asthma|       2023-05-25|     Julie Thompson|Herrera, Roberts ...|        Blue Cross| 8628.143559606928|        342|    2023-06-11|    Lipitor|Inconclusive|     true|        true| outpatient|[Endoscopy, Colon...|          Adam Allen| Adam Allen_20170823|      1|       false|\n",
      "|    gastroenterology|2017-08-23|        gp_referral|    A. Allen|  6|Female|       AB-|           Asthma|       2023-05-25|     Julie Thompson|Herrera, Roberts ...|        Blue Cross| 8628.143559606928|        342|    2023-06-11|    Lipitor|Inconclusive|     true|        true|day_patient|[Endoscopy, Colon...|Adam Allen_day_pa...| Adam Allen_20170823|      1|       false|\n",
      "|         orthopedics|2017-08-23|        gp_referral|    A. Allen|  6|Female|       AB-|           Asthma|       2023-05-25|     Julie Thompson|Herrera, Roberts ...|        Blue Cross| 8628.143559606928|        342|    2023-06-11|    Lipitor|Inconclusive|     true|        true|day_patient|[X-rays, MRI, CT ...|Adam Allen_day_pa...| Adam Allen_20170823|      2|       false|\n",
      "|         orthopedics|2017-08-23|        gp_referral|    A. Allen|  6|Female|       AB-|           Asthma|       2023-05-25|     Julie Thompson|Herrera, Roberts ...|        Blue Cross| 8628.143559606928|        342|    2023-06-11|    Lipitor|Inconclusive|     true|        true|  inpatient|[X-rays, MRI, CT ...|Adam Allen_inpatient| Adam Allen_20170823|      3|       false|\n",
      "|       endocrinology|2017-08-23|        gp_referral|    A. Allen|  6|Female|       AB-|           Asthma|       2023-05-25|     Julie Thompson|Herrera, Roberts ...|        Blue Cross| 8628.143559606928|        342|    2023-06-11|    Lipitor|Inconclusive|     true|        true| outpatient|[Blood tests (hor...|          Adam Allen| Adam Allen_20170823|      2|       false|\n",
      "|         dermatology|2004-12-04|        gp_referral|    A. Allen| 19|  Male|        B-|           Asthma|       2019-08-16|       Kristi Hayes|    Stevenson-Moreno|             Aetna| 47200.32603530504|        469|    2019-09-06| Penicillin|      Normal|    false|       false| outpatient|[Skin biopsy, Pat...|      Angelica Allen|Angelica Allen_20...|      2|       false|\n",
      "|    gastroenterology|2004-12-04|        gp_referral|    A. Allen| 19|  Male|        B-|           Asthma|       2019-08-16|       Kristi Hayes|    Stevenson-Moreno|             Aetna| 47200.32603530504|        469|    2019-09-06| Penicillin|      Normal|    false|       false| outpatient|[Endoscopy, Colon...|      Angelica Allen|Angelica Allen_20...|      1|       false|\n",
      "|    gastroenterology|2004-12-04|        gp_referral|    A. Allen| 19|  Male|        B-|           Asthma|       2019-08-16|       Kristi Hayes|    Stevenson-Moreno|             Aetna| 47200.32603530504|        469|    2019-09-06| Penicillin|      Normal|    false|       false|day_patient|[Endoscopy, Colon...|Angelica Allen_da...|Angelica Allen_20...|      2|       false|\n",
      "|       endocrinology|2004-12-04|        gp_referral|    A. Allen| 19|  Male|        B-|           Asthma|       2019-08-16|       Kristi Hayes|    Stevenson-Moreno|             Aetna| 47200.32603530504|        469|    2019-09-06| Penicillin|      Normal|    false|       false| outpatient|[Blood tests (hor...|      Angelica Allen|Angelica Allen_20...|      5|       false|\n",
      "|         orthopedics|2004-12-04|        gp_referral|    A. Allen| 19|  Male|        B-|           Asthma|       2019-08-16|       Kristi Hayes|    Stevenson-Moreno|             Aetna| 47200.32603530504|        469|    2019-09-06| Penicillin|      Normal|    false|       false|day_patient|[X-rays, MRI, CT ...|Angelica Allen_da...|Angelica Allen_20...|      1|       false|\n",
      "|         orthopedics|2004-12-04|        gp_referral|    A. Allen| 19|  Male|        B-|           Asthma|       2019-08-16|       Kristi Hayes|    Stevenson-Moreno|             Aetna| 47200.32603530504|        469|    2019-09-06| Penicillin|      Normal|    false|       false|  inpatient|[X-rays, MRI, CT ...|Angelica Allen_in...|Angelica Allen_20...|      3|       false|\n",
      "|              mental|2004-12-04|        gp_referral|    A. Allen| 19|  Male|        B-|           Asthma|       2019-08-16|       Kristi Hayes|    Stevenson-Moreno|             Aetna| 47200.32603530504|        469|    2019-09-06| Penicillin|      Normal|    false|       false| outpatient|[Psychological ev...|      Angelica Allen|Angelica Allen_20...|      4|       false|\n",
      "|              mental|2004-12-04|        gp_referral|    A. Allen| 19|  Male|        B-|           Asthma|       2019-08-16|       Kristi Hayes|    Stevenson-Moreno|             Aetna| 47200.32603530504|        469|    2019-09-06| Penicillin|      Normal|    false|       false|  inpatient|[Psychological ev...|Angelica Allen_in...|Angelica Allen_20...|      1|       false|\n",
      "| infectious_diseases|1995-03-26|          emergency|    A. Allen| 28|  Male|       AB+|          Obesity|       2021-12-04|  Mrs. Norma Lawson|West, Hendrix and...|          Medicare| 39412.03459377831|        322|    2021-12-12|Paracetamol|    Abnormal|    false|       false| outpatient|[Blood cultures, ...|        Amanda Allen|Amanda Allen_1995...|      1|       false|\n",
      "| infectious_diseases|1995-03-26|          emergency|    A. Allen| 28|  Male|       AB+|          Obesity|       2021-12-04|  Mrs. Norma Lawson|West, Hendrix and...|          Medicare| 39412.03459377831|        322|    2021-12-12|Paracetamol|    Abnormal|    false|       false|  inpatient|[Blood cultures, ...|Amanda Allen_inpa...|Amanda Allen_1995...|      3|       false|\n",
      "|         pulmonology|1995-03-26|          emergency|    A. Allen| 28|  Male|       AB+|          Obesity|       2021-12-04|  Mrs. Norma Lawson|West, Hendrix and...|          Medicare| 39412.03459377831|        322|    2021-12-12|Paracetamol|    Abnormal|    false|       false|day_patient|[Pulmonary functi...|Amanda Allen_day_...|Amanda Allen_1995...|      1|       false|\n",
      "|         pulmonology|1995-03-26|          emergency|    A. Allen| 28|  Male|       AB+|          Obesity|       2021-12-04|  Mrs. Norma Lawson|West, Hendrix and...|          Medicare| 39412.03459377831|        322|    2021-12-12|Paracetamol|    Abnormal|    false|       false|  inpatient|[Pulmonary functi...|Amanda Allen_inpa...|Amanda Allen_1995...|      2|       false|\n",
      "|           neurology|1995-03-26|          emergency|    A. Allen| 28|  Male|       AB+|          Obesity|       2021-12-04|  Mrs. Norma Lawson|West, Hendrix and...|          Medicare| 39412.03459377831|        322|    2021-12-12|Paracetamol|    Abnormal|    false|       false|  inpatient|[MRI or CT scans ...|Amanda Allen_inpa...|Amanda Allen_1995...|      4|       false|\n",
      "|          cardiology|1995-03-26|          emergency|    A. Allen| 28|  Male|       AB+|          Obesity|       2021-12-04|  Mrs. Norma Lawson|West, Hendrix and...|          Medicare| 39412.03459377831|        322|    2021-12-12|Paracetamol|    Abnormal|    false|       false|day_patient|[ECG, Echocardiog...|Amanda Allen_day_...|Amanda Allen_1995...|      3|       false|\n",
      "|          cardiology|1995-03-26|          emergency|    A. Allen| 28|  Male|       AB+|          Obesity|       2021-12-04|  Mrs. Norma Lawson|West, Hendrix and...|          Medicare| 39412.03459377831|        322|    2021-12-12|Paracetamol|    Abnormal|    false|       false|  inpatient|[ECG, Echocardiog...|Amanda Allen_inpa...|Amanda Allen_1995...|      1|       false|\n",
      "|      self_inflicted|1995-03-26|          emergency|    A. Allen| 28|  Male|       AB+|          Obesity|       2021-12-04|  Mrs. Norma Lawson|West, Hendrix and...|          Medicare| 39412.03459377831|        322|    2021-12-12|Paracetamol|    Abnormal|    false|       false|  inpatient|[Psychological as...|Amanda Allen_inpa...|Amanda Allen_1995...|      5|       false|\n",
      "|          injury_rtc|1995-03-26|          emergency|    A. Allen| 28|  Male|       AB+|          Obesity|       2021-12-04|  Mrs. Norma Lawson|West, Hendrix and...|          Medicare| 39412.03459377831|        322|    2021-12-12|Paracetamol|    Abnormal|    false|       false|day_patient|[X-rays, CT scans...|Amanda Allen_day_...|Amanda Allen_1995...|      2|       false|\n",
      "|          injury_rtc|1995-03-26|          emergency|    A. Allen| 28|  Male|       AB+|          Obesity|       2021-12-04|  Mrs. Norma Lawson|West, Hendrix and...|          Medicare| 39412.03459377831|        322|    2021-12-12|Paracetamol|    Abnormal|    false|       false|  inpatient|[X-rays, CT scans...|Amanda Allen_inpa...|Amanda Allen_1995...|      6|       false|\n",
      "|          injury_rtc|1967-02-20|          emergency|    A. Allen| 56|Female|        A-|           Asthma|       2018-11-15|       John Andrews|Jennings, Ingram ...|  UnitedHealthcare|12093.477203602828|        383|    2018-11-20|Paracetamol|    Abnormal|     true|       false|day_patient|[X-rays, CT scans...|Amy Allen_day_pat...|  Amy Allen_19670220|      3|       false|\n",
      "|          injury_rtc|1967-02-20|          emergency|    A. Allen| 56|Female|        A-|           Asthma|       2018-11-15|       John Andrews|Jennings, Ingram ...|  UnitedHealthcare|12093.477203602828|        383|    2018-11-20|Paracetamol|    Abnormal|     true|       false|  inpatient|[X-rays, CT scans...| Amy Allen_inpatient|  Amy Allen_19670220|      6|       false|\n",
      "|         pulmonology|1967-02-20|          emergency|    A. Allen| 56|Female|        A-|           Asthma|       2018-11-15|       John Andrews|Jennings, Ingram ...|  UnitedHealthcare|12093.477203602828|        383|    2018-11-20|Paracetamol|    Abnormal|     true|       false|day_patient|[Pulmonary functi...|Amy Allen_day_pat...|  Amy Allen_19670220|      2|       false|\n",
      "|         pulmonology|1967-02-20|          emergency|    A. Allen| 56|Female|        A-|           Asthma|       2018-11-15|       John Andrews|Jennings, Ingram ...|  UnitedHealthcare|12093.477203602828|        383|    2018-11-20|Paracetamol|    Abnormal|     true|       false|  inpatient|[Pulmonary functi...| Amy Allen_inpatient|  Amy Allen_19670220|      5|       false|\n",
      "|      self_inflicted|1967-02-20|          emergency|    A. Allen| 56|Female|        A-|           Asthma|       2018-11-15|       John Andrews|Jennings, Ingram ...|  UnitedHealthcare|12093.477203602828|        383|    2018-11-20|Paracetamol|    Abnormal|     true|       false|  inpatient|[Psychological as...| Amy Allen_inpatient|  Amy Allen_19670220|      3|       false|\n",
      "|           neurology|1967-02-20|          emergency|    A. Allen| 56|Female|        A-|           Asthma|       2018-11-15|       John Andrews|Jennings, Ingram ...|  UnitedHealthcare|12093.477203602828|        383|    2018-11-20|Paracetamol|    Abnormal|     true|       false|  inpatient|[MRI or CT scans ...| Amy Allen_inpatient|  Amy Allen_19670220|      4|       false|\n",
      "|          cardiology|1967-02-20|          emergency|    A. Allen| 56|Female|        A-|           Asthma|       2018-11-15|       John Andrews|Jennings, Ingram ...|  UnitedHealthcare|12093.477203602828|        383|    2018-11-20|Paracetamol|    Abnormal|     true|       false|day_patient|[ECG, Echocardiog...|Amy Allen_day_pat...|  Amy Allen_19670220|      1|       false|\n",
      "|          cardiology|1967-02-20|          emergency|    A. Allen| 56|Female|        A-|           Asthma|       2018-11-15|       John Andrews|Jennings, Ingram ...|  UnitedHealthcare|12093.477203602828|        383|    2018-11-20|Paracetamol|    Abnormal|     true|       false|  inpatient|[ECG, Echocardiog...| Amy Allen_inpatient|  Amy Allen_19670220|      2|       false|\n",
      "| infectious_diseases|1967-02-20|          emergency|    A. Allen| 56|Female|        A-|           Asthma|       2018-11-15|       John Andrews|Jennings, Ingram ...|  UnitedHealthcare|12093.477203602828|        383|    2018-11-20|Paracetamol|    Abnormal|     true|       false| outpatient|[Blood cultures, ...|           Amy Allen|  Amy Allen_19670220|      1|       false|\n",
      "| infectious_diseases|1967-02-20|          emergency|    A. Allen| 56|Female|        A-|           Asthma|       2018-11-15|       John Andrews|Jennings, Ingram ...|  UnitedHealthcare|12093.477203602828|        383|    2018-11-20|Paracetamol|    Abnormal|     true|       false|  inpatient|[Blood cultures, ...| Amy Allen_inpatient|  Amy Allen_19670220|      1|       false|\n",
      "| infectious_diseases|1965-01-24|          emergency| A. Alvarado| 59|Female|        B-|     Hypertension|       2023-09-19|Edward Figueroa PhD|           Oneal LLC|  UnitedHealthcare| 43274.06974916167|        268|    2023-10-14|    Lipitor|      Normal|     true|       false| outpatient|[Blood cultures, ...|       Alan Alvarado|Alan Alvarado_196...|      1|       false|\n",
      "| infectious_diseases|1965-01-24|          emergency| A. Alvarado| 59|Female|        B-|     Hypertension|       2023-09-19|Edward Figueroa PhD|           Oneal LLC|  UnitedHealthcare| 43274.06974916167|        268|    2023-10-14|    Lipitor|      Normal|     true|       false|  inpatient|[Blood cultures, ...|Alan Alvarado_inp...|Alan Alvarado_196...|      2|       false|\n",
      "|          cardiology|1965-01-24|          emergency| A. Alvarado| 59|Female|        B-|     Hypertension|       2023-09-19|Edward Figueroa PhD|           Oneal LLC|  UnitedHealthcare| 43274.06974916167|        268|    2023-10-14|    Lipitor|      Normal|     true|       false|day_patient|[ECG, Echocardiog...|Alan Alvarado_day...|Alan Alvarado_196...|      2|       false|\n",
      "|          cardiology|1965-01-24|          emergency| A. Alvarado| 59|Female|        B-|     Hypertension|       2023-09-19|Edward Figueroa PhD|           Oneal LLC|  UnitedHealthcare| 43274.06974916167|        268|    2023-10-14|    Lipitor|      Normal|     true|       false|  inpatient|[ECG, Echocardiog...|Alan Alvarado_inp...|Alan Alvarado_196...|      5|       false|\n",
      "|         pulmonology|1965-01-24|          emergency| A. Alvarado| 59|Female|        B-|     Hypertension|       2023-09-19|Edward Figueroa PhD|           Oneal LLC|  UnitedHealthcare| 43274.06974916167|        268|    2023-10-14|    Lipitor|      Normal|     true|       false|day_patient|[Pulmonary functi...|Alan Alvarado_day...|Alan Alvarado_196...|      3|       false|\n",
      "|         pulmonology|1965-01-24|          emergency| A. Alvarado| 59|Female|        B-|     Hypertension|       2023-09-19|Edward Figueroa PhD|           Oneal LLC|  UnitedHealthcare| 43274.06974916167|        268|    2023-10-14|    Lipitor|      Normal|     true|       false|  inpatient|[Pulmonary functi...|Alan Alvarado_inp...|Alan Alvarado_196...|      6|       false|\n",
      "|           neurology|1965-01-24|          emergency| A. Alvarado| 59|Female|        B-|     Hypertension|       2023-09-19|Edward Figueroa PhD|           Oneal LLC|  UnitedHealthcare| 43274.06974916167|        268|    2023-10-14|    Lipitor|      Normal|     true|       false|  inpatient|[MRI or CT scans ...|Alan Alvarado_inp...|Alan Alvarado_196...|      3|       false|\n",
      "|          injury_rtc|1965-01-24|          emergency| A. Alvarado| 59|Female|        B-|     Hypertension|       2023-09-19|Edward Figueroa PhD|           Oneal LLC|  UnitedHealthcare| 43274.06974916167|        268|    2023-10-14|    Lipitor|      Normal|     true|       false|day_patient|[X-rays, CT scans...|Alan Alvarado_day...|Alan Alvarado_196...|      1|       false|\n",
      "|          injury_rtc|1965-01-24|          emergency| A. Alvarado| 59|Female|        B-|     Hypertension|       2023-09-19|Edward Figueroa PhD|           Oneal LLC|  UnitedHealthcare| 43274.06974916167|        268|    2023-10-14|    Lipitor|      Normal|     true|       false|  inpatient|[X-rays, CT scans...|Alan Alvarado_inp...|Alan Alvarado_196...|      1|       false|\n",
      "|      self_inflicted|1965-01-24|          emergency| A. Alvarado| 59|Female|        B-|     Hypertension|       2023-09-19|Edward Figueroa PhD|           Oneal LLC|  UnitedHealthcare| 43274.06974916167|        268|    2023-10-14|    Lipitor|      Normal|     true|       false|  inpatient|[Psychological as...|Alan Alvarado_inp...|Alan Alvarado_196...|      4|       false|\n",
      "|       ophthalmology|1978-05-06|           elective|  A. Alvarez| 45|Female|        A-|     Hypertension|       2019-07-18|     Michael Morgan|            King LLC|             Aetna| 29279.01250687594|        399|    2019-07-25|    Lipitor|    Abnormal|     true|       false| outpatient|[Eye exam, Tonome...|         Amy Alvarez|Amy Alvarez_19780506|      2|       false|\n",
      "|       ophthalmology|1978-05-06|           elective|  A. Alvarez| 45|Female|        A-|     Hypertension|       2019-07-18|     Michael Morgan|            King LLC|             Aetna| 29279.01250687594|        399|    2019-07-25|    Lipitor|    Abnormal|     true|       false|day_patient|[Eye exam, Tonome...|Amy Alvarez_day_p...|Amy Alvarez_19780506|      3|       false|\n",
      "|          obstetrics|1978-05-06|           elective|  A. Alvarez| 45|Female|        A-|     Hypertension|       2019-07-18|     Michael Morgan|            King LLC|             Aetna| 29279.01250687594|        399|    2019-07-25|    Lipitor|    Abnormal|     true|       false|  inpatient|[Ultrasound, Bloo...|Amy Alvarez_inpat...|Amy Alvarez_19780506|      4|       false|\n",
      "|           maternity|1978-05-06|           elective|  A. Alvarez| 45|Female|        A-|     Hypertension|       2019-07-18|     Michael Morgan|            King LLC|             Aetna| 29279.01250687594|        399|    2019-07-25|    Lipitor|    Abnormal|     true|       false|day_patient|[Ultrasound, Bloo...|Amy Alvarez_day_p...|Amy Alvarez_19780506|      1|       false|\n",
      "|           maternity|1978-05-06|           elective|  A. Alvarez| 45|Female|        A-|     Hypertension|       2019-07-18|     Michael Morgan|            King LLC|             Aetna| 29279.01250687594|        399|    2019-07-25|    Lipitor|    Abnormal|     true|       false|  inpatient|[Ultrasound, Bloo...|Amy Alvarez_inpat...|Amy Alvarez_19780506|      2|       false|\n",
      "|         orthopedics|1978-05-06|           elective|  A. Alvarez| 45|Female|        A-|     Hypertension|       2019-07-18|     Michael Morgan|            King LLC|             Aetna| 29279.01250687594|        399|    2019-07-25|    Lipitor|    Abnormal|     true|       false|day_patient|[X-rays, MRI, CT ...|Amy Alvarez_day_p...|Amy Alvarez_19780506|      2|       false|\n",
      "|         orthopedics|1978-05-06|           elective|  A. Alvarez| 45|Female|        A-|     Hypertension|       2019-07-18|     Michael Morgan|            King LLC|             Aetna| 29279.01250687594|        399|    2019-07-25|    Lipitor|    Abnormal|     true|       false|  inpatient|[X-rays, MRI, CT ...|Amy Alvarez_inpat...|Amy Alvarez_19780506|      1|       false|\n",
      "|          geriatrics|1934-11-22|        gp_referral|  A. Alvarez| 89|Female|        B+|     Hypertension|       2023-04-02|         Jenna Ward| Le, Casey and Boyer|        Blue Cross|32613.241610463538|        186|    2023-04-25|    Aspirin|    Abnormal|     true|       false| outpatient|[Comprehensive ge...|      Andrew Alvarez|Andrew Alvarez_19...|      5|        true|\n",
      "|          geriatrics|1934-11-22|        gp_referral|  A. Alvarez| 89|Female|        B+|     Hypertension|       2023-04-02|         Jenna Ward| Le, Casey and Boyer|        Blue Cross|32613.241610463538|        186|    2023-04-25|    Aspirin|    Abnormal|     true|       false|  inpatient|[Comprehensive ge...|Andrew Alvarez_in...|Andrew Alvarez_19...|      3|        true|\n",
      "|       endocrinology|1934-11-22|        gp_referral|  A. Alvarez| 89|Female|        B+|     Hypertension|       2023-04-02|         Jenna Ward| Le, Casey and Boyer|        Blue Cross|32613.241610463538|        186|    2023-04-25|    Aspirin|    Abnormal|     true|       false| outpatient|[Blood tests (hor...|      Andrew Alvarez|Andrew Alvarez_19...|      2|       false|\n",
      "|         orthopedics|1934-11-22|        gp_referral|  A. Alvarez| 89|Female|        B+|     Hypertension|       2023-04-02|         Jenna Ward| Le, Casey and Boyer|        Blue Cross|32613.241610463538|        186|    2023-04-25|    Aspirin|    Abnormal|     true|       false|day_patient|[X-rays, MRI, CT ...|Andrew Alvarez_da...|Andrew Alvarez_19...|      1|       false|\n",
      "|         orthopedics|1934-11-22|        gp_referral|  A. Alvarez| 89|Female|        B+|     Hypertension|       2023-04-02|         Jenna Ward| Le, Casey and Boyer|        Blue Cross|32613.241610463538|        186|    2023-04-25|    Aspirin|    Abnormal|     true|       false|  inpatient|[X-rays, MRI, CT ...|Andrew Alvarez_in...|Andrew Alvarez_19...|      1|       false|\n",
      "|              mental|1934-11-22|        gp_referral|  A. Alvarez| 89|Female|        B+|     Hypertension|       2023-04-02|         Jenna Ward| Le, Casey and Boyer|        Blue Cross|32613.241610463538|        186|    2023-04-25|    Aspirin|    Abnormal|     true|       false| outpatient|[Psychological ev...|      Andrew Alvarez|Andrew Alvarez_19...|      1|       false|\n",
      "|              mental|1934-11-22|        gp_referral|  A. Alvarez| 89|Female|        B+|     Hypertension|       2023-04-02|         Jenna Ward| Le, Casey and Boyer|        Blue Cross|32613.241610463538|        186|    2023-04-25|    Aspirin|    Abnormal|     true|       false|  inpatient|[Psychological ev...|Andrew Alvarez_in...|Andrew Alvarez_19...|      2|       false|\n",
      "|         dermatology|1934-11-22|        gp_referral|  A. Alvarez| 89|Female|        B+|     Hypertension|       2023-04-02|         Jenna Ward| Le, Casey and Boyer|        Blue Cross|32613.241610463538|        186|    2023-04-25|    Aspirin|    Abnormal|     true|       false| outpatient|[Skin biopsy, Pat...|      Andrew Alvarez|Andrew Alvarez_19...|      4|       false|\n",
      "|    gastroenterology|1934-11-22|        gp_referral|  A. Alvarez| 89|Female|        B+|     Hypertension|       2023-04-02|         Jenna Ward| Le, Casey and Boyer|        Blue Cross|32613.241610463538|        186|    2023-04-25|    Aspirin|    Abnormal|     true|       false| outpatient|[Endoscopy, Colon...|      Andrew Alvarez|Andrew Alvarez_19...|      3|       false|\n",
      "|    gastroenterology|1934-11-22|        gp_referral|  A. Alvarez| 89|Female|        B+|     Hypertension|       2023-04-02|         Jenna Ward| Le, Casey and Boyer|        Blue Cross|32613.241610463538|        186|    2023-04-25|    Aspirin|    Abnormal|     true|       false|day_patient|[Endoscopy, Colon...|Andrew Alvarez_da...|Andrew Alvarez_19...|      2|       false|\n",
      "|          obstetrics|1999-12-29|           elective| A. Anderson| 24|Female|       AB+|          Obesity|       2021-09-10|  Christian Pollard|Morris, Baker and...|        Blue Cross| 27895.20904586642|        262|    2021-10-10|Paracetamol|Inconclusive|     true|       false|  inpatient|[Ultrasound, Bloo...|Amy Anderson_inpa...|Amy Anderson_1999...|      1|       false|\n",
      "|         orthopedics|1999-12-29|           elective| A. Anderson| 24|Female|       AB+|          Obesity|       2021-09-10|  Christian Pollard|Morris, Baker and...|        Blue Cross| 27895.20904586642|        262|    2021-10-10|Paracetamol|Inconclusive|     true|       false|day_patient|[X-rays, MRI, CT ...|Amy Anderson_day_...|Amy Anderson_1999...|      1|       false|\n",
      "|         orthopedics|1999-12-29|           elective| A. Anderson| 24|Female|       AB+|          Obesity|       2021-09-10|  Christian Pollard|Morris, Baker and...|        Blue Cross| 27895.20904586642|        262|    2021-10-10|Paracetamol|Inconclusive|     true|       false|  inpatient|[X-rays, MRI, CT ...|Amy Anderson_inpa...|Amy Anderson_1999...|      2|       false|\n",
      "|           maternity|1999-12-29|           elective| A. Anderson| 24|Female|       AB+|          Obesity|       2021-09-10|  Christian Pollard|Morris, Baker and...|        Blue Cross| 27895.20904586642|        262|    2021-10-10|Paracetamol|Inconclusive|     true|       false|day_patient|[Ultrasound, Bloo...|Amy Anderson_day_...|Amy Anderson_1999...|      2|       false|\n",
      "|           maternity|1999-12-29|           elective| A. Anderson| 24|Female|       AB+|          Obesity|       2021-09-10|  Christian Pollard|Morris, Baker and...|        Blue Cross| 27895.20904586642|        262|    2021-10-10|Paracetamol|Inconclusive|     true|       false|  inpatient|[Ultrasound, Bloo...|Amy Anderson_inpa...|Amy Anderson_1999...|      4|       false|\n",
      "|       ophthalmology|1999-12-29|           elective| A. Anderson| 24|Female|       AB+|          Obesity|       2021-09-10|  Christian Pollard|Morris, Baker and...|        Blue Cross| 27895.20904586642|        262|    2021-10-10|Paracetamol|Inconclusive|     true|       false| outpatient|[Eye exam, Tonome...|        Amy Anderson|Amy Anderson_1999...|      1|       false|\n",
      "|       ophthalmology|1999-12-29|           elective| A. Anderson| 24|Female|       AB+|          Obesity|       2021-09-10|  Christian Pollard|Morris, Baker and...|        Blue Cross| 27895.20904586642|        262|    2021-10-10|Paracetamol|Inconclusive|     true|       false|day_patient|[Eye exam, Tonome...|Amy Anderson_day_...|Amy Anderson_1999...|      3|       false|\n",
      "|              mental|2019-06-27|      self_referral|  A. Andrews|  4|  Male|       AB+|          Obesity|       2021-10-06|        Joseph Rios|     Kelley and Sons|             Aetna|18077.153268402544|        199|    2021-10-14|Paracetamol|      Normal|    false|        true| outpatient|[Psychological ev...|      Amanda Andrews|Amanda Andrews_20...|      1|       false|\n",
      "|         orthopedics|2019-06-27|      self_referral|  A. Andrews|  4|  Male|       AB+|          Obesity|       2021-10-06|        Joseph Rios|     Kelley and Sons|             Aetna|18077.153268402544|        199|    2021-10-14|Paracetamol|      Normal|    false|        true|day_patient|[X-rays, MRI, CT ...|Amanda Andrews_da...|Amanda Andrews_20...|      2|       false|\n",
      "|    gastroenterology|2019-06-27|      self_referral|  A. Andrews|  4|  Male|       AB+|          Obesity|       2021-10-06|        Joseph Rios|     Kelley and Sons|             Aetna|18077.153268402544|        199|    2021-10-14|Paracetamol|      Normal|    false|        true| outpatient|[Endoscopy, Colon...|      Amanda Andrews|Amanda Andrews_20...|      5|       false|\n",
      "|       endocrinology|2019-06-27|      self_referral|  A. Andrews|  4|  Male|       AB+|          Obesity|       2021-10-06|        Joseph Rios|     Kelley and Sons|             Aetna|18077.153268402544|        199|    2021-10-14|Paracetamol|      Normal|    false|        true| outpatient|[Blood tests (hor...|      Amanda Andrews|Amanda Andrews_20...|      2|       false|\n",
      "|            oncology|2019-06-27|      self_referral|  A. Andrews|  4|  Male|       AB+|          Obesity|       2021-10-06|        Joseph Rios|     Kelley and Sons|             Aetna|18077.153268402544|        199|    2021-10-14|Paracetamol|      Normal|    false|        true| outpatient|[Biopsies, MRI, U...|      Amanda Andrews|Amanda Andrews_20...|      4|       false|\n",
      "|            oncology|2019-06-27|      self_referral|  A. Andrews|  4|  Male|       AB+|          Obesity|       2021-10-06|        Joseph Rios|     Kelley and Sons|             Aetna|18077.153268402544|        199|    2021-10-14|Paracetamol|      Normal|    false|        true|day_patient|[Biopsies, MRI, U...|Amanda Andrews_da...|Amanda Andrews_20...|      1|       false|\n",
      "|            oncology|2019-06-27|      self_referral|  A. Andrews|  4|  Male|       AB+|          Obesity|       2021-10-06|        Joseph Rios|     Kelley and Sons|             Aetna|18077.153268402544|        199|    2021-10-14|Paracetamol|      Normal|    false|        true|  inpatient|[Biopsies, MRI, U...|Amanda Andrews_in...|Amanda Andrews_20...|      1|       false|\n",
      "|         dermatology|2019-06-27|      self_referral|  A. Andrews|  4|  Male|       AB+|          Obesity|       2021-10-06|        Joseph Rios|     Kelley and Sons|             Aetna|18077.153268402544|        199|    2021-10-14|Paracetamol|      Normal|    false|        true| outpatient|[Skin biopsy, Pat...|      Amanda Andrews|Amanda Andrews_20...|      3|       false|\n",
      "|           neurology|1996-10-22|          emergency|A. Armstrong| 27|Female|        B-|          Obesity|       2023-05-25|       Sherry Sharp|       Robertson PLC|        Blue Cross|20312.769821444414|        263|    2023-06-15|Paracetamol|Inconclusive|     true|       false|  inpatient|[MRI or CT scans ...|Anthony Armstrong...|Anthony Armstrong...|      1|       false|\n",
      "|      self_inflicted|1996-10-22|          emergency|A. Armstrong| 27|Female|        B-|          Obesity|       2023-05-25|       Sherry Sharp|       Robertson PLC|        Blue Cross|20312.769821444414|        263|    2023-06-15|Paracetamol|Inconclusive|     true|       false|  inpatient|[Psychological as...|Anthony Armstrong...|Anthony Armstrong...|      3|       false|\n",
      "|         pulmonology|1996-10-22|          emergency|A. Armstrong| 27|Female|        B-|          Obesity|       2023-05-25|       Sherry Sharp|       Robertson PLC|        Blue Cross|20312.769821444414|        263|    2023-06-15|Paracetamol|Inconclusive|     true|       false|day_patient|[Pulmonary functi...|Anthony Armstrong...|Anthony Armstrong...|      3|       false|\n",
      "|         pulmonology|1996-10-22|          emergency|A. Armstrong| 27|Female|        B-|          Obesity|       2023-05-25|       Sherry Sharp|       Robertson PLC|        Blue Cross|20312.769821444414|        263|    2023-06-15|Paracetamol|Inconclusive|     true|       false|  inpatient|[Pulmonary functi...|Anthony Armstrong...|Anthony Armstrong...|      2|       false|\n",
      "| infectious_diseases|1996-10-22|          emergency|A. Armstrong| 27|Female|        B-|          Obesity|       2023-05-25|       Sherry Sharp|       Robertson PLC|        Blue Cross|20312.769821444414|        263|    2023-06-15|Paracetamol|Inconclusive|     true|       false| outpatient|[Blood cultures, ...|   Anthony Armstrong|Anthony Armstrong...|      1|       false|\n",
      "| infectious_diseases|1996-10-22|          emergency|A. Armstrong| 27|Female|        B-|          Obesity|       2023-05-25|       Sherry Sharp|       Robertson PLC|        Blue Cross|20312.769821444414|        263|    2023-06-15|Paracetamol|Inconclusive|     true|       false|  inpatient|[Blood cultures, ...|Anthony Armstrong...|Anthony Armstrong...|      5|       false|\n",
      "|          injury_rtc|1996-10-22|          emergency|A. Armstrong| 27|Female|        B-|          Obesity|       2023-05-25|       Sherry Sharp|       Robertson PLC|        Blue Cross|20312.769821444414|        263|    2023-06-15|Paracetamol|Inconclusive|     true|       false|day_patient|[X-rays, CT scans...|Anthony Armstrong...|Anthony Armstrong...|      1|       false|\n",
      "|          injury_rtc|1996-10-22|          emergency|A. Armstrong| 27|Female|        B-|          Obesity|       2023-05-25|       Sherry Sharp|       Robertson PLC|        Blue Cross|20312.769821444414|        263|    2023-06-15|Paracetamol|Inconclusive|     true|       false|  inpatient|[X-rays, CT scans...|Anthony Armstrong...|Anthony Armstrong...|      4|       false|\n",
      "|          cardiology|1996-10-22|          emergency|A. Armstrong| 27|Female|        B-|          Obesity|       2023-05-25|       Sherry Sharp|       Robertson PLC|        Blue Cross|20312.769821444414|        263|    2023-06-15|Paracetamol|Inconclusive|     true|       false|day_patient|[ECG, Echocardiog...|Anthony Armstrong...|Anthony Armstrong...|      2|       false|\n",
      "|          cardiology|1996-10-22|          emergency|A. Armstrong| 27|Female|        B-|          Obesity|       2023-05-25|       Sherry Sharp|       Robertson PLC|        Blue Cross|20312.769821444414|        263|    2023-06-15|Paracetamol|Inconclusive|     true|       false|  inpatient|[ECG, Echocardiog...|Anthony Armstrong...|Anthony Armstrong...|      6|       false|\n",
      "|         orthopedics|1977-02-10|      self_referral|A. Armstrong| 46|Female|        A+|         Diabetes|       2021-12-23|        Jamie Marks|Dawson, Yang and ...|             Cigna|35791.956328527325|        238|    2022-01-10| Penicillin|Inconclusive|     true|       false|day_patient|[X-rays, MRI, CT ...|Ashley Armstrong_...|Ashley Armstrong_...|      2|       false|\n",
      "|    gastroenterology|1977-02-10|      self_referral|A. Armstrong| 46|Female|        A+|         Diabetes|       2021-12-23|        Jamie Marks|Dawson, Yang and ...|             Cigna|35791.956328527325|        238|    2022-01-10| Penicillin|Inconclusive|     true|       false| outpatient|[Endoscopy, Colon...|    Ashley Armstrong|Ashley Armstrong_...|      2|       false|\n",
      "|       endocrinology|1977-02-10|      self_referral|A. Armstrong| 46|Female|        A+|         Diabetes|       2021-12-23|        Jamie Marks|Dawson, Yang and ...|             Cigna|35791.956328527325|        238|    2022-01-10| Penicillin|Inconclusive|     true|       false| outpatient|[Blood tests (hor...|    Ashley Armstrong|Ashley Armstrong_...|      4|       false|\n",
      "|              mental|1977-02-10|      self_referral|A. Armstrong| 46|Female|        A+|         Diabetes|       2021-12-23|        Jamie Marks|Dawson, Yang and ...|             Cigna|35791.956328527325|        238|    2022-01-10| Penicillin|Inconclusive|     true|       false| outpatient|[Psychological ev...|    Ashley Armstrong|Ashley Armstrong_...|      3|       false|\n",
      "|         dermatology|1977-02-10|      self_referral|A. Armstrong| 46|Female|        A+|         Diabetes|       2021-12-23|        Jamie Marks|Dawson, Yang and ...|             Cigna|35791.956328527325|        238|    2022-01-10| Penicillin|Inconclusive|     true|       false| outpatient|[Skin biopsy, Pat...|    Ashley Armstrong|Ashley Armstrong_...|      1|       false|\n",
      "|            oncology|1977-02-10|      self_referral|A. Armstrong| 46|Female|        A+|         Diabetes|       2021-12-23|        Jamie Marks|Dawson, Yang and ...|             Cigna|35791.956328527325|        238|    2022-01-10| Penicillin|Inconclusive|     true|       false| outpatient|[Biopsies, MRI, U...|    Ashley Armstrong|Ashley Armstrong_...|      5|       false|\n",
      "|            oncology|1977-02-10|      self_referral|A. Armstrong| 46|Female|        A+|         Diabetes|       2021-12-23|        Jamie Marks|Dawson, Yang and ...|             Cigna|35791.956328527325|        238|    2022-01-10| Penicillin|Inconclusive|     true|       false|day_patient|[Biopsies, MRI, U...|Ashley Armstrong_...|Ashley Armstrong_...|      1|       false|\n",
      "|            oncology|1977-02-10|      self_referral|A. Armstrong| 46|Female|        A+|         Diabetes|       2021-12-23|        Jamie Marks|Dawson, Yang and ...|             Cigna|35791.956328527325|        238|    2022-01-10| Penicillin|Inconclusive|     true|       false|  inpatient|[Biopsies, MRI, U...|Ashley Armstrong_...|Ashley Armstrong_...|      1|       false|\n",
      "|          geriatrics|1941-03-19|        gp_referral|A. Armstrong| 82|  Male|        O-|          Obesity|       2020-07-24|      Marcus Robles|     Stein-Dickerson|          Medicare| 32447.69749887272|        229|    2020-08-11|Paracetamol|    Abnormal|    false|       false| outpatient|[Comprehensive ge...|     Angel Armstrong|Angel Armstrong_1...|      1|        true|\n",
      "|          geriatrics|1941-03-19|        gp_referral|A. Armstrong| 82|  Male|        O-|          Obesity|       2020-07-24|      Marcus Robles|     Stein-Dickerson|          Medicare| 32447.69749887272|        229|    2020-08-11|Paracetamol|    Abnormal|    false|       false|  inpatient|[Comprehensive ge...|Angel Armstrong_i...|Angel Armstrong_1...|      1|        true|\n",
      "|       endocrinology|1941-03-19|        gp_referral|A. Armstrong| 82|  Male|        O-|          Obesity|       2020-07-24|      Marcus Robles|     Stein-Dickerson|          Medicare| 32447.69749887272|        229|    2020-08-11|Paracetamol|    Abnormal|    false|       false| outpatient|[Blood tests (hor...|     Angel Armstrong|Angel Armstrong_1...|      2|       false|\n",
      "|              mental|1941-03-19|        gp_referral|A. Armstrong| 82|  Male|        O-|          Obesity|       2020-07-24|      Marcus Robles|     Stein-Dickerson|          Medicare| 32447.69749887272|        229|    2020-08-11|Paracetamol|    Abnormal|    false|       false| outpatient|[Psychological ev...|     Angel Armstrong|Angel Armstrong_1...|      3|       false|\n",
      "|              mental|1941-03-19|        gp_referral|A. Armstrong| 82|  Male|        O-|          Obesity|       2020-07-24|      Marcus Robles|     Stein-Dickerson|          Medicare| 32447.69749887272|        229|    2020-08-11|Paracetamol|    Abnormal|    false|       false|  inpatient|[Psychological ev...|Angel Armstrong_i...|Angel Armstrong_1...|      3|       false|\n",
      "|         dermatology|1941-03-19|        gp_referral|A. Armstrong| 82|  Male|        O-|          Obesity|       2020-07-24|      Marcus Robles|     Stein-Dickerson|          Medicare| 32447.69749887272|        229|    2020-08-11|Paracetamol|    Abnormal|    false|       false| outpatient|[Skin biopsy, Pat...|     Angel Armstrong|Angel Armstrong_1...|      4|       false|\n",
      "|         orthopedics|1941-03-19|        gp_referral|A. Armstrong| 82|  Male|        O-|          Obesity|       2020-07-24|      Marcus Robles|     Stein-Dickerson|          Medicare| 32447.69749887272|        229|    2020-08-11|Paracetamol|    Abnormal|    false|       false|day_patient|[X-rays, MRI, CT ...|Angel Armstrong_d...|Angel Armstrong_1...|      2|       false|\n",
      "|         orthopedics|1941-03-19|        gp_referral|A. Armstrong| 82|  Male|        O-|          Obesity|       2020-07-24|      Marcus Robles|     Stein-Dickerson|          Medicare| 32447.69749887272|        229|    2020-08-11|Paracetamol|    Abnormal|    false|       false|  inpatient|[X-rays, MRI, CT ...|Angel Armstrong_i...|Angel Armstrong_1...|      2|       false|\n",
      "|    gastroenterology|1941-03-19|        gp_referral|A. Armstrong| 82|  Male|        O-|          Obesity|       2020-07-24|      Marcus Robles|     Stein-Dickerson|          Medicare| 32447.69749887272|        229|    2020-08-11|Paracetamol|    Abnormal|    false|       false| outpatient|[Endoscopy, Colon...|     Angel Armstrong|Angel Armstrong_1...|      5|       false|\n",
      "|    gastroenterology|1941-03-19|        gp_referral|A. Armstrong| 82|  Male|        O-|          Obesity|       2020-07-24|      Marcus Robles|     Stein-Dickerson|          Medicare| 32447.69749887272|        229|    2020-08-11|Paracetamol|    Abnormal|    false|       false|day_patient|[Endoscopy, Colon...|Angel Armstrong_d...|Angel Armstrong_1...|      1|       false|\n",
      "|            oncology|2014-10-26|      self_referral|   A. Arnold|  9|Female|        O+|        Arthritis|       2023-06-14|       James Harris|         Simmons PLC|  UnitedHealthcare| 4888.096416293663|        262|    2023-07-06| Penicillin|    Abnormal|     true|        true| outpatient|[Biopsies, MRI, U...|         Anna Arnold|Anna Arnold_20141026|      1|       false|\n",
      "|            oncology|2014-10-26|      self_referral|   A. Arnold|  9|Female|        O+|        Arthritis|       2023-06-14|       James Harris|         Simmons PLC|  UnitedHealthcare| 4888.096416293663|        262|    2023-07-06| Penicillin|    Abnormal|     true|        true|day_patient|[Biopsies, MRI, U...|Anna Arnold_day_p...|Anna Arnold_20141026|      2|       false|\n",
      "|            oncology|2014-10-26|      self_referral|   A. Arnold|  9|Female|        O+|        Arthritis|       2023-06-14|       James Harris|         Simmons PLC|  UnitedHealthcare| 4888.096416293663|        262|    2023-07-06| Penicillin|    Abnormal|     true|        true|  inpatient|[Biopsies, MRI, U...|Anna Arnold_inpat...|Anna Arnold_20141026|      1|       false|\n",
      "|         orthopedics|2014-10-26|      self_referral|   A. Arnold|  9|Female|        O+|        Arthritis|       2023-06-14|       James Harris|         Simmons PLC|  UnitedHealthcare| 4888.096416293663|        262|    2023-07-06| Penicillin|    Abnormal|     true|        true|day_patient|[X-rays, MRI, CT ...|Anna Arnold_day_p...|Anna Arnold_20141026|      1|       false|\n",
      "|              mental|2014-10-26|      self_referral|   A. Arnold|  9|Female|        O+|        Arthritis|       2023-06-14|       James Harris|         Simmons PLC|  UnitedHealthcare| 4888.096416293663|        262|    2023-07-06| Penicillin|    Abnormal|     true|        true| outpatient|[Psychological ev...|         Anna Arnold|Anna Arnold_20141026|      2|       false|\n",
      "|       endocrinology|2014-10-26|      self_referral|   A. Arnold|  9|Female|        O+|        Arthritis|       2023-06-14|       James Harris|         Simmons PLC|  UnitedHealthcare| 4888.096416293663|        262|    2023-07-06| Penicillin|    Abnormal|     true|        true| outpatient|[Blood tests (hor...|         Anna Arnold|Anna Arnold_20141026|      4|       false|\n",
      "|         dermatology|2014-10-26|      self_referral|   A. Arnold|  9|Female|        O+|        Arthritis|       2023-06-14|       James Harris|         Simmons PLC|  UnitedHealthcare| 4888.096416293663|        262|    2023-07-06| Penicillin|    Abnormal|     true|        true| outpatient|[Skin biopsy, Pat...|         Anna Arnold|Anna Arnold_20141026|      5|       false|\n",
      "|    gastroenterology|2014-10-26|      self_referral|   A. Arnold|  9|Female|        O+|        Arthritis|       2023-06-14|       James Harris|         Simmons PLC|  UnitedHealthcare| 4888.096416293663|        262|    2023-07-06| Penicillin|    Abnormal|     true|        true| outpatient|[Endoscopy, Colon...|         Anna Arnold|Anna Arnold_20141026|      3|       false|\n",
      "|              mental|1996-06-05|      self_referral|   A. Atkins| 27|Female|       AB+|         Diabetes|       2020-02-08|     David Erickson|      Mcdaniel Group|          Medicare| 9006.068513154656|        112|    2020-02-19|    Lipitor|Inconclusive|     true|       false| outpatient|[Psychological ev...|       Ashley Atkins|Ashley Atkins_199...|      4|       false|\n",
      "|       endocrinology|1996-06-05|      self_referral|   A. Atkins| 27|Female|       AB+|         Diabetes|       2020-02-08|     David Erickson|      Mcdaniel Group|          Medicare| 9006.068513154656|        112|    2020-02-19|    Lipitor|Inconclusive|     true|       false| outpatient|[Blood tests (hor...|       Ashley Atkins|Ashley Atkins_199...|      2|       false|\n",
      "|         dermatology|1996-06-05|      self_referral|   A. Atkins| 27|Female|       AB+|         Diabetes|       2020-02-08|     David Erickson|      Mcdaniel Group|          Medicare| 9006.068513154656|        112|    2020-02-19|    Lipitor|Inconclusive|     true|       false| outpatient|[Skin biopsy, Pat...|       Ashley Atkins|Ashley Atkins_199...|      5|       false|\n",
      "|    gastroenterology|1996-06-05|      self_referral|   A. Atkins| 27|Female|       AB+|         Diabetes|       2020-02-08|     David Erickson|      Mcdaniel Group|          Medicare| 9006.068513154656|        112|    2020-02-19|    Lipitor|Inconclusive|     true|       false| outpatient|[Endoscopy, Colon...|       Ashley Atkins|Ashley Atkins_199...|      3|       false|\n",
      "|            oncology|1996-06-05|      self_referral|   A. Atkins| 27|Female|       AB+|         Diabetes|       2020-02-08|     David Erickson|      Mcdaniel Group|          Medicare| 9006.068513154656|        112|    2020-02-19|    Lipitor|Inconclusive|     true|       false| outpatient|[Biopsies, MRI, U...|       Ashley Atkins|Ashley Atkins_199...|      1|       false|\n",
      "|            oncology|1996-06-05|      self_referral|   A. Atkins| 27|Female|       AB+|         Diabetes|       2020-02-08|     David Erickson|      Mcdaniel Group|          Medicare| 9006.068513154656|        112|    2020-02-19|    Lipitor|Inconclusive|     true|       false|day_patient|[Biopsies, MRI, U...|Ashley Atkins_day...|Ashley Atkins_199...|      2|       false|\n",
      "|            oncology|1996-06-05|      self_referral|   A. Atkins| 27|Female|       AB+|         Diabetes|       2020-02-08|     David Erickson|      Mcdaniel Group|          Medicare| 9006.068513154656|        112|    2020-02-19|    Lipitor|Inconclusive|     true|       false|  inpatient|[Biopsies, MRI, U...|Ashley Atkins_inp...|Ashley Atkins_199...|      1|       false|\n",
      "|         orthopedics|1996-06-05|      self_referral|   A. Atkins| 27|Female|       AB+|         Diabetes|       2020-02-08|     David Erickson|      Mcdaniel Group|          Medicare| 9006.068513154656|        112|    2020-02-19|    Lipitor|Inconclusive|     true|       false|day_patient|[X-rays, MRI, CT ...|Ashley Atkins_day...|Ashley Atkins_199...|      1|       false|\n",
      "|          nephrology|2021-09-29|  hospital_referral| A. Atkinson|  2|  Male|       AB-|        Arthritis|       2020-06-05|        Kevin Reyes|         Griffin Ltd|  UnitedHealthcare| 27654.52250853423|        393|    2020-06-29|  Ibuprofen|    Abnormal|    false|        true|  inpatient|[Blood tests (ren...|Amber Atkinson_in...|Amber Atkinson_20...|      2|       false|\n",
      "|           neurology|2021-09-29|  hospital_referral| A. Atkinson|  2|  Male|       AB-|        Arthritis|       2020-06-05|        Kevin Reyes|         Griffin Ltd|  UnitedHealthcare| 27654.52250853423|        393|    2020-06-29|  Ibuprofen|    Abnormal|    false|        true|  inpatient|[MRI or CT scans ...|Amber Atkinson_in...|Amber Atkinson_20...|      1|       false|\n",
      "|          cardiology|2021-09-29|  hospital_referral| A. Atkinson|  2|  Male|       AB-|        Arthritis|       2020-06-05|        Kevin Reyes|         Griffin Ltd|  UnitedHealthcare| 27654.52250853423|        393|    2020-06-29|  Ibuprofen|    Abnormal|    false|        true|day_patient|[ECG, Echocardiog...|Amber Atkinson_da...|Amber Atkinson_20...|      2|       false|\n",
      "|          cardiology|2021-09-29|  hospital_referral| A. Atkinson|  2|  Male|       AB-|        Arthritis|       2020-06-05|        Kevin Reyes|         Griffin Ltd|  UnitedHealthcare| 27654.52250853423|        393|    2020-06-29|  Ibuprofen|    Abnormal|    false|        true|  inpatient|[ECG, Echocardiog...|Amber Atkinson_in...|Amber Atkinson_20...|      4|       false|\n",
      "|            oncology|2021-09-29|  hospital_referral| A. Atkinson|  2|  Male|       AB-|        Arthritis|       2020-06-05|        Kevin Reyes|         Griffin Ltd|  UnitedHealthcare| 27654.52250853423|        393|    2020-06-29|  Ibuprofen|    Abnormal|    false|        true|day_patient|[Biopsies, MRI, U...|Amber Atkinson_da...|Amber Atkinson_20...|      1|       false|\n",
      "|            oncology|2021-09-29|  hospital_referral| A. Atkinson|  2|  Male|       AB-|        Arthritis|       2020-06-05|        Kevin Reyes|         Griffin Ltd|  UnitedHealthcare| 27654.52250853423|        393|    2020-06-29|  Ibuprofen|    Abnormal|    false|        true|  inpatient|[Biopsies, MRI, U...|Amber Atkinson_in...|Amber Atkinson_20...|      3|       false|\n",
      "|otorhinolaryngolo...|2021-09-29|  hospital_referral| A. Atkinson|  2|  Male|       AB-|        Arthritis|       2020-06-05|        Kevin Reyes|         Griffin Ltd|  UnitedHealthcare| 27654.52250853423|        393|    2020-06-29|  Ibuprofen|    Abnormal|    false|        true|day_patient|[Hearing tests, E...|Amber Atkinson_da...|Amber Atkinson_20...|      3|       false|\n",
      "|otorhinolaryngolo...|2021-09-29|  hospital_referral| A. Atkinson|  2|  Male|       AB-|        Arthritis|       2020-06-05|        Kevin Reyes|         Griffin Ltd|  UnitedHealthcare| 27654.52250853423|        393|    2020-06-29|  Ibuprofen|    Abnormal|    false|        true|  inpatient|[Hearing tests, E...|Amber Atkinson_in...|Amber Atkinson_20...|      5|       false|\n",
      "+--------------------+----------+-------------------+------------+---+------+----------+-----------------+-----------------+-------------------+--------------------+------------------+------------------+-----------+--------------+-----------+------------+---------+------------+-----------+--------------------+--------------------+--------------------+-------+------------+\n"
     ]
    }
   ],
   "source": [
    "df_renamed.orderBy('name', 'Age').show(n=200)"
   ],
   "metadata": {
    "collapsed": false,
    "ExecuteTime": {
     "end_time": "2024-02-13T20:34:21.422253Z",
     "start_time": "2024-02-13T20:34:17.453407Z"
    }
   },
   "id": "e81edde731b5e3d8"
  },
  {
   "cell_type": "code",
   "execution_count": null,
   "outputs": [],
   "source": [
    "df_renamed.select(['name', 're_name']).show(n=2000)"
   ],
   "metadata": {
    "collapsed": false
   },
   "id": "93a00788dae6f6f2"
  },
  {
   "cell_type": "code",
   "execution_count": null,
   "outputs": [],
   "source": [
    "# TODO: drop full name for initial and surname since nname column is poor. \n",
    "# adjust doctor column \n",
    "# medical condition \n",
    "# admission date to be checked again dob, \n",
    "# medication to be checked \n",
    "# choose random results \n",
    "# TODO filter on is pediatric, geriatric and is_female to be done here and same people with dob? needs  to be considered \n",
    "# drop stay_name and unique_id \n"
   ],
   "metadata": {
    "collapsed": false
   },
   "id": "a79379063057bfee"
  },
  {
   "cell_type": "code",
   "execution_count": null,
   "outputs": [],
   "source": [
    "# Filter to keep only the top-ranked row within each partition\n",
    "ranked_df = filtered_df_female"
   ],
   "metadata": {
    "collapsed": false
   },
   "id": "4879749b20208b88"
  },
  {
   "cell_type": "code",
   "execution_count": null,
   "outputs": [],
   "source": [
    "ranked_df.where(col(\"name\") == \"Daniel Mccoy\").show(n=8000)"
   ],
   "metadata": {
    "collapsed": false
   },
   "id": "2ef205bb8eadc990"
  },
  {
   "cell_type": "code",
   "execution_count": null,
   "outputs": [],
   "source": [
    "from pyspark.sql.types import StringType\n",
    "\n",
    "df = filtered_df_female.select([col(c).cast(StringType()).alias(c) for c in df.columns])\n",
    "df.write.csv('./temp_data/female/filtered_df_female.csv', mode = 'overwrite', header=True)"
   ],
   "metadata": {
    "collapsed": false
   },
   "id": "1eb59205ef488cec"
  },
  {
   "cell_type": "code",
   "execution_count": null,
   "outputs": [],
   "source": [
    "# TODO initialise first name to make data more realistic for name columns i.e. Daniel Mccoy is seen a Male name but here its Female"
   ],
   "metadata": {
    "collapsed": false
   },
   "id": "31a9a6e7e0527585"
  },
  {
   "cell_type": "code",
   "execution_count": null,
   "outputs": [],
   "source": [
    "spark.stop()"
   ],
   "metadata": {
    "collapsed": false
   },
   "id": "88f0099b41d9dc86"
  },
  {
   "cell_type": "code",
   "execution_count": 5,
   "outputs": [],
   "source": [
    "dict_ = admission_mapping.get(\"emergency\")"
   ],
   "metadata": {
    "collapsed": false,
    "ExecuteTime": {
     "end_time": "2024-02-13T21:50:45.075799Z",
     "start_time": "2024-02-13T21:50:45.069975Z"
    }
   },
   "id": "e68e3f5c6b955395"
  }
 ],
 "metadata": {
  "kernelspec": {
   "display_name": "Python 3",
   "language": "python",
   "name": "python3"
  },
  "language_info": {
   "codemirror_mode": {
    "name": "ipython",
    "version": 2
   },
   "file_extension": ".py",
   "mimetype": "text/x-python",
   "name": "python",
   "nbconvert_exporter": "python",
   "pygments_lexer": "ipython2",
   "version": "2.7.6"
  }
 },
 "nbformat": 4,
 "nbformat_minor": 5
}
