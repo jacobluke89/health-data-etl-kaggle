{
 "cells": [
  {
   "cell_type": "code",
   "execution_count": 1,
   "outputs": [
    {
     "name": "stderr",
     "output_type": "stream",
     "text": [
      "/Users/jacobbickerstaff/Desktop/Development/health-data-etl-kaggle/venv/lib/python3.11/site-packages/pyspark/pandas/__init__.py:50: UserWarning: 'PYARROW_IGNORE_TIMEZONE' environment variable was not set. It is required to set this environment variable to '1' in both driver and executor sides if you use pyarrow>=2.0.0. pandas-on-Spark will set it for you but it does not work if there is a Spark context already launched.\n",
      "  warnings.warn(\n",
      "24/02/25 09:40:26 WARN NativeCodeLoader: Unable to load native-hadoop library for your platform... using builtin-java classes where applicable\n",
      "Setting default log level to \"WARN\".\n",
      "To adjust logging level use sc.setLogLevel(newLevel). For SparkR, use setLogLevel(newLevel).\n"
     ]
    }
   ],
   "source": [
    "import random\n",
    "\n",
    "from data_generator.csv_data_processor import CSVDataProcessor\n",
    "from utils.util_funcs import get_row_count, display_df, remove_data, verify_ranking, verify_ranking_counts\n",
    "from utils.read_write import read_postgres_table\n",
    "from spark_instance import spark\n",
    "from pyspark.sql import Window\n",
    "\n",
    "from pyspark.sql.functions import col, lower, lit, rand, array, floor, concat, when, row_number, concat_ws, date_format, split, size\n",
    "  "
   ],
   "metadata": {
    "collapsed": false,
    "ExecuteTime": {
     "end_time": "2024-02-25T09:40:29.386507Z",
     "start_time": "2024-02-25T09:40:21.704865Z"
    }
   },
   "id": "344f364a0ecf68e0"
  },
  {
   "cell_type": "code",
   "execution_count": 2,
   "id": "initial_id",
   "metadata": {
    "collapsed": true,
    "ExecuteTime": {
     "end_time": "2024-02-25T09:40:29.387022Z",
     "start_time": "2024-02-25T09:40:29.362333Z"
    }
   },
   "outputs": [],
   "source": [
    "# csv_reader = CSVDataProcessor(spark, \"data/healthcare_dataset.csv\")\n",
    "# \n",
    "# # Read the CSV file\n",
    "# raw_df = csv_reader.run()\n"
   ]
  },
  {
   "cell_type": "code",
   "execution_count": 3,
   "outputs": [],
   "source": [
    "# min_age_days = 1 * 365  # Minimum age in days (18 years)\n",
    "# max_age_days = 90 * 365  # Maximum age in days (90 years)\n",
    "# \n",
    "# raw_df = (raw_df.withColumn(\"DOB\", expr(f\"date_sub(current_date(), CAST(round(rand() * ({max_age_days} - {min_age_days}) + {min_age_days}) AS INT))\"))\n",
    "#         .withColumn(\"Age\", floor(datediff(current_date(), col(\"DOB\")) / 365.25)))\n",
    "\n",
    "\n"
   ],
   "metadata": {
    "collapsed": false,
    "ExecuteTime": {
     "end_time": "2024-02-25T09:40:29.387170Z",
     "start_time": "2024-02-25T09:40:29.366962Z"
    }
   },
   "id": "62f17c7d47c49e7e"
  },
  {
   "cell_type": "code",
   "execution_count": 4,
   "outputs": [],
   "source": [
    "# above is commented out as it's saved in the database:\n",
    "df = read_postgres_table(\"dob_age_raw_data\")"
   ],
   "metadata": {
    "collapsed": false,
    "ExecuteTime": {
     "end_time": "2024-02-25T09:40:32.139208Z",
     "start_time": "2024-02-25T09:40:29.377145Z"
    }
   },
   "id": "19c3e561ca62f93"
  },
  {
   "cell_type": "code",
   "execution_count": 5,
   "outputs": [],
   "source": [
    "# df.where(col(\"Age\") < 16).show()"
   ],
   "metadata": {
    "collapsed": false,
    "ExecuteTime": {
     "end_time": "2024-02-25T09:40:32.149142Z",
     "start_time": "2024-02-25T09:40:32.142535Z"
    }
   },
   "id": "78babd09a1688d38"
  },
  {
   "cell_type": "code",
   "execution_count": null,
   "outputs": [],
   "source": [],
   "metadata": {
    "collapsed": false
   },
   "id": "2ce1dcf92fb5238e"
  },
  {
   "cell_type": "code",
   "execution_count": 6,
   "outputs": [],
   "source": [
    "from constants.admission_types_dataset import admission_mapping, AdmissionTypes\n",
    "flattened = [\n",
    "    (\n",
    "        top_level.name,\n",
    "        sub_level_key.name,\n",
    "        stay_type,\n",
    "        sub_level_info.get(\"conditions\",),  \n",
    "        sub_level_info.get(\"tests\"),  \n",
    "        random.choice(sub_level_info.get(\"doctors\"))\n",
    "    )\n",
    "    for top_level, sub_level_dict in admission_mapping.items()\n",
    "    for sub_level_key, sub_level_info in sub_level_dict.items()\n",
    "    for stay_type in (sub_level_info[\"stay_types\"] if isinstance(sub_level_info, dict) else sub_level_info)\n",
    "]\n",
    "\n"
   ],
   "metadata": {
    "collapsed": false,
    "ExecuteTime": {
     "end_time": "2024-02-25T09:40:34.084994Z",
     "start_time": "2024-02-25T09:40:32.149628Z"
    }
   },
   "id": "d463e373907bf09e"
  },
  {
   "cell_type": "code",
   "execution_count": 7,
   "outputs": [
    {
     "name": "stderr",
     "output_type": "stream",
     "text": [
      "                                                                                \r"
     ]
    },
    {
     "name": "stdout",
     "output_type": "stream",
     "text": [
      "+--------------------+---+------+----------+-----------------+-----------------+------------------+--------------------+------------------+------------------+-----------+--------------+--------------+-----------+------------+----------+\n",
      "|                name|Age|gender|blood_type|medical_condition|date_of_admission|            doctor|            hospital|insurance_provider|    billing_amount|room_number|admission_type|discharge_date| medication|test_results|       DOB|\n",
      "+--------------------+---+------+----------+-----------------+-----------------+------------------+--------------------+------------------+------------------+-----------+--------------+--------------+-----------+------------+----------+\n",
      "|     Tiffany Ramirez| 39|Female|        O-|         Diabetes|       2022-11-17|    Patrick Parker|    Wallace-Hamilton|          Medicare| 37490.98336352819|        146|      Elective|    2022-12-01|    Aspirin|Inconclusive|1984-09-30|\n",
      "|         Ruben Burns| 16|  Male|        O+|           Asthma|       2023-06-01|     Diane Jackson|Burke, Griffin an...|  UnitedHealthcare| 47304.06484547511|        404|     Emergency|    2023-06-15|    Lipitor|      Normal|2007-04-05|\n",
      "|           Chad Byrd| 59|  Male|        B-|          Obesity|       2019-01-09|        Paul Baker|          Walton LLC|          Medicare| 36874.89699661277|        292|     Emergency|    2019-02-08|    Lipitor|      Normal|1964-06-30|\n",
      "|   Antonio Frederick| 85|  Male|        B-|           Asthma|       2020-05-02|    Brian Chandler|          Garcia Ltd|          Medicare|23303.322092196904|        480|        Urgent|    2020-05-03| Penicillin|    Abnormal|1938-09-16|\n",
      "| Mrs. Brandy Flowers| 24|  Male|        O-|        Arthritis|       2021-07-09|    Dustin Griffin|Jones, Brown and ...|  UnitedHealthcare|18086.344183563877|        477|        Urgent|    2021-08-02|Paracetamol|      Normal|1999-07-16|\n",
      "|      Patrick Parker| 86|  Male|       AB+|        Arthritis|       2020-08-20|       Robin Green|            Boyd PLC|             Aetna|22522.363384853266|        180|        Urgent|    2020-08-23|    Aspirin|    Abnormal|1938-01-22|\n",
      "|      Charles Horton| 39|  Male|       AB+|     Hypertension|       2021-03-22|   Patricia Bishop|Wheeler, Bryant a...|             Cigna|  39593.4357611308|        161|        Urgent|    2021-04-15|    Lipitor|    Abnormal|1985-01-16|\n",
      "|        Patty Norman| 22|Female|        O-|        Arthritis|       2019-05-16|     Brian Kennedy|           Brown Inc|        Blue Cross|13546.817249364824|        384|      Elective|    2019-06-02|    Aspirin|      Normal|2001-08-18|\n",
      "|          Ryan Hayes| 14|  Male|        A+|         Diabetes|       2020-12-17|      Kristin Dunn|Smith, Edwards an...|             Aetna| 24903.03726973869|        215|      Elective|    2020-12-22|    Aspirin|    Abnormal|2009-02-26|\n",
      "|        Sharon Perez| 53|Female|        O-|           Asthma|       2022-12-15|    Jessica Bailey|        Brown-Golden|        Blue Cross|22788.236026376766|        310|        Urgent|    2022-12-16|    Aspirin|      Normal|1970-02-24|\n",
      "|         Amy Roberts| 54|  Male|        B-|           Cancer|       2021-04-13|   Anthony Roberts|      Little-Spencer|             Aetna|40325.071393983046|        306|     Emergency|    2021-05-11| Penicillin|    Abnormal|1969-10-12|\n",
      "|Mrs. Caroline Far...| 81|Female|        O-|     Hypertension|       2019-06-09|    William Miller|            Rose Inc|          Medicare| 6185.903529552847|        126|     Emergency|    2019-06-26|Paracetamol|Inconclusive|1942-06-20|\n",
      "|  Christina Williams| 50|Female|        A+|         Diabetes|       2021-11-29|     Laura Roberts|Malone, Thompson ...|             Aetna| 4835.945649525413|        444|      Elective|    2021-12-14|    Aspirin|Inconclusive|1973-05-20|\n",
      "|        William Page| 52|Female|        A+|         Diabetes|       2021-07-29|      James Carney|   Richardson-Powell|             Cigna|13669.377744164889|        492|      Elective|    2021-08-14|    Aspirin|      Normal|1971-03-12|\n",
      "|    Michael Bradshaw| 71|Female|       AB+|           Cancer|       2021-06-05|    Katherine Lowe|     Castaneda-Hardy|             Cigna|10342.836123527373|        120|     Emergency|    2021-06-25|  Ibuprofen|Inconclusive|1952-03-05|\n",
      "|        Brian Dorsey| 46|Female|        O+|        Arthritis|       2021-08-07|      Curtis Smith|         Burch-White|             Aetna|27174.942906232496|        492|     Emergency|    2021-08-14|    Aspirin|Inconclusive|1977-09-27|\n",
      "|     Olivia Gonzalez| 84|  Male|       AB-|         Diabetes|       2019-11-15|  Clayton Mcknight| Cunningham and Sons|             Aetna|17394.994264453202|        315|      Elective|    2019-12-04|    Aspirin|Inconclusive|1939-04-04|\n",
      "|     Teresa Caldwell| 80|  Male|        A+|        Arthritis|       2022-03-08|      Debra Meyers|Bell, Mcknight an...|          Medicare| 45213.53762641964|        475|      Elective|    2022-03-16|  Ibuprofen|Inconclusive|1943-07-02|\n",
      "| Desiree Williams MD| 82|  Male|        O+|          Obesity|       2022-06-19|     Megan Sanders|         Pugh-Rogers|  UnitedHealthcare|  4262.91157816964|        125|      Elective|    2022-06-29|    Aspirin|Inconclusive|1941-10-05|\n",
      "|          Sally Shaw| 75|  Male|        O-|        Arthritis|       2019-07-10|Zachary Horton DDS|Rush, Owens and J...|        Blue Cross|16609.311817449878|        366|     Emergency|    2019-08-07|  Ibuprofen|Inconclusive|1948-06-24|\n",
      "+--------------------+---+------+----------+-----------------+-----------------+------------------+--------------------+------------------+------------------+-----------+--------------+--------------+-----------+------------+----------+\n"
     ]
    }
   ],
   "source": [
    "df.show()"
   ],
   "metadata": {
    "collapsed": false,
    "ExecuteTime": {
     "end_time": "2024-02-25T09:40:37.459351Z",
     "start_time": "2024-02-25T09:40:34.086415Z"
    }
   },
   "id": "a7c5cd63962527f8"
  },
  {
   "cell_type": "code",
   "execution_count": 8,
   "outputs": [
    {
     "data": {
      "text/plain": "[('EMERGENCY',\n  'INJURY_RTC',\n  'Inpatient',\n  ['Whiplash',\n   'Concussions',\n   'Contusions (bruises)',\n   'Lacerations',\n   'Abrasions',\n   'Fractures',\n   'Sprains',\n   'Strains',\n   'Dislocations',\n   'Rib Fractures',\n   'Internal Bleeding',\n   'Pneumothorax (collapsed lung)',\n   'Spinal Cord Injuries',\n   'Traumatic Brain Injuries (TBIs)',\n   'Crush Injuries',\n   'Amputations',\n   'Psychological Trauma',\n   'Burn Injuries',\n   'Skull Fractures',\n   'Pelvic Fractures',\n   'Facial Fractures',\n   'Hematomas',\n   'Organ Damage',\n   'Cervical Spine Injuries',\n   'Thoracic Spine Injuries',\n   'Lumbar Spine Injuries',\n   'Tendon Injuries',\n   'Nerve Damage',\n   'Eye Injuries',\n   'Dental Injuries',\n   'Post-Traumatic Arthritis',\n   'Compartment Syndrome',\n   'Soft Tissue Injuries',\n   'Seat Belt Injuries',\n   'Airbag Injuries',\n   'Lower Extremity Injuries',\n   'Upper Extremity Injuries',\n   'Drowning or Near-Drowning Incidents',\n   'Hypothermia or Frostbite',\n   'Heatstroke',\n   'Acoustic Trauma',\n   'Stress Fractures',\n   'Bursitis'],\n  ['X-rays', 'CT scans', 'MRI', 'Ultrasound', 'Blood tests'],\n  'Dr. Cynthia Elliott'),\n ('EMERGENCY',\n  'INJURY_RTC',\n  'Day Patient',\n  ['Whiplash',\n   'Concussions',\n   'Contusions (bruises)',\n   'Lacerations',\n   'Abrasions',\n   'Fractures',\n   'Sprains',\n   'Strains',\n   'Dislocations',\n   'Rib Fractures',\n   'Internal Bleeding',\n   'Pneumothorax (collapsed lung)',\n   'Spinal Cord Injuries',\n   'Traumatic Brain Injuries (TBIs)',\n   'Crush Injuries',\n   'Amputations',\n   'Psychological Trauma',\n   'Burn Injuries',\n   'Skull Fractures',\n   'Pelvic Fractures',\n   'Facial Fractures',\n   'Hematomas',\n   'Organ Damage',\n   'Cervical Spine Injuries',\n   'Thoracic Spine Injuries',\n   'Lumbar Spine Injuries',\n   'Tendon Injuries',\n   'Nerve Damage',\n   'Eye Injuries',\n   'Dental Injuries',\n   'Post-Traumatic Arthritis',\n   'Compartment Syndrome',\n   'Soft Tissue Injuries',\n   'Seat Belt Injuries',\n   'Airbag Injuries',\n   'Lower Extremity Injuries',\n   'Upper Extremity Injuries',\n   'Drowning or Near-Drowning Incidents',\n   'Hypothermia or Frostbite',\n   'Heatstroke',\n   'Acoustic Trauma',\n   'Stress Fractures',\n   'Bursitis'],\n  ['X-rays', 'CT scans', 'MRI', 'Ultrasound', 'Blood tests'],\n  'Dr. Kathryn Mercado'),\n ('EMERGENCY',\n  'SELF_INFLICTED',\n  'Inpatient',\n  ['No conditions'],\n  ['No tests'],\n  'Dr. Ashley Garrett'),\n ('EMERGENCY',\n  'CARDIOLOGY',\n  'Inpatient',\n  ['No conditions'],\n  ['ECG',\n   'Echocardiogram',\n   'Stress tests',\n   'Cardiac catheterization',\n   'Blood tests'],\n  'Dr. Joseph Anderson'),\n ('EMERGENCY',\n  'CARDIOLOGY',\n  'Day Patient',\n  ['No conditions'],\n  ['ECG',\n   'Echocardiogram',\n   'Stress tests',\n   'Cardiac catheterization',\n   'Blood tests'],\n  'Dr. Adriana Montgomery'),\n ('EMERGENCY',\n  'NEUROLOGY',\n  'Inpatient',\n  ['Migraines',\n   'Epilepsy',\n   \"Parkinson's Disease\",\n   \"Alzheimer's Disease\",\n   'Multiple Sclerosis',\n   'Stroke',\n   'Peripheral Neuropathy',\n   \"Bell's Palsy\",\n   'Sciatica',\n   'Concussion'],\n  ['MRI or CT scans of the brain',\n   'Electroencephalogram (EEG)',\n   'Lumbar puncture',\n   'Nerve conduction studies',\n   'Blood tests'],\n  'Dr. Darrell Hill'),\n ('EMERGENCY',\n  'NEUROLOGY',\n  'Day Patient',\n  ['Migraines',\n   'Epilepsy',\n   \"Parkinson's Disease\",\n   \"Alzheimer's Disease\",\n   'Multiple Sclerosis',\n   'Stroke',\n   'Peripheral Neuropathy',\n   \"Bell's Palsy\",\n   'Sciatica',\n   'Concussion'],\n  ['MRI or CT scans of the brain',\n   'Electroencephalogram (EEG)',\n   'Lumbar puncture',\n   'Nerve conduction studies',\n   'Blood tests'],\n  'Dr. Robert Mercado'),\n ('EMERGENCY',\n  'NEUROLOGY',\n  'Outpatient',\n  ['Migraines',\n   'Epilepsy',\n   \"Parkinson's Disease\",\n   \"Alzheimer's Disease\",\n   'Multiple Sclerosis',\n   'Stroke',\n   'Peripheral Neuropathy',\n   \"Bell's Palsy\",\n   'Sciatica',\n   'Concussion'],\n  ['MRI or CT scans of the brain',\n   'Electroencephalogram (EEG)',\n   'Lumbar puncture',\n   'Nerve conduction studies',\n   'Blood tests'],\n  'Dr. Kathryn Hernandez'),\n ('EMERGENCY',\n  'GASTROENTEROLOGY',\n  'Inpatient',\n  ['Gastro-oesophageal Reflux Disease (GORD)',\n   'Irritable Bowel Syndrome (IBS)',\n   \"Inflammatory Bowel Disease (IBD) - including Crohn's Disease and Ulcerative Colitis\",\n   'Coeliac Disease',\n   'Peptic Ulcers',\n   'Gallstones',\n   'Chronic Liver Disease - including Hepatitis and Cirrhosis',\n   'Pancreatitis',\n   'Gastroenteritis',\n   'Diverticular Disease'],\n  ['Endoscopy',\n   'Colonoscopy',\n   'Blood tests',\n   'Stool tests',\n   'Abdominal ultrasound',\n   'CT scan'],\n  'Dr. Shelly Haas'),\n ('EMERGENCY',\n  'GASTROENTEROLOGY',\n  'Day Patient',\n  ['Gastro-oesophageal Reflux Disease (GORD)',\n   'Irritable Bowel Syndrome (IBS)',\n   \"Inflammatory Bowel Disease (IBD) - including Crohn's Disease and Ulcerative Colitis\",\n   'Coeliac Disease',\n   'Peptic Ulcers',\n   'Gallstones',\n   'Chronic Liver Disease - including Hepatitis and Cirrhosis',\n   'Pancreatitis',\n   'Gastroenteritis',\n   'Diverticular Disease'],\n  ['Endoscopy',\n   'Colonoscopy',\n   'Blood tests',\n   'Stool tests',\n   'Abdominal ultrasound',\n   'CT scan'],\n  'Dr. Michelle David'),\n ('EMERGENCY',\n  'GASTROENTEROLOGY',\n  'Outpatient',\n  ['Gastro-oesophageal Reflux Disease (GORD)',\n   'Irritable Bowel Syndrome (IBS)',\n   \"Inflammatory Bowel Disease (IBD) - including Crohn's Disease and Ulcerative Colitis\",\n   'Coeliac Disease',\n   'Peptic Ulcers',\n   'Gallstones',\n   'Chronic Liver Disease - including Hepatitis and Cirrhosis',\n   'Pancreatitis',\n   'Gastroenteritis',\n   'Diverticular Disease'],\n  ['Endoscopy',\n   'Colonoscopy',\n   'Blood tests',\n   'Stool tests',\n   'Abdominal ultrasound',\n   'CT scan'],\n  'Dr. Barry Meyer'),\n ('EMERGENCY',\n  'RESPIRATORY',\n  'Inpatient',\n  ['Asthma',\n   'Chronic Obstructive Pulmonary Disease (COPD)',\n   'Pneumonia',\n   'Bronchitis',\n   'Sinusitis',\n   'Allergic Rhinitis',\n   'Pulmonary Embolism',\n   'Lung Cancer',\n   'Cystic Fibrosis',\n   'Sleep Apnea'],\n  ['Pulmonary function tests', 'Chest X-ray', 'CT scan', 'Bronchoscopy'],\n  'Dr. Samantha Jacobson'),\n ('EMERGENCY',\n  'RESPIRATORY',\n  'Day Patient',\n  ['Asthma',\n   'Chronic Obstructive Pulmonary Disease (COPD)',\n   'Pneumonia',\n   'Bronchitis',\n   'Sinusitis',\n   'Allergic Rhinitis',\n   'Pulmonary Embolism',\n   'Lung Cancer',\n   'Cystic Fibrosis',\n   'Sleep Apnea'],\n  ['Pulmonary function tests', 'Chest X-ray', 'CT scan', 'Bronchoscopy'],\n  'Dr. Veronica Thomas'),\n ('EMERGENCY',\n  'RESPIRATORY',\n  'Outpatient',\n  ['Asthma',\n   'Chronic Obstructive Pulmonary Disease (COPD)',\n   'Pneumonia',\n   'Bronchitis',\n   'Sinusitis',\n   'Allergic Rhinitis',\n   'Pulmonary Embolism',\n   'Lung Cancer',\n   'Cystic Fibrosis',\n   'Sleep Apnea'],\n  ['Pulmonary function tests', 'Chest X-ray', 'CT scan', 'Bronchoscopy'],\n  'Dr. Mary Rodriguez'),\n ('EMERGENCY',\n  'INFECTIOUS_DISEASES',\n  'Inpatient',\n  ['Influenza',\n   'Urinary Tract Infections (UTIs)',\n   'HIV/AIDS',\n   'Hepatitis',\n   'Tuberculosis',\n   'Malaria',\n   'COVID-19',\n   'Strep Throat',\n   'Herpes Simplex Virus'],\n  ['Blood cultures',\n   'PCR tests',\n   'Antibody tests',\n   'chest X-ray',\n   'Lumbar puncture'],\n  'Dr. Sarah Arellano'),\n ('EMERGENCY',\n  'INFECTIOUS_DISEASES',\n  'Day Patient',\n  ['Influenza',\n   'Urinary Tract Infections (UTIs)',\n   'HIV/AIDS',\n   'Hepatitis',\n   'Tuberculosis',\n   'Malaria',\n   'COVID-19',\n   'Strep Throat',\n   'Herpes Simplex Virus'],\n  ['Blood cultures',\n   'PCR tests',\n   'Antibody tests',\n   'chest X-ray',\n   'Lumbar puncture'],\n  'Dr. Carol Wilson'),\n ('EMERGENCY',\n  'MATERNITY',\n  'Inpatient',\n  ['Labour and Delivery',\n   'Scheduled Caesarean Section',\n   'Induction of Labour',\n   'Preterm Labour',\n   'Pre-eclampsia/Eclampsia',\n   'Gestational Diabetes Monitoring',\n   'Antepartum Haemorrhage',\n   'Pregnancy-induced Hypertension',\n   'Ruptured Membranes without Contractions',\n   'Postpartum Complications'],\n  ['Ultrasound', 'Blood tests', 'Glucose tolerance test', 'Amniocentesis'],\n  'Dr. Briana Walker'),\n ('EMERGENCY',\n  'MATERNITY',\n  'Day Patient',\n  ['Labour and Delivery',\n   'Scheduled Caesarean Section',\n   'Induction of Labour',\n   'Preterm Labour',\n   'Pre-eclampsia/Eclampsia',\n   'Gestational Diabetes Monitoring',\n   'Antepartum Haemorrhage',\n   'Pregnancy-induced Hypertension',\n   'Ruptured Membranes without Contractions',\n   'Postpartum Complications'],\n  ['Ultrasound', 'Blood tests', 'Glucose tolerance test', 'Amniocentesis'],\n  'Dr. Valerie Murphy'),\n ('EMERGENCY',\n  'MATERNITY',\n  'Outpatient',\n  ['Labour and Delivery',\n   'Scheduled Caesarean Section',\n   'Induction of Labour',\n   'Preterm Labour',\n   'Pre-eclampsia/Eclampsia',\n   'Gestational Diabetes Monitoring',\n   'Antepartum Haemorrhage',\n   'Pregnancy-induced Hypertension',\n   'Ruptured Membranes without Contractions',\n   'Postpartum Complications'],\n  ['Ultrasound', 'Blood tests', 'Glucose tolerance test', 'Amniocentesis'],\n  'Dr. Garrett Pope'),\n ('EMERGENCY',\n  'PSYCHIATRIC',\n  'Inpatient',\n  ['Depression',\n   'Anxiety Disorders',\n   'Bipolar Disorder',\n   'Schizophrenia',\n   'Post-Traumatic Stress Disorder (PTSD)',\n   'Obsessive-Compulsive Disorder (OCD)',\n   'Eating Disorders (Anorexia, Bulimia)',\n   'Attention Deficit Hyperactivity Disorder (ADHD)',\n   'Autism Spectrum Disorder',\n   'Insomnia'],\n  ['Psychological evaluation',\n   'Blood tests',\n   'Brain imaging (MRI, CT scans)',\n   'Electroencephalogram (EEG)'],\n  'Dr. David Webster'),\n ('EMERGENCY',\n  'PSYCHIATRIC',\n  'Day Patient',\n  ['Depression',\n   'Anxiety Disorders',\n   'Bipolar Disorder',\n   'Schizophrenia',\n   'Post-Traumatic Stress Disorder (PTSD)',\n   'Obsessive-Compulsive Disorder (OCD)',\n   'Eating Disorders (Anorexia, Bulimia)',\n   'Attention Deficit Hyperactivity Disorder (ADHD)',\n   'Autism Spectrum Disorder',\n   'Insomnia'],\n  ['Psychological evaluation',\n   'Blood tests',\n   'Brain imaging (MRI, CT scans)',\n   'Electroencephalogram (EEG)'],\n  'Dr. Brian Stephenson'),\n ('EMERGENCY',\n  'PSYCHIATRIC',\n  'Outpatient',\n  ['Depression',\n   'Anxiety Disorders',\n   'Bipolar Disorder',\n   'Schizophrenia',\n   'Post-Traumatic Stress Disorder (PTSD)',\n   'Obsessive-Compulsive Disorder (OCD)',\n   'Eating Disorders (Anorexia, Bulimia)',\n   'Attention Deficit Hyperactivity Disorder (ADHD)',\n   'Autism Spectrum Disorder',\n   'Insomnia'],\n  ['Psychological evaluation',\n   'Blood tests',\n   'Brain imaging (MRI, CT scans)',\n   'Electroencephalogram (EEG)'],\n  'Dr. Nicole Jones'),\n ('EMERGENCY',\n  'ORTHOPEDICS',\n  'Inpatient',\n  ['Osteoarthritis',\n   'Rheumatoid Arthritis',\n   'Osteoporosis',\n   'Fractures',\n   'Anterior Cruciate Ligament (ACL) Injuries',\n   'Meniscus Tears',\n   'Rotator Cuff Tears',\n   'Carpal Tunnel Syndrome',\n   'Spinal Disc Herniation',\n   'Scoliosis'],\n  ['X-rays', 'MRI', 'CT scans', 'Bone scans', 'Blood tests'],\n  'Dr. Bradley Kim'),\n ('EMERGENCY',\n  'ORTHOPEDICS',\n  'Day Patient',\n  ['Osteoarthritis',\n   'Rheumatoid Arthritis',\n   'Osteoporosis',\n   'Fractures',\n   'Anterior Cruciate Ligament (ACL) Injuries',\n   'Meniscus Tears',\n   'Rotator Cuff Tears',\n   'Carpal Tunnel Syndrome',\n   'Spinal Disc Herniation',\n   'Scoliosis'],\n  ['X-rays', 'MRI', 'CT scans', 'Bone scans', 'Blood tests'],\n  'Dr. Connor Davis'),\n ('EMERGENCY',\n  'ORTHOPEDICS',\n  'Outpatient',\n  ['Osteoarthritis',\n   'Rheumatoid Arthritis',\n   'Osteoporosis',\n   'Fractures',\n   'Anterior Cruciate Ligament (ACL) Injuries',\n   'Meniscus Tears',\n   'Rotator Cuff Tears',\n   'Carpal Tunnel Syndrome',\n   'Spinal Disc Herniation',\n   'Scoliosis'],\n  ['X-rays', 'MRI', 'CT scans', 'Bone scans', 'Blood tests'],\n  'Dr. Jonathan Bruce'),\n ('GP_REFERRAL',\n  'PSYCHIATRIC',\n  'Inpatient',\n  ['Depression',\n   'Anxiety Disorders',\n   'Bipolar Disorder',\n   'Schizophrenia',\n   'Post-Traumatic Stress Disorder (PTSD)',\n   'Obsessive-Compulsive Disorder (OCD)',\n   'Eating Disorders (Anorexia, Bulimia)',\n   'Attention Deficit Hyperactivity Disorder (ADHD)',\n   'Autism Spectrum Disorder',\n   'Insomnia'],\n  ['Psychological evaluation',\n   'Blood tests',\n   'Brain imaging (MRI, CT scans)',\n   'Electroencephalogram (EEG)'],\n  'Dr. Steven Yoder'),\n ('GP_REFERRAL',\n  'PSYCHIATRIC',\n  'Day Patient',\n  ['Depression',\n   'Anxiety Disorders',\n   'Bipolar Disorder',\n   'Schizophrenia',\n   'Post-Traumatic Stress Disorder (PTSD)',\n   'Obsessive-Compulsive Disorder (OCD)',\n   'Eating Disorders (Anorexia, Bulimia)',\n   'Attention Deficit Hyperactivity Disorder (ADHD)',\n   'Autism Spectrum Disorder',\n   'Insomnia'],\n  ['Psychological evaluation',\n   'Blood tests',\n   'Brain imaging (MRI, CT scans)',\n   'Electroencephalogram (EEG)'],\n  'Dr. Nicole Jones'),\n ('GP_REFERRAL',\n  'PSYCHIATRIC',\n  'Outpatient',\n  ['Depression',\n   'Anxiety Disorders',\n   'Bipolar Disorder',\n   'Schizophrenia',\n   'Post-Traumatic Stress Disorder (PTSD)',\n   'Obsessive-Compulsive Disorder (OCD)',\n   'Eating Disorders (Anorexia, Bulimia)',\n   'Attention Deficit Hyperactivity Disorder (ADHD)',\n   'Autism Spectrum Disorder',\n   'Insomnia'],\n  ['Psychological evaluation',\n   'Blood tests',\n   'Brain imaging (MRI, CT scans)',\n   'Electroencephalogram (EEG)'],\n  'Dr. Henry Scott'),\n ('GP_REFERRAL',\n  'ORTHOPEDICS',\n  'Outpatient',\n  ['Osteoarthritis',\n   'Rheumatoid Arthritis',\n   'Osteoporosis',\n   'Fractures',\n   'Anterior Cruciate Ligament (ACL) Injuries',\n   'Meniscus Tears',\n   'Rotator Cuff Tears',\n   'Carpal Tunnel Syndrome',\n   'Spinal Disc Herniation',\n   'Scoliosis'],\n  ['X-rays', 'MRI', 'CT scans', 'Bone scans', 'Blood tests'],\n  'Dr. Tara Carter'),\n ('GP_REFERRAL',\n  'GASTROENTEROLOGY',\n  'Inpatient',\n  ['Gastro-oesophageal Reflux Disease (GORD)',\n   'Irritable Bowel Syndrome (IBS)',\n   \"Inflammatory Bowel Disease (IBD) - including Crohn's Disease and Ulcerative Colitis\",\n   'Coeliac Disease',\n   'Peptic Ulcers',\n   'Gallstones',\n   'Chronic Liver Disease - including Hepatitis and Cirrhosis',\n   'Pancreatitis',\n   'Gastroenteritis',\n   'Diverticular Disease'],\n  ['Endoscopy',\n   'Colonoscopy',\n   'Blood tests',\n   'Stool tests',\n   'Abdominal ultrasound',\n   'CT scan'],\n  'Dr. Michelle David'),\n ('GP_REFERRAL',\n  'GASTROENTEROLOGY',\n  'Day Patient',\n  ['Gastro-oesophageal Reflux Disease (GORD)',\n   'Irritable Bowel Syndrome (IBS)',\n   \"Inflammatory Bowel Disease (IBD) - including Crohn's Disease and Ulcerative Colitis\",\n   'Coeliac Disease',\n   'Peptic Ulcers',\n   'Gallstones',\n   'Chronic Liver Disease - including Hepatitis and Cirrhosis',\n   'Pancreatitis',\n   'Gastroenteritis',\n   'Diverticular Disease'],\n  ['Endoscopy',\n   'Colonoscopy',\n   'Blood tests',\n   'Stool tests',\n   'Abdominal ultrasound',\n   'CT scan'],\n  'Dr. James Smith'),\n ('GP_REFERRAL',\n  'GASTROENTEROLOGY',\n  'Outpatient',\n  ['Gastro-oesophageal Reflux Disease (GORD)',\n   'Irritable Bowel Syndrome (IBS)',\n   \"Inflammatory Bowel Disease (IBD) - including Crohn's Disease and Ulcerative Colitis\",\n   'Coeliac Disease',\n   'Peptic Ulcers',\n   'Gallstones',\n   'Chronic Liver Disease - including Hepatitis and Cirrhosis',\n   'Pancreatitis',\n   'Gastroenteritis',\n   'Diverticular Disease'],\n  ['Endoscopy',\n   'Colonoscopy',\n   'Blood tests',\n   'Stool tests',\n   'Abdominal ultrasound',\n   'CT scan'],\n  'Dr. Brandon Brown'),\n ('GP_REFERRAL',\n  'ENDOCRINOLOGY',\n  'Outpatient',\n  ['Diabetes Mellitus - Type 1 and Type 2',\n   'Thyroid Disorders - including Hypothyroidism and Hyperthyroidism',\n   \"Addison's Disease\",\n   \"Cushing's Syndrome\",\n   'Polycystic Ovary Syndrome (PCOS)',\n   'Osteoporosis',\n   'Pituitary Disorders',\n   'Hyperlipidaemia',\n   'Gout',\n   'Metabolic Syndrome'],\n  ['Blood tests (hormone levels)',\n   'Thyroid function tests',\n   'Bone density tests'],\n  'Dr. Sharon Ferguson'),\n ('GP_REFERRAL',\n  'DERMATOLOGY',\n  'Outpatient',\n  ['Acne',\n   'Eczema',\n   'Psoriasis',\n   'Dermatitis',\n   'Skin Cancer',\n   'Rosacea',\n   'Hives (Urticaria)',\n   'Impetigo',\n   'Cellulitis',\n   'Shingles (Herpes Zoster)'],\n  ['Skin biopsy', 'Patch tests', 'Skin scrapings', 'Blood tests'],\n  'Dr. Andrew Castillo'),\n ('GP_REFERRAL',\n  'MATERNITY',\n  'Inpatient',\n  ['Labour and Delivery',\n   'Scheduled Caesarean Section',\n   'Induction of Labour',\n   'Preterm Labour',\n   'Pre-eclampsia/Eclampsia',\n   'Gestational Diabetes Monitoring',\n   'Antepartum Haemorrhage',\n   'Pregnancy-induced Hypertension',\n   'Ruptured Membranes without Contractions',\n   'Postpartum Complications'],\n  ['Ultrasound', 'Blood tests', 'Glucose tolerance test', 'Amniocentesis'],\n  'Dr. Steven Barnes'),\n ('GP_REFERRAL',\n  'MATERNITY',\n  'Day Patient',\n  ['Labour and Delivery',\n   'Scheduled Caesarean Section',\n   'Induction of Labour',\n   'Preterm Labour',\n   'Pre-eclampsia/Eclampsia',\n   'Gestational Diabetes Monitoring',\n   'Antepartum Haemorrhage',\n   'Pregnancy-induced Hypertension',\n   'Ruptured Membranes without Contractions',\n   'Postpartum Complications'],\n  ['Ultrasound', 'Blood tests', 'Glucose tolerance test', 'Amniocentesis'],\n  'Dr. Jonathan Lee'),\n ('GP_REFERRAL',\n  'MATERNITY',\n  'Outpatient',\n  ['Labour and Delivery',\n   'Scheduled Caesarean Section',\n   'Induction of Labour',\n   'Preterm Labour',\n   'Pre-eclampsia/Eclampsia',\n   'Gestational Diabetes Monitoring',\n   'Antepartum Haemorrhage',\n   'Pregnancy-induced Hypertension',\n   'Ruptured Membranes without Contractions',\n   'Postpartum Complications'],\n  ['Ultrasound', 'Blood tests', 'Glucose tolerance test', 'Amniocentesis'],\n  'Dr. Steven Barnes'),\n ('GP_REFERRAL',\n  'GERIATRICS',\n  'Inpatient',\n  ['No conditions'],\n  ['Comprehensive geriatric assessment',\n   'Blood tests',\n   'Bone density scans',\n   'Cognitive tests'],\n  'Dr. Heather Flores'),\n ('GP_REFERRAL',\n  'GERIATRICS',\n  'Outpatient',\n  ['No conditions'],\n  ['Comprehensive geriatric assessment',\n   'Blood tests',\n   'Bone density scans',\n   'Cognitive tests'],\n  'Dr. Tammy Reed'),\n ('HOSPITAL_REFERRAL',\n  'CARDIOLOGY',\n  'Inpatient',\n  ['No conditions'],\n  ['ECG',\n   'Echocardiogram',\n   'Stress tests',\n   'Cardiac catheterization',\n   'Blood tests'],\n  'Dr. Felicia Johnson'),\n ('HOSPITAL_REFERRAL',\n  'CARDIOLOGY',\n  'Day Patient',\n  ['No conditions'],\n  ['ECG',\n   'Echocardiogram',\n   'Stress tests',\n   'Cardiac catheterization',\n   'Blood tests'],\n  'Dr. Allen King'),\n ('HOSPITAL_REFERRAL',\n  'NEPHROLOGY',\n  'Inpatient',\n  ['Chronic Kidney Disease (CKD)',\n   'Acute Kidney Injury (AKI)',\n   'Glomerulonephritis',\n   'Polycystic Kidney Disease',\n   'Kidney Stones',\n   'Urinary Tract Infections (UTIs)',\n   'Nephrotic Syndrome',\n   'Renal Artery Stenosis',\n   'Haemodialysis-related Amyloidosis',\n   'Hyperkalaemia'],\n  ['Blood tests (renal function tests)',\n   'Urine tests',\n   'Ultrasound of the kidneys',\n   'Biopsy'],\n  'Dr. Lori Campbell'),\n ('HOSPITAL_REFERRAL',\n  'NEPHROLOGY',\n  'Day Patient',\n  ['Chronic Kidney Disease (CKD)',\n   'Acute Kidney Injury (AKI)',\n   'Glomerulonephritis',\n   'Polycystic Kidney Disease',\n   'Kidney Stones',\n   'Urinary Tract Infections (UTIs)',\n   'Nephrotic Syndrome',\n   'Renal Artery Stenosis',\n   'Haemodialysis-related Amyloidosis',\n   'Hyperkalaemia'],\n  ['Blood tests (renal function tests)',\n   'Urine tests',\n   'Ultrasound of the kidneys',\n   'Biopsy'],\n  'Dr. Dana Moore'),\n ('HOSPITAL_REFERRAL',\n  'NEPHROLOGY',\n  'Outpatient',\n  ['Chronic Kidney Disease (CKD)',\n   'Acute Kidney Injury (AKI)',\n   'Glomerulonephritis',\n   'Polycystic Kidney Disease',\n   'Kidney Stones',\n   'Urinary Tract Infections (UTIs)',\n   'Nephrotic Syndrome',\n   'Renal Artery Stenosis',\n   'Haemodialysis-related Amyloidosis',\n   'Hyperkalaemia'],\n  ['Blood tests (renal function tests)',\n   'Urine tests',\n   'Ultrasound of the kidneys',\n   'Biopsy'],\n  'Dr. Nicole Trevino'),\n ('HOSPITAL_REFERRAL',\n  'NEUROLOGY',\n  'Inpatient',\n  ['Migraines',\n   'Epilepsy',\n   \"Parkinson's Disease\",\n   \"Alzheimer's Disease\",\n   'Multiple Sclerosis',\n   'Stroke',\n   'Peripheral Neuropathy',\n   \"Bell's Palsy\",\n   'Sciatica',\n   'Concussion'],\n  ['MRI or CT scans of the brain',\n   'Electroencephalogram (EEG)',\n   'Lumbar puncture',\n   'Nerve conduction studies',\n   'Blood tests'],\n  'Dr. Deanna Mora'),\n ('HOSPITAL_REFERRAL',\n  'NEUROLOGY',\n  'Day Patient',\n  ['Migraines',\n   'Epilepsy',\n   \"Parkinson's Disease\",\n   \"Alzheimer's Disease\",\n   'Multiple Sclerosis',\n   'Stroke',\n   'Peripheral Neuropathy',\n   \"Bell's Palsy\",\n   'Sciatica',\n   'Concussion'],\n  ['MRI or CT scans of the brain',\n   'Electroencephalogram (EEG)',\n   'Lumbar puncture',\n   'Nerve conduction studies',\n   'Blood tests'],\n  'Dr. Brandon Vega'),\n ('HOSPITAL_REFERRAL',\n  'NEUROLOGY',\n  'Outpatient',\n  ['Migraines',\n   'Epilepsy',\n   \"Parkinson's Disease\",\n   \"Alzheimer's Disease\",\n   'Multiple Sclerosis',\n   'Stroke',\n   'Peripheral Neuropathy',\n   \"Bell's Palsy\",\n   'Sciatica',\n   'Concussion'],\n  ['MRI or CT scans of the brain',\n   'Electroencephalogram (EEG)',\n   'Lumbar puncture',\n   'Nerve conduction studies',\n   'Blood tests'],\n  'Dr. Susan Anderson'),\n ('HOSPITAL_REFERRAL',\n  'ONCOLOGY',\n  'Inpatient',\n  ['Breast Cancer',\n   'Lung Cancer',\n   'Prostate Cancer',\n   'Colorectal Cancer',\n   'Melanoma',\n   'Leukemia',\n   'Lymphoma',\n   'Pancreatic Cancer',\n   'Ovarian Cancer',\n   'Bladder Cancer'],\n  ['Biopsies',\n   'MRI',\n   'Ultrasound',\n   'Blood tests',\n   'Imaging CT',\n   'Imaging MRI',\n   'Imaging PET scans',\n   'X-rays',\n   'Biopsy',\n   'CT scans'],\n  'Dr. Marcus Holmes'),\n ('HOSPITAL_REFERRAL',\n  'ONCOLOGY',\n  'Day Patient',\n  ['Breast Cancer',\n   'Lung Cancer',\n   'Prostate Cancer',\n   'Colorectal Cancer',\n   'Melanoma',\n   'Leukemia',\n   'Lymphoma',\n   'Pancreatic Cancer',\n   'Ovarian Cancer',\n   'Bladder Cancer'],\n  ['Biopsies',\n   'MRI',\n   'Ultrasound',\n   'Blood tests',\n   'Imaging CT',\n   'Imaging MRI',\n   'Imaging PET scans',\n   'X-rays',\n   'Biopsy',\n   'CT scans'],\n  'Dr. Nicole Wagner'),\n ('HOSPITAL_REFERRAL',\n  'ONCOLOGY',\n  'Outpatient',\n  ['Breast Cancer',\n   'Lung Cancer',\n   'Prostate Cancer',\n   'Colorectal Cancer',\n   'Melanoma',\n   'Leukemia',\n   'Lymphoma',\n   'Pancreatic Cancer',\n   'Ovarian Cancer',\n   'Bladder Cancer'],\n  ['Biopsies',\n   'MRI',\n   'Ultrasound',\n   'Blood tests',\n   'Imaging CT',\n   'Imaging MRI',\n   'Imaging PET scans',\n   'X-rays',\n   'Biopsy',\n   'CT scans'],\n  'Dr. Jeremiah Hawkins'),\n ('HOSPITAL_REFERRAL',\n  'HEMATOLOGY',\n  'Inpatient',\n  ['No conditions'],\n  ['Full Blood Count (FBC)',\n   'Coagulation Profile',\n   'Bone Marrow Biopsy',\n   'Haemoglobin Electrophoresis',\n   'Erythrocyte Sedimentation Rate (ESR)',\n   'Serum Ferritin',\n   'Blood Film',\n   'Immunophenotyping',\n   'Cytogenetic Testing',\n   'Molecular Genetic Tests'],\n  'Dr. Christopher Baker'),\n ('HOSPITAL_REFERRAL',\n  'HEMATOLOGY',\n  'Day Patient',\n  ['No conditions'],\n  ['Full Blood Count (FBC)',\n   'Coagulation Profile',\n   'Bone Marrow Biopsy',\n   'Haemoglobin Electrophoresis',\n   'Erythrocyte Sedimentation Rate (ESR)',\n   'Serum Ferritin',\n   'Blood Film',\n   'Immunophenotyping',\n   'Cytogenetic Testing',\n   'Molecular Genetic Tests'],\n  'Dr. Ashley Kidd'),\n ('HOSPITAL_REFERRAL',\n  'HEMATOLOGY',\n  'Outpatient',\n  ['No conditions'],\n  ['Full Blood Count (FBC)',\n   'Coagulation Profile',\n   'Bone Marrow Biopsy',\n   'Haemoglobin Electrophoresis',\n   'Erythrocyte Sedimentation Rate (ESR)',\n   'Serum Ferritin',\n   'Blood Film',\n   'Immunophenotyping',\n   'Cytogenetic Testing',\n   'Molecular Genetic Tests'],\n  'Dr. Bryan Ho'),\n ('HOSPITAL_REFERRAL',\n  'UROLOGY',\n  'Inpatient',\n  ['No conditions'],\n  ['Urinalysis',\n   'Blood Tests for Kidney Function',\n   'Ultrasound of the Kidneys and Bladder',\n   'Cystoscopy',\n   'Urodynamic Testing',\n   'Prostate-Specific Antigen (PSA) Test',\n   'CT Urogram',\n   'MRI of the Pelvis',\n   'Intravenous Pyelogram (IVP)',\n   'Renal Biopsy'],\n  'Dr. Jill Hunt'),\n ('HOSPITAL_REFERRAL',\n  'UROLOGY',\n  'Day Patient',\n  ['No conditions'],\n  ['Urinalysis',\n   'Blood Tests for Kidney Function',\n   'Ultrasound of the Kidneys and Bladder',\n   'Cystoscopy',\n   'Urodynamic Testing',\n   'Prostate-Specific Antigen (PSA) Test',\n   'CT Urogram',\n   'MRI of the Pelvis',\n   'Intravenous Pyelogram (IVP)',\n   'Renal Biopsy'],\n  'Dr. Jennifer Hill'),\n ('HOSPITAL_REFERRAL',\n  'UROLOGY',\n  'Outpatient',\n  ['No conditions'],\n  ['Urinalysis',\n   'Blood Tests for Kidney Function',\n   'Ultrasound of the Kidneys and Bladder',\n   'Cystoscopy',\n   'Urodynamic Testing',\n   'Prostate-Specific Antigen (PSA) Test',\n   'CT Urogram',\n   'MRI of the Pelvis',\n   'Intravenous Pyelogram (IVP)',\n   'Renal Biopsy'],\n  'Dr. Stephen Moses'),\n ('HOSPITAL_REFERRAL',\n  'GASTROINTESTINAL_DISORDERS',\n  'Inpatient',\n  ['Gastroesophageal Reflux Disease (GERD)',\n   'Peptic Ulcer Disease',\n   'Irritable Bowel Syndrome (IBS)',\n   \"Crohn's Disease\",\n   'Ulcerative Colitis',\n   'Gallstones',\n   'Hepatitis',\n   'Cirrhosis',\n   'Pancreatitis',\n   'Celiac Disease'],\n  ['No tests'],\n  'Dr. Rebecca Smith'),\n ('HOSPITAL_REFERRAL',\n  'GASTROINTESTINAL_DISORDERS',\n  'Day Patient',\n  ['Gastroesophageal Reflux Disease (GERD)',\n   'Peptic Ulcer Disease',\n   'Irritable Bowel Syndrome (IBS)',\n   \"Crohn's Disease\",\n   'Ulcerative Colitis',\n   'Gallstones',\n   'Hepatitis',\n   'Cirrhosis',\n   'Pancreatitis',\n   'Celiac Disease'],\n  ['No tests'],\n  'Dr. Jocelyn Walker'),\n ('HOSPITAL_REFERRAL',\n  'GASTROINTESTINAL_DISORDERS',\n  'Outpatient',\n  ['Gastroesophageal Reflux Disease (GERD)',\n   'Peptic Ulcer Disease',\n   'Irritable Bowel Syndrome (IBS)',\n   \"Crohn's Disease\",\n   'Ulcerative Colitis',\n   'Gallstones',\n   'Hepatitis',\n   'Cirrhosis',\n   'Pancreatitis',\n   'Celiac Disease'],\n  ['No tests'],\n  'Dr. Kimberly Garcia'),\n ('HOSPITAL_REFERRAL',\n  'RESPIRATORY',\n  'Inpatient',\n  ['Asthma',\n   'Chronic Obstructive Pulmonary Disease (COPD)',\n   'Pneumonia',\n   'Bronchitis',\n   'Sinusitis',\n   'Allergic Rhinitis',\n   'Pulmonary Embolism',\n   'Lung Cancer',\n   'Cystic Fibrosis',\n   'Sleep Apnea'],\n  ['Pulmonary function tests', 'Chest X-ray', 'CT scan', 'Bronchoscopy'],\n  'Dr. Carla Townsend'),\n ('HOSPITAL_REFERRAL',\n  'RESPIRATORY',\n  'Day Patient',\n  ['Asthma',\n   'Chronic Obstructive Pulmonary Disease (COPD)',\n   'Pneumonia',\n   'Bronchitis',\n   'Sinusitis',\n   'Allergic Rhinitis',\n   'Pulmonary Embolism',\n   'Lung Cancer',\n   'Cystic Fibrosis',\n   'Sleep Apnea'],\n  ['Pulmonary function tests', 'Chest X-ray', 'CT scan', 'Bronchoscopy'],\n  'Dr. Carla Townsend'),\n ('HOSPITAL_REFERRAL',\n  'RESPIRATORY',\n  'Outpatient',\n  ['Asthma',\n   'Chronic Obstructive Pulmonary Disease (COPD)',\n   'Pneumonia',\n   'Bronchitis',\n   'Sinusitis',\n   'Allergic Rhinitis',\n   'Pulmonary Embolism',\n   'Lung Cancer',\n   'Cystic Fibrosis',\n   'Sleep Apnea'],\n  ['Pulmonary function tests', 'Chest X-ray', 'CT scan', 'Bronchoscopy'],\n  'Dr. Hector Murphy'),\n ('HOSPITAL_REFERRAL',\n  'MUSCULOSKELETAL',\n  'Inpatient',\n  ['Low Back Pain',\n   'Tendinitis',\n   'Bursitis',\n   'Fibromyalgia',\n   'Gout',\n   'Ankylosing Spondylitis',\n   'Plantar Fasciitis',\n   'Repetitive Strain Injury (RSI)',\n   'Lupus',\n   'Polymyalgia Rheumatica'],\n  ['X-rays',\n   'MRI Scan',\n   'CT Scan',\n   'Bone Scan',\n   'Dual-energy X-ray Absorptiometry (DEXA) Scan',\n   'Electromyography (EMG)',\n   'Nerve Conduction Studies',\n   'Ultrasound',\n   'Arthroscopy',\n   'Blood Tests for Rheumatoid Factor & Anti-CCP'],\n  'Dr. Shannon Clark'),\n ('HOSPITAL_REFERRAL',\n  'MUSCULOSKELETAL',\n  'Day Patient',\n  ['Low Back Pain',\n   'Tendinitis',\n   'Bursitis',\n   'Fibromyalgia',\n   'Gout',\n   'Ankylosing Spondylitis',\n   'Plantar Fasciitis',\n   'Repetitive Strain Injury (RSI)',\n   'Lupus',\n   'Polymyalgia Rheumatica'],\n  ['X-rays',\n   'MRI Scan',\n   'CT Scan',\n   'Bone Scan',\n   'Dual-energy X-ray Absorptiometry (DEXA) Scan',\n   'Electromyography (EMG)',\n   'Nerve Conduction Studies',\n   'Ultrasound',\n   'Arthroscopy',\n   'Blood Tests for Rheumatoid Factor & Anti-CCP'],\n  'Dr. Robert Watson'),\n ('HOSPITAL_REFERRAL',\n  'MUSCULOSKELETAL',\n  'Outpatient',\n  ['Low Back Pain',\n   'Tendinitis',\n   'Bursitis',\n   'Fibromyalgia',\n   'Gout',\n   'Ankylosing Spondylitis',\n   'Plantar Fasciitis',\n   'Repetitive Strain Injury (RSI)',\n   'Lupus',\n   'Polymyalgia Rheumatica'],\n  ['X-rays',\n   'MRI Scan',\n   'CT Scan',\n   'Bone Scan',\n   'Dual-energy X-ray Absorptiometry (DEXA) Scan',\n   'Electromyography (EMG)',\n   'Nerve Conduction Studies',\n   'Ultrasound',\n   'Arthroscopy',\n   'Blood Tests for Rheumatoid Factor & Anti-CCP'],\n  'Dr. Lance Davis'),\n ('HOSPITAL_REFERRAL',\n  'OTORHINOLARYNGOLOGY_ENT',\n  'Inpatient',\n  ['Otitis Media (Middle Ear Infection)',\n   \"Otitis Externa (Swimmer's Ear)\",\n   'Sinusitis',\n   'Tonsillitis',\n   'Laryngitis',\n   \"Meniere's Disease\",\n   'Tinnitus',\n   'Hearing Loss',\n   'Pharyngitis',\n   'Rhinitis'],\n  ['Hearing tests',\n   'Endoscopy of the ear/nose/throat',\n   'Imaging CT',\n   'Imaging MRI'],\n  'Dr. Derek Campbell'),\n ('HOSPITAL_REFERRAL',\n  'OTORHINOLARYNGOLOGY_ENT',\n  'Day Patient',\n  ['Otitis Media (Middle Ear Infection)',\n   \"Otitis Externa (Swimmer's Ear)\",\n   'Sinusitis',\n   'Tonsillitis',\n   'Laryngitis',\n   \"Meniere's Disease\",\n   'Tinnitus',\n   'Hearing Loss',\n   'Pharyngitis',\n   'Rhinitis'],\n  ['Hearing tests',\n   'Endoscopy of the ear/nose/throat',\n   'Imaging CT',\n   'Imaging MRI'],\n  'Dr. Catherine Tucker'),\n ('HOSPITAL_REFERRAL',\n  'OTORHINOLARYNGOLOGY_ENT',\n  'Outpatient',\n  ['Otitis Media (Middle Ear Infection)',\n   \"Otitis Externa (Swimmer's Ear)\",\n   'Sinusitis',\n   'Tonsillitis',\n   'Laryngitis',\n   \"Meniere's Disease\",\n   'Tinnitus',\n   'Hearing Loss',\n   'Pharyngitis',\n   'Rhinitis'],\n  ['Hearing tests',\n   'Endoscopy of the ear/nose/throat',\n   'Imaging CT',\n   'Imaging MRI'],\n  'Dr. Stacey Johnson'),\n ('SELF_REFERRAL',\n  'PSYCHIATRIC',\n  'Outpatient',\n  ['Depression',\n   'Anxiety Disorders',\n   'Bipolar Disorder',\n   'Schizophrenia',\n   'Post-Traumatic Stress Disorder (PTSD)',\n   'Obsessive-Compulsive Disorder (OCD)',\n   'Eating Disorders (Anorexia, Bulimia)',\n   'Attention Deficit Hyperactivity Disorder (ADHD)',\n   'Autism Spectrum Disorder',\n   'Insomnia'],\n  ['Psychological evaluation',\n   'Blood tests',\n   'Brain imaging (MRI, CT scans)',\n   'Electroencephalogram (EEG)'],\n  'Dr. Stacy Taylor'),\n ('SELF_REFERRAL',\n  'DERMATOLOGY',\n  'Outpatient',\n  ['Acne',\n   'Eczema',\n   'Psoriasis',\n   'Dermatitis',\n   'Skin Cancer',\n   'Rosacea',\n   'Hives (Urticaria)',\n   'Impetigo',\n   'Cellulitis',\n   'Shingles (Herpes Zoster)'],\n  ['Skin biopsy', 'Patch tests', 'Skin scrapings', 'Blood tests'],\n  'Dr. Robert Jones'),\n ('SELF_REFERRAL',\n  'ORTHOPEDICS',\n  'Outpatient',\n  ['Osteoarthritis',\n   'Rheumatoid Arthritis',\n   'Osteoporosis',\n   'Fractures',\n   'Anterior Cruciate Ligament (ACL) Injuries',\n   'Meniscus Tears',\n   'Rotator Cuff Tears',\n   'Carpal Tunnel Syndrome',\n   'Spinal Disc Herniation',\n   'Scoliosis'],\n  ['X-rays', 'MRI', 'CT scans', 'Bone scans', 'Blood tests'],\n  'Dr. Heather Brown'),\n ('SELF_REFERRAL',\n  'GASTROENTEROLOGY',\n  'Outpatient',\n  ['Gastro-oesophageal Reflux Disease (GORD)',\n   'Irritable Bowel Syndrome (IBS)',\n   \"Inflammatory Bowel Disease (IBD) - including Crohn's Disease and Ulcerative Colitis\",\n   'Coeliac Disease',\n   'Peptic Ulcers',\n   'Gallstones',\n   'Chronic Liver Disease - including Hepatitis and Cirrhosis',\n   'Pancreatitis',\n   'Gastroenteritis',\n   'Diverticular Disease'],\n  ['Endoscopy',\n   'Colonoscopy',\n   'Blood tests',\n   'Stool tests',\n   'Abdominal ultrasound',\n   'CT scan'],\n  'Dr. Amanda Rush'),\n ('SELF_REFERRAL',\n  'OPHTHALMOLOGY',\n  'Outpatient',\n  ['Refractive Errors',\n   'Cataracts',\n   'Glaucoma',\n   'Age-related Macular Degeneration (AMD)',\n   'Diabetic Retinopathy',\n   'Dry Eye Syndrome',\n   'Conjunctivitis',\n   'Retinal Detachment',\n   'Uveitis',\n   'Keratitis'],\n  ['Eye exam',\n   'Tonometry (eye pressure test)',\n   'Retinal imaging',\n   'Visual field test'],\n  'Dr. Miguel Gutierrez'),\n ('SELF_REFERRAL',\n  'ENDOCRINOLOGY',\n  'Outpatient',\n  ['Diabetes Mellitus - Type 1 and Type 2',\n   'Thyroid Disorders - including Hypothyroidism and Hyperthyroidism',\n   \"Addison's Disease\",\n   \"Cushing's Syndrome\",\n   'Polycystic Ovary Syndrome (PCOS)',\n   'Osteoporosis',\n   'Pituitary Disorders',\n   'Hyperlipidaemia',\n   'Gout',\n   'Metabolic Syndrome'],\n  ['Blood tests (hormone levels)',\n   'Thyroid function tests',\n   'Bone density tests'],\n  'Dr. Justin Moon'),\n ('ELECTIVE',\n  'MATERNITY',\n  'Inpatient',\n  ['Labour and Delivery',\n   'Scheduled Caesarean Section',\n   'Induction of Labour',\n   'Preterm Labour',\n   'Pre-eclampsia/Eclampsia',\n   'Gestational Diabetes Monitoring',\n   'Antepartum Haemorrhage',\n   'Pregnancy-induced Hypertension',\n   'Ruptured Membranes without Contractions',\n   'Postpartum Complications'],\n  ['Ultrasound', 'Blood tests', 'Glucose tolerance test', 'Amniocentesis'],\n  'Dr. Ross Greene'),\n ('ELECTIVE',\n  'MATERNITY',\n  'Day Patient',\n  ['Labour and Delivery',\n   'Scheduled Caesarean Section',\n   'Induction of Labour',\n   'Preterm Labour',\n   'Pre-eclampsia/Eclampsia',\n   'Gestational Diabetes Monitoring',\n   'Antepartum Haemorrhage',\n   'Pregnancy-induced Hypertension',\n   'Ruptured Membranes without Contractions',\n   'Postpartum Complications'],\n  ['Ultrasound', 'Blood tests', 'Glucose tolerance test', 'Amniocentesis'],\n  'Dr. Daniel Maxwell'),\n ('ELECTIVE',\n  'MATERNITY',\n  'Outpatient',\n  ['Labour and Delivery',\n   'Scheduled Caesarean Section',\n   'Induction of Labour',\n   'Preterm Labour',\n   'Pre-eclampsia/Eclampsia',\n   'Gestational Diabetes Monitoring',\n   'Antepartum Haemorrhage',\n   'Pregnancy-induced Hypertension',\n   'Ruptured Membranes without Contractions',\n   'Postpartum Complications'],\n  ['Ultrasound', 'Blood tests', 'Glucose tolerance test', 'Amniocentesis'],\n  'Dr. James Hanson')]"
     },
     "execution_count": 8,
     "metadata": {},
     "output_type": "execute_result"
    }
   ],
   "source": [
    "flattened"
   ],
   "metadata": {
    "collapsed": false,
    "ExecuteTime": {
     "end_time": "2024-02-25T09:40:37.548822Z",
     "start_time": "2024-02-25T09:40:37.481108Z"
    }
   },
   "id": "220eadadf68afef4"
  },
  {
   "cell_type": "code",
   "execution_count": 9,
   "outputs": [
    {
     "name": "stderr",
     "output_type": "stream",
     "text": [
      "                                                                                \r"
     ]
    },
    {
     "data": {
      "text/plain": "   top_level_admission  sub_level_admission    stay_type  \\\n0            EMERGENCY           INJURY_RTC    Inpatient   \n1            EMERGENCY           INJURY_RTC  Day Patient   \n2            EMERGENCY       SELF_INFLICTED    Inpatient   \n3            EMERGENCY           CARDIOLOGY    Inpatient   \n4            EMERGENCY           CARDIOLOGY  Day Patient   \n5            EMERGENCY            NEUROLOGY    Inpatient   \n6            EMERGENCY            NEUROLOGY  Day Patient   \n7            EMERGENCY            NEUROLOGY   Outpatient   \n8            EMERGENCY     GASTROENTEROLOGY    Inpatient   \n9            EMERGENCY     GASTROENTEROLOGY  Day Patient   \n10           EMERGENCY     GASTROENTEROLOGY   Outpatient   \n11           EMERGENCY          RESPIRATORY    Inpatient   \n12           EMERGENCY          RESPIRATORY  Day Patient   \n13           EMERGENCY          RESPIRATORY   Outpatient   \n14           EMERGENCY  INFECTIOUS_DISEASES    Inpatient   \n15           EMERGENCY  INFECTIOUS_DISEASES  Day Patient   \n16           EMERGENCY            MATERNITY    Inpatient   \n17           EMERGENCY            MATERNITY  Day Patient   \n18           EMERGENCY            MATERNITY   Outpatient   \n19           EMERGENCY          PSYCHIATRIC    Inpatient   \n20           EMERGENCY          PSYCHIATRIC  Day Patient   \n21           EMERGENCY          PSYCHIATRIC   Outpatient   \n22           EMERGENCY          ORTHOPEDICS    Inpatient   \n23           EMERGENCY          ORTHOPEDICS  Day Patient   \n24           EMERGENCY          ORTHOPEDICS   Outpatient   \n25         GP_REFERRAL          PSYCHIATRIC    Inpatient   \n26         GP_REFERRAL          PSYCHIATRIC  Day Patient   \n27         GP_REFERRAL          PSYCHIATRIC   Outpatient   \n28         GP_REFERRAL          ORTHOPEDICS   Outpatient   \n29         GP_REFERRAL     GASTROENTEROLOGY    Inpatient   \n30         GP_REFERRAL     GASTROENTEROLOGY  Day Patient   \n31         GP_REFERRAL     GASTROENTEROLOGY   Outpatient   \n32         GP_REFERRAL        ENDOCRINOLOGY   Outpatient   \n33         GP_REFERRAL          DERMATOLOGY   Outpatient   \n34         GP_REFERRAL            MATERNITY    Inpatient   \n35         GP_REFERRAL            MATERNITY  Day Patient   \n36         GP_REFERRAL            MATERNITY   Outpatient   \n37         GP_REFERRAL           GERIATRICS    Inpatient   \n38         GP_REFERRAL           GERIATRICS   Outpatient   \n39   HOSPITAL_REFERRAL           CARDIOLOGY    Inpatient   \n40   HOSPITAL_REFERRAL           CARDIOLOGY  Day Patient   \n41   HOSPITAL_REFERRAL           NEPHROLOGY    Inpatient   \n42   HOSPITAL_REFERRAL           NEPHROLOGY  Day Patient   \n43   HOSPITAL_REFERRAL           NEPHROLOGY   Outpatient   \n44   HOSPITAL_REFERRAL            NEUROLOGY    Inpatient   \n\n                                       possible_tests  \\\n0   [Whiplash, Concussions, Contusions (bruises), ...   \n1   [Whiplash, Concussions, Contusions (bruises), ...   \n2                                     [No conditions]   \n3                                     [No conditions]   \n4                                     [No conditions]   \n5   [Migraines, Epilepsy, Parkinson's Disease, Alz...   \n6   [Migraines, Epilepsy, Parkinson's Disease, Alz...   \n7   [Migraines, Epilepsy, Parkinson's Disease, Alz...   \n8   [Gastro-oesophageal Reflux Disease (GORD), Irr...   \n9   [Gastro-oesophageal Reflux Disease (GORD), Irr...   \n10  [Gastro-oesophageal Reflux Disease (GORD), Irr...   \n11  [Asthma, Chronic Obstructive Pulmonary Disease...   \n12  [Asthma, Chronic Obstructive Pulmonary Disease...   \n13  [Asthma, Chronic Obstructive Pulmonary Disease...   \n14  [Influenza, Urinary Tract Infections (UTIs), H...   \n15  [Influenza, Urinary Tract Infections (UTIs), H...   \n16  [Labour and Delivery, Scheduled Caesarean Sect...   \n17  [Labour and Delivery, Scheduled Caesarean Sect...   \n18  [Labour and Delivery, Scheduled Caesarean Sect...   \n19  [Depression, Anxiety Disorders, Bipolar Disord...   \n20  [Depression, Anxiety Disorders, Bipolar Disord...   \n21  [Depression, Anxiety Disorders, Bipolar Disord...   \n22  [Osteoarthritis, Rheumatoid Arthritis, Osteopo...   \n23  [Osteoarthritis, Rheumatoid Arthritis, Osteopo...   \n24  [Osteoarthritis, Rheumatoid Arthritis, Osteopo...   \n25  [Depression, Anxiety Disorders, Bipolar Disord...   \n26  [Depression, Anxiety Disorders, Bipolar Disord...   \n27  [Depression, Anxiety Disorders, Bipolar Disord...   \n28  [Osteoarthritis, Rheumatoid Arthritis, Osteopo...   \n29  [Gastro-oesophageal Reflux Disease (GORD), Irr...   \n30  [Gastro-oesophageal Reflux Disease (GORD), Irr...   \n31  [Gastro-oesophageal Reflux Disease (GORD), Irr...   \n32  [Diabetes Mellitus - Type 1 and Type 2, Thyroi...   \n33  [Acne, Eczema, Psoriasis, Dermatitis, Skin Can...   \n34  [Labour and Delivery, Scheduled Caesarean Sect...   \n35  [Labour and Delivery, Scheduled Caesarean Sect...   \n36  [Labour and Delivery, Scheduled Caesarean Sect...   \n37                                    [No conditions]   \n38                                    [No conditions]   \n39                                    [No conditions]   \n40                                    [No conditions]   \n41  [Chronic Kidney Disease (CKD), Acute Kidney In...   \n42  [Chronic Kidney Disease (CKD), Acute Kidney In...   \n43  [Chronic Kidney Disease (CKD), Acute Kidney In...   \n44  [Migraines, Epilepsy, Parkinson's Disease, Alz...   \n\n                                           conditions                  doctor  \n0    [X-rays, CT scans, MRI, Ultrasound, Blood tests]     Dr. Cynthia Elliott  \n1    [X-rays, CT scans, MRI, Ultrasound, Blood tests]     Dr. Kathryn Mercado  \n2                                          [No tests]      Dr. Ashley Garrett  \n3   [ECG, Echocardiogram, Stress tests, Cardiac ca...     Dr. Joseph Anderson  \n4   [ECG, Echocardiogram, Stress tests, Cardiac ca...  Dr. Adriana Montgomery  \n5   [MRI or CT scans of the brain, Electroencephal...        Dr. Darrell Hill  \n6   [MRI or CT scans of the brain, Electroencephal...      Dr. Robert Mercado  \n7   [MRI or CT scans of the brain, Electroencephal...   Dr. Kathryn Hernandez  \n8   [Endoscopy, Colonoscopy, Blood tests, Stool te...         Dr. Shelly Haas  \n9   [Endoscopy, Colonoscopy, Blood tests, Stool te...      Dr. Michelle David  \n10  [Endoscopy, Colonoscopy, Blood tests, Stool te...         Dr. Barry Meyer  \n11  [Pulmonary function tests, Chest X-ray, CT sca...   Dr. Samantha Jacobson  \n12  [Pulmonary function tests, Chest X-ray, CT sca...     Dr. Veronica Thomas  \n13  [Pulmonary function tests, Chest X-ray, CT sca...      Dr. Mary Rodriguez  \n14  [Blood cultures, PCR tests, Antibody tests, ch...      Dr. Sarah Arellano  \n15  [Blood cultures, PCR tests, Antibody tests, ch...        Dr. Carol Wilson  \n16  [Ultrasound, Blood tests, Glucose tolerance te...       Dr. Briana Walker  \n17  [Ultrasound, Blood tests, Glucose tolerance te...      Dr. Valerie Murphy  \n18  [Ultrasound, Blood tests, Glucose tolerance te...        Dr. Garrett Pope  \n19  [Psychological evaluation, Blood tests, Brain ...       Dr. David Webster  \n20  [Psychological evaluation, Blood tests, Brain ...    Dr. Brian Stephenson  \n21  [Psychological evaluation, Blood tests, Brain ...        Dr. Nicole Jones  \n22   [X-rays, MRI, CT scans, Bone scans, Blood tests]         Dr. Bradley Kim  \n23   [X-rays, MRI, CT scans, Bone scans, Blood tests]        Dr. Connor Davis  \n24   [X-rays, MRI, CT scans, Bone scans, Blood tests]      Dr. Jonathan Bruce  \n25  [Psychological evaluation, Blood tests, Brain ...        Dr. Steven Yoder  \n26  [Psychological evaluation, Blood tests, Brain ...        Dr. Nicole Jones  \n27  [Psychological evaluation, Blood tests, Brain ...         Dr. Henry Scott  \n28   [X-rays, MRI, CT scans, Bone scans, Blood tests]         Dr. Tara Carter  \n29  [Endoscopy, Colonoscopy, Blood tests, Stool te...      Dr. Michelle David  \n30  [Endoscopy, Colonoscopy, Blood tests, Stool te...         Dr. James Smith  \n31  [Endoscopy, Colonoscopy, Blood tests, Stool te...       Dr. Brandon Brown  \n32  [Blood tests (hormone levels), Thyroid functio...     Dr. Sharon Ferguson  \n33  [Skin biopsy, Patch tests, Skin scrapings, Blo...     Dr. Andrew Castillo  \n34  [Ultrasound, Blood tests, Glucose tolerance te...       Dr. Steven Barnes  \n35  [Ultrasound, Blood tests, Glucose tolerance te...        Dr. Jonathan Lee  \n36  [Ultrasound, Blood tests, Glucose tolerance te...       Dr. Steven Barnes  \n37  [Comprehensive geriatric assessment, Blood tes...      Dr. Heather Flores  \n38  [Comprehensive geriatric assessment, Blood tes...          Dr. Tammy Reed  \n39  [ECG, Echocardiogram, Stress tests, Cardiac ca...     Dr. Felicia Johnson  \n40  [ECG, Echocardiogram, Stress tests, Cardiac ca...          Dr. Allen King  \n41  [Blood tests (renal function tests), Urine tes...       Dr. Lori Campbell  \n42  [Blood tests (renal function tests), Urine tes...          Dr. Dana Moore  \n43  [Blood tests (renal function tests), Urine tes...      Dr. Nicole Trevino  \n44  [MRI or CT scans of the brain, Electroencephal...         Dr. Deanna Mora  ",
      "text/html": "<div>\n<style scoped>\n    .dataframe tbody tr th:only-of-type {\n        vertical-align: middle;\n    }\n\n    .dataframe tbody tr th {\n        vertical-align: top;\n    }\n\n    .dataframe thead th {\n        text-align: right;\n    }\n</style>\n<table border=\"1\" class=\"dataframe\">\n  <thead>\n    <tr style=\"text-align: right;\">\n      <th></th>\n      <th>top_level_admission</th>\n      <th>sub_level_admission</th>\n      <th>stay_type</th>\n      <th>possible_tests</th>\n      <th>conditions</th>\n      <th>doctor</th>\n    </tr>\n  </thead>\n  <tbody>\n    <tr>\n      <th>0</th>\n      <td>EMERGENCY</td>\n      <td>INJURY_RTC</td>\n      <td>Inpatient</td>\n      <td>[Whiplash, Concussions, Contusions (bruises), ...</td>\n      <td>[X-rays, CT scans, MRI, Ultrasound, Blood tests]</td>\n      <td>Dr. Cynthia Elliott</td>\n    </tr>\n    <tr>\n      <th>1</th>\n      <td>EMERGENCY</td>\n      <td>INJURY_RTC</td>\n      <td>Day Patient</td>\n      <td>[Whiplash, Concussions, Contusions (bruises), ...</td>\n      <td>[X-rays, CT scans, MRI, Ultrasound, Blood tests]</td>\n      <td>Dr. Kathryn Mercado</td>\n    </tr>\n    <tr>\n      <th>2</th>\n      <td>EMERGENCY</td>\n      <td>SELF_INFLICTED</td>\n      <td>Inpatient</td>\n      <td>[No conditions]</td>\n      <td>[No tests]</td>\n      <td>Dr. Ashley Garrett</td>\n    </tr>\n    <tr>\n      <th>3</th>\n      <td>EMERGENCY</td>\n      <td>CARDIOLOGY</td>\n      <td>Inpatient</td>\n      <td>[No conditions]</td>\n      <td>[ECG, Echocardiogram, Stress tests, Cardiac ca...</td>\n      <td>Dr. Joseph Anderson</td>\n    </tr>\n    <tr>\n      <th>4</th>\n      <td>EMERGENCY</td>\n      <td>CARDIOLOGY</td>\n      <td>Day Patient</td>\n      <td>[No conditions]</td>\n      <td>[ECG, Echocardiogram, Stress tests, Cardiac ca...</td>\n      <td>Dr. Adriana Montgomery</td>\n    </tr>\n    <tr>\n      <th>5</th>\n      <td>EMERGENCY</td>\n      <td>NEUROLOGY</td>\n      <td>Inpatient</td>\n      <td>[Migraines, Epilepsy, Parkinson's Disease, Alz...</td>\n      <td>[MRI or CT scans of the brain, Electroencephal...</td>\n      <td>Dr. Darrell Hill</td>\n    </tr>\n    <tr>\n      <th>6</th>\n      <td>EMERGENCY</td>\n      <td>NEUROLOGY</td>\n      <td>Day Patient</td>\n      <td>[Migraines, Epilepsy, Parkinson's Disease, Alz...</td>\n      <td>[MRI or CT scans of the brain, Electroencephal...</td>\n      <td>Dr. Robert Mercado</td>\n    </tr>\n    <tr>\n      <th>7</th>\n      <td>EMERGENCY</td>\n      <td>NEUROLOGY</td>\n      <td>Outpatient</td>\n      <td>[Migraines, Epilepsy, Parkinson's Disease, Alz...</td>\n      <td>[MRI or CT scans of the brain, Electroencephal...</td>\n      <td>Dr. Kathryn Hernandez</td>\n    </tr>\n    <tr>\n      <th>8</th>\n      <td>EMERGENCY</td>\n      <td>GASTROENTEROLOGY</td>\n      <td>Inpatient</td>\n      <td>[Gastro-oesophageal Reflux Disease (GORD), Irr...</td>\n      <td>[Endoscopy, Colonoscopy, Blood tests, Stool te...</td>\n      <td>Dr. Shelly Haas</td>\n    </tr>\n    <tr>\n      <th>9</th>\n      <td>EMERGENCY</td>\n      <td>GASTROENTEROLOGY</td>\n      <td>Day Patient</td>\n      <td>[Gastro-oesophageal Reflux Disease (GORD), Irr...</td>\n      <td>[Endoscopy, Colonoscopy, Blood tests, Stool te...</td>\n      <td>Dr. Michelle David</td>\n    </tr>\n    <tr>\n      <th>10</th>\n      <td>EMERGENCY</td>\n      <td>GASTROENTEROLOGY</td>\n      <td>Outpatient</td>\n      <td>[Gastro-oesophageal Reflux Disease (GORD), Irr...</td>\n      <td>[Endoscopy, Colonoscopy, Blood tests, Stool te...</td>\n      <td>Dr. Barry Meyer</td>\n    </tr>\n    <tr>\n      <th>11</th>\n      <td>EMERGENCY</td>\n      <td>RESPIRATORY</td>\n      <td>Inpatient</td>\n      <td>[Asthma, Chronic Obstructive Pulmonary Disease...</td>\n      <td>[Pulmonary function tests, Chest X-ray, CT sca...</td>\n      <td>Dr. Samantha Jacobson</td>\n    </tr>\n    <tr>\n      <th>12</th>\n      <td>EMERGENCY</td>\n      <td>RESPIRATORY</td>\n      <td>Day Patient</td>\n      <td>[Asthma, Chronic Obstructive Pulmonary Disease...</td>\n      <td>[Pulmonary function tests, Chest X-ray, CT sca...</td>\n      <td>Dr. Veronica Thomas</td>\n    </tr>\n    <tr>\n      <th>13</th>\n      <td>EMERGENCY</td>\n      <td>RESPIRATORY</td>\n      <td>Outpatient</td>\n      <td>[Asthma, Chronic Obstructive Pulmonary Disease...</td>\n      <td>[Pulmonary function tests, Chest X-ray, CT sca...</td>\n      <td>Dr. Mary Rodriguez</td>\n    </tr>\n    <tr>\n      <th>14</th>\n      <td>EMERGENCY</td>\n      <td>INFECTIOUS_DISEASES</td>\n      <td>Inpatient</td>\n      <td>[Influenza, Urinary Tract Infections (UTIs), H...</td>\n      <td>[Blood cultures, PCR tests, Antibody tests, ch...</td>\n      <td>Dr. Sarah Arellano</td>\n    </tr>\n    <tr>\n      <th>15</th>\n      <td>EMERGENCY</td>\n      <td>INFECTIOUS_DISEASES</td>\n      <td>Day Patient</td>\n      <td>[Influenza, Urinary Tract Infections (UTIs), H...</td>\n      <td>[Blood cultures, PCR tests, Antibody tests, ch...</td>\n      <td>Dr. Carol Wilson</td>\n    </tr>\n    <tr>\n      <th>16</th>\n      <td>EMERGENCY</td>\n      <td>MATERNITY</td>\n      <td>Inpatient</td>\n      <td>[Labour and Delivery, Scheduled Caesarean Sect...</td>\n      <td>[Ultrasound, Blood tests, Glucose tolerance te...</td>\n      <td>Dr. Briana Walker</td>\n    </tr>\n    <tr>\n      <th>17</th>\n      <td>EMERGENCY</td>\n      <td>MATERNITY</td>\n      <td>Day Patient</td>\n      <td>[Labour and Delivery, Scheduled Caesarean Sect...</td>\n      <td>[Ultrasound, Blood tests, Glucose tolerance te...</td>\n      <td>Dr. Valerie Murphy</td>\n    </tr>\n    <tr>\n      <th>18</th>\n      <td>EMERGENCY</td>\n      <td>MATERNITY</td>\n      <td>Outpatient</td>\n      <td>[Labour and Delivery, Scheduled Caesarean Sect...</td>\n      <td>[Ultrasound, Blood tests, Glucose tolerance te...</td>\n      <td>Dr. Garrett Pope</td>\n    </tr>\n    <tr>\n      <th>19</th>\n      <td>EMERGENCY</td>\n      <td>PSYCHIATRIC</td>\n      <td>Inpatient</td>\n      <td>[Depression, Anxiety Disorders, Bipolar Disord...</td>\n      <td>[Psychological evaluation, Blood tests, Brain ...</td>\n      <td>Dr. David Webster</td>\n    </tr>\n    <tr>\n      <th>20</th>\n      <td>EMERGENCY</td>\n      <td>PSYCHIATRIC</td>\n      <td>Day Patient</td>\n      <td>[Depression, Anxiety Disorders, Bipolar Disord...</td>\n      <td>[Psychological evaluation, Blood tests, Brain ...</td>\n      <td>Dr. Brian Stephenson</td>\n    </tr>\n    <tr>\n      <th>21</th>\n      <td>EMERGENCY</td>\n      <td>PSYCHIATRIC</td>\n      <td>Outpatient</td>\n      <td>[Depression, Anxiety Disorders, Bipolar Disord...</td>\n      <td>[Psychological evaluation, Blood tests, Brain ...</td>\n      <td>Dr. Nicole Jones</td>\n    </tr>\n    <tr>\n      <th>22</th>\n      <td>EMERGENCY</td>\n      <td>ORTHOPEDICS</td>\n      <td>Inpatient</td>\n      <td>[Osteoarthritis, Rheumatoid Arthritis, Osteopo...</td>\n      <td>[X-rays, MRI, CT scans, Bone scans, Blood tests]</td>\n      <td>Dr. Bradley Kim</td>\n    </tr>\n    <tr>\n      <th>23</th>\n      <td>EMERGENCY</td>\n      <td>ORTHOPEDICS</td>\n      <td>Day Patient</td>\n      <td>[Osteoarthritis, Rheumatoid Arthritis, Osteopo...</td>\n      <td>[X-rays, MRI, CT scans, Bone scans, Blood tests]</td>\n      <td>Dr. Connor Davis</td>\n    </tr>\n    <tr>\n      <th>24</th>\n      <td>EMERGENCY</td>\n      <td>ORTHOPEDICS</td>\n      <td>Outpatient</td>\n      <td>[Osteoarthritis, Rheumatoid Arthritis, Osteopo...</td>\n      <td>[X-rays, MRI, CT scans, Bone scans, Blood tests]</td>\n      <td>Dr. Jonathan Bruce</td>\n    </tr>\n    <tr>\n      <th>25</th>\n      <td>GP_REFERRAL</td>\n      <td>PSYCHIATRIC</td>\n      <td>Inpatient</td>\n      <td>[Depression, Anxiety Disorders, Bipolar Disord...</td>\n      <td>[Psychological evaluation, Blood tests, Brain ...</td>\n      <td>Dr. Steven Yoder</td>\n    </tr>\n    <tr>\n      <th>26</th>\n      <td>GP_REFERRAL</td>\n      <td>PSYCHIATRIC</td>\n      <td>Day Patient</td>\n      <td>[Depression, Anxiety Disorders, Bipolar Disord...</td>\n      <td>[Psychological evaluation, Blood tests, Brain ...</td>\n      <td>Dr. Nicole Jones</td>\n    </tr>\n    <tr>\n      <th>27</th>\n      <td>GP_REFERRAL</td>\n      <td>PSYCHIATRIC</td>\n      <td>Outpatient</td>\n      <td>[Depression, Anxiety Disorders, Bipolar Disord...</td>\n      <td>[Psychological evaluation, Blood tests, Brain ...</td>\n      <td>Dr. Henry Scott</td>\n    </tr>\n    <tr>\n      <th>28</th>\n      <td>GP_REFERRAL</td>\n      <td>ORTHOPEDICS</td>\n      <td>Outpatient</td>\n      <td>[Osteoarthritis, Rheumatoid Arthritis, Osteopo...</td>\n      <td>[X-rays, MRI, CT scans, Bone scans, Blood tests]</td>\n      <td>Dr. Tara Carter</td>\n    </tr>\n    <tr>\n      <th>29</th>\n      <td>GP_REFERRAL</td>\n      <td>GASTROENTEROLOGY</td>\n      <td>Inpatient</td>\n      <td>[Gastro-oesophageal Reflux Disease (GORD), Irr...</td>\n      <td>[Endoscopy, Colonoscopy, Blood tests, Stool te...</td>\n      <td>Dr. Michelle David</td>\n    </tr>\n    <tr>\n      <th>30</th>\n      <td>GP_REFERRAL</td>\n      <td>GASTROENTEROLOGY</td>\n      <td>Day Patient</td>\n      <td>[Gastro-oesophageal Reflux Disease (GORD), Irr...</td>\n      <td>[Endoscopy, Colonoscopy, Blood tests, Stool te...</td>\n      <td>Dr. James Smith</td>\n    </tr>\n    <tr>\n      <th>31</th>\n      <td>GP_REFERRAL</td>\n      <td>GASTROENTEROLOGY</td>\n      <td>Outpatient</td>\n      <td>[Gastro-oesophageal Reflux Disease (GORD), Irr...</td>\n      <td>[Endoscopy, Colonoscopy, Blood tests, Stool te...</td>\n      <td>Dr. Brandon Brown</td>\n    </tr>\n    <tr>\n      <th>32</th>\n      <td>GP_REFERRAL</td>\n      <td>ENDOCRINOLOGY</td>\n      <td>Outpatient</td>\n      <td>[Diabetes Mellitus - Type 1 and Type 2, Thyroi...</td>\n      <td>[Blood tests (hormone levels), Thyroid functio...</td>\n      <td>Dr. Sharon Ferguson</td>\n    </tr>\n    <tr>\n      <th>33</th>\n      <td>GP_REFERRAL</td>\n      <td>DERMATOLOGY</td>\n      <td>Outpatient</td>\n      <td>[Acne, Eczema, Psoriasis, Dermatitis, Skin Can...</td>\n      <td>[Skin biopsy, Patch tests, Skin scrapings, Blo...</td>\n      <td>Dr. Andrew Castillo</td>\n    </tr>\n    <tr>\n      <th>34</th>\n      <td>GP_REFERRAL</td>\n      <td>MATERNITY</td>\n      <td>Inpatient</td>\n      <td>[Labour and Delivery, Scheduled Caesarean Sect...</td>\n      <td>[Ultrasound, Blood tests, Glucose tolerance te...</td>\n      <td>Dr. Steven Barnes</td>\n    </tr>\n    <tr>\n      <th>35</th>\n      <td>GP_REFERRAL</td>\n      <td>MATERNITY</td>\n      <td>Day Patient</td>\n      <td>[Labour and Delivery, Scheduled Caesarean Sect...</td>\n      <td>[Ultrasound, Blood tests, Glucose tolerance te...</td>\n      <td>Dr. Jonathan Lee</td>\n    </tr>\n    <tr>\n      <th>36</th>\n      <td>GP_REFERRAL</td>\n      <td>MATERNITY</td>\n      <td>Outpatient</td>\n      <td>[Labour and Delivery, Scheduled Caesarean Sect...</td>\n      <td>[Ultrasound, Blood tests, Glucose tolerance te...</td>\n      <td>Dr. Steven Barnes</td>\n    </tr>\n    <tr>\n      <th>37</th>\n      <td>GP_REFERRAL</td>\n      <td>GERIATRICS</td>\n      <td>Inpatient</td>\n      <td>[No conditions]</td>\n      <td>[Comprehensive geriatric assessment, Blood tes...</td>\n      <td>Dr. Heather Flores</td>\n    </tr>\n    <tr>\n      <th>38</th>\n      <td>GP_REFERRAL</td>\n      <td>GERIATRICS</td>\n      <td>Outpatient</td>\n      <td>[No conditions]</td>\n      <td>[Comprehensive geriatric assessment, Blood tes...</td>\n      <td>Dr. Tammy Reed</td>\n    </tr>\n    <tr>\n      <th>39</th>\n      <td>HOSPITAL_REFERRAL</td>\n      <td>CARDIOLOGY</td>\n      <td>Inpatient</td>\n      <td>[No conditions]</td>\n      <td>[ECG, Echocardiogram, Stress tests, Cardiac ca...</td>\n      <td>Dr. Felicia Johnson</td>\n    </tr>\n    <tr>\n      <th>40</th>\n      <td>HOSPITAL_REFERRAL</td>\n      <td>CARDIOLOGY</td>\n      <td>Day Patient</td>\n      <td>[No conditions]</td>\n      <td>[ECG, Echocardiogram, Stress tests, Cardiac ca...</td>\n      <td>Dr. Allen King</td>\n    </tr>\n    <tr>\n      <th>41</th>\n      <td>HOSPITAL_REFERRAL</td>\n      <td>NEPHROLOGY</td>\n      <td>Inpatient</td>\n      <td>[Chronic Kidney Disease (CKD), Acute Kidney In...</td>\n      <td>[Blood tests (renal function tests), Urine tes...</td>\n      <td>Dr. Lori Campbell</td>\n    </tr>\n    <tr>\n      <th>42</th>\n      <td>HOSPITAL_REFERRAL</td>\n      <td>NEPHROLOGY</td>\n      <td>Day Patient</td>\n      <td>[Chronic Kidney Disease (CKD), Acute Kidney In...</td>\n      <td>[Blood tests (renal function tests), Urine tes...</td>\n      <td>Dr. Dana Moore</td>\n    </tr>\n    <tr>\n      <th>43</th>\n      <td>HOSPITAL_REFERRAL</td>\n      <td>NEPHROLOGY</td>\n      <td>Outpatient</td>\n      <td>[Chronic Kidney Disease (CKD), Acute Kidney In...</td>\n      <td>[Blood tests (renal function tests), Urine tes...</td>\n      <td>Dr. Nicole Trevino</td>\n    </tr>\n    <tr>\n      <th>44</th>\n      <td>HOSPITAL_REFERRAL</td>\n      <td>NEUROLOGY</td>\n      <td>Inpatient</td>\n      <td>[Migraines, Epilepsy, Parkinson's Disease, Alz...</td>\n      <td>[MRI or CT scans of the brain, Electroencephal...</td>\n      <td>Dr. Deanna Mora</td>\n    </tr>\n  </tbody>\n</table>\n</div>"
     },
     "metadata": {},
     "output_type": "display_data"
    }
   ],
   "source": [
    "\"\"\"\n",
    "STEP 1 \n",
    "    From the flattened data list we wish to create a DataFrame. This contains all the possible combinations for the given \n",
    "    top level admissions, sub level admissions, stay types and list of tests available from the admission_mapping, stay_type and admission_tests lists or dictionaries in admission_types_test_dataset.py\n",
    "\"\"\"\n",
    "mapping_df = spark.createDataFrame(flattened, [\"top_level_admission\", \"sub_level_admission\", \"stay_type\", \"possible_tests\", \"conditions\", \"doctor\"])\n",
    "\n",
    "display_df(mapping_df, 45)"
   ],
   "metadata": {
    "collapsed": false,
    "ExecuteTime": {
     "end_time": "2024-02-25T09:40:39.340956Z",
     "start_time": "2024-02-25T09:40:37.487848Z"
    }
   },
   "id": "e1dc302cbd5cd49e"
  },
  {
   "cell_type": "code",
   "execution_count": 10,
   "outputs": [
    {
     "name": "stdout",
     "output_type": "stream",
     "text": [
      "['EMERGENCY', 'GP_REFERRAL', 'HOSPITAL_REFERRAL', 'SELF_REFERRAL', 'ELECTIVE']\n",
      "10000\n",
      "154171\n"
     ]
    },
    {
     "data": {
      "text/plain": "    top_level_admission             name  Age  gender blood_type  \\\n0              ELECTIVE  Tiffany Ramirez   39  Female         O-   \n1              ELECTIVE  Tiffany Ramirez   39  Female         O-   \n2              ELECTIVE  Tiffany Ramirez   39  Female         O-   \n3              ELECTIVE   Patrick Parker   86    Male        AB+   \n4              ELECTIVE   Patrick Parker   86    Male        AB+   \n..                  ...              ...  ...     ...        ...   \n994            ELECTIVE     Thomas Berry   30  Female         A-   \n995            ELECTIVE     Thomas Berry   30  Female         A-   \n996            ELECTIVE   Crystal Wright   33    Male         B-   \n997            ELECTIVE   Crystal Wright   33    Male         B-   \n998            ELECTIVE   Crystal Wright   33    Male         B-   \n\n    date_of_admission             hospital insurance_provider  billing_amount  \\\n0          2022-11-17     Wallace-Hamilton           Medicare    37490.983364   \n1          2022-11-17     Wallace-Hamilton           Medicare    37490.983364   \n2          2022-11-17     Wallace-Hamilton           Medicare    37490.983364   \n3          2020-08-20             Boyd PLC              Aetna    22522.363385   \n4          2020-08-20             Boyd PLC              Aetna    22522.363385   \n..                ...                  ...                ...             ...   \n994        2021-12-05         Flores Group              Cigna    35807.012158   \n995        2021-12-05         Flores Group              Cigna    35807.012158   \n996        2023-10-11  Roman, Ruiz and Cox              Aetna     3414.135042   \n997        2023-10-11  Roman, Ruiz and Cox              Aetna     3414.135042   \n998        2023-10-11  Roman, Ruiz and Cox              Aetna     3414.135042   \n\n     room_number  ... medication  test_results         DOB is_female  \\\n0            146  ...    Aspirin  Inconclusive  1984-09-30      True   \n1            146  ...    Aspirin  Inconclusive  1984-09-30      True   \n2            146  ...    Aspirin  Inconclusive  1984-09-30      True   \n3            180  ...    Aspirin      Abnormal  1938-01-22     False   \n4            180  ...    Aspirin      Abnormal  1938-01-22     False   \n..           ...  ...        ...           ...         ...       ...   \n994          419  ...  Ibuprofen  Inconclusive  1993-12-13      True   \n995          419  ...  Ibuprofen  Inconclusive  1993-12-13      True   \n996          243  ...    Aspirin        Normal  1990-10-27     False   \n997          243  ...    Aspirin        Normal  1990-10-27     False   \n998          243  ...    Aspirin        Normal  1990-10-27     False   \n\n     is_pediatric  sub_level_admission    stay_type  \\\n0           False            MATERNITY    Inpatient   \n1           False            MATERNITY  Day Patient   \n2           False            MATERNITY   Outpatient   \n3           False            MATERNITY    Inpatient   \n4           False            MATERNITY  Day Patient   \n..            ...                  ...          ...   \n994         False            MATERNITY  Day Patient   \n995         False            MATERNITY   Outpatient   \n996         False            MATERNITY    Inpatient   \n997         False            MATERNITY  Day Patient   \n998         False            MATERNITY   Outpatient   \n\n                                        possible_tests  \\\n0    [Labour and Delivery, Scheduled Caesarean Sect...   \n1    [Labour and Delivery, Scheduled Caesarean Sect...   \n2    [Labour and Delivery, Scheduled Caesarean Sect...   \n3    [Labour and Delivery, Scheduled Caesarean Sect...   \n4    [Labour and Delivery, Scheduled Caesarean Sect...   \n..                                                 ...   \n994  [Labour and Delivery, Scheduled Caesarean Sect...   \n995  [Labour and Delivery, Scheduled Caesarean Sect...   \n996  [Labour and Delivery, Scheduled Caesarean Sect...   \n997  [Labour and Delivery, Scheduled Caesarean Sect...   \n998  [Labour and Delivery, Scheduled Caesarean Sect...   \n\n                                            conditions              doctor  \n0    [Ultrasound, Blood tests, Glucose tolerance te...     Dr. Ross Greene  \n1    [Ultrasound, Blood tests, Glucose tolerance te...  Dr. Daniel Maxwell  \n2    [Ultrasound, Blood tests, Glucose tolerance te...    Dr. James Hanson  \n3    [Ultrasound, Blood tests, Glucose tolerance te...     Dr. Ross Greene  \n4    [Ultrasound, Blood tests, Glucose tolerance te...  Dr. Daniel Maxwell  \n..                                                 ...                 ...  \n994  [Ultrasound, Blood tests, Glucose tolerance te...  Dr. Daniel Maxwell  \n995  [Ultrasound, Blood tests, Glucose tolerance te...    Dr. James Hanson  \n996  [Ultrasound, Blood tests, Glucose tolerance te...     Dr. Ross Greene  \n997  [Ultrasound, Blood tests, Glucose tolerance te...  Dr. Daniel Maxwell  \n998  [Ultrasound, Blood tests, Glucose tolerance te...    Dr. James Hanson  \n\n[999 rows x 21 columns]",
      "text/html": "<div>\n<style scoped>\n    .dataframe tbody tr th:only-of-type {\n        vertical-align: middle;\n    }\n\n    .dataframe tbody tr th {\n        vertical-align: top;\n    }\n\n    .dataframe thead th {\n        text-align: right;\n    }\n</style>\n<table border=\"1\" class=\"dataframe\">\n  <thead>\n    <tr style=\"text-align: right;\">\n      <th></th>\n      <th>top_level_admission</th>\n      <th>name</th>\n      <th>Age</th>\n      <th>gender</th>\n      <th>blood_type</th>\n      <th>date_of_admission</th>\n      <th>hospital</th>\n      <th>insurance_provider</th>\n      <th>billing_amount</th>\n      <th>room_number</th>\n      <th>...</th>\n      <th>medication</th>\n      <th>test_results</th>\n      <th>DOB</th>\n      <th>is_female</th>\n      <th>is_pediatric</th>\n      <th>sub_level_admission</th>\n      <th>stay_type</th>\n      <th>possible_tests</th>\n      <th>conditions</th>\n      <th>doctor</th>\n    </tr>\n  </thead>\n  <tbody>\n    <tr>\n      <th>0</th>\n      <td>ELECTIVE</td>\n      <td>Tiffany Ramirez</td>\n      <td>39</td>\n      <td>Female</td>\n      <td>O-</td>\n      <td>2022-11-17</td>\n      <td>Wallace-Hamilton</td>\n      <td>Medicare</td>\n      <td>37490.983364</td>\n      <td>146</td>\n      <td>...</td>\n      <td>Aspirin</td>\n      <td>Inconclusive</td>\n      <td>1984-09-30</td>\n      <td>True</td>\n      <td>False</td>\n      <td>MATERNITY</td>\n      <td>Inpatient</td>\n      <td>[Labour and Delivery, Scheduled Caesarean Sect...</td>\n      <td>[Ultrasound, Blood tests, Glucose tolerance te...</td>\n      <td>Dr. Ross Greene</td>\n    </tr>\n    <tr>\n      <th>1</th>\n      <td>ELECTIVE</td>\n      <td>Tiffany Ramirez</td>\n      <td>39</td>\n      <td>Female</td>\n      <td>O-</td>\n      <td>2022-11-17</td>\n      <td>Wallace-Hamilton</td>\n      <td>Medicare</td>\n      <td>37490.983364</td>\n      <td>146</td>\n      <td>...</td>\n      <td>Aspirin</td>\n      <td>Inconclusive</td>\n      <td>1984-09-30</td>\n      <td>True</td>\n      <td>False</td>\n      <td>MATERNITY</td>\n      <td>Day Patient</td>\n      <td>[Labour and Delivery, Scheduled Caesarean Sect...</td>\n      <td>[Ultrasound, Blood tests, Glucose tolerance te...</td>\n      <td>Dr. Daniel Maxwell</td>\n    </tr>\n    <tr>\n      <th>2</th>\n      <td>ELECTIVE</td>\n      <td>Tiffany Ramirez</td>\n      <td>39</td>\n      <td>Female</td>\n      <td>O-</td>\n      <td>2022-11-17</td>\n      <td>Wallace-Hamilton</td>\n      <td>Medicare</td>\n      <td>37490.983364</td>\n      <td>146</td>\n      <td>...</td>\n      <td>Aspirin</td>\n      <td>Inconclusive</td>\n      <td>1984-09-30</td>\n      <td>True</td>\n      <td>False</td>\n      <td>MATERNITY</td>\n      <td>Outpatient</td>\n      <td>[Labour and Delivery, Scheduled Caesarean Sect...</td>\n      <td>[Ultrasound, Blood tests, Glucose tolerance te...</td>\n      <td>Dr. James Hanson</td>\n    </tr>\n    <tr>\n      <th>3</th>\n      <td>ELECTIVE</td>\n      <td>Patrick Parker</td>\n      <td>86</td>\n      <td>Male</td>\n      <td>AB+</td>\n      <td>2020-08-20</td>\n      <td>Boyd PLC</td>\n      <td>Aetna</td>\n      <td>22522.363385</td>\n      <td>180</td>\n      <td>...</td>\n      <td>Aspirin</td>\n      <td>Abnormal</td>\n      <td>1938-01-22</td>\n      <td>False</td>\n      <td>False</td>\n      <td>MATERNITY</td>\n      <td>Inpatient</td>\n      <td>[Labour and Delivery, Scheduled Caesarean Sect...</td>\n      <td>[Ultrasound, Blood tests, Glucose tolerance te...</td>\n      <td>Dr. Ross Greene</td>\n    </tr>\n    <tr>\n      <th>4</th>\n      <td>ELECTIVE</td>\n      <td>Patrick Parker</td>\n      <td>86</td>\n      <td>Male</td>\n      <td>AB+</td>\n      <td>2020-08-20</td>\n      <td>Boyd PLC</td>\n      <td>Aetna</td>\n      <td>22522.363385</td>\n      <td>180</td>\n      <td>...</td>\n      <td>Aspirin</td>\n      <td>Abnormal</td>\n      <td>1938-01-22</td>\n      <td>False</td>\n      <td>False</td>\n      <td>MATERNITY</td>\n      <td>Day Patient</td>\n      <td>[Labour and Delivery, Scheduled Caesarean Sect...</td>\n      <td>[Ultrasound, Blood tests, Glucose tolerance te...</td>\n      <td>Dr. Daniel Maxwell</td>\n    </tr>\n    <tr>\n      <th>...</th>\n      <td>...</td>\n      <td>...</td>\n      <td>...</td>\n      <td>...</td>\n      <td>...</td>\n      <td>...</td>\n      <td>...</td>\n      <td>...</td>\n      <td>...</td>\n      <td>...</td>\n      <td>...</td>\n      <td>...</td>\n      <td>...</td>\n      <td>...</td>\n      <td>...</td>\n      <td>...</td>\n      <td>...</td>\n      <td>...</td>\n      <td>...</td>\n      <td>...</td>\n      <td>...</td>\n    </tr>\n    <tr>\n      <th>994</th>\n      <td>ELECTIVE</td>\n      <td>Thomas Berry</td>\n      <td>30</td>\n      <td>Female</td>\n      <td>A-</td>\n      <td>2021-12-05</td>\n      <td>Flores Group</td>\n      <td>Cigna</td>\n      <td>35807.012158</td>\n      <td>419</td>\n      <td>...</td>\n      <td>Ibuprofen</td>\n      <td>Inconclusive</td>\n      <td>1993-12-13</td>\n      <td>True</td>\n      <td>False</td>\n      <td>MATERNITY</td>\n      <td>Day Patient</td>\n      <td>[Labour and Delivery, Scheduled Caesarean Sect...</td>\n      <td>[Ultrasound, Blood tests, Glucose tolerance te...</td>\n      <td>Dr. Daniel Maxwell</td>\n    </tr>\n    <tr>\n      <th>995</th>\n      <td>ELECTIVE</td>\n      <td>Thomas Berry</td>\n      <td>30</td>\n      <td>Female</td>\n      <td>A-</td>\n      <td>2021-12-05</td>\n      <td>Flores Group</td>\n      <td>Cigna</td>\n      <td>35807.012158</td>\n      <td>419</td>\n      <td>...</td>\n      <td>Ibuprofen</td>\n      <td>Inconclusive</td>\n      <td>1993-12-13</td>\n      <td>True</td>\n      <td>False</td>\n      <td>MATERNITY</td>\n      <td>Outpatient</td>\n      <td>[Labour and Delivery, Scheduled Caesarean Sect...</td>\n      <td>[Ultrasound, Blood tests, Glucose tolerance te...</td>\n      <td>Dr. James Hanson</td>\n    </tr>\n    <tr>\n      <th>996</th>\n      <td>ELECTIVE</td>\n      <td>Crystal Wright</td>\n      <td>33</td>\n      <td>Male</td>\n      <td>B-</td>\n      <td>2023-10-11</td>\n      <td>Roman, Ruiz and Cox</td>\n      <td>Aetna</td>\n      <td>3414.135042</td>\n      <td>243</td>\n      <td>...</td>\n      <td>Aspirin</td>\n      <td>Normal</td>\n      <td>1990-10-27</td>\n      <td>False</td>\n      <td>False</td>\n      <td>MATERNITY</td>\n      <td>Inpatient</td>\n      <td>[Labour and Delivery, Scheduled Caesarean Sect...</td>\n      <td>[Ultrasound, Blood tests, Glucose tolerance te...</td>\n      <td>Dr. Ross Greene</td>\n    </tr>\n    <tr>\n      <th>997</th>\n      <td>ELECTIVE</td>\n      <td>Crystal Wright</td>\n      <td>33</td>\n      <td>Male</td>\n      <td>B-</td>\n      <td>2023-10-11</td>\n      <td>Roman, Ruiz and Cox</td>\n      <td>Aetna</td>\n      <td>3414.135042</td>\n      <td>243</td>\n      <td>...</td>\n      <td>Aspirin</td>\n      <td>Normal</td>\n      <td>1990-10-27</td>\n      <td>False</td>\n      <td>False</td>\n      <td>MATERNITY</td>\n      <td>Day Patient</td>\n      <td>[Labour and Delivery, Scheduled Caesarean Sect...</td>\n      <td>[Ultrasound, Blood tests, Glucose tolerance te...</td>\n      <td>Dr. Daniel Maxwell</td>\n    </tr>\n    <tr>\n      <th>998</th>\n      <td>ELECTIVE</td>\n      <td>Crystal Wright</td>\n      <td>33</td>\n      <td>Male</td>\n      <td>B-</td>\n      <td>2023-10-11</td>\n      <td>Roman, Ruiz and Cox</td>\n      <td>Aetna</td>\n      <td>3414.135042</td>\n      <td>243</td>\n      <td>...</td>\n      <td>Aspirin</td>\n      <td>Normal</td>\n      <td>1990-10-27</td>\n      <td>False</td>\n      <td>False</td>\n      <td>MATERNITY</td>\n      <td>Outpatient</td>\n      <td>[Labour and Delivery, Scheduled Caesarean Sect...</td>\n      <td>[Ultrasound, Blood tests, Glucose tolerance te...</td>\n      <td>Dr. James Hanson</td>\n    </tr>\n  </tbody>\n</table>\n<p>999 rows × 21 columns</p>\n</div>"
     },
     "metadata": {},
     "output_type": "display_data"
    }
   ],
   "source": [
    "\"\"\"\n",
    "STEP 2 \n",
    "    Create a list of admission_types randomly assign this to the original patient in the original data set, \n",
    "    whilst dropping the original admission_type column. Then join with mapping_df on top_level_admission col to give access to possible \n",
    "    conditions, mappings and so on.\n",
    "\"\"\"\n",
    "admission_type_names = [member.name for member in AdmissionTypes]\n",
    "\n",
    "print(admission_type_names)\n",
    "\n",
    "keys_array = array([lit(name) for name in admission_type_names])\n",
    "\n",
    "# Define constants and conditions\n",
    "female_only = [\"MATERNITY\", 'obstetrics']\n",
    "is_female = lower(col('gender')) == 'female'\n",
    "is_pediatric = col(\"Age\") < 18\n",
    "is_geriatric = (col(\"Age\") >= 65) & (col(\"sub_level_admission\") == \"GERIATRICS\")\n",
    "\n",
    "df = (df.withColumn(\"top_level_admission\", keys_array[floor(rand() * len(admission_type_names))]).drop(\"admission_type\")\n",
    "        .withColumn(\"is_female\", is_female)\n",
    "        .withColumn(\"is_pediatric\", is_pediatric)\n",
    "        .drop(\"doctor\", \"medical_condition\", \"test_results\", \"medication\")\n",
    "      )\n",
    "get_row_count(df, True)\n",
    "df = df.join(mapping_df, \"top_level_admission\", \"inner\")\n",
    "get_row_count(df, True)\n",
    "display_df(df, 999)"
   ],
   "metadata": {
    "collapsed": false,
    "ExecuteTime": {
     "end_time": "2024-02-25T09:40:48.043802Z",
     "start_time": "2024-02-25T09:40:39.345862Z"
    }
   },
   "id": "b51112bb4b4cff7a"
  },
  {
   "cell_type": "code",
   "execution_count": 11,
   "outputs": [],
   "source": [
    "\"\"\"\n",
    "STEP 3 \n",
    "    Create a rowq ranking using a unique cols, created from stay_name and unique_id. \n",
    "    Verification done below. \n",
    "    \n",
    "\"\"\"\n",
    "\n",
    "df =  df.withColumn('stay_name', \n",
    "                   when(col('stay_type') == 'out_patient', concat(col('name'), lit('_out_patient')))\n",
    "                   .when(col('stay_type') == 'inpatient', concat(col('name'), lit('_inpatient')))\n",
    "                   .when(col('stay_type') == 'day_patient', concat(col('name'), lit('_day_patient')))\n",
    "                   .otherwise(col('name'))\n",
    "                  ).withColumn(\"unique_id\", concat_ws(\"_\", \"name\", date_format(\"DOB\", \"yyyyMMdd\")))\n",
    "\n",
    "\n",
    "# Define a window specification that partitions data by 'top_level_admission' (or another unique patient identifier if needed)\n",
    "windowSpec = Window.partitionBy('stay_name', 'unique_id').orderBy(rand())\n",
    "\n",
    "# Assign row numbers within each partition in a random order\n",
    "ranked_df = df.withColumn(\"row_num\", row_number().over(windowSpec))\n"
   ],
   "metadata": {
    "collapsed": false,
    "ExecuteTime": {
     "end_time": "2024-02-25T09:40:48.261463Z",
     "start_time": "2024-02-25T09:40:48.036027Z"
    }
   },
   "id": "e039e0ce5ff0816d"
  },
  {
   "cell_type": "code",
   "execution_count": 12,
   "outputs": [
    {
     "name": "stderr",
     "output_type": "stream",
     "text": [
      "24/02/25 09:41:00 WARN SparkStringUtils: Truncated the string representation of a plan since it was too large. This behavior can be adjusted by setting 'spark.sql.debug.maxToStringFields'.\n"
     ]
    }
   ],
   "source": [
    "ranked_df.createGlobalTempView(\"ranked_df\")\n",
    "\n",
    "unique_dobs_df = spark.sql(\"\"\"\n",
    "WITH NameCounts AS (\n",
    "    SELECT name\n",
    "    FROM global_temp.ranked_df\n",
    ")\n",
    "\n",
    "SELECT DISTINCT r.name, r.unique_id\n",
    "FROM global_temp.ranked_df r\n",
    "JOIN NameCounts n ON r.name = n.name\n",
    "ORDER BY r.name\n",
    "LIMIT 10\n",
    "\"\"\")"
   ],
   "metadata": {
    "collapsed": false,
    "ExecuteTime": {
     "end_time": "2024-02-25T09:41:00.689032Z",
     "start_time": "2024-02-25T09:41:00.353722Z"
    }
   },
   "id": "e16046564d50a89a"
  },
  {
   "cell_type": "code",
   "execution_count": 13,
   "outputs": [
    {
     "name": "stderr",
     "output_type": "stream",
     "text": [
      "                                                                                \r"
     ]
    }
   ],
   "source": [
    "# COSTLY WAY TO VERIFY THAT THE RANK WORKS BELOW....  due to .collect() and .count() in verify_ranking_counts() function\n",
    "\n",
    "# Example usage:\n",
    "unique_names = [row['name'] for row in unique_dobs_df.select(\"name\").collect()]\n",
    "unique_ids = [row['unique_id'] for row in unique_dobs_df.select(\"unique_id\").collect()]\n",
    "verify_ranking_counts(df, ranked_df, unique_names, unique_ids)\n",
    "\n",
    "# this function is faster than above\n",
    "verify_ranking(df, ranked_df)\n"
   ],
   "metadata": {
    "collapsed": false,
    "ExecuteTime": {
     "end_time": "2024-02-25T09:41:15.997496Z",
     "start_time": "2024-02-25T09:41:01.685906Z"
    }
   },
   "id": "e8a7e1a934ab2401"
  },
  {
   "cell_type": "code",
   "execution_count": 14,
   "outputs": [],
   "source": [
    "\"\"\"\n",
    "Step 4: \n",
    "    Sort out geriatrics data and verify that individuals are not geriatrics \n",
    "\"\"\"\n",
    "ranked_df = ranked_df.withColumn(\"is_geriatric\", is_geriatric)\n",
    "\n",
    "not_geriatric_df = ranked_df.where((col('sub_level_admission') == \"GERIATRICS\") &( col(\"is_geriatric\") == False))\n",
    "\n",
    "filtered_df = remove_data(ranked_df, not_geriatric_df, (col('sub_level_admission') == \"GERIATRICS\") ,  ( col(\"is_geriatric\") == False))\n"
   ],
   "metadata": {
    "collapsed": false,
    "ExecuteTime": {
     "end_time": "2024-02-25T09:41:16.858516Z",
     "start_time": "2024-02-25T09:41:16.000818Z"
    }
   },
   "id": "9746b1d222d3d1ea"
  },
  {
   "cell_type": "code",
   "execution_count": 15,
   "outputs": [],
   "source": [
    "not_female_df = filtered_df.where((col(\"sub_level_admission\").isin(female_only)) & (col(\"is_female\") == False))\n",
    "filtered_df_female = remove_data(filtered_df, not_female_df, (col(\"gender\") == \"Male\"),  (col(\"sub_level_admission\").isin(female_only)))\n"
   ],
   "metadata": {
    "collapsed": false,
    "ExecuteTime": {
     "end_time": "2024-02-25T09:41:20.733652Z",
     "start_time": "2024-02-25T09:41:18.863193Z"
    }
   },
   "id": "d7c1ee011b044991"
  },
  {
   "cell_type": "code",
   "execution_count": 16,
   "outputs": [],
   "source": [
    "# filter pediatric patients who cannot be pregnant (based on legal age in the UK, 16) No assumption made an individual cannot choose to get pregnant before this age. \n",
    "# upper age bound defined  here: https://www.ncbi.nlm.nih.gov/pmc/articles/PMC4822427/#:~:text=Menopause%20typically%20occurs%20between%2045,reproducing%20many%20years%20before%20menopause.\n",
    "# between 45 and 55 upper bounding will be 50. # Possiblilty to include outliers in a new func in the future.\n",
    "under16_female_df = filtered_df_female.where((col(\"Age\") < 16) &\n",
    "                                             (col(\"Age\") <= 50) &\n",
    "                                             (col(\"sub_level_admission\") == \"MATERNITY\")\n",
    "                                             ).orderBy(\"Age\")"
   ],
   "metadata": {
    "collapsed": false,
    "ExecuteTime": {
     "end_time": "2024-02-25T09:41:21.922899Z",
     "start_time": "2024-02-25T09:41:21.873759Z"
    }
   },
   "id": "630396c288fa291b"
  },
  {
   "cell_type": "code",
   "execution_count": 17,
   "outputs": [],
   "source": [
    "df = remove_data(filtered_df_female, under16_female_df, (col(\"sub_level_admission\") == \"MATERNITY\"),\n",
    "                 (col(\"Age\") < 16) & (col(\"Age\") > 50))\n",
    "\n"
   ],
   "metadata": {
    "collapsed": false,
    "ExecuteTime": {
     "end_time": "2024-02-25T09:41:28.277192Z",
     "start_time": "2024-02-25T09:41:26.824357Z"
    }
   },
   "id": "cc11c7ec6b0a65"
  },
  {
   "cell_type": "code",
   "execution_count": 18,
   "outputs": [],
   "source": [
    "\n",
    "split_col = split(df['name'], ' ')\n",
    "\n",
    "df_renamed = (df.withColumn('name', \n",
    "                    when(size(split_col) == 4, concat(split_col.getItem(1).substr(1, 1), lit('. '), split_col.getItem(2).substr(1, 1), lit('. '), split_col.getItem(3)))\n",
    "                    .when(size(split_col) == 3, concat(split_col.getItem(1).substr(1, 1), lit('. '), split_col.getItem(2)))\n",
    "                    .otherwise(\n",
    "                        concat(split_col.getItem(0).substr(1, 1), lit('. '), split_col.getItem(1))\n",
    "                               )\n",
    "                    )\n",
    "      )\n"
   ],
   "metadata": {
    "collapsed": false,
    "ExecuteTime": {
     "end_time": "2024-02-25T09:41:33.417014Z",
     "start_time": "2024-02-25T09:41:33.336782Z"
    }
   },
   "id": "d883931ab7588b0d"
  },
  {
   "cell_type": "code",
   "execution_count": null,
   "outputs": [],
   "source": [
    "df_renamed.show()"
   ],
   "metadata": {
    "collapsed": false
   },
   "id": "e3bb25e7bfae988"
  },
  {
   "cell_type": "code",
   "execution_count": 26,
   "outputs": [
    {
     "name": "stderr",
     "output_type": "stream",
     "text": [
      "                                                                                \r"
     ]
    },
    {
     "name": "stdout",
     "output_type": "stream",
     "text": [
      "+-------+----------+---+------+----------+-----------------+--------------+-------------------+--------------------+--------------------+--------------------+--------------------+--------+-----------+------------------+------------------+-----------+---------+------------+------------+------------+-------+--------------------+\n",
      "|   name|       DOB|Age|gender|blood_type|date_of_admission|discharge_date|top_level_admission| sub_level_admission|      possible_tests|          conditions|              doctor|hospital|room_number|insurance_provider|    billing_amount|  stay_type|is_female|is_geriatric|is_pediatric|   stay_name|row_num|           unique_id|\n",
      "+-------+----------+---+------+----------+-----------------+--------------+-------------------+--------------------+--------------------+--------------------+--------------------+--------+-----------+------------------+------------------+-----------+---------+------------+------------+------------+-------+--------------------+\n",
      "|A. Lamb|2005-12-08| 18|  Male|        A+|       2023-08-24|    2023-09-16|  HOSPITAL_REFERRAL|          NEPHROLOGY|[Chronic Kidney D...|[Blood tests (ren...|  Dr. Nicole Trevino|Diaz PLC|        282|  UnitedHealthcare|34753.239049473814| Outpatient|    false|       false|       false|Abigail Lamb|      2|Abigail Lamb_2005...|\n",
      "|A. Lamb|2005-12-08| 18|  Male|        A+|       2023-08-24|    2023-09-16|  HOSPITAL_REFERRAL|          NEPHROLOGY|[Chronic Kidney D...|[Blood tests (ren...|      Dr. Dana Moore|Diaz PLC|        282|  UnitedHealthcare|34753.239049473814|Day Patient|    false|       false|       false|Abigail Lamb|      3|Abigail Lamb_2005...|\n",
      "|A. Lamb|2005-12-08| 18|  Male|        A+|       2023-08-24|    2023-09-16|  HOSPITAL_REFERRAL|          NEPHROLOGY|[Chronic Kidney D...|[Blood tests (ren...|   Dr. Lori Campbell|Diaz PLC|        282|  UnitedHealthcare|34753.239049473814|  Inpatient|    false|       false|       false|Abigail Lamb|     25|Abigail Lamb_2005...|\n",
      "|A. Lamb|2005-12-08| 18|  Male|        A+|       2023-08-24|    2023-09-16|  HOSPITAL_REFERRAL|OTORHINOLARYNGOLO...|[Otitis Media (Mi...|[Hearing tests, E...|  Dr. Stacey Johnson|Diaz PLC|        282|  UnitedHealthcare|34753.239049473814| Outpatient|    false|       false|       false|Abigail Lamb|      9|Abigail Lamb_2005...|\n",
      "|A. Lamb|2005-12-08| 18|  Male|        A+|       2023-08-24|    2023-09-16|  HOSPITAL_REFERRAL|OTORHINOLARYNGOLO...|[Otitis Media (Mi...|[Hearing tests, E...|Dr. Catherine Tucker|Diaz PLC|        282|  UnitedHealthcare|34753.239049473814|Day Patient|    false|       false|       false|Abigail Lamb|     12|Abigail Lamb_2005...|\n",
      "|A. Lamb|2005-12-08| 18|  Male|        A+|       2023-08-24|    2023-09-16|  HOSPITAL_REFERRAL|OTORHINOLARYNGOLO...|[Otitis Media (Mi...|[Hearing tests, E...|  Dr. Derek Campbell|Diaz PLC|        282|  UnitedHealthcare|34753.239049473814|  Inpatient|    false|       false|       false|Abigail Lamb|     14|Abigail Lamb_2005...|\n",
      "|A. Lamb|2005-12-08| 18|  Male|        A+|       2023-08-24|    2023-09-16|  HOSPITAL_REFERRAL|          HEMATOLOGY|     [No conditions]|[Full Blood Count...|Dr. Christopher B...|Diaz PLC|        282|  UnitedHealthcare|34753.239049473814|  Inpatient|    false|       false|       false|Abigail Lamb|     20|Abigail Lamb_2005...|\n",
      "|A. Lamb|2005-12-08| 18|  Male|        A+|       2023-08-24|    2023-09-16|  HOSPITAL_REFERRAL|          HEMATOLOGY|     [No conditions]|[Full Blood Count...|        Dr. Bryan Ho|Diaz PLC|        282|  UnitedHealthcare|34753.239049473814| Outpatient|    false|       false|       false|Abigail Lamb|     22|Abigail Lamb_2005...|\n",
      "|A. Lamb|2005-12-08| 18|  Male|        A+|       2023-08-24|    2023-09-16|  HOSPITAL_REFERRAL|          HEMATOLOGY|     [No conditions]|[Full Blood Count...|     Dr. Ashley Kidd|Diaz PLC|        282|  UnitedHealthcare|34753.239049473814|Day Patient|    false|       false|       false|Abigail Lamb|     27|Abigail Lamb_2005...|\n",
      "|A. Lamb|2005-12-08| 18|  Male|        A+|       2023-08-24|    2023-09-16|  HOSPITAL_REFERRAL|          CARDIOLOGY|     [No conditions]|[ECG, Echocardiog...| Dr. Felicia Johnson|Diaz PLC|        282|  UnitedHealthcare|34753.239049473814|  Inpatient|    false|       false|       false|Abigail Lamb|      8|Abigail Lamb_2005...|\n",
      "|A. Lamb|2005-12-08| 18|  Male|        A+|       2023-08-24|    2023-09-16|  HOSPITAL_REFERRAL|           NEUROLOGY|[Migraines, Epile...|[MRI or CT scans ...|    Dr. Brandon Vega|Diaz PLC|        282|  UnitedHealthcare|34753.239049473814|Day Patient|    false|       false|       false|Abigail Lamb|     10|Abigail Lamb_2005...|\n",
      "|A. Lamb|2005-12-08| 18|  Male|        A+|       2023-08-24|    2023-09-16|  HOSPITAL_REFERRAL|          CARDIOLOGY|     [No conditions]|[ECG, Echocardiog...|      Dr. Allen King|Diaz PLC|        282|  UnitedHealthcare|34753.239049473814|Day Patient|    false|       false|       false|Abigail Lamb|     15|Abigail Lamb_2005...|\n",
      "|A. Lamb|2005-12-08| 18|  Male|        A+|       2023-08-24|    2023-09-16|  HOSPITAL_REFERRAL|           NEUROLOGY|[Migraines, Epile...|[MRI or CT scans ...|  Dr. Susan Anderson|Diaz PLC|        282|  UnitedHealthcare|34753.239049473814| Outpatient|    false|       false|       false|Abigail Lamb|     28|Abigail Lamb_2005...|\n",
      "|A. Lamb|2005-12-08| 18|  Male|        A+|       2023-08-24|    2023-09-16|  HOSPITAL_REFERRAL|           NEUROLOGY|[Migraines, Epile...|[MRI or CT scans ...|     Dr. Deanna Mora|Diaz PLC|        282|  UnitedHealthcare|34753.239049473814|  Inpatient|    false|       false|       false|Abigail Lamb|     29|Abigail Lamb_2005...|\n",
      "|A. Lamb|2005-12-08| 18|  Male|        A+|       2023-08-24|    2023-09-16|  HOSPITAL_REFERRAL|             UROLOGY|     [No conditions]|[Urinalysis, Bloo...|   Dr. Stephen Moses|Diaz PLC|        282|  UnitedHealthcare|34753.239049473814| Outpatient|    false|       false|       false|Abigail Lamb|     16|Abigail Lamb_2005...|\n",
      "|A. Lamb|2005-12-08| 18|  Male|        A+|       2023-08-24|    2023-09-16|  HOSPITAL_REFERRAL|             UROLOGY|     [No conditions]|[Urinalysis, Bloo...|       Dr. Jill Hunt|Diaz PLC|        282|  UnitedHealthcare|34753.239049473814|  Inpatient|    false|       false|       false|Abigail Lamb|     21|Abigail Lamb_2005...|\n",
      "|A. Lamb|2005-12-08| 18|  Male|        A+|       2023-08-24|    2023-09-16|  HOSPITAL_REFERRAL|             UROLOGY|     [No conditions]|[Urinalysis, Bloo...|   Dr. Jennifer Hill|Diaz PLC|        282|  UnitedHealthcare|34753.239049473814|Day Patient|    false|       false|       false|Abigail Lamb|     26|Abigail Lamb_2005...|\n",
      "|A. Lamb|2005-12-08| 18|  Male|        A+|       2023-08-24|    2023-09-16|  HOSPITAL_REFERRAL|     MUSCULOSKELETAL|[Low Back Pain, T...|[X-rays, MRI Scan...|   Dr. Shannon Clark|Diaz PLC|        282|  UnitedHealthcare|34753.239049473814|  Inpatient|    false|       false|       false|Abigail Lamb|      1|Abigail Lamb_2005...|\n",
      "|A. Lamb|2005-12-08| 18|  Male|        A+|       2023-08-24|    2023-09-16|  HOSPITAL_REFERRAL|     MUSCULOSKELETAL|[Low Back Pain, T...|[X-rays, MRI Scan...|     Dr. Lance Davis|Diaz PLC|        282|  UnitedHealthcare|34753.239049473814| Outpatient|    false|       false|       false|Abigail Lamb|      6|Abigail Lamb_2005...|\n",
      "|A. Lamb|2005-12-08| 18|  Male|        A+|       2023-08-24|    2023-09-16|  HOSPITAL_REFERRAL|     MUSCULOSKELETAL|[Low Back Pain, T...|[X-rays, MRI Scan...|   Dr. Robert Watson|Diaz PLC|        282|  UnitedHealthcare|34753.239049473814|Day Patient|    false|       false|       false|Abigail Lamb|     24|Abigail Lamb_2005...|\n",
      "+-------+----------+---+------+----------+-----------------+--------------+-------------------+--------------------+--------------------+--------------------+--------------------+--------+-----------+------------------+------------------+-----------+---------+------------+------------+------------+-------+--------------------+\n"
     ]
    }
   ],
   "source": [
    "df_renamed.select([\"name\", \"DOB\", \"Age\", \"gender\", \"blood_type\", \"date_of_admission\", \"discharge_date\", \"top_level_admission\", \"sub_level_admission\", \"possible_tests\", \"conditions\", \"doctor\", \"hospital\", \"room_number\", \"insurance_provider\", \"billing_amount\", \"stay_type\", \"is_female\", \"is_geriatric\", \"is_pediatric\", \"stay_name\", \"row_num\", \"unique_id\"]).where(col(\"stay_name\") ==\"Abigail Lamb\").show()"
   ],
   "metadata": {
    "collapsed": false,
    "ExecuteTime": {
     "end_time": "2024-02-25T10:01:47.095925Z",
     "start_time": "2024-02-25T10:01:44.295321Z"
    }
   },
   "id": "d88ea8c674b90792"
  },
  {
   "cell_type": "code",
   "execution_count": 27,
   "outputs": [
    {
     "name": "stderr",
     "output_type": "stream",
     "text": [
      "                                                                                \r"
     ]
    },
    {
     "name": "stdout",
     "output_type": "stream",
     "text": [
      "+-------+----------+---+------+----------+-----------------+--------------+-------------------+--------------------+--------------------+--------------------+--------------------+--------+-----------+------------------+------------------+-----------+---------+------------+------------+------------+-------+--------------------+\n",
      "|   name|       DOB|Age|gender|blood_type|date_of_admission|discharge_date|top_level_admission| sub_level_admission|      possible_tests|          conditions|              doctor|hospital|room_number|insurance_provider|    billing_amount|  stay_type|is_female|is_geriatric|is_pediatric|   stay_name|row_num|           unique_id|\n",
      "+-------+----------+---+------+----------+-----------------+--------------+-------------------+--------------------+--------------------+--------------------+--------------------+--------+-----------+------------------+------------------+-----------+---------+------------+------------+------------+-------+--------------------+\n",
      "|A. Lamb|2005-12-08| 18|  Male|        A+|       2023-08-24|    2023-09-16|  HOSPITAL_REFERRAL|         RESPIRATORY|[Asthma, Chronic ...|[Pulmonary functi...|  Dr. Carla Townsend|Diaz PLC|        282|  UnitedHealthcare|34753.239049473814|  Inpatient|    false|       false|       false|Abigail Lamb|      1|Abigail Lamb_2005...|\n",
      "|A. Lamb|2005-12-08| 18|  Male|        A+|       2023-08-24|    2023-09-16|  HOSPITAL_REFERRAL|          CARDIOLOGY|     [No conditions]|[ECG, Echocardiog...| Dr. Felicia Johnson|Diaz PLC|        282|  UnitedHealthcare|34753.239049473814|  Inpatient|    false|       false|       false|Abigail Lamb|      2|Abigail Lamb_2005...|\n",
      "|A. Lamb|2005-12-08| 18|  Male|        A+|       2023-08-24|    2023-09-16|  HOSPITAL_REFERRAL|          CARDIOLOGY|     [No conditions]|[ECG, Echocardiog...|      Dr. Allen King|Diaz PLC|        282|  UnitedHealthcare|34753.239049473814|Day Patient|    false|       false|       false|Abigail Lamb|      3|Abigail Lamb_2005...|\n",
      "|A. Lamb|2005-12-08| 18|  Male|        A+|       2023-08-24|    2023-09-16|  HOSPITAL_REFERRAL|           NEUROLOGY|[Migraines, Epile...|[MRI or CT scans ...|     Dr. Deanna Mora|Diaz PLC|        282|  UnitedHealthcare|34753.239049473814|  Inpatient|    false|       false|       false|Abigail Lamb|      4|Abigail Lamb_2005...|\n",
      "|A. Lamb|2005-12-08| 18|  Male|        A+|       2023-08-24|    2023-09-16|  HOSPITAL_REFERRAL|            ONCOLOGY|[Breast Cancer, L...|[Biopsies, MRI, U...|   Dr. Marcus Holmes|Diaz PLC|        282|  UnitedHealthcare|34753.239049473814|  Inpatient|    false|       false|       false|Abigail Lamb|      5|Abigail Lamb_2005...|\n",
      "|A. Lamb|2005-12-08| 18|  Male|        A+|       2023-08-24|    2023-09-16|  HOSPITAL_REFERRAL|             UROLOGY|     [No conditions]|[Urinalysis, Bloo...|   Dr. Jennifer Hill|Diaz PLC|        282|  UnitedHealthcare|34753.239049473814|Day Patient|    false|       false|       false|Abigail Lamb|      6|Abigail Lamb_2005...|\n",
      "|A. Lamb|2005-12-08| 18|  Male|        A+|       2023-08-24|    2023-09-16|  HOSPITAL_REFERRAL|     MUSCULOSKELETAL|[Low Back Pain, T...|[X-rays, MRI Scan...|     Dr. Lance Davis|Diaz PLC|        282|  UnitedHealthcare|34753.239049473814| Outpatient|    false|       false|       false|Abigail Lamb|      7|Abigail Lamb_2005...|\n",
      "|A. Lamb|2005-12-08| 18|  Male|        A+|       2023-08-24|    2023-09-16|  HOSPITAL_REFERRAL|         RESPIRATORY|[Asthma, Chronic ...|[Pulmonary functi...|   Dr. Hector Murphy|Diaz PLC|        282|  UnitedHealthcare|34753.239049473814| Outpatient|    false|       false|       false|Abigail Lamb|      8|Abigail Lamb_2005...|\n",
      "|A. Lamb|2005-12-08| 18|  Male|        A+|       2023-08-24|    2023-09-16|  HOSPITAL_REFERRAL|GASTROINTESTINAL_...|[Gastroesophageal...|          [No tests]|  Dr. Jocelyn Walker|Diaz PLC|        282|  UnitedHealthcare|34753.239049473814|Day Patient|    false|       false|       false|Abigail Lamb|      9|Abigail Lamb_2005...|\n",
      "|A. Lamb|2005-12-08| 18|  Male|        A+|       2023-08-24|    2023-09-16|  HOSPITAL_REFERRAL|            ONCOLOGY|[Breast Cancer, L...|[Biopsies, MRI, U...|   Dr. Nicole Wagner|Diaz PLC|        282|  UnitedHealthcare|34753.239049473814|Day Patient|    false|       false|       false|Abigail Lamb|     10|Abigail Lamb_2005...|\n",
      "|A. Lamb|2005-12-08| 18|  Male|        A+|       2023-08-24|    2023-09-16|  HOSPITAL_REFERRAL|           NEUROLOGY|[Migraines, Epile...|[MRI or CT scans ...|    Dr. Brandon Vega|Diaz PLC|        282|  UnitedHealthcare|34753.239049473814|Day Patient|    false|       false|       false|Abigail Lamb|     11|Abigail Lamb_2005...|\n",
      "|A. Lamb|2005-12-08| 18|  Male|        A+|       2023-08-24|    2023-09-16|  HOSPITAL_REFERRAL|          HEMATOLOGY|     [No conditions]|[Full Blood Count...|     Dr. Ashley Kidd|Diaz PLC|        282|  UnitedHealthcare|34753.239049473814|Day Patient|    false|       false|       false|Abigail Lamb|     12|Abigail Lamb_2005...|\n",
      "|A. Lamb|2005-12-08| 18|  Male|        A+|       2023-08-24|    2023-09-16|  HOSPITAL_REFERRAL|             UROLOGY|     [No conditions]|[Urinalysis, Bloo...|       Dr. Jill Hunt|Diaz PLC|        282|  UnitedHealthcare|34753.239049473814|  Inpatient|    false|       false|       false|Abigail Lamb|     13|Abigail Lamb_2005...|\n",
      "|A. Lamb|2005-12-08| 18|  Male|        A+|       2023-08-24|    2023-09-16|  HOSPITAL_REFERRAL|           NEUROLOGY|[Migraines, Epile...|[MRI or CT scans ...|  Dr. Susan Anderson|Diaz PLC|        282|  UnitedHealthcare|34753.239049473814| Outpatient|    false|       false|       false|Abigail Lamb|     14|Abigail Lamb_2005...|\n",
      "|A. Lamb|2005-12-08| 18|  Male|        A+|       2023-08-24|    2023-09-16|  HOSPITAL_REFERRAL|            ONCOLOGY|[Breast Cancer, L...|[Biopsies, MRI, U...|Dr. Jeremiah Hawkins|Diaz PLC|        282|  UnitedHealthcare|34753.239049473814| Outpatient|    false|       false|       false|Abigail Lamb|     15|Abigail Lamb_2005...|\n",
      "|A. Lamb|2005-12-08| 18|  Male|        A+|       2023-08-24|    2023-09-16|  HOSPITAL_REFERRAL|          NEPHROLOGY|[Chronic Kidney D...|[Blood tests (ren...|   Dr. Lori Campbell|Diaz PLC|        282|  UnitedHealthcare|34753.239049473814|  Inpatient|    false|       false|       false|Abigail Lamb|     16|Abigail Lamb_2005...|\n",
      "|A. Lamb|2005-12-08| 18|  Male|        A+|       2023-08-24|    2023-09-16|  HOSPITAL_REFERRAL|     MUSCULOSKELETAL|[Low Back Pain, T...|[X-rays, MRI Scan...|   Dr. Shannon Clark|Diaz PLC|        282|  UnitedHealthcare|34753.239049473814|  Inpatient|    false|       false|       false|Abigail Lamb|     17|Abigail Lamb_2005...|\n",
      "|A. Lamb|2005-12-08| 18|  Male|        A+|       2023-08-24|    2023-09-16|  HOSPITAL_REFERRAL|          HEMATOLOGY|     [No conditions]|[Full Blood Count...|        Dr. Bryan Ho|Diaz PLC|        282|  UnitedHealthcare|34753.239049473814| Outpatient|    false|       false|       false|Abigail Lamb|     18|Abigail Lamb_2005...|\n",
      "|A. Lamb|2005-12-08| 18|  Male|        A+|       2023-08-24|    2023-09-16|  HOSPITAL_REFERRAL|OTORHINOLARYNGOLO...|[Otitis Media (Mi...|[Hearing tests, E...|Dr. Catherine Tucker|Diaz PLC|        282|  UnitedHealthcare|34753.239049473814|Day Patient|    false|       false|       false|Abigail Lamb|     19|Abigail Lamb_2005...|\n",
      "|A. Lamb|2005-12-08| 18|  Male|        A+|       2023-08-24|    2023-09-16|  HOSPITAL_REFERRAL|          HEMATOLOGY|     [No conditions]|[Full Blood Count...|Dr. Christopher B...|Diaz PLC|        282|  UnitedHealthcare|34753.239049473814|  Inpatient|    false|       false|       false|Abigail Lamb|     20|Abigail Lamb_2005...|\n",
      "+-------+----------+---+------+----------+-----------------+--------------+-------------------+--------------------+--------------------+--------------------+--------------------+--------+-----------+------------------+------------------+-----------+---------+------------+------------+------------+-------+--------------------+\n"
     ]
    }
   ],
   "source": [
    "df_new = df_renamed.drop(\"row_num\")\n",
    "\n",
    "windowSpec = Window.partitionBy('stay_name', 'unique_id').orderBy(rand())\n",
    "\n",
    "# Assign row numbers within each partition in a random order\n",
    "df_new_part = df_new.withColumn(\"row_num\", row_number().over(windowSpec))\n",
    "\n",
    "df_new_part.select([\"name\", \"DOB\", \"Age\", \"gender\", \"blood_type\", \"date_of_admission\", \"discharge_date\", \"top_level_admission\", \"sub_level_admission\", \"possible_tests\", \"conditions\", \"doctor\", \"hospital\", \"room_number\", \"insurance_provider\", \"billing_amount\", \"stay_type\", \"is_female\", \"is_geriatric\", \"is_pediatric\", \"stay_name\", \"row_num\", \"unique_id\"]).where(col(\"stay_name\") ==\"Abigail Lamb\").show() "
   ],
   "metadata": {
    "collapsed": false,
    "ExecuteTime": {
     "end_time": "2024-02-25T10:07:16.875100Z",
     "start_time": "2024-02-25T10:07:12.157330Z"
    }
   },
   "id": "bc7aa0cdf857cd7c"
  },
  {
   "cell_type": "code",
   "execution_count": 20,
   "outputs": [
    {
     "data": {
      "text/plain": "['sub_level_admission',\n 'DOB',\n 'top_level_admission',\n 'name',\n 'Age',\n 'gender',\n 'blood_type',\n 'date_of_admission',\n 'hospital',\n 'insurance_provider',\n 'billing_amount',\n 'room_number',\n 'discharge_date',\n 'medication',\n 'test_results',\n 'is_female',\n 'is_pediatric',\n 'stay_type',\n 'possible_tests',\n 'conditions',\n 'doctor',\n 'stay_name',\n 'unique_id',\n 'row_num',\n 'is_geriatric']"
     },
     "execution_count": 20,
     "metadata": {},
     "output_type": "execute_result"
    }
   ],
   "source": [
    "[\"name\", \"DOB\", \"Age\", \"gender\", \"blood_type\", \"date_of_admission\", \"discharge_date\", \"top_level_admission\", \"sub_level_admission\", \"possible_tests\", \"conditions\", \"doctor\", \"hospital\", \"room_number\", \"insurance_provider\", \"billing_amount\", \"stay_type\", \"is_female\", \"is_geriatric\" \"is_pediatric\", \"stay_name\", \"row_num\", \"unique_id\"]"
   ],
   "metadata": {
    "collapsed": false,
    "ExecuteTime": {
     "end_time": "2024-02-25T09:50:34.496951Z",
     "start_time": "2024-02-25T09:50:34.472610Z"
    }
   },
   "id": "5763dee08b19e6d5"
  },
  {
   "cell_type": "code",
   "execution_count": 18,
   "outputs": [],
   "source": [
    "# TODO:  \n",
    "# medical condition to be  chosen \n",
    "# tests to be chosen\n",
    "# admission date to be checked again dob,  \n",
    "# TODO filter on is pediatric, geriatric and is_female to be done here and same people with dob? needs  to be considered \n",
    "# drop stay_name and unique_id \n"
   ],
   "metadata": {
    "collapsed": false,
    "ExecuteTime": {
     "end_time": "2024-02-24T16:42:24.163739Z",
     "start_time": "2024-02-24T16:42:24.150418Z"
    }
   },
   "id": "a79379063057bfee"
  },
  {
   "cell_type": "code",
   "execution_count": 19,
   "outputs": [],
   "source": [
    "# Filter to keep only the top-ranked row within each partition\n",
    "ranked_df = filtered_df_female"
   ],
   "metadata": {
    "collapsed": false,
    "ExecuteTime": {
     "end_time": "2024-02-24T16:42:24.856262Z",
     "start_time": "2024-02-24T16:42:24.847937Z"
    }
   },
   "id": "4879749b20208b88"
  },
  {
   "cell_type": "code",
   "execution_count": 20,
   "outputs": [
    {
     "name": "stderr",
     "output_type": "stream",
     "text": [
      "                                                                                \r"
     ]
    },
    {
     "name": "stdout",
     "output_type": "stream",
     "text": [
      "+-------------------+----------+-------------------+--------+---+------+----------+-----------------+-----------------+-------------+------------------+------------------+-----------+--------------+----------+------------+---------+------------+-----------+----------------------------+--------------------+------------------+------------+--------------------+-------+------------+\n",
      "|sub_level_admission|       DOB|top_level_admission|    name|Age|gender|blood_type|medical_condition|date_of_admission|     hospital|insurance_provider|    billing_amount|room_number|discharge_date|medication|test_results|is_female|is_pediatric|  stay_type|possible_tests_or_procedures|          conditions|            doctor|   stay_name|           unique_id|row_num|is_geriatric|\n",
      "+-------------------+----------+-------------------+--------+---+------+----------+-----------------+-----------------+-------------+------------------+------------------+-----------+--------------+----------+------------+---------+------------+-----------+----------------------------+--------------------+------------------+------------+--------------------+-------+------------+\n",
      "|      ENDOCRINOLOGY|1961-05-23|        GP_REFERRAL|D. Mccoy| 62|  Male|        A-|         Diabetes|       2023-07-08|Little-Tucker|  UnitedHealthcare|31587.212506815024|        406|    2023-07-17|   Aspirin|    Abnormal|    false|       false| Outpatient|        Diabetes Mellitus...|Blood tests (horm...|  Dr. Rachael Wong|Donald Mccoy|Donald Mccoy_1961...|     10|       false|\n",
      "|        PSYCHIATRIC|1961-05-23|        GP_REFERRAL|D. Mccoy| 62|  Male|        A-|         Diabetes|       2023-07-08|Little-Tucker|  UnitedHealthcare|31587.212506815024|        406|    2023-07-17|   Aspirin|    Abnormal|    false|       false| Outpatient|        Depression, Anxie...|Psychological eva...|  Dr. Julia Parker|Donald Mccoy|Donald Mccoy_1961...|      2|       false|\n",
      "|        PSYCHIATRIC|1961-05-23|        GP_REFERRAL|D. Mccoy| 62|  Male|        A-|         Diabetes|       2023-07-08|Little-Tucker|  UnitedHealthcare|31587.212506815024|        406|    2023-07-17|   Aspirin|    Abnormal|    false|       false|  Inpatient|        Depression, Anxie...|Psychological eva...| Dr. Alex Carrillo|Donald Mccoy|Donald Mccoy_1961...|      3|       false|\n",
      "|        PSYCHIATRIC|1961-05-23|        GP_REFERRAL|D. Mccoy| 62|  Male|        A-|         Diabetes|       2023-07-08|Little-Tucker|  UnitedHealthcare|31587.212506815024|        406|    2023-07-17|   Aspirin|    Abnormal|    false|       false|Day Patient|        Depression, Anxie...|Psychological eva...|   Dr. Katie Duran|Donald Mccoy|Donald Mccoy_1961...|      8|       false|\n",
      "|        DERMATOLOGY|1961-05-23|        GP_REFERRAL|D. Mccoy| 62|  Male|        A-|         Diabetes|       2023-07-08|Little-Tucker|  UnitedHealthcare|31587.212506815024|        406|    2023-07-17|   Aspirin|    Abnormal|    false|       false| Outpatient|        Acne, Eczema, Pso...|Skin biopsy, Patc...|  Dr. Emily Graham|Donald Mccoy|Donald Mccoy_1961...|     12|       false|\n",
      "|   GASTROENTEROLOGY|1961-05-23|        GP_REFERRAL|D. Mccoy| 62|  Male|        A-|         Diabetes|       2023-07-08|Little-Tucker|  UnitedHealthcare|31587.212506815024|        406|    2023-07-17|   Aspirin|    Abnormal|    false|       false|  Inpatient|        Gastro-oesophagea...|Endoscopy, Colono...|  Dr. Sandra Smith|Donald Mccoy|Donald Mccoy_1961...|      1|       false|\n",
      "|   GASTROENTEROLOGY|1961-05-23|        GP_REFERRAL|D. Mccoy| 62|  Male|        A-|         Diabetes|       2023-07-08|Little-Tucker|  UnitedHealthcare|31587.212506815024|        406|    2023-07-17|   Aspirin|    Abnormal|    false|       false|Day Patient|        Gastro-oesophagea...|Endoscopy, Colono...|Dr. Taylor Johnson|Donald Mccoy|Donald Mccoy_1961...|      6|       false|\n",
      "|   GASTROENTEROLOGY|1961-05-23|        GP_REFERRAL|D. Mccoy| 62|  Male|        A-|         Diabetes|       2023-07-08|Little-Tucker|  UnitedHealthcare|31587.212506815024|        406|    2023-07-17|   Aspirin|    Abnormal|    false|       false| Outpatient|        Gastro-oesophagea...|Endoscopy, Colono...| Dr. Joseph Cooper|Donald Mccoy|Donald Mccoy_1961...|     11|       false|\n",
      "|        ORTHOPEDICS|1961-05-23|        GP_REFERRAL|D. Mccoy| 62|  Male|        A-|         Diabetes|       2023-07-08|Little-Tucker|  UnitedHealthcare|31587.212506815024|        406|    2023-07-17|   Aspirin|    Abnormal|    false|       false| Outpatient|        Osteoarthritis, R...|X-rays, MRI, CT s...|  Dr. Mathew Berry|Donald Mccoy|Donald Mccoy_1961...|      7|       false|\n",
      "|          MATERNITY|2000-02-04|           ELECTIVE|D. Mccoy| 24|Female|       AB+|           Asthma|       2022-12-25|  Sanchez Ltd|  UnitedHealthcare|26191.855680458164|        250|    2022-12-30|Penicillin|Inconclusive|     true|       false|  Inpatient|        Labour and Delive...|Ultrasound, Blood...| Dr. Jody Gonzalez|Daniel Mccoy|Daniel Mccoy_2000...|      1|       false|\n",
      "|          MATERNITY|2000-02-04|           ELECTIVE|D. Mccoy| 24|Female|       AB+|           Asthma|       2022-12-25|  Sanchez Ltd|  UnitedHealthcare|26191.855680458164|        250|    2022-12-30|Penicillin|Inconclusive|     true|       false| Outpatient|        Labour and Delive...|Ultrasound, Blood...|     Dr. Adam Beck|Daniel Mccoy|Daniel Mccoy_2000...|      2|       false|\n",
      "|          MATERNITY|2000-02-04|           ELECTIVE|D. Mccoy| 24|Female|       AB+|           Asthma|       2022-12-25|  Sanchez Ltd|  UnitedHealthcare|26191.855680458164|        250|    2022-12-30|Penicillin|Inconclusive|     true|       false|Day Patient|        Labour and Delive...|Ultrasound, Blood...|  Dr. Willie Davis|Daniel Mccoy|Daniel Mccoy_2000...|      3|       false|\n",
      "+-------------------+----------+-------------------+--------+---+------+----------+-----------------+-----------------+-------------+------------------+------------------+-----------+--------------+----------+------------+---------+------------+-----------+----------------------------+--------------------+------------------+------------+--------------------+-------+------------+\n"
     ]
    }
   ],
   "source": [
    "df_renamed.where(col(\"name\") == \"D. Mccoy\").show(n=8000)"
   ],
   "metadata": {
    "collapsed": false,
    "ExecuteTime": {
     "end_time": "2024-02-24T16:42:32.964189Z",
     "start_time": "2024-02-24T16:42:26.319132Z"
    }
   },
   "id": "2ef205bb8eadc990"
  },
  {
   "cell_type": "code",
   "execution_count": 21,
   "outputs": [
    {
     "name": "stderr",
     "output_type": "stream",
     "text": [
      "ERROR:root:KeyboardInterrupt while sending command.                 (0 + 1) / 1]\n",
      "Traceback (most recent call last):\n",
      "  File \"/Users/jacobbickerstaff/Desktop/Development/health-data-etl-kaggle/venv/lib/python3.11/site-packages/py4j/java_gateway.py\", line 1038, in send_command\n",
      "    response = connection.send_command(command)\n",
      "               ^^^^^^^^^^^^^^^^^^^^^^^^^^^^^^^^\n",
      "  File \"/Users/jacobbickerstaff/Desktop/Development/health-data-etl-kaggle/venv/lib/python3.11/site-packages/py4j/clientserver.py\", line 511, in send_command\n",
      "    answer = smart_decode(self.stream.readline()[:-1])\n",
      "                          ^^^^^^^^^^^^^^^^^^^^^^\n",
      "  File \"/Library/Frameworks/Python.framework/Versions/3.11/lib/python3.11/socket.py\", line 706, in readinto\n",
      "    return self._sock.recv_into(b)\n",
      "           ^^^^^^^^^^^^^^^^^^^^^^^\n",
      "KeyboardInterrupt\n",
      "                                                                                \r"
     ]
    },
    {
     "ename": "KeyboardInterrupt",
     "evalue": "",
     "output_type": "error",
     "traceback": [
      "\u001B[0;31m---------------------------------------------------------------------------\u001B[0m",
      "\u001B[0;31mKeyboardInterrupt\u001B[0m                         Traceback (most recent call last)",
      "Cell \u001B[0;32mIn[21], line 2\u001B[0m\n\u001B[1;32m      1\u001B[0m \u001B[38;5;28;01mfrom\u001B[39;00m \u001B[38;5;21;01mpyspark\u001B[39;00m\u001B[38;5;21;01m.\u001B[39;00m\u001B[38;5;21;01msql\u001B[39;00m\u001B[38;5;21;01m.\u001B[39;00m\u001B[38;5;21;01mtypes\u001B[39;00m \u001B[38;5;28;01mimport\u001B[39;00m StringType\n\u001B[0;32m----> 2\u001B[0m \u001B[43mget_row_count\u001B[49m\u001B[43m(\u001B[49m\u001B[43mdf\u001B[49m\u001B[43m,\u001B[49m\u001B[43m \u001B[49m\u001B[38;5;28;43;01mTrue\u001B[39;49;00m\u001B[43m)\u001B[49m\n\u001B[1;32m      3\u001B[0m df \u001B[38;5;241m=\u001B[39m df_renamed\u001B[38;5;241m.\u001B[39mselect([col(c)\u001B[38;5;241m.\u001B[39mcast(StringType())\u001B[38;5;241m.\u001B[39malias(c) \u001B[38;5;28;01mfor\u001B[39;00m c \u001B[38;5;129;01min\u001B[39;00m df\u001B[38;5;241m.\u001B[39mcolumns])\n\u001B[1;32m      4\u001B[0m df\u001B[38;5;241m.\u001B[39mrepartition(\u001B[38;5;241m1000\u001B[39m)\u001B[38;5;241m.\u001B[39mwrite\u001B[38;5;241m.\u001B[39mcsv(\u001B[38;5;124m'\u001B[39m\u001B[38;5;124m./temp_data/renamed/renamed.csv\u001B[39m\u001B[38;5;124m'\u001B[39m, mode \u001B[38;5;241m=\u001B[39m \u001B[38;5;124m'\u001B[39m\u001B[38;5;124moverwrite\u001B[39m\u001B[38;5;124m'\u001B[39m, header\u001B[38;5;241m=\u001B[39m\u001B[38;5;28;01mTrue\u001B[39;00m)\n",
      "File \u001B[0;32m~/Desktop/Development/health-data-etl-kaggle/utils/util_funcs.py:17\u001B[0m, in \u001B[0;36mget_row_count\u001B[0;34m(df, verbose)\u001B[0m\n\u001B[1;32m      9\u001B[0m \u001B[38;5;250m\u001B[39m\u001B[38;5;124;03m\"\"\"\u001B[39;00m\n\u001B[1;32m     10\u001B[0m \u001B[38;5;124;03mReturns the number of rows in a DataFrame.\u001B[39;00m\n\u001B[1;32m     11\u001B[0m \n\u001B[0;32m   (...)\u001B[0m\n\u001B[1;32m     14\u001B[0m \u001B[38;5;124;03mverbose (bool): to print the number of rows.\u001B[39;00m\n\u001B[1;32m     15\u001B[0m \u001B[38;5;124;03m\"\"\"\u001B[39;00m\n\u001B[1;32m     16\u001B[0m \u001B[38;5;28;01mif\u001B[39;00m verbose:\n\u001B[0;32m---> 17\u001B[0m     \u001B[38;5;28mprint\u001B[39m(\u001B[43mdf\u001B[49m\u001B[38;5;241;43m.\u001B[39;49m\u001B[43mcount\u001B[49m\u001B[43m(\u001B[49m\u001B[43m)\u001B[49m)\n\u001B[1;32m     18\u001B[0m \u001B[38;5;28;01mreturn\u001B[39;00m df\u001B[38;5;241m.\u001B[39mcount()\n",
      "File \u001B[0;32m~/Desktop/Development/health-data-etl-kaggle/venv/lib/python3.11/site-packages/pyspark/sql/dataframe.py:1234\u001B[0m, in \u001B[0;36mDataFrame.count\u001B[0;34m(self)\u001B[0m\n\u001B[1;32m   1211\u001B[0m \u001B[38;5;28;01mdef\u001B[39;00m \u001B[38;5;21mcount\u001B[39m(\u001B[38;5;28mself\u001B[39m) \u001B[38;5;241m-\u001B[39m\u001B[38;5;241m>\u001B[39m \u001B[38;5;28mint\u001B[39m:\n\u001B[1;32m   1212\u001B[0m \u001B[38;5;250m    \u001B[39m\u001B[38;5;124;03m\"\"\"Returns the number of rows in this :class:`DataFrame`.\u001B[39;00m\n\u001B[1;32m   1213\u001B[0m \n\u001B[1;32m   1214\u001B[0m \u001B[38;5;124;03m    .. versionadded:: 1.3.0\u001B[39;00m\n\u001B[0;32m   (...)\u001B[0m\n\u001B[1;32m   1232\u001B[0m \u001B[38;5;124;03m    3\u001B[39;00m\n\u001B[1;32m   1233\u001B[0m \u001B[38;5;124;03m    \"\"\"\u001B[39;00m\n\u001B[0;32m-> 1234\u001B[0m     \u001B[38;5;28;01mreturn\u001B[39;00m \u001B[38;5;28mint\u001B[39m(\u001B[38;5;28;43mself\u001B[39;49m\u001B[38;5;241;43m.\u001B[39;49m\u001B[43m_jdf\u001B[49m\u001B[38;5;241;43m.\u001B[39;49m\u001B[43mcount\u001B[49m\u001B[43m(\u001B[49m\u001B[43m)\u001B[49m)\n",
      "File \u001B[0;32m~/Desktop/Development/health-data-etl-kaggle/venv/lib/python3.11/site-packages/py4j/java_gateway.py:1321\u001B[0m, in \u001B[0;36mJavaMember.__call__\u001B[0;34m(self, *args)\u001B[0m\n\u001B[1;32m   1314\u001B[0m args_command, temp_args \u001B[38;5;241m=\u001B[39m \u001B[38;5;28mself\u001B[39m\u001B[38;5;241m.\u001B[39m_build_args(\u001B[38;5;241m*\u001B[39margs)\n\u001B[1;32m   1316\u001B[0m command \u001B[38;5;241m=\u001B[39m proto\u001B[38;5;241m.\u001B[39mCALL_COMMAND_NAME \u001B[38;5;241m+\u001B[39m\\\n\u001B[1;32m   1317\u001B[0m     \u001B[38;5;28mself\u001B[39m\u001B[38;5;241m.\u001B[39mcommand_header \u001B[38;5;241m+\u001B[39m\\\n\u001B[1;32m   1318\u001B[0m     args_command \u001B[38;5;241m+\u001B[39m\\\n\u001B[1;32m   1319\u001B[0m     proto\u001B[38;5;241m.\u001B[39mEND_COMMAND_PART\n\u001B[0;32m-> 1321\u001B[0m answer \u001B[38;5;241m=\u001B[39m \u001B[38;5;28;43mself\u001B[39;49m\u001B[38;5;241;43m.\u001B[39;49m\u001B[43mgateway_client\u001B[49m\u001B[38;5;241;43m.\u001B[39;49m\u001B[43msend_command\u001B[49m\u001B[43m(\u001B[49m\u001B[43mcommand\u001B[49m\u001B[43m)\u001B[49m\n\u001B[1;32m   1322\u001B[0m return_value \u001B[38;5;241m=\u001B[39m get_return_value(\n\u001B[1;32m   1323\u001B[0m     answer, \u001B[38;5;28mself\u001B[39m\u001B[38;5;241m.\u001B[39mgateway_client, \u001B[38;5;28mself\u001B[39m\u001B[38;5;241m.\u001B[39mtarget_id, \u001B[38;5;28mself\u001B[39m\u001B[38;5;241m.\u001B[39mname)\n\u001B[1;32m   1325\u001B[0m \u001B[38;5;28;01mfor\u001B[39;00m temp_arg \u001B[38;5;129;01min\u001B[39;00m temp_args:\n",
      "File \u001B[0;32m~/Desktop/Development/health-data-etl-kaggle/venv/lib/python3.11/site-packages/py4j/java_gateway.py:1038\u001B[0m, in \u001B[0;36mGatewayClient.send_command\u001B[0;34m(self, command, retry, binary)\u001B[0m\n\u001B[1;32m   1036\u001B[0m connection \u001B[38;5;241m=\u001B[39m \u001B[38;5;28mself\u001B[39m\u001B[38;5;241m.\u001B[39m_get_connection()\n\u001B[1;32m   1037\u001B[0m \u001B[38;5;28;01mtry\u001B[39;00m:\n\u001B[0;32m-> 1038\u001B[0m     response \u001B[38;5;241m=\u001B[39m \u001B[43mconnection\u001B[49m\u001B[38;5;241;43m.\u001B[39;49m\u001B[43msend_command\u001B[49m\u001B[43m(\u001B[49m\u001B[43mcommand\u001B[49m\u001B[43m)\u001B[49m\n\u001B[1;32m   1039\u001B[0m     \u001B[38;5;28;01mif\u001B[39;00m binary:\n\u001B[1;32m   1040\u001B[0m         \u001B[38;5;28;01mreturn\u001B[39;00m response, \u001B[38;5;28mself\u001B[39m\u001B[38;5;241m.\u001B[39m_create_connection_guard(connection)\n",
      "File \u001B[0;32m~/Desktop/Development/health-data-etl-kaggle/venv/lib/python3.11/site-packages/py4j/clientserver.py:511\u001B[0m, in \u001B[0;36mClientServerConnection.send_command\u001B[0;34m(self, command)\u001B[0m\n\u001B[1;32m    509\u001B[0m \u001B[38;5;28;01mtry\u001B[39;00m:\n\u001B[1;32m    510\u001B[0m     \u001B[38;5;28;01mwhile\u001B[39;00m \u001B[38;5;28;01mTrue\u001B[39;00m:\n\u001B[0;32m--> 511\u001B[0m         answer \u001B[38;5;241m=\u001B[39m smart_decode(\u001B[38;5;28mself\u001B[39m\u001B[38;5;241m.\u001B[39mstream\u001B[38;5;241m.\u001B[39mreadline()[:\u001B[38;5;241m-\u001B[39m\u001B[38;5;241m1\u001B[39m])\n\u001B[1;32m    512\u001B[0m         logger\u001B[38;5;241m.\u001B[39mdebug(\u001B[38;5;124m\"\u001B[39m\u001B[38;5;124mAnswer received: \u001B[39m\u001B[38;5;132;01m{0}\u001B[39;00m\u001B[38;5;124m\"\u001B[39m\u001B[38;5;241m.\u001B[39mformat(answer))\n\u001B[1;32m    513\u001B[0m         \u001B[38;5;66;03m# Happens when a the other end is dead. There might be an empty\u001B[39;00m\n\u001B[1;32m    514\u001B[0m         \u001B[38;5;66;03m# answer before the socket raises an error.\u001B[39;00m\n",
      "File \u001B[0;32m/Library/Frameworks/Python.framework/Versions/3.11/lib/python3.11/socket.py:706\u001B[0m, in \u001B[0;36mSocketIO.readinto\u001B[0;34m(self, b)\u001B[0m\n\u001B[1;32m    704\u001B[0m \u001B[38;5;28;01mwhile\u001B[39;00m \u001B[38;5;28;01mTrue\u001B[39;00m:\n\u001B[1;32m    705\u001B[0m     \u001B[38;5;28;01mtry\u001B[39;00m:\n\u001B[0;32m--> 706\u001B[0m         \u001B[38;5;28;01mreturn\u001B[39;00m \u001B[38;5;28;43mself\u001B[39;49m\u001B[38;5;241;43m.\u001B[39;49m\u001B[43m_sock\u001B[49m\u001B[38;5;241;43m.\u001B[39;49m\u001B[43mrecv_into\u001B[49m\u001B[43m(\u001B[49m\u001B[43mb\u001B[49m\u001B[43m)\u001B[49m\n\u001B[1;32m    707\u001B[0m     \u001B[38;5;28;01mexcept\u001B[39;00m timeout:\n\u001B[1;32m    708\u001B[0m         \u001B[38;5;28mself\u001B[39m\u001B[38;5;241m.\u001B[39m_timeout_occurred \u001B[38;5;241m=\u001B[39m \u001B[38;5;28;01mTrue\u001B[39;00m\n",
      "\u001B[0;31mKeyboardInterrupt\u001B[0m: "
     ]
    }
   ],
   "source": [
    "from pyspark.sql.types import StringType\n",
    "get_row_count(df, True)\n",
    "df = df_renamed.select([col(c).cast(StringType()).alias(c) for c in df.columns])\n",
    "df.repartition(1000).write.csv('./temp_data/renamed/renamed.csv', mode = 'overwrite', header=True)"
   ],
   "metadata": {
    "collapsed": false,
    "ExecuteTime": {
     "end_time": "2024-02-24T16:42:36.120093Z",
     "start_time": "2024-02-24T16:42:32.959997Z"
    }
   },
   "id": "1eb59205ef488cec"
  },
  {
   "cell_type": "code",
   "execution_count": null,
   "outputs": [],
   "source": [
    "# TODO initialise first name to make data more realistic for name columns i.e. Daniel Mccoy is seen a Male name but here its Female"
   ],
   "metadata": {
    "collapsed": false
   },
   "id": "31a9a6e7e0527585"
  },
  {
   "cell_type": "code",
   "execution_count": null,
   "outputs": [],
   "source": [
    "spark.stop()"
   ],
   "metadata": {
    "collapsed": false
   },
   "id": "88f0099b41d9dc86"
  },
  {
   "cell_type": "code",
   "execution_count": null,
   "outputs": [],
   "source": [
    "dict_ = admission_mapping.get(\"emergency\")"
   ],
   "metadata": {
    "collapsed": false
   },
   "id": "e68e3f5c6b955395"
  }
 ],
 "metadata": {
  "kernelspec": {
   "display_name": "Python 3",
   "language": "python",
   "name": "python3"
  },
  "language_info": {
   "codemirror_mode": {
    "name": "ipython",
    "version": 2
   },
   "file_extension": ".py",
   "mimetype": "text/x-python",
   "name": "python",
   "nbconvert_exporter": "python",
   "pygments_lexer": "ipython2",
   "version": "2.7.6"
  }
 },
 "nbformat": 4,
 "nbformat_minor": 5
}
