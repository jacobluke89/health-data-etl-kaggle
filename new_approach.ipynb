{
 "cells": [
  {
   "cell_type": "code",
   "execution_count": 1,
   "id": "344f364a0ecf68e0",
   "metadata": {
    "collapsed": false,
    "ExecuteTime": {
     "end_time": "2024-04-22T17:58:30.318055Z",
     "start_time": "2024-04-22T17:58:23.848479Z"
    }
   },
   "outputs": [
    {
     "name": "stderr",
     "output_type": "stream",
     "text": [
      "/Users/jacobbickerstaff/Desktop/Development/health-data-etl-kaggle/venv/lib/python3.11/site-packages/pyspark/pandas/__init__.py:50: UserWarning: 'PYARROW_IGNORE_TIMEZONE' environment variable was not set. It is required to set this environment variable to '1' in both driver and executor sides if you use pyarrow>=2.0.0. pandas-on-Spark will set it for you but it does not work if there is a Spark context already launched.\n",
      "  warnings.warn(\n",
      "24/04/22 18:58:27 WARN NativeCodeLoader: Unable to load native-hadoop library for your platform... using builtin-java classes where applicable\n",
      "Setting default log level to \"WARN\".\n",
      "To adjust logging level use sc.setLogLevel(newLevel). For SparkR, use setLogLevel(newLevel).\n"
     ]
    }
   ],
   "source": [
    "import random\n",
    "\n",
    "from src.data_generator.csv_data_processor import CSVDataProcessor\n",
    "from src.utils.statistcs.statistical_functions import create_distributed_age_df\n",
    "from src.utils.read_write import read_postgres_table\n",
    "from spark_instance import spark\n",
    "from src.utils.statistcs.data_visualisations import plot_age_distribution_with_sd, plot_kernel_density_age_distribution\n",
    "\n",
    "from pyspark.sql.functions import col, lower, array, concat_ws, date_format, sum, lit\n",
    "  "
   ]
  },
  {
   "cell_type": "code",
   "execution_count": 2,
   "outputs": [
    {
     "name": "stderr",
     "output_type": "stream",
     "text": [
      "                                                                                \r"
     ]
    }
   ],
   "source": [
    "average_age = 40.2\n",
    "\n",
    "csv_age_file_file = CSVDataProcessor(spark, \"data/uk_age_population.csv\")\n",
    "\n",
    "csv_age_uk_df = csv_age_file_file.runner()"
   ],
   "metadata": {
    "collapsed": false,
    "ExecuteTime": {
     "end_time": "2024-04-21T21:30:02.252035Z",
     "start_time": "2024-04-21T21:29:54.806659Z"
    }
   },
   "id": "48c373a8586c425e"
  },
  {
   "cell_type": "code",
   "execution_count": null,
   "outputs": [],
   "source": [
    "csv_age_uk_df.show()"
   ],
   "metadata": {
    "collapsed": false
   },
   "id": "c3be2c9b63747804"
  },
  {
   "cell_type": "code",
   "execution_count": null,
   "outputs": [],
   "source": [
    "plot_age_distribution_with_sd(csv_age_uk_df, average_age)\n"
   ],
   "metadata": {
    "collapsed": false
   },
   "id": "2b067d44ccbd2c1e"
  },
  {
   "cell_type": "code",
   "execution_count": null,
   "outputs": [],
   "source": [
    "plot_kernel_density_age_distribution(csv_age_uk_df)\n"
   ],
   "metadata": {
    "collapsed": false
   },
   "id": "dc5e2fc658fbefcc"
  },
  {
   "cell_type": "code",
   "execution_count": 2,
   "outputs": [
    {
     "name": "stderr",
     "output_type": "stream",
     "text": [
      "                                                                                \r"
     ]
    }
   ],
   "source": [
    "sampled_df = create_distributed_age_df(spark,  \"data/uk_age_population.csv\", 5000)"
   ],
   "metadata": {
    "collapsed": false,
    "ExecuteTime": {
     "end_time": "2024-04-22T17:58:46.327397Z",
     "start_time": "2024-04-22T17:58:36.863537Z"
    }
   },
   "id": "dbc8ab960c79ce19"
  },
  {
   "cell_type": "code",
   "execution_count": 3,
   "outputs": [
    {
     "name": "stderr",
     "output_type": "stream",
     "text": [
      "[Stage 9:>                                                          (0 + 1) / 1]\r"
     ]
    },
    {
     "name": "stdout",
     "output_type": "stream",
     "text": [
      "+---+----------+----------+------+------------------+---------+------------+------------+--------------------+\n",
      "|Age|       DOB|Blood_type|Gender|              Name|is_female|is_pediatric|is_geriatric|           unique_id|\n",
      "+---+----------+----------+------+------------------+---------+------------+------------+--------------------+\n",
      "| 63|1960-11-10|        A+|Female|       A. Gonzalez|     true|       false|       false|A_Gonzalez_1960-1...|\n",
      "| 35|1988-12-15|        B+|Female|           I. Lane|     true|       false|       false|   I_Lane_1988-12-15|\n",
      "| 34|1989-11-01|        O+|Female|Q. K. B. Wilkinson|     true|       false|       false|Q_K_B_Wilkinson_1...|\n",
      "| 46|1977-09-13|        O+|Female|           Q. Wong|     true|       false|       false|   Q_Wong_1977-09-13|\n",
      "| 74|1949-08-31|        O+|Female|           H. Wade|     true|       false|        true|   H_Wade_1949-08-31|\n",
      "| 49|1974-08-29|        O+|  Male|          H. Cohen|    false|       false|       false|  H_Cohen_1974-08-29|\n",
      "| 74|1949-12-11|        O-|  Male|      B. Patterson|    false|       false|        true|B_Patterson_1949-...|\n",
      "| 71|1953-03-28|        A+|  Male|         W. Molina|    false|       false|        true| W_Molina_1953-03-28|\n",
      "| 73|1950-11-19|        O+|  Male|      M. O. Bailey|    false|       false|        true|M_O_Bailey_1950-1...|\n",
      "| 47|1976-07-19|        O+|  Male| I. I. L. Mitchell|    false|       false|       false|I_I_L_Mitchell_19...|\n",
      "|  2|2021-08-17|        O+|  Male|            N. Lee|    false|        true|       false|    N_Lee_2021-08-17|\n",
      "| 51|1972-11-24|        B-|Female|         Z. Wagner|     true|       false|       false| Z_Wagner_1972-11-24|\n",
      "| 11|2013-02-14|        O-|Female|          M. Lewis|     true|        true|       false|  M_Lewis_2013-02-14|\n",
      "|  4|2019-07-31|        B+|Female|          P. Lewis|     true|        true|       false|  P_Lewis_2019-07-31|\n",
      "| 19|2004-09-09|        O-|Female|      M. N. Garcia|     true|       false|       false|M_N_Garcia_2004-0...|\n",
      "| 76|1947-12-23|        A-|  Male|       R. R. Scott|    false|       false|        true|R_R_Scott_1947-12-23|\n",
      "| 20|2004-03-25|        O+|  Male|       I. Mckinney|    false|       false|       false|I_Mckinney_2004-0...|\n",
      "| 62|1962-01-17|        A-|Female|      V. Y. Dunlap|     true|       false|       false|V_Y_Dunlap_1962-0...|\n",
      "| 23|2000-06-25|       AB-|Female|         Y. Harper|     true|       false|       false| Y_Harper_2000-06-25|\n",
      "| 41|1982-12-25|        A+|Female|           W. Dunn|     true|       false|       false|   W_Dunn_1982-12-25|\n",
      "+---+----------+----------+------+------------------+---------+------------+------------+--------------------+\n"
     ]
    },
    {
     "name": "stderr",
     "output_type": "stream",
     "text": [
      "                                                                                \r"
     ]
    }
   ],
   "source": [
    "sampled_df.show()"
   ],
   "metadata": {
    "collapsed": false,
    "ExecuteTime": {
     "end_time": "2024-04-22T17:58:53.370559Z",
     "start_time": "2024-04-22T17:58:48.629352Z"
    }
   },
   "id": "41080574f0f2cf54"
  },
  {
   "cell_type": "code",
   "execution_count": null,
   "outputs": [],
   "source": [
    "sampled_df_aggregated = sampled_df.groupby(col(\"Age\")).count()"
   ],
   "metadata": {
    "collapsed": false
   },
   "id": "f6632f60001d9078"
  },
  {
   "cell_type": "code",
   "execution_count": null,
   "outputs": [],
   "source": [
    "sampled_df_aggregated.orderBy(\"Age\").show(n=200)"
   ],
   "metadata": {
    "collapsed": false
   },
   "id": "6b8df9b39afdebc7"
  },
  {
   "cell_type": "code",
   "execution_count": null,
   "outputs": [],
   "source": [
    "plot_age_distribution_with_sd(sampled_df_aggregated)"
   ],
   "metadata": {
    "collapsed": false
   },
   "id": "71e065f8031e4003"
  },
  {
   "cell_type": "code",
   "execution_count": 4,
   "outputs": [],
   "source": [
    "from pyspark.sql.functions import regexp_replace\n",
    "from pyspark.sql import DataFrame\n",
    "\n",
    "\n",
    "def create_unique_id(non_unique_id_df: DataFrame) -> DataFrame:\n",
    "    \"\"\"\n",
    "    Cleans a name column by removing spaces and periods, and then concatenates it with a date column to form a unique ID.\n",
    "\n",
    "    Args:\n",
    "        non_unique_id_df (DataFrame): The input DataFrame that contains the name and date of birth columns.\n",
    "    Returns:\n",
    "        DataFrame: A DataFrame with an added column that combines cleaned names with dates of birth into a unique ID.\n",
    "    \"\"\"\n",
    "    # Clean the 'name' column by removing periods and replacing spaces with underscores\n",
    "    cleaned_df = non_unique_id_df.withColumn(\n",
    "        \"clean_name\",\n",
    "        regexp_replace(regexp_replace(col(\"name\"), \"\\\\.\", \"\"), \"\\\\s\", \"_\")\n",
    "    )\n",
    "\n",
    "    return cleaned_df.withColumn(\n",
    "        \"unique_id\",\n",
    "        concat_ws(\"_\", col(\"clean_name\"), col(\"DOB\"))\n",
    "    ).drop(\"clean_name\")\n"
   ],
   "metadata": {
    "collapsed": false,
    "ExecuteTime": {
     "end_time": "2024-04-22T07:36:24.724610Z",
     "start_time": "2024-04-22T07:36:24.695144Z"
    }
   },
   "id": "e4566a4fa77c2644"
  },
  {
   "cell_type": "code",
   "execution_count": 11,
   "outputs": [],
   "source": [
    "is_female = lower(col('gender')) == 'female'\n",
    "is_pediatric = col(\"Age\") < 18\n",
    "is_geriatric = (col(\"Age\") >= 65)\n",
    "\n",
    "sampled_df_with_name = (sampled_df.withColumn(\"is_female\", is_female)\n",
    "                                  .withColumn(\"is_pediatric\", is_pediatric)\n",
    "                                  .withColumn(\"is_geriatric\", is_geriatric))\n",
    "sampled_df_with_unique_id = create_unique_id(sampled_df_with_name)"
   ],
   "metadata": {
    "collapsed": false,
    "ExecuteTime": {
     "end_time": "2024-04-22T07:41:30.259424Z",
     "start_time": "2024-04-22T07:41:30.126129Z"
    }
   },
   "id": "f87bda80e7f65562"
  },
  {
   "cell_type": "code",
   "execution_count": 12,
   "outputs": [
    {
     "name": "stderr",
     "output_type": "stream",
     "text": [
      "[Stage 13:>                                                         (0 + 1) / 1]\r"
     ]
    },
    {
     "name": "stdout",
     "output_type": "stream",
     "text": [
      "+---+----------+----------+------+-----------------+---------+------------+------------+--------------------+\n",
      "|Age|       DOB|Blood_type|Gender|             Name|is_female|is_pediatric|is_geriatric|           unique_id|\n",
      "+---+----------+----------+------+-----------------+---------+------------+------------+--------------------+\n",
      "|  7|2016-10-18|        O+|  Male|        Z. H. Lee|    false|        true|       false|  Z_H_Lee_2016-10-18|\n",
      "| 30|1993-08-23|        O+|Female|      R. Gonzales|     true|       false|       false|R_Gonzales_1993-0...|\n",
      "| 19|2004-06-10|        A-|Female|       R. Schmidt|     true|       false|       false|R_Schmidt_2004-06-10|\n",
      "| 15|2008-10-16|        A+|Female|   O. B. Lawrence|     true|        true|       false|O_B_Lawrence_2008...|\n",
      "| 31|1992-08-16|        B+|Female|         Z. Ayala|     true|       false|       false|  Z_Ayala_1992-08-16|\n",
      "| 10|2013-09-21|        O+|Female|        M. Oliver|     true|        true|       false| M_Oliver_2013-09-21|\n",
      "| 55|1969-02-21|        O-|  Male|        M. Parker|    false|       false|       false| M_Parker_1969-02-21|\n",
      "| 75|1949-04-13|        O+|  Male|B. Q. C. Carrillo|    false|       false|        true|B_Q_C_Carrillo_19...|\n",
      "| 21|2003-01-13|        A+|Female|      R. E. Munoz|     true|       false|       false|R_E_Munoz_2003-01-13|\n",
      "| 47|1976-09-14|        A+|  Male|       C. I. Carr|    false|       false|       false| C_I_Carr_1976-09-14|\n",
      "| 49|1974-06-11|        A+|  Male|          M. Hill|    false|       false|       false|   M_Hill_1974-06-11|\n",
      "| 46|1977-12-06|        A+|Female|   Z. Blankenship|     true|       false|       false|Z_Blankenship_197...|\n",
      "| 43|1981-03-22|        O+|Female|        G. Farley|     true|       false|       false| G_Farley_1981-03-22|\n",
      "| 73|1951-01-22|        O+|  Male|       N. Morales|    false|       false|        true|N_Morales_1951-01-22|\n",
      "| 68|1955-09-16|        O-|Female|      I. Anderson|     true|       false|        true|I_Anderson_1955-0...|\n",
      "|  6|2018-04-16|        O-|Female|      V. Peterson|     true|        true|       false|V_Peterson_2018-0...|\n",
      "| 70|1953-12-12|        A-|Female|   Z. N. Z. Wiley|     true|       false|        true|Z_N_Z_Wiley_1953-...|\n",
      "| 45|1979-01-18|        A+|  Male|    D. O. Andrews|    false|       false|       false|D_O_Andrews_1979-...|\n",
      "| 74|1949-10-03|        O-|  Male|          G. Ford|    false|       false|        true|   G_Ford_1949-10-03|\n",
      "| 14|2010-01-02|        A+|  Male|         W. Heath|    false|        true|       false|  W_Heath_2010-01-02|\n",
      "+---+----------+----------+------+-----------------+---------+------------+------------+--------------------+\n"
     ]
    },
    {
     "name": "stderr",
     "output_type": "stream",
     "text": [
      "                                                                                \r"
     ]
    }
   ],
   "source": [
    "sampled_df_with_unique_id.show()"
   ],
   "metadata": {
    "collapsed": false,
    "ExecuteTime": {
     "end_time": "2024-04-22T07:41:36.783594Z",
     "start_time": "2024-04-22T07:41:31.089917Z"
    }
   },
   "id": "7a41e27033b8ff8a"
  },
  {
   "cell_type": "code",
   "execution_count": 13,
   "outputs": [],
   "source": [
    "sampled_df_with_unique_id.createOrReplaceGlobalTempView(\"sampled_df_with_unique_id_gt\")"
   ],
   "metadata": {
    "collapsed": false,
    "ExecuteTime": {
     "end_time": "2024-04-22T07:42:08.493105Z",
     "start_time": "2024-04-22T07:42:08.461458Z"
    }
   },
   "id": "d4703b95b3fdbf13"
  },
  {
   "cell_type": "code",
   "execution_count": 3,
   "id": "initial_id",
   "metadata": {
    "collapsed": true,
    "jupyter": {
     "outputs_hidden": true
    },
    "ExecuteTime": {
     "end_time": "2024-04-21T21:30:18.240801Z",
     "start_time": "2024-04-21T21:30:16.990816Z"
    }
   },
   "outputs": [
    {
     "name": "stderr",
     "output_type": "stream",
     "text": [
      "                                                                                \r"
     ]
    }
   ],
   "source": [
    "# will be scrapping this shortly \n",
    "csv_reader = CSVDataProcessor(spark, \"data/healthcare_dataset.csv\")\n",
    "\n",
    "# Read the CSV file\n",
    "raw_df = csv_reader.runner()\n"
   ]
  },
  {
   "cell_type": "code",
   "execution_count": 4,
   "outputs": [],
   "source": [
    "from pyspark.sql.functions import expr, floor, datediff, current_date\n",
    "\n",
    "min_age_days = 1 * 365  # Minimum age in days (18 years)\n",
    "max_age_days = 90 * 365  # Maximum age in days (90 years)\n",
    "\n",
    "raw_df = (raw_df.withColumn(\"DOB\", expr(f\"date_sub(current_date(), CAST(round(rand() * ({max_age_days} - {min_age_days}) + {min_age_days}) AS INT))\"))\n",
    "        .withColumn(\"Age\", floor(datediff(current_date(), col(\"DOB\")) / 365.25)))\n"
   ],
   "metadata": {
    "collapsed": false,
    "ExecuteTime": {
     "end_time": "2024-04-21T21:30:21.784136Z",
     "start_time": "2024-04-21T21:30:21.565797Z"
    }
   },
   "id": "a869847c23198ca2"
  },
  {
   "cell_type": "code",
   "execution_count": 6,
   "outputs": [
    {
     "name": "stderr",
     "output_type": "stream",
     "text": [
      "                                                                                \r"
     ]
    }
   ],
   "source": [
    "from utils.read_write import write_postgres_table\n",
    "\n",
    "write_postgres_table(raw_df, \"dob_age_raw_data\")"
   ],
   "metadata": {
    "collapsed": false,
    "ExecuteTime": {
     "end_time": "2024-04-21T21:32:34.534663Z",
     "start_time": "2024-04-21T21:32:32.465254Z"
    }
   },
   "id": "d912825134cc4196"
  },
  {
   "cell_type": "code",
   "execution_count": 7,
   "id": "19c3e561ca62f93",
   "metadata": {
    "collapsed": false,
    "ExecuteTime": {
     "end_time": "2024-04-21T21:32:36.930911Z",
     "start_time": "2024-04-21T21:32:36.885209Z"
    }
   },
   "outputs": [],
   "source": [
    "# above is commented out as it's saved in the database:\n",
    "df = read_postgres_table(\"dob_age_raw_data\")"
   ]
  },
  {
   "cell_type": "code",
   "execution_count": 8,
   "outputs": [
    {
     "name": "stdout",
     "output_type": "stream",
     "text": [
      "+--------------------+---+------+----------+-----------------+-----------------+------------------+--------------------+------------------+------------------+-----------+--------------+--------------+-----------+------------+----------+\n",
      "|                name|Age|gender|blood_type|medical_condition|date_of_admission|            doctor|            hospital|insurance_provider|    billing_amount|room_number|admission_type|discharge_date| medication|test_results|       DOB|\n",
      "+--------------------+---+------+----------+-----------------+-----------------+------------------+--------------------+------------------+------------------+-----------+--------------+--------------+-----------+------------+----------+\n",
      "|     Tiffany Ramirez| 82|Female|        O-|         Diabetes|       2022-11-17|    Patrick Parker|    Wallace-Hamilton|          Medicare| 37490.98336352819|        146|      Elective|    2022-12-01|    Aspirin|Inconclusive|1942-01-03|\n",
      "|         Ruben Burns| 68|  Male|        O+|           Asthma|       2023-06-01|     Diane Jackson|Burke, Griffin an...|  UnitedHealthcare| 47304.06484547511|        404|     Emergency|    2023-06-15|    Lipitor|      Normal|1955-11-24|\n",
      "|           Chad Byrd| 55|  Male|        B-|          Obesity|       2019-01-09|        Paul Baker|          Walton LLC|          Medicare| 36874.89699661277|        292|     Emergency|    2019-02-08|    Lipitor|      Normal|1969-02-15|\n",
      "|   Antonio Frederick| 30|  Male|        B-|           Asthma|       2020-05-02|    Brian Chandler|          Garcia Ltd|          Medicare|23303.322092196904|        480|        Urgent|    2020-05-03| Penicillin|    Abnormal|1993-06-15|\n",
      "| Mrs. Brandy Flowers| 37|  Male|        O-|        Arthritis|       2021-07-09|    Dustin Griffin|Jones, Brown and ...|  UnitedHealthcare|18086.344183563877|        477|        Urgent|    2021-08-02|Paracetamol|      Normal|1986-06-18|\n",
      "|      Patrick Parker| 40|  Male|       AB+|        Arthritis|       2020-08-20|       Robin Green|            Boyd PLC|             Aetna|22522.363384853266|        180|        Urgent|    2020-08-23|    Aspirin|    Abnormal|1984-04-18|\n",
      "|      Charles Horton| 40|  Male|       AB+|     Hypertension|       2021-03-22|   Patricia Bishop|Wheeler, Bryant a...|             Cigna|  39593.4357611308|        161|        Urgent|    2021-04-15|    Lipitor|    Abnormal|1983-06-18|\n",
      "|        Patty Norman| 71|Female|        O-|        Arthritis|       2019-05-16|     Brian Kennedy|           Brown Inc|        Blue Cross|13546.817249364824|        384|      Elective|    2019-06-02|    Aspirin|      Normal|1952-11-29|\n",
      "|          Ryan Hayes| 86|  Male|        A+|         Diabetes|       2020-12-17|      Kristin Dunn|Smith, Edwards an...|             Aetna| 24903.03726973869|        215|      Elective|    2020-12-22|    Aspirin|    Abnormal|1937-05-26|\n",
      "|        Sharon Perez| 47|Female|        O-|           Asthma|       2022-12-15|    Jessica Bailey|        Brown-Golden|        Blue Cross|22788.236026376766|        310|        Urgent|    2022-12-16|    Aspirin|      Normal|1976-06-05|\n",
      "|         Amy Roberts| 26|  Male|        B-|           Cancer|       2021-04-13|   Anthony Roberts|      Little-Spencer|             Aetna|40325.071393983046|        306|     Emergency|    2021-05-11| Penicillin|    Abnormal|1997-06-26|\n",
      "|Mrs. Caroline Far...| 34|Female|        O-|     Hypertension|       2019-06-09|    William Miller|            Rose Inc|          Medicare| 6185.903529552847|        126|     Emergency|    2019-06-26|Paracetamol|Inconclusive|1990-04-08|\n",
      "|  Christina Williams| 52|Female|        A+|         Diabetes|       2021-11-29|     Laura Roberts|Malone, Thompson ...|             Aetna| 4835.945649525413|        444|      Elective|    2021-12-14|    Aspirin|Inconclusive|1972-03-24|\n",
      "|        William Page| 82|Female|        A+|         Diabetes|       2021-07-29|      James Carney|   Richardson-Powell|             Cigna|13669.377744164889|        492|      Elective|    2021-08-14|    Aspirin|      Normal|1941-06-06|\n",
      "|    Michael Bradshaw|  5|Female|       AB+|           Cancer|       2021-06-05|    Katherine Lowe|     Castaneda-Hardy|             Cigna|10342.836123527373|        120|     Emergency|    2021-06-25|  Ibuprofen|Inconclusive|2018-08-28|\n",
      "|        Brian Dorsey|  2|Female|        O+|        Arthritis|       2021-08-07|      Curtis Smith|         Burch-White|             Aetna|27174.942906232496|        492|     Emergency|    2021-08-14|    Aspirin|Inconclusive|2021-06-24|\n",
      "|     Olivia Gonzalez| 61|  Male|       AB-|         Diabetes|       2019-11-15|  Clayton Mcknight| Cunningham and Sons|             Aetna|17394.994264453202|        315|      Elective|    2019-12-04|    Aspirin|Inconclusive|1963-03-05|\n",
      "|     Teresa Caldwell| 45|  Male|        A+|        Arthritis|       2022-03-08|      Debra Meyers|Bell, Mcknight an...|          Medicare| 45213.53762641964|        475|      Elective|    2022-03-16|  Ibuprofen|Inconclusive|1978-05-18|\n",
      "| Desiree Williams MD| 65|  Male|        O+|          Obesity|       2022-06-19|     Megan Sanders|         Pugh-Rogers|  UnitedHealthcare|  4262.91157816964|        125|      Elective|    2022-06-29|    Aspirin|Inconclusive|1958-09-19|\n",
      "|          Sally Shaw| 36|  Male|        O-|        Arthritis|       2019-07-10|Zachary Horton DDS|Rush, Owens and J...|        Blue Cross|16609.311817449878|        366|     Emergency|    2019-08-07|  Ibuprofen|Inconclusive|1988-01-09|\n",
      "+--------------------+---+------+----------+-----------------+-----------------+------------------+--------------------+------------------+------------------+-----------+--------------+--------------+-----------+------------+----------+\n"
     ]
    }
   ],
   "source": [
    "df.show()"
   ],
   "metadata": {
    "collapsed": false,
    "ExecuteTime": {
     "end_time": "2024-04-21T21:32:45.794678Z",
     "start_time": "2024-04-21T21:32:45.465422Z"
    }
   },
   "id": "c42a8509dc84e270"
  },
  {
   "cell_type": "code",
   "execution_count": 14,
   "id": "d463e373907bf09e",
   "metadata": {
    "collapsed": false,
    "ExecuteTime": {
     "end_time": "2024-04-22T07:43:17.051604Z",
     "start_time": "2024-04-22T07:42:40.335064Z"
    }
   },
   "outputs": [],
   "source": [
    "from src.constants.admission_types_dataset import admission_mapping, AdmissionTypes\n",
    "flattened = [\n",
    "    (\n",
    "        top_level.name,\n",
    "        sub_level_key.name,\n",
    "        list(sub_level_info.get(\"stay_types\")),\n",
    "        sub_level_info.get(\"tests\"),  \n",
    "        random.choice(sub_level_info.get(\"doctors\"))\n",
    "    )\n",
    "    for top_level, sub_level_dict in admission_mapping.items()\n",
    "    for sub_level_key, sub_level_info in sub_level_dict.items()\n",
    "]\n",
    "\n"
   ]
  },
  {
   "cell_type": "code",
   "execution_count": 15,
   "id": "9aa93b831b3aed7b",
   "metadata": {
    "collapsed": false,
    "ExecuteTime": {
     "end_time": "2024-04-22T07:43:17.066582Z",
     "start_time": "2024-04-22T07:43:17.061737Z"
    }
   },
   "outputs": [
    {
     "data": {
      "text/plain": "[('EMERGENCY',\n  'INJURY_RTC',\n  ['Inpatient', 'Day Patient'],\n  ['X-rays', 'CT scans', 'MRI', 'Ultrasound', 'Blood tests'],\n  'Dr. Christopher Hendrix'),\n ('EMERGENCY',\n  'SELF_INFLICTED',\n  ['Inpatient'],\n  ['Psychological assessment',\n   'X-rays (for physical injuries)',\n   'Blood tests',\n   'Toxicology screening'],\n  'Dr. Tracy Fox'),\n ('EMERGENCY',\n  'CARDIOLOGY',\n  ['Inpatient', 'Day Patient'],\n  ['ECG',\n   'Echocardiogram',\n   'Stress tests',\n   'Cardiac catheterization',\n   'Blood tests'],\n  'Dr. Diana Klein'),\n ('EMERGENCY',\n  'NEUROLOGY',\n  ['Inpatient', 'Day Patient', 'Outpatient'],\n  ['MRI or CT scans of the brain',\n   'Electroencephalogram (EEG)',\n   'Lumbar puncture',\n   'Nerve conduction studies',\n   'Blood tests'],\n  'Dr. Steve King'),\n ('EMERGENCY',\n  'GASTROENTEROLOGY',\n  ['Inpatient', 'Day Patient', 'Outpatient'],\n  ['Endoscopy',\n   'Colonoscopy',\n   'Blood tests',\n   'Stool tests',\n   'Abdominal ultrasound',\n   'CT scan'],\n  'Dr. Tracy Stewart'),\n ('EMERGENCY',\n  'RESPIRATORY',\n  ['Inpatient', 'Day Patient', 'Outpatient'],\n  ['Pulmonary function tests', 'Chest X-ray', 'CT scan', 'Bronchoscopy'],\n  'Dr. Madison Herrera'),\n ('EMERGENCY',\n  'INFECTIOUS_DISEASES',\n  ['Inpatient', 'Day Patient'],\n  ['Blood cultures',\n   'PCR tests',\n   'Antibody tests',\n   'chest X-ray',\n   'Lumbar puncture'],\n  'Dr. Nicole Hodge'),\n ('EMERGENCY',\n  'MATERNITY',\n  ['Inpatient', 'Day Patient', 'Outpatient'],\n  ['Ultrasound', 'Blood tests', 'Glucose tolerance test', 'Amniocentesis'],\n  'Dr. Ariel Garcia'),\n ('EMERGENCY',\n  'PSYCHIATRIC',\n  ['Inpatient', 'Day Patient', 'Outpatient'],\n  ['Psychological evaluation',\n   'Blood tests',\n   'Brain imaging (MRI, CT scans)',\n   'Electroencephalogram (EEG)'],\n  'Dr. Justin Grant'),\n ('EMERGENCY',\n  'ORTHOPEDICS',\n  ['Inpatient', 'Day Patient', 'Outpatient'],\n  ['X-rays', 'MRI', 'CT scans', 'Bone scans', 'Blood tests'],\n  'Dr. Aaron Bowman'),\n ('GP_REFERRAL',\n  'PSYCHIATRIC',\n  ['Inpatient', 'Day Patient', 'Outpatient'],\n  ['Psychological evaluation',\n   'Blood tests',\n   'Brain imaging (MRI, CT scans)',\n   'Electroencephalogram (EEG)'],\n  'Dr. Walter Lee'),\n ('GP_REFERRAL',\n  'ORTHOPEDICS',\n  ['Outpatient'],\n  ['X-rays', 'MRI', 'CT scans', 'Bone scans', 'Blood tests'],\n  'Dr. Wendy James'),\n ('GP_REFERRAL',\n  'GASTROENTEROLOGY',\n  ['Inpatient', 'Day Patient', 'Outpatient'],\n  ['Endoscopy',\n   'Colonoscopy',\n   'Blood tests',\n   'Stool tests',\n   'Abdominal ultrasound',\n   'CT scan'],\n  'Dr. Amanda Baldwin'),\n ('GP_REFERRAL',\n  'ENDOCRINOLOGY',\n  ['Outpatient'],\n  ['Blood tests (hormone levels)',\n   'Thyroid function tests',\n   'Bone density tests'],\n  'Dr. Jonathan Howell'),\n ('GP_REFERRAL',\n  'DERMATOLOGY',\n  ['Outpatient'],\n  ['Skin biopsy', 'Patch tests', 'Skin scrapings', 'Blood tests'],\n  'Dr. Victor Murphy'),\n ('GP_REFERRAL',\n  'MATERNITY',\n  ['Inpatient', 'Day Patient', 'Outpatient'],\n  ['Ultrasound', 'Blood tests', 'Glucose tolerance test', 'Amniocentesis'],\n  'Dr. Renee Baker'),\n ('GP_REFERRAL',\n  'GERIATRICS',\n  ['Inpatient', 'Outpatient'],\n  ['Comprehensive geriatric assessment',\n   'Blood tests',\n   'Bone density scans',\n   'Cognitive tests'],\n  'Dr. Kristi Hinton'),\n ('GP_REFERRAL',\n  'ONCOLOGY',\n  ['Inpatient', 'Day Patient', 'Outpatient'],\n  ['Biopsies',\n   'MRI',\n   'Ultrasound',\n   'Blood tests',\n   'Imaging CT',\n   'Imaging MRI',\n   'Imaging PET scans',\n   'X-rays',\n   'Biopsy',\n   'CT scans'],\n  'Dr. Steven Fisher'),\n ('HOSPITAL_REFERRAL',\n  'CARDIOLOGY',\n  ['Inpatient', 'Day Patient', 'Outpatient'],\n  ['ECG',\n   'Echocardiogram',\n   'Stress tests',\n   'Cardiac catheterization',\n   'Blood tests'],\n  'Dr. Albert Lamb'),\n ('HOSPITAL_REFERRAL',\n  'NEPHROLOGY',\n  ['Inpatient', 'Day Patient', 'Outpatient'],\n  ['Blood tests (renal function tests)',\n   'Urine tests',\n   'Ultrasound of the kidneys',\n   'Biopsy'],\n  'Dr. Caitlin Smith'),\n ('HOSPITAL_REFERRAL',\n  'NEUROLOGY',\n  ['Inpatient', 'Day Patient', 'Outpatient'],\n  ['MRI or CT scans of the brain',\n   'Electroencephalogram (EEG)',\n   'Lumbar puncture',\n   'Nerve conduction studies',\n   'Blood tests'],\n  'Dr. Alice Smith'),\n ('HOSPITAL_REFERRAL',\n  'ONCOLOGY',\n  ['Inpatient', 'Day Patient', 'Outpatient'],\n  ['Biopsies',\n   'MRI',\n   'Ultrasound',\n   'Blood tests',\n   'Imaging CT',\n   'Imaging MRI',\n   'Imaging PET scans',\n   'X-rays',\n   'Biopsy',\n   'CT scans'],\n  'Dr. Steven Fisher'),\n ('HOSPITAL_REFERRAL',\n  'HEMATOLOGY',\n  ['Inpatient', 'Day Patient', 'Outpatient'],\n  ['Full Blood Count (FBC)',\n   'Coagulation Profile',\n   'Bone Marrow Biopsy',\n   'Haemoglobin Electrophoresis',\n   'Erythrocyte Sedimentation Rate (ESR)',\n   'Serum Ferritin',\n   'Blood Film',\n   'Immunophenotyping',\n   'Cytogenetic Testing',\n   'Molecular Genetic Tests'],\n  'Dr. Andrew Rodriguez'),\n ('HOSPITAL_REFERRAL',\n  'UROLOGY',\n  ['Inpatient', 'Day Patient', 'Outpatient'],\n  ['Urinalysis',\n   'Blood Tests for Kidney Function',\n   'Ultrasound of the Kidneys and Bladder',\n   'Cystoscopy',\n   'Urodynamic Testing',\n   'Prostate-Specific Antigen (PSA) Test',\n   'CT Urogram',\n   'MRI of the Pelvis',\n   'Intravenous Pyelogram (IVP)',\n   'Renal Biopsy'],\n  'Dr. Erin Smith'),\n ('HOSPITAL_REFERRAL',\n  'GASTROINTESTINAL_DISORDERS',\n  ['Inpatient', 'Day Patient', 'Outpatient'],\n  ['No tests'],\n  'Dr. Larry Williams'),\n ('HOSPITAL_REFERRAL',\n  'RESPIRATORY',\n  ['Inpatient', 'Day Patient', 'Outpatient'],\n  ['Pulmonary function tests', 'Chest X-ray', 'CT scan', 'Bronchoscopy'],\n  'Dr. Paula Moore'),\n ('HOSPITAL_REFERRAL',\n  'MUSCULOSKELETAL',\n  ['Inpatient', 'Day Patient', 'Outpatient'],\n  ['X-rays',\n   'MRI Scan',\n   'CT Scan',\n   'Bone Scan',\n   'Dual-energy X-ray Absorptiometry (DEXA) Scan',\n   'Electromyography (EMG)',\n   'Nerve Conduction Studies',\n   'Ultrasound',\n   'Arthroscopy',\n   'Blood Tests for Rheumatoid Factor & Anti-CCP'],\n  'Dr. Kevin Roberts'),\n ('HOSPITAL_REFERRAL',\n  'OTORHINOLARYNGOLOGY_ENT',\n  ['Inpatient', 'Day Patient', 'Outpatient'],\n  ['Hearing tests',\n   'Endoscopy of the ear/nose/throat',\n   'Imaging CT',\n   'Imaging MRI'],\n  'Dr. Sara Bowman'),\n ('SELF_REFERRAL',\n  'PSYCHIATRIC',\n  ['Outpatient'],\n  ['Psychological evaluation',\n   'Blood tests',\n   'Brain imaging (MRI, CT scans)',\n   'Electroencephalogram (EEG)'],\n  'Dr. Trevor Rocha'),\n ('SELF_REFERRAL',\n  'DERMATOLOGY',\n  ['Outpatient'],\n  ['Skin biopsy', 'Patch tests', 'Skin scrapings', 'Blood tests'],\n  'Dr. Amanda Grant'),\n ('SELF_REFERRAL',\n  'ORTHOPEDICS',\n  ['Outpatient'],\n  ['X-rays', 'MRI', 'CT scans', 'Bone scans', 'Blood tests'],\n  'Dr. Riley Estrada'),\n ('SELF_REFERRAL',\n  'GASTROENTEROLOGY',\n  ['Outpatient'],\n  ['Endoscopy',\n   'Colonoscopy',\n   'Blood tests',\n   'Stool tests',\n   'Abdominal ultrasound',\n   'CT scan'],\n  'Dr. David Fuentes'),\n ('SELF_REFERRAL',\n  'OPHTHALMOLOGY',\n  ['Outpatient'],\n  ['Eye exam',\n   'Tonometry (eye pressure test)',\n   'Retinal imaging',\n   'Visual field test'],\n  'Dr. Gary Moore'),\n ('SELF_REFERRAL',\n  'ENDOCRINOLOGY',\n  ['Outpatient'],\n  ['Blood tests (hormone levels)',\n   'Thyroid function tests',\n   'Bone density tests'],\n  'Dr. Kimberly Foster'),\n ('ELECTIVE',\n  'MATERNITY',\n  ['Inpatient', 'Day Patient', 'Outpatient'],\n  ['Ultrasound', 'Blood tests', 'Glucose tolerance test', 'Amniocentesis'],\n  'Dr. Howard Young')]"
     },
     "execution_count": 15,
     "metadata": {},
     "output_type": "execute_result"
    }
   ],
   "source": [
    "flattened"
   ]
  },
  {
   "cell_type": "code",
   "execution_count": 16,
   "id": "76324a29d381e7c4",
   "metadata": {
    "collapsed": false,
    "ExecuteTime": {
     "end_time": "2024-04-22T07:43:17.109085Z",
     "start_time": "2024-04-22T07:43:17.067938Z"
    }
   },
   "outputs": [],
   "source": [
    "from src.constants.condition_probabilities import condition_age_probability_dict\n",
    "\n",
    "flattened_condition_probabilities = [\n",
    "    (\n",
    "        sub_admission,\n",
    "        condition,\n",
    "        gender if gender in ['male', 'female'] else None,\n",
    "        float(age_range[0]),\n",
    "        float(age_range[1]) if len(age_range) > 1 else float('inf'),\n",
    "        float(probability) \n",
    "    )\n",
    "    for sub_admission, conditions in condition_age_probability_dict.items()\n",
    "    for condition, genders_or_age_prob_list in conditions.items()\n",
    "    for gender, age_prob_list in (genders_or_age_prob_list.items() if isinstance(genders_or_age_prob_list, dict) else [(None, genders_or_age_prob_list)])\n",
    "    for age_range, probability in age_prob_list\n",
    "]\n",
    "\n"
   ]
  },
  {
   "cell_type": "code",
   "execution_count": 17,
   "outputs": [
    {
     "data": {
      "text/plain": "[('ONCOLOGY', 'Bladder Cancer', None, 0.0, 10.0, 0.0),\n ('ONCOLOGY', 'Bladder Cancer', None, 11.0, 17.0, 0.00018),\n ('ONCOLOGY', 'Bladder Cancer', None, 18.0, 25.0, 0.0002),\n ('ONCOLOGY', 'Bladder Cancer', None, 25.0, 34.0, 0.00224),\n ('ONCOLOGY', 'Bladder Cancer', None, 35.0, 44.0, 0.00448),\n ('ONCOLOGY', 'Bladder Cancer', None, 45.0, 59.0, 0.00673),\n ('ONCOLOGY', 'Bladder Cancer', None, 45.0, 54.0, 0.00897),\n ('ONCOLOGY', 'Bladder Cancer', None, 55.0, 64.0, 0.02018),\n ('ONCOLOGY', 'Bladder Cancer', None, 65.0, 75.0, 0.02242),\n ('ONCOLOGY', 'Bladder Cancer', None, 76.0, 80.0, 0.0426),\n ('ONCOLOGY', 'Brain and Nervous System Cancers', None, 0.0, 10.0, 0.0),\n ('ONCOLOGY', 'Brain and Nervous System Cancers', None, 11.0, 17.0, 0.00023),\n ('ONCOLOGY', 'Brain and Nervous System Cancers', None, 18.0, 25.0, 0.00026),\n ('ONCOLOGY', 'Brain and Nervous System Cancers', None, 25.0, 34.0, 0.00291),\n ('ONCOLOGY', 'Brain and Nervous System Cancers', None, 35.0, 44.0, 0.00581),\n ('ONCOLOGY', 'Brain and Nervous System Cancers', None, 45.0, 59.0, 0.00872),\n ('ONCOLOGY', 'Brain and Nervous System Cancers', None, 45.0, 54.0, 0.01163),\n ('ONCOLOGY', 'Brain and Nervous System Cancers', None, 55.0, 64.0, 0.02616),\n ('ONCOLOGY', 'Brain and Nervous System Cancers', None, 65.0, 75.0, 0.02906),\n ('ONCOLOGY', 'Brain and Nervous System Cancers', None, 76.0, 80.0, 0.05522),\n ('ONCOLOGY', 'Breast Cancer', None, 0.0, 10.0, 0.0),\n ('ONCOLOGY', 'Breast Cancer', None, 11.0, 17.0, 0.00228),\n ('ONCOLOGY', 'Breast Cancer', None, 18.0, 25.0, 0.00256),\n ('ONCOLOGY', 'Breast Cancer', None, 25.0, 34.0, 0.02847),\n ('ONCOLOGY', 'Breast Cancer', None, 35.0, 44.0, 0.05695),\n ('ONCOLOGY', 'Breast Cancer', None, 45.0, 59.0, 0.11389),\n ('ONCOLOGY', 'Breast Cancer', None, 45.0, 54.0, 0.11389),\n ('ONCOLOGY', 'Breast Cancer', None, 55.0, 64.0, 0.25625),\n ('ONCOLOGY', 'Breast Cancer', None, 65.0, 75.0, 0.28473),\n ('ONCOLOGY', 'Breast Cancer', None, 76.0, 80.0, 0.54098),\n ('ONCOLOGY', 'Cervical Cancer', None, 0.0, 10.0, 0.0),\n ('ONCOLOGY', 'Cervical Cancer', None, 11.0, 17.0, 1e-06),\n ('ONCOLOGY', 'Cervical Cancer', None, 18.0, 25.0, 1e-06),\n ('ONCOLOGY', 'Cervical Cancer', None, 25.0, 34.0, 5e-05),\n ('ONCOLOGY', 'Cervical Cancer', None, 35.0, 44.0, 0.00032),\n ('ONCOLOGY', 'Cervical Cancer', None, 45.0, 59.0, 0.00064),\n ('ONCOLOGY', 'Cervical Cancer', None, 45.0, 54.0, 0.00064),\n ('ONCOLOGY', 'Cervical Cancer', None, 55.0, 64.0, 0.00143),\n ('ONCOLOGY', 'Cervical Cancer', None, 65.0, 75.0, 0.00159),\n ('ONCOLOGY', 'Cervical Cancer', None, 76.0, 80.0, 0.00303),\n ('ONCOLOGY', 'Colorectal Cancer', None, 0.0, 10.0, 0.0),\n ('ONCOLOGY', 'Colorectal Cancer', None, 11.0, 17.0, 0.00021),\n ('ONCOLOGY', 'Colorectal Cancer', None, 18.0, 25.0, 0.00021),\n ('ONCOLOGY', 'Colorectal Cancer', None, 25.0, 34.0, 0.00229),\n ('ONCOLOGY', 'Colorectal Cancer', None, 35.0, 44.0, 0.04572),\n ('ONCOLOGY', 'Colorectal Cancer', None, 45.0, 59.0, 0.09144),\n ('ONCOLOGY', 'Colorectal Cancer', None, 45.0, 54.0, 0.09144),\n ('ONCOLOGY', 'Colorectal Cancer', None, 55.0, 64.0, 0.20574),\n ('ONCOLOGY', 'Colorectal Cancer', None, 65.0, 75.0, 0.2286),\n ('ONCOLOGY', 'Colorectal Cancer', None, 76.0, 80.0, 0.43435),\n ('ONCOLOGY', 'Kidney (Renal) Cancer', None, 0.0, 10.0, 5e-07),\n ('ONCOLOGY', 'Kidney (Renal) Cancer', None, 11.0, 17.0, 0.00033),\n ('ONCOLOGY', 'Kidney (Renal) Cancer', None, 18.0, 25.0, 0.00333),\n ('ONCOLOGY', 'Kidney (Renal) Cancer', None, 25.0, 34.0, 0.0037),\n ('ONCOLOGY', 'Kidney (Renal) Cancer', None, 35.0, 44.0, 0.0074),\n ('ONCOLOGY', 'Kidney (Renal) Cancer', None, 45.0, 59.0, 0.01479),\n ('ONCOLOGY', 'Kidney (Renal) Cancer', None, 45.0, 54.0, 0.01849),\n ('ONCOLOGY', 'Kidney (Renal) Cancer', None, 55.0, 64.0, 0.03329),\n ('ONCOLOGY', 'Kidney (Renal) Cancer', None, 65.0, 75.0, 0.03698),\n ('ONCOLOGY', 'Kidney (Renal) Cancer', None, 76.0, 80.0, 0.07027),\n ('ONCOLOGY', 'Leukemia', None, 0.0, 10.0, 0.00017),\n ('ONCOLOGY', 'Leukemia', None, 11.0, 17.0, 0.0003),\n ('ONCOLOGY', 'Leukemia', None, 18.0, 25.0, 0.00301),\n ('ONCOLOGY', 'Leukemia', None, 25.0, 34.0, 0.00334),\n ('ONCOLOGY', 'Leukemia', None, 35.0, 44.0, 0.00668),\n ('ONCOLOGY', 'Leukemia', None, 45.0, 59.0, 0.01002),\n ('ONCOLOGY', 'Leukemia', None, 45.0, 54.0, 0.01336),\n ('ONCOLOGY', 'Leukemia', None, 55.0, 64.0, 0.02004),\n ('ONCOLOGY', 'Leukemia', None, 65.0, 75.0, 0.03341),\n ('ONCOLOGY', 'Leukemia', None, 76.0, 80.0, 0.06347),\n ('ONCOLOGY', 'Liver Cancer', None, 0.0, 10.0, 0.0),\n ('ONCOLOGY', 'Liver Cancer', None, 11.0, 17.0, 0.0),\n ('ONCOLOGY', 'Liver Cancer', None, 18.0, 25.0, 1e-07),\n ('ONCOLOGY', 'Liver Cancer', None, 25.0, 34.0, 5e-06),\n ('ONCOLOGY', 'Liver Cancer', None, 35.0, 44.0, 0.0002),\n ('ONCOLOGY', 'Liver Cancer', None, 45.0, 59.0, 0.00068),\n ('ONCOLOGY', 'Liver Cancer', None, 45.0, 54.0, 0.0009),\n ('ONCOLOGY', 'Liver Cancer', None, 55.0, 64.0, 0.00135),\n ('ONCOLOGY', 'Liver Cancer', None, 65.0, 75.0, 0.00226),\n ('ONCOLOGY', 'Liver Cancer', None, 76.0, 80.0, 0.00429),\n ('ONCOLOGY', 'Lung Cancer', None, 0.0, 10.0, 0.0),\n ('ONCOLOGY', 'Lung Cancer', None, 11.0, 17.0, 1e-08),\n ('ONCOLOGY', 'Lung Cancer', None, 18.0, 25.0, 1e-06),\n ('ONCOLOGY', 'Lung Cancer', None, 25.0, 34.0, 8e-06),\n ('ONCOLOGY', 'Lung Cancer', None, 35.0, 44.0, 0.00609),\n ('ONCOLOGY', 'Lung Cancer', None, 45.0, 59.0, 0.01739),\n ('ONCOLOGY', 'Lung Cancer', None, 45.0, 54.0, 0.06086),\n ('ONCOLOGY', 'Lung Cancer', None, 55.0, 64.0, 0.08694),\n ('ONCOLOGY', 'Lung Cancer', None, 65.0, 75.0, 0.1478),\n ('ONCOLOGY', 'Lung Cancer', None, 76.0, 80.0, 0.26083),\n ('ONCOLOGY', 'Melanoma of Skin', None, 0.0, 10.0, 1e-05),\n ('ONCOLOGY', 'Melanoma of Skin', None, 11.0, 17.0, 3e-05),\n ('ONCOLOGY', 'Melanoma of Skin', None, 18.0, 25.0, 4e-05),\n ('ONCOLOGY', 'Melanoma of Skin', None, 25.0, 34.0, 0.0002),\n ('ONCOLOGY', 'Melanoma of Skin', None, 35.0, 44.0, 0.00563),\n ('ONCOLOGY', 'Melanoma of Skin', None, 45.0, 59.0, 0.04826),\n ('ONCOLOGY', 'Melanoma of Skin', None, 45.0, 54.0, 0.0563),\n ('ONCOLOGY', 'Melanoma of Skin', None, 55.0, 64.0, 0.07238),\n ('ONCOLOGY', 'Melanoma of Skin', None, 65.0, 75.0, 0.09651),\n ('ONCOLOGY', 'Melanoma of Skin', None, 76.0, inf, 0.12064),\n ('ONCOLOGY', 'Non-Hodgkin Lymphoma', None, 0.0, 10.0, 1e-06),\n ('ONCOLOGY', 'Non-Hodgkin Lymphoma', None, 11.0, 17.0, 5e-06),\n ('ONCOLOGY', 'Non-Hodgkin Lymphoma', None, 18.0, 25.0, 3e-06),\n ('ONCOLOGY', 'Non-Hodgkin Lymphoma', None, 25.0, 34.0, 0.00015),\n ('ONCOLOGY', 'Non-Hodgkin Lymphoma', None, 35.0, 44.0, 0.00429),\n ('ONCOLOGY', 'Non-Hodgkin Lymphoma', None, 45.0, 59.0, 0.02449),\n ('ONCOLOGY', 'Non-Hodgkin Lymphoma', None, 45.0, 54.0, 0.03062),\n ('ONCOLOGY', 'Non-Hodgkin Lymphoma', None, 55.0, 64.0, 0.04286),\n ('ONCOLOGY', 'Non-Hodgkin Lymphoma', None, 65.0, 75.0, 0.04899),\n ('ONCOLOGY', 'Non-Hodgkin Lymphoma', None, 76.0, inf, 0.06124),\n ('ONCOLOGY', 'Ovarian Cancer', None, 0.0, 10.0, 0.0),\n ('ONCOLOGY', 'Ovarian Cancer', None, 11.0, 17.0, 1e-06),\n ('ONCOLOGY', 'Ovarian Cancer', None, 18.0, 25.0, 2e-06),\n ('ONCOLOGY', 'Ovarian Cancer', None, 25.0, 34.0, 8e-06),\n ('ONCOLOGY', 'Ovarian Cancer', None, 35.0, 44.0, 0.00219),\n ('ONCOLOGY', 'Ovarian Cancer', None, 45.0, 59.0, 0.00313),\n ('ONCOLOGY', 'Ovarian Cancer', None, 45.0, 54.0, 0.00938),\n ('ONCOLOGY', 'Ovarian Cancer', None, 55.0, 64.0, 0.0219),\n ('ONCOLOGY', 'Ovarian Cancer', None, 65.0, 75.0, 0.02502),\n ('ONCOLOGY', 'Ovarian Cancer', None, 76.0, inf, 0.05317),\n ('ONCOLOGY', 'Pancreatic Cancer', None, 0.0, 10.0, 0.0),\n ('ONCOLOGY', 'Pancreatic Cancer', None, 11.0, 17.0, 4e-06),\n ('ONCOLOGY', 'Pancreatic Cancer', None, 18.0, 25.0, 5e-06),\n ('ONCOLOGY', 'Pancreatic Cancer', None, 25.0, 34.0, 0.00023),\n ('ONCOLOGY', 'Pancreatic Cancer', None, 35.0, 44.0, 0.00631),\n ('ONCOLOGY', 'Pancreatic Cancer', None, 45.0, 59.0, 0.00902),\n ('ONCOLOGY', 'Pancreatic Cancer', None, 45.0, 54.0, 0.02706),\n ('ONCOLOGY', 'Pancreatic Cancer', None, 55.0, 64.0, 0.02706),\n ('ONCOLOGY', 'Pancreatic Cancer', None, 65.0, 75.0, 0.03608),\n ('ONCOLOGY', 'Pancreatic Cancer', None, 76.0, inf, 0.06315),\n ('ONCOLOGY', 'Prostate Cancer', None, 0.0, 10.0, 0.0),\n ('ONCOLOGY', 'Prostate Cancer', None, 11.0, 17.0, 0.0003),\n ('ONCOLOGY', 'Prostate Cancer', None, 18.0, 25.0, 0.00037),\n ('ONCOLOGY', 'Prostate Cancer', None, 25.0, 34.0, 0.00186),\n ('ONCOLOGY', 'Prostate Cancer', None, 35.0, 44.0, 0.01862),\n ('ONCOLOGY', 'Prostate Cancer', None, 45.0, 59.0, 0.03724),\n ('ONCOLOGY', 'Prostate Cancer', None, 45.0, 54.0, 0.14895),\n ('ONCOLOGY', 'Prostate Cancer', None, 55.0, 64.0, 0.22343),\n ('ONCOLOGY', 'Prostate Cancer', None, 65.0, 75.0, 0.2979),\n ('ONCOLOGY', 'Prostate Cancer', None, 76.0, inf, 0.52133),\n ('ONCOLOGY', 'Stomach (Gastric) Cancer', None, 0.0, 10.0, 0.0),\n ('ONCOLOGY', 'Stomach (Gastric) Cancer', None, 11.0, 17.0, 1e-06),\n ('ONCOLOGY', 'Stomach (Gastric) Cancer', None, 18.0, 25.0, 1e-06),\n ('ONCOLOGY', 'Stomach (Gastric) Cancer', None, 25.0, 34.0, 0.00016),\n ('ONCOLOGY', 'Stomach (Gastric) Cancer', None, 35.0, 44.0, 0.0002),\n ('ONCOLOGY', 'Stomach (Gastric) Cancer', None, 45.0, 59.0, 0.00023),\n ('ONCOLOGY', 'Stomach (Gastric) Cancer', None, 45.0, 54.0, 0.00047),\n ('ONCOLOGY', 'Stomach (Gastric) Cancer', None, 55.0, 64.0, 0.0014),\n ('ONCOLOGY', 'Stomach (Gastric) Cancer', None, 65.0, 75.0, 0.00218),\n ('ONCOLOGY', 'Stomach (Gastric) Cancer', None, 76.0, 80.0, 0.00296),\n ('ONCOLOGY', 'Testicular Cancer', None, 0.0, 10.0, 0.0),\n ('ONCOLOGY', 'Testicular Cancer', None, 11.0, 17.0, 5e-06),\n ('ONCOLOGY', 'Testicular Cancer', None, 18.0, 25.0, 5e-06),\n ('ONCOLOGY', 'Testicular Cancer', None, 25.0, 34.0, 7e-06),\n ('ONCOLOGY', 'Testicular Cancer', None, 35.0, 44.0, 8e-06),\n ('ONCOLOGY', 'Testicular Cancer', None, 45.0, 59.0, 4.9e-05),\n ('ONCOLOGY', 'Testicular Cancer', None, 45.0, 54.0, 0.00049),\n ('ONCOLOGY', 'Testicular Cancer', None, 55.0, 64.0, 0.0007),\n ('ONCOLOGY', 'Testicular Cancer', None, 65.0, 75.0, 0.00099),\n ('ONCOLOGY', 'Testicular Cancer', None, 76.0, 80.0, 0.00211),\n ('ONCOLOGY', 'Thyroid Cancer', None, 0.0, 10.0, 0.0),\n ('ONCOLOGY', 'Thyroid Cancer', None, 11.0, 17.0, 0.0),\n ('ONCOLOGY', 'Thyroid Cancer', None, 18.0, 25.0, 1e-06),\n ('ONCOLOGY', 'Thyroid Cancer', None, 25.0, 34.0, 6e-06),\n ('ONCOLOGY', 'Thyroid Cancer', None, 35.0, 44.0, 7e-06),\n ('ONCOLOGY', 'Thyroid Cancer', None, 45.0, 59.0, 8e-06),\n ('ONCOLOGY', 'Thyroid Cancer', None, 45.0, 54.0, 0.0004),\n ('ONCOLOGY', 'Thyroid Cancer', None, 55.0, 64.0, 0.00057),\n ('ONCOLOGY', 'Thyroid Cancer', None, 65.0, 75.0, 0.0008),\n ('ONCOLOGY', 'Thyroid Cancer', None, 76.0, 80.0, 0.00172),\n ('CARDIOLOGY', 'Aneurysms', None, 0.0, 10.0, 0.0),\n ('CARDIOLOGY', 'Aneurysms', None, 11.0, 17.0, 0.00037),\n ('CARDIOLOGY', 'Aneurysms', None, 18.0, 25.0, 0.00042),\n ('CARDIOLOGY', 'Aneurysms', None, 25.0, 34.0, 0.00465),\n ('CARDIOLOGY', 'Aneurysms', None, 35.0, 44.0, 0.00535),\n ('CARDIOLOGY', 'Aneurysms', None, 45.0, 59.0, 0.00553),\n ('CARDIOLOGY', 'Aneurysms', None, 45.0, 54.0, 0.03255),\n ('CARDIOLOGY', 'Aneurysms', None, 55.0, 64.0, 0.0465),\n ('CARDIOLOGY', 'Aneurysms', None, 65.0, 75.0, 0.06511),\n ('CARDIOLOGY', 'Aneurysms', None, 76.0, 80.0, 0.13951),\n ('CARDIOLOGY', 'Arrhythmias', None, 0.0, 10.0, 0.0),\n ('CARDIOLOGY', 'Arrhythmias', None, 11.0, 17.0, 0.00068),\n ('CARDIOLOGY', 'Arrhythmias', None, 18.0, 25.0, 0.00077),\n ('CARDIOLOGY', 'Arrhythmias', None, 25.0, 34.0, 0.00853),\n ('CARDIOLOGY', 'Arrhythmias', None, 35.0, 44.0, 0.0098),\n ('CARDIOLOGY', 'Arrhythmias', None, 45.0, 59.0, 0.01015),\n ('CARDIOLOGY', 'Arrhythmias', None, 45.0, 54.0, 0.05968),\n ('CARDIOLOGY', 'Arrhythmias', None, 55.0, 64.0, 0.08526),\n ('CARDIOLOGY', 'Arrhythmias', None, 65.0, 75.0, 0.11936),\n ('CARDIOLOGY', 'Arrhythmias', None, 76.0, 80.0, 0.25577),\n ('CARDIOLOGY', 'Coronary Artery Disease', None, 0.0, 10.0, 0.0),\n ('CARDIOLOGY', 'Coronary Artery Disease', None, 11.0, 17.0, 0.0),\n ('CARDIOLOGY', 'Coronary Artery Disease', None, 18.0, 25.0, 0.00039),\n ('CARDIOLOGY', 'Coronary Artery Disease', None, 25.0, 34.0, 0.00777),\n ('CARDIOLOGY', 'Coronary Artery Disease', None, 35.0, 44.0, 0.00893),\n ('CARDIOLOGY', 'Coronary Artery Disease', None, 45.0, 59.0, 0.00924),\n ('CARDIOLOGY', 'Coronary Artery Disease', None, 45.0, 54.0, 0.05436),\n ('CARDIOLOGY', 'Coronary Artery Disease', None, 55.0, 64.0, 0.07765),\n ('CARDIOLOGY', 'Coronary Artery Disease', None, 65.0, 75.0, 0.10871),\n ('CARDIOLOGY', 'Coronary Artery Disease', None, 76.0, 80.0, 0.23296),\n ('CARDIOLOGY', 'Heart Attack', None, 0.0, 10.0, 0.0),\n ('CARDIOLOGY', 'Heart Attack', None, 11.0, 17.0, 0.0),\n ('CARDIOLOGY', 'Heart Attack', None, 18.0, 25.0, 0.00013),\n ('CARDIOLOGY', 'Heart Attack', None, 25.0, 34.0, 0.00133),\n ('CARDIOLOGY', 'Heart Attack', None, 35.0, 44.0, 0.00666),\n ('CARDIOLOGY', 'Heart Attack', None, 45.0, 59.0, 0.07987),\n ('CARDIOLOGY', 'Heart Attack', None, 45.0, 54.0, 0.09318),\n ('CARDIOLOGY', 'Heart Attack', None, 55.0, 64.0, 0.13312),\n ('CARDIOLOGY', 'Heart Attack', None, 65.0, 75.0, 0.18636),\n ('CARDIOLOGY', 'Heart Attack', None, 76.0, 80.0, 0.39935),\n ('CARDIOLOGY', 'Heart Failure', None, 0.0, 10.0, 0.0),\n ('CARDIOLOGY', 'Heart Failure', None, 11.0, 17.0, 0.0),\n ('CARDIOLOGY', 'Heart Failure', None, 18.0, 25.0, 0.00015),\n ('CARDIOLOGY', 'Heart Failure', None, 25.0, 34.0, 0.00148),\n ('CARDIOLOGY', 'Heart Failure', None, 35.0, 44.0, 0.0074),\n ('CARDIOLOGY', 'Heart Failure', None, 45.0, 59.0, 0.08874),\n ('CARDIOLOGY', 'Heart Failure', None, 45.0, 54.0, 0.10353),\n ('CARDIOLOGY', 'Heart Failure', None, 55.0, 64.0, 0.14791),\n ('CARDIOLOGY', 'Heart Failure', None, 65.0, 75.0, 0.20707),\n ('CARDIOLOGY', 'Heart Failure', None, 76.0, 80.0, 0.44372),\n ('CARDIOLOGY', 'Hypertension (High Blood Pressure)', None, 0.0, 10.0, 0.0229),\n ('CARDIOLOGY',\n  'Hypertension (High Blood Pressure)',\n  None,\n  11.0,\n  17.0,\n  0.0687),\n ('CARDIOLOGY',\n  'Hypertension (High Blood Pressure)',\n  None,\n  18.0,\n  25.0,\n  0.1145),\n ('CARDIOLOGY',\n  'Hypertension (High Blood Pressure)',\n  None,\n  25.0,\n  34.0,\n  0.22901),\n ('CARDIOLOGY',\n  'Hypertension (High Blood Pressure)',\n  None,\n  35.0,\n  44.0,\n  0.45802),\n ('CARDIOLOGY',\n  'Hypertension (High Blood Pressure)',\n  None,\n  45.0,\n  59.0,\n  0.61832),\n ('CARDIOLOGY',\n  'Hypertension (High Blood Pressure)',\n  None,\n  45.0,\n  54.0,\n  0.64122),\n ('CARDIOLOGY',\n  'Hypertension (High Blood Pressure)',\n  None,\n  55.0,\n  64.0,\n  0.72137),\n ('CARDIOLOGY',\n  'Hypertension (High Blood Pressure)',\n  None,\n  65.0,\n  75.0,\n  0.77863),\n ('CARDIOLOGY',\n  'Hypertension (High Blood Pressure)',\n  None,\n  76.0,\n  80.0,\n  0.84733),\n ('CARDIOLOGY', 'Peripheral Artery Disease', None, 0.0, 10.0, 0.0),\n ('CARDIOLOGY', 'Peripheral Artery Disease', None, 11.0, 17.0, 0.0),\n ('CARDIOLOGY', 'Peripheral Artery Disease', None, 18.0, 25.0, 0.0),\n ('CARDIOLOGY', 'Peripheral Artery Disease', None, 25.0, 34.0, 0.0),\n ('CARDIOLOGY', 'Peripheral Artery Disease', None, 35.0, 44.0, 0.01311),\n ('CARDIOLOGY', 'Peripheral Artery Disease', None, 45.0, 59.0, 0.05246),\n ('CARDIOLOGY', 'Peripheral Artery Disease', None, 45.0, 54.0, 0.10492),\n ('CARDIOLOGY', 'Peripheral Artery Disease', None, 55.0, 64.0, 0.15738),\n ('CARDIOLOGY', 'Peripheral Artery Disease', None, 65.0, 75.0, 0.20984),\n ('CARDIOLOGY', 'Peripheral Artery Disease', None, 76.0, 80.0, 0.2623),\n ('CARDIOLOGY', 'Stroke', None, 0.0, 10.0, 0.0),\n ('CARDIOLOGY', 'Stroke', None, 11.0, 17.0, 0.0),\n ('CARDIOLOGY', 'Stroke', None, 18.0, 25.0, 0.0),\n ('CARDIOLOGY', 'Stroke', None, 25.0, 34.0, 0.0),\n ('CARDIOLOGY', 'Stroke', None, 35.0, 44.0, 0.00918),\n ('CARDIOLOGY', 'Stroke', None, 45.0, 59.0, 0.03672),\n ('CARDIOLOGY', 'Stroke', None, 45.0, 54.0, 0.07344),\n ('CARDIOLOGY', 'Stroke', None, 55.0, 64.0, 0.11016),\n ('CARDIOLOGY', 'Stroke', None, 65.0, 75.0, 0.14689),\n ('CARDIOLOGY', 'Stroke', None, 76.0, 80.0, 0.18361),\n ('CARDIOLOGY', 'Venous Thromboembolism', None, 0.0, 10.0, 0.00036),\n ('CARDIOLOGY', 'Venous Thromboembolism', None, 11.0, 17.0, 0.00073),\n ('CARDIOLOGY', 'Venous Thromboembolism', None, 18.0, 25.0, 0.00109),\n ('CARDIOLOGY', 'Venous Thromboembolism', None, 25.0, 34.0, 0.00145),\n ('CARDIOLOGY', 'Venous Thromboembolism', None, 35.0, 44.0, 0.00182),\n ('CARDIOLOGY', 'Venous Thromboembolism', None, 45.0, 59.0, 0.00218),\n ('CARDIOLOGY', 'Venous Thromboembolism', None, 45.0, 54.0, 0.00255),\n ('CARDIOLOGY', 'Venous Thromboembolism', None, 55.0, 64.0, 0.00291),\n ('CARDIOLOGY', 'Venous Thromboembolism', None, 65.0, 75.0, 0.00327),\n ('CARDIOLOGY', 'Venous Thromboembolism', None, 76.0, 80.0, 0.00364),\n ('DERMATOLOGY', 'Acne', 'male', 0.0, 10.0, 0.0),\n ('DERMATOLOGY', 'Acne', 'male', 11.0, 17.0, 0.09998),\n ('DERMATOLOGY', 'Acne', 'male', 18.0, 25.0, 0.07142),\n ('DERMATOLOGY', 'Acne', 'male', 25.0, 34.0, 0.02857),\n ('DERMATOLOGY', 'Acne', 'male', 35.0, 44.0, 3e-05),\n ('DERMATOLOGY', 'Acne', 'male', 45.0, 59.0, 0.0),\n ('DERMATOLOGY', 'Acne', 'male', 45.0, 54.0, 0.0),\n ('DERMATOLOGY', 'Acne', 'male', 55.0, 64.0, 0.0),\n ('DERMATOLOGY', 'Acne', 'male', 65.0, 75.0, 0.0),\n ('DERMATOLOGY', 'Acne', 'male', 76.0, 80.0, 0.0),\n ('DERMATOLOGY', 'Acne', 'female', 0.0, 10.0, 0.0),\n ('DERMATOLOGY', 'Acne', 'female', 11.0, 17.0, 0.09132),\n ('DERMATOLOGY', 'Acne', 'female', 18.0, 25.0, 0.06523),\n ('DERMATOLOGY', 'Acne', 'female', 25.0, 34.0, 0.02609),\n ('DERMATOLOGY', 'Acne', 'female', 35.0, 44.0, 0.00027),\n ('DERMATOLOGY', 'Acne', 'female', 45.0, 59.0, 0.00652),\n ('DERMATOLOGY', 'Acne', 'female', 45.0, 54.0, 0.01044),\n ('DERMATOLOGY', 'Acne', 'female', 55.0, 64.0, 0.00013),\n ('DERMATOLOGY', 'Acne', 'female', 65.0, 75.0, 0.0),\n ('DERMATOLOGY', 'Acne', 'female', 76.0, 80.0, 0.0),\n ('DERMATOLOGY', 'Cellulitis', None, 0.0, 10.0, 0.0),\n ('DERMATOLOGY', 'Cellulitis', None, 11.0, 17.0, 0.00042),\n ('DERMATOLOGY', 'Cellulitis', None, 18.0, 25.0, 0.0003),\n ('DERMATOLOGY', 'Cellulitis', None, 25.0, 34.0, 0.0012),\n ('DERMATOLOGY', 'Cellulitis', None, 35.0, 44.0, 0.00246),\n ('DERMATOLOGY', 'Cellulitis', None, 45.0, 59.0, 0.0042),\n ('DERMATOLOGY', 'Cellulitis', None, 45.0, 54.0, 0.0054),\n ('DERMATOLOGY', 'Cellulitis', None, 55.0, 64.0, 0.006),\n ('DERMATOLOGY', 'Cellulitis', None, 65.0, 75.0, 0.012),\n ('DERMATOLOGY', 'Cellulitis', None, 76.0, 80.0, 0.01801),\n ('DERMATOLOGY', 'Dermatitis', None, 0.0, 10.0, 0.08521),\n ('DERMATOLOGY', 'Dermatitis', None, 11.0, 17.0, 0.14912),\n ('DERMATOLOGY', 'Dermatitis', None, 18.0, 25.0, 0.17042),\n ('DERMATOLOGY', 'Dermatitis', None, 25.0, 34.0, 0.12781),\n ('DERMATOLOGY', 'Dermatitis', None, 35.0, 44.0, 0.06391),\n ('DERMATOLOGY', 'Dermatitis', None, 45.0, 59.0, 0.02982),\n ('DERMATOLOGY', 'Dermatitis', None, 45.0, 54.0, 0.03834),\n ('DERMATOLOGY', 'Dermatitis', None, 55.0, 64.0, 0.0213),\n ('DERMATOLOGY', 'Dermatitis', None, 65.0, 75.0, 0.00852),\n ('DERMATOLOGY', 'Dermatitis', None, 76.0, 80.0, 0.00554),\n ('DERMATOLOGY', 'Eczema', None, 0.0, 10.0, 0.22135),\n ('DERMATOLOGY', 'Eczema', None, 11.0, 17.0, 0.17708),\n ('DERMATOLOGY', 'Eczema', None, 18.0, 25.0, 0.16822),\n ('DERMATOLOGY', 'Eczema', None, 25.0, 34.0, 0.15937),\n ('DERMATOLOGY', 'Eczema', None, 35.0, 44.0, 0.0664),\n ('DERMATOLOGY', 'Eczema', None, 45.0, 59.0, 0.03099),\n ('DERMATOLOGY', 'Eczema', None, 45.0, 54.0, 0.03984),\n ('DERMATOLOGY', 'Eczema', None, 55.0, 64.0, 0.02213),\n ('DERMATOLOGY', 'Eczema', None, 65.0, 75.0, 0.00885),\n ('DERMATOLOGY', 'Eczema', None, 76.0, 80.0, 0.00576),\n ('DERMATOLOGY', 'Hives (Urticaria)', None, 0.0, 10.0, 0.43229),\n ('DERMATOLOGY', 'Hives (Urticaria)', None, 11.0, 17.0, 0.37486),\n ('DERMATOLOGY', 'Hives (Urticaria)', None, 18.0, 25.0, 0.18836),\n ('DERMATOLOGY', 'Hives (Urticaria)', None, 25.0, 34.0, 0.07411),\n ('DERMATOLOGY', 'Hives (Urticaria)', None, 35.0, 44.0, 0.0315),\n ('DERMATOLOGY', 'Hives (Urticaria)', None, 45.0, 59.0, 0.04323),\n ('DERMATOLOGY', 'Hives (Urticaria)', None, 45.0, 54.0, 0.05558),\n ('DERMATOLOGY', 'Hives (Urticaria)', None, 55.0, 64.0, 6e-05),\n ('DERMATOLOGY', 'Hives (Urticaria)', None, 65.0, 75.0, 1e-05),\n ('DERMATOLOGY', 'Hives (Urticaria)', None, 76.0, 80.0, 0.0),\n ('DERMATOLOGY', 'Impetigo', None, 0.0, 10.0, 0.85224),\n ('DERMATOLOGY', 'Impetigo', None, 11.0, 17.0, 0.73901),\n ('DERMATOLOGY', 'Impetigo', None, 18.0, 25.0, 0.37133),\n ('DERMATOLOGY', 'Impetigo', None, 25.0, 34.0, 0.02435),\n ('DERMATOLOGY', 'Impetigo', None, 35.0, 44.0, 0.00122),\n ('DERMATOLOGY', 'Impetigo', None, 45.0, 59.0, 0.00085),\n ('DERMATOLOGY', 'Impetigo', None, 45.0, 54.0, 0.01096),\n ('DERMATOLOGY', 'Impetigo', None, 55.0, 64.0, 1e-05),\n ('DERMATOLOGY', 'Impetigo', None, 65.0, 75.0, 2e-05),\n ('DERMATOLOGY', 'Impetigo', None, 76.0, 80.0, 0.0),\n ('DERMATOLOGY', 'Psoriasis', None, 0.0, 10.0, 0.00012),\n ('DERMATOLOGY', 'Psoriasis', None, 11.0, 17.0, 0.00829),\n ('DERMATOLOGY', 'Psoriasis', None, 18.0, 25.0, 0.05332),\n ('DERMATOLOGY', 'Psoriasis', None, 25.0, 34.0, 0.06162),\n ('DERMATOLOGY', 'Psoriasis', None, 35.0, 44.0, 0.03567),\n ('DERMATOLOGY', 'Psoriasis', None, 45.0, 59.0, 0.01193),\n ('DERMATOLOGY', 'Psoriasis', None, 45.0, 54.0, 0.03436),\n ('DERMATOLOGY', 'Psoriasis', None, 55.0, 64.0, 0.05914),\n ('DERMATOLOGY', 'Psoriasis', None, 65.0, 75.0, 0.0237),\n ('DERMATOLOGY', 'Psoriasis', None, 76.0, 80.0, 0.01185),\n ('DERMATOLOGY', 'Rosacea', None, 0.0, 10.0, 5e-05),\n ('DERMATOLOGY', 'Rosacea', None, 11.0, 17.0, 0.00033),\n ('DERMATOLOGY', 'Rosacea', None, 18.0, 25.0, 0.06987),\n ('DERMATOLOGY', 'Rosacea', None, 25.0, 34.0, 0.10247),\n ('DERMATOLOGY', 'Rosacea', None, 35.0, 44.0, 0.27993),\n ('DERMATOLOGY', 'Rosacea', None, 45.0, 59.0, 0.32637),\n ('DERMATOLOGY', 'Rosacea', None, 45.0, 54.0, 0.13508),\n ('DERMATOLOGY', 'Rosacea', None, 55.0, 64.0, 0.09274),\n ('DERMATOLOGY', 'Rosacea', None, 65.0, 75.0, 0.04659),\n ('DERMATOLOGY', 'Rosacea', None, 76.0, 80.0, 0.04658),\n ('DERMATOLOGY', 'Shingles (Herpes Zoster)', None, 0.0, 10.0, 0.0),\n ('DERMATOLOGY', 'Shingles (Herpes Zoster)', None, 11.0, 17.0, 0.0),\n ('DERMATOLOGY', 'Shingles (Herpes Zoster)', None, 18.0, 25.0, 0.0),\n ('DERMATOLOGY', 'Shingles (Herpes Zoster)', None, 25.0, 34.0, 0.00062),\n ('DERMATOLOGY', 'Shingles (Herpes Zoster)', None, 35.0, 44.0, 0.01121),\n ('DERMATOLOGY', 'Shingles (Herpes Zoster)', None, 45.0, 59.0, 0.23659),\n ('DERMATOLOGY', 'Shingles (Herpes Zoster)', None, 45.0, 54.0, 0.48564),\n ('DERMATOLOGY', 'Shingles (Herpes Zoster)', None, 55.0, 64.0, 0.72223),\n ('DERMATOLOGY', 'Shingles (Herpes Zoster)', None, 65.0, 75.0, 0.75959),\n ('DERMATOLOGY', 'Shingles (Herpes Zoster)', None, 76.0, 80.0, 0.88411)]"
     },
     "execution_count": 17,
     "metadata": {},
     "output_type": "execute_result"
    }
   ],
   "source": [
    "flattened_condition_probabilities"
   ],
   "metadata": {
    "collapsed": false,
    "ExecuteTime": {
     "end_time": "2024-04-22T07:43:17.113349Z",
     "start_time": "2024-04-22T07:43:17.107262Z"
    }
   },
   "id": "4d8352a033cdbc4d"
  },
  {
   "cell_type": "code",
   "execution_count": 18,
   "id": "18fa988bdaed2265",
   "metadata": {
    "collapsed": false,
    "ExecuteTime": {
     "end_time": "2024-04-22T07:43:19.884434Z",
     "start_time": "2024-04-22T07:43:19.839860Z"
    }
   },
   "outputs": [],
   "source": [
    "from pyspark.sql.types import StructType, StructField, StringType, FloatType\n",
    "\n",
    "columns = [\"condition_admission_type\", \"condition\", \"gender\", \"age_min\", \"age_max\", \"probability\"]\n",
    "schema = StructType([\n",
    "    StructField(\"condition_admission_type\", StringType(), True),\n",
    "    StructField(\"condition\", StringType(), True),\n",
    "    StructField(\"condition_gender\", StringType(), True),  # Assuming gender can be specific probability for gender 'male', 'female', or null\n",
    "    StructField(\"age_min\", FloatType(), False),\n",
    "    StructField(\"age_max\", FloatType(), False),\n",
    "    StructField(\"probability\", FloatType(), False)\n",
    "])\n",
    "\n",
    "\n",
    "\n",
    "condition_prob_df = spark.createDataFrame(data=flattened_condition_probabilities, schema=schema)\n"
   ]
  },
  {
   "cell_type": "code",
   "execution_count": 14,
   "id": "76a88bdeea4c696e",
   "metadata": {
    "collapsed": false,
    "ExecuteTime": {
     "end_time": "2024-04-21T21:34:20.184908Z",
     "start_time": "2024-04-21T21:34:18.358393Z"
    }
   },
   "outputs": [
    {
     "name": "stderr",
     "output_type": "stream",
     "text": [
      "[Stage 6:>                                                          (0 + 1) / 1]\r"
     ]
    },
    {
     "name": "stdout",
     "output_type": "stream",
     "text": [
      "+------------------------+--------------------+----------------+-------+-------+-----------+\n",
      "|condition_admission_type|           condition|condition_gender|age_min|age_max|probability|\n",
      "+------------------------+--------------------+----------------+-------+-------+-----------+\n",
      "|                ONCOLOGY|      Bladder Cancer|            NULL|    0.0|   10.0|        0.0|\n",
      "|                ONCOLOGY|      Bladder Cancer|            NULL|   11.0|   17.0|     1.8E-4|\n",
      "|                ONCOLOGY|      Bladder Cancer|            NULL|   18.0|   25.0|     2.0E-4|\n",
      "|                ONCOLOGY|      Bladder Cancer|            NULL|   25.0|   34.0|    0.00224|\n",
      "|                ONCOLOGY|      Bladder Cancer|            NULL|   35.0|   44.0|    0.00448|\n",
      "|                ONCOLOGY|      Bladder Cancer|            NULL|   45.0|   59.0|    0.00673|\n",
      "|                ONCOLOGY|      Bladder Cancer|            NULL|   45.0|   54.0|    0.00897|\n",
      "|                ONCOLOGY|      Bladder Cancer|            NULL|   55.0|   64.0|    0.02018|\n",
      "|                ONCOLOGY|      Bladder Cancer|            NULL|   65.0|   75.0|    0.02242|\n",
      "|                ONCOLOGY|      Bladder Cancer|            NULL|   76.0|   80.0|     0.0426|\n",
      "|                ONCOLOGY|Brain and Nervous...|            NULL|    0.0|   10.0|        0.0|\n",
      "|                ONCOLOGY|Brain and Nervous...|            NULL|   11.0|   17.0|     2.3E-4|\n",
      "|                ONCOLOGY|Brain and Nervous...|            NULL|   18.0|   25.0|     2.6E-4|\n",
      "|                ONCOLOGY|Brain and Nervous...|            NULL|   25.0|   34.0|    0.00291|\n",
      "|                ONCOLOGY|Brain and Nervous...|            NULL|   35.0|   44.0|    0.00581|\n",
      "|                ONCOLOGY|Brain and Nervous...|            NULL|   45.0|   59.0|    0.00872|\n",
      "|                ONCOLOGY|Brain and Nervous...|            NULL|   45.0|   54.0|    0.01163|\n",
      "|                ONCOLOGY|Brain and Nervous...|            NULL|   55.0|   64.0|    0.02616|\n",
      "|                ONCOLOGY|Brain and Nervous...|            NULL|   65.0|   75.0|    0.02906|\n",
      "|                ONCOLOGY|Brain and Nervous...|            NULL|   76.0|   80.0|    0.05522|\n",
      "+------------------------+--------------------+----------------+-------+-------+-----------+\n"
     ]
    },
    {
     "name": "stderr",
     "output_type": "stream",
     "text": [
      "                                                                                \r"
     ]
    }
   ],
   "source": [
    "condition_prob_df.show()"
   ]
  },
  {
   "cell_type": "code",
   "execution_count": 19,
   "id": "e1dc302cbd5cd49e",
   "metadata": {
    "collapsed": false,
    "ExecuteTime": {
     "end_time": "2024-04-22T07:43:25.425978Z",
     "start_time": "2024-04-22T07:43:25.356333Z"
    }
   },
   "outputs": [],
   "source": [
    "\"\"\"\n",
    "STEP 1 \n",
    "    From the flattened data list we wish to create a DataFrame. This contains all the possible combinations for the given \n",
    "    top level admissions, sub level admissions, stay types and list of tests available from the admission_mapping, stay_type and admission_tests lists or dictionaries in admission_types_test_dataset.py\n",
    "\"\"\"\n",
    "\n",
    "mapping_df = spark.createDataFrame(flattened, [\"top_level_admission\", \"sub_level_admission\", \"stay_types\", \"possible_tests\", \"doctor\"])\n",
    "\n",
    "joined_tbl = mapping_df.join(condition_prob_df, on=[mapping_df.sub_level_admission == condition_prob_df.condition_admission_type], how=\"left\")"
   ]
  },
  {
   "cell_type": "code",
   "execution_count": 20,
   "outputs": [],
   "source": [
    "gt_df = spark.sql(\"SELECT * FROM global_temp.sampled_df_with_unique_id_gt\")\n"
   ],
   "metadata": {
    "collapsed": false,
    "ExecuteTime": {
     "end_time": "2024-04-22T07:43:41.568443Z",
     "start_time": "2024-04-22T07:43:41.487836Z"
    }
   },
   "id": "a8e1ecc6cc582799"
  },
  {
   "cell_type": "code",
   "execution_count": 21,
   "outputs": [
    {
     "name": "stderr",
     "output_type": "stream",
     "text": [
      "[Stage 864:=========================================================(1 + 0) / 1]\r"
     ]
    }
   ],
   "source": [
    "\"\"\"\n",
    "STEP 3  \n",
    "Create Enum class df and join it on to main driver df. \n",
    "Then create conditions \n",
    "\"\"\"\n",
    "\n",
    "from src.data_generator.conditions_creator import ConditionsCreator\n",
    "from src.utils.thread_operations import runner\n",
    "from src.constants.type_constants import DepartmentTypes\n",
    "\n",
    "enum_values = [e.name for e in DepartmentTypes]\n",
    "\n",
    "enum_df = spark.createDataFrame(enum_values, StringType()).toDF(\"admission_type\")\n",
    "\n",
    "selected_conditions_df = runner(spark, ConditionsCreator, gt_df, joined_tbl, enum_df)\n"
   ],
   "metadata": {
    "collapsed": false,
    "ExecuteTime": {
     "end_time": "2024-04-22T07:47:01.016057Z",
     "start_time": "2024-04-22T07:43:48.379487Z"
    }
   },
   "id": "632611cc8f270e95"
  },
  {
   "cell_type": "code",
   "execution_count": 35,
   "outputs": [
    {
     "name": "stderr",
     "output_type": "stream",
     "text": [
      "                                                                                \r"
     ]
    },
    {
     "data": {
      "text/plain": "1272"
     },
     "execution_count": 35,
     "metadata": {},
     "output_type": "execute_result"
    }
   ],
   "source": [
    "from utils.util_funcs import get_row_count\n",
    "\n",
    "get_row_count(selected_conditions_df)"
   ],
   "metadata": {
    "collapsed": false,
    "ExecuteTime": {
     "end_time": "2024-04-21T21:54:30.412989Z",
     "start_time": "2024-04-21T21:54:23.859785Z"
    }
   },
   "id": "1c3e16d26fc1e5f7"
  },
  {
   "cell_type": "code",
   "execution_count": 33,
   "outputs": [
    {
     "name": "stdout",
     "output_type": "stream",
     "text": [
      "+--------------------+--------------------+--------------+-----------------+----------------------+\n",
      "|           unique_id|           Stay_type|Admission_type| Department_types|Condition_or_Diagnosis|\n",
      "+--------------------+--------------------+--------------+-----------------+----------------------+\n",
      "|   I_Bailey_19510420|[Inpatient, Day P...|      ONCOLOGY|      GP_REFERRAL|       Prostate Cancer|\n",
      "|    D_Smith_19760909|        [Outpatient]|   DERMATOLOGY|    SELF_REFERRAL|               Rosacea|\n",
      "|F_R_R_Watson_2006...|        [Outpatient]|   DERMATOLOGY|    SELF_REFERRAL|        pediatric_Acne|\n",
      "| M_F_Wilcox_19990316|        [Outpatient]|   DERMATOLOGY|      GP_REFERRAL|                  Acne|\n",
      "| C_Cummings_19691125|[Inpatient, Day P...|    CARDIOLOGY|HOSPITAL_REFERRAL|  Hypertension (Hig...|\n",
      "|    Q_E_Kim_19800219|        [Outpatient]|   DERMATOLOGY|      GP_REFERRAL|               Rosacea|\n",
      "|G_P_E_Nelson_1977...|        [Outpatient]|   DERMATOLOGY|    SELF_REFERRAL|               Rosacea|\n",
      "|  R_Johnson_20020908|        [Outpatient]|   DERMATOLOGY|    SELF_REFERRAL|                Eczema|\n",
      "|   B_Wilson_20090907|        [Outpatient]|   DERMATOLOGY|      GP_REFERRAL|    pediatric_Impetigo|\n",
      "|  H_L_Lopez_19670101|[Inpatient, Day P...|      ONCOLOGY|HOSPITAL_REFERRAL|  Non-Hodgkin Lymphoma|\n",
      "|     E_Pena_19500923|[Inpatient, Day P...|      ONCOLOGY|HOSPITAL_REFERRAL|     Colorectal Cancer|\n",
      "|    N_Garza_19800704|[Inpatient, Day P...|      ONCOLOGY|      GP_REFERRAL|         Breast Cancer|\n",
      "|    S_Davis_19490422|        [Outpatient]|   DERMATOLOGY|      GP_REFERRAL|  Shingles (Herpes ...|\n",
      "| Z_Martinez_19910804|        [Outpatient]|   DERMATOLOGY|    SELF_REFERRAL|                Eczema|\n",
      "|  U_Walters_20100106|        [Outpatient]|   DERMATOLOGY|      GP_REFERRAL|  pediatric_Hives (...|\n",
      "|  O_Stanley_19460710|[Inpatient, Day P...|    CARDIOLOGY|        EMERGENCY|  Coronary Artery D...|\n",
      "|     K_Reed_19830402|[Inpatient, Day P...|    CARDIOLOGY|        EMERGENCY|  Hypertension (Hig...|\n",
      "| Y_Martinez_20221028|        [Outpatient]|   DERMATOLOGY|    SELF_REFERRAL|    pediatric_Impetigo|\n",
      "|T_A_Gallegos_1951...|[Inpatient, Day P...|    CARDIOLOGY|        EMERGENCY|  Hypertension (Hig...|\n",
      "|   P_Taylor_19710923|[Inpatient, Day P...|    CARDIOLOGY|HOSPITAL_REFERRAL|  Coronary Artery D...|\n",
      "+--------------------+--------------------+--------------+-----------------+----------------------+\n"
     ]
    },
    {
     "name": "stderr",
     "output_type": "stream",
     "text": [
      "                                                                                \r"
     ]
    }
   ],
   "source": [
    "selected_conditions_df.show()"
   ],
   "metadata": {
    "collapsed": false,
    "ExecuteTime": {
     "end_time": "2024-04-21T21:53:13.580320Z",
     "start_time": "2024-04-21T21:53:11.303150Z"
    }
   },
   "id": "c737cfa61730f556"
  },
  {
   "cell_type": "code",
   "execution_count": null,
   "id": "a79379063057bfee",
   "metadata": {
    "collapsed": false
   },
   "outputs": [],
   "source": [
    "# TODO:  \n",
    "# tests to be chosen\n",
    "# admission date to be chosen \n",
    "# hospital name \n",
    "# patient postcode \n",
    "# ethnicity distribution  \n",
    "# _________________\n",
    "# Long term \n",
    "# investigation which disease affects specific ethnicities\n",
    "# blood type udf would need to consider ethnicity also eventually\n",
    "\n"
   ]
  },
  {
   "cell_type": "code",
   "execution_count": null,
   "id": "88f0099b41d9dc86",
   "metadata": {
    "collapsed": false
   },
   "outputs": [],
   "source": [
    "spark.stop()"
   ]
  }
 ],
 "metadata": {
  "kernelspec": {
   "display_name": "Python 3 (ipykernel)",
   "language": "python",
   "name": "python3"
  },
  "language_info": {
   "codemirror_mode": {
    "name": "ipython",
    "version": 3
   },
   "file_extension": ".py",
   "mimetype": "text/x-python",
   "name": "python",
   "nbconvert_exporter": "python",
   "pygments_lexer": "ipython3",
   "version": "3.11.4"
  }
 },
 "nbformat": 4,
 "nbformat_minor": 5
}
