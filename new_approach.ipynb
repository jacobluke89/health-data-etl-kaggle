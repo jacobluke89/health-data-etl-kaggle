{
 "cells": [
  {
   "cell_type": "code",
   "execution_count": 1,
   "id": "344f364a0ecf68e0",
   "metadata": {
    "collapsed": false,
    "ExecuteTime": {
     "end_time": "2024-04-20T16:47:43.567952Z",
     "start_time": "2024-04-20T16:47:37.004078Z"
    }
   },
   "outputs": [
    {
     "name": "stderr",
     "output_type": "stream",
     "text": [
      "24/04/20 17:47:40 WARN NativeCodeLoader: Unable to load native-hadoop library for your platform... using builtin-java classes where applicable\n",
      "Setting default log level to \"WARN\".\n",
      "To adjust logging level use sc.setLogLevel(newLevel). For SparkR, use setLogLevel(newLevel).\n",
      "/Users/jacobbickerstaff/Desktop/Development/health-data-etl-kaggle/venv/lib/python3.11/site-packages/pyspark/pandas/__init__.py:50: UserWarning: 'PYARROW_IGNORE_TIMEZONE' environment variable was not set. It is required to set this environment variable to '1' in both driver and executor sides if you use pyarrow>=2.0.0. pandas-on-Spark will set it for you but it does not work if there is a Spark context already launched.\n",
      "  warnings.warn(\n"
     ]
    }
   ],
   "source": [
    "import random\n",
    "\n",
    "from data_generator.csv_data_processor import CSVDataProcessor\n",
    "from utils.statistical_functions import create_distributed_age_df\n",
    "from utils.udf_functions import create_random_dob_udf, create_fake_name_udf, random_gender_pd_udf, choose_blood_type_udf\n",
    "from utils.read_write import read_postgres_table\n",
    "from spark_instance import spark\n",
    "from utils.data_vis.data_visualisations import plot_age_distribution_with_sd, plot_kernel_density_age_distribution\n",
    "\n",
    "\n",
    "from pyspark.sql.functions import col, lower, array, concat_ws, date_format, sum\n",
    "  "
   ]
  },
  {
   "cell_type": "code",
   "execution_count": 2,
   "outputs": [],
   "source": [
    "average_age = 40.2\n",
    "\n",
    "csv_age_file_file = CSVDataProcessor(spark, \"data/uk_age_population.csv\")\n",
    "\n",
    "csv_age_uk_df = csv_age_file_file.runner()"
   ],
   "metadata": {
    "collapsed": false,
    "ExecuteTime": {
     "end_time": "2024-04-20T15:44:21.289922Z",
     "start_time": "2024-04-20T15:44:14.981148Z"
    }
   },
   "id": "48c373a8586c425e"
  },
  {
   "cell_type": "code",
   "execution_count": 6,
   "outputs": [
    {
     "name": "stdout",
     "output_type": "stream",
     "text": [
      "+----------+--------------------+--------------+----------+-----+--------+------+---+--------------------+----------------+\n",
      "|sourceyear|              author|      location|       sex|ageid|agestart|ageend|age|        estimatetype|population_total|\n",
      "+----------+--------------------+--------------+----------+-----+--------+------+---+--------------------+----------------+\n",
      "|      2022|United Nations Po...|United Kingdom|Both sexes|   42|       0|     1|  0|Model-based Estim...|          678115|\n",
      "|      2022|United Nations Po...|United Kingdom|Both sexes|   89|       1|     1|  1|Model-based Estim...|          679828|\n",
      "|      2022|United Nations Po...|United Kingdom|Both sexes|  117|       2|     2|  2|Model-based Estim...|          682987|\n",
      "|      2022|United Nations Po...|United Kingdom|Both sexes|  126|       3|     3|  3|Model-based Estim...|          702265|\n",
      "|      2022|United Nations Po...|United Kingdom|Both sexes|  135|       4|     4|  4|Model-based Estim...|          733315|\n",
      "|      2022|United Nations Po...|United Kingdom|Both sexes|   90|       5|     5|  5|Model-based Estim...|          762395|\n",
      "|      2022|United Nations Po...|United Kingdom|Both sexes|  152|       6|     6|  6|Model-based Estim...|          790793|\n",
      "|      2022|United Nations Po...|United Kingdom|Both sexes|  161|       7|     7|  7|Model-based Estim...|          806716|\n",
      "|      2022|United Nations Po...|United Kingdom|Both sexes|  170|       8|     8|  8|Model-based Estim...|          811705|\n",
      "|      2022|United Nations Po...|United Kingdom|Both sexes|  179|       9|     9|  9|Model-based Estim...|          817063|\n",
      "|      2022|United Nations Po...|United Kingdom|Both sexes|   91|      10|    10| 10|Model-based Estim...|          834901|\n",
      "|      2022|United Nations Po...|United Kingdom|Both sexes|  109|      11|    11| 11|Model-based Estim...|          848409|\n",
      "|      2022|United Nations Po...|United Kingdom|Both sexes|  110|      12|    12| 12|Model-based Estim...|          845318|\n",
      "|      2022|United Nations Po...|United Kingdom|Both sexes|  111|      13|    13| 13|Model-based Estim...|          836752|\n",
      "|      2022|United Nations Po...|United Kingdom|Both sexes|  112|      14|    14| 14|Model-based Estim...|          831464|\n",
      "|      2022|United Nations Po...|United Kingdom|Both sexes|   86|      15|    15| 15|Model-based Estim...|          824296|\n",
      "|      2022|United Nations Po...|United Kingdom|Both sexes|  113|      16|    16| 16|Model-based Estim...|          805157|\n",
      "|      2022|United Nations Po...|United Kingdom|Both sexes|  114|      17|    17| 17|Model-based Estim...|          783871|\n",
      "|      2022|United Nations Po...|United Kingdom|Both sexes|  115|      18|    18| 18|Model-based Estim...|          769681|\n",
      "|      2022|United Nations Po...|United Kingdom|Both sexes|  116|      19|    19| 19|Model-based Estim...|          759081|\n",
      "+----------+--------------------+--------------+----------+-----+--------+------+---+--------------------+----------------+\n"
     ]
    }
   ],
   "source": [
    "csv_age_uk_df.show()"
   ],
   "metadata": {
    "collapsed": false,
    "ExecuteTime": {
     "end_time": "2024-04-20T15:26:58.132755Z",
     "start_time": "2024-04-20T15:26:57.776487Z"
    }
   },
   "id": "c3be2c9b63747804"
  },
  {
   "cell_type": "code",
   "execution_count": 7,
   "outputs": [
    {
     "name": "stdout",
     "output_type": "stream",
     "text": [
      "Weighted Standard Deviation of Age: 23.868386921247534\n"
     ]
    }
   ],
   "source": [
    "import math\n",
    "\n",
    "# Calculate the squared differences from the known mean, weighted by the population total\n",
    "csv_age_uk_sq_df = csv_age_uk_df.withColumn(\"weighted_squared_diff\", (col(\"age\") - average_age) ** 2 * col(\"population_total\"))\n",
    "\n",
    "# Sum up the weighted squared differences and the total population\n",
    "total_weighted_squared_diff = csv_age_uk_sq_df.select(sum(\"weighted_squared_diff\")).collect()[0][0]\n",
    "total_population = csv_age_uk_sq_df.select(sum(\"population_total\")).collect()[0][0]\n",
    "\n",
    "# Calculate the weighted variance\n",
    "weighted_variance = total_weighted_squared_diff / total_population\n",
    "\n",
    "# Calculate the weighted standard deviation\n",
    "weighted_standard_deviation = math.sqrt(weighted_variance)\n",
    "\n",
    "print(\"Weighted Standard Deviation of Age:\", weighted_standard_deviation)\n"
   ],
   "metadata": {
    "collapsed": false,
    "ExecuteTime": {
     "end_time": "2024-04-20T15:27:00.594716Z",
     "start_time": "2024-04-20T15:26:59.646900Z"
    }
   },
   "id": "3df6f1d125d889f7"
  },
  {
   "cell_type": "code",
   "execution_count": 5,
   "outputs": [
    {
     "ename": "NameError",
     "evalue": "name 'csv_age_uk_df' is not defined",
     "output_type": "error",
     "traceback": [
      "\u001B[0;31m---------------------------------------------------------------------------\u001B[0m",
      "\u001B[0;31mNameError\u001B[0m                                 Traceback (most recent call last)",
      "Cell \u001B[0;32mIn[5], line 3\u001B[0m\n\u001B[1;32m      1\u001B[0m \u001B[38;5;28;01mfrom\u001B[39;00m \u001B[38;5;21;01mutils\u001B[39;00m\u001B[38;5;21;01m.\u001B[39;00m\u001B[38;5;21;01mdata_vis\u001B[39;00m\u001B[38;5;21;01m.\u001B[39;00m\u001B[38;5;21;01mdata_visualisations\u001B[39;00m \u001B[38;5;28;01mimport\u001B[39;00m plot_age_distribution_with_sd, plot_kernel_density_age_distribution\n\u001B[0;32m----> 3\u001B[0m plot_age_distribution_with_sd(\u001B[43mcsv_age_uk_df\u001B[49m, average_age)\n",
      "\u001B[0;31mNameError\u001B[0m: name 'csv_age_uk_df' is not defined"
     ]
    }
   ],
   "source": [
    "plot_age_distribution_with_sd(csv_age_uk_df, average_age)\n"
   ],
   "metadata": {
    "collapsed": false,
    "ExecuteTime": {
     "end_time": "2024-04-20T16:46:31.439190Z",
     "start_time": "2024-04-20T16:46:30.469834Z"
    }
   },
   "id": "2b067d44ccbd2c1e"
  },
  {
   "cell_type": "code",
   "execution_count": 7,
   "outputs": [
    {
     "ename": "NameError",
     "evalue": "name 'csv_age_uk_df' is not defined",
     "output_type": "error",
     "traceback": [
      "\u001B[0;31m---------------------------------------------------------------------------\u001B[0m",
      "\u001B[0;31mNameError\u001B[0m                                 Traceback (most recent call last)",
      "Cell \u001B[0;32mIn[7], line 1\u001B[0m\n\u001B[0;32m----> 1\u001B[0m plot_kernel_density_age_distribution(\u001B[43mcsv_age_uk_df\u001B[49m)\n",
      "\u001B[0;31mNameError\u001B[0m: name 'csv_age_uk_df' is not defined"
     ]
    }
   ],
   "source": [
    "plot_kernel_density_age_distribution(csv_age_uk_df)\n"
   ],
   "metadata": {
    "collapsed": false,
    "ExecuteTime": {
     "end_time": "2024-04-20T16:46:59.741411Z",
     "start_time": "2024-04-20T16:46:59.725458Z"
    }
   },
   "id": "dc5e2fc658fbefcc"
  },
  {
   "cell_type": "code",
   "execution_count": 2,
   "outputs": [
    {
     "name": "stderr",
     "output_type": "stream",
     "text": [
      "                                                                                \r"
     ]
    }
   ],
   "source": [
    "sampled_df = create_distributed_age_df(spark,  \"data/uk_age_population.csv\")"
   ],
   "metadata": {
    "collapsed": false,
    "ExecuteTime": {
     "end_time": "2024-04-20T16:48:01.778992Z",
     "start_time": "2024-04-20T16:47:53.189779Z"
    }
   },
   "id": "dbc8ab960c79ce19"
  },
  {
   "cell_type": "code",
   "execution_count": 3,
   "outputs": [],
   "source": [
    "sampled_df_aggregated = sampled_df.groupby(col(\"Age\")).count()"
   ],
   "metadata": {
    "collapsed": false,
    "ExecuteTime": {
     "end_time": "2024-04-20T16:48:01.814029Z",
     "start_time": "2024-04-20T16:48:01.771078Z"
    }
   },
   "id": "f6632f60001d9078"
  },
  {
   "cell_type": "code",
   "execution_count": 10,
   "outputs": [
    {
     "name": "stderr",
     "output_type": "stream",
     "text": [
      "[Stage 18:>                                                         (0 + 1) / 1]\r"
     ]
    },
    {
     "name": "stdout",
     "output_type": "stream",
     "text": [
      "+---+-----+\n",
      "|Age|count|\n",
      "+---+-----+\n",
      "|  0|  101|\n",
      "|  1|  101|\n",
      "|  2|  100|\n",
      "|  3|  103|\n",
      "|  4|  109|\n",
      "|  5|  112|\n",
      "|  6|  115|\n",
      "|  7|  119|\n",
      "|  8|  115|\n",
      "|  9|  120|\n",
      "| 10|  123|\n",
      "| 11|  124|\n",
      "| 12|  123|\n",
      "| 13|  127|\n",
      "| 14|  122|\n",
      "| 15|  120|\n",
      "| 16|  118|\n",
      "| 17|  116|\n",
      "| 18|  115|\n",
      "| 19|  113|\n",
      "| 20|  112|\n",
      "| 21|  108|\n",
      "| 22|  106|\n",
      "| 23|  118|\n",
      "| 24|  129|\n",
      "| 25|  121|\n",
      "| 26|  122|\n",
      "| 27|  127|\n",
      "| 28|  132|\n",
      "| 29|  137|\n",
      "| 30|  137|\n",
      "| 31|  135|\n",
      "| 32|  133|\n",
      "| 33|  139|\n",
      "| 34|  131|\n",
      "| 35|  135|\n",
      "| 36|  135|\n",
      "| 37|  134|\n",
      "| 38|  132|\n",
      "| 39|  125|\n",
      "| 40|  129|\n",
      "| 41|  127|\n",
      "| 42|  131|\n",
      "| 43|  130|\n",
      "| 44|  126|\n",
      "| 45|  117|\n",
      "| 46|  114|\n",
      "| 47|  118|\n",
      "| 48|  114|\n",
      "| 49|  122|\n",
      "| 50|  127|\n",
      "| 51|  134|\n",
      "| 52|  139|\n",
      "| 53|  131|\n",
      "| 54|  138|\n",
      "| 55|  138|\n",
      "| 56|  134|\n",
      "| 57|  138|\n",
      "| 58|  143|\n",
      "| 59|  136|\n",
      "| 60|  131|\n",
      "| 61|  130|\n",
      "| 62|  124|\n",
      "| 63|  121|\n",
      "| 64|  113|\n",
      "| 65|  114|\n",
      "| 66|  109|\n",
      "| 67|  108|\n",
      "| 68|  101|\n",
      "| 69|   94|\n",
      "| 70|   94|\n",
      "| 71|   95|\n",
      "| 72|   89|\n",
      "| 73|   93|\n",
      "| 74|   97|\n",
      "| 75|  100|\n",
      "| 76|   93|\n",
      "| 77|   86|\n",
      "| 78|   79|\n",
      "| 79|   75|\n",
      "| 80|   63|\n",
      "| 81|   55|\n",
      "| 82|   50|\n",
      "| 83|   45|\n",
      "| 84|   44|\n",
      "| 85|   39|\n",
      "| 86|   36|\n",
      "| 87|   34|\n",
      "| 88|   30|\n",
      "| 89|   25|\n",
      "| 90|   21|\n",
      "| 91|   18|\n",
      "| 92|   16|\n",
      "| 93|   12|\n",
      "| 94|   10|\n",
      "| 95|    8|\n",
      "| 96|    6|\n",
      "| 97|    4|\n",
      "| 98|    3|\n",
      "| 99|    2|\n",
      "|100|    3|\n",
      "+---+-----+\n"
     ]
    },
    {
     "name": "stderr",
     "output_type": "stream",
     "text": [
      "                                                                                \r"
     ]
    }
   ],
   "source": [
    "sampled_df_aggregated.orderBy(\"Age\").show(n=200)"
   ],
   "metadata": {
    "collapsed": false,
    "ExecuteTime": {
     "end_time": "2024-04-20T16:47:09.853435Z",
     "start_time": "2024-04-20T16:47:08.181994Z"
    }
   },
   "id": "6b8df9b39afdebc7"
  },
  {
   "cell_type": "code",
   "execution_count": 21,
   "outputs": [
    {
     "name": "stdout",
     "output_type": "stream",
     "text": [
      "Weighted Standard Deviation of Age: 23.89101504750269\n"
     ]
    }
   ],
   "source": [
    "# Calculate the squared differences from the known mean, weighted by the population total\n",
    "small_sample_df = sampled_df_aggregated.withColumn(\"weighted_squared_diff\", (col(\"age\") - 40.2) ** 2 * col(\"count\"))\n",
    "\n",
    "# Sum up the weighted squared differences and the total population\n",
    "total_weighted_squared_diff = small_sample_df.select(sum(\"weighted_squared_diff\")).collect()[0][0]\n",
    "total_population = small_sample_df.select(sum(\"count\")).collect()[0][0]\n",
    "\n",
    "# Calculate the weighted variance\n",
    "weighted_variance = total_weighted_squared_diff / total_population\n",
    "\n",
    "# Calculate the weighted standard deviation\n",
    "weighted_standard_deviation = math.sqrt(weighted_variance)\n",
    "\n",
    "print(\"Weighted Standard Deviation of Age:\", weighted_standard_deviation)"
   ],
   "metadata": {
    "collapsed": false,
    "ExecuteTime": {
     "end_time": "2024-04-20T12:20:03.321327Z",
     "start_time": "2024-04-20T12:20:02.264054Z"
    }
   },
   "id": "f2d8c4071a395c25"
  },
  {
   "cell_type": "code",
   "execution_count": 15,
   "outputs": [
    {
     "name": "stdout",
     "output_type": "stream",
     "text": [
      "+---+----------------+\n",
      "|age|population_total|\n",
      "+---+----------------+\n",
      "| 95|               8|\n",
      "| 62|             128|\n",
      "| 66|             110|\n",
      "| 93|              11|\n",
      "| 60|             120|\n",
      "| 56|             140|\n",
      "| 74|              94|\n",
      "| 36|             138|\n",
      "| 58|             141|\n",
      "|  7|             122|\n",
      "| 70|              96|\n",
      "| 69|              98|\n",
      "| 17|             118|\n",
      "| 18|             110|\n",
      "| 38|             134|\n",
      "| 81|              60|\n",
      "| 42|             128|\n",
      "| 46|             116|\n",
      "| 61|             131|\n",
      "|  3|             104|\n",
      "+---+----------------+\n"
     ]
    },
    {
     "data": {
      "text/plain": "<Figure size 1200x600 with 1 Axes>",
      "image/png": "[encoded data removed]"
     },
     "metadata": {},
     "output_type": "display_data"
    }
   ],
   "source": [
    "plot_age_distribution_with_sd(sampled_df_aggregated)"
   ],
   "metadata": {
    "collapsed": false,
    "ExecuteTime": {
     "end_time": "2024-04-20T16:54:29.216568Z",
     "start_time": "2024-04-20T16:54:27.503633Z"
    }
   },
   "id": "71e065f8031e4003"
  },
  {
   "cell_type": "code",
   "execution_count": 47,
   "outputs": [],
   "source": [],
   "metadata": {
    "collapsed": false,
    "ExecuteTime": {
     "end_time": "2024-04-20T12:46:40.588859Z",
     "start_time": "2024-04-20T12:46:40.559244Z"
    }
   },
   "id": "fe59b78d05277d5b"
  },
  {
   "cell_type": "code",
   "execution_count": 62,
   "outputs": [],
   "source": [
    "from pyspark.sql.functions import regexp_replace\n",
    "from pyspark.sql import DataFrame\n",
    "\n",
    "\n",
    "def create_unique_id(non_unique_id_df: DataFrame) -> DataFrame:\n",
    "    \"\"\"\n",
    "    Cleans a name column by removing spaces and periods, and then concatenates it with a date column to form a unique ID.\n",
    "\n",
    "    Args:\n",
    "        non_unique_id_df (DataFrame): The input DataFrame that contains the name and date of birth columns.\n",
    "    Returns:\n",
    "        DataFrame: A DataFrame with an added column that combines cleaned names with dates of birth into a unique ID.\n",
    "    \"\"\"\n",
    "    # Clean the 'name' column by removing periods and replacing spaces with underscores\n",
    "    cleaned_df = non_unique_id_df.withColumn(\n",
    "        \"clean_name\",\n",
    "        regexp_replace(regexp_replace(col(\"name\"), \"\\\\.\", \"\"), \"\\\\s\", \"_\")\n",
    "    )\n",
    "\n",
    "    return cleaned_df.withColumn(\n",
    "        \"unique_id\",\n",
    "        concat_ws(\"_\", col(\"clean_name\"), col(\"DOB\"))\n",
    "    ).drop(\"clean_name\")\n"
   ],
   "metadata": {
    "collapsed": false,
    "ExecuteTime": {
     "end_time": "2024-04-20T12:56:40.592297Z",
     "start_time": "2024-04-20T12:56:40.570731Z"
    }
   },
   "id": "e4566a4fa77c2644"
  },
  {
   "cell_type": "code",
   "execution_count": 63,
   "outputs": [],
   "source": [
    "from pyspark.sql.functions import lit\n",
    "\n",
    "is_female = lower(col('gender')) == 'female'\n",
    "is_pediatric = col(\"Age\") < 18\n",
    "is_geriatric = (col(\"Age\") >= 65)\n",
    "\n",
    "sampled_df = sampled_df.withColumn(\"size\", lit(1))\n",
    "sampled_df_with_name = (sampled_df.withColumn(\"name\", create_fake_name_udf(col(\"size\")))\n",
    "                                           .withColumn(\"DOB\", create_random_dob_udf(col(\"Age\")))\n",
    "                                           .withColumn(\"gender\", random_gender_pd_udf(lit(\"uk\")))\n",
    "                                           .withColumn(\"blood_type\", choose_blood_type_udf(col(\"size\")))\n",
    "                                           .withColumn(\"is_female\", is_female)\n",
    "                                           .withColumn(\"is_pediatric\", is_pediatric)\n",
    "                                           .withColumn(\"is_geriatric\", is_geriatric)\n",
    "                        .drop(\"size\"))\n",
    "sampled_df_with_unique_id = create_unique_id(sampled_df_with_name)"
   ],
   "metadata": {
    "collapsed": false,
    "ExecuteTime": {
     "end_time": "2024-04-20T12:56:49.027023Z",
     "start_time": "2024-04-20T12:56:48.921233Z"
    }
   },
   "id": "f87bda80e7f65562"
  },
  {
   "cell_type": "code",
   "execution_count": 63,
   "outputs": [],
   "source": [],
   "metadata": {
    "collapsed": false,
    "ExecuteTime": {
     "end_time": "2024-04-20T12:56:49.683930Z",
     "start_time": "2024-04-20T12:56:49.674884Z"
    }
   },
   "id": "d4703b95b3fdbf13"
  },
  {
   "cell_type": "code",
   "execution_count": 64,
   "outputs": [
    {
     "name": "stderr",
     "output_type": "stream",
     "text": [
      "[Stage 106:>                                                        (0 + 1) / 1]\r"
     ]
    },
    {
     "name": "stdout",
     "output_type": "stream",
     "text": [
      "+---+-----------------+--------+------+----------+---------+------------+------------+--------------------+\n",
      "|Age|             name|     DOB|gender|blood_type|is_female|is_pediatric|is_geriatric|           unique_id|\n",
      "+---+-----------------+--------+------+----------+---------+------------+------------+--------------------+\n",
      "| 71|         G. Patel|19521218|Female|        A-|     true|       false|        true|    G_Patel_19521218|\n",
      "| 52|    J. Fitzgerald|19720129|Female|        A+|     true|       false|       false|J_Fitzgerald_1972...|\n",
      "| 19|          D. Soto|20040723|Female|        A+|     true|       false|       false|     D_Soto_20040723|\n",
      "| 47|       G. H. Reed|19770315|  Male|        O-|    false|       false|       false|   G_H_Reed_19770315|\n",
      "| 57|       Z. Stewart|19670313|Female|        A-|     true|       false|       false|  Z_Stewart_19670313|\n",
      "| 69|          P. Wong|19540603|Female|        A+|     true|       false|        true|     P_Wong_19540603|\n",
      "| 32|         V. Smith|19910910|  Male|        O+|    false|       false|       false|    V_Smith_19910910|\n",
      "| 28|         Z. Mason|19960119|Female|        B+|     true|       false|       false|    Z_Mason_19960119|\n",
      "| 28| T. Q. B. Simmons|19960117|  Male|        O+|    false|       false|       false|T_Q_B_Simmons_199...|\n",
      "| 42|      L. Chandler|19820205|  Male|        O+|    false|       false|       false| L_Chandler_19820205|\n",
      "| 60|     N. A. Nguyen|19630709|  Male|        O+|    false|       false|       false| N_A_Nguyen_19630709|\n",
      "| 18|         N. H. Wu|20050827|  Male|        O+|    false|       false|       false|     N_H_Wu_20050827|\n",
      "| 26|    F. G. Parsons|19970910|  Male|        O-|    false|       false|       false|F_G_Parsons_19970910|\n",
      "| 35|    W. V. Houston|19890311|  Male|        O-|    false|       false|       false|W_V_Houston_19890311|\n",
      "| 32|  I. V. V. Nguyen|19910713|  Male|        O+|    false|       false|       false|I_V_V_Nguyen_1991...|\n",
      "| 13|          D. Cruz|20100728|  Male|        O+|    false|        true|       false|     D_Cruz_20100728|\n",
      "| 67|      U. T. Poole|19561204|  Male|        O-|    false|       false|        true|  U_T_Poole_19561204|\n",
      "|  6|I. F. W. Arellano|20180205|  Male|        O+|    false|        true|       false|I_F_W_Arellano_20...|\n",
      "| 84|       M. W. Vega|19391222|  Male|        O+|    false|       false|        true|   M_W_Vega_19391222|\n",
      "| 38|       D. Gardner|19851109|  Male|        O+|    false|       false|       false|  D_Gardner_19851109|\n",
      "+---+-----------------+--------+------+----------+---------+------------+------------+--------------------+\n"
     ]
    },
    {
     "name": "stderr",
     "output_type": "stream",
     "text": [
      "0     71\n",
      "1     52\n",
      "2     19\n",
      "3     47\n",
      "4     57\n",
      "5     69\n",
      "6     32\n",
      "7     28\n",
      "8     28\n",
      "9     42\n",
      "10    60\n",
      "11    18\n",
      "12    26\n",
      "13    35\n",
      "14    32\n",
      "15    13\n",
      "16    67\n",
      "17     6\n",
      "18    84\n",
      "19    38\n",
      "20    15\n",
      "Name: _1, dtype: int64\n",
      "                                                                                \r"
     ]
    }
   ],
   "source": [
    "sampled_df_with_unique_id.show()"
   ],
   "metadata": {
    "collapsed": false,
    "ExecuteTime": {
     "end_time": "2024-04-20T12:56:52.665944Z",
     "start_time": "2024-04-20T12:56:50.288666Z"
    }
   },
   "id": "a562edd7a9772e29"
  },
  {
   "cell_type": "code",
   "execution_count": null,
   "id": "initial_id",
   "metadata": {
    "collapsed": true,
    "jupyter": {
     "outputs_hidden": true
    }
   },
   "outputs": [],
   "source": [
    "# will be scrapping this shortly \n",
    "# csv_reader = CSVDataProcessor(spark, \"data/healthcare_dataset.csv\")\n",
    "\n",
    "# # Read the CSV file\n",
    "# raw_df = csv_reader.run()\n"
   ]
  },
  {
   "cell_type": "code",
   "execution_count": null,
   "id": "19c3e561ca62f93",
   "metadata": {
    "collapsed": false
   },
   "outputs": [],
   "source": [
    "# above is commented out as it's saved in the database:\n",
    "df = read_postgres_table(\"dob_age_raw_data\")"
   ]
  },
  {
   "cell_type": "code",
   "execution_count": null,
   "id": "d463e373907bf09e",
   "metadata": {
    "collapsed": false
   },
   "outputs": [],
   "source": [
    "from constants.admission_types_dataset import admission_mapping, AdmissionTypes\n",
    "flattened = [\n",
    "    (\n",
    "        top_level.name,\n",
    "        sub_level_key.name,\n",
    "        list(sub_level_info.get(\"stay_types\")),\n",
    "        sub_level_info.get(\"tests\"),  \n",
    "        random.choice(sub_level_info.get(\"doctors\"))\n",
    "    )\n",
    "    for top_level, sub_level_dict in admission_mapping.items()\n",
    "    for sub_level_key, sub_level_info in sub_level_dict.items()\n",
    "]\n",
    "\n"
   ]
  },
  {
   "cell_type": "code",
   "execution_count": null,
   "id": "9aa93b831b3aed7b",
   "metadata": {
    "collapsed": false
   },
   "outputs": [],
   "source": [
    "flattened"
   ]
  },
  {
   "cell_type": "code",
   "execution_count": null,
   "id": "76324a29d381e7c4",
   "metadata": {
    "collapsed": false
   },
   "outputs": [],
   "source": [
    "from constants.condition_probabilities import condition_age_probability_dict\n",
    "\n",
    "flattened_condition_probabilities = [\n",
    "    (\n",
    "        sub_admission,\n",
    "        condition,\n",
    "        gender if gender in ['male', 'female'] else None,\n",
    "        float(age_range[0]),\n",
    "        float(age_range[1]) if len(age_range) > 1 else float('inf'),\n",
    "        float(probability) \n",
    "    )\n",
    "    for sub_admission, conditions in condition_age_probability_dict.items()\n",
    "    for condition, genders_or_age_prob_list in conditions.items()\n",
    "    for gender, age_prob_list in (genders_or_age_prob_list.items() if isinstance(genders_or_age_prob_list, dict) else [(None, genders_or_age_prob_list)])\n",
    "    for age_range, probability in age_prob_list\n",
    "]\n",
    "\n"
   ]
  },
  {
   "cell_type": "code",
   "execution_count": null,
   "outputs": [],
   "source": [
    "flattened_condition_probabilities"
   ],
   "metadata": {
    "collapsed": false
   },
   "id": "4d8352a033cdbc4d"
  },
  {
   "cell_type": "code",
   "execution_count": null,
   "id": "18fa988bdaed2265",
   "metadata": {
    "collapsed": false
   },
   "outputs": [],
   "source": [
    "from pyspark.sql.types import StructType, StructField, StringType, FloatType\n",
    "\n",
    "columns = [\"condition_admission_type\", \"condition\", \"gender\", \"age_min\", \"age_max\", \"probability\"]\n",
    "schema = StructType([\n",
    "    StructField(\"condition_admission_type\", StringType(), True),\n",
    "    StructField(\"condition\", StringType(), True),\n",
    "    StructField(\"condition_gender\", StringType(), True),  # Assuming gender can be specific probability for gender 'male', 'female', or null\n",
    "    StructField(\"age_min\", FloatType(), False),\n",
    "    StructField(\"age_max\", FloatType(), False),\n",
    "    StructField(\"probability\", FloatType(), False)\n",
    "])\n",
    "\n",
    "\n",
    "\n",
    "condition_prob_df = spark.createDataFrame(data=flattened_condition_probabilities, schema=schema)\n"
   ]
  },
  {
   "cell_type": "code",
   "execution_count": null,
   "id": "76a88bdeea4c696e",
   "metadata": {
    "collapsed": false
   },
   "outputs": [],
   "source": [
    "condition_prob_df.show()"
   ]
  },
  {
   "cell_type": "code",
   "execution_count": null,
   "id": "e1dc302cbd5cd49e",
   "metadata": {
    "collapsed": false
   },
   "outputs": [],
   "source": [
    "\"\"\"\n",
    "STEP 1 \n",
    "    From the flattened data list we wish to create a DataFrame. This contains all the possible combinations for the given \n",
    "    top level admissions, sub level admissions, stay types and list of tests available from the admission_mapping, stay_type and admission_tests lists or dictionaries in admission_types_test_dataset.py\n",
    "\"\"\"\n",
    "\n",
    "mapping_df = spark.createDataFrame(flattened, [\"top_level_admission\", \"sub_level_admission\", \"stay_types\", \"possible_tests\", \"doctor\"])\n",
    "\n",
    "joined_tbl = mapping_df.join(condition_prob_df, on=[mapping_df.sub_level_admission == condition_prob_df.condition_admission_type], how=\"left\")"
   ]
  },
  {
   "cell_type": "code",
   "execution_count": null,
   "id": "b51112bb4b4cff7a",
   "metadata": {
    "collapsed": false
   },
   "outputs": [],
   "source": [
    "\"\"\"\n",
    "STEP 2 \n",
    "    Create a list of admission_types randomly assign this to the original patient in the original data set, \n",
    "    whilst dropping the original admission_type column. Then join with mapping_df on top_level_admission col to give access to possible \n",
    "    conditions, mappings and so on.\n",
    "\"\"\"\n",
    "admission_type_names = [member.name for member in AdmissionTypes]\n",
    "\n",
    "keys_array = array([lit(name) for name in admission_type_names])\n",
    "\n",
    "# Define constants and conditions\n",
    "female_only = [\"MATERNITY\", 'obstetrics']\n",
    "is_female = lower(col('gender')) == 'female'\n",
    "is_pediatric = col(\"Age\") < 18\n",
    "is_geriatric = (col(\"Age\") >= 65)\n",
    "\n",
    "df = (df.withColumn(\"is_female\", is_female)\n",
    "        .withColumn(\"is_pediatric\", is_pediatric)\n",
    "        .withColumn(\"is_geriatric\", is_geriatric)\n",
    "        .withColumn(\"unique_id\", concat_ws(\"_\", \"name\", date_format(\"DOB\", \"yyyyMMdd\")))\n",
    "        .drop(\"doctor\", \"medical_condition\", \"test_results\", \"medication\", \"admission_type\")\n",
    "      )\n",
    "\n"
   ]
  },
  {
   "cell_type": "code",
   "execution_count": null,
   "outputs": [],
   "source": [
    "df.show()"
   ],
   "metadata": {
    "collapsed": false
   },
   "id": "cb85743cf53f2d33"
  },
  {
   "cell_type": "code",
   "execution_count": null,
   "id": "3970b6d3692be37f",
   "metadata": {
    "collapsed": false
   },
   "outputs": [],
   "source": [
    "\"\"\"\n",
    "STEP 3  \n",
    "Create Enum class df and join it on to main driver df. \n",
    "Then create conditions \n",
    "\"\"\"\n",
    "\n",
    "from data_generator.conditions_creator import ConditionsCreator\n",
    "from utils.thread_operations import runner\n",
    "from constants.type_constants import DepartmentTypes\n",
    "\n",
    "enum_values = [e.name for e in DepartmentTypes]\n",
    "\n",
    "enum_df = spark.createDataFrame(enum_values, StringType()).toDF(\"admission_type\")\n",
    "\n",
    "selected_conditions_df = runner(spark, ConditionsCreator, df, joined_tbl, enum_df)\n"
   ]
  },
  {
   "cell_type": "code",
   "execution_count": null,
   "id": "a79379063057bfee",
   "metadata": {
    "collapsed": false
   },
   "outputs": [],
   "source": [
    "# TODO:  \n",
    "# tests to be chosen\n",
    "# admission date to be chosen \n",
    "# hospital name \n",
    "# patient postcode \n",
    "# ethnicity distribution  \n",
    "# _________________\n",
    "# Long term \n",
    "# investigation which disease affects specific ethnicities\n",
    "# blood type udf would need to consider ethnicity also eventually\n",
    "\n"
   ]
  },
  {
   "cell_type": "code",
   "execution_count": null,
   "id": "88f0099b41d9dc86",
   "metadata": {
    "collapsed": false
   },
   "outputs": [],
   "source": [
    "spark.stop()"
   ]
  }
 ],
 "metadata": {
  "kernelspec": {
   "display_name": "Python 3 (ipykernel)",
   "language": "python",
   "name": "python3"
  },
  "language_info": {
   "codemirror_mode": {
    "name": "ipython",
    "version": 3
   },
   "file_extension": ".py",
   "mimetype": "text/x-python",
   "name": "python",
   "nbconvert_exporter": "python",
   "pygments_lexer": "ipython3",
   "version": "3.11.4"
  }
 },
 "nbformat": 4,
 "nbformat_minor": 5
}
