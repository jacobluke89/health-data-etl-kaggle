{
 "cells": [
  {
   "cell_type": "code",
   "execution_count": 1,
   "id": "344f364a0ecf68e0",
   "metadata": {
    "collapsed": false,
    "ExecuteTime": {
     "end_time": "2024-04-24T20:09:01.567497Z",
     "start_time": "2024-04-24T20:08:55.432825Z"
    }
   },
   "outputs": [
    {
     "name": "stderr",
     "output_type": "stream",
     "text": [
      "24/04/24 21:08:58 WARN NativeCodeLoader: Unable to load native-hadoop library for your platform... using builtin-java classes where applicable\n",
      "Setting default log level to \"WARN\".\n",
      "To adjust logging level use sc.setLogLevel(newLevel). For SparkR, use setLogLevel(newLevel).\n"
     ]
    }
   ],
   "source": [
    "import random\n",
    "\n",
    "from src.data_generator.csv_data_processor import CSVDataProcessor\n",
    "from src.utils.statistcs.statistical_functions import create_distributed_age_df\n",
    "from spark_instance import spark\n",
    "from src.utils.statistcs.data_visualisations import plot_age_distribution_with_sd, plot_kernel_density_age_distribution\n",
    "from pyspark.sql.types import StructType, StructField, StringType, FloatType\n",
    "\n",
    "from pyspark.sql.functions import col\n",
    "  "
   ]
  },
  {
   "cell_type": "code",
   "execution_count": null,
   "outputs": [],
   "source": [
    "average_age = 40.2\n",
    "\n",
    "csv_age_file_file = CSVDataProcessor(spark, \"data/uk_age_population.csv\")\n",
    "\n",
    "csv_age_uk_df = csv_age_file_file.runner()"
   ],
   "metadata": {
    "collapsed": false
   },
   "id": "48c373a8586c425e"
  },
  {
   "cell_type": "code",
   "execution_count": null,
   "outputs": [],
   "source": [
    "csv_age_uk_df.show()"
   ],
   "metadata": {
    "collapsed": false
   },
   "id": "c3be2c9b63747804"
  },
  {
   "cell_type": "code",
   "execution_count": null,
   "outputs": [],
   "source": [
    "plot_age_distribution_with_sd(csv_age_uk_df, average_age)\n"
   ],
   "metadata": {
    "collapsed": false
   },
   "id": "2b067d44ccbd2c1e"
  },
  {
   "cell_type": "code",
   "execution_count": null,
   "outputs": [],
   "source": [
    "plot_kernel_density_age_distribution(csv_age_uk_df)\n"
   ],
   "metadata": {
    "collapsed": false
   },
   "id": "dc5e2fc658fbefcc"
  },
  {
   "cell_type": "code",
   "execution_count": null,
   "outputs": [],
   "source": [
    "from pyspark.sql import SparkSession\n",
    "from typing import Dict\n",
    "from pprint import pprint"
   ],
   "metadata": {
    "collapsed": false
   },
   "id": "42902c856b99c504"
  },
  {
   "cell_type": "code",
   "execution_count": null,
   "outputs": [],
   "source": [],
   "metadata": {
    "collapsed": false
   },
   "id": "60df4a75286f5e8a"
  },
  {
   "cell_type": "code",
   "execution_count": 39,
   "outputs": [],
   "source": [
    "from pyspark.sql import DataFrame\n",
    "from typing import Dict, List\n",
    "\n",
    "def get_config(country: str, file_path: str) -> Dict:\n",
    "    \"\"\"\n",
    "    \n",
    "    Args:\n",
    "        country: \n",
    "        file_path: \n",
    "\n",
    "    Returns:\n",
    "\n",
    "    \"\"\"\n",
    "    type_dict = {\n",
    "    \"ethnicity\": {\n",
    "        \"uk\": {\n",
    "                \"file_path\": \"data/uk/ethnicity.csv\",\n",
    "                \"columns\": [\"ethnic_group\", \"population\"]\n",
    "        }\n",
    "    },\n",
    "    \"population_distribution\":\n",
    "                            {\n",
    "                                \"uk\": {\n",
    "                                        \"file_path\": \"data/uk/population_distrubition_2011_census.csv\",\n",
    "                                        \"columns\": [\"postcode_area\", \"population\"]\n",
    "                            }\n",
    "        }\n",
    "    }\n",
    "    return type_dict[file_path][country]\n",
    "\n",
    "def normalize_data(df: DataFrame, required_columns: List) -> Dict:\n",
    "    \"\"\"\n",
    "    \n",
    "    Args:\n",
    "        df: \n",
    "        required_columns: \n",
    "\n",
    "    Returns:\n",
    "\n",
    "    \"\"\"\n",
    "    data_collected = df.rdd.map(lambda row: (row[required_columns[0]], row[required_columns[1]])).collect()\n",
    "    dict_from_df = dict(data_collected)\n",
    "    total_population = sum(dict_from_df.values())\n",
    "    return {key: (value / total_population) * 100 for key, value in dict_from_df.items()}\n",
    "         \n",
    "        \n",
    "def get_normalised_data_dict(spark: SparkSession, country: str, file_type: str) -> Dict:\n",
    "    \"\"\"\n",
    "    \n",
    "    Args:\n",
    "        spark: \n",
    "        country: \n",
    "        file_type: \n",
    "\n",
    "    Returns:\n",
    "\n",
    "    \"\"\"\n",
    "    config = get_config(country, file_type)\n",
    "    data_processor_ethnicity = CSVDataProcessor(spark, config[\"file_path\"])\n",
    "    df = data_processor_ethnicity.runner()\n",
    "    required_columns = config[\"columns\"]\n",
    "    if not all(col in df.columns for col in required_columns):\n",
    "        raise ValueError(\"Required columns are missing in the data\")\n",
    "    return normalize_data(df, required_columns)\n"
   ],
   "metadata": {
    "collapsed": false,
    "ExecuteTime": {
     "end_time": "2024-04-24T20:35:38.662217Z",
     "start_time": "2024-04-24T20:35:38.640831Z"
    }
   },
   "id": "5ec5f057eb60a107"
  },
  {
   "cell_type": "code",
   "execution_count": 40,
   "outputs": [
    {
     "data": {
      "text/plain": "{'BS': 1.676434615989839,\n 'B': 3.3959198024278234,\n 'BN': 1.431698516111517,\n 'BD': 1.031412560887106,\n 'BL': 0.6775262076878928,\n 'CA': 0.5672917098521733,\n 'BR': 0.5334857505304595,\n 'BH': 0.9845760511215582,\n 'AL': 0.4456655114231579,\n 'CH': 1.1767619579686908,\n 'BA': 0.7749120513635159,\n 'CB': 0.7510372724744985,\n 'CF': 1.7927572894400718,\n 'BB': 0.8712546663529966,\n 'GL': 1.0797113741101527,\n 'EX': 0.9761785060223362,\n 'E': 1.7639071122017596,\n 'FY': 0.4932474392926503,\n 'CV': 1.4641456031958964,\n 'DN': 1.348275887158108,\n 'DL': 0.6432958237041245,\n 'CT': 0.8606672326613253,\n 'EN': 0.6148451049712754,\n 'DE': 1.3020296486662581,\n 'EC': 0.06055362951564657,\n 'CR': 0.7226561023207255,\n 'DY': 0.7326621812231962,\n 'CM': 1.165609219159913,\n 'DA': 0.7670655450062052,\n 'DG': 0.00011591429846027292,\n 'CW': 0.551907207501146,\n 'DT': 0.3794784470023421,\n 'DH': 0.5510922408181252,\n 'CO': 0.7336679606744514,\n 'LA': 0.5865727159283651,\n 'HR': 0.314409509737443,\n 'LN': 0.5227574363837364,\n 'LL': 0.9580798257904392,\n 'HP': 0.8713045986661795,\n 'L': 1.5277058712839124,\n 'GU': 1.2948875445842059,\n 'KT': 0.9444928867139959,\n 'HA': 0.8571915870044164,\n 'HD': 0.46872710692605407,\n 'LD': 0.0895660867718032,\n 'LS': 1.3814790921278286,\n 'LE': 1.7571751664065667,\n 'HU': 0.7903910684502108,\n 'IG': 0.5986402860465292,\n 'IP': 1.0626363062985047,\n 'HX': 0.28557181557742656,\n 'HG': 0.24647659765212557,\n 'MK': 0.9059772402809964,\n 'NW': 0.9874685586923668,\n 'OL': 0.8249353126882716,\n 'NP': 0.8712635828374936,\n 'NE': 2.0739314948636056,\n 'M': 2.0818457665030934,\n 'NR': 1.2886424388425461,\n 'ME': 1.082266838566977,\n 'NN': 1.164590956630362,\n 'N': 1.5108037832715053,\n 'NG': 2.075074588176114,\n 'LU': 0.5993571714000836,\n 'RG': 1.3881521891253414,\n 'PL': 0.9683587491185164,\n 'RH': 0.9485766366135961,\n 'SA': 1.3019404838212885,\n 'PO': 1.4668330316232752,\n 'OX': 1.0940383813998424,\n 'SG': 0.7177395527691106,\n 'S': 2.422048882593296,\n 'SE': 1.7621220320054716,\n 'PE': 1.5879723899987572,\n 'PR': 0.9279670743473597,\n 'RM': 0.9225084025383304,\n 'SL': 0.665895545310079,\n 'SM': 0.38728037093716816,\n 'SW': 1.5642777240965782,\n 'SO': 1.1867341542300731,\n 'TW': 0.8772358441535467,\n 'SP': 0.4142277703838325,\n 'TR': 0.5243980695311741,\n 'TS': 1.0741153884398704,\n 'TN': 1.2157573112676259,\n 'TD': 0.03268961546269635,\n 'TQ': 0.5013061579809883,\n 'SK': 1.0762910106571248,\n 'SN': 0.8181730508457892,\n 'SY': 0.6098019413398038,\n 'SS': 0.9248730542269202,\n 'TF': 0.379014789808501,\n 'TA': 0.5749491867381489,\n 'SR': 0.4473275441333883,\n 'ST': 1.149185054716542,\n 'WC': 0.06374394766865317,\n 'YO': 1.0035699463969485,\n 'WA': 1.0993704391290149,\n 'WF': 0.9144461172561936,\n 'W': 0.9481611284360387,\n 'WS': 0.8019985479683326,\n 'WR': 0.5133006129262775,\n 'WD': 0.4573728555676455,\n 'WV': 0.7065190486781561,\n 'UB': 0.6623396512926977,\n 'WN': 0.5513169362274483,\n 'AB': 0.0,\n 'JE': 0.0,\n 'EH': 0.0,\n 'KA': 0.0,\n 'HS': 0.0,\n 'ML': 0.0,\n 'ZE': 0.0,\n 'IV': 0.0,\n 'GY': 0.0,\n 'KY': 0.0,\n 'PA': 0.0,\n 'G': 0.0,\n 'KW': 0.0,\n 'PH': 0.0,\n 'FK': 0.0,\n 'DD': 0.0,\n 'IM': 0.0,\n 'BT': 0.0}"
     },
     "execution_count": 40,
     "metadata": {},
     "output_type": "execute_result"
    }
   ],
   "source": [
    "get_normalised_data_dict(spark, \"uk\", \"population_distribution\")"
   ],
   "metadata": {
    "collapsed": false,
    "ExecuteTime": {
     "end_time": "2024-04-24T20:35:39.984499Z",
     "start_time": "2024-04-24T20:35:39.577500Z"
    }
   },
   "id": "95b63dbd2a93c242"
  },
  {
   "cell_type": "code",
   "execution_count": 52,
   "outputs": [],
   "source": [
    "import numpy as np\n",
    "\n",
    "def adjust_postcode_weights() -> Dict|None:\n",
    "    \"\"\"\n",
    "    Adjusts postcode weights by setting zero weights to the lower quartile of the non-zero weights\n",
    "    and scales the non-zero weights so that the total sums to 100.\n",
    "\n",
    "    Returns:\n",
    "    dict: Adjusted postcode weights where all weights sum to 100.\n",
    "    \"\"\"\n",
    "    postcode_weights = get_normalised_data_dict(spark, \"uk\", \"population_distribution\")\n",
    "\n",
    "    non_zero_weights = [weight for weight in postcode_weights.values() if weight > 0]\n",
    "    if not non_zero_weights:\n",
    "        print(\"No non-zero weights found in the data.\")\n",
    "        return \n",
    "\n",
    "    lower_quartile = np.percentile(non_zero_weights, 10)\n",
    "\n",
    "    # Count zero weights and calculate the total weight to allocate to them\n",
    "    zero_count = sum(1 for weight in postcode_weights.values() if weight == 0)\n",
    "    total_allocated_to_zeros = lower_quartile * zero_count\n",
    "\n",
    "    # Scale the non-zero weights to ensure the total sums to 100\n",
    "    scale_factor = (100 - total_allocated_to_zeros) / sum(non_zero_weights)\n",
    "\n",
    "    # Set zero weights to the lower quartile and adjust non-zero weights\n",
    "    adjusted_weights = {}\n",
    "    for postcode, weight in postcode_weights.items():\n",
    "        if weight == 0:\n",
    "            adjusted_weights[postcode] = lower_quartile\n",
    "        else:\n",
    "            adjusted_weights[postcode] = weight * scale_factor\n",
    "\n",
    "    return adjusted_weights"
   ],
   "metadata": {
    "collapsed": false,
    "ExecuteTime": {
     "end_time": "2024-04-24T21:01:39.461778Z",
     "start_time": "2024-04-24T21:01:39.442957Z"
    }
   },
   "id": "471608c3c21e074b"
  },
  {
   "cell_type": "code",
   "execution_count": 53,
   "outputs": [],
   "source": [
    "_dict = adjust_postcode_weights()"
   ],
   "metadata": {
    "collapsed": false,
    "ExecuteTime": {
     "end_time": "2024-04-24T21:01:40.448553Z",
     "start_time": "2024-04-24T21:01:40.093355Z"
    }
   },
   "id": "37ed3848a2f1b10"
  },
  {
   "cell_type": "code",
   "execution_count": 54,
   "outputs": [
    {
     "data": {
      "text/plain": "{'BS': 1.5555037766101003,\n 'B': 3.1509526392251033,\n 'BN': 1.3284218946192647,\n 'BD': 0.9570108600720476,\n 'BL': 0.6286523582600757,\n 'CA': 0.5263697066966346,\n 'BR': 0.49500236502085776,\n 'BH': 0.9135529362564331,\n 'AL': 0.41351710320910945,\n 'CH': 1.0918753718949032,\n 'BA': 0.7190132027457103,\n 'CB': 0.6968606485253537,\n 'CF': 1.6634354287791806,\n 'BB': 0.8084060726108709,\n 'GL': 1.001825603013797,\n 'EX': 0.9057611542259834,\n 'E': 1.6366663802150239,\n 'FY': 0.4576666738475586,\n 'CV': 1.3585283873022187,\n 'DN': 1.251017018130746,\n 'DL': 0.5968912081062254,\n 'CT': 0.7985823712061609,\n 'EN': 0.5704928028155495,\n 'DE': 1.2081067859379984,\n 'EC': 0.05618554908174719,\n 'CR': 0.6705267748760426,\n 'DY': 0.6798110579452405,\n 'CM': 1.0815271440719192,\n 'DA': 0.7117327098737677,\n 'DG': 0.000107552735608245,\n 'CW': 0.5120949766952142,\n 'DT': 0.3521044911768016,\n 'DH': 0.5113387982310147,\n 'CO': 0.6807442847588259,\n 'LA': 0.5442598632719631,\n 'HR': 0.2917293493787455,\n 'LN': 0.4850479456759469,\n 'LL': 0.8889680355538591,\n 'HP': 0.8084524030200559,\n 'L': 1.4175036888798966,\n 'GU': 1.2014798827670594,\n 'KT': 0.8763612002831019,\n 'HA': 0.7953574437953844,\n 'HD': 0.43491513362273754,\n 'LD': 0.08310517147575547,\n 'LS': 1.2818250855813604,\n 'LE': 1.630420048262391,\n 'HU': 0.7333756295930882,\n 'IG': 0.5554569303775168,\n 'IP': 0.985982257729967,\n 'HX': 0.2649718834168851,\n 'HG': 0.22869682768243038,\n 'MK': 0.8406239082266885,\n 'NW': 0.9162367906742265,\n 'OL': 0.7654279994618163,\n 'NP': 0.8084143458982255,\n 'NE': 1.924326926872836,\n 'M': 1.931670296728673,\n 'NR': 1.1956852723039813,\n 'ME': 1.004196727169591,\n 'NN': 1.0805823346560375,\n 'N': 1.4018208453707437,\n 'NG': 1.9253875623116805,\n 'LU': 0.5561221026808171,\n 'RG': 1.2880168138374535,\n 'PL': 0.8985054812161042,\n 'RH': 0.8801503658914539,\n 'SA': 1.2080240530644533,\n 'PO': 1.361021956110859,\n 'OX': 1.0151191211349762,\n 'SG': 0.6659648842287822,\n 'S': 2.247332611766459,\n 'SE': 1.635010068086657,\n 'PE': 1.4734228381088295,\n 'PR': 0.8610274895003079,\n 'RM': 0.855962582981895,\n 'SL': 0.6178606822348914,\n 'SM': 0.3593436176119719,\n 'SW': 1.4514374042930334,\n 'SO': 1.1011282164721543,\n 'TW': 0.8139557937682563,\n 'SP': 0.3843471466546825,\n 'TR': 0.48657023054917126,\n 'TS': 0.996633287870125,\n 'TN': 1.1280577668109877,\n 'TD': 0.030331526098995986,\n 'TQ': 0.46514407095853794,\n 'SK': 0.9986519699846181,\n 'SN': 0.7591535383321782,\n 'SY': 0.5658134314878553,\n 'SS': 0.8581566587883034,\n 'TF': 0.3516742802343686,\n 'TA': 0.5334748058766624,\n 'SR': 0.4150592439719846,\n 'ST': 1.0662877487649662,\n 'WC': 0.05914573129718027,\n 'YO': 0.9311766929789472,\n 'WA': 1.0200665469729553,\n 'WF': 0.8484818765559738,\n 'W': 0.8797648307007352,\n 'WS': 0.7441457950711509,\n 'WR': 0.476273297107785,\n 'WD': 0.4243799295055422,\n 'WV': 0.655553779421904,\n 'UB': 0.6145612952379247,\n 'WN': 0.5115472850723476,\n 'AB': 0.40075407066050034,\n 'JE': 0.40075407066050034,\n 'EH': 0.40075407066050034,\n 'KA': 0.40075407066050034,\n 'HS': 0.40075407066050034,\n 'ML': 0.40075407066050034,\n 'ZE': 0.40075407066050034,\n 'IV': 0.40075407066050034,\n 'GY': 0.40075407066050034,\n 'KY': 0.40075407066050034,\n 'PA': 0.40075407066050034,\n 'G': 0.40075407066050034,\n 'KW': 0.40075407066050034,\n 'PH': 0.40075407066050034,\n 'FK': 0.40075407066050034,\n 'DD': 0.40075407066050034,\n 'IM': 0.40075407066050034,\n 'BT': 0.40075407066050034}"
     },
     "execution_count": 54,
     "metadata": {},
     "output_type": "execute_result"
    }
   ],
   "source": [
    "_dict"
   ],
   "metadata": {
    "collapsed": false,
    "ExecuteTime": {
     "end_time": "2024-04-24T21:01:40.735441Z",
     "start_time": "2024-04-24T21:01:40.706627Z"
    }
   },
   "id": "8f2e73c1c97ab4b8"
  },
  {
   "cell_type": "code",
   "execution_count": 41,
   "outputs": [
    {
     "data": {
      "text/plain": "{'Black African': 2.2933022069769655,\n 'Black Caribbean': 0.9512288672018454,\n 'Black other': 0.449862040806843,\n 'Mixed': 2.5953725700404577,\n 'Mixed White/Asian': 0.7375730636240838,\n 'Mixed White/Black African': 0.3770637359371563,\n 'Mixed White/Black Caribbean': 0.7750569089886282,\n 'Mixed other': 0.7056788614905896,\n 'Gypsy Or Irish Traveller': 0.10872460370147081,\n 'Roma': 0.1525277673458753,\n 'White English': 67.00780309662912,\n 'White Scottish': 6.716149713548157,\n 'White Irish': 0.8483613031778828,\n 'White other': 5.788016647891257,\n 'Arab': 0.515488984482531,\n 'Any Other': 1.403053325997103,\n 'Mixed or multiple ethnic groups': 0.029934805573853245,\n 'Bangladeshi': 0.9799822941252442,\n 'Chinese': 0.7241639627271108,\n 'Indian': 2.865840298847103,\n 'Pakistani': 2.4733461261634746,\n 'Asian other': 1.501468814723253}"
     },
     "execution_count": 41,
     "metadata": {},
     "output_type": "execute_result"
    }
   ],
   "source": [
    "get_normalised_data_dict(spark, \"uk\", \"ethnicity\")"
   ],
   "metadata": {
    "collapsed": false,
    "ExecuteTime": {
     "end_time": "2024-04-24T20:35:48.882543Z",
     "start_time": "2024-04-24T20:35:48.487633Z"
    }
   },
   "id": "69ffd0774f69dc9b"
  },
  {
   "cell_type": "code",
   "execution_count": null,
   "outputs": [],
   "source": [
    "from pyspark import RDD\n",
    "from pyspark.sql import DataFrame, SparkSession\n",
    "from pyspark.sql.functions import col, lit, rand, sum\n",
    "from pyspark.sql import Row\n",
    "\n",
    "from src.data_generator.csv_data_processor import CSVDataProcessor\n",
    "from utils.column_creator_functions import choose_blood_type, random_gender_chooser, generate_name, dob_creator, \\\n",
    "    check_patient_is_pediatric, check_gender_is_female, check_patient_is_geriatric, create_unique_id\n",
    "\n",
    "\n",
    "def create_distributed_age_df(spark: SparkSession, file_path: str, dataset_size: int = 10000) -> DataFrame:\n",
    "\n",
    "    data_processor_age = CSVDataProcessor(spark, file_path)\n",
    "\n",
    "    csv_age_sq_df = data_processor_age.runner()\n",
    "\n",
    "    normalised_df = normalise_population_density(csv_age_sq_df)\n",
    "    sampled_rdd = oversample_ages(normalised_df, dataset_size)\n",
    "\n",
    "    row_rdd = create_rows_rdd(sampled_rdd)\n",
    "\n",
    "    sampled_df = spark.createDataFrame(row_rdd)\n",
    "\n",
    "    return sampled_df.orderBy(rand()).limit(dataset_size)\n",
    "\n",
    "def get_ethnicity_df(spark: SparkSession, file_path: str) -> DataFrame:\n",
    "    data_processor_ethnicity = CSVDataProcessor(spark, file_path)\n",
    "\n",
    "    ethnicity_df = data_processor_ethnicity.runner()\n",
    "    data_collected = ethnicity_df.rdd.map(lambda row: (row['ethnic_group'], row['population'])).collect()\n",
    "    dict_from_df = dict(data_collected)\n",
    "    print(dict_from_df)\n",
    "\n",
    "def create_rows_rdd(sample_rdd: RDD) -> RDD:\n",
    "\n",
    "    return sample_rdd.map(\n",
    "        lambda age: (\n",
    "            lambda gender, name, dob: Row(\n",
    "                Age=int(age),\n",
    "                DOB=dob,\n",
    "                Blood_type=choose_blood_type(),\n",
    "                Gender=gender,\n",
    "                Name=name,\n",
    "                is_female=check_gender_is_female(gender),\n",
    "                is_pediatric=check_patient_is_pediatric(age),\n",
    "                is_geriatric=check_patient_is_geriatric(age),\n",
    "                unique_id=create_unique_id(name, dob)\n",
    "            )\n",
    "        )(random_gender_chooser(\"uk\"), generate_name(), dob_creator(age))\n",
    "    )\n",
    "\n",
    "\n",
    "def normalise_population_density(csv_age_sq_df: DataFrame) -> DataFrame:\n",
    "\n",
    "    # Calculate the total population and add density column\n",
    "    total_population = csv_age_sq_df.select(sum(\"population_total\")).collect()[0][0]\n",
    "    density_df = csv_age_sq_df.withColumn(\"density\", col(\"population_total\") / lit(total_population))\n",
    "\n",
    "    # normalise the density to ensure it sums to 1\n",
    "    total_density = density_df.select(sum(\"density\")).collect()[0][0]\n",
    "    return density_df.withColumn(\"normalised_density\", col(\"density\") / lit(total_density))\n",
    "\n",
    "\n",
    "def oversample_ages(dataframe: DataFrame, dataset_size: int, oversample_factor: float = 1.1) -> RDD:\n",
    "\n",
    "    oversample_num = int(dataset_size * oversample_factor)\n",
    "    return dataframe.rdd.flatMap(\n",
    "        lambda row: [row['age']] * int(row['normalised_density'] * oversample_num)\n",
    "    )"
   ],
   "metadata": {
    "collapsed": false
   },
   "id": "93c5a77c567e10dc"
  },
  {
   "cell_type": "code",
   "execution_count": null,
   "outputs": [],
   "source": [],
   "metadata": {
    "collapsed": false
   },
   "id": "e6dcf3ad173948b8"
  },
  {
   "cell_type": "code",
   "execution_count": null,
   "outputs": [],
   "source": [
    "sampled_df = create_distributed_age_df(spark,  \"data/uk_age_population.csv\", 5000)"
   ],
   "metadata": {
    "collapsed": false
   },
   "id": "dbc8ab960c79ce19"
  },
  {
   "cell_type": "code",
   "execution_count": null,
   "outputs": [],
   "source": [
    "sampled_df_aggregated = sampled_df.groupby(col(\"Age\")).count()"
   ],
   "metadata": {
    "collapsed": false
   },
   "id": "f6632f60001d9078"
  },
  {
   "cell_type": "code",
   "execution_count": null,
   "outputs": [],
   "source": [
    "sampled_df_aggregated.orderBy(\"Age\").show(n=200)"
   ],
   "metadata": {
    "collapsed": false
   },
   "id": "6b8df9b39afdebc7"
  },
  {
   "cell_type": "code",
   "execution_count": null,
   "outputs": [],
   "source": [
    "plot_age_distribution_with_sd(sampled_df_aggregated)"
   ],
   "metadata": {
    "collapsed": false
   },
   "id": "71e065f8031e4003"
  },
  {
   "cell_type": "code",
   "execution_count": null,
   "outputs": [],
   "source": [
    "sampled_df.createOrReplaceGlobalTempView(\"sampled_df_with_unique_id_gt\")"
   ],
   "metadata": {
    "collapsed": false
   },
   "id": "d4703b95b3fdbf13"
  },
  {
   "cell_type": "code",
   "execution_count": null,
   "id": "d463e373907bf09e",
   "metadata": {
    "collapsed": false
   },
   "outputs": [],
   "source": [
    "from src.constants.admission_types_dataset import admission_mapping\n",
    "flattened = [\n",
    "    (\n",
    "        top_level.name,\n",
    "        sub_level_key.name,\n",
    "        list(sub_level_info.get(\"stay_types\")),\n",
    "        sub_level_info.get(\"tests\"),  \n",
    "        random.choice(sub_level_info.get(\"doctors\"))\n",
    "    )\n",
    "    for top_level, sub_level_dict in admission_mapping.items()\n",
    "    for sub_level_key, sub_level_info in sub_level_dict.items()\n",
    "]\n",
    "\n"
   ]
  },
  {
   "cell_type": "code",
   "execution_count": null,
   "id": "9aa93b831b3aed7b",
   "metadata": {
    "collapsed": false
   },
   "outputs": [],
   "source": [
    "flattened\n"
   ]
  },
  {
   "cell_type": "code",
   "execution_count": null,
   "id": "76324a29d381e7c4",
   "metadata": {
    "collapsed": false
   },
   "outputs": [],
   "source": [
    "from src.constants.condition_probabilities import condition_age_probability_dict\n",
    "\n",
    "flattened_condition_probabilities = [\n",
    "    (\n",
    "        sub_admission,\n",
    "        condition,\n",
    "        gender if gender in ['male', 'female'] else None,\n",
    "        float(age_range[0]),\n",
    "        float(age_range[1]) if len(age_range) > 1 else float('inf'),\n",
    "        float(probability) \n",
    "    )\n",
    "    for sub_admission, conditions in condition_age_probability_dict.items()\n",
    "    for condition, genders_or_age_prob_list in conditions.items()\n",
    "    for gender, age_prob_list in (genders_or_age_prob_list.items() if isinstance(genders_or_age_prob_list, dict) else [(None, genders_or_age_prob_list)])\n",
    "    for age_range, probability in age_prob_list\n",
    "]\n",
    "\n"
   ]
  },
  {
   "cell_type": "code",
   "execution_count": null,
   "outputs": [],
   "source": [
    "flattened_condition_probabilities"
   ],
   "metadata": {
    "collapsed": false
   },
   "id": "4d8352a033cdbc4d"
  },
  {
   "cell_type": "code",
   "execution_count": null,
   "id": "18fa988bdaed2265",
   "metadata": {
    "collapsed": false
   },
   "outputs": [],
   "source": [
    "columns = [\"condition_admission_type\", \"condition\", \"gender\", \"age_min\", \"age_max\", \"probability\"]\n",
    "schema = StructType([\n",
    "    StructField(\"condition_admission_type\", StringType(), True),\n",
    "    StructField(\"condition\", StringType(), True),\n",
    "    StructField(\"condition_gender\", StringType(), True),  # Assuming gender can be specific probability for gender 'male', 'female', or null\n",
    "    StructField(\"age_min\", FloatType(), False),\n",
    "    StructField(\"age_max\", FloatType(), False),\n",
    "    StructField(\"probability\", FloatType(), False)\n",
    "])\n",
    "\n",
    "condition_prob_df = spark.createDataFrame(data=flattened_condition_probabilities, schema=schema)\n"
   ]
  },
  {
   "cell_type": "code",
   "execution_count": null,
   "id": "76a88bdeea4c696e",
   "metadata": {
    "collapsed": false
   },
   "outputs": [],
   "source": [
    "condition_prob_df.show()"
   ]
  },
  {
   "cell_type": "code",
   "execution_count": null,
   "id": "e1dc302cbd5cd49e",
   "metadata": {
    "collapsed": false
   },
   "outputs": [],
   "source": [
    "\"\"\"\n",
    "STEP 1 \n",
    "    From the flattened data list we wish to create a DataFrame. This contains all the possible combinations for the given \n",
    "    top level admissions, sub level admissions, stay types and list of tests available from the admission_mapping, stay_type and admission_tests lists or dictionaries in admission_types_test_dataset.py\n",
    "\"\"\"\n",
    "\n",
    "mapping_df = spark.createDataFrame(flattened, [\"top_level_admission\", \"sub_level_admission\", \"stay_types\", \"possible_tests\", \"doctor\"])\n",
    "\n",
    "joined_tbl = mapping_df.join(condition_prob_df, on=[mapping_df.sub_level_admission == condition_prob_df.condition_admission_type], how=\"left\")"
   ]
  },
  {
   "cell_type": "code",
   "execution_count": null,
   "outputs": [],
   "source": [
    "gt_df = spark.sql(\"SELECT * FROM global_temp.sampled_df_with_unique_id_gt\")\n"
   ],
   "metadata": {
    "collapsed": false
   },
   "id": "a8e1ecc6cc582799"
  },
  {
   "cell_type": "code",
   "execution_count": null,
   "outputs": [],
   "source": [
    "\"\"\"\n",
    "STEP 2\n",
    "Create Enum class df and join it on to main driver df. \n",
    "Then create conditions \n",
    "\"\"\"\n",
    "\n",
    "from src.data_generator.conditions_creator import ConditionsCreator\n",
    "from src.utils.thread_operations import runner\n",
    "from src.constants.type_constants import DepartmentTypes\n",
    "\n",
    "enum_values = [e.name for e in DepartmentTypes]\n",
    "\n",
    "enum_df = spark.createDataFrame(enum_values, StringType()).toDF(\"admission_type\")\n",
    "\n",
    "selected_conditions_df = runner(spark, ConditionsCreator, gt_df, joined_tbl, enum_df)\n"
   ],
   "metadata": {
    "collapsed": false
   },
   "id": "632611cc8f270e95"
  },
  {
   "cell_type": "code",
   "execution_count": null,
   "outputs": [],
   "source": [
    "from utils.util_funcs import get_row_count\n",
    "\n",
    "get_row_count(selected_conditions_df)"
   ],
   "metadata": {
    "collapsed": false
   },
   "id": "1c3e16d26fc1e5f7"
  },
  {
   "cell_type": "code",
   "execution_count": null,
   "outputs": [],
   "source": [
    "selected_conditions_df.show()"
   ],
   "metadata": {
    "collapsed": false
   },
   "id": "c737cfa61730f556"
  },
  {
   "cell_type": "code",
   "execution_count": null,
   "id": "a79379063057bfee",
   "metadata": {
    "collapsed": false
   },
   "outputs": [],
   "source": [
    "# TODO:  \n",
    "# tests to be chosen\n",
    "# admission date to be chosen \n",
    "# hospital name \n",
    "# patient postcode \n",
    "# ethnicity distribution  \n",
    "# _________________\n",
    "# Long term \n",
    "# investigation which disease affects specific ethnicities\n",
    "# blood type udf would need to consider ethnicity also eventually\n",
    "\n"
   ]
  },
  {
   "cell_type": "code",
   "execution_count": null,
   "id": "88f0099b41d9dc86",
   "metadata": {
    "collapsed": false
   },
   "outputs": [],
   "source": [
    "spark.stop()"
   ]
  },
  {
   "cell_type": "code",
   "execution_count": 8,
   "outputs": [],
   "source": [
    "all_postcodes = [\n",
    "\"AB\",\"AL\",\"B\",\"BA\",\"BB\",\"BD\",\"BH\",\"BL\",\"BN\",\"BR\",\"BS\",\"BT\",\"CA\",\"CB\",\"CF\",\"CH\",\"CM\",\"CO\",\"CR\",\"CT\",\"CV\",\"CW\",\"DA\",\"DD\",\"DE\",\"DG\",\"DH\",\"DL\",\"DN\",\"DT\",\"DY\",\"E\",\"EC\",\"EH\",\"EN\",\"EX\",\"FK\",\"FY\",\"G\",\"GL\",\"GU\",\"GY\",\"HA\",\"HD\",\"HG\",\"HP\",\"HR\",\"HS\",\"HU\",\"HX\",\"IG\",\"IM\",\"IP\",\"IV\",\"JE\",\"KA\",\"KT\",\"KW\",\"KY\",\"L\",\"LA\",\"LD\",\"LE\",\"LL\",\"LN\",\"LS\",\"LU\",\"M\",\"ME\",\"MK\",\"ML\",\"N\",\"NE\",\"NG\",\"NN\",\"NP\",\"NR\",\"NW\",\"OL\",\"OX\",\"PA\",\"PE\",\"PH\",\"PL\",\"PO\",\"PR\",\"RG\",\"RH\",\"RM\",\"S\",\"SA\",\"SE\",\"SG\",\"SK\",\"SL\",\"SM\",\"SN\",\"SO\",\"SP\",\"SR\",\"SS\",\"ST\",\"SW\",\"SY\",\"TA\",\"TD\",\"TF\",\"TN\",\"TQ\",\"TR\",\"TS\",\"TW\",\"UB\",\"W\",\"WA\",\"WC\",\"WD\",\"WF\",\"WN\",\"WR\",\"WS\",\"WV\",\"YO\",\"ZE\"\n",
    "]\n"
   ],
   "metadata": {
    "collapsed": false,
    "ExecuteTime": {
     "end_time": "2024-04-24T18:48:40.310163Z",
     "start_time": "2024-04-24T18:48:40.291969Z"
    }
   },
   "id": "a85fc40345d7590b"
  },
  {
   "cell_type": "code",
   "execution_count": 9,
   "outputs": [
    {
     "data": {
      "text/plain": "124"
     },
     "execution_count": 9,
     "metadata": {},
     "output_type": "execute_result"
    }
   ],
   "source": [
    "len(all_postcodes)"
   ],
   "metadata": {
    "collapsed": false,
    "ExecuteTime": {
     "end_time": "2024-04-24T18:48:41.816403Z",
     "start_time": "2024-04-24T18:48:41.797716Z"
    }
   },
   "id": "fa556c4a5781e30f"
  },
  {
   "cell_type": "code",
   "execution_count": 10,
   "outputs": [
    {
     "data": {
      "text/plain": "106"
     },
     "execution_count": 10,
     "metadata": {},
     "output_type": "execute_result"
    }
   ],
   "source": [
    "present_postcodes = [\n",
    "\"BS\",\n",
    "\"B\",\n",
    "\"BN\",\n",
    "\"BD\",\n",
    "\"BL\",\n",
    "\"CA\",\n",
    "\"BR\",\n",
    "\"BH\",\n",
    "\"AL\",\n",
    "\"CH\",\n",
    "\"BA\",\n",
    "\"CB\",\n",
    "\"CF\",\n",
    "\"BB\",\n",
    "\"GL\",\n",
    "\"EX\",\n",
    "\"E\",\n",
    "\"FY\",\n",
    "\"CV\",\n",
    "\"DN\",\n",
    "\"DL\",\n",
    "\"CT\",\n",
    "\"EN\",\n",
    "\"DE\",\n",
    "\"EC\",\n",
    "\"CR\",\n",
    "\"DY\",\n",
    "\"CM\",\n",
    "\"DA\",\n",
    "\"DG\",\n",
    "\"CW\",\n",
    "\"DT\",\n",
    "\"DH\",\n",
    "\"CO\",\n",
    "\"LA\",\n",
    "\"HR\",\n",
    "\"LN\",\n",
    "\"LL\",\n",
    "\"HP\",\n",
    "\"L\",\n",
    "\"GU\",\n",
    "\"KT\",\n",
    "\"HA\",\n",
    "\"HD\",\n",
    "\"LD\",\n",
    "\"LS\",\n",
    "\"LE\",\n",
    "\"HU\",\n",
    "\"IG\",\n",
    "\"IP\",\n",
    "\"HX\",\n",
    "\"HG\",\n",
    "\"MK\",\n",
    "\"NW\",\n",
    "\"OL\",\n",
    "\"NP\",\n",
    "\"NE\",\n",
    "\"M\",\n",
    "\"NR\",\n",
    "\"ME\",\n",
    "\"NN\",\n",
    "\"N\",\n",
    "\"NG\",\n",
    "\"LU\",\n",
    "\"RG\",\n",
    "\"PL\",\n",
    "\"RH\",\n",
    "\"SA\",\n",
    "\"PO\",\n",
    "\"OX\",\n",
    "\"SG\",\n",
    "\"S\",\n",
    "\"SE\",\n",
    "\"PE\",\n",
    "\"PR\",\n",
    "\"RM\",\n",
    "\"SL\",\n",
    "\"SM\",\n",
    "\"SW\",\n",
    "\"SO\",\n",
    "\"TW\",\n",
    "\"SP\",\n",
    "\"TR\",\n",
    "\"TS\",\n",
    "\"TN\",\n",
    "\"TD\",\n",
    "\"TQ\",\n",
    "\"SK\",\n",
    "\"SN\",\n",
    "\"SY\",\n",
    "\"SS\",\n",
    "\"TF\",\n",
    "\"TA\",\n",
    "\"SR\",\n",
    "\"ST\",\n",
    "\"WC\",\n",
    "\"YO\",\n",
    "\"WA\",\n",
    "\"WF\",\n",
    "\"W\",\n",
    "\"WS\",\n",
    "\"WR\",\n",
    "\"WD\",\n",
    "\"WV\",\n",
    "\"UB\",\n",
    "\"WN\",\n",
    "]\n",
    "len(present_postcodes)"
   ],
   "metadata": {
    "collapsed": false,
    "ExecuteTime": {
     "end_time": "2024-04-24T18:59:57.627740Z",
     "start_time": "2024-04-24T18:59:57.615085Z"
    }
   },
   "id": "1d9faf4803131e12"
  },
  {
   "cell_type": "code",
   "execution_count": 12,
   "outputs": [],
   "source": [
    "missing_postcodes = list(set(all_postcodes) - set(present_postcodes))"
   ],
   "metadata": {
    "collapsed": false,
    "ExecuteTime": {
     "end_time": "2024-04-24T19:13:31.927434Z",
     "start_time": "2024-04-24T19:13:31.909917Z"
    }
   },
   "id": "b89a76b77819485a"
  },
  {
   "cell_type": "code",
   "execution_count": 13,
   "outputs": [
    {
     "data": {
      "text/plain": "['AB',\n 'JE',\n 'EH',\n 'KA',\n 'HS',\n 'ML',\n 'ZE',\n 'IV',\n 'GY',\n 'KY',\n 'PA',\n 'G',\n 'KW',\n 'PH',\n 'FK',\n 'DD',\n 'IM',\n 'BT']"
     },
     "execution_count": 13,
     "metadata": {},
     "output_type": "execute_result"
    }
   ],
   "source": [
    "missing_postcodes"
   ],
   "metadata": {
    "collapsed": false,
    "ExecuteTime": {
     "end_time": "2024-04-24T19:13:35.049154Z",
     "start_time": "2024-04-24T19:13:35.013575Z"
    }
   },
   "id": "f8b66702dd21847a"
  },
  {
   "cell_type": "code",
   "execution_count": null,
   "outputs": [],
   "source": [],
   "metadata": {
    "collapsed": false
   },
   "id": "45304bd8306fe4df"
  }
 ],
 "metadata": {
  "kernelspec": {
   "display_name": "Python 3 (ipykernel)",
   "language": "python",
   "name": "python3"
  },
  "language_info": {
   "codemirror_mode": {
    "name": "ipython",
    "version": 3
   },
   "file_extension": ".py",
   "mimetype": "text/x-python",
   "name": "python",
   "nbconvert_exporter": "python",
   "pygments_lexer": "ipython3",
   "version": "3.11.4"
  }
 },
 "nbformat": 4,
 "nbformat_minor": 5
}
