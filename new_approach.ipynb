{
 "cells": [
  {
   "cell_type": "code",
   "execution_count": 1,
   "outputs": [
    {
     "name": "stderr",
     "output_type": "stream",
     "text": [
      "/Users/jacobbickerstaff/Desktop/Development/health-data-etl-kaggle/venv/lib/python3.11/site-packages/pyspark/pandas/__init__.py:50: UserWarning: 'PYARROW_IGNORE_TIMEZONE' environment variable was not set. It is required to set this environment variable to '1' in both driver and executor sides if you use pyarrow>=2.0.0. pandas-on-Spark will set it for you but it does not work if there is a Spark context already launched.\n",
      "  warnings.warn(\n",
      "24/02/25 10:54:05 WARN NativeCodeLoader: Unable to load native-hadoop library for your platform... using builtin-java classes where applicable\n",
      "Setting default log level to \"WARN\".\n",
      "To adjust logging level use sc.setLogLevel(newLevel). For SparkR, use setLogLevel(newLevel).\n"
     ]
    }
   ],
   "source": [
    "import random\n",
    "\n",
    "from data_generator.csv_data_processor import CSVDataProcessor\n",
    "from utils.util_funcs import get_row_count, display_df, remove_data, verify_ranking, verify_ranking_counts\n",
    "from utils.read_write import read_postgres_table\n",
    "from spark_instance import spark\n",
    "from pyspark.sql import Window\n",
    "\n",
    "from pyspark.sql.functions import col, lower, lit, rand, array, floor, concat, when, row_number, concat_ws, date_format, split, size\n",
    "  "
   ],
   "metadata": {
    "collapsed": false,
    "ExecuteTime": {
     "end_time": "2024-02-25T10:54:07.900349Z",
     "start_time": "2024-02-25T10:54:02.163801Z"
    }
   },
   "id": "344f364a0ecf68e0"
  },
  {
   "cell_type": "code",
   "execution_count": 2,
   "id": "initial_id",
   "metadata": {
    "collapsed": true,
    "ExecuteTime": {
     "end_time": "2024-02-25T10:54:07.914937Z",
     "start_time": "2024-02-25T10:54:07.903818Z"
    }
   },
   "outputs": [],
   "source": [
    "# csv_reader = CSVDataProcessor(spark, \"data/healthcare_dataset.csv\")\n",
    "# \n",
    "# # Read the CSV file\n",
    "# raw_df = csv_reader.run()\n"
   ]
  },
  {
   "cell_type": "code",
   "execution_count": 3,
   "outputs": [],
   "source": [
    "# min_age_days = 1 * 365  # Minimum age in days (18 years)\n",
    "# max_age_days = 90 * 365  # Maximum age in days (90 years)\n",
    "# \n",
    "# raw_df = (raw_df.withColumn(\"DOB\", expr(f\"date_sub(current_date(), CAST(round(rand() * ({max_age_days} - {min_age_days}) + {min_age_days}) AS INT))\"))\n",
    "#         .withColumn(\"Age\", floor(datediff(current_date(), col(\"DOB\")) / 365.25)))\n",
    "\n",
    "\n"
   ],
   "metadata": {
    "collapsed": false,
    "ExecuteTime": {
     "end_time": "2024-02-25T10:54:07.915290Z",
     "start_time": "2024-02-25T10:54:07.909401Z"
    }
   },
   "id": "62f17c7d47c49e7e"
  },
  {
   "cell_type": "code",
   "execution_count": 4,
   "outputs": [],
   "source": [
    "# above is commented out as it's saved in the database:\n",
    "df = read_postgres_table(\"dob_age_raw_data\")"
   ],
   "metadata": {
    "collapsed": false,
    "ExecuteTime": {
     "end_time": "2024-02-25T10:54:10.091687Z",
     "start_time": "2024-02-25T10:54:07.916293Z"
    }
   },
   "id": "19c3e561ca62f93"
  },
  {
   "cell_type": "code",
   "execution_count": 5,
   "outputs": [],
   "source": [
    "# df.where(col(\"Age\") < 16).show()"
   ],
   "metadata": {
    "collapsed": false,
    "ExecuteTime": {
     "end_time": "2024-02-25T10:54:10.101171Z",
     "start_time": "2024-02-25T10:54:10.093983Z"
    }
   },
   "id": "78babd09a1688d38"
  },
  {
   "cell_type": "code",
   "execution_count": 5,
   "outputs": [],
   "source": [],
   "metadata": {
    "collapsed": false,
    "ExecuteTime": {
     "end_time": "2024-02-25T10:54:10.101417Z",
     "start_time": "2024-02-25T10:54:10.098647Z"
    }
   },
   "id": "2ce1dcf92fb5238e"
  },
  {
   "cell_type": "code",
   "execution_count": 6,
   "outputs": [],
   "source": [
    "from constants.admission_types_dataset import admission_mapping, AdmissionTypes\n",
    "flattened = [\n",
    "    (\n",
    "        top_level.name,\n",
    "        sub_level_key.name,\n",
    "        stay_type,\n",
    "        sub_level_info.get(\"conditions\",),  \n",
    "        sub_level_info.get(\"tests\"),  \n",
    "        random.choice(sub_level_info.get(\"doctors\"))\n",
    "    )\n",
    "    for top_level, sub_level_dict in admission_mapping.items()\n",
    "    for sub_level_key, sub_level_info in sub_level_dict.items()\n",
    "    for stay_type in (sub_level_info[\"stay_types\"] if isinstance(sub_level_info, dict) else sub_level_info)\n",
    "]\n",
    "\n"
   ],
   "metadata": {
    "collapsed": false,
    "ExecuteTime": {
     "end_time": "2024-02-25T10:54:11.992020Z",
     "start_time": "2024-02-25T10:54:10.103304Z"
    }
   },
   "id": "d463e373907bf09e"
  },
  {
   "cell_type": "code",
   "execution_count": 7,
   "outputs": [
    {
     "name": "stderr",
     "output_type": "stream",
     "text": [
      "                                                                                \r"
     ]
    },
    {
     "name": "stdout",
     "output_type": "stream",
     "text": [
      "+--------------------+---+------+----------+-----------------+-----------------+------------------+--------------------+------------------+------------------+-----------+--------------+--------------+-----------+------------+----------+\n",
      "|                name|Age|gender|blood_type|medical_condition|date_of_admission|            doctor|            hospital|insurance_provider|    billing_amount|room_number|admission_type|discharge_date| medication|test_results|       DOB|\n",
      "+--------------------+---+------+----------+-----------------+-----------------+------------------+--------------------+------------------+------------------+-----------+--------------+--------------+-----------+------------+----------+\n",
      "|     Tiffany Ramirez| 39|Female|        O-|         Diabetes|       2022-11-17|    Patrick Parker|    Wallace-Hamilton|          Medicare| 37490.98336352819|        146|      Elective|    2022-12-01|    Aspirin|Inconclusive|1984-09-30|\n",
      "|         Ruben Burns| 16|  Male|        O+|           Asthma|       2023-06-01|     Diane Jackson|Burke, Griffin an...|  UnitedHealthcare| 47304.06484547511|        404|     Emergency|    2023-06-15|    Lipitor|      Normal|2007-04-05|\n",
      "|           Chad Byrd| 59|  Male|        B-|          Obesity|       2019-01-09|        Paul Baker|          Walton LLC|          Medicare| 36874.89699661277|        292|     Emergency|    2019-02-08|    Lipitor|      Normal|1964-06-30|\n",
      "|   Antonio Frederick| 85|  Male|        B-|           Asthma|       2020-05-02|    Brian Chandler|          Garcia Ltd|          Medicare|23303.322092196904|        480|        Urgent|    2020-05-03| Penicillin|    Abnormal|1938-09-16|\n",
      "| Mrs. Brandy Flowers| 24|  Male|        O-|        Arthritis|       2021-07-09|    Dustin Griffin|Jones, Brown and ...|  UnitedHealthcare|18086.344183563877|        477|        Urgent|    2021-08-02|Paracetamol|      Normal|1999-07-16|\n",
      "|      Patrick Parker| 86|  Male|       AB+|        Arthritis|       2020-08-20|       Robin Green|            Boyd PLC|             Aetna|22522.363384853266|        180|        Urgent|    2020-08-23|    Aspirin|    Abnormal|1938-01-22|\n",
      "|      Charles Horton| 39|  Male|       AB+|     Hypertension|       2021-03-22|   Patricia Bishop|Wheeler, Bryant a...|             Cigna|  39593.4357611308|        161|        Urgent|    2021-04-15|    Lipitor|    Abnormal|1985-01-16|\n",
      "|        Patty Norman| 22|Female|        O-|        Arthritis|       2019-05-16|     Brian Kennedy|           Brown Inc|        Blue Cross|13546.817249364824|        384|      Elective|    2019-06-02|    Aspirin|      Normal|2001-08-18|\n",
      "|          Ryan Hayes| 14|  Male|        A+|         Diabetes|       2020-12-17|      Kristin Dunn|Smith, Edwards an...|             Aetna| 24903.03726973869|        215|      Elective|    2020-12-22|    Aspirin|    Abnormal|2009-02-26|\n",
      "|        Sharon Perez| 53|Female|        O-|           Asthma|       2022-12-15|    Jessica Bailey|        Brown-Golden|        Blue Cross|22788.236026376766|        310|        Urgent|    2022-12-16|    Aspirin|      Normal|1970-02-24|\n",
      "|         Amy Roberts| 54|  Male|        B-|           Cancer|       2021-04-13|   Anthony Roberts|      Little-Spencer|             Aetna|40325.071393983046|        306|     Emergency|    2021-05-11| Penicillin|    Abnormal|1969-10-12|\n",
      "|Mrs. Caroline Far...| 81|Female|        O-|     Hypertension|       2019-06-09|    William Miller|            Rose Inc|          Medicare| 6185.903529552847|        126|     Emergency|    2019-06-26|Paracetamol|Inconclusive|1942-06-20|\n",
      "|  Christina Williams| 50|Female|        A+|         Diabetes|       2021-11-29|     Laura Roberts|Malone, Thompson ...|             Aetna| 4835.945649525413|        444|      Elective|    2021-12-14|    Aspirin|Inconclusive|1973-05-20|\n",
      "|        William Page| 52|Female|        A+|         Diabetes|       2021-07-29|      James Carney|   Richardson-Powell|             Cigna|13669.377744164889|        492|      Elective|    2021-08-14|    Aspirin|      Normal|1971-03-12|\n",
      "|    Michael Bradshaw| 71|Female|       AB+|           Cancer|       2021-06-05|    Katherine Lowe|     Castaneda-Hardy|             Cigna|10342.836123527373|        120|     Emergency|    2021-06-25|  Ibuprofen|Inconclusive|1952-03-05|\n",
      "|        Brian Dorsey| 46|Female|        O+|        Arthritis|       2021-08-07|      Curtis Smith|         Burch-White|             Aetna|27174.942906232496|        492|     Emergency|    2021-08-14|    Aspirin|Inconclusive|1977-09-27|\n",
      "|     Olivia Gonzalez| 84|  Male|       AB-|         Diabetes|       2019-11-15|  Clayton Mcknight| Cunningham and Sons|             Aetna|17394.994264453202|        315|      Elective|    2019-12-04|    Aspirin|Inconclusive|1939-04-04|\n",
      "|     Teresa Caldwell| 80|  Male|        A+|        Arthritis|       2022-03-08|      Debra Meyers|Bell, Mcknight an...|          Medicare| 45213.53762641964|        475|      Elective|    2022-03-16|  Ibuprofen|Inconclusive|1943-07-02|\n",
      "| Desiree Williams MD| 82|  Male|        O+|          Obesity|       2022-06-19|     Megan Sanders|         Pugh-Rogers|  UnitedHealthcare|  4262.91157816964|        125|      Elective|    2022-06-29|    Aspirin|Inconclusive|1941-10-05|\n",
      "|          Sally Shaw| 75|  Male|        O-|        Arthritis|       2019-07-10|Zachary Horton DDS|Rush, Owens and J...|        Blue Cross|16609.311817449878|        366|     Emergency|    2019-08-07|  Ibuprofen|Inconclusive|1948-06-24|\n",
      "+--------------------+---+------+----------+-----------------+-----------------+------------------+--------------------+------------------+------------------+-----------+--------------+--------------+-----------+------------+----------+\n"
     ]
    }
   ],
   "source": [
    "df.show()"
   ],
   "metadata": {
    "collapsed": false,
    "ExecuteTime": {
     "end_time": "2024-02-25T10:54:15.799337Z",
     "start_time": "2024-02-25T10:54:11.993216Z"
    }
   },
   "id": "a7c5cd63962527f8"
  },
  {
   "cell_type": "code",
   "execution_count": 8,
   "outputs": [
    {
     "data": {
      "text/plain": "[('EMERGENCY',\n  'INJURY_RTC',\n  'Inpatient',\n  ['Whiplash',\n   'Concussions',\n   'Contusions (bruises)',\n   'Lacerations',\n   'Abrasions',\n   'Fractures',\n   'Sprains',\n   'Strains',\n   'Dislocations',\n   'Rib Fractures',\n   'Internal Bleeding',\n   'Pneumothorax (collapsed lung)',\n   'Spinal Cord Injuries',\n   'Traumatic Brain Injuries (TBIs)',\n   'Crush Injuries',\n   'Amputations',\n   'Psychological Trauma',\n   'Burn Injuries',\n   'Skull Fractures',\n   'Pelvic Fractures',\n   'Facial Fractures',\n   'Hematomas',\n   'Organ Damage',\n   'Cervical Spine Injuries',\n   'Thoracic Spine Injuries',\n   'Lumbar Spine Injuries',\n   'Tendon Injuries',\n   'Nerve Damage',\n   'Eye Injuries',\n   'Dental Injuries',\n   'Post-Traumatic Arthritis',\n   'Compartment Syndrome',\n   'Soft Tissue Injuries',\n   'Seat Belt Injuries',\n   'Airbag Injuries',\n   'Lower Extremity Injuries',\n   'Upper Extremity Injuries',\n   'Drowning or Near-Drowning Incidents',\n   'Hypothermia or Frostbite',\n   'Heatstroke',\n   'Acoustic Trauma',\n   'Stress Fractures',\n   'Bursitis'],\n  ['X-rays', 'CT scans', 'MRI', 'Ultrasound', 'Blood tests'],\n  'Dr. Kevin Miller'),\n ('EMERGENCY',\n  'INJURY_RTC',\n  'Day Patient',\n  ['Whiplash',\n   'Concussions',\n   'Contusions (bruises)',\n   'Lacerations',\n   'Abrasions',\n   'Fractures',\n   'Sprains',\n   'Strains',\n   'Dislocations',\n   'Rib Fractures',\n   'Internal Bleeding',\n   'Pneumothorax (collapsed lung)',\n   'Spinal Cord Injuries',\n   'Traumatic Brain Injuries (TBIs)',\n   'Crush Injuries',\n   'Amputations',\n   'Psychological Trauma',\n   'Burn Injuries',\n   'Skull Fractures',\n   'Pelvic Fractures',\n   'Facial Fractures',\n   'Hematomas',\n   'Organ Damage',\n   'Cervical Spine Injuries',\n   'Thoracic Spine Injuries',\n   'Lumbar Spine Injuries',\n   'Tendon Injuries',\n   'Nerve Damage',\n   'Eye Injuries',\n   'Dental Injuries',\n   'Post-Traumatic Arthritis',\n   'Compartment Syndrome',\n   'Soft Tissue Injuries',\n   'Seat Belt Injuries',\n   'Airbag Injuries',\n   'Lower Extremity Injuries',\n   'Upper Extremity Injuries',\n   'Drowning or Near-Drowning Incidents',\n   'Hypothermia or Frostbite',\n   'Heatstroke',\n   'Acoustic Trauma',\n   'Stress Fractures',\n   'Bursitis'],\n  ['X-rays', 'CT scans', 'MRI', 'Ultrasound', 'Blood tests'],\n  'Dr. William Robles'),\n ('EMERGENCY',\n  'SELF_INFLICTED',\n  'Inpatient',\n  ['No conditions'],\n  ['Psychological assessment',\n   'X-rays (for physical injuries)',\n   'Blood tests',\n   'Toxicology screening'],\n  'Dr. Sue Crawford'),\n ('EMERGENCY',\n  'CARDIOLOGY',\n  'Inpatient',\n  ['No conditions'],\n  ['ECG',\n   'Echocardiogram',\n   'Stress tests',\n   'Cardiac catheterization',\n   'Blood tests'],\n  'Dr. Amy Johnson'),\n ('EMERGENCY',\n  'CARDIOLOGY',\n  'Day Patient',\n  ['No conditions'],\n  ['ECG',\n   'Echocardiogram',\n   'Stress tests',\n   'Cardiac catheterization',\n   'Blood tests'],\n  'Dr. Joe Lowe'),\n ('EMERGENCY',\n  'NEUROLOGY',\n  'Inpatient',\n  ['Migraines',\n   'Epilepsy',\n   \"Parkinson's Disease\",\n   \"Alzheimer's Disease\",\n   'Multiple Sclerosis',\n   'Stroke',\n   'Peripheral Neuropathy',\n   \"Bell's Palsy\",\n   'Sciatica',\n   'Concussion'],\n  ['MRI or CT scans of the brain',\n   'Electroencephalogram (EEG)',\n   'Lumbar puncture',\n   'Nerve conduction studies',\n   'Blood tests'],\n  'Dr. Deanna Diaz'),\n ('EMERGENCY',\n  'NEUROLOGY',\n  'Day Patient',\n  ['Migraines',\n   'Epilepsy',\n   \"Parkinson's Disease\",\n   \"Alzheimer's Disease\",\n   'Multiple Sclerosis',\n   'Stroke',\n   'Peripheral Neuropathy',\n   \"Bell's Palsy\",\n   'Sciatica',\n   'Concussion'],\n  ['MRI or CT scans of the brain',\n   'Electroencephalogram (EEG)',\n   'Lumbar puncture',\n   'Nerve conduction studies',\n   'Blood tests'],\n  'Dr. Carlos Jones'),\n ('EMERGENCY',\n  'NEUROLOGY',\n  'Outpatient',\n  ['Migraines',\n   'Epilepsy',\n   \"Parkinson's Disease\",\n   \"Alzheimer's Disease\",\n   'Multiple Sclerosis',\n   'Stroke',\n   'Peripheral Neuropathy',\n   \"Bell's Palsy\",\n   'Sciatica',\n   'Concussion'],\n  ['MRI or CT scans of the brain',\n   'Electroencephalogram (EEG)',\n   'Lumbar puncture',\n   'Nerve conduction studies',\n   'Blood tests'],\n  'Dr. Denise Parker'),\n ('EMERGENCY',\n  'GASTROENTEROLOGY',\n  'Inpatient',\n  ['Gastro-oesophageal Reflux Disease (GORD)',\n   'Irritable Bowel Syndrome (IBS)',\n   \"Inflammatory Bowel Disease (IBD) - including Crohn's Disease and Ulcerative Colitis\",\n   'Coeliac Disease',\n   'Peptic Ulcers',\n   'Gallstones',\n   'Chronic Liver Disease - including Hepatitis and Cirrhosis',\n   'Pancreatitis',\n   'Gastroenteritis',\n   'Diverticular Disease'],\n  ['Endoscopy',\n   'Colonoscopy',\n   'Blood tests',\n   'Stool tests',\n   'Abdominal ultrasound',\n   'CT scan'],\n  'Dr. Crystal Brandt'),\n ('EMERGENCY',\n  'GASTROENTEROLOGY',\n  'Day Patient',\n  ['Gastro-oesophageal Reflux Disease (GORD)',\n   'Irritable Bowel Syndrome (IBS)',\n   \"Inflammatory Bowel Disease (IBD) - including Crohn's Disease and Ulcerative Colitis\",\n   'Coeliac Disease',\n   'Peptic Ulcers',\n   'Gallstones',\n   'Chronic Liver Disease - including Hepatitis and Cirrhosis',\n   'Pancreatitis',\n   'Gastroenteritis',\n   'Diverticular Disease'],\n  ['Endoscopy',\n   'Colonoscopy',\n   'Blood tests',\n   'Stool tests',\n   'Abdominal ultrasound',\n   'CT scan'],\n  'Dr. Ashley Peters'),\n ('EMERGENCY',\n  'GASTROENTEROLOGY',\n  'Outpatient',\n  ['Gastro-oesophageal Reflux Disease (GORD)',\n   'Irritable Bowel Syndrome (IBS)',\n   \"Inflammatory Bowel Disease (IBD) - including Crohn's Disease and Ulcerative Colitis\",\n   'Coeliac Disease',\n   'Peptic Ulcers',\n   'Gallstones',\n   'Chronic Liver Disease - including Hepatitis and Cirrhosis',\n   'Pancreatitis',\n   'Gastroenteritis',\n   'Diverticular Disease'],\n  ['Endoscopy',\n   'Colonoscopy',\n   'Blood tests',\n   'Stool tests',\n   'Abdominal ultrasound',\n   'CT scan'],\n  'Dr. Karen Thompson'),\n ('EMERGENCY',\n  'RESPIRATORY',\n  'Inpatient',\n  ['Asthma',\n   'Chronic Obstructive Pulmonary Disease (COPD)',\n   'Pneumonia',\n   'Bronchitis',\n   'Sinusitis',\n   'Allergic Rhinitis',\n   'Pulmonary Embolism',\n   'Lung Cancer',\n   'Cystic Fibrosis',\n   'Sleep Apnea'],\n  ['Pulmonary function tests', 'Chest X-ray', 'CT scan', 'Bronchoscopy'],\n  'Dr. Arthur Williams'),\n ('EMERGENCY',\n  'RESPIRATORY',\n  'Day Patient',\n  ['Asthma',\n   'Chronic Obstructive Pulmonary Disease (COPD)',\n   'Pneumonia',\n   'Bronchitis',\n   'Sinusitis',\n   'Allergic Rhinitis',\n   'Pulmonary Embolism',\n   'Lung Cancer',\n   'Cystic Fibrosis',\n   'Sleep Apnea'],\n  ['Pulmonary function tests', 'Chest X-ray', 'CT scan', 'Bronchoscopy'],\n  'Dr. Dalton Ray'),\n ('EMERGENCY',\n  'RESPIRATORY',\n  'Outpatient',\n  ['Asthma',\n   'Chronic Obstructive Pulmonary Disease (COPD)',\n   'Pneumonia',\n   'Bronchitis',\n   'Sinusitis',\n   'Allergic Rhinitis',\n   'Pulmonary Embolism',\n   'Lung Cancer',\n   'Cystic Fibrosis',\n   'Sleep Apnea'],\n  ['Pulmonary function tests', 'Chest X-ray', 'CT scan', 'Bronchoscopy'],\n  'Dr. Laura Craig'),\n ('EMERGENCY',\n  'INFECTIOUS_DISEASES',\n  'Inpatient',\n  ['Influenza',\n   'Urinary Tract Infections (UTIs)',\n   'HIV/AIDS',\n   'Hepatitis',\n   'Tuberculosis',\n   'Malaria',\n   'COVID-19',\n   'Strep Throat',\n   'Herpes Simplex Virus'],\n  ['Blood cultures',\n   'PCR tests',\n   'Antibody tests',\n   'chest X-ray',\n   'Lumbar puncture'],\n  'Dr. William Mcdonald'),\n ('EMERGENCY',\n  'INFECTIOUS_DISEASES',\n  'Day Patient',\n  ['Influenza',\n   'Urinary Tract Infections (UTIs)',\n   'HIV/AIDS',\n   'Hepatitis',\n   'Tuberculosis',\n   'Malaria',\n   'COVID-19',\n   'Strep Throat',\n   'Herpes Simplex Virus'],\n  ['Blood cultures',\n   'PCR tests',\n   'Antibody tests',\n   'chest X-ray',\n   'Lumbar puncture'],\n  'Dr. Tammy Bailey'),\n ('EMERGENCY',\n  'MATERNITY',\n  'Inpatient',\n  ['Labour and Delivery',\n   'Scheduled Caesarean Section',\n   'Induction of Labour',\n   'Preterm Labour',\n   'Pre-eclampsia/Eclampsia',\n   'Gestational Diabetes Monitoring',\n   'Antepartum Haemorrhage',\n   'Pregnancy-induced Hypertension',\n   'Ruptured Membranes without Contractions',\n   'Postpartum Complications'],\n  ['Ultrasound', 'Blood tests', 'Glucose tolerance test', 'Amniocentesis'],\n  'Dr. Amanda Alvarez'),\n ('EMERGENCY',\n  'MATERNITY',\n  'Day Patient',\n  ['Labour and Delivery',\n   'Scheduled Caesarean Section',\n   'Induction of Labour',\n   'Preterm Labour',\n   'Pre-eclampsia/Eclampsia',\n   'Gestational Diabetes Monitoring',\n   'Antepartum Haemorrhage',\n   'Pregnancy-induced Hypertension',\n   'Ruptured Membranes without Contractions',\n   'Postpartum Complications'],\n  ['Ultrasound', 'Blood tests', 'Glucose tolerance test', 'Amniocentesis'],\n  'Dr. Tyler Smith'),\n ('EMERGENCY',\n  'MATERNITY',\n  'Outpatient',\n  ['Labour and Delivery',\n   'Scheduled Caesarean Section',\n   'Induction of Labour',\n   'Preterm Labour',\n   'Pre-eclampsia/Eclampsia',\n   'Gestational Diabetes Monitoring',\n   'Antepartum Haemorrhage',\n   'Pregnancy-induced Hypertension',\n   'Ruptured Membranes without Contractions',\n   'Postpartum Complications'],\n  ['Ultrasound', 'Blood tests', 'Glucose tolerance test', 'Amniocentesis'],\n  'Dr. Samuel Brown'),\n ('EMERGENCY',\n  'PSYCHIATRIC',\n  'Inpatient',\n  ['Depression',\n   'Anxiety Disorders',\n   'Bipolar Disorder',\n   'Schizophrenia',\n   'Post-Traumatic Stress Disorder (PTSD)',\n   'Obsessive-Compulsive Disorder (OCD)',\n   'Eating Disorders (Anorexia, Bulimia)',\n   'Attention Deficit Hyperactivity Disorder (ADHD)',\n   'Autism Spectrum Disorder',\n   'Insomnia'],\n  ['Psychological evaluation',\n   'Blood tests',\n   'Brain imaging (MRI, CT scans)',\n   'Electroencephalogram (EEG)'],\n  'Dr. Alexander Dawson'),\n ('EMERGENCY',\n  'PSYCHIATRIC',\n  'Day Patient',\n  ['Depression',\n   'Anxiety Disorders',\n   'Bipolar Disorder',\n   'Schizophrenia',\n   'Post-Traumatic Stress Disorder (PTSD)',\n   'Obsessive-Compulsive Disorder (OCD)',\n   'Eating Disorders (Anorexia, Bulimia)',\n   'Attention Deficit Hyperactivity Disorder (ADHD)',\n   'Autism Spectrum Disorder',\n   'Insomnia'],\n  ['Psychological evaluation',\n   'Blood tests',\n   'Brain imaging (MRI, CT scans)',\n   'Electroencephalogram (EEG)'],\n  'Dr. Christopher Randall'),\n ('EMERGENCY',\n  'PSYCHIATRIC',\n  'Outpatient',\n  ['Depression',\n   'Anxiety Disorders',\n   'Bipolar Disorder',\n   'Schizophrenia',\n   'Post-Traumatic Stress Disorder (PTSD)',\n   'Obsessive-Compulsive Disorder (OCD)',\n   'Eating Disorders (Anorexia, Bulimia)',\n   'Attention Deficit Hyperactivity Disorder (ADHD)',\n   'Autism Spectrum Disorder',\n   'Insomnia'],\n  ['Psychological evaluation',\n   'Blood tests',\n   'Brain imaging (MRI, CT scans)',\n   'Electroencephalogram (EEG)'],\n  'Dr. Teresa Johnson'),\n ('EMERGENCY',\n  'ORTHOPEDICS',\n  'Inpatient',\n  ['Osteoarthritis',\n   'Rheumatoid Arthritis',\n   'Osteoporosis',\n   'Fractures',\n   'Anterior Cruciate Ligament (ACL) Injuries',\n   'Meniscus Tears',\n   'Rotator Cuff Tears',\n   'Carpal Tunnel Syndrome',\n   'Spinal Disc Herniation',\n   'Scoliosis'],\n  ['X-rays', 'MRI', 'CT scans', 'Bone scans', 'Blood tests'],\n  'Dr. Jackson White'),\n ('EMERGENCY',\n  'ORTHOPEDICS',\n  'Day Patient',\n  ['Osteoarthritis',\n   'Rheumatoid Arthritis',\n   'Osteoporosis',\n   'Fractures',\n   'Anterior Cruciate Ligament (ACL) Injuries',\n   'Meniscus Tears',\n   'Rotator Cuff Tears',\n   'Carpal Tunnel Syndrome',\n   'Spinal Disc Herniation',\n   'Scoliosis'],\n  ['X-rays', 'MRI', 'CT scans', 'Bone scans', 'Blood tests'],\n  'Dr. Kendra Porter'),\n ('EMERGENCY',\n  'ORTHOPEDICS',\n  'Outpatient',\n  ['Osteoarthritis',\n   'Rheumatoid Arthritis',\n   'Osteoporosis',\n   'Fractures',\n   'Anterior Cruciate Ligament (ACL) Injuries',\n   'Meniscus Tears',\n   'Rotator Cuff Tears',\n   'Carpal Tunnel Syndrome',\n   'Spinal Disc Herniation',\n   'Scoliosis'],\n  ['X-rays', 'MRI', 'CT scans', 'Bone scans', 'Blood tests'],\n  'Dr. Charles Baker'),\n ('GP_REFERRAL',\n  'PSYCHIATRIC',\n  'Inpatient',\n  ['Depression',\n   'Anxiety Disorders',\n   'Bipolar Disorder',\n   'Schizophrenia',\n   'Post-Traumatic Stress Disorder (PTSD)',\n   'Obsessive-Compulsive Disorder (OCD)',\n   'Eating Disorders (Anorexia, Bulimia)',\n   'Attention Deficit Hyperactivity Disorder (ADHD)',\n   'Autism Spectrum Disorder',\n   'Insomnia'],\n  ['Psychological evaluation',\n   'Blood tests',\n   'Brain imaging (MRI, CT scans)',\n   'Electroencephalogram (EEG)'],\n  'Dr. Wendy Cummings'),\n ('GP_REFERRAL',\n  'PSYCHIATRIC',\n  'Day Patient',\n  ['Depression',\n   'Anxiety Disorders',\n   'Bipolar Disorder',\n   'Schizophrenia',\n   'Post-Traumatic Stress Disorder (PTSD)',\n   'Obsessive-Compulsive Disorder (OCD)',\n   'Eating Disorders (Anorexia, Bulimia)',\n   'Attention Deficit Hyperactivity Disorder (ADHD)',\n   'Autism Spectrum Disorder',\n   'Insomnia'],\n  ['Psychological evaluation',\n   'Blood tests',\n   'Brain imaging (MRI, CT scans)',\n   'Electroencephalogram (EEG)'],\n  'Dr. Diana Vasquez'),\n ('GP_REFERRAL',\n  'PSYCHIATRIC',\n  'Outpatient',\n  ['Depression',\n   'Anxiety Disorders',\n   'Bipolar Disorder',\n   'Schizophrenia',\n   'Post-Traumatic Stress Disorder (PTSD)',\n   'Obsessive-Compulsive Disorder (OCD)',\n   'Eating Disorders (Anorexia, Bulimia)',\n   'Attention Deficit Hyperactivity Disorder (ADHD)',\n   'Autism Spectrum Disorder',\n   'Insomnia'],\n  ['Psychological evaluation',\n   'Blood tests',\n   'Brain imaging (MRI, CT scans)',\n   'Electroencephalogram (EEG)'],\n  'Dr. Adam Reyes'),\n ('GP_REFERRAL',\n  'ORTHOPEDICS',\n  'Outpatient',\n  ['Osteoarthritis',\n   'Rheumatoid Arthritis',\n   'Osteoporosis',\n   'Fractures',\n   'Anterior Cruciate Ligament (ACL) Injuries',\n   'Meniscus Tears',\n   'Rotator Cuff Tears',\n   'Carpal Tunnel Syndrome',\n   'Spinal Disc Herniation',\n   'Scoliosis'],\n  ['X-rays', 'MRI', 'CT scans', 'Bone scans', 'Blood tests'],\n  'Dr. Tina Parks'),\n ('GP_REFERRAL',\n  'GASTROENTEROLOGY',\n  'Inpatient',\n  ['Gastro-oesophageal Reflux Disease (GORD)',\n   'Irritable Bowel Syndrome (IBS)',\n   \"Inflammatory Bowel Disease (IBD) - including Crohn's Disease and Ulcerative Colitis\",\n   'Coeliac Disease',\n   'Peptic Ulcers',\n   'Gallstones',\n   'Chronic Liver Disease - including Hepatitis and Cirrhosis',\n   'Pancreatitis',\n   'Gastroenteritis',\n   'Diverticular Disease'],\n  ['Endoscopy',\n   'Colonoscopy',\n   'Blood tests',\n   'Stool tests',\n   'Abdominal ultrasound',\n   'CT scan'],\n  'Dr. Mia Clark'),\n ('GP_REFERRAL',\n  'GASTROENTEROLOGY',\n  'Day Patient',\n  ['Gastro-oesophageal Reflux Disease (GORD)',\n   'Irritable Bowel Syndrome (IBS)',\n   \"Inflammatory Bowel Disease (IBD) - including Crohn's Disease and Ulcerative Colitis\",\n   'Coeliac Disease',\n   'Peptic Ulcers',\n   'Gallstones',\n   'Chronic Liver Disease - including Hepatitis and Cirrhosis',\n   'Pancreatitis',\n   'Gastroenteritis',\n   'Diverticular Disease'],\n  ['Endoscopy',\n   'Colonoscopy',\n   'Blood tests',\n   'Stool tests',\n   'Abdominal ultrasound',\n   'CT scan'],\n  'Dr. Joe Rice'),\n ('GP_REFERRAL',\n  'GASTROENTEROLOGY',\n  'Outpatient',\n  ['Gastro-oesophageal Reflux Disease (GORD)',\n   'Irritable Bowel Syndrome (IBS)',\n   \"Inflammatory Bowel Disease (IBD) - including Crohn's Disease and Ulcerative Colitis\",\n   'Coeliac Disease',\n   'Peptic Ulcers',\n   'Gallstones',\n   'Chronic Liver Disease - including Hepatitis and Cirrhosis',\n   'Pancreatitis',\n   'Gastroenteritis',\n   'Diverticular Disease'],\n  ['Endoscopy',\n   'Colonoscopy',\n   'Blood tests',\n   'Stool tests',\n   'Abdominal ultrasound',\n   'CT scan'],\n  'Dr. Cindy Brown'),\n ('GP_REFERRAL',\n  'ENDOCRINOLOGY',\n  'Outpatient',\n  ['Diabetes Mellitus - Type 1 and Type 2',\n   'Thyroid Disorders - including Hypothyroidism and Hyperthyroidism',\n   \"Addison's Disease\",\n   \"Cushing's Syndrome\",\n   'Polycystic Ovary Syndrome (PCOS)',\n   'Osteoporosis',\n   'Pituitary Disorders',\n   'Hyperlipidaemia',\n   'Gout',\n   'Metabolic Syndrome'],\n  ['Blood tests (hormone levels)',\n   'Thyroid function tests',\n   'Bone density tests'],\n  'Dr. Keith Clark'),\n ('GP_REFERRAL',\n  'DERMATOLOGY',\n  'Outpatient',\n  ['Acne',\n   'Eczema',\n   'Psoriasis',\n   'Dermatitis',\n   'Skin Cancer',\n   'Rosacea',\n   'Hives (Urticaria)',\n   'Impetigo',\n   'Cellulitis',\n   'Shingles (Herpes Zoster)'],\n  ['Skin biopsy', 'Patch tests', 'Skin scrapings', 'Blood tests'],\n  'Dr. John Cunningham'),\n ('GP_REFERRAL',\n  'MATERNITY',\n  'Inpatient',\n  ['Labour and Delivery',\n   'Scheduled Caesarean Section',\n   'Induction of Labour',\n   'Preterm Labour',\n   'Pre-eclampsia/Eclampsia',\n   'Gestational Diabetes Monitoring',\n   'Antepartum Haemorrhage',\n   'Pregnancy-induced Hypertension',\n   'Ruptured Membranes without Contractions',\n   'Postpartum Complications'],\n  ['Ultrasound', 'Blood tests', 'Glucose tolerance test', 'Amniocentesis'],\n  'Dr. Patrick Miller'),\n ('GP_REFERRAL',\n  'MATERNITY',\n  'Day Patient',\n  ['Labour and Delivery',\n   'Scheduled Caesarean Section',\n   'Induction of Labour',\n   'Preterm Labour',\n   'Pre-eclampsia/Eclampsia',\n   'Gestational Diabetes Monitoring',\n   'Antepartum Haemorrhage',\n   'Pregnancy-induced Hypertension',\n   'Ruptured Membranes without Contractions',\n   'Postpartum Complications'],\n  ['Ultrasound', 'Blood tests', 'Glucose tolerance test', 'Amniocentesis'],\n  'Dr. Joseph Garcia'),\n ('GP_REFERRAL',\n  'MATERNITY',\n  'Outpatient',\n  ['Labour and Delivery',\n   'Scheduled Caesarean Section',\n   'Induction of Labour',\n   'Preterm Labour',\n   'Pre-eclampsia/Eclampsia',\n   'Gestational Diabetes Monitoring',\n   'Antepartum Haemorrhage',\n   'Pregnancy-induced Hypertension',\n   'Ruptured Membranes without Contractions',\n   'Postpartum Complications'],\n  ['Ultrasound', 'Blood tests', 'Glucose tolerance test', 'Amniocentesis'],\n  'Dr. Laurie Reid'),\n ('GP_REFERRAL',\n  'GERIATRICS',\n  'Inpatient',\n  ['No conditions'],\n  ['Comprehensive geriatric assessment',\n   'Blood tests',\n   'Bone density scans',\n   'Cognitive tests'],\n  'Dr. Gary Smith'),\n ('GP_REFERRAL',\n  'GERIATRICS',\n  'Outpatient',\n  ['No conditions'],\n  ['Comprehensive geriatric assessment',\n   'Blood tests',\n   'Bone density scans',\n   'Cognitive tests'],\n  'Dr. Miguel Benjamin'),\n ('HOSPITAL_REFERRAL',\n  'CARDIOLOGY',\n  'Inpatient',\n  ['No conditions'],\n  ['ECG',\n   'Echocardiogram',\n   'Stress tests',\n   'Cardiac catheterization',\n   'Blood tests'],\n  'Dr. Brian Lewis'),\n ('HOSPITAL_REFERRAL',\n  'CARDIOLOGY',\n  'Day Patient',\n  ['No conditions'],\n  ['ECG',\n   'Echocardiogram',\n   'Stress tests',\n   'Cardiac catheterization',\n   'Blood tests'],\n  'Dr. Terri Herring'),\n ('HOSPITAL_REFERRAL',\n  'NEPHROLOGY',\n  'Inpatient',\n  ['Chronic Kidney Disease (CKD)',\n   'Acute Kidney Injury (AKI)',\n   'Glomerulonephritis',\n   'Polycystic Kidney Disease',\n   'Kidney Stones',\n   'Urinary Tract Infections (UTIs)',\n   'Nephrotic Syndrome',\n   'Renal Artery Stenosis',\n   'Haemodialysis-related Amyloidosis',\n   'Hyperkalaemia'],\n  ['Blood tests (renal function tests)',\n   'Urine tests',\n   'Ultrasound of the kidneys',\n   'Biopsy'],\n  'Dr. Stephen Hernandez'),\n ('HOSPITAL_REFERRAL',\n  'NEPHROLOGY',\n  'Day Patient',\n  ['Chronic Kidney Disease (CKD)',\n   'Acute Kidney Injury (AKI)',\n   'Glomerulonephritis',\n   'Polycystic Kidney Disease',\n   'Kidney Stones',\n   'Urinary Tract Infections (UTIs)',\n   'Nephrotic Syndrome',\n   'Renal Artery Stenosis',\n   'Haemodialysis-related Amyloidosis',\n   'Hyperkalaemia'],\n  ['Blood tests (renal function tests)',\n   'Urine tests',\n   'Ultrasound of the kidneys',\n   'Biopsy'],\n  'Dr. Hannah Greer'),\n ('HOSPITAL_REFERRAL',\n  'NEPHROLOGY',\n  'Outpatient',\n  ['Chronic Kidney Disease (CKD)',\n   'Acute Kidney Injury (AKI)',\n   'Glomerulonephritis',\n   'Polycystic Kidney Disease',\n   'Kidney Stones',\n   'Urinary Tract Infections (UTIs)',\n   'Nephrotic Syndrome',\n   'Renal Artery Stenosis',\n   'Haemodialysis-related Amyloidosis',\n   'Hyperkalaemia'],\n  ['Blood tests (renal function tests)',\n   'Urine tests',\n   'Ultrasound of the kidneys',\n   'Biopsy'],\n  'Dr. Lori Gilbert'),\n ('HOSPITAL_REFERRAL',\n  'NEUROLOGY',\n  'Inpatient',\n  ['Migraines',\n   'Epilepsy',\n   \"Parkinson's Disease\",\n   \"Alzheimer's Disease\",\n   'Multiple Sclerosis',\n   'Stroke',\n   'Peripheral Neuropathy',\n   \"Bell's Palsy\",\n   'Sciatica',\n   'Concussion'],\n  ['MRI or CT scans of the brain',\n   'Electroencephalogram (EEG)',\n   'Lumbar puncture',\n   'Nerve conduction studies',\n   'Blood tests'],\n  'Dr. Emily Stafford'),\n ('HOSPITAL_REFERRAL',\n  'NEUROLOGY',\n  'Day Patient',\n  ['Migraines',\n   'Epilepsy',\n   \"Parkinson's Disease\",\n   \"Alzheimer's Disease\",\n   'Multiple Sclerosis',\n   'Stroke',\n   'Peripheral Neuropathy',\n   \"Bell's Palsy\",\n   'Sciatica',\n   'Concussion'],\n  ['MRI or CT scans of the brain',\n   'Electroencephalogram (EEG)',\n   'Lumbar puncture',\n   'Nerve conduction studies',\n   'Blood tests'],\n  'Dr. Eric Brown'),\n ('HOSPITAL_REFERRAL',\n  'NEUROLOGY',\n  'Outpatient',\n  ['Migraines',\n   'Epilepsy',\n   \"Parkinson's Disease\",\n   \"Alzheimer's Disease\",\n   'Multiple Sclerosis',\n   'Stroke',\n   'Peripheral Neuropathy',\n   \"Bell's Palsy\",\n   'Sciatica',\n   'Concussion'],\n  ['MRI or CT scans of the brain',\n   'Electroencephalogram (EEG)',\n   'Lumbar puncture',\n   'Nerve conduction studies',\n   'Blood tests'],\n  'Dr. Rebecca Oneal'),\n ('HOSPITAL_REFERRAL',\n  'ONCOLOGY',\n  'Inpatient',\n  ['Breast Cancer',\n   'Lung Cancer',\n   'Prostate Cancer',\n   'Colorectal Cancer',\n   'Melanoma',\n   'Leukemia',\n   'Lymphoma',\n   'Pancreatic Cancer',\n   'Ovarian Cancer',\n   'Bladder Cancer'],\n  ['Biopsies',\n   'MRI',\n   'Ultrasound',\n   'Blood tests',\n   'Imaging CT',\n   'Imaging MRI',\n   'Imaging PET scans',\n   'X-rays',\n   'Biopsy',\n   'CT scans'],\n  'Dr. Tracy Jones'),\n ('HOSPITAL_REFERRAL',\n  'ONCOLOGY',\n  'Day Patient',\n  ['Breast Cancer',\n   'Lung Cancer',\n   'Prostate Cancer',\n   'Colorectal Cancer',\n   'Melanoma',\n   'Leukemia',\n   'Lymphoma',\n   'Pancreatic Cancer',\n   'Ovarian Cancer',\n   'Bladder Cancer'],\n  ['Biopsies',\n   'MRI',\n   'Ultrasound',\n   'Blood tests',\n   'Imaging CT',\n   'Imaging MRI',\n   'Imaging PET scans',\n   'X-rays',\n   'Biopsy',\n   'CT scans'],\n  'Dr. Joseph Smith'),\n ('HOSPITAL_REFERRAL',\n  'ONCOLOGY',\n  'Outpatient',\n  ['Breast Cancer',\n   'Lung Cancer',\n   'Prostate Cancer',\n   'Colorectal Cancer',\n   'Melanoma',\n   'Leukemia',\n   'Lymphoma',\n   'Pancreatic Cancer',\n   'Ovarian Cancer',\n   'Bladder Cancer'],\n  ['Biopsies',\n   'MRI',\n   'Ultrasound',\n   'Blood tests',\n   'Imaging CT',\n   'Imaging MRI',\n   'Imaging PET scans',\n   'X-rays',\n   'Biopsy',\n   'CT scans'],\n  'Dr. Jessica White'),\n ('HOSPITAL_REFERRAL',\n  'HEMATOLOGY',\n  'Inpatient',\n  ['No conditions'],\n  ['Full Blood Count (FBC)',\n   'Coagulation Profile',\n   'Bone Marrow Biopsy',\n   'Haemoglobin Electrophoresis',\n   'Erythrocyte Sedimentation Rate (ESR)',\n   'Serum Ferritin',\n   'Blood Film',\n   'Immunophenotyping',\n   'Cytogenetic Testing',\n   'Molecular Genetic Tests'],\n  'Dr. Judy Shields'),\n ('HOSPITAL_REFERRAL',\n  'HEMATOLOGY',\n  'Day Patient',\n  ['No conditions'],\n  ['Full Blood Count (FBC)',\n   'Coagulation Profile',\n   'Bone Marrow Biopsy',\n   'Haemoglobin Electrophoresis',\n   'Erythrocyte Sedimentation Rate (ESR)',\n   'Serum Ferritin',\n   'Blood Film',\n   'Immunophenotyping',\n   'Cytogenetic Testing',\n   'Molecular Genetic Tests'],\n  'Dr. Mike Hall'),\n ('HOSPITAL_REFERRAL',\n  'HEMATOLOGY',\n  'Outpatient',\n  ['No conditions'],\n  ['Full Blood Count (FBC)',\n   'Coagulation Profile',\n   'Bone Marrow Biopsy',\n   'Haemoglobin Electrophoresis',\n   'Erythrocyte Sedimentation Rate (ESR)',\n   'Serum Ferritin',\n   'Blood Film',\n   'Immunophenotyping',\n   'Cytogenetic Testing',\n   'Molecular Genetic Tests'],\n  'Dr. Juan Johnson'),\n ('HOSPITAL_REFERRAL',\n  'UROLOGY',\n  'Inpatient',\n  ['No conditions'],\n  ['Urinalysis',\n   'Blood Tests for Kidney Function',\n   'Ultrasound of the Kidneys and Bladder',\n   'Cystoscopy',\n   'Urodynamic Testing',\n   'Prostate-Specific Antigen (PSA) Test',\n   'CT Urogram',\n   'MRI of the Pelvis',\n   'Intravenous Pyelogram (IVP)',\n   'Renal Biopsy'],\n  'Dr. Katelyn Rojas'),\n ('HOSPITAL_REFERRAL',\n  'UROLOGY',\n  'Day Patient',\n  ['No conditions'],\n  ['Urinalysis',\n   'Blood Tests for Kidney Function',\n   'Ultrasound of the Kidneys and Bladder',\n   'Cystoscopy',\n   'Urodynamic Testing',\n   'Prostate-Specific Antigen (PSA) Test',\n   'CT Urogram',\n   'MRI of the Pelvis',\n   'Intravenous Pyelogram (IVP)',\n   'Renal Biopsy'],\n  'Dr. Rebecca Smith'),\n ('HOSPITAL_REFERRAL',\n  'UROLOGY',\n  'Outpatient',\n  ['No conditions'],\n  ['Urinalysis',\n   'Blood Tests for Kidney Function',\n   'Ultrasound of the Kidneys and Bladder',\n   'Cystoscopy',\n   'Urodynamic Testing',\n   'Prostate-Specific Antigen (PSA) Test',\n   'CT Urogram',\n   'MRI of the Pelvis',\n   'Intravenous Pyelogram (IVP)',\n   'Renal Biopsy'],\n  'Dr. Erica Jenkins'),\n ('HOSPITAL_REFERRAL',\n  'GASTROINTESTINAL_DISORDERS',\n  'Inpatient',\n  ['Gastroesophageal Reflux Disease (GERD)',\n   'Peptic Ulcer Disease',\n   'Irritable Bowel Syndrome (IBS)',\n   \"Crohn's Disease\",\n   'Ulcerative Colitis',\n   'Gallstones',\n   'Hepatitis',\n   'Cirrhosis',\n   'Pancreatitis',\n   'Celiac Disease'],\n  ['No tests'],\n  'Dr. Nicholas Herrera'),\n ('HOSPITAL_REFERRAL',\n  'GASTROINTESTINAL_DISORDERS',\n  'Day Patient',\n  ['Gastroesophageal Reflux Disease (GERD)',\n   'Peptic Ulcer Disease',\n   'Irritable Bowel Syndrome (IBS)',\n   \"Crohn's Disease\",\n   'Ulcerative Colitis',\n   'Gallstones',\n   'Hepatitis',\n   'Cirrhosis',\n   'Pancreatitis',\n   'Celiac Disease'],\n  ['No tests'],\n  'Dr. Gabriel Cox'),\n ('HOSPITAL_REFERRAL',\n  'GASTROINTESTINAL_DISORDERS',\n  'Outpatient',\n  ['Gastroesophageal Reflux Disease (GERD)',\n   'Peptic Ulcer Disease',\n   'Irritable Bowel Syndrome (IBS)',\n   \"Crohn's Disease\",\n   'Ulcerative Colitis',\n   'Gallstones',\n   'Hepatitis',\n   'Cirrhosis',\n   'Pancreatitis',\n   'Celiac Disease'],\n  ['No tests'],\n  'Dr. Matthew Reed'),\n ('HOSPITAL_REFERRAL',\n  'RESPIRATORY',\n  'Inpatient',\n  ['Asthma',\n   'Chronic Obstructive Pulmonary Disease (COPD)',\n   'Pneumonia',\n   'Bronchitis',\n   'Sinusitis',\n   'Allergic Rhinitis',\n   'Pulmonary Embolism',\n   'Lung Cancer',\n   'Cystic Fibrosis',\n   'Sleep Apnea'],\n  ['Pulmonary function tests', 'Chest X-ray', 'CT scan', 'Bronchoscopy'],\n  'Dr. Alex Whitaker'),\n ('HOSPITAL_REFERRAL',\n  'RESPIRATORY',\n  'Day Patient',\n  ['Asthma',\n   'Chronic Obstructive Pulmonary Disease (COPD)',\n   'Pneumonia',\n   'Bronchitis',\n   'Sinusitis',\n   'Allergic Rhinitis',\n   'Pulmonary Embolism',\n   'Lung Cancer',\n   'Cystic Fibrosis',\n   'Sleep Apnea'],\n  ['Pulmonary function tests', 'Chest X-ray', 'CT scan', 'Bronchoscopy'],\n  'Dr. Christopher Pierce'),\n ('HOSPITAL_REFERRAL',\n  'RESPIRATORY',\n  'Outpatient',\n  ['Asthma',\n   'Chronic Obstructive Pulmonary Disease (COPD)',\n   'Pneumonia',\n   'Bronchitis',\n   'Sinusitis',\n   'Allergic Rhinitis',\n   'Pulmonary Embolism',\n   'Lung Cancer',\n   'Cystic Fibrosis',\n   'Sleep Apnea'],\n  ['Pulmonary function tests', 'Chest X-ray', 'CT scan', 'Bronchoscopy'],\n  'Dr. Kimberly Santos'),\n ('HOSPITAL_REFERRAL',\n  'MUSCULOSKELETAL',\n  'Inpatient',\n  ['Low Back Pain',\n   'Tendinitis',\n   'Bursitis',\n   'Fibromyalgia',\n   'Gout',\n   'Ankylosing Spondylitis',\n   'Plantar Fasciitis',\n   'Repetitive Strain Injury (RSI)',\n   'Lupus',\n   'Polymyalgia Rheumatica'],\n  ['X-rays',\n   'MRI Scan',\n   'CT Scan',\n   'Bone Scan',\n   'Dual-energy X-ray Absorptiometry (DEXA) Scan',\n   'Electromyography (EMG)',\n   'Nerve Conduction Studies',\n   'Ultrasound',\n   'Arthroscopy',\n   'Blood Tests for Rheumatoid Factor & Anti-CCP'],\n  'Dr. Michael Walker'),\n ('HOSPITAL_REFERRAL',\n  'MUSCULOSKELETAL',\n  'Day Patient',\n  ['Low Back Pain',\n   'Tendinitis',\n   'Bursitis',\n   'Fibromyalgia',\n   'Gout',\n   'Ankylosing Spondylitis',\n   'Plantar Fasciitis',\n   'Repetitive Strain Injury (RSI)',\n   'Lupus',\n   'Polymyalgia Rheumatica'],\n  ['X-rays',\n   'MRI Scan',\n   'CT Scan',\n   'Bone Scan',\n   'Dual-energy X-ray Absorptiometry (DEXA) Scan',\n   'Electromyography (EMG)',\n   'Nerve Conduction Studies',\n   'Ultrasound',\n   'Arthroscopy',\n   'Blood Tests for Rheumatoid Factor & Anti-CCP'],\n  'Dr. Jessica Carter'),\n ('HOSPITAL_REFERRAL',\n  'MUSCULOSKELETAL',\n  'Outpatient',\n  ['Low Back Pain',\n   'Tendinitis',\n   'Bursitis',\n   'Fibromyalgia',\n   'Gout',\n   'Ankylosing Spondylitis',\n   'Plantar Fasciitis',\n   'Repetitive Strain Injury (RSI)',\n   'Lupus',\n   'Polymyalgia Rheumatica'],\n  ['X-rays',\n   'MRI Scan',\n   'CT Scan',\n   'Bone Scan',\n   'Dual-energy X-ray Absorptiometry (DEXA) Scan',\n   'Electromyography (EMG)',\n   'Nerve Conduction Studies',\n   'Ultrasound',\n   'Arthroscopy',\n   'Blood Tests for Rheumatoid Factor & Anti-CCP'],\n  'Dr. Christina Fleming'),\n ('HOSPITAL_REFERRAL',\n  'OTORHINOLARYNGOLOGY_ENT',\n  'Inpatient',\n  ['Otitis Media (Middle Ear Infection)',\n   \"Otitis Externa (Swimmer's Ear)\",\n   'Sinusitis',\n   'Tonsillitis',\n   'Laryngitis',\n   \"Meniere's Disease\",\n   'Tinnitus',\n   'Hearing Loss',\n   'Pharyngitis',\n   'Rhinitis'],\n  ['Hearing tests',\n   'Endoscopy of the ear/nose/throat',\n   'Imaging CT',\n   'Imaging MRI'],\n  'Dr. Stephanie Pugh'),\n ('HOSPITAL_REFERRAL',\n  'OTORHINOLARYNGOLOGY_ENT',\n  'Day Patient',\n  ['Otitis Media (Middle Ear Infection)',\n   \"Otitis Externa (Swimmer's Ear)\",\n   'Sinusitis',\n   'Tonsillitis',\n   'Laryngitis',\n   \"Meniere's Disease\",\n   'Tinnitus',\n   'Hearing Loss',\n   'Pharyngitis',\n   'Rhinitis'],\n  ['Hearing tests',\n   'Endoscopy of the ear/nose/throat',\n   'Imaging CT',\n   'Imaging MRI'],\n  'Dr. Austin Peck'),\n ('HOSPITAL_REFERRAL',\n  'OTORHINOLARYNGOLOGY_ENT',\n  'Outpatient',\n  ['Otitis Media (Middle Ear Infection)',\n   \"Otitis Externa (Swimmer's Ear)\",\n   'Sinusitis',\n   'Tonsillitis',\n   'Laryngitis',\n   \"Meniere's Disease\",\n   'Tinnitus',\n   'Hearing Loss',\n   'Pharyngitis',\n   'Rhinitis'],\n  ['Hearing tests',\n   'Endoscopy of the ear/nose/throat',\n   'Imaging CT',\n   'Imaging MRI'],\n  'Dr. Matthew Hurst'),\n ('SELF_REFERRAL',\n  'PSYCHIATRIC',\n  'Outpatient',\n  ['Depression',\n   'Anxiety Disorders',\n   'Bipolar Disorder',\n   'Schizophrenia',\n   'Post-Traumatic Stress Disorder (PTSD)',\n   'Obsessive-Compulsive Disorder (OCD)',\n   'Eating Disorders (Anorexia, Bulimia)',\n   'Attention Deficit Hyperactivity Disorder (ADHD)',\n   'Autism Spectrum Disorder',\n   'Insomnia'],\n  ['Psychological evaluation',\n   'Blood tests',\n   'Brain imaging (MRI, CT scans)',\n   'Electroencephalogram (EEG)'],\n  'Dr. Tracy Singh'),\n ('SELF_REFERRAL',\n  'DERMATOLOGY',\n  'Outpatient',\n  ['Acne',\n   'Eczema',\n   'Psoriasis',\n   'Dermatitis',\n   'Skin Cancer',\n   'Rosacea',\n   'Hives (Urticaria)',\n   'Impetigo',\n   'Cellulitis',\n   'Shingles (Herpes Zoster)'],\n  ['Skin biopsy', 'Patch tests', 'Skin scrapings', 'Blood tests'],\n  'Dr. Stephanie Wheeler'),\n ('SELF_REFERRAL',\n  'ORTHOPEDICS',\n  'Outpatient',\n  ['Osteoarthritis',\n   'Rheumatoid Arthritis',\n   'Osteoporosis',\n   'Fractures',\n   'Anterior Cruciate Ligament (ACL) Injuries',\n   'Meniscus Tears',\n   'Rotator Cuff Tears',\n   'Carpal Tunnel Syndrome',\n   'Spinal Disc Herniation',\n   'Scoliosis'],\n  ['X-rays', 'MRI', 'CT scans', 'Bone scans', 'Blood tests'],\n  'Dr. Kathy Patterson'),\n ('SELF_REFERRAL',\n  'GASTROENTEROLOGY',\n  'Outpatient',\n  ['Gastro-oesophageal Reflux Disease (GORD)',\n   'Irritable Bowel Syndrome (IBS)',\n   \"Inflammatory Bowel Disease (IBD) - including Crohn's Disease and Ulcerative Colitis\",\n   'Coeliac Disease',\n   'Peptic Ulcers',\n   'Gallstones',\n   'Chronic Liver Disease - including Hepatitis and Cirrhosis',\n   'Pancreatitis',\n   'Gastroenteritis',\n   'Diverticular Disease'],\n  ['Endoscopy',\n   'Colonoscopy',\n   'Blood tests',\n   'Stool tests',\n   'Abdominal ultrasound',\n   'CT scan'],\n  'Dr. Tony Morrison'),\n ('SELF_REFERRAL',\n  'OPHTHALMOLOGY',\n  'Outpatient',\n  ['Refractive Errors',\n   'Cataracts',\n   'Glaucoma',\n   'Age-related Macular Degeneration (AMD)',\n   'Diabetic Retinopathy',\n   'Dry Eye Syndrome',\n   'Conjunctivitis',\n   'Retinal Detachment',\n   'Uveitis',\n   'Keratitis'],\n  ['Eye exam',\n   'Tonometry (eye pressure test)',\n   'Retinal imaging',\n   'Visual field test'],\n  'Dr. Andrew Welch'),\n ('SELF_REFERRAL',\n  'ENDOCRINOLOGY',\n  'Outpatient',\n  ['Diabetes Mellitus - Type 1 and Type 2',\n   'Thyroid Disorders - including Hypothyroidism and Hyperthyroidism',\n   \"Addison's Disease\",\n   \"Cushing's Syndrome\",\n   'Polycystic Ovary Syndrome (PCOS)',\n   'Osteoporosis',\n   'Pituitary Disorders',\n   'Hyperlipidaemia',\n   'Gout',\n   'Metabolic Syndrome'],\n  ['Blood tests (hormone levels)',\n   'Thyroid function tests',\n   'Bone density tests'],\n  'Dr. Patricia Miles'),\n ('ELECTIVE',\n  'MATERNITY',\n  'Inpatient',\n  ['Labour and Delivery',\n   'Scheduled Caesarean Section',\n   'Induction of Labour',\n   'Preterm Labour',\n   'Pre-eclampsia/Eclampsia',\n   'Gestational Diabetes Monitoring',\n   'Antepartum Haemorrhage',\n   'Pregnancy-induced Hypertension',\n   'Ruptured Membranes without Contractions',\n   'Postpartum Complications'],\n  ['Ultrasound', 'Blood tests', 'Glucose tolerance test', 'Amniocentesis'],\n  'Dr. Samantha Singh'),\n ('ELECTIVE',\n  'MATERNITY',\n  'Day Patient',\n  ['Labour and Delivery',\n   'Scheduled Caesarean Section',\n   'Induction of Labour',\n   'Preterm Labour',\n   'Pre-eclampsia/Eclampsia',\n   'Gestational Diabetes Monitoring',\n   'Antepartum Haemorrhage',\n   'Pregnancy-induced Hypertension',\n   'Ruptured Membranes without Contractions',\n   'Postpartum Complications'],\n  ['Ultrasound', 'Blood tests', 'Glucose tolerance test', 'Amniocentesis'],\n  'Dr. Christopher Burns'),\n ('ELECTIVE',\n  'MATERNITY',\n  'Outpatient',\n  ['Labour and Delivery',\n   'Scheduled Caesarean Section',\n   'Induction of Labour',\n   'Preterm Labour',\n   'Pre-eclampsia/Eclampsia',\n   'Gestational Diabetes Monitoring',\n   'Antepartum Haemorrhage',\n   'Pregnancy-induced Hypertension',\n   'Ruptured Membranes without Contractions',\n   'Postpartum Complications'],\n  ['Ultrasound', 'Blood tests', 'Glucose tolerance test', 'Amniocentesis'],\n  'Dr. Bryan Bell')]"
     },
     "execution_count": 8,
     "metadata": {},
     "output_type": "execute_result"
    }
   ],
   "source": [
    "flattened"
   ],
   "metadata": {
    "collapsed": false,
    "ExecuteTime": {
     "end_time": "2024-02-25T10:54:15.905097Z",
     "start_time": "2024-02-25T10:54:15.821100Z"
    }
   },
   "id": "220eadadf68afef4"
  },
  {
   "cell_type": "code",
   "execution_count": 9,
   "outputs": [
    {
     "name": "stderr",
     "output_type": "stream",
     "text": [
      "                                                                                \r"
     ]
    },
    {
     "data": {
      "text/plain": "   top_level_admission  sub_level_admission    stay_type  \\\n0            EMERGENCY           INJURY_RTC    Inpatient   \n1            EMERGENCY           INJURY_RTC  Day Patient   \n2            EMERGENCY       SELF_INFLICTED    Inpatient   \n3            EMERGENCY           CARDIOLOGY    Inpatient   \n4            EMERGENCY           CARDIOLOGY  Day Patient   \n5            EMERGENCY            NEUROLOGY    Inpatient   \n6            EMERGENCY            NEUROLOGY  Day Patient   \n7            EMERGENCY            NEUROLOGY   Outpatient   \n8            EMERGENCY     GASTROENTEROLOGY    Inpatient   \n9            EMERGENCY     GASTROENTEROLOGY  Day Patient   \n10           EMERGENCY     GASTROENTEROLOGY   Outpatient   \n11           EMERGENCY          RESPIRATORY    Inpatient   \n12           EMERGENCY          RESPIRATORY  Day Patient   \n13           EMERGENCY          RESPIRATORY   Outpatient   \n14           EMERGENCY  INFECTIOUS_DISEASES    Inpatient   \n15           EMERGENCY  INFECTIOUS_DISEASES  Day Patient   \n16           EMERGENCY            MATERNITY    Inpatient   \n17           EMERGENCY            MATERNITY  Day Patient   \n18           EMERGENCY            MATERNITY   Outpatient   \n19           EMERGENCY          PSYCHIATRIC    Inpatient   \n20           EMERGENCY          PSYCHIATRIC  Day Patient   \n21           EMERGENCY          PSYCHIATRIC   Outpatient   \n22           EMERGENCY          ORTHOPEDICS    Inpatient   \n23           EMERGENCY          ORTHOPEDICS  Day Patient   \n24           EMERGENCY          ORTHOPEDICS   Outpatient   \n25         GP_REFERRAL          PSYCHIATRIC    Inpatient   \n26         GP_REFERRAL          PSYCHIATRIC  Day Patient   \n27         GP_REFERRAL          PSYCHIATRIC   Outpatient   \n28         GP_REFERRAL          ORTHOPEDICS   Outpatient   \n29         GP_REFERRAL     GASTROENTEROLOGY    Inpatient   \n30         GP_REFERRAL     GASTROENTEROLOGY  Day Patient   \n31         GP_REFERRAL     GASTROENTEROLOGY   Outpatient   \n32         GP_REFERRAL        ENDOCRINOLOGY   Outpatient   \n33         GP_REFERRAL          DERMATOLOGY   Outpatient   \n34         GP_REFERRAL            MATERNITY    Inpatient   \n35         GP_REFERRAL            MATERNITY  Day Patient   \n36         GP_REFERRAL            MATERNITY   Outpatient   \n37         GP_REFERRAL           GERIATRICS    Inpatient   \n38         GP_REFERRAL           GERIATRICS   Outpatient   \n39   HOSPITAL_REFERRAL           CARDIOLOGY    Inpatient   \n40   HOSPITAL_REFERRAL           CARDIOLOGY  Day Patient   \n41   HOSPITAL_REFERRAL           NEPHROLOGY    Inpatient   \n42   HOSPITAL_REFERRAL           NEPHROLOGY  Day Patient   \n43   HOSPITAL_REFERRAL           NEPHROLOGY   Outpatient   \n44   HOSPITAL_REFERRAL            NEUROLOGY    Inpatient   \n\n                                       possible_tests  \\\n0   [Whiplash, Concussions, Contusions (bruises), ...   \n1   [Whiplash, Concussions, Contusions (bruises), ...   \n2                                     [No conditions]   \n3                                     [No conditions]   \n4                                     [No conditions]   \n5   [Migraines, Epilepsy, Parkinson's Disease, Alz...   \n6   [Migraines, Epilepsy, Parkinson's Disease, Alz...   \n7   [Migraines, Epilepsy, Parkinson's Disease, Alz...   \n8   [Gastro-oesophageal Reflux Disease (GORD), Irr...   \n9   [Gastro-oesophageal Reflux Disease (GORD), Irr...   \n10  [Gastro-oesophageal Reflux Disease (GORD), Irr...   \n11  [Asthma, Chronic Obstructive Pulmonary Disease...   \n12  [Asthma, Chronic Obstructive Pulmonary Disease...   \n13  [Asthma, Chronic Obstructive Pulmonary Disease...   \n14  [Influenza, Urinary Tract Infections (UTIs), H...   \n15  [Influenza, Urinary Tract Infections (UTIs), H...   \n16  [Labour and Delivery, Scheduled Caesarean Sect...   \n17  [Labour and Delivery, Scheduled Caesarean Sect...   \n18  [Labour and Delivery, Scheduled Caesarean Sect...   \n19  [Depression, Anxiety Disorders, Bipolar Disord...   \n20  [Depression, Anxiety Disorders, Bipolar Disord...   \n21  [Depression, Anxiety Disorders, Bipolar Disord...   \n22  [Osteoarthritis, Rheumatoid Arthritis, Osteopo...   \n23  [Osteoarthritis, Rheumatoid Arthritis, Osteopo...   \n24  [Osteoarthritis, Rheumatoid Arthritis, Osteopo...   \n25  [Depression, Anxiety Disorders, Bipolar Disord...   \n26  [Depression, Anxiety Disorders, Bipolar Disord...   \n27  [Depression, Anxiety Disorders, Bipolar Disord...   \n28  [Osteoarthritis, Rheumatoid Arthritis, Osteopo...   \n29  [Gastro-oesophageal Reflux Disease (GORD), Irr...   \n30  [Gastro-oesophageal Reflux Disease (GORD), Irr...   \n31  [Gastro-oesophageal Reflux Disease (GORD), Irr...   \n32  [Diabetes Mellitus - Type 1 and Type 2, Thyroi...   \n33  [Acne, Eczema, Psoriasis, Dermatitis, Skin Can...   \n34  [Labour and Delivery, Scheduled Caesarean Sect...   \n35  [Labour and Delivery, Scheduled Caesarean Sect...   \n36  [Labour and Delivery, Scheduled Caesarean Sect...   \n37                                    [No conditions]   \n38                                    [No conditions]   \n39                                    [No conditions]   \n40                                    [No conditions]   \n41  [Chronic Kidney Disease (CKD), Acute Kidney In...   \n42  [Chronic Kidney Disease (CKD), Acute Kidney In...   \n43  [Chronic Kidney Disease (CKD), Acute Kidney In...   \n44  [Migraines, Epilepsy, Parkinson's Disease, Alz...   \n\n                                           conditions                   doctor  \n0    [X-rays, CT scans, MRI, Ultrasound, Blood tests]         Dr. Kevin Miller  \n1    [X-rays, CT scans, MRI, Ultrasound, Blood tests]       Dr. William Robles  \n2   [Psychological assessment, X-rays (for physica...         Dr. Sue Crawford  \n3   [ECG, Echocardiogram, Stress tests, Cardiac ca...          Dr. Amy Johnson  \n4   [ECG, Echocardiogram, Stress tests, Cardiac ca...             Dr. Joe Lowe  \n5   [MRI or CT scans of the brain, Electroencephal...          Dr. Deanna Diaz  \n6   [MRI or CT scans of the brain, Electroencephal...         Dr. Carlos Jones  \n7   [MRI or CT scans of the brain, Electroencephal...        Dr. Denise Parker  \n8   [Endoscopy, Colonoscopy, Blood tests, Stool te...       Dr. Crystal Brandt  \n9   [Endoscopy, Colonoscopy, Blood tests, Stool te...        Dr. Ashley Peters  \n10  [Endoscopy, Colonoscopy, Blood tests, Stool te...       Dr. Karen Thompson  \n11  [Pulmonary function tests, Chest X-ray, CT sca...      Dr. Arthur Williams  \n12  [Pulmonary function tests, Chest X-ray, CT sca...           Dr. Dalton Ray  \n13  [Pulmonary function tests, Chest X-ray, CT sca...          Dr. Laura Craig  \n14  [Blood cultures, PCR tests, Antibody tests, ch...     Dr. William Mcdonald  \n15  [Blood cultures, PCR tests, Antibody tests, ch...         Dr. Tammy Bailey  \n16  [Ultrasound, Blood tests, Glucose tolerance te...       Dr. Amanda Alvarez  \n17  [Ultrasound, Blood tests, Glucose tolerance te...          Dr. Tyler Smith  \n18  [Ultrasound, Blood tests, Glucose tolerance te...         Dr. Samuel Brown  \n19  [Psychological evaluation, Blood tests, Brain ...     Dr. Alexander Dawson  \n20  [Psychological evaluation, Blood tests, Brain ...  Dr. Christopher Randall  \n21  [Psychological evaluation, Blood tests, Brain ...       Dr. Teresa Johnson  \n22   [X-rays, MRI, CT scans, Bone scans, Blood tests]        Dr. Jackson White  \n23   [X-rays, MRI, CT scans, Bone scans, Blood tests]        Dr. Kendra Porter  \n24   [X-rays, MRI, CT scans, Bone scans, Blood tests]        Dr. Charles Baker  \n25  [Psychological evaluation, Blood tests, Brain ...       Dr. Wendy Cummings  \n26  [Psychological evaluation, Blood tests, Brain ...        Dr. Diana Vasquez  \n27  [Psychological evaluation, Blood tests, Brain ...           Dr. Adam Reyes  \n28   [X-rays, MRI, CT scans, Bone scans, Blood tests]           Dr. Tina Parks  \n29  [Endoscopy, Colonoscopy, Blood tests, Stool te...            Dr. Mia Clark  \n30  [Endoscopy, Colonoscopy, Blood tests, Stool te...             Dr. Joe Rice  \n31  [Endoscopy, Colonoscopy, Blood tests, Stool te...          Dr. Cindy Brown  \n32  [Blood tests (hormone levels), Thyroid functio...          Dr. Keith Clark  \n33  [Skin biopsy, Patch tests, Skin scrapings, Blo...      Dr. John Cunningham  \n34  [Ultrasound, Blood tests, Glucose tolerance te...       Dr. Patrick Miller  \n35  [Ultrasound, Blood tests, Glucose tolerance te...        Dr. Joseph Garcia  \n36  [Ultrasound, Blood tests, Glucose tolerance te...          Dr. Laurie Reid  \n37  [Comprehensive geriatric assessment, Blood tes...           Dr. Gary Smith  \n38  [Comprehensive geriatric assessment, Blood tes...      Dr. Miguel Benjamin  \n39  [ECG, Echocardiogram, Stress tests, Cardiac ca...          Dr. Brian Lewis  \n40  [ECG, Echocardiogram, Stress tests, Cardiac ca...        Dr. Terri Herring  \n41  [Blood tests (renal function tests), Urine tes...    Dr. Stephen Hernandez  \n42  [Blood tests (renal function tests), Urine tes...         Dr. Hannah Greer  \n43  [Blood tests (renal function tests), Urine tes...         Dr. Lori Gilbert  \n44  [MRI or CT scans of the brain, Electroencephal...       Dr. Emily Stafford  ",
      "text/html": "<div>\n<style scoped>\n    .dataframe tbody tr th:only-of-type {\n        vertical-align: middle;\n    }\n\n    .dataframe tbody tr th {\n        vertical-align: top;\n    }\n\n    .dataframe thead th {\n        text-align: right;\n    }\n</style>\n<table border=\"1\" class=\"dataframe\">\n  <thead>\n    <tr style=\"text-align: right;\">\n      <th></th>\n      <th>top_level_admission</th>\n      <th>sub_level_admission</th>\n      <th>stay_type</th>\n      <th>possible_tests</th>\n      <th>conditions</th>\n      <th>doctor</th>\n    </tr>\n  </thead>\n  <tbody>\n    <tr>\n      <th>0</th>\n      <td>EMERGENCY</td>\n      <td>INJURY_RTC</td>\n      <td>Inpatient</td>\n      <td>[Whiplash, Concussions, Contusions (bruises), ...</td>\n      <td>[X-rays, CT scans, MRI, Ultrasound, Blood tests]</td>\n      <td>Dr. Kevin Miller</td>\n    </tr>\n    <tr>\n      <th>1</th>\n      <td>EMERGENCY</td>\n      <td>INJURY_RTC</td>\n      <td>Day Patient</td>\n      <td>[Whiplash, Concussions, Contusions (bruises), ...</td>\n      <td>[X-rays, CT scans, MRI, Ultrasound, Blood tests]</td>\n      <td>Dr. William Robles</td>\n    </tr>\n    <tr>\n      <th>2</th>\n      <td>EMERGENCY</td>\n      <td>SELF_INFLICTED</td>\n      <td>Inpatient</td>\n      <td>[No conditions]</td>\n      <td>[Psychological assessment, X-rays (for physica...</td>\n      <td>Dr. Sue Crawford</td>\n    </tr>\n    <tr>\n      <th>3</th>\n      <td>EMERGENCY</td>\n      <td>CARDIOLOGY</td>\n      <td>Inpatient</td>\n      <td>[No conditions]</td>\n      <td>[ECG, Echocardiogram, Stress tests, Cardiac ca...</td>\n      <td>Dr. Amy Johnson</td>\n    </tr>\n    <tr>\n      <th>4</th>\n      <td>EMERGENCY</td>\n      <td>CARDIOLOGY</td>\n      <td>Day Patient</td>\n      <td>[No conditions]</td>\n      <td>[ECG, Echocardiogram, Stress tests, Cardiac ca...</td>\n      <td>Dr. Joe Lowe</td>\n    </tr>\n    <tr>\n      <th>5</th>\n      <td>EMERGENCY</td>\n      <td>NEUROLOGY</td>\n      <td>Inpatient</td>\n      <td>[Migraines, Epilepsy, Parkinson's Disease, Alz...</td>\n      <td>[MRI or CT scans of the brain, Electroencephal...</td>\n      <td>Dr. Deanna Diaz</td>\n    </tr>\n    <tr>\n      <th>6</th>\n      <td>EMERGENCY</td>\n      <td>NEUROLOGY</td>\n      <td>Day Patient</td>\n      <td>[Migraines, Epilepsy, Parkinson's Disease, Alz...</td>\n      <td>[MRI or CT scans of the brain, Electroencephal...</td>\n      <td>Dr. Carlos Jones</td>\n    </tr>\n    <tr>\n      <th>7</th>\n      <td>EMERGENCY</td>\n      <td>NEUROLOGY</td>\n      <td>Outpatient</td>\n      <td>[Migraines, Epilepsy, Parkinson's Disease, Alz...</td>\n      <td>[MRI or CT scans of the brain, Electroencephal...</td>\n      <td>Dr. Denise Parker</td>\n    </tr>\n    <tr>\n      <th>8</th>\n      <td>EMERGENCY</td>\n      <td>GASTROENTEROLOGY</td>\n      <td>Inpatient</td>\n      <td>[Gastro-oesophageal Reflux Disease (GORD), Irr...</td>\n      <td>[Endoscopy, Colonoscopy, Blood tests, Stool te...</td>\n      <td>Dr. Crystal Brandt</td>\n    </tr>\n    <tr>\n      <th>9</th>\n      <td>EMERGENCY</td>\n      <td>GASTROENTEROLOGY</td>\n      <td>Day Patient</td>\n      <td>[Gastro-oesophageal Reflux Disease (GORD), Irr...</td>\n      <td>[Endoscopy, Colonoscopy, Blood tests, Stool te...</td>\n      <td>Dr. Ashley Peters</td>\n    </tr>\n    <tr>\n      <th>10</th>\n      <td>EMERGENCY</td>\n      <td>GASTROENTEROLOGY</td>\n      <td>Outpatient</td>\n      <td>[Gastro-oesophageal Reflux Disease (GORD), Irr...</td>\n      <td>[Endoscopy, Colonoscopy, Blood tests, Stool te...</td>\n      <td>Dr. Karen Thompson</td>\n    </tr>\n    <tr>\n      <th>11</th>\n      <td>EMERGENCY</td>\n      <td>RESPIRATORY</td>\n      <td>Inpatient</td>\n      <td>[Asthma, Chronic Obstructive Pulmonary Disease...</td>\n      <td>[Pulmonary function tests, Chest X-ray, CT sca...</td>\n      <td>Dr. Arthur Williams</td>\n    </tr>\n    <tr>\n      <th>12</th>\n      <td>EMERGENCY</td>\n      <td>RESPIRATORY</td>\n      <td>Day Patient</td>\n      <td>[Asthma, Chronic Obstructive Pulmonary Disease...</td>\n      <td>[Pulmonary function tests, Chest X-ray, CT sca...</td>\n      <td>Dr. Dalton Ray</td>\n    </tr>\n    <tr>\n      <th>13</th>\n      <td>EMERGENCY</td>\n      <td>RESPIRATORY</td>\n      <td>Outpatient</td>\n      <td>[Asthma, Chronic Obstructive Pulmonary Disease...</td>\n      <td>[Pulmonary function tests, Chest X-ray, CT sca...</td>\n      <td>Dr. Laura Craig</td>\n    </tr>\n    <tr>\n      <th>14</th>\n      <td>EMERGENCY</td>\n      <td>INFECTIOUS_DISEASES</td>\n      <td>Inpatient</td>\n      <td>[Influenza, Urinary Tract Infections (UTIs), H...</td>\n      <td>[Blood cultures, PCR tests, Antibody tests, ch...</td>\n      <td>Dr. William Mcdonald</td>\n    </tr>\n    <tr>\n      <th>15</th>\n      <td>EMERGENCY</td>\n      <td>INFECTIOUS_DISEASES</td>\n      <td>Day Patient</td>\n      <td>[Influenza, Urinary Tract Infections (UTIs), H...</td>\n      <td>[Blood cultures, PCR tests, Antibody tests, ch...</td>\n      <td>Dr. Tammy Bailey</td>\n    </tr>\n    <tr>\n      <th>16</th>\n      <td>EMERGENCY</td>\n      <td>MATERNITY</td>\n      <td>Inpatient</td>\n      <td>[Labour and Delivery, Scheduled Caesarean Sect...</td>\n      <td>[Ultrasound, Blood tests, Glucose tolerance te...</td>\n      <td>Dr. Amanda Alvarez</td>\n    </tr>\n    <tr>\n      <th>17</th>\n      <td>EMERGENCY</td>\n      <td>MATERNITY</td>\n      <td>Day Patient</td>\n      <td>[Labour and Delivery, Scheduled Caesarean Sect...</td>\n      <td>[Ultrasound, Blood tests, Glucose tolerance te...</td>\n      <td>Dr. Tyler Smith</td>\n    </tr>\n    <tr>\n      <th>18</th>\n      <td>EMERGENCY</td>\n      <td>MATERNITY</td>\n      <td>Outpatient</td>\n      <td>[Labour and Delivery, Scheduled Caesarean Sect...</td>\n      <td>[Ultrasound, Blood tests, Glucose tolerance te...</td>\n      <td>Dr. Samuel Brown</td>\n    </tr>\n    <tr>\n      <th>19</th>\n      <td>EMERGENCY</td>\n      <td>PSYCHIATRIC</td>\n      <td>Inpatient</td>\n      <td>[Depression, Anxiety Disorders, Bipolar Disord...</td>\n      <td>[Psychological evaluation, Blood tests, Brain ...</td>\n      <td>Dr. Alexander Dawson</td>\n    </tr>\n    <tr>\n      <th>20</th>\n      <td>EMERGENCY</td>\n      <td>PSYCHIATRIC</td>\n      <td>Day Patient</td>\n      <td>[Depression, Anxiety Disorders, Bipolar Disord...</td>\n      <td>[Psychological evaluation, Blood tests, Brain ...</td>\n      <td>Dr. Christopher Randall</td>\n    </tr>\n    <tr>\n      <th>21</th>\n      <td>EMERGENCY</td>\n      <td>PSYCHIATRIC</td>\n      <td>Outpatient</td>\n      <td>[Depression, Anxiety Disorders, Bipolar Disord...</td>\n      <td>[Psychological evaluation, Blood tests, Brain ...</td>\n      <td>Dr. Teresa Johnson</td>\n    </tr>\n    <tr>\n      <th>22</th>\n      <td>EMERGENCY</td>\n      <td>ORTHOPEDICS</td>\n      <td>Inpatient</td>\n      <td>[Osteoarthritis, Rheumatoid Arthritis, Osteopo...</td>\n      <td>[X-rays, MRI, CT scans, Bone scans, Blood tests]</td>\n      <td>Dr. Jackson White</td>\n    </tr>\n    <tr>\n      <th>23</th>\n      <td>EMERGENCY</td>\n      <td>ORTHOPEDICS</td>\n      <td>Day Patient</td>\n      <td>[Osteoarthritis, Rheumatoid Arthritis, Osteopo...</td>\n      <td>[X-rays, MRI, CT scans, Bone scans, Blood tests]</td>\n      <td>Dr. Kendra Porter</td>\n    </tr>\n    <tr>\n      <th>24</th>\n      <td>EMERGENCY</td>\n      <td>ORTHOPEDICS</td>\n      <td>Outpatient</td>\n      <td>[Osteoarthritis, Rheumatoid Arthritis, Osteopo...</td>\n      <td>[X-rays, MRI, CT scans, Bone scans, Blood tests]</td>\n      <td>Dr. Charles Baker</td>\n    </tr>\n    <tr>\n      <th>25</th>\n      <td>GP_REFERRAL</td>\n      <td>PSYCHIATRIC</td>\n      <td>Inpatient</td>\n      <td>[Depression, Anxiety Disorders, Bipolar Disord...</td>\n      <td>[Psychological evaluation, Blood tests, Brain ...</td>\n      <td>Dr. Wendy Cummings</td>\n    </tr>\n    <tr>\n      <th>26</th>\n      <td>GP_REFERRAL</td>\n      <td>PSYCHIATRIC</td>\n      <td>Day Patient</td>\n      <td>[Depression, Anxiety Disorders, Bipolar Disord...</td>\n      <td>[Psychological evaluation, Blood tests, Brain ...</td>\n      <td>Dr. Diana Vasquez</td>\n    </tr>\n    <tr>\n      <th>27</th>\n      <td>GP_REFERRAL</td>\n      <td>PSYCHIATRIC</td>\n      <td>Outpatient</td>\n      <td>[Depression, Anxiety Disorders, Bipolar Disord...</td>\n      <td>[Psychological evaluation, Blood tests, Brain ...</td>\n      <td>Dr. Adam Reyes</td>\n    </tr>\n    <tr>\n      <th>28</th>\n      <td>GP_REFERRAL</td>\n      <td>ORTHOPEDICS</td>\n      <td>Outpatient</td>\n      <td>[Osteoarthritis, Rheumatoid Arthritis, Osteopo...</td>\n      <td>[X-rays, MRI, CT scans, Bone scans, Blood tests]</td>\n      <td>Dr. Tina Parks</td>\n    </tr>\n    <tr>\n      <th>29</th>\n      <td>GP_REFERRAL</td>\n      <td>GASTROENTEROLOGY</td>\n      <td>Inpatient</td>\n      <td>[Gastro-oesophageal Reflux Disease (GORD), Irr...</td>\n      <td>[Endoscopy, Colonoscopy, Blood tests, Stool te...</td>\n      <td>Dr. Mia Clark</td>\n    </tr>\n    <tr>\n      <th>30</th>\n      <td>GP_REFERRAL</td>\n      <td>GASTROENTEROLOGY</td>\n      <td>Day Patient</td>\n      <td>[Gastro-oesophageal Reflux Disease (GORD), Irr...</td>\n      <td>[Endoscopy, Colonoscopy, Blood tests, Stool te...</td>\n      <td>Dr. Joe Rice</td>\n    </tr>\n    <tr>\n      <th>31</th>\n      <td>GP_REFERRAL</td>\n      <td>GASTROENTEROLOGY</td>\n      <td>Outpatient</td>\n      <td>[Gastro-oesophageal Reflux Disease (GORD), Irr...</td>\n      <td>[Endoscopy, Colonoscopy, Blood tests, Stool te...</td>\n      <td>Dr. Cindy Brown</td>\n    </tr>\n    <tr>\n      <th>32</th>\n      <td>GP_REFERRAL</td>\n      <td>ENDOCRINOLOGY</td>\n      <td>Outpatient</td>\n      <td>[Diabetes Mellitus - Type 1 and Type 2, Thyroi...</td>\n      <td>[Blood tests (hormone levels), Thyroid functio...</td>\n      <td>Dr. Keith Clark</td>\n    </tr>\n    <tr>\n      <th>33</th>\n      <td>GP_REFERRAL</td>\n      <td>DERMATOLOGY</td>\n      <td>Outpatient</td>\n      <td>[Acne, Eczema, Psoriasis, Dermatitis, Skin Can...</td>\n      <td>[Skin biopsy, Patch tests, Skin scrapings, Blo...</td>\n      <td>Dr. John Cunningham</td>\n    </tr>\n    <tr>\n      <th>34</th>\n      <td>GP_REFERRAL</td>\n      <td>MATERNITY</td>\n      <td>Inpatient</td>\n      <td>[Labour and Delivery, Scheduled Caesarean Sect...</td>\n      <td>[Ultrasound, Blood tests, Glucose tolerance te...</td>\n      <td>Dr. Patrick Miller</td>\n    </tr>\n    <tr>\n      <th>35</th>\n      <td>GP_REFERRAL</td>\n      <td>MATERNITY</td>\n      <td>Day Patient</td>\n      <td>[Labour and Delivery, Scheduled Caesarean Sect...</td>\n      <td>[Ultrasound, Blood tests, Glucose tolerance te...</td>\n      <td>Dr. Joseph Garcia</td>\n    </tr>\n    <tr>\n      <th>36</th>\n      <td>GP_REFERRAL</td>\n      <td>MATERNITY</td>\n      <td>Outpatient</td>\n      <td>[Labour and Delivery, Scheduled Caesarean Sect...</td>\n      <td>[Ultrasound, Blood tests, Glucose tolerance te...</td>\n      <td>Dr. Laurie Reid</td>\n    </tr>\n    <tr>\n      <th>37</th>\n      <td>GP_REFERRAL</td>\n      <td>GERIATRICS</td>\n      <td>Inpatient</td>\n      <td>[No conditions]</td>\n      <td>[Comprehensive geriatric assessment, Blood tes...</td>\n      <td>Dr. Gary Smith</td>\n    </tr>\n    <tr>\n      <th>38</th>\n      <td>GP_REFERRAL</td>\n      <td>GERIATRICS</td>\n      <td>Outpatient</td>\n      <td>[No conditions]</td>\n      <td>[Comprehensive geriatric assessment, Blood tes...</td>\n      <td>Dr. Miguel Benjamin</td>\n    </tr>\n    <tr>\n      <th>39</th>\n      <td>HOSPITAL_REFERRAL</td>\n      <td>CARDIOLOGY</td>\n      <td>Inpatient</td>\n      <td>[No conditions]</td>\n      <td>[ECG, Echocardiogram, Stress tests, Cardiac ca...</td>\n      <td>Dr. Brian Lewis</td>\n    </tr>\n    <tr>\n      <th>40</th>\n      <td>HOSPITAL_REFERRAL</td>\n      <td>CARDIOLOGY</td>\n      <td>Day Patient</td>\n      <td>[No conditions]</td>\n      <td>[ECG, Echocardiogram, Stress tests, Cardiac ca...</td>\n      <td>Dr. Terri Herring</td>\n    </tr>\n    <tr>\n      <th>41</th>\n      <td>HOSPITAL_REFERRAL</td>\n      <td>NEPHROLOGY</td>\n      <td>Inpatient</td>\n      <td>[Chronic Kidney Disease (CKD), Acute Kidney In...</td>\n      <td>[Blood tests (renal function tests), Urine tes...</td>\n      <td>Dr. Stephen Hernandez</td>\n    </tr>\n    <tr>\n      <th>42</th>\n      <td>HOSPITAL_REFERRAL</td>\n      <td>NEPHROLOGY</td>\n      <td>Day Patient</td>\n      <td>[Chronic Kidney Disease (CKD), Acute Kidney In...</td>\n      <td>[Blood tests (renal function tests), Urine tes...</td>\n      <td>Dr. Hannah Greer</td>\n    </tr>\n    <tr>\n      <th>43</th>\n      <td>HOSPITAL_REFERRAL</td>\n      <td>NEPHROLOGY</td>\n      <td>Outpatient</td>\n      <td>[Chronic Kidney Disease (CKD), Acute Kidney In...</td>\n      <td>[Blood tests (renal function tests), Urine tes...</td>\n      <td>Dr. Lori Gilbert</td>\n    </tr>\n    <tr>\n      <th>44</th>\n      <td>HOSPITAL_REFERRAL</td>\n      <td>NEUROLOGY</td>\n      <td>Inpatient</td>\n      <td>[Migraines, Epilepsy, Parkinson's Disease, Alz...</td>\n      <td>[MRI or CT scans of the brain, Electroencephal...</td>\n      <td>Dr. Emily Stafford</td>\n    </tr>\n  </tbody>\n</table>\n</div>"
     },
     "metadata": {},
     "output_type": "display_data"
    }
   ],
   "source": [
    "\"\"\"\n",
    "STEP 1 \n",
    "    From the flattened data list we wish to create a DataFrame. This contains all the possible combinations for the given \n",
    "    top level admissions, sub level admissions, stay types and list of tests available from the admission_mapping, stay_type and admission_tests lists or dictionaries in admission_types_test_dataset.py\n",
    "\"\"\"\n",
    "mapping_df = spark.createDataFrame(flattened, [\"top_level_admission\", \"sub_level_admission\", \"stay_type\", \"conditions\", \"possible_tests\", \"doctor\"])\n",
    "\n",
    "display_df(mapping_df, 45)"
   ],
   "metadata": {
    "collapsed": false,
    "ExecuteTime": {
     "end_time": "2024-02-25T10:54:18.245027Z",
     "start_time": "2024-02-25T10:54:15.829156Z"
    }
   },
   "id": "e1dc302cbd5cd49e"
  },
  {
   "cell_type": "code",
   "execution_count": 10,
   "outputs": [
    {
     "name": "stdout",
     "output_type": "stream",
     "text": [
      "['EMERGENCY', 'GP_REFERRAL', 'HOSPITAL_REFERRAL', 'SELF_REFERRAL', 'ELECTIVE']\n",
      "10000\n",
      "154225\n"
     ]
    },
    {
     "name": "stderr",
     "output_type": "stream",
     "text": [
      "                                                                                \r"
     ]
    },
    {
     "data": {
      "text/plain": "    top_level_admission               name  Age  gender blood_type  \\\n0              ELECTIVE    Tiffany Ramirez   39  Female         O-   \n1              ELECTIVE    Tiffany Ramirez   39  Female         O-   \n2              ELECTIVE    Tiffany Ramirez   39  Female         O-   \n3              ELECTIVE  Antonio Frederick   85    Male         B-   \n4              ELECTIVE  Antonio Frederick   85    Male         B-   \n..                  ...                ...  ...     ...        ...   \n994            ELECTIVE   Breanna Thompson   19  Female        AB-   \n995            ELECTIVE   Breanna Thompson   19  Female        AB-   \n996            ELECTIVE          Jack Neal   50    Male         A-   \n997            ELECTIVE          Jack Neal   50    Male         A-   \n998            ELECTIVE          Jack Neal   50    Male         A-   \n\n    date_of_admission                   hospital insurance_provider  \\\n0          2022-11-17           Wallace-Hamilton           Medicare   \n1          2022-11-17           Wallace-Hamilton           Medicare   \n2          2022-11-17           Wallace-Hamilton           Medicare   \n3          2020-05-02                 Garcia Ltd           Medicare   \n4          2020-05-02                 Garcia Ltd           Medicare   \n..                ...                        ...                ...   \n994        2021-08-18                Fuentes Inc              Aetna   \n995        2021-08-18                Fuentes Inc              Aetna   \n996        2021-06-03  Jenkins, Hansen and Duffy              Aetna   \n997        2021-06-03  Jenkins, Hansen and Duffy              Aetna   \n998        2021-06-03  Jenkins, Hansen and Duffy              Aetna   \n\n     billing_amount  room_number discharge_date         DOB  is_female  \\\n0      37490.983364          146     2022-12-01  1984-09-30       True   \n1      37490.983364          146     2022-12-01  1984-09-30       True   \n2      37490.983364          146     2022-12-01  1984-09-30       True   \n3      23303.322092          480     2020-05-03  1938-09-16      False   \n4      23303.322092          480     2020-05-03  1938-09-16      False   \n..              ...          ...            ...         ...        ...   \n994     8722.990759          253     2021-09-04  2004-10-19       True   \n995     8722.990759          253     2021-09-04  2004-10-19       True   \n996    32316.356356          303     2021-06-06  1973-12-07      False   \n997    32316.356356          303     2021-06-06  1973-12-07      False   \n998    32316.356356          303     2021-06-06  1973-12-07      False   \n\n     is_pediatric sub_level_admission    stay_type  \\\n0           False           MATERNITY    Inpatient   \n1           False           MATERNITY  Day Patient   \n2           False           MATERNITY   Outpatient   \n3           False           MATERNITY    Inpatient   \n4           False           MATERNITY  Day Patient   \n..            ...                 ...          ...   \n994         False           MATERNITY  Day Patient   \n995         False           MATERNITY   Outpatient   \n996         False           MATERNITY    Inpatient   \n997         False           MATERNITY  Day Patient   \n998         False           MATERNITY   Outpatient   \n\n                                        possible_tests  \\\n0    [Labour and Delivery, Scheduled Caesarean Sect...   \n1    [Labour and Delivery, Scheduled Caesarean Sect...   \n2    [Labour and Delivery, Scheduled Caesarean Sect...   \n3    [Labour and Delivery, Scheduled Caesarean Sect...   \n4    [Labour and Delivery, Scheduled Caesarean Sect...   \n..                                                 ...   \n994  [Labour and Delivery, Scheduled Caesarean Sect...   \n995  [Labour and Delivery, Scheduled Caesarean Sect...   \n996  [Labour and Delivery, Scheduled Caesarean Sect...   \n997  [Labour and Delivery, Scheduled Caesarean Sect...   \n998  [Labour and Delivery, Scheduled Caesarean Sect...   \n\n                                            conditions                 doctor  \n0    [Ultrasound, Blood tests, Glucose tolerance te...     Dr. Samantha Singh  \n1    [Ultrasound, Blood tests, Glucose tolerance te...  Dr. Christopher Burns  \n2    [Ultrasound, Blood tests, Glucose tolerance te...         Dr. Bryan Bell  \n3    [Ultrasound, Blood tests, Glucose tolerance te...     Dr. Samantha Singh  \n4    [Ultrasound, Blood tests, Glucose tolerance te...  Dr. Christopher Burns  \n..                                                 ...                    ...  \n994  [Ultrasound, Blood tests, Glucose tolerance te...  Dr. Christopher Burns  \n995  [Ultrasound, Blood tests, Glucose tolerance te...         Dr. Bryan Bell  \n996  [Ultrasound, Blood tests, Glucose tolerance te...     Dr. Samantha Singh  \n997  [Ultrasound, Blood tests, Glucose tolerance te...  Dr. Christopher Burns  \n998  [Ultrasound, Blood tests, Glucose tolerance te...         Dr. Bryan Bell  \n\n[999 rows x 19 columns]",
      "text/html": "<div>\n<style scoped>\n    .dataframe tbody tr th:only-of-type {\n        vertical-align: middle;\n    }\n\n    .dataframe tbody tr th {\n        vertical-align: top;\n    }\n\n    .dataframe thead th {\n        text-align: right;\n    }\n</style>\n<table border=\"1\" class=\"dataframe\">\n  <thead>\n    <tr style=\"text-align: right;\">\n      <th></th>\n      <th>top_level_admission</th>\n      <th>name</th>\n      <th>Age</th>\n      <th>gender</th>\n      <th>blood_type</th>\n      <th>date_of_admission</th>\n      <th>hospital</th>\n      <th>insurance_provider</th>\n      <th>billing_amount</th>\n      <th>room_number</th>\n      <th>discharge_date</th>\n      <th>DOB</th>\n      <th>is_female</th>\n      <th>is_pediatric</th>\n      <th>sub_level_admission</th>\n      <th>stay_type</th>\n      <th>possible_tests</th>\n      <th>conditions</th>\n      <th>doctor</th>\n    </tr>\n  </thead>\n  <tbody>\n    <tr>\n      <th>0</th>\n      <td>ELECTIVE</td>\n      <td>Tiffany Ramirez</td>\n      <td>39</td>\n      <td>Female</td>\n      <td>O-</td>\n      <td>2022-11-17</td>\n      <td>Wallace-Hamilton</td>\n      <td>Medicare</td>\n      <td>37490.983364</td>\n      <td>146</td>\n      <td>2022-12-01</td>\n      <td>1984-09-30</td>\n      <td>True</td>\n      <td>False</td>\n      <td>MATERNITY</td>\n      <td>Inpatient</td>\n      <td>[Labour and Delivery, Scheduled Caesarean Sect...</td>\n      <td>[Ultrasound, Blood tests, Glucose tolerance te...</td>\n      <td>Dr. Samantha Singh</td>\n    </tr>\n    <tr>\n      <th>1</th>\n      <td>ELECTIVE</td>\n      <td>Tiffany Ramirez</td>\n      <td>39</td>\n      <td>Female</td>\n      <td>O-</td>\n      <td>2022-11-17</td>\n      <td>Wallace-Hamilton</td>\n      <td>Medicare</td>\n      <td>37490.983364</td>\n      <td>146</td>\n      <td>2022-12-01</td>\n      <td>1984-09-30</td>\n      <td>True</td>\n      <td>False</td>\n      <td>MATERNITY</td>\n      <td>Day Patient</td>\n      <td>[Labour and Delivery, Scheduled Caesarean Sect...</td>\n      <td>[Ultrasound, Blood tests, Glucose tolerance te...</td>\n      <td>Dr. Christopher Burns</td>\n    </tr>\n    <tr>\n      <th>2</th>\n      <td>ELECTIVE</td>\n      <td>Tiffany Ramirez</td>\n      <td>39</td>\n      <td>Female</td>\n      <td>O-</td>\n      <td>2022-11-17</td>\n      <td>Wallace-Hamilton</td>\n      <td>Medicare</td>\n      <td>37490.983364</td>\n      <td>146</td>\n      <td>2022-12-01</td>\n      <td>1984-09-30</td>\n      <td>True</td>\n      <td>False</td>\n      <td>MATERNITY</td>\n      <td>Outpatient</td>\n      <td>[Labour and Delivery, Scheduled Caesarean Sect...</td>\n      <td>[Ultrasound, Blood tests, Glucose tolerance te...</td>\n      <td>Dr. Bryan Bell</td>\n    </tr>\n    <tr>\n      <th>3</th>\n      <td>ELECTIVE</td>\n      <td>Antonio Frederick</td>\n      <td>85</td>\n      <td>Male</td>\n      <td>B-</td>\n      <td>2020-05-02</td>\n      <td>Garcia Ltd</td>\n      <td>Medicare</td>\n      <td>23303.322092</td>\n      <td>480</td>\n      <td>2020-05-03</td>\n      <td>1938-09-16</td>\n      <td>False</td>\n      <td>False</td>\n      <td>MATERNITY</td>\n      <td>Inpatient</td>\n      <td>[Labour and Delivery, Scheduled Caesarean Sect...</td>\n      <td>[Ultrasound, Blood tests, Glucose tolerance te...</td>\n      <td>Dr. Samantha Singh</td>\n    </tr>\n    <tr>\n      <th>4</th>\n      <td>ELECTIVE</td>\n      <td>Antonio Frederick</td>\n      <td>85</td>\n      <td>Male</td>\n      <td>B-</td>\n      <td>2020-05-02</td>\n      <td>Garcia Ltd</td>\n      <td>Medicare</td>\n      <td>23303.322092</td>\n      <td>480</td>\n      <td>2020-05-03</td>\n      <td>1938-09-16</td>\n      <td>False</td>\n      <td>False</td>\n      <td>MATERNITY</td>\n      <td>Day Patient</td>\n      <td>[Labour and Delivery, Scheduled Caesarean Sect...</td>\n      <td>[Ultrasound, Blood tests, Glucose tolerance te...</td>\n      <td>Dr. Christopher Burns</td>\n    </tr>\n    <tr>\n      <th>...</th>\n      <td>...</td>\n      <td>...</td>\n      <td>...</td>\n      <td>...</td>\n      <td>...</td>\n      <td>...</td>\n      <td>...</td>\n      <td>...</td>\n      <td>...</td>\n      <td>...</td>\n      <td>...</td>\n      <td>...</td>\n      <td>...</td>\n      <td>...</td>\n      <td>...</td>\n      <td>...</td>\n      <td>...</td>\n      <td>...</td>\n      <td>...</td>\n    </tr>\n    <tr>\n      <th>994</th>\n      <td>ELECTIVE</td>\n      <td>Breanna Thompson</td>\n      <td>19</td>\n      <td>Female</td>\n      <td>AB-</td>\n      <td>2021-08-18</td>\n      <td>Fuentes Inc</td>\n      <td>Aetna</td>\n      <td>8722.990759</td>\n      <td>253</td>\n      <td>2021-09-04</td>\n      <td>2004-10-19</td>\n      <td>True</td>\n      <td>False</td>\n      <td>MATERNITY</td>\n      <td>Day Patient</td>\n      <td>[Labour and Delivery, Scheduled Caesarean Sect...</td>\n      <td>[Ultrasound, Blood tests, Glucose tolerance te...</td>\n      <td>Dr. Christopher Burns</td>\n    </tr>\n    <tr>\n      <th>995</th>\n      <td>ELECTIVE</td>\n      <td>Breanna Thompson</td>\n      <td>19</td>\n      <td>Female</td>\n      <td>AB-</td>\n      <td>2021-08-18</td>\n      <td>Fuentes Inc</td>\n      <td>Aetna</td>\n      <td>8722.990759</td>\n      <td>253</td>\n      <td>2021-09-04</td>\n      <td>2004-10-19</td>\n      <td>True</td>\n      <td>False</td>\n      <td>MATERNITY</td>\n      <td>Outpatient</td>\n      <td>[Labour and Delivery, Scheduled Caesarean Sect...</td>\n      <td>[Ultrasound, Blood tests, Glucose tolerance te...</td>\n      <td>Dr. Bryan Bell</td>\n    </tr>\n    <tr>\n      <th>996</th>\n      <td>ELECTIVE</td>\n      <td>Jack Neal</td>\n      <td>50</td>\n      <td>Male</td>\n      <td>A-</td>\n      <td>2021-06-03</td>\n      <td>Jenkins, Hansen and Duffy</td>\n      <td>Aetna</td>\n      <td>32316.356356</td>\n      <td>303</td>\n      <td>2021-06-06</td>\n      <td>1973-12-07</td>\n      <td>False</td>\n      <td>False</td>\n      <td>MATERNITY</td>\n      <td>Inpatient</td>\n      <td>[Labour and Delivery, Scheduled Caesarean Sect...</td>\n      <td>[Ultrasound, Blood tests, Glucose tolerance te...</td>\n      <td>Dr. Samantha Singh</td>\n    </tr>\n    <tr>\n      <th>997</th>\n      <td>ELECTIVE</td>\n      <td>Jack Neal</td>\n      <td>50</td>\n      <td>Male</td>\n      <td>A-</td>\n      <td>2021-06-03</td>\n      <td>Jenkins, Hansen and Duffy</td>\n      <td>Aetna</td>\n      <td>32316.356356</td>\n      <td>303</td>\n      <td>2021-06-06</td>\n      <td>1973-12-07</td>\n      <td>False</td>\n      <td>False</td>\n      <td>MATERNITY</td>\n      <td>Day Patient</td>\n      <td>[Labour and Delivery, Scheduled Caesarean Sect...</td>\n      <td>[Ultrasound, Blood tests, Glucose tolerance te...</td>\n      <td>Dr. Christopher Burns</td>\n    </tr>\n    <tr>\n      <th>998</th>\n      <td>ELECTIVE</td>\n      <td>Jack Neal</td>\n      <td>50</td>\n      <td>Male</td>\n      <td>A-</td>\n      <td>2021-06-03</td>\n      <td>Jenkins, Hansen and Duffy</td>\n      <td>Aetna</td>\n      <td>32316.356356</td>\n      <td>303</td>\n      <td>2021-06-06</td>\n      <td>1973-12-07</td>\n      <td>False</td>\n      <td>False</td>\n      <td>MATERNITY</td>\n      <td>Outpatient</td>\n      <td>[Labour and Delivery, Scheduled Caesarean Sect...</td>\n      <td>[Ultrasound, Blood tests, Glucose tolerance te...</td>\n      <td>Dr. Bryan Bell</td>\n    </tr>\n  </tbody>\n</table>\n<p>999 rows × 19 columns</p>\n</div>"
     },
     "metadata": {},
     "output_type": "display_data"
    }
   ],
   "source": [
    "\"\"\"\n",
    "STEP 2 \n",
    "    Create a list of admission_types randomly assign this to the original patient in the original data set, \n",
    "    whilst dropping the original admission_type column. Then join with mapping_df on top_level_admission col to give access to possible \n",
    "    conditions, mappings and so on.\n",
    "\"\"\"\n",
    "admission_type_names = [member.name for member in AdmissionTypes]\n",
    "\n",
    "print(admission_type_names)\n",
    "\n",
    "keys_array = array([lit(name) for name in admission_type_names])\n",
    "\n",
    "# Define constants and conditions\n",
    "female_only = [\"MATERNITY\", 'obstetrics']\n",
    "is_female = lower(col('gender')) == 'female'\n",
    "is_pediatric = col(\"Age\") < 18\n",
    "is_geriatric = (col(\"Age\") >= 65) & (col(\"sub_level_admission\") == \"GERIATRICS\")\n",
    "\n",
    "df = (df.withColumn(\"top_level_admission\", keys_array[floor(rand() * len(admission_type_names))]).drop(\"admission_type\")\n",
    "        .withColumn(\"is_female\", is_female)\n",
    "        .withColumn(\"is_pediatric\", is_pediatric)\n",
    "        .drop(\"doctor\", \"medical_condition\", \"test_results\", \"medication\")\n",
    "      )\n",
    "get_row_count(df, True)\n",
    "df = df.join(mapping_df, \"top_level_admission\", \"inner\")\n",
    "get_row_count(df, True)\n",
    "display_df(df, 999)"
   ],
   "metadata": {
    "collapsed": false,
    "ExecuteTime": {
     "end_time": "2024-02-25T10:54:28.697548Z",
     "start_time": "2024-02-25T10:54:18.245737Z"
    }
   },
   "id": "b51112bb4b4cff7a"
  },
  {
   "cell_type": "code",
   "execution_count": 11,
   "outputs": [],
   "source": [
    "\"\"\"\n",
    "STEP 3 \n",
    "    Create a rowq ranking using a unique cols, created from stay_name and unique_id. \n",
    "    Verification done below. \n",
    "    \n",
    "\"\"\"\n",
    "\n",
    "df =  df.withColumn('stay_name', \n",
    "                   when(col('stay_type') == 'out_patient', concat(col('name'), lit('_out_patient')))\n",
    "                   .when(col('stay_type') == 'inpatient', concat(col('name'), lit('_inpatient')))\n",
    "                   .when(col('stay_type') == 'day_patient', concat(col('name'), lit('_day_patient')))\n",
    "                   .otherwise(col('name'))\n",
    "                  ).withColumn(\"unique_id\", concat_ws(\"_\", \"name\", date_format(\"DOB\", \"yyyyMMdd\")))\n",
    "\n",
    "\n",
    "# Define a window specification that partitions data by 'top_level_admission' (or another unique patient identifier if needed)\n",
    "windowSpec = Window.partitionBy('stay_name', 'unique_id').orderBy(rand())\n",
    "\n",
    "# Assign row numbers within each partition in a random order\n",
    "ranked_df = df.withColumn(\"row_num\", row_number().over(windowSpec))\n"
   ],
   "metadata": {
    "collapsed": false,
    "ExecuteTime": {
     "end_time": "2024-02-25T10:54:28.963942Z",
     "start_time": "2024-02-25T10:54:28.700326Z"
    }
   },
   "id": "e039e0ce5ff0816d"
  },
  {
   "cell_type": "code",
   "execution_count": 31,
   "outputs": [
    {
     "name": "stderr",
     "output_type": "stream",
     "text": [
      "                                                                                \r"
     ]
    },
    {
     "name": "stdout",
     "output_type": "stream",
     "text": [
      "+-------------------+----------+-------------------+---------------+---+------+----------+-----------------+----------------+------------------+-----------------+-----------+--------------+---------+------------+-----------+--------------------+--------------------+--------------------+---------------+--------------------+-------+------------+\n",
      "|sub_level_admission|       DOB|top_level_admission|           name|Age|gender|blood_type|date_of_admission|        hospital|insurance_provider|   billing_amount|room_number|discharge_date|is_female|is_pediatric|  stay_type|      possible_tests|          conditions|              doctor|      stay_name|           unique_id|row_num|is_geriatric|\n",
      "+-------------------+----------+-------------------+---------------+---+------+----------+-----------------+----------------+------------------+-----------------+-----------+--------------+---------+------------+-----------+--------------------+--------------------+--------------------+---------------+--------------------+-------+------------+\n",
      "|          MATERNITY|1984-09-30|           ELECTIVE|Tiffany Ramirez| 65|Female|        O-|       2022-11-17|Wallace-Hamilton|          Medicare|37490.98336352819|        146|    2022-12-01|     true|       false|  Inpatient|[Labour and Deliv...|[Ultrasound, Bloo...|  Dr. Samantha Singh|Tiffany Ramirez|Tiffany Ramirez_1...|      1|       false|\n",
      "|          MATERNITY|1984-09-30|           ELECTIVE|Tiffany Ramirez| 65|Female|        O-|       2022-11-17|Wallace-Hamilton|          Medicare|37490.98336352819|        146|    2022-12-01|     true|       false| Outpatient|[Labour and Deliv...|[Ultrasound, Bloo...|      Dr. Bryan Bell|Tiffany Ramirez|Tiffany Ramirez_1...|      2|       false|\n",
      "|          MATERNITY|1984-09-30|           ELECTIVE|Tiffany Ramirez| 65|Female|        O-|       2022-11-17|Wallace-Hamilton|          Medicare|37490.98336352819|        146|    2022-12-01|     true|       false|Day Patient|[Labour and Deliv...|[Ultrasound, Bloo...|Dr. Christopher B...|Tiffany Ramirez|Tiffany Ramirez_1...|      3|       false|\n",
      "+-------------------+----------+-------------------+---------------+---+------+----------+-----------------+----------------+------------------+-----------------+-----------+--------------+---------+------------+-----------+--------------------+--------------------+--------------------+---------------+--------------------+-------+------------+\n"
     ]
    }
   ],
   "source": [
    "ranked_df.withColumn(\"Age\", lit('65')).where(col(\"stay_name\") ==\"Tiffany Ramirez\").show()"
   ],
   "metadata": {
    "collapsed": false,
    "ExecuteTime": {
     "end_time": "2024-02-25T10:58:19.322206Z",
     "start_time": "2024-02-25T10:58:17.621478Z"
    }
   },
   "id": "23ce6c714d48df14"
  },
  {
   "cell_type": "code",
   "execution_count": 32,
   "outputs": [
    {
     "ename": "AnalysisException",
     "evalue": "[TEMP_TABLE_OR_VIEW_ALREADY_EXISTS] Cannot create the temporary view `ranked_df` because it already exists.\nChoose a different name, drop or replace the existing view,  or add the IF NOT EXISTS clause to tolerate pre-existing views.",
     "output_type": "error",
     "traceback": [
      "\u001B[0;31m---------------------------------------------------------------------------\u001B[0m",
      "\u001B[0;31mAnalysisException\u001B[0m                         Traceback (most recent call last)",
      "Cell \u001B[0;32mIn[32], line 1\u001B[0m\n\u001B[0;32m----> 1\u001B[0m \u001B[43mranked_df\u001B[49m\u001B[38;5;241;43m.\u001B[39;49m\u001B[43mcreateGlobalTempView\u001B[49m\u001B[43m(\u001B[49m\u001B[38;5;124;43m\"\u001B[39;49m\u001B[38;5;124;43mranked_df\u001B[39;49m\u001B[38;5;124;43m\"\u001B[39;49m\u001B[43m)\u001B[49m\n\u001B[1;32m      3\u001B[0m unique_dobs_df \u001B[38;5;241m=\u001B[39m spark\u001B[38;5;241m.\u001B[39msql(\u001B[38;5;124m\"\"\"\u001B[39m\n\u001B[1;32m      4\u001B[0m \u001B[38;5;124mWITH NameCounts AS (\u001B[39m\n\u001B[1;32m      5\u001B[0m \u001B[38;5;124m    SELECT name\u001B[39m\n\u001B[0;32m   (...)\u001B[0m\n\u001B[1;32m     13\u001B[0m \u001B[38;5;124mLIMIT 10\u001B[39m\n\u001B[1;32m     14\u001B[0m \u001B[38;5;124m\"\"\"\u001B[39m)\n",
      "File \u001B[0;32m~/Desktop/Development/health-data-etl-kaggle/venv/lib/python3.11/site-packages/pyspark/sql/dataframe.py:445\u001B[0m, in \u001B[0;36mDataFrame.createGlobalTempView\u001B[0;34m(self, name)\u001B[0m\n\u001B[1;32m    408\u001B[0m \u001B[38;5;28;01mdef\u001B[39;00m \u001B[38;5;21mcreateGlobalTempView\u001B[39m(\u001B[38;5;28mself\u001B[39m, name: \u001B[38;5;28mstr\u001B[39m) \u001B[38;5;241m-\u001B[39m\u001B[38;5;241m>\u001B[39m \u001B[38;5;28;01mNone\u001B[39;00m:\n\u001B[1;32m    409\u001B[0m \u001B[38;5;250m    \u001B[39m\u001B[38;5;124;03m\"\"\"Creates a global temporary view with this :class:`DataFrame`.\u001B[39;00m\n\u001B[1;32m    410\u001B[0m \n\u001B[1;32m    411\u001B[0m \u001B[38;5;124;03m    The lifetime of this temporary view is tied to this Spark application.\u001B[39;00m\n\u001B[0;32m   (...)\u001B[0m\n\u001B[1;32m    443\u001B[0m \n\u001B[1;32m    444\u001B[0m \u001B[38;5;124;03m    \"\"\"\u001B[39;00m\n\u001B[0;32m--> 445\u001B[0m     \u001B[38;5;28;43mself\u001B[39;49m\u001B[38;5;241;43m.\u001B[39;49m\u001B[43m_jdf\u001B[49m\u001B[38;5;241;43m.\u001B[39;49m\u001B[43mcreateGlobalTempView\u001B[49m\u001B[43m(\u001B[49m\u001B[43mname\u001B[49m\u001B[43m)\u001B[49m\n",
      "File \u001B[0;32m~/Desktop/Development/health-data-etl-kaggle/venv/lib/python3.11/site-packages/py4j/java_gateway.py:1322\u001B[0m, in \u001B[0;36mJavaMember.__call__\u001B[0;34m(self, *args)\u001B[0m\n\u001B[1;32m   1316\u001B[0m command \u001B[38;5;241m=\u001B[39m proto\u001B[38;5;241m.\u001B[39mCALL_COMMAND_NAME \u001B[38;5;241m+\u001B[39m\\\n\u001B[1;32m   1317\u001B[0m     \u001B[38;5;28mself\u001B[39m\u001B[38;5;241m.\u001B[39mcommand_header \u001B[38;5;241m+\u001B[39m\\\n\u001B[1;32m   1318\u001B[0m     args_command \u001B[38;5;241m+\u001B[39m\\\n\u001B[1;32m   1319\u001B[0m     proto\u001B[38;5;241m.\u001B[39mEND_COMMAND_PART\n\u001B[1;32m   1321\u001B[0m answer \u001B[38;5;241m=\u001B[39m \u001B[38;5;28mself\u001B[39m\u001B[38;5;241m.\u001B[39mgateway_client\u001B[38;5;241m.\u001B[39msend_command(command)\n\u001B[0;32m-> 1322\u001B[0m return_value \u001B[38;5;241m=\u001B[39m \u001B[43mget_return_value\u001B[49m\u001B[43m(\u001B[49m\n\u001B[1;32m   1323\u001B[0m \u001B[43m    \u001B[49m\u001B[43manswer\u001B[49m\u001B[43m,\u001B[49m\u001B[43m \u001B[49m\u001B[38;5;28;43mself\u001B[39;49m\u001B[38;5;241;43m.\u001B[39;49m\u001B[43mgateway_client\u001B[49m\u001B[43m,\u001B[49m\u001B[43m \u001B[49m\u001B[38;5;28;43mself\u001B[39;49m\u001B[38;5;241;43m.\u001B[39;49m\u001B[43mtarget_id\u001B[49m\u001B[43m,\u001B[49m\u001B[43m \u001B[49m\u001B[38;5;28;43mself\u001B[39;49m\u001B[38;5;241;43m.\u001B[39;49m\u001B[43mname\u001B[49m\u001B[43m)\u001B[49m\n\u001B[1;32m   1325\u001B[0m \u001B[38;5;28;01mfor\u001B[39;00m temp_arg \u001B[38;5;129;01min\u001B[39;00m temp_args:\n\u001B[1;32m   1326\u001B[0m     \u001B[38;5;28;01mif\u001B[39;00m \u001B[38;5;28mhasattr\u001B[39m(temp_arg, \u001B[38;5;124m\"\u001B[39m\u001B[38;5;124m_detach\u001B[39m\u001B[38;5;124m\"\u001B[39m):\n",
      "File \u001B[0;32m~/Desktop/Development/health-data-etl-kaggle/venv/lib/python3.11/site-packages/pyspark/errors/exceptions/captured.py:185\u001B[0m, in \u001B[0;36mcapture_sql_exception.<locals>.deco\u001B[0;34m(*a, **kw)\u001B[0m\n\u001B[1;32m    181\u001B[0m converted \u001B[38;5;241m=\u001B[39m convert_exception(e\u001B[38;5;241m.\u001B[39mjava_exception)\n\u001B[1;32m    182\u001B[0m \u001B[38;5;28;01mif\u001B[39;00m \u001B[38;5;129;01mnot\u001B[39;00m \u001B[38;5;28misinstance\u001B[39m(converted, UnknownException):\n\u001B[1;32m    183\u001B[0m     \u001B[38;5;66;03m# Hide where the exception came from that shows a non-Pythonic\u001B[39;00m\n\u001B[1;32m    184\u001B[0m     \u001B[38;5;66;03m# JVM exception message.\u001B[39;00m\n\u001B[0;32m--> 185\u001B[0m     \u001B[38;5;28;01mraise\u001B[39;00m converted \u001B[38;5;28;01mfrom\u001B[39;00m \u001B[38;5;28;01mNone\u001B[39;00m\n\u001B[1;32m    186\u001B[0m \u001B[38;5;28;01melse\u001B[39;00m:\n\u001B[1;32m    187\u001B[0m     \u001B[38;5;28;01mraise\u001B[39;00m\n",
      "\u001B[0;31mAnalysisException\u001B[0m: [TEMP_TABLE_OR_VIEW_ALREADY_EXISTS] Cannot create the temporary view `ranked_df` because it already exists.\nChoose a different name, drop or replace the existing view,  or add the IF NOT EXISTS clause to tolerate pre-existing views."
     ]
    }
   ],
   "source": [
    "ranked_df.createGlobalTempView(\"ranked_df\")\n",
    "\n",
    "unique_dobs_df = spark.sql(\"\"\"\n",
    "WITH NameCounts AS (\n",
    "    SELECT name\n",
    "    FROM global_temp.ranked_df\n",
    ")\n",
    "\n",
    "SELECT DISTINCT r.name, r.unique_id\n",
    "FROM global_temp.ranked_df r\n",
    "JOIN NameCounts n ON r.name = n.name\n",
    "ORDER BY r.name\n",
    "LIMIT 10\n",
    "\"\"\")"
   ],
   "metadata": {
    "collapsed": false,
    "ExecuteTime": {
     "end_time": "2024-02-25T10:58:19.617332Z",
     "start_time": "2024-02-25T10:58:19.319217Z"
    }
   },
   "id": "e16046564d50a89a"
  },
  {
   "cell_type": "code",
   "execution_count": null,
   "outputs": [],
   "source": [
    "# COSTLY WAY TO VERIFY THAT THE RANK WORKS BELOW....  due to .collect() and .count() in verify_ranking_counts() function\n",
    "\n",
    "# Example usage:\n",
    "unique_names = [row['name'] for row in unique_dobs_df.select(\"name\").collect()]\n",
    "unique_ids = [row['unique_id'] for row in unique_dobs_df.select(\"unique_id\").collect()]\n",
    "verify_ranking_counts(df, ranked_df, unique_names, unique_ids)\n",
    "\n",
    "# this function is faster than above\n",
    "verify_ranking(df, ranked_df)\n"
   ],
   "metadata": {
    "collapsed": false,
    "ExecuteTime": {
     "start_time": "2024-02-25T10:58:19.603939Z"
    }
   },
   "id": "e8a7e1a934ab2401"
  },
  {
   "cell_type": "code",
   "execution_count": 33,
   "outputs": [
    {
     "name": "stderr",
     "output_type": "stream",
     "text": [
      "                                                                                \r"
     ]
    }
   ],
   "source": [
    "\"\"\"\n",
    "Step 4: \n",
    "    Sort out geriatrics data and verify that individuals are not geriatrics \n",
    "\"\"\"\n",
    "ranked_df = ranked_df.withColumn(\"is_geriatric\", is_geriatric)\n",
    "\n",
    "not_geriatric_df = ranked_df.where((col('sub_level_admission') == \"GERIATRICS\") &( col(\"is_geriatric\") == False))\n",
    "\n",
    "filtered_df = remove_data(ranked_df, not_geriatric_df, (col('sub_level_admission') == \"GERIATRICS\"), ( col(\"is_geriatric\") == False))\n"
   ],
   "metadata": {
    "collapsed": false,
    "ExecuteTime": {
     "end_time": "2024-02-25T10:58:22.092092Z",
     "start_time": "2024-02-25T10:58:20.315587Z"
    }
   },
   "id": "9746b1d222d3d1ea"
  },
  {
   "cell_type": "code",
   "execution_count": 34,
   "outputs": [
    {
     "name": "stderr",
     "output_type": "stream",
     "text": [
      "                                                                                \r"
     ]
    }
   ],
   "source": [
    "not_female_df = filtered_df.where((col(\"sub_level_admission\").isin(female_only)) & (col(\"is_female\") == False))\n",
    "filtered_df_female = remove_data(filtered_df, not_female_df, (col(\"gender\") == \"Male\"),  (col(\"sub_level_admission\").isin(female_only)))\n"
   ],
   "metadata": {
    "collapsed": false,
    "ExecuteTime": {
     "end_time": "2024-02-25T10:58:25.331907Z",
     "start_time": "2024-02-25T10:58:22.089699Z"
    }
   },
   "id": "d7c1ee011b044991"
  },
  {
   "cell_type": "code",
   "execution_count": 35,
   "outputs": [],
   "source": [
    "# filter pediatric patients who cannot be pregnant (based on legal age in the UK, 16) No assumption made an individual cannot choose to get pregnant before this age. \n",
    "# upper age bound defined  here: https://www.ncbi.nlm.nih.gov/pmc/articles/PMC4822427/#:~:text=Menopause%20typically%20occurs%20between%2045,reproducing%20many%20years%20before%20menopause.\n",
    "# between 45 and 55 upper bounding will be 50. # Possiblilty to include outliers in a new func in the future.\n",
    "under16_female_df = filtered_df_female.where((col(\"Age\") < 16) &\n",
    "                                             (col(\"Age\") <= 50) &\n",
    "                                             (col(\"sub_level_admission\") == \"MATERNITY\")\n",
    "                                             ).orderBy(\"Age\")"
   ],
   "metadata": {
    "collapsed": false,
    "ExecuteTime": {
     "end_time": "2024-02-25T10:58:25.418490Z",
     "start_time": "2024-02-25T10:58:25.307651Z"
    }
   },
   "id": "630396c288fa291b"
  },
  {
   "cell_type": "code",
   "execution_count": 36,
   "outputs": [
    {
     "name": "stderr",
     "output_type": "stream",
     "text": [
      "                                                                                \r"
     ]
    }
   ],
   "source": [
    "df = remove_data(filtered_df_female, under16_female_df, (col(\"sub_level_admission\") == \"MATERNITY\"),\n",
    "                 (col(\"Age\") < 16) & (col(\"Age\") > 50))\n",
    "\n"
   ],
   "metadata": {
    "collapsed": false,
    "ExecuteTime": {
     "end_time": "2024-02-25T10:58:29.200080Z",
     "start_time": "2024-02-25T10:58:25.422122Z"
    }
   },
   "id": "cc11c7ec6b0a65"
  },
  {
   "cell_type": "code",
   "execution_count": 37,
   "outputs": [],
   "source": [
    "\n",
    "split_col = split(df['name'], ' ')\n",
    "\n",
    "df_renamed = (df.withColumn('name', \n",
    "                    when(size(split_col) == 4, concat(split_col.getItem(1).substr(1, 1), lit('. '), split_col.getItem(2).substr(1, 1), lit('. '), split_col.getItem(3)))\n",
    "                    .when(size(split_col) == 3, concat(split_col.getItem(1).substr(1, 1), lit('. '), split_col.getItem(2)))\n",
    "                    .otherwise(\n",
    "                        concat(split_col.getItem(0).substr(1, 1), lit('. '), split_col.getItem(1))\n",
    "                               )\n",
    "                    )\n",
    "      )\n"
   ],
   "metadata": {
    "collapsed": false,
    "ExecuteTime": {
     "end_time": "2024-02-25T10:58:29.300525Z",
     "start_time": "2024-02-25T10:58:29.192634Z"
    }
   },
   "id": "d883931ab7588b0d"
  },
  {
   "cell_type": "code",
   "execution_count": 38,
   "outputs": [
    {
     "name": "stderr",
     "output_type": "stream",
     "text": [
      "                                                                                \r"
     ]
    },
    {
     "name": "stdout",
     "output_type": "stream",
     "text": [
      "+-------------------+----------+-------------------+------------+---+------+----------+-----------------+--------------------+------------------+------------------+-----------+--------------+---------+------------+-----------+--------------------+--------------------+--------------------+----------------+--------------------+-------+------------+\n",
      "|sub_level_admission|       DOB|top_level_admission|        name|Age|gender|blood_type|date_of_admission|            hospital|insurance_provider|    billing_amount|room_number|discharge_date|is_female|is_pediatric|  stay_type|      possible_tests|          conditions|              doctor|       stay_name|           unique_id|row_num|is_geriatric|\n",
      "+-------------------+----------+-------------------+------------+---+------+----------+-----------------+--------------------+------------------+------------------+-----------+--------------+---------+------------+-----------+--------------------+--------------------+--------------------+----------------+--------------------+-------+------------+\n",
      "|   GASTROENTEROLOGY|1963-07-23|        GP_REFERRAL|     A. Hill| 60|  Male|        O-|       2022-01-08|       Johnson-Owens|             Cigna|23371.833561177962|        119|    2022-01-23|    false|       false|  Inpatient|[Gastro-oesophage...|[Endoscopy, Colon...|       Dr. Mia Clark|      Aaron Hill| Aaron Hill_19630723|      7|       false|\n",
      "|   GASTROENTEROLOGY|1963-07-23|        GP_REFERRAL|     A. Hill| 60|  Male|        O-|       2022-01-08|       Johnson-Owens|             Cigna|23371.833561177962|        119|    2022-01-23|    false|       false|Day Patient|[Gastro-oesophage...|[Endoscopy, Colon...|        Dr. Joe Rice|      Aaron Hill| Aaron Hill_19630723|      9|       false|\n",
      "|   GASTROENTEROLOGY|1963-07-23|        GP_REFERRAL|     A. Hill| 60|  Male|        O-|       2022-01-08|       Johnson-Owens|             Cigna|23371.833561177962|        119|    2022-01-23|    false|       false| Outpatient|[Gastro-oesophage...|[Endoscopy, Colon...|     Dr. Cindy Brown|      Aaron Hill| Aaron Hill_19630723|     14|       false|\n",
      "|        PSYCHIATRIC|1993-02-11|        GP_REFERRAL|A. Rodriguez| 30|  Male|        O+|       2023-06-14|       Powell-Nguyen|          Medicare| 4740.109026437096|        425|    2023-06-18|    false|       false|  Inpatient|[Depression, Anxi...|[Psychological ev...|  Dr. Wendy Cummings|  Alan Rodriguez|Alan Rodriguez_19...|      8|       false|\n",
      "|        PSYCHIATRIC|1993-02-11|        GP_REFERRAL|A. Rodriguez| 30|  Male|        O+|       2023-06-14|       Powell-Nguyen|          Medicare| 4740.109026437096|        425|    2023-06-18|    false|       false| Outpatient|[Depression, Anxi...|[Psychological ev...|      Dr. Adam Reyes|  Alan Rodriguez|Alan Rodriguez_19...|     10|       false|\n",
      "|        PSYCHIATRIC|1993-02-11|        GP_REFERRAL|A. Rodriguez| 30|  Male|        O+|       2023-06-14|       Powell-Nguyen|          Medicare| 4740.109026437096|        425|    2023-06-18|    false|       false|Day Patient|[Depression, Anxi...|[Psychological ev...|   Dr. Diana Vasquez|  Alan Rodriguez|Alan Rodriguez_19...|     14|       false|\n",
      "|        DERMATOLOGY|1984-07-10|        GP_REFERRAL|    A. Patel| 39|Female|       AB-|       2020-01-17|Jacobs, Woodard a...|          Medicare| 43882.82254266742|        483|    2020-02-13|     true|       false| Outpatient|[Acne, Eczema, Ps...|[Skin biopsy, Pat...| Dr. John Cunningham|      Alex Patel| Alex Patel_19840710|     14|       false|\n",
      "|          NEUROLOGY|1941-01-23|  HOSPITAL_REFERRAL|     A. Rice| 83|  Male|       AB-|       2023-09-14|         Wallace LLC|          Medicare| 48296.69098795672|        215|    2023-09-26|    false|       false| Outpatient|[Migraines, Epile...|[MRI or CT scans ...|   Dr. Rebecca Oneal|     Alexis Rice|Alexis Rice_19410123|      7|       false|\n",
      "|          NEUROLOGY|1941-01-23|  HOSPITAL_REFERRAL|     A. Rice| 83|  Male|       AB-|       2023-09-14|         Wallace LLC|          Medicare| 48296.69098795672|        215|    2023-09-26|    false|       false|Day Patient|[Migraines, Epile...|[MRI or CT scans ...|      Dr. Eric Brown|     Alexis Rice|Alexis Rice_19410123|      9|       false|\n",
      "|          NEUROLOGY|1941-01-23|  HOSPITAL_REFERRAL|     A. Rice| 83|  Male|       AB-|       2023-09-14|         Wallace LLC|          Medicare| 48296.69098795672|        215|    2023-09-26|    false|       false|  Inpatient|[Migraines, Epile...|[MRI or CT scans ...|  Dr. Emily Stafford|     Alexis Rice|Alexis Rice_19410123|     19|       false|\n",
      "|         NEPHROLOGY|1942-11-18|  HOSPITAL_REFERRAL|  A. Simpson| 81|  Male|       AB-|       2021-09-09|            Yang LLC|             Aetna|43519.631793763176|        136|    2021-09-12|    false|       false|Day Patient|[Chronic Kidney D...|[Blood tests (ren...|    Dr. Hannah Greer|  Alexis Simpson|Alexis Simpson_19...|      8|       false|\n",
      "|         NEPHROLOGY|1942-11-18|  HOSPITAL_REFERRAL|  A. Simpson| 81|  Male|       AB-|       2021-09-09|            Yang LLC|             Aetna|43519.631793763176|        136|    2021-09-12|    false|       false| Outpatient|[Chronic Kidney D...|[Blood tests (ren...|    Dr. Lori Gilbert|  Alexis Simpson|Alexis Simpson_19...|     21|       false|\n",
      "|         NEPHROLOGY|1942-11-18|  HOSPITAL_REFERRAL|  A. Simpson| 81|  Male|       AB-|       2021-09-09|            Yang LLC|             Aetna|43519.631793763176|        136|    2021-09-12|    false|       false|  Inpatient|[Chronic Kidney D...|[Blood tests (ren...|Dr. Stephen Herna...|  Alexis Simpson|Alexis Simpson_19...|     25|       false|\n",
      "|         INJURY_RTC|1943-04-22|          EMERGENCY|      R. PhD| 80|  Male|        B+|       2020-03-05|          Walton Inc|             Cigna| 35699.31152905354|        329|    2020-03-18|    false|       false|Day Patient|[Whiplash, Concus...|[X-rays, CT scans...|  Dr. William Robles|Allison Reed PhD|Allison Reed PhD_...|     22|       false|\n",
      "|         INJURY_RTC|1943-04-22|          EMERGENCY|      R. PhD| 80|  Male|        B+|       2020-03-05|          Walton Inc|             Cigna| 35699.31152905354|        329|    2020-03-18|    false|       false|  Inpatient|[Whiplash, Concus...|[X-rays, CT scans...|    Dr. Kevin Miller|Allison Reed PhD|Allison Reed PhD_...|     23|       false|\n",
      "|        RESPIRATORY|1979-06-08|          EMERGENCY|A. Hernandez| 44|  Male|       AB+|       2019-11-13|   Humphrey-Mitchell|             Aetna| 45584.15560000882|        263|    2019-11-27|    false|       false| Outpatient|[Asthma, Chronic ...|[Pulmonary functi...|     Dr. Laura Craig|Alyssa Hernandez|Alyssa Hernandez_...|      7|       false|\n",
      "|        RESPIRATORY|1979-06-08|          EMERGENCY|A. Hernandez| 44|  Male|       AB+|       2019-11-13|   Humphrey-Mitchell|             Aetna| 45584.15560000882|        263|    2019-11-27|    false|       false|  Inpatient|[Asthma, Chronic ...|[Pulmonary functi...| Dr. Arthur Williams|Alyssa Hernandez|Alyssa Hernandez_...|     10|       false|\n",
      "|        RESPIRATORY|1979-06-08|          EMERGENCY|A. Hernandez| 44|  Male|       AB+|       2019-11-13|   Humphrey-Mitchell|             Aetna| 45584.15560000882|        263|    2019-11-27|    false|       false|Day Patient|[Asthma, Chronic ...|[Pulmonary functi...|      Dr. Dalton Ray|Alyssa Hernandez|Alyssa Hernandez_...|     20|       false|\n",
      "|     SELF_INFLICTED|2008-11-06|          EMERGENCY| A. Holloway| 15|  Male|        O-|       2023-09-30|     Williams-Palmer|             Aetna| 44376.65774673086|        374|    2023-10-12|    false|        true|  Inpatient|     [No conditions]|[Psychological as...|    Dr. Sue Crawford| Amanda Holloway|Amanda Holloway_2...|     22|       false|\n",
      "|      OPHTHALMOLOGY|1978-01-01|      SELF_REFERRAL|    A. Jones| 46|  Male|        O-|       2023-09-19|Rich, Hart and Ed...|        Blue Cross| 48960.84096432827|        241|    2023-10-05|    false|       false| Outpatient|[Refractive Error...|[Eye exam, Tonome...|    Dr. Andrew Welch|    Amanda Jones|Amanda Jones_1978...|      6|       false|\n",
      "+-------------------+----------+-------------------+------------+---+------+----------+-----------------+--------------------+------------------+------------------+-----------+--------------+---------+------------+-----------+--------------------+--------------------+--------------------+----------------+--------------------+-------+------------+\n"
     ]
    }
   ],
   "source": [
    "df_renamed.show()"
   ],
   "metadata": {
    "collapsed": false,
    "ExecuteTime": {
     "end_time": "2024-02-25T10:58:35.388537Z",
     "start_time": "2024-02-25T10:58:29.301599Z"
    }
   },
   "id": "e3bb25e7bfae988"
  },
  {
   "cell_type": "code",
   "execution_count": 39,
   "outputs": [
    {
     "name": "stderr",
     "output_type": "stream",
     "text": [
      "                                                                                \r"
     ]
    },
    {
     "name": "stdout",
     "output_type": "stream",
     "text": [
      "+-------------+----------+---+------+----------+-----------------+--------------+-------------------+--------------------+--------------------+--------------------+--------------------+--------------------+-----------+------------------+------------------+-----------+---------+------------+------------+--------------------+-------+--------------------+\n",
      "|         name|       DOB|Age|gender|blood_type|date_of_admission|discharge_date|top_level_admission| sub_level_admission|      possible_tests|          conditions|              doctor|            hospital|room_number|insurance_provider|    billing_amount|  stay_type|is_female|is_geriatric|is_pediatric|           stay_name|row_num|           unique_id|\n",
      "+-------------+----------+---+------+----------+-----------------+--------------+-------------------+--------------------+--------------------+--------------------+--------------------+--------------------+-----------+------------------+------------------+-----------+---------+------------+------------+--------------------+-------+--------------------+\n",
      "|      A. Hill|1963-07-23| 60|  Male|        O-|       2022-01-08|    2022-01-23|        GP_REFERRAL|    GASTROENTEROLOGY|[Gastro-oesophage...|[Endoscopy, Colon...|       Dr. Mia Clark|       Johnson-Owens|        119|             Cigna|23371.833561177962|  Inpatient|    false|       false|       false|          Aaron Hill|      7| Aaron Hill_19630723|\n",
      "|      A. Hill|1963-07-23| 60|  Male|        O-|       2022-01-08|    2022-01-23|        GP_REFERRAL|    GASTROENTEROLOGY|[Gastro-oesophage...|[Endoscopy, Colon...|        Dr. Joe Rice|       Johnson-Owens|        119|             Cigna|23371.833561177962|Day Patient|    false|       false|       false|          Aaron Hill|      9| Aaron Hill_19630723|\n",
      "|      A. Hill|1963-07-23| 60|  Male|        O-|       2022-01-08|    2022-01-23|        GP_REFERRAL|    GASTROENTEROLOGY|[Gastro-oesophage...|[Endoscopy, Colon...|     Dr. Cindy Brown|       Johnson-Owens|        119|             Cigna|23371.833561177962| Outpatient|    false|       false|       false|          Aaron Hill|     14| Aaron Hill_19630723|\n",
      "| A. Rodriguez|1993-02-11| 30|  Male|        O+|       2023-06-14|    2023-06-18|        GP_REFERRAL|         PSYCHIATRIC|[Depression, Anxi...|[Psychological ev...|  Dr. Wendy Cummings|       Powell-Nguyen|        425|          Medicare| 4740.109026437096|  Inpatient|    false|       false|       false|      Alan Rodriguez|      8|Alan Rodriguez_19...|\n",
      "| A. Rodriguez|1993-02-11| 30|  Male|        O+|       2023-06-14|    2023-06-18|        GP_REFERRAL|         PSYCHIATRIC|[Depression, Anxi...|[Psychological ev...|      Dr. Adam Reyes|       Powell-Nguyen|        425|          Medicare| 4740.109026437096| Outpatient|    false|       false|       false|      Alan Rodriguez|     10|Alan Rodriguez_19...|\n",
      "| A. Rodriguez|1993-02-11| 30|  Male|        O+|       2023-06-14|    2023-06-18|        GP_REFERRAL|         PSYCHIATRIC|[Depression, Anxi...|[Psychological ev...|   Dr. Diana Vasquez|       Powell-Nguyen|        425|          Medicare| 4740.109026437096|Day Patient|    false|       false|       false|      Alan Rodriguez|     14|Alan Rodriguez_19...|\n",
      "|     A. Patel|1984-07-10| 39|Female|       AB-|       2020-01-17|    2020-02-13|        GP_REFERRAL|         DERMATOLOGY|[Acne, Eczema, Ps...|[Skin biopsy, Pat...| Dr. John Cunningham|Jacobs, Woodard a...|        483|          Medicare| 43882.82254266742| Outpatient|     true|       false|       false|          Alex Patel|     14| Alex Patel_19840710|\n",
      "|      A. Rice|1941-01-23| 83|  Male|       AB-|       2023-09-14|    2023-09-26|  HOSPITAL_REFERRAL|           NEUROLOGY|[Migraines, Epile...|[MRI or CT scans ...|   Dr. Rebecca Oneal|         Wallace LLC|        215|          Medicare| 48296.69098795672| Outpatient|    false|       false|       false|         Alexis Rice|      7|Alexis Rice_19410123|\n",
      "|      A. Rice|1941-01-23| 83|  Male|       AB-|       2023-09-14|    2023-09-26|  HOSPITAL_REFERRAL|           NEUROLOGY|[Migraines, Epile...|[MRI or CT scans ...|      Dr. Eric Brown|         Wallace LLC|        215|          Medicare| 48296.69098795672|Day Patient|    false|       false|       false|         Alexis Rice|      9|Alexis Rice_19410123|\n",
      "|      A. Rice|1941-01-23| 83|  Male|       AB-|       2023-09-14|    2023-09-26|  HOSPITAL_REFERRAL|           NEUROLOGY|[Migraines, Epile...|[MRI or CT scans ...|  Dr. Emily Stafford|         Wallace LLC|        215|          Medicare| 48296.69098795672|  Inpatient|    false|       false|       false|         Alexis Rice|     19|Alexis Rice_19410123|\n",
      "|   A. Simpson|1942-11-18| 81|  Male|       AB-|       2021-09-09|    2021-09-12|  HOSPITAL_REFERRAL|          NEPHROLOGY|[Chronic Kidney D...|[Blood tests (ren...|    Dr. Hannah Greer|            Yang LLC|        136|             Aetna|43519.631793763176|Day Patient|    false|       false|       false|      Alexis Simpson|      8|Alexis Simpson_19...|\n",
      "|   A. Simpson|1942-11-18| 81|  Male|       AB-|       2021-09-09|    2021-09-12|  HOSPITAL_REFERRAL|          NEPHROLOGY|[Chronic Kidney D...|[Blood tests (ren...|    Dr. Lori Gilbert|            Yang LLC|        136|             Aetna|43519.631793763176| Outpatient|    false|       false|       false|      Alexis Simpson|     21|Alexis Simpson_19...|\n",
      "|   A. Simpson|1942-11-18| 81|  Male|       AB-|       2021-09-09|    2021-09-12|  HOSPITAL_REFERRAL|          NEPHROLOGY|[Chronic Kidney D...|[Blood tests (ren...|Dr. Stephen Herna...|            Yang LLC|        136|             Aetna|43519.631793763176|  Inpatient|    false|       false|       false|      Alexis Simpson|     25|Alexis Simpson_19...|\n",
      "|       R. PhD|1943-04-22| 80|  Male|        B+|       2020-03-05|    2020-03-18|          EMERGENCY|          INJURY_RTC|[Whiplash, Concus...|[X-rays, CT scans...|  Dr. William Robles|          Walton Inc|        329|             Cigna| 35699.31152905354|Day Patient|    false|       false|       false|    Allison Reed PhD|     22|Allison Reed PhD_...|\n",
      "|       R. PhD|1943-04-22| 80|  Male|        B+|       2020-03-05|    2020-03-18|          EMERGENCY|          INJURY_RTC|[Whiplash, Concus...|[X-rays, CT scans...|    Dr. Kevin Miller|          Walton Inc|        329|             Cigna| 35699.31152905354|  Inpatient|    false|       false|       false|    Allison Reed PhD|     23|Allison Reed PhD_...|\n",
      "| A. Hernandez|1979-06-08| 44|  Male|       AB+|       2019-11-13|    2019-11-27|          EMERGENCY|         RESPIRATORY|[Asthma, Chronic ...|[Pulmonary functi...|     Dr. Laura Craig|   Humphrey-Mitchell|        263|             Aetna| 45584.15560000882| Outpatient|    false|       false|       false|    Alyssa Hernandez|      7|Alyssa Hernandez_...|\n",
      "| A. Hernandez|1979-06-08| 44|  Male|       AB+|       2019-11-13|    2019-11-27|          EMERGENCY|         RESPIRATORY|[Asthma, Chronic ...|[Pulmonary functi...| Dr. Arthur Williams|   Humphrey-Mitchell|        263|             Aetna| 45584.15560000882|  Inpatient|    false|       false|       false|    Alyssa Hernandez|     10|Alyssa Hernandez_...|\n",
      "| A. Hernandez|1979-06-08| 44|  Male|       AB+|       2019-11-13|    2019-11-27|          EMERGENCY|         RESPIRATORY|[Asthma, Chronic ...|[Pulmonary functi...|      Dr. Dalton Ray|   Humphrey-Mitchell|        263|             Aetna| 45584.15560000882|Day Patient|    false|       false|       false|    Alyssa Hernandez|     20|Alyssa Hernandez_...|\n",
      "|  A. Holloway|2008-11-06| 15|  Male|        O-|       2023-09-30|    2023-10-12|          EMERGENCY|      SELF_INFLICTED|     [No conditions]|[Psychological as...|    Dr. Sue Crawford|     Williams-Palmer|        374|             Aetna| 44376.65774673086|  Inpatient|    false|       false|        true|     Amanda Holloway|     22|Amanda Holloway_2...|\n",
      "|     A. Jones|1978-01-01| 46|  Male|        O-|       2023-09-19|    2023-10-05|      SELF_REFERRAL|       OPHTHALMOLOGY|[Refractive Error...|[Eye exam, Tonome...|    Dr. Andrew Welch|Rich, Hart and Ed...|        241|        Blue Cross| 48960.84096432827| Outpatient|    false|       false|       false|        Amanda Jones|      6|Amanda Jones_1978...|\n",
      "|    A. Dunlap|1946-05-31| 77|Female|        O+|       2020-09-26|    2020-10-09|          EMERGENCY|           NEUROLOGY|[Migraines, Epile...|[MRI or CT scans ...|   Dr. Denise Parker|       Esparza Group|        370|  UnitedHealthcare|24628.638701085616| Outpatient|     true|       false|       false|          Amy Dunlap|      4| Amy Dunlap_19460531|\n",
      "|    A. Dunlap|1946-05-31| 77|Female|        O+|       2020-09-26|    2020-10-09|          EMERGENCY|           NEUROLOGY|[Migraines, Epile...|[MRI or CT scans ...|     Dr. Deanna Diaz|       Esparza Group|        370|  UnitedHealthcare|24628.638701085616|  Inpatient|     true|       false|       false|          Amy Dunlap|     17| Amy Dunlap_19460531|\n",
      "|    A. Dunlap|1946-05-31| 77|Female|        O+|       2020-09-26|    2020-10-09|          EMERGENCY|           NEUROLOGY|[Migraines, Epile...|[MRI or CT scans ...|    Dr. Carlos Jones|       Esparza Group|        370|  UnitedHealthcare|24628.638701085616|Day Patient|     true|       false|       false|          Amy Dunlap|     23| Amy Dunlap_19460531|\n",
      "|A. Cunningham|1973-10-14| 50|  Male|        A-|       2020-11-18|    2020-12-10|        GP_REFERRAL|         ORTHOPEDICS|[Osteoarthritis, ...|[X-rays, MRI, CT ...|      Dr. Tina Parks|      Leonard-Jacobs|        105|             Aetna| 7483.788011774308| Outpatient|    false|       false|       false|   Andrea Cunningham|     14|Andrea Cunningham...|\n",
      "|    A. Morgan|1971-04-18| 52|  Male|        B+|       2020-05-03|    2020-05-15|      SELF_REFERRAL|         PSYCHIATRIC|[Depression, Anxi...|[Psychological ev...|     Dr. Tracy Singh|          Hurst-Pena|        304|             Cigna| 36609.05501416365| Outpatient|    false|       false|       false|       Andrea Morgan|      2|Andrea Morgan_197...|\n",
      "|  A. Williams|1985-07-21| 38|  Male|        B-|       2019-01-12|    2019-01-25|      SELF_REFERRAL|         DERMATOLOGY|[Acne, Eczema, Ps...|[Skin biopsy, Pat...|Dr. Stephanie Whe...|Murray, Davis and...|        214|  UnitedHealthcare| 41896.47962512455| Outpatient|    false|       false|       false|     Angela Williams|      6|Angela Williams_1...|\n",
      "|      A. Chen|1952-08-27| 71|  Male|       AB-|       2022-06-24|    2022-07-03|  HOSPITAL_REFERRAL|            ONCOLOGY|[Breast Cancer, L...|[Biopsies, MRI, U...|    Dr. Joseph Smith|         Mendoza LLC|        133|             Cigna| 34747.27007791632|Day Patient|    false|       false|       false|       Angelica Chen|      3|Angelica Chen_195...|\n",
      "|      A. Chen|1952-08-27| 71|  Male|       AB-|       2022-06-24|    2022-07-03|  HOSPITAL_REFERRAL|            ONCOLOGY|[Breast Cancer, L...|[Biopsies, MRI, U...|   Dr. Jessica White|         Mendoza LLC|        133|             Cigna| 34747.27007791632| Outpatient|    false|       false|       false|       Angelica Chen|     17|Angelica Chen_195...|\n",
      "|      A. Chen|1952-08-27| 71|  Male|       AB-|       2022-06-24|    2022-07-03|  HOSPITAL_REFERRAL|            ONCOLOGY|[Breast Cancer, L...|[Biopsies, MRI, U...|     Dr. Tracy Jones|         Mendoza LLC|        133|             Cigna| 34747.27007791632|  Inpatient|    false|       false|       false|       Angelica Chen|     26|Angelica Chen_195...|\n",
      "|     A. Reyes|1979-07-09| 44|Female|        B+|       2023-03-09|    2023-03-16|          EMERGENCY|           NEUROLOGY|[Migraines, Epile...|[MRI or CT scans ...|   Dr. Denise Parker|     Walter-Williams|        126|             Aetna| 40376.16831506106| Outpatient|     true|       false|       false|          Anna Reyes|      7| Anna Reyes_19790709|\n",
      "|     A. Reyes|1979-07-09| 44|Female|        B+|       2023-03-09|    2023-03-16|          EMERGENCY|           NEUROLOGY|[Migraines, Epile...|[MRI or CT scans ...|    Dr. Carlos Jones|     Walter-Williams|        126|             Aetna| 40376.16831506106|Day Patient|     true|       false|       false|          Anna Reyes|     19| Anna Reyes_19790709|\n",
      "|     A. Reyes|1979-07-09| 44|Female|        B+|       2023-03-09|    2023-03-16|          EMERGENCY|           NEUROLOGY|[Migraines, Epile...|[MRI or CT scans ...|     Dr. Deanna Diaz|     Walter-Williams|        126|             Aetna| 40376.16831506106|  Inpatient|     true|       false|       false|          Anna Reyes|     22| Anna Reyes_19790709|\n",
      "|      A. Cruz|1934-04-29| 89|Female|        O+|       2021-05-27|    2021-06-26|      SELF_REFERRAL|         ORTHOPEDICS|[Osteoarthritis, ...|[X-rays, MRI, CT ...| Dr. Kathy Patterson|       Morgan-Wilson|        148|        Blue Cross|25362.314192783557| Outpatient|     true|       false|       false|        Annette Cruz|      3|Annette Cruz_1934...|\n",
      "|     A. Lucas|1964-03-19| 59|  Male|        B-|       2020-03-25|    2020-03-30|      SELF_REFERRAL|       ENDOCRINOLOGY|[Diabetes Mellitu...|[Blood tests (hor...|  Dr. Patricia Miles|      Washington LLC|        414|  UnitedHealthcare| 40537.16596847549| Outpatient|    false|       false|       false|       Anthony Lucas|      4|Anthony Lucas_196...|\n",
      "|      A. Mack|1959-12-18| 64|Female|        A-|       2022-02-18|    2022-03-04|  HOSPITAL_REFERRAL|          HEMATOLOGY|     [No conditions]|[Full Blood Count...|       Dr. Mike Hall|          Martin Ltd|        169|             Aetna| 46066.49345544951|Day Patient|     true|       false|       false|        Anthony Mack|      5|Anthony Mack_1959...|\n",
      "|      A. Mack|1959-12-18| 64|Female|        A-|       2022-02-18|    2022-03-04|  HOSPITAL_REFERRAL|          HEMATOLOGY|     [No conditions]|[Full Blood Count...|    Dr. Juan Johnson|          Martin Ltd|        169|             Aetna| 46066.49345544951| Outpatient|     true|       false|       false|        Anthony Mack|     11|Anthony Mack_1959...|\n",
      "|      A. Mack|1959-12-18| 64|Female|        A-|       2022-02-18|    2022-03-04|  HOSPITAL_REFERRAL|          HEMATOLOGY|     [No conditions]|[Full Blood Count...|    Dr. Judy Shields|          Martin Ltd|        169|             Aetna| 46066.49345544951|  Inpatient|     true|       false|       false|        Anthony Mack|     15|Anthony Mack_1959...|\n",
      "|     A. Clark|2011-02-23| 12|  Male|        A+|       2022-10-13|    2022-11-07|  HOSPITAL_REFERRAL|          HEMATOLOGY|     [No conditions]|[Full Blood Count...|    Dr. Juan Johnson|          Hill-Green|        369|             Cigna| 41920.69500328894| Outpatient|    false|       false|        true|       Antonio Clark|      7|Antonio Clark_201...|\n",
      "|     A. Clark|2011-02-23| 12|  Male|        A+|       2022-10-13|    2022-11-07|  HOSPITAL_REFERRAL|          HEMATOLOGY|     [No conditions]|[Full Blood Count...|    Dr. Judy Shields|          Hill-Green|        369|             Cigna| 41920.69500328894|  Inpatient|    false|       false|        true|       Antonio Clark|     14|Antonio Clark_201...|\n",
      "|     A. Clark|2011-02-23| 12|  Male|        A+|       2022-10-13|    2022-11-07|  HOSPITAL_REFERRAL|          HEMATOLOGY|     [No conditions]|[Full Blood Count...|       Dr. Mike Hall|          Hill-Green|        369|             Cigna| 41920.69500328894|Day Patient|    false|       false|        true|       Antonio Clark|     27|Antonio Clark_201...|\n",
      "|  A. Fletcher|1960-12-15| 63|Female|        A-|       2021-11-25|    2021-12-13|  HOSPITAL_REFERRAL|OTORHINOLARYNGOLO...|[Otitis Media (Mi...|[Hearing tests, E...|  Dr. Stephanie Pugh|           Adams Inc|        142|             Aetna| 14665.11355699728|  Inpatient|     true|       false|       false|      Ariel Fletcher|     13|Ariel Fletcher_19...|\n",
      "|  A. Fletcher|1960-12-15| 63|Female|        A-|       2021-11-25|    2021-12-13|  HOSPITAL_REFERRAL|OTORHINOLARYNGOLO...|[Otitis Media (Mi...|[Hearing tests, E...|     Dr. Austin Peck|           Adams Inc|        142|             Aetna| 14665.11355699728|Day Patient|     true|       false|       false|      Ariel Fletcher|     14|Ariel Fletcher_19...|\n",
      "|  A. Fletcher|1960-12-15| 63|Female|        A-|       2021-11-25|    2021-12-13|  HOSPITAL_REFERRAL|OTORHINOLARYNGOLO...|[Otitis Media (Mi...|[Hearing tests, E...|   Dr. Matthew Hurst|           Adams Inc|        142|             Aetna| 14665.11355699728| Outpatient|     true|       false|       false|      Ariel Fletcher|     20|Ariel Fletcher_19...|\n",
      "|     A. Reyes|1966-12-10| 57|Female|        A-|       2020-08-10|    2020-08-20|      SELF_REFERRAL|         ORTHOPEDICS|[Osteoarthritis, ...|[X-rays, MRI, CT ...| Dr. Kathy Patterson|     Thompson-Grimes|        137|        Blue Cross|20926.538191285246| Outpatient|     true|       false|       false|        Ashley Reyes|      4|Ashley Reyes_1966...|\n",
      "|  A. Mcdowell|1971-09-19| 52|  Male|        O-|       2023-10-16|    2023-10-27|        GP_REFERRAL|       ENDOCRINOLOGY|[Diabetes Mellitu...|[Blood tests (hor...|     Dr. Keith Clark|Moore, Smith and Cox|        143|             Cigna| 33630.60534591856| Outpatient|    false|       false|       false|     Autumn Mcdowell|      6|Autumn Mcdowell_1...|\n",
      "|  B. Woodward|1994-03-27| 29|  Male|        B+|       2020-05-15|    2020-05-17|      SELF_REFERRAL|         DERMATOLOGY|[Acne, Eczema, Ps...|[Skin biopsy, Pat...|Dr. Stephanie Whe...|            King Inc|        472|             Aetna|26287.501879486583| Outpatient|    false|       false|       false|    Barbara Woodward|      6|Barbara Woodward_...|\n",
      "|     B. Gibbs|2001-05-03| 22|Female|        A+|       2021-06-09|    2021-06-28|          EMERGENCY|    GASTROENTEROLOGY|[Gastro-oesophage...|[Endoscopy, Colon...|  Dr. Karen Thompson|     Harrison-Tanner|        295|  UnitedHealthcare| 30217.25113277229| Outpatient|     true|       false|       false|       Bernard Gibbs|     10|Bernard Gibbs_200...|\n",
      "|     B. Gibbs|2001-05-03| 22|Female|        A+|       2021-06-09|    2021-06-28|          EMERGENCY|    GASTROENTEROLOGY|[Gastro-oesophage...|[Endoscopy, Colon...|   Dr. Ashley Peters|     Harrison-Tanner|        295|  UnitedHealthcare| 30217.25113277229|Day Patient|     true|       false|       false|       Bernard Gibbs|     11|Bernard Gibbs_200...|\n",
      "|     B. Gibbs|2001-05-03| 22|Female|        A+|       2021-06-09|    2021-06-28|          EMERGENCY|    GASTROENTEROLOGY|[Gastro-oesophage...|[Endoscopy, Colon...|  Dr. Crystal Brandt|     Harrison-Tanner|        295|  UnitedHealthcare| 30217.25113277229|  Inpatient|     true|       false|       false|       Bernard Gibbs|     25|Bernard Gibbs_200...|\n",
      "|     B. Moyer|1934-07-11| 89|  Male|        A+|       2018-12-11|    2019-01-01|        GP_REFERRAL|         DERMATOLOGY|[Acne, Eczema, Ps...|[Skin biopsy, Pat...| Dr. John Cunningham|    Stephens-Elliott|        374|             Aetna|12727.895202263906| Outpatient|    false|       false|       false|         Blake Moyer|     12|Blake Moyer_19340711|\n",
      "|  B. Robinson|2008-07-10| 15|Female|        A-|       2020-10-20|    2020-11-13|        GP_REFERRAL|       ENDOCRINOLOGY|[Diabetes Mellitu...|[Blood tests (hor...|     Dr. Keith Clark|Taylor, Guerra an...|        416|          Medicare|23795.476602545386| Outpatient|     true|       false|        true|     Brandi Robinson|      4|Brandi Robinson_2...|\n",
      "|    B. Curtis|1995-01-03| 29|Female|        A+|       2022-04-21|    2022-05-17|          EMERGENCY|           MATERNITY|[Labour and Deliv...|[Ultrasound, Bloo...|  Dr. Amanda Alvarez|     Young-Hendricks|        368|  UnitedHealthcare| 16107.21239207795|  Inpatient|     true|       false|       false|      Brandon Curtis|      3|Brandon Curtis_19...|\n",
      "|    B. Curtis|1995-01-03| 29|Female|        A+|       2022-04-21|    2022-05-17|          EMERGENCY|           MATERNITY|[Labour and Deliv...|[Ultrasound, Bloo...|    Dr. Samuel Brown|     Young-Hendricks|        368|  UnitedHealthcare| 16107.21239207795| Outpatient|     true|       false|       false|      Brandon Curtis|     18|Brandon Curtis_19...|\n",
      "|    B. Curtis|1995-01-03| 29|Female|        A+|       2022-04-21|    2022-05-17|          EMERGENCY|           MATERNITY|[Labour and Deliv...|[Ultrasound, Bloo...|     Dr. Tyler Smith|     Young-Hendricks|        368|  UnitedHealthcare| 16107.21239207795|Day Patient|     true|       false|       false|      Brandon Curtis|     22|Brandon Curtis_19...|\n",
      "|       B. Lee|1977-03-10| 46|Female|        A-|       2019-01-28|    2019-01-31|  HOSPITAL_REFERRAL|          NEPHROLOGY|[Chronic Kidney D...|[Blood tests (ren...|    Dr. Lori Gilbert|       Robbins Group|        388|        Blue Cross| 13225.16638451972| Outpatient|     true|       false|       false|         Brandon Lee|      8|Brandon Lee_19770310|\n",
      "|       B. Lee|1977-03-10| 46|Female|        A-|       2019-01-28|    2019-01-31|  HOSPITAL_REFERRAL|          NEPHROLOGY|[Chronic Kidney D...|[Blood tests (ren...|Dr. Stephen Herna...|       Robbins Group|        388|        Blue Cross| 13225.16638451972|  Inpatient|     true|       false|       false|         Brandon Lee|     14|Brandon Lee_19770310|\n",
      "|       B. Lee|1977-03-10| 46|Female|        A-|       2019-01-28|    2019-01-31|  HOSPITAL_REFERRAL|          NEPHROLOGY|[Chronic Kidney D...|[Blood tests (ren...|    Dr. Hannah Greer|       Robbins Group|        388|        Blue Cross| 13225.16638451972|Day Patient|     true|       false|       false|         Brandon Lee|     15|Brandon Lee_19770310|\n",
      "|     B. Scott|2010-02-21| 13|Female|       AB-|       2023-01-02|    2023-02-01|          EMERGENCY|           NEUROLOGY|[Migraines, Epile...|[MRI or CT scans ...|    Dr. Carlos Jones|         Goodwin LLC|        161|             Cigna| 7452.926275865916|Day Patient|     true|       false|        true|       Brandon Scott|     12|Brandon Scott_201...|\n",
      "|     B. Scott|2010-02-21| 13|Female|       AB-|       2023-01-02|    2023-02-01|          EMERGENCY|           NEUROLOGY|[Migraines, Epile...|[MRI or CT scans ...|   Dr. Denise Parker|         Goodwin LLC|        161|             Cigna| 7452.926275865916| Outpatient|     true|       false|        true|       Brandon Scott|     14|Brandon Scott_201...|\n",
      "|     B. Scott|2010-02-21| 13|Female|       AB-|       2023-01-02|    2023-02-01|          EMERGENCY|           NEUROLOGY|[Migraines, Epile...|[MRI or CT scans ...|     Dr. Deanna Diaz|         Goodwin LLC|        161|             Cigna| 7452.926275865916|  Inpatient|     true|       false|        true|       Brandon Scott|     24|Brandon Scott_201...|\n",
      "|    B. Bowman|1940-01-28| 84|Female|       AB-|       2020-12-06|    2020-12-30|        GP_REFERRAL|         PSYCHIATRIC|[Depression, Anxi...|[Psychological ev...|   Dr. Diana Vasquez|        Mckenzie LLC|        432|             Cigna| 32769.16614446891|Day Patient|     true|       false|       false|       Brenda Bowman|      6|Brenda Bowman_194...|\n",
      "|    B. Bowman|1940-01-28| 84|Female|       AB-|       2020-12-06|    2020-12-30|        GP_REFERRAL|         PSYCHIATRIC|[Depression, Anxi...|[Psychological ev...|      Dr. Adam Reyes|        Mckenzie LLC|        432|             Cigna| 32769.16614446891| Outpatient|     true|       false|       false|       Brenda Bowman|      9|Brenda Bowman_194...|\n",
      "|    B. Bowman|1940-01-28| 84|Female|       AB-|       2020-12-06|    2020-12-30|        GP_REFERRAL|         PSYCHIATRIC|[Depression, Anxi...|[Psychological ev...|  Dr. Wendy Cummings|        Mckenzie LLC|        432|             Cigna| 32769.16614446891|  Inpatient|     true|       false|       false|       Brenda Bowman|     12|Brenda Bowman_194...|\n",
      "|   B. Jackson|1976-10-08| 47|  Male|        B-|       2021-01-23|    2021-02-02|  HOSPITAL_REFERRAL|            ONCOLOGY|[Breast Cancer, L...|[Biopsies, MRI, U...|   Dr. Jessica White|Avila, Welch and ...|        344|        Blue Cross|21970.208900318812| Outpatient|    false|       false|       false|      Brenda Jackson|     11|Brenda Jackson_19...|\n",
      "|   B. Jackson|1976-10-08| 47|  Male|        B-|       2021-01-23|    2021-02-02|  HOSPITAL_REFERRAL|            ONCOLOGY|[Breast Cancer, L...|[Biopsies, MRI, U...|    Dr. Joseph Smith|Avila, Welch and ...|        344|        Blue Cross|21970.208900318812|Day Patient|    false|       false|       false|      Brenda Jackson|     14|Brenda Jackson_19...|\n",
      "|   B. Jackson|1976-10-08| 47|  Male|        B-|       2021-01-23|    2021-02-02|  HOSPITAL_REFERRAL|            ONCOLOGY|[Breast Cancer, L...|[Biopsies, MRI, U...|     Dr. Tracy Jones|Avila, Welch and ...|        344|        Blue Cross|21970.208900318812|  Inpatient|    false|       false|       false|      Brenda Jackson|     23|Brenda Jackson_19...|\n",
      "|     B. Scott|1993-03-14| 30|Female|       AB-|       2022-05-17|    2022-05-20|      SELF_REFERRAL|         PSYCHIATRIC|[Depression, Anxi...|[Psychological ev...|     Dr. Tracy Singh|Wright, Williams ...|        384|  UnitedHealthcare| 19260.10883332154| Outpatient|     true|       false|       false|        Brenda Scott|      4|Brenda Scott_1993...|\n",
      "|   B. Garrett|1967-04-02| 56|Female|        O+|       2022-08-29|    2022-09-09|      SELF_REFERRAL|       ENDOCRINOLOGY|[Diabetes Mellitu...|[Blood tests (hor...|  Dr. Patricia Miles|Ruiz, Park and Fi...|        368|        Blue Cross| 42037.04981711227| Outpatient|     true|       false|       false|     Brendan Garrett|      1|Brendan Garrett_1...|\n",
      "|     B. Bates|1992-11-10| 31|  Male|        A+|       2020-11-10|    2020-12-04|  HOSPITAL_REFERRAL|OTORHINOLARYNGOLO...|[Otitis Media (Mi...|[Hearing tests, E...|  Dr. Stephanie Pugh|Jones, Bridges an...|        377|        Blue Cross|11178.773991453592|  Inpatient|    false|       false|       false|         Brian Bates|      3|Brian Bates_19921110|\n",
      "|     B. Bates|1992-11-10| 31|  Male|        A+|       2020-11-10|    2020-12-04|  HOSPITAL_REFERRAL|OTORHINOLARYNGOLO...|[Otitis Media (Mi...|[Hearing tests, E...|     Dr. Austin Peck|Jones, Bridges an...|        377|        Blue Cross|11178.773991453592|Day Patient|    false|       false|       false|         Brian Bates|      4|Brian Bates_19921110|\n",
      "|     B. Bates|1992-11-10| 31|  Male|        A+|       2020-11-10|    2020-12-04|  HOSPITAL_REFERRAL|OTORHINOLARYNGOLO...|[Otitis Media (Mi...|[Hearing tests, E...|   Dr. Matthew Hurst|Jones, Bridges an...|        377|        Blue Cross|11178.773991453592| Outpatient|    false|       false|       false|         Brian Bates|     21|Brian Bates_19921110|\n",
      "|      B. Wolf|1974-01-31| 50|Female|        O+|       2023-07-08|    2023-07-10|          EMERGENCY|    GASTROENTEROLOGY|[Gastro-oesophage...|[Endoscopy, Colon...|   Dr. Ashley Peters|       Cannon-Morgan|        129|        Blue Cross| 43399.97889794341|Day Patient|     true|       false|       false|          Brian Wolf|      7| Brian Wolf_19740131|\n",
      "|      B. Wolf|1974-01-31| 50|Female|        O+|       2023-07-08|    2023-07-10|          EMERGENCY|    GASTROENTEROLOGY|[Gastro-oesophage...|[Endoscopy, Colon...|  Dr. Karen Thompson|       Cannon-Morgan|        129|        Blue Cross| 43399.97889794341| Outpatient|     true|       false|       false|          Brian Wolf|     15| Brian Wolf_19740131|\n",
      "|      B. Wolf|1974-01-31| 50|Female|        O+|       2023-07-08|    2023-07-10|          EMERGENCY|    GASTROENTEROLOGY|[Gastro-oesophage...|[Endoscopy, Colon...|  Dr. Crystal Brandt|       Cannon-Morgan|        129|        Blue Cross| 43399.97889794341|  Inpatient|     true|       false|       false|          Brian Wolf|     16| Brian Wolf_19740131|\n",
      "|  B. Erickson|1937-01-21| 87|  Male|       AB+|       2022-03-01|    2022-03-31|      SELF_REFERRAL|    GASTROENTEROLOGY|[Gastro-oesophage...|[Endoscopy, Colon...|   Dr. Tony Morrison|          Abbott Inc|        151|             Cigna|  32114.2051477691| Outpatient|    false|       false|       false|      Bryan Erickson|      3|Bryan Erickson_19...|\n",
      "|     C. Stone|1976-01-29| 48|  Male|        B-|       2023-04-28|    2023-05-16|        GP_REFERRAL|         ORTHOPEDICS|[Osteoarthritis, ...|[X-rays, MRI, CT ...|      Dr. Tina Parks|      Johnson-Taylor|        130|             Cigna|30477.159338650137| Outpatient|    false|       false|       false|          Carl Stone|      6| Carl Stone_19760129|\n",
      "|    C. Watson|1953-03-29| 70|Female|        A+|       2022-12-02|    2022-12-14|      SELF_REFERRAL|         PSYCHIATRIC|[Depression, Anxi...|[Psychological ev...|     Dr. Tracy Singh|     Mitchell-Melton|        348|  UnitedHealthcare| 9741.612926671376| Outpatient|     true|       false|       false|      Carolyn Watson|      3|Carolyn Watson_19...|\n",
      "|    C. Oliver|2009-10-12| 14|  Male|        O-|       2021-11-23|    2021-12-11|  HOSPITAL_REFERRAL|         RESPIRATORY|[Asthma, Chronic ...|[Pulmonary functi...|Dr. Christopher P...|Johnson, Williams...|        463|        Blue Cross| 9726.264978540357|Day Patient|    false|       false|        true|        Casey Oliver|      2|Casey Oliver_2009...|\n",
      "|    C. Oliver|2009-10-12| 14|  Male|        O-|       2021-11-23|    2021-12-11|  HOSPITAL_REFERRAL|         RESPIRATORY|[Asthma, Chronic ...|[Pulmonary functi...| Dr. Kimberly Santos|Johnson, Williams...|        463|        Blue Cross| 9726.264978540357| Outpatient|    false|       false|        true|        Casey Oliver|     15|Casey Oliver_2009...|\n",
      "|    C. Oliver|2009-10-12| 14|  Male|        O-|       2021-11-23|    2021-12-11|  HOSPITAL_REFERRAL|         RESPIRATORY|[Asthma, Chronic ...|[Pulmonary functi...|   Dr. Alex Whitaker|Johnson, Williams...|        463|        Blue Cross| 9726.264978540357|  Inpatient|    false|       false|        true|        Casey Oliver|     17|Casey Oliver_2009...|\n",
      "|     C. Patel|1937-05-19| 86|Female|        B-|       2022-10-30|    2022-11-10|      SELF_REFERRAL|         PSYCHIATRIC|[Depression, Anxi...|[Psychological ev...|     Dr. Tracy Singh|Wolf, Ellison and...|        359|        Blue Cross|12958.944116433528| Outpatient|     true|       false|       false|       Charles Patel|      5|Charles Patel_193...|\n",
      "|     C. Villa|2001-12-26| 22|  Male|        B-|       2019-12-22|    2019-12-25|  HOSPITAL_REFERRAL|     MUSCULOSKELETAL|[Low Back Pain, T...|[X-rays, MRI Scan...|Dr. Christina Fle...|           Davis LLC|        392|  UnitedHealthcare|26606.996483482166| Outpatient|    false|       false|       false|       Charles Villa|      3|Charles Villa_200...|\n",
      "|     C. Villa|2001-12-26| 22|  Male|        B-|       2019-12-22|    2019-12-25|  HOSPITAL_REFERRAL|     MUSCULOSKELETAL|[Low Back Pain, T...|[X-rays, MRI Scan...|  Dr. Michael Walker|           Davis LLC|        392|  UnitedHealthcare|26606.996483482166|  Inpatient|    false|       false|       false|       Charles Villa|     10|Charles Villa_200...|\n",
      "|     C. Villa|2001-12-26| 22|  Male|        B-|       2019-12-22|    2019-12-25|  HOSPITAL_REFERRAL|     MUSCULOSKELETAL|[Low Back Pain, T...|[X-rays, MRI Scan...|  Dr. Jessica Carter|           Davis LLC|        392|  UnitedHealthcare|26606.996483482166|Day Patient|    false|       false|       false|       Charles Villa|     16|Charles Villa_200...|\n",
      "|   C. Winters|1992-03-16| 31|Female|        A-|       2022-01-22|    2022-01-29|  HOSPITAL_REFERRAL|           NEUROLOGY|[Migraines, Epile...|[MRI or CT scans ...|      Dr. Eric Brown|       Wilkinson LLC|        268|             Cigna| 45537.48490740536|Day Patient|     true|       false|       false|     Charles Winters|      9|Charles Winters_1...|\n",
      "|   C. Winters|1992-03-16| 31|Female|        A-|       2022-01-22|    2022-01-29|  HOSPITAL_REFERRAL|           NEUROLOGY|[Migraines, Epile...|[MRI or CT scans ...|   Dr. Rebecca Oneal|       Wilkinson LLC|        268|             Cigna| 45537.48490740536| Outpatient|     true|       false|       false|     Charles Winters|     12|Charles Winters_1...|\n",
      "|   C. Winters|1992-03-16| 31|Female|        A-|       2022-01-22|    2022-01-29|  HOSPITAL_REFERRAL|           NEUROLOGY|[Migraines, Epile...|[MRI or CT scans ...|  Dr. Emily Stafford|       Wilkinson LLC|        268|             Cigna| 45537.48490740536|  Inpatient|     true|       false|       false|     Charles Winters|     29|Charles Winters_1...|\n",
      "| C. Henderson|2020-06-10|  3|Female|        A-|       2018-11-20|    2018-11-27|          EMERGENCY|          CARDIOLOGY|     [No conditions]|[ECG, Echocardiog...|        Dr. Joe Lowe|Yang, Burton and ...|        462|             Cigna|20679.393198854417|Day Patient|     true|       false|        true|   Chelsea Henderson|      2|Chelsea Henderson...|\n",
      "| C. Henderson|2020-06-10|  3|Female|        A-|       2018-11-20|    2018-11-27|          EMERGENCY|          CARDIOLOGY|     [No conditions]|[ECG, Echocardiog...|     Dr. Amy Johnson|Yang, Burton and ...|        462|             Cigna|20679.393198854417|  Inpatient|     true|       false|        true|   Chelsea Henderson|     18|Chelsea Henderson...|\n",
      "|     C. Scott|1955-08-24| 68|Female|        B-|       2019-07-09|    2019-08-02|      SELF_REFERRAL|         DERMATOLOGY|[Acne, Eczema, Ps...|[Skin biopsy, Pat...|Dr. Stephanie Whe...|Smith, Griffith a...|        104|             Aetna| 18873.33861875201| Outpatient|     true|       false|       false|         Chloe Scott|      1|Chloe Scott_19550824|\n",
      "|    C. Cortez|1934-11-26| 89|  Male|        A+|       2020-07-23|    2020-08-15|          EMERGENCY| INFECTIOUS_DISEASES|[Influenza, Urina...|[Blood cultures, ...|Dr. William Mcdonald|         Davis-Woods|        421|        Blue Cross| 45884.35251757271|  Inpatient|    false|       false|       false|    Christina Cortez|      9|Christina Cortez_...|\n",
      "|    C. Cortez|1934-11-26| 89|  Male|        A+|       2020-07-23|    2020-08-15|          EMERGENCY| INFECTIOUS_DISEASES|[Influenza, Urina...|[Blood cultures, ...|    Dr. Tammy Bailey|         Davis-Woods|        421|        Blue Cross| 45884.35251757271|Day Patient|    false|       false|       false|    Christina Cortez|     10|Christina Cortez_...|\n",
      "|     C. Duffy|2022-12-12|  1|  Male|       AB+|       2020-03-13|    2020-04-05|  HOSPITAL_REFERRAL|         RESPIRATORY|[Asthma, Chronic ...|[Pulmonary functi...| Dr. Kimberly Santos|Ballard, Baker an...|        170|        Blue Cross| 41498.11685589601| Outpatient|    false|       false|        true|     Christina Duffy|      3|Christina Duffy_2...|\n",
      "|     C. Duffy|2022-12-12|  1|  Male|       AB+|       2020-03-13|    2020-04-05|  HOSPITAL_REFERRAL|         RESPIRATORY|[Asthma, Chronic ...|[Pulmonary functi...|Dr. Christopher P...|Ballard, Baker an...|        170|        Blue Cross| 41498.11685589601|Day Patient|    false|       false|        true|     Christina Duffy|      7|Christina Duffy_2...|\n",
      "|     C. Duffy|2022-12-12|  1|  Male|       AB+|       2020-03-13|    2020-04-05|  HOSPITAL_REFERRAL|         RESPIRATORY|[Asthma, Chronic ...|[Pulmonary functi...|   Dr. Alex Whitaker|Ballard, Baker an...|        170|        Blue Cross| 41498.11685589601|  Inpatient|    false|       false|        true|     Christina Duffy|     29|Christina Duffy_2...|\n",
      "|    C. George|1975-07-09| 48|  Male|        A+|       2019-06-26|    2019-07-09|  HOSPITAL_REFERRAL|         RESPIRATORY|[Asthma, Chronic ...|[Pulmonary functi...|   Dr. Alex Whitaker|      Clark-Ferguson|        162|          Medicare|39582.886674268826|  Inpatient|    false|       false|       false|    Christina George|      2|Christina George_...|\n",
      "|    C. George|1975-07-09| 48|  Male|        A+|       2019-06-26|    2019-07-09|  HOSPITAL_REFERRAL|         RESPIRATORY|[Asthma, Chronic ...|[Pulmonary functi...|Dr. Christopher P...|      Clark-Ferguson|        162|          Medicare|39582.886674268826|Day Patient|    false|       false|       false|    Christina George|      4|Christina George_...|\n",
      "|    C. George|1975-07-09| 48|  Male|        A+|       2019-06-26|    2019-07-09|  HOSPITAL_REFERRAL|         RESPIRATORY|[Asthma, Chronic ...|[Pulmonary functi...| Dr. Kimberly Santos|      Clark-Ferguson|        162|          Medicare|39582.886674268826| Outpatient|    false|       false|       false|    Christina George|     23|Christina George_...|\n",
      "|     C. Mccoy|1958-09-07| 65|  Male|        B-|       2022-10-14|    2022-11-03|          EMERGENCY|    GASTROENTEROLOGY|[Gastro-oesophage...|[Endoscopy, Colon...|   Dr. Ashley Peters|           Owens Ltd|        490|        Blue Cross|  48192.6486063671|Day Patient|    false|       false|       false|     Christina Mccoy|      3|Christina Mccoy_1...|\n",
      "|     C. Mccoy|1958-09-07| 65|  Male|        B-|       2022-10-14|    2022-11-03|          EMERGENCY|    GASTROENTEROLOGY|[Gastro-oesophage...|[Endoscopy, Colon...|  Dr. Karen Thompson|           Owens Ltd|        490|        Blue Cross|  48192.6486063671| Outpatient|    false|       false|       false|     Christina Mccoy|     13|Christina Mccoy_1...|\n",
      "|     C. Mccoy|1958-09-07| 65|  Male|        B-|       2022-10-14|    2022-11-03|          EMERGENCY|    GASTROENTEROLOGY|[Gastro-oesophage...|[Endoscopy, Colon...|  Dr. Crystal Brandt|           Owens Ltd|        490|        Blue Cross|  48192.6486063671|  Inpatient|    false|       false|       false|     Christina Mccoy|     22|Christina Mccoy_1...|\n",
      "|     C. Brown|2000-11-22| 23|  Male|        B+|       2020-04-29|    2020-05-01|      SELF_REFERRAL|         PSYCHIATRIC|[Depression, Anxi...|[Psychological ev...|     Dr. Tracy Singh|     Morris-Davidson|        247|  UnitedHealthcare| 44105.38470748311| Outpatient|    false|       false|       false|   Christopher Brown|      6|Christopher Brown...|\n",
      "|    C. Harmon|1996-01-03| 28|  Male|        O-|       2019-12-15|    2020-01-14|  HOSPITAL_REFERRAL|OTORHINOLARYNGOLO...|[Otitis Media (Mi...|[Hearing tests, E...|  Dr. Stephanie Pugh|         Arnold-Bell|        460|        Blue Cross|49608.493204814935|  Inpatient|    false|       false|       false|  Christopher Harmon|      2|Christopher Harmo...|\n",
      "|    C. Harmon|1996-01-03| 28|  Male|        O-|       2019-12-15|    2020-01-14|  HOSPITAL_REFERRAL|OTORHINOLARYNGOLO...|[Otitis Media (Mi...|[Hearing tests, E...|     Dr. Austin Peck|         Arnold-Bell|        460|        Blue Cross|49608.493204814935|Day Patient|    false|       false|       false|  Christopher Harmon|     20|Christopher Harmo...|\n",
      "|    C. Harmon|1996-01-03| 28|  Male|        O-|       2019-12-15|    2020-01-14|  HOSPITAL_REFERRAL|OTORHINOLARYNGOLO...|[Otitis Media (Mi...|[Hearing tests, E...|   Dr. Matthew Hurst|         Arnold-Bell|        460|        Blue Cross|49608.493204814935| Outpatient|    false|       false|       false|  Christopher Harmon|     22|Christopher Harmo...|\n",
      "|       C. Lee|1998-06-06| 25|Female|        A-|       2019-03-16|    2019-03-23|          EMERGENCY|         RESPIRATORY|[Asthma, Chronic ...|[Pulmonary functi...| Dr. Arthur Williams|Graham, Gallagher...|        196|  UnitedHealthcare|27800.773986255903|  Inpatient|     true|       false|       false|     Christopher Lee|      7|Christopher Lee_1...|\n",
      "|       C. Lee|1998-06-06| 25|Female|        A-|       2019-03-16|    2019-03-23|          EMERGENCY|         RESPIRATORY|[Asthma, Chronic ...|[Pulmonary functi...|     Dr. Laura Craig|Graham, Gallagher...|        196|  UnitedHealthcare|27800.773986255903| Outpatient|     true|       false|       false|     Christopher Lee|     10|Christopher Lee_1...|\n",
      "|       C. Lee|1998-06-06| 25|Female|        A-|       2019-03-16|    2019-03-23|          EMERGENCY|         RESPIRATORY|[Asthma, Chronic ...|[Pulmonary functi...|      Dr. Dalton Ray|Graham, Gallagher...|        196|  UnitedHealthcare|27800.773986255903|Day Patient|     true|       false|       false|     Christopher Lee|     18|Christopher Lee_1...|\n",
      "|     C. Miles|1955-11-13| 68|Female|        O+|       2019-08-29|    2019-09-26|  HOSPITAL_REFERRAL|             UROLOGY|     [No conditions]|[Urinalysis, Bloo...|   Dr. Erica Jenkins|           Lewis Inc|        213|             Cigna| 37616.93573000845| Outpatient|     true|       false|       false|       Claudia Miles|      1|Claudia Miles_195...|\n",
      "|     C. Miles|1955-11-13| 68|Female|        O+|       2019-08-29|    2019-09-26|  HOSPITAL_REFERRAL|             UROLOGY|     [No conditions]|[Urinalysis, Bloo...|   Dr. Katelyn Rojas|           Lewis Inc|        213|             Cigna| 37616.93573000845|  Inpatient|     true|       false|       false|       Claudia Miles|     10|Claudia Miles_195...|\n",
      "|     C. Miles|1955-11-13| 68|Female|        O+|       2019-08-29|    2019-09-26|  HOSPITAL_REFERRAL|             UROLOGY|     [No conditions]|[Urinalysis, Bloo...|   Dr. Rebecca Smith|           Lewis Inc|        213|             Cigna| 37616.93573000845|Day Patient|     true|       false|       false|       Claudia Miles|     27|Claudia Miles_195...|\n",
      "|      C. Mann|1946-06-17| 77|Female|        B+|       2023-04-18|    2023-04-21|          EMERGENCY|           NEUROLOGY|[Migraines, Epile...|[MRI or CT scans ...|    Dr. Carlos Jones|         Abbott-Shea|        482|  UnitedHealthcare| 8632.347576091594|Day Patient|     true|       false|       false|        Colleen Mann|      6|Colleen Mann_1946...|\n",
      "|      C. Mann|1946-06-17| 77|Female|        B+|       2023-04-18|    2023-04-21|          EMERGENCY|           NEUROLOGY|[Migraines, Epile...|[MRI or CT scans ...|   Dr. Denise Parker|         Abbott-Shea|        482|  UnitedHealthcare| 8632.347576091594| Outpatient|     true|       false|       false|        Colleen Mann|     10|Colleen Mann_1946...|\n",
      "|      C. Mann|1946-06-17| 77|Female|        B+|       2023-04-18|    2023-04-21|          EMERGENCY|           NEUROLOGY|[Migraines, Epile...|[MRI or CT scans ...|     Dr. Deanna Diaz|         Abbott-Shea|        482|  UnitedHealthcare| 8632.347576091594|  Inpatient|     true|       false|       false|        Colleen Mann|     16|Colleen Mann_1946...|\n",
      "|  C. Peterson|1995-01-03| 29|Female|        A-|       2023-03-24|    2023-04-04|          EMERGENCY|           MATERNITY|[Labour and Deliv...|[Ultrasound, Bloo...|     Dr. Tyler Smith|       Mcfarland Inc|        367|          Medicare|49617.331596284756|Day Patient|     true|       false|       false|       Cory Peterson|      8|Cory Peterson_199...|\n",
      "|  C. Peterson|1995-01-03| 29|Female|        A-|       2023-03-24|    2023-04-04|          EMERGENCY|           MATERNITY|[Labour and Deliv...|[Ultrasound, Bloo...|    Dr. Samuel Brown|       Mcfarland Inc|        367|          Medicare|49617.331596284756| Outpatient|     true|       false|       false|       Cory Peterson|     16|Cory Peterson_199...|\n",
      "|  C. Peterson|1995-01-03| 29|Female|        A-|       2023-03-24|    2023-04-04|          EMERGENCY|           MATERNITY|[Labour and Deliv...|[Ultrasound, Bloo...|  Dr. Amanda Alvarez|       Mcfarland Inc|        367|          Medicare|49617.331596284756|  Inpatient|     true|       false|       false|       Cory Peterson|     23|Cory Peterson_199...|\n",
      "|      C. Koch|1948-01-15| 76|  Male|        B+|       2023-09-08|    2023-10-05|        GP_REFERRAL|         PSYCHIATRIC|[Depression, Anxi...|[Psychological ev...|  Dr. Wendy Cummings|      Evans and Sons|        135|          Medicare|44596.761025798325|  Inpatient|    false|       false|       false|        Crystal Koch|      9|Crystal Koch_1948...|\n",
      "|      C. Koch|1948-01-15| 76|  Male|        B+|       2023-09-08|    2023-10-05|        GP_REFERRAL|         PSYCHIATRIC|[Depression, Anxi...|[Psychological ev...|      Dr. Adam Reyes|      Evans and Sons|        135|          Medicare|44596.761025798325| Outpatient|    false|       false|       false|        Crystal Koch|     10|Crystal Koch_1948...|\n",
      "|      C. Koch|1948-01-15| 76|  Male|        B+|       2023-09-08|    2023-10-05|        GP_REFERRAL|         PSYCHIATRIC|[Depression, Anxi...|[Psychological ev...|   Dr. Diana Vasquez|      Evans and Sons|        135|          Medicare|44596.761025798325|Day Patient|    false|       false|       false|        Crystal Koch|     14|Crystal Koch_1948...|\n",
      "|      C. Shaw|1945-02-17| 78|  Male|        A+|       2023-09-12|    2023-09-17|  HOSPITAL_REFERRAL|     MUSCULOSKELETAL|[Low Back Pain, T...|[X-rays, MRI Scan...|  Dr. Michael Walker|           Yoder Ltd|        314|             Cigna|29891.026074010013|  Inpatient|    false|       false|       false|         Curtis Shaw|      4|Curtis Shaw_19450217|\n",
      "|      C. Shaw|1945-02-17| 78|  Male|        A+|       2023-09-12|    2023-09-17|  HOSPITAL_REFERRAL|     MUSCULOSKELETAL|[Low Back Pain, T...|[X-rays, MRI Scan...|  Dr. Jessica Carter|           Yoder Ltd|        314|             Cigna|29891.026074010013|Day Patient|    false|       false|       false|         Curtis Shaw|     20|Curtis Shaw_19450217|\n",
      "|      C. Shaw|1945-02-17| 78|  Male|        A+|       2023-09-12|    2023-09-17|  HOSPITAL_REFERRAL|     MUSCULOSKELETAL|[Low Back Pain, T...|[X-rays, MRI Scan...|Dr. Christina Fle...|           Yoder Ltd|        314|             Cigna|29891.026074010013| Outpatient|    false|       false|       false|         Curtis Shaw|     24|Curtis Shaw_19450217|\n",
      "|   C. Johnson|1972-11-25| 51|Female|        O-|       2022-01-05|    2022-02-01|           ELECTIVE|           MATERNITY|[Labour and Deliv...|[Ultrasound, Bloo...|  Dr. Samantha Singh|     Miller and Sons|        158|  UnitedHealthcare| 12266.84149046783|  Inpatient|     true|       false|       false|     Cynthia Johnson|      1|Cynthia Johnson_1...|\n",
      "|   C. Johnson|1972-11-25| 51|Female|        O-|       2022-01-05|    2022-02-01|           ELECTIVE|           MATERNITY|[Labour and Deliv...|[Ultrasound, Bloo...|Dr. Christopher B...|     Miller and Sons|        158|  UnitedHealthcare| 12266.84149046783|Day Patient|     true|       false|       false|     Cynthia Johnson|      2|Cynthia Johnson_1...|\n",
      "|   C. Johnson|1972-11-25| 51|Female|        O-|       2022-01-05|    2022-02-01|           ELECTIVE|           MATERNITY|[Labour and Deliv...|[Ultrasound, Bloo...|      Dr. Bryan Bell|     Miller and Sons|        158|  UnitedHealthcare| 12266.84149046783| Outpatient|     true|       false|       false|     Cynthia Johnson|      3|Cynthia Johnson_1...|\n",
      "|   D. English|2013-04-03| 10|Female|       AB-|       2019-09-27|    2019-10-03|          EMERGENCY|           NEUROLOGY|[Migraines, Epile...|[MRI or CT scans ...|    Dr. Carlos Jones|       Jackson Group|        286|             Cigna|32362.406429892988|Day Patient|     true|       false|        true|      Dalton English|      9|Dalton English_20...|\n",
      "|   D. English|2013-04-03| 10|Female|       AB-|       2019-09-27|    2019-10-03|          EMERGENCY|           NEUROLOGY|[Migraines, Epile...|[MRI or CT scans ...|   Dr. Denise Parker|       Jackson Group|        286|             Cigna|32362.406429892988| Outpatient|     true|       false|        true|      Dalton English|     16|Dalton English_20...|\n",
      "|   D. English|2013-04-03| 10|Female|       AB-|       2019-09-27|    2019-10-03|          EMERGENCY|           NEUROLOGY|[Migraines, Epile...|[MRI or CT scans ...|     Dr. Deanna Diaz|       Jackson Group|        286|             Cigna|32362.406429892988|  Inpatient|     true|       false|        true|      Dalton English|     24|Dalton English_20...|\n",
      "|   D. Freeman|1998-10-24| 25|  Male|        B-|       2019-10-20|    2019-11-09|        GP_REFERRAL|       ENDOCRINOLOGY|[Diabetes Mellitu...|[Blood tests (hor...|     Dr. Keith Clark|Howe, Craig and L...|        172|          Medicare|48967.700976343825| Outpatient|    false|       false|       false|      Daniel Freeman|      2|Daniel Freeman_19...|\n",
      "|   D. Hammond|1953-02-27| 70|Female|        B-|       2022-04-22|    2022-04-26|  HOSPITAL_REFERRAL|            ONCOLOGY|[Breast Cancer, L...|[Biopsies, MRI, U...|    Dr. Joseph Smith|Johnson, Mcclain ...|        286|             Cigna| 32598.26667597038|Day Patient|     true|       false|       false|      Daniel Hammond|      5|Daniel Hammond_19...|\n",
      "|   D. Hammond|1953-02-27| 70|Female|        B-|       2022-04-22|    2022-04-26|  HOSPITAL_REFERRAL|            ONCOLOGY|[Breast Cancer, L...|[Biopsies, MRI, U...|   Dr. Jessica White|Johnson, Mcclain ...|        286|             Cigna| 32598.26667597038| Outpatient|     true|       false|       false|      Daniel Hammond|      7|Daniel Hammond_19...|\n",
      "|   D. Hammond|1953-02-27| 70|Female|        B-|       2022-04-22|    2022-04-26|  HOSPITAL_REFERRAL|            ONCOLOGY|[Breast Cancer, L...|[Biopsies, MRI, U...|     Dr. Tracy Jones|Johnson, Mcclain ...|        286|             Cigna| 32598.26667597038|  Inpatient|     true|       false|       false|      Daniel Hammond|     23|Daniel Hammond_19...|\n",
      "|       D. Ray|1956-06-01| 67|Female|       AB-|       2018-12-04|    2018-12-11|  HOSPITAL_REFERRAL|          NEPHROLOGY|[Chronic Kidney D...|[Blood tests (ren...|    Dr. Hannah Greer|         Lee-Mcbride|        316|          Medicare|32670.461867808015|Day Patient|     true|       false|       false|           Danny Ray|      1|  Danny Ray_19560601|\n",
      "|       D. Ray|1956-06-01| 67|Female|       AB-|       2018-12-04|    2018-12-11|  HOSPITAL_REFERRAL|     MUSCULOSKELETAL|[Low Back Pain, T...|[X-rays, MRI Scan...|  Dr. Jessica Carter|         Lee-Mcbride|        316|          Medicare|32670.461867808015|Day Patient|     true|       false|       false|           Danny Ray|      4|  Danny Ray_19560601|\n",
      "|       D. Ray|1956-06-01| 67|Female|       AB-|       2018-12-04|    2018-12-11|  HOSPITAL_REFERRAL|     MUSCULOSKELETAL|[Low Back Pain, T...|[X-rays, MRI Scan...|Dr. Christina Fle...|         Lee-Mcbride|        316|          Medicare|32670.461867808015| Outpatient|     true|       false|       false|           Danny Ray|      9|  Danny Ray_19560601|\n",
      "|       D. Ray|1956-06-01| 67|Female|       AB-|       2018-12-04|    2018-12-11|  HOSPITAL_REFERRAL|          NEPHROLOGY|[Chronic Kidney D...|[Blood tests (ren...|Dr. Stephen Herna...|         Lee-Mcbride|        316|          Medicare|32670.461867808015|  Inpatient|     true|       false|       false|           Danny Ray|     15|  Danny Ray_19560601|\n",
      "|       D. Ray|1956-06-01| 67|Female|       AB-|       2018-12-04|    2018-12-11|  HOSPITAL_REFERRAL|          NEPHROLOGY|[Chronic Kidney D...|[Blood tests (ren...|    Dr. Lori Gilbert|         Lee-Mcbride|        316|          Medicare|32670.461867808015| Outpatient|     true|       false|       false|           Danny Ray|     24|  Danny Ray_19560601|\n",
      "|       D. Ray|1956-06-01| 67|Female|       AB-|       2018-12-04|    2018-12-11|  HOSPITAL_REFERRAL|     MUSCULOSKELETAL|[Low Back Pain, T...|[X-rays, MRI Scan...|  Dr. Michael Walker|         Lee-Mcbride|        316|          Medicare|32670.461867808015|  Inpatient|     true|       false|       false|           Danny Ray|     28|  Danny Ray_19560601|\n",
      "|     D. Hodge|2016-02-27|  7|  Male|        O+|       2019-11-07|    2019-12-07|  HOSPITAL_REFERRAL|     MUSCULOSKELETAL|[Low Back Pain, T...|[X-rays, MRI Scan...|  Dr. Jessica Carter|Reed, Herrera and...|        497|             Aetna| 39688.13603084733|Day Patient|    false|       false|        true|        Darius Hodge|      3|Darius Hodge_2016...|\n",
      "|     D. Hodge|2016-02-27|  7|  Male|        O+|       2019-11-07|    2019-12-07|  HOSPITAL_REFERRAL|     MUSCULOSKELETAL|[Low Back Pain, T...|[X-rays, MRI Scan...|Dr. Christina Fle...|Reed, Herrera and...|        497|             Aetna| 39688.13603084733| Outpatient|    false|       false|        true|        Darius Hodge|      9|Darius Hodge_2016...|\n",
      "|     D. Hodge|2016-02-27|  7|  Male|        O+|       2019-11-07|    2019-12-07|  HOSPITAL_REFERRAL|     MUSCULOSKELETAL|[Low Back Pain, T...|[X-rays, MRI Scan...|  Dr. Michael Walker|Reed, Herrera and...|        497|             Aetna| 39688.13603084733|  Inpatient|    false|       false|        true|        Darius Hodge|     12|Darius Hodge_2016...|\n",
      "|   D. Lindsey|1972-04-06| 51|  Male|       AB+|       2018-12-02|    2018-12-13|  HOSPITAL_REFERRAL|            ONCOLOGY|[Breast Cancer, L...|[Biopsies, MRI, U...|     Dr. Tracy Jones|           Marsh Ltd|        337|          Medicare| 31096.17167917293|  Inpatient|    false|       false|       false|      Darius Lindsey|      1|Darius Lindsey_19...|\n",
      "|   D. Lindsey|1972-04-06| 51|  Male|       AB+|       2018-12-02|    2018-12-13|  HOSPITAL_REFERRAL|            ONCOLOGY|[Breast Cancer, L...|[Biopsies, MRI, U...|   Dr. Jessica White|           Marsh Ltd|        337|          Medicare| 31096.17167917293| Outpatient|    false|       false|       false|      Darius Lindsey|     13|Darius Lindsey_19...|\n",
      "|   D. Lindsey|1972-04-06| 51|  Male|       AB+|       2018-12-02|    2018-12-13|  HOSPITAL_REFERRAL|            ONCOLOGY|[Breast Cancer, L...|[Biopsies, MRI, U...|    Dr. Joseph Smith|           Marsh Ltd|        337|          Medicare| 31096.17167917293|Day Patient|    false|       false|       false|      Darius Lindsey|     21|Darius Lindsey_19...|\n",
      "|     D. Moore|1988-03-18| 35|  Male|        O-|       2019-05-21|    2019-06-05|          EMERGENCY|    GASTROENTEROLOGY|[Gastro-oesophage...|[Endoscopy, Colon...|  Dr. Crystal Brandt|       Gordon-Cortez|        496|        Blue Cross| 31672.04821522471|  Inpatient|    false|       false|       false|        Debbie Moore|     10|Debbie Moore_1988...|\n",
      "|     D. Moore|1988-03-18| 35|  Male|        O-|       2019-05-21|    2019-06-05|          EMERGENCY|    GASTROENTEROLOGY|[Gastro-oesophage...|[Endoscopy, Colon...|   Dr. Ashley Peters|       Gordon-Cortez|        496|        Blue Cross| 31672.04821522471|Day Patient|    false|       false|       false|        Debbie Moore|     16|Debbie Moore_1988...|\n",
      "|     D. Moore|1988-03-18| 35|  Male|        O-|       2019-05-21|    2019-06-05|          EMERGENCY|    GASTROENTEROLOGY|[Gastro-oesophage...|[Endoscopy, Colon...|  Dr. Karen Thompson|       Gordon-Cortez|        496|        Blue Cross| 31672.04821522471| Outpatient|    false|       false|       false|        Debbie Moore|     24|Debbie Moore_1988...|\n",
      "|  D. Robinson|1938-12-21| 85|  Male|        A-|       2022-07-15|    2022-07-31|          EMERGENCY|          INJURY_RTC|[Whiplash, Concus...|[X-rays, CT scans...|    Dr. Kevin Miller|Vasquez, Stephens...|        116|          Medicare| 41152.08651687772|  Inpatient|    false|       false|       false|    Deborah Robinson|      2|Deborah Robinson_...|\n",
      "|  D. Robinson|1938-12-21| 85|  Male|        A-|       2022-07-15|    2022-07-31|          EMERGENCY|          INJURY_RTC|[Whiplash, Concus...|[X-rays, CT scans...|  Dr. William Robles|Vasquez, Stephens...|        116|          Medicare| 41152.08651687772|Day Patient|    false|       false|       false|    Deborah Robinson|     23|Deborah Robinson_...|\n",
      "|   D. Salazar|1989-03-14| 34|Female|        A+|       2022-08-14|    2022-08-22|        GP_REFERRAL|    GASTROENTEROLOGY|[Gastro-oesophage...|[Endoscopy, Colon...|     Dr. Cindy Brown|       Santos-Ingram|        280|             Cigna|40021.185090564366| Outpatient|     true|       false|       false|     Deborah Salazar|      4|Deborah Salazar_1...|\n",
      "|   D. Salazar|1989-03-14| 34|Female|        A+|       2022-08-14|    2022-08-22|        GP_REFERRAL|    GASTROENTEROLOGY|[Gastro-oesophage...|[Endoscopy, Colon...|       Dr. Mia Clark|       Santos-Ingram|        280|             Cigna|40021.185090564366|  Inpatient|     true|       false|       false|     Deborah Salazar|      9|Deborah Salazar_1...|\n",
      "|   D. Salazar|1989-03-14| 34|Female|        A+|       2022-08-14|    2022-08-22|        GP_REFERRAL|    GASTROENTEROLOGY|[Gastro-oesophage...|[Endoscopy, Colon...|        Dr. Joe Rice|       Santos-Ingram|        280|             Cigna|40021.185090564366|Day Patient|     true|       false|       false|     Deborah Salazar|     14|Deborah Salazar_1...|\n",
      "|      D. Wood|2019-12-28|  4|Female|       AB+|       2022-06-16|    2022-07-12|      SELF_REFERRAL|       ENDOCRINOLOGY|[Diabetes Mellitu...|[Blood tests (hor...|  Dr. Patricia Miles|         Brooks-Long|        123|             Aetna| 36167.21869272584| Outpatient|     true|       false|        true|        Deborah Wood|      4|Deborah Wood_2019...|\n",
      "|  D. Williams|2003-10-26| 20|Female|        B-|       2022-01-14|    2022-01-24|        GP_REFERRAL|       ENDOCRINOLOGY|[Diabetes Mellitu...|[Blood tests (hor...|     Dr. Keith Clark|Russell, Nichols ...|        174|        Blue Cross|7056.4164803428375| Outpatient|     true|       false|       false|     Denise Williams|      2|Denise Williams_2...|\n",
      "|  D. Alvarado|2013-07-28| 10|Female|        A+|       2021-01-15|    2021-02-09|          EMERGENCY|           NEUROLOGY|[Migraines, Epile...|[MRI or CT scans ...|     Dr. Deanna Diaz|Weiss, Walton and...|        450|        Blue Cross| 7521.617747171937|  Inpatient|     true|       false|        true|      Donna Alvarado|      5|Donna Alvarado_20...|\n",
      "|  D. Alvarado|2013-07-28| 10|Female|        A+|       2021-01-15|    2021-02-09|          EMERGENCY|           NEUROLOGY|[Migraines, Epile...|[MRI or CT scans ...|    Dr. Carlos Jones|Weiss, Walton and...|        450|        Blue Cross| 7521.617747171937|Day Patient|     true|       false|        true|      Donna Alvarado|     18|Donna Alvarado_20...|\n",
      "|  D. Alvarado|2013-07-28| 10|Female|        A+|       2021-01-15|    2021-02-09|          EMERGENCY|           NEUROLOGY|[Migraines, Epile...|[MRI or CT scans ...|   Dr. Denise Parker|Weiss, Walton and...|        450|        Blue Cross| 7521.617747171937| Outpatient|     true|       false|        true|      Donna Alvarado|     19|Donna Alvarado_20...|\n",
      "|     D. Davis|2007-06-04| 16|  Male|       AB+|       2022-08-16|    2022-09-01|          EMERGENCY|      SELF_INFLICTED|     [No conditions]|[Psychological as...|    Dr. Sue Crawford|           Luna-Love|        126|        Blue Cross|16305.762604435338|  Inpatient|    false|       false|        true|         Donna Davis|      8|Donna Davis_20070604|\n",
      "|    D. Ingram|1998-08-17| 25|  Male|        O-|       2022-04-21|    2022-05-11|          EMERGENCY| INFECTIOUS_DISEASES|[Influenza, Urina...|[Blood cultures, ...|    Dr. Tammy Bailey|       Cross-Rosales|        101|             Aetna|   48757.698732604|Day Patient|    false|       false|       false|      Dorothy Ingram|     10|Dorothy Ingram_19...|\n",
      "|    D. Ingram|1998-08-17| 25|  Male|        O-|       2022-04-21|    2022-05-11|          EMERGENCY| INFECTIOUS_DISEASES|[Influenza, Urina...|[Blood cultures, ...|Dr. William Mcdonald|       Cross-Rosales|        101|             Aetna|   48757.698732604|  Inpatient|    false|       false|       false|      Dorothy Ingram|     17|Dorothy Ingram_19...|\n",
      "|    C. C. DDS|1941-10-21| 82|Female|       AB+|       2021-01-12|    2021-01-20|        GP_REFERRAL|          GERIATRICS|     [No conditions]|[Comprehensive ge...| Dr. Miguel Benjamin|        Rivera-Allen|        442|             Aetna| 41279.31592714954| Outpatient|     true|        true|       false|Dr. Cheyenne Chen...|      9|Dr. Cheyenne Chen...|\n",
      "|    C. C. DDS|1941-10-21| 82|Female|       AB+|       2021-01-12|    2021-01-20|        GP_REFERRAL|          GERIATRICS|     [No conditions]|[Comprehensive ge...|      Dr. Gary Smith|        Rivera-Allen|        442|             Aetna| 41279.31592714954|  Inpatient|     true|        true|       false|Dr. Cheyenne Chen...|     14|Dr. Cheyenne Chen...|\n",
      "|     C. Smith|2007-07-03| 16|Female|        B+|       2022-02-17|    2022-03-02|        GP_REFERRAL|         PSYCHIATRIC|[Depression, Anxi...|[Psychological ev...|  Dr. Wendy Cummings|        Caldwell LLC|        361|          Medicare| 14376.30531003069|  Inpatient|     true|       false|        true|     Dr. Chris Smith|      8|Dr. Chris Smith_2...|\n",
      "|     C. Smith|2007-07-03| 16|Female|        B+|       2022-02-17|    2022-03-02|        GP_REFERRAL|         PSYCHIATRIC|[Depression, Anxi...|[Psychological ev...|      Dr. Adam Reyes|        Caldwell LLC|        361|          Medicare| 14376.30531003069| Outpatient|     true|       false|        true|     Dr. Chris Smith|      9|Dr. Chris Smith_2...|\n",
      "|     C. Smith|2007-07-03| 16|Female|        B+|       2022-02-17|    2022-03-02|        GP_REFERRAL|         PSYCHIATRIC|[Depression, Anxi...|[Psychological ev...|   Dr. Diana Vasquez|        Caldwell LLC|        361|          Medicare| 14376.30531003069|Day Patient|     true|       false|        true|     Dr. Chris Smith|     10|Dr. Chris Smith_2...|\n",
      "|    S. Taylor|2010-11-22| 13|Female|        A+|       2019-04-30|    2019-05-21|  HOSPITAL_REFERRAL|GASTROINTESTINAL_...|[Gastroesophageal...|          [No tests]|     Dr. Gabriel Cox|      Robinson-Kirby|        140|             Aetna| 20525.26239410496|Day Patient|     true|       false|        true|   Dr. Sherry Taylor|     13|Dr. Sherry Taylor...|\n",
      "|    S. Taylor|2010-11-22| 13|Female|        A+|       2019-04-30|    2019-05-21|  HOSPITAL_REFERRAL|GASTROINTESTINAL_...|[Gastroesophageal...|          [No tests]|Dr. Nicholas Herrera|      Robinson-Kirby|        140|             Aetna| 20525.26239410496|  Inpatient|     true|       false|        true|   Dr. Sherry Taylor|     20|Dr. Sherry Taylor...|\n",
      "|    S. Taylor|2010-11-22| 13|Female|        A+|       2019-04-30|    2019-05-21|  HOSPITAL_REFERRAL|GASTROINTESTINAL_...|[Gastroesophageal...|          [No tests]|    Dr. Matthew Reed|      Robinson-Kirby|        140|             Aetna| 20525.26239410496| Outpatient|     true|       false|        true|   Dr. Sherry Taylor|     29|Dr. Sherry Taylor...|\n",
      "|     E. Lopez|1962-03-21| 61|Female|        O+|       2023-10-05|    2023-10-08|      SELF_REFERRAL|         ORTHOPEDICS|[Osteoarthritis, ...|[X-rays, MRI, CT ...| Dr. Kathy Patterson|Sanchez, Mcintyre...|        414|  UnitedHealthcare| 34659.15796406989| Outpatient|     true|       false|       false|        Edward Lopez|      2|Edward Lopez_1962...|\n",
      "|     E. Smith|1972-03-12| 51|  Male|        A+|       2020-02-12|    2020-02-14|          EMERGENCY|         ORTHOPEDICS|[Osteoarthritis, ...|[X-rays, MRI, CT ...|   Dr. Jackson White|        Bell-Coleman|        310|  UnitedHealthcare| 9794.337983358579|  Inpatient|    false|       false|       false|        Edward Smith|     10|Edward Smith_1972...|\n",
      "|     E. Smith|1972-03-12| 51|  Male|        A+|       2020-02-12|    2020-02-14|          EMERGENCY|         ORTHOPEDICS|[Osteoarthritis, ...|[X-rays, MRI, CT ...|   Dr. Charles Baker|        Bell-Coleman|        310|  UnitedHealthcare| 9794.337983358579| Outpatient|    false|       false|       false|        Edward Smith|     16|Edward Smith_1972...|\n",
      "|     E. Smith|1972-03-12| 51|  Male|        A+|       2020-02-12|    2020-02-14|          EMERGENCY|         ORTHOPEDICS|[Osteoarthritis, ...|[X-rays, MRI, CT ...|   Dr. Kendra Porter|        Bell-Coleman|        310|  UnitedHealthcare| 9794.337983358579|Day Patient|    false|       false|       false|        Edward Smith|     19|Edward Smith_1972...|\n",
      "|     E. Adams|1996-07-09| 27|  Male|       AB-|       2020-07-20|    2020-08-09|          EMERGENCY|      SELF_INFLICTED|     [No conditions]|[Psychological as...|    Dr. Sue Crawford|     Glover and Sons|        292|             Cigna|   41414.986529871|  Inpatient|    false|       false|       false|     Elizabeth Adams|     16|Elizabeth Adams_1...|\n",
      "|     E. Evans|1980-11-26| 43|Female|        O+|       2019-01-22|    2019-02-20|          EMERGENCY|    GASTROENTEROLOGY|[Gastro-oesophage...|[Endoscopy, Colon...|   Dr. Ashley Peters|          Waller PLC|        449|             Aetna|19175.262325931897|Day Patient|     true|       false|       false|     Elizabeth Evans|      2|Elizabeth Evans_1...|\n",
      "|     E. Evans|1980-11-26| 43|Female|        O+|       2019-01-22|    2019-02-20|          EMERGENCY|    GASTROENTEROLOGY|[Gastro-oesophage...|[Endoscopy, Colon...|  Dr. Karen Thompson|          Waller PLC|        449|             Aetna|19175.262325931897| Outpatient|     true|       false|       false|     Elizabeth Evans|     12|Elizabeth Evans_1...|\n",
      "|     E. Evans|1980-11-26| 43|Female|        O+|       2019-01-22|    2019-02-20|          EMERGENCY|    GASTROENTEROLOGY|[Gastro-oesophage...|[Endoscopy, Colon...|  Dr. Crystal Brandt|          Waller PLC|        449|             Aetna|19175.262325931897|  Inpatient|     true|       false|       false|     Elizabeth Evans|     17|Elizabeth Evans_1...|\n",
      "|  E. Peterson|1961-03-15| 62|  Male|       AB-|       2023-08-03|    2023-08-29|        GP_REFERRAL|       ENDOCRINOLOGY|[Diabetes Mellitu...|[Blood tests (hor...|     Dr. Keith Clark|     Wilkinson Group|        419|  UnitedHealthcare|43819.890745822966| Outpatient|    false|       false|       false|  Elizabeth Peterson|      3|Elizabeth Peterso...|\n",
      "|     E. Jones|1969-02-05| 55|Female|       AB-|       2023-10-19|    2023-10-20|      SELF_REFERRAL|         DERMATOLOGY|[Acne, Eczema, Ps...|[Skin biopsy, Pat...|Dr. Stephanie Whe...|Wilson, Stout and...|        247|          Medicare| 41322.48311537493| Outpatient|     true|       false|       false|         Emily Jones|      3|Emily Jones_19690205|\n",
      "|     E. Terry|1991-08-11| 32|  Male|        O-|       2023-01-19|    2023-01-22|          EMERGENCY|           NEUROLOGY|[Migraines, Epile...|[MRI or CT scans ...|     Dr. Deanna Diaz|Jefferson, Mcdona...|        312|        Blue Cross|3230.9943158924525|  Inpatient|    false|       false|       false|         Emily Terry|      1|Emily Terry_19910811|\n",
      "|     E. Terry|1991-08-11| 32|  Male|        O-|       2023-01-19|    2023-01-22|          EMERGENCY|           NEUROLOGY|[Migraines, Epile...|[MRI or CT scans ...|    Dr. Carlos Jones|Jefferson, Mcdona...|        312|        Blue Cross|3230.9943158924525|Day Patient|    false|       false|       false|         Emily Terry|     11|Emily Terry_19910811|\n",
      "|     E. Terry|1991-08-11| 32|  Male|        O-|       2023-01-19|    2023-01-22|          EMERGENCY|           NEUROLOGY|[Migraines, Epile...|[MRI or CT scans ...|   Dr. Denise Parker|Jefferson, Mcdona...|        312|        Blue Cross|3230.9943158924525| Outpatient|    false|       false|       false|         Emily Terry|     25|Emily Terry_19910811|\n",
      "|   E. Padilla|1979-05-29| 44|  Male|        O-|       2020-05-23|    2020-06-15|          EMERGENCY|         ORTHOPEDICS|[Osteoarthritis, ...|[X-rays, MRI, CT ...|   Dr. Charles Baker|        Martin Group|        484|             Aetna| 2133.698601160449| Outpatient|    false|       false|       false|       Erica Padilla|     20|Erica Padilla_197...|\n",
      "|   E. Padilla|1979-05-29| 44|  Male|        O-|       2020-05-23|    2020-06-15|          EMERGENCY|         ORTHOPEDICS|[Osteoarthritis, ...|[X-rays, MRI, CT ...|   Dr. Kendra Porter|        Martin Group|        484|             Aetna| 2133.698601160449|Day Patient|    false|       false|       false|       Erica Padilla|     21|Erica Padilla_197...|\n",
      "|   E. Padilla|1979-05-29| 44|  Male|        O-|       2020-05-23|    2020-06-15|          EMERGENCY|         ORTHOPEDICS|[Osteoarthritis, ...|[X-rays, MRI, CT ...|   Dr. Jackson White|        Martin Group|        484|             Aetna| 2133.698601160449|  Inpatient|    false|       false|       false|       Erica Padilla|     25|Erica Padilla_197...|\n",
      "|     E. Brown|1939-10-01| 84|Female|        B-|       2022-01-29|    2022-02-22|        GP_REFERRAL|           MATERNITY|[Labour and Deliv...|[Ultrasound, Bloo...|  Dr. Patrick Miller|          Norman LLC|        250|          Medicare| 36290.32306418081|  Inpatient|     true|       false|       false|         Erika Brown|      2|Erika Brown_19391001|\n",
      "|     E. Brown|1939-10-01| 84|Female|        B-|       2022-01-29|    2022-02-22|        GP_REFERRAL|           MATERNITY|[Labour and Deliv...|[Ultrasound, Bloo...|   Dr. Joseph Garcia|          Norman LLC|        250|          Medicare| 36290.32306418081|Day Patient|     true|       false|       false|         Erika Brown|      3|Erika Brown_19391001|\n",
      "|     E. Brown|1939-10-01| 84|Female|        B-|       2022-01-29|    2022-02-22|        GP_REFERRAL|           MATERNITY|[Labour and Deliv...|[Ultrasound, Bloo...|     Dr. Laurie Reid|          Norman LLC|        250|          Medicare| 36290.32306418081| Outpatient|     true|       false|       false|         Erika Brown|     14|Erika Brown_19391001|\n",
      "|   E. Johnson|2003-04-26| 20|  Male|        B+|       2020-04-01|    2020-04-20|  HOSPITAL_REFERRAL|             UROLOGY|     [No conditions]|[Urinalysis, Bloo...|   Dr. Rebecca Smith|     Curtis and Sons|        150|        Blue Cross|21484.342749153264|Day Patient|    false|       false|       false|       Erika Johnson|      7|Erika Johnson_200...|\n",
      "|   E. Johnson|2003-04-26| 20|  Male|        B+|       2020-04-01|    2020-04-20|  HOSPITAL_REFERRAL|             UROLOGY|     [No conditions]|[Urinalysis, Bloo...|   Dr. Erica Jenkins|     Curtis and Sons|        150|        Blue Cross|21484.342749153264| Outpatient|    false|       false|       false|       Erika Johnson|     17|Erika Johnson_200...|\n",
      "|   E. Johnson|2003-04-26| 20|  Male|        B+|       2020-04-01|    2020-04-20|  HOSPITAL_REFERRAL|             UROLOGY|     [No conditions]|[Urinalysis, Bloo...|   Dr. Katelyn Rojas|     Curtis and Sons|        150|        Blue Cross|21484.342749153264|  Inpatient|    false|       false|       false|       Erika Johnson|     23|Erika Johnson_200...|\n",
      "|   E. Jackson|1944-06-25| 79|Female|        O-|       2023-03-01|    2023-03-05|          EMERGENCY|    GASTROENTEROLOGY|[Gastro-oesophage...|[Endoscopy, Colon...|   Dr. Ashley Peters|Kent, Stafford an...|        156|        Blue Cross| 15615.09297550578|Day Patient|     true|       false|       false|        Erin Jackson|      6|Erin Jackson_1944...|\n",
      "|   E. Jackson|1944-06-25| 79|Female|        O-|       2023-03-01|    2023-03-05|          EMERGENCY|    GASTROENTEROLOGY|[Gastro-oesophage...|[Endoscopy, Colon...|  Dr. Crystal Brandt|Kent, Stafford an...|        156|        Blue Cross| 15615.09297550578|  Inpatient|     true|       false|       false|        Erin Jackson|     12|Erin Jackson_1944...|\n",
      "|   E. Jackson|1944-06-25| 79|Female|        O-|       2023-03-01|    2023-03-05|          EMERGENCY|    GASTROENTEROLOGY|[Gastro-oesophage...|[Endoscopy, Colon...|  Dr. Karen Thompson|Kent, Stafford an...|        156|        Blue Cross| 15615.09297550578| Outpatient|     true|       false|       false|        Erin Jackson|     19|Erin Jackson_1944...|\n",
      "|  E. Mitchell|1934-11-17| 89|  Male|        B+|       2019-07-15|    2019-08-04|          EMERGENCY|           NEUROLOGY|[Migraines, Epile...|[MRI or CT scans ...|   Dr. Denise Parker|   Reynolds and Sons|        152|             Aetna|20720.024952434513| Outpatient|    false|       false|       false|       Erin Mitchell|      6|Erin Mitchell_193...|\n",
      "|  E. Mitchell|1934-11-17| 89|  Male|        B+|       2019-07-15|    2019-08-04|          EMERGENCY|           NEUROLOGY|[Migraines, Epile...|[MRI or CT scans ...|     Dr. Deanna Diaz|   Reynolds and Sons|        152|             Aetna|20720.024952434513|  Inpatient|    false|       false|       false|       Erin Mitchell|     17|Erin Mitchell_193...|\n",
      "|  E. Mitchell|1934-11-17| 89|  Male|        B+|       2019-07-15|    2019-08-04|          EMERGENCY|           NEUROLOGY|[Migraines, Epile...|[MRI or CT scans ...|    Dr. Carlos Jones|   Reynolds and Sons|        152|             Aetna|20720.024952434513|Day Patient|    false|       false|       false|       Erin Mitchell|     25|Erin Mitchell_193...|\n",
      "|       F. DDS|1952-09-30| 71|Female|        A+|       2022-01-18|    2022-02-13|           ELECTIVE|           MATERNITY|[Labour and Deliv...|[Ultrasound, Bloo...|  Dr. Samantha Singh|Mason, Butler and...|        170|          Medicare|29778.310097694397|  Inpatient|     true|       false|       false|   Eugene Fisher DDS|      1|Eugene Fisher DDS...|\n",
      "|       F. DDS|1952-09-30| 71|Female|        A+|       2022-01-18|    2022-02-13|           ELECTIVE|           MATERNITY|[Labour and Deliv...|[Ultrasound, Bloo...|Dr. Christopher B...|Mason, Butler and...|        170|          Medicare|29778.310097694397|Day Patient|     true|       false|       false|   Eugene Fisher DDS|      2|Eugene Fisher DDS...|\n",
      "|       F. DDS|1952-09-30| 71|Female|        A+|       2022-01-18|    2022-02-13|           ELECTIVE|           MATERNITY|[Labour and Deliv...|[Ultrasound, Bloo...|      Dr. Bryan Bell|Mason, Butler and...|        170|          Medicare|29778.310097694397| Outpatient|     true|       false|       false|   Eugene Fisher DDS|      3|Eugene Fisher DDS...|\n",
      "+-------------+----------+---+------+----------+-----------------+--------------+-------------------+--------------------+--------------------+--------------------+--------------------+--------------------+-----------+------------------+------------------+-----------+---------+------------+------------+--------------------+-------+--------------------+\n"
     ]
    }
   ],
   "source": [
    "(df_renamed.select(\"name\", \"DOB\", \"Age\", \"gender\", \"blood_type\", \"date_of_admission\", \"discharge_date\", \"top_level_admission\", \"sub_level_admission\", \"possible_tests\", \"conditions\", \"doctor\", \"hospital\", \"room_number\", \"insurance_provider\", \"billing_amount\", \"stay_type\", \"is_female\", \"is_geriatric\", \"is_pediatric\", \"stay_name\", \"row_num\", \"unique_id\")\n",
    " # .where(col(\"stay_name\") ==\"Abigail Lamb\")\n",
    " .show(n=200))"
   ],
   "metadata": {
    "collapsed": false,
    "ExecuteTime": {
     "end_time": "2024-02-25T10:58:41.125298Z",
     "start_time": "2024-02-25T10:58:35.381590Z"
    }
   },
   "id": "d88ea8c674b90792"
  },
  {
   "cell_type": "code",
   "execution_count": null,
   "outputs": [],
   "source": [
    "from utils.util_funcs import choose_condition\n",
    "from pyspark.sql.types import StringType\n",
    "from pyspark.sql.functions import udf\n",
    "\n",
    "choose_condition_udf = udf(choose_condition, StringType())\n",
    "df_test = df_renamed.withColumn(\"assigned_condition\", choose_condition_udf(df[\"age\"], df[\"sub_level_admission\"], df[\"conditions_list\"]))\n"
   ],
   "metadata": {
    "collapsed": false
   },
   "id": "9577664b552b65c5"
  },
  {
   "cell_type": "code",
   "execution_count": null,
   "outputs": [],
   "source": [],
   "metadata": {
    "collapsed": false
   },
   "id": "68d4371ffc767013"
  },
  {
   "cell_type": "code",
   "execution_count": 43,
   "outputs": [
    {
     "name": "stderr",
     "output_type": "stream",
     "text": [
      "                                                                                \r"
     ]
    },
    {
     "name": "stdout",
     "output_type": "stream",
     "text": [
      "+----------+----------+---+------+----------+-----------------+--------------+-------------------+-------------------+--------------------+--------------------+--------------------+----------------+-----------+------------------+-----------------+-----------+---------+------------+------------+---------------+-------+--------------------+\n",
      "|      name|       DOB|Age|gender|blood_type|date_of_admission|discharge_date|top_level_admission|sub_level_admission|      possible_tests|          conditions|              doctor|        hospital|room_number|insurance_provider|   billing_amount|  stay_type|is_female|is_geriatric|is_pediatric|      stay_name|row_num|           unique_id|\n",
      "+----------+----------+---+------+----------+-----------------+--------------+-------------------+-------------------+--------------------+--------------------+--------------------+----------------+-----------+------------------+-----------------+-----------+---------+------------+------------+---------------+-------+--------------------+\n",
      "|T. Ramirez|1984-09-30| 39|Female|        O-|       2022-11-17|    2022-12-01|           ELECTIVE|          MATERNITY|[Labour and Deliv...|[Ultrasound, Bloo...|  Dr. Samantha Singh|Wallace-Hamilton|        146|          Medicare|37490.98336352819|  Inpatient|     true|       false|       false|Tiffany Ramirez|      1|Tiffany Ramirez_1...|\n",
      "|T. Ramirez|1984-09-30| 39|Female|        O-|       2022-11-17|    2022-12-01|           ELECTIVE|          MATERNITY|[Labour and Deliv...|[Ultrasound, Bloo...|      Dr. Bryan Bell|Wallace-Hamilton|        146|          Medicare|37490.98336352819| Outpatient|     true|       false|       false|Tiffany Ramirez|      2|Tiffany Ramirez_1...|\n",
      "|T. Ramirez|1984-09-30| 39|Female|        O-|       2022-11-17|    2022-12-01|           ELECTIVE|          MATERNITY|[Labour and Deliv...|[Ultrasound, Bloo...|Dr. Christopher B...|Wallace-Hamilton|        146|          Medicare|37490.98336352819|Day Patient|     true|       false|       false|Tiffany Ramirez|      3|Tiffany Ramirez_1...|\n",
      "+----------+----------+---+------+----------+-----------------+--------------+-------------------+-------------------+--------------------+--------------------+--------------------+----------------+-----------+------------------+-----------------+-----------+---------+------------+------------+---------------+-------+--------------------+\n"
     ]
    }
   ],
   "source": [
    "df_new = df_renamed.drop(\"row_num\")\n",
    "\n",
    "windowSpec = Window.partitionBy('stay_name', 'unique_id').orderBy(rand())\n",
    "\n",
    "# Assign row numbers within each partition in a random order\n",
    "df_new_part = df_new.withColumn(\"row_num\", row_number().over(windowSpec))\n",
    "\n",
    "df_new_part.select([\"name\", \"DOB\", \"Age\", \"gender\", \"blood_type\", \"date_of_admission\", \"discharge_date\", \"top_level_admission\", \"sub_level_admission\", \"possible_tests\", \"conditions\", \"doctor\", \"hospital\", \"room_number\", \"insurance_provider\", \"billing_amount\", \"stay_type\", \"is_female\", \"is_geriatric\", \"is_pediatric\", \"stay_name\", \"row_num\", \"unique_id\"]).where(col(\"stay_name\") ==\"Tiffany Ramirez\").show() "
   ],
   "metadata": {
    "collapsed": false,
    "ExecuteTime": {
     "end_time": "2024-02-25T10:58:49.397399Z",
     "start_time": "2024-02-25T10:58:45.401733Z"
    }
   },
   "id": "bc7aa0cdf857cd7c"
  },
  {
   "cell_type": "code",
   "execution_count": 41,
   "outputs": [
    {
     "data": {
      "text/plain": "['name',\n 'DOB',\n 'Age',\n 'gender',\n 'blood_type',\n 'date_of_admission',\n 'discharge_date',\n 'top_level_admission',\n 'sub_level_admission',\n 'possible_tests',\n 'conditions',\n 'doctor',\n 'hospital',\n 'room_number',\n 'insurance_provider',\n 'billing_amount',\n 'stay_type',\n 'is_female',\n 'is_geriatricis_pediatric',\n 'stay_name',\n 'row_num',\n 'unique_id']"
     },
     "execution_count": 41,
     "metadata": {},
     "output_type": "execute_result"
    }
   ],
   "source": [
    "[\"name\", \"DOB\", \"Age\", \"gender\", \"blood_type\", \"date_of_admission\", \"discharge_date\", \"top_level_admission\", \"sub_level_admission\", \"possible_tests\", \"conditions\", \"doctor\", \"hospital\", \"room_number\", \"insurance_provider\", \"billing_amount\", \"stay_type\", \"is_female\", \"is_geriatric\" \"is_pediatric\", \"stay_name\", \"row_num\", \"unique_id\"]"
   ],
   "metadata": {
    "collapsed": false,
    "ExecuteTime": {
     "end_time": "2024-02-25T10:58:45.403330Z",
     "start_time": "2024-02-25T10:58:45.388596Z"
    }
   },
   "id": "5763dee08b19e6d5"
  },
  {
   "cell_type": "code",
   "execution_count": 42,
   "outputs": [],
   "source": [
    "# TODO:  \n",
    "# medical condition to be  chosen \n",
    "# tests to be chosen\n",
    "# admission date to be checked again dob,  \n",
    "# TODO filter on is pediatric, geriatric and is_female to be done here and same people with dob? needs  to be considered \n",
    "# drop stay_name and unique_id \n"
   ],
   "metadata": {
    "collapsed": false,
    "ExecuteTime": {
     "end_time": "2024-02-25T10:58:45.403557Z",
     "start_time": "2024-02-25T10:58:45.395089Z"
    }
   },
   "id": "a79379063057bfee"
  },
  {
   "cell_type": "code",
   "execution_count": 24,
   "outputs": [],
   "source": [
    "# Filter to keep only the top-ranked row within each partition\n",
    "ranked_df = filtered_df_female"
   ],
   "metadata": {
    "collapsed": false,
    "ExecuteTime": {
     "end_time": "2024-02-25T10:55:01.909225Z",
     "start_time": "2024-02-25T10:55:01.869726Z"
    }
   },
   "id": "4879749b20208b88"
  },
  {
   "cell_type": "code",
   "execution_count": null,
   "outputs": [],
   "source": [
    "from pyspark.sql.types import StringType\n",
    "get_row_count(df, True)\n",
    "df = df_renamed.select([col(c).cast(StringType()).alias(c) for c in df.columns])\n",
    "df.repartition(1000).write.csv('./temp_data/renamed/renamed.csv', mode = 'overwrite', header=True)"
   ],
   "metadata": {
    "collapsed": false,
    "ExecuteTime": {
     "end_time": "2024-02-25T10:55:04.016148Z",
     "start_time": "2024-02-25T10:55:04.014022Z"
    }
   },
   "id": "1eb59205ef488cec"
  },
  {
   "cell_type": "code",
   "execution_count": null,
   "outputs": [],
   "source": [
    "# TODO initialise first name to make data more realistic for name columns i.e. Daniel Mccoy is seen a Male name but here its Female"
   ],
   "metadata": {
    "collapsed": false,
    "ExecuteTime": {
     "end_time": "2024-02-25T10:55:04.034331Z",
     "start_time": "2024-02-25T10:55:04.018759Z"
    }
   },
   "id": "31a9a6e7e0527585"
  },
  {
   "cell_type": "code",
   "execution_count": null,
   "outputs": [],
   "source": [
    "spark.stop()"
   ],
   "metadata": {
    "collapsed": false,
    "ExecuteTime": {
     "start_time": "2024-02-25T10:55:04.022317Z"
    }
   },
   "id": "88f0099b41d9dc86"
  },
  {
   "cell_type": "code",
   "execution_count": null,
   "outputs": [],
   "source": [
    "dict_ = admission_mapping.get(\"emergency\")"
   ],
   "metadata": {
    "collapsed": false,
    "ExecuteTime": {
     "start_time": "2024-02-25T10:55:04.026376Z"
    }
   },
   "id": "e68e3f5c6b955395"
  }
 ],
 "metadata": {
  "kernelspec": {
   "display_name": "Python 3",
   "language": "python",
   "name": "python3"
  },
  "language_info": {
   "codemirror_mode": {
    "name": "ipython",
    "version": 2
   },
   "file_extension": ".py",
   "mimetype": "text/x-python",
   "name": "python",
   "nbconvert_exporter": "python",
   "pygments_lexer": "ipython2",
   "version": "2.7.6"
  }
 },
 "nbformat": 4,
 "nbformat_minor": 5
}
