{
 "cells": [
  {
   "cell_type": "code",
   "execution_count": 1,
   "id": "initial_id",
   "metadata": {
    "collapsed": true,
    "ExecuteTime": {
     "end_time": "2024-01-22T20:58:46.251184Z",
     "start_time": "2024-01-22T20:58:46.163415Z"
    }
   },
   "outputs": [],
   "source": [
    "from data_generator.csv_data_processor import CSVDataProcessor"
   ]
  },
  {
   "cell_type": "code",
   "execution_count": 3,
   "outputs": [],
   "source": [
    "from utils.util_funcs import get_row_count, generate_dob"
   ],
   "metadata": {
    "collapsed": false,
    "ExecuteTime": {
     "end_time": "2024-01-22T21:23:56.957028Z",
     "start_time": "2024-01-22T21:23:56.946773Z"
    }
   },
   "id": "6a71c2f3a532a735"
  },
  {
   "cell_type": "code",
   "execution_count": 3,
   "outputs": [
    {
     "name": "stderr",
     "output_type": "stream",
     "text": [
      "24/01/22 20:58:52 WARN SparkSession: Using an existing Spark session; only runtime SQL configurations will take effect.\n"
     ]
    },
    {
     "name": "stdout",
     "output_type": "stream",
     "text": [
      "runner func.\n"
     ]
    },
    {
     "name": "stderr",
     "output_type": "stream",
     "text": [
      "                                                                                \r"
     ]
    },
    {
     "name": "stdout",
     "output_type": "stream",
     "text": [
      "+--------------------+---+------+----------+-----------------+-----------------+------------------+--------------------+------------------+------------------+-----------+--------------+--------------+-----------+------------+\n",
      "|                name|age|gender|blood_type|medical_condition|date_of_admission|            doctor|            hospital|insurance_provider|    billing_amount|room_number|admission_type|discharge_date| medication|test_results|\n",
      "+--------------------+---+------+----------+-----------------+-----------------+------------------+--------------------+------------------+------------------+-----------+--------------+--------------+-----------+------------+\n",
      "|     Tiffany Ramirez| 81|Female|        O-|         Diabetes|       2022-11-17|    Patrick Parker|    Wallace-Hamilton|          Medicare| 37490.98336352819|        146|      Elective|    2022-12-01|    Aspirin|Inconclusive|\n",
      "|         Ruben Burns| 35|  Male|        O+|           Asthma|       2023-06-01|     Diane Jackson|Burke, Griffin an...|  UnitedHealthcare| 47304.06484547511|        404|     Emergency|    2023-06-15|    Lipitor|      Normal|\n",
      "|           Chad Byrd| 61|  Male|        B-|          Obesity|       2019-01-09|        Paul Baker|          Walton LLC|          Medicare| 36874.89699661277|        292|     Emergency|    2019-02-08|    Lipitor|      Normal|\n",
      "|   Antonio Frederick| 49|  Male|        B-|           Asthma|       2020-05-02|    Brian Chandler|          Garcia Ltd|          Medicare|23303.322092196904|        480|        Urgent|    2020-05-03| Penicillin|    Abnormal|\n",
      "| Mrs. Brandy Flowers| 51|  Male|        O-|        Arthritis|       2021-07-09|    Dustin Griffin|Jones, Brown and ...|  UnitedHealthcare|18086.344183563877|        477|        Urgent|    2021-08-02|Paracetamol|      Normal|\n",
      "|      Patrick Parker| 41|  Male|       AB+|        Arthritis|       2020-08-20|       Robin Green|            Boyd PLC|             Aetna|22522.363384853266|        180|        Urgent|    2020-08-23|    Aspirin|    Abnormal|\n",
      "|      Charles Horton| 82|  Male|       AB+|     Hypertension|       2021-03-22|   Patricia Bishop|Wheeler, Bryant a...|             Cigna|  39593.4357611308|        161|        Urgent|    2021-04-15|    Lipitor|    Abnormal|\n",
      "|        Patty Norman| 55|Female|        O-|        Arthritis|       2019-05-16|     Brian Kennedy|           Brown Inc|        Blue Cross|13546.817249364824|        384|      Elective|    2019-06-02|    Aspirin|      Normal|\n",
      "|          Ryan Hayes| 33|  Male|        A+|         Diabetes|       2020-12-17|      Kristin Dunn|Smith, Edwards an...|             Aetna| 24903.03726973869|        215|      Elective|    2020-12-22|    Aspirin|    Abnormal|\n",
      "|        Sharon Perez| 39|Female|        O-|           Asthma|       2022-12-15|    Jessica Bailey|        Brown-Golden|        Blue Cross|22788.236026376766|        310|        Urgent|    2022-12-16|    Aspirin|      Normal|\n",
      "|         Amy Roberts| 45|  Male|        B-|           Cancer|       2021-04-13|   Anthony Roberts|      Little-Spencer|             Aetna|40325.071393983046|        306|     Emergency|    2021-05-11| Penicillin|    Abnormal|\n",
      "|Mrs. Caroline Far...| 23|Female|        O-|     Hypertension|       2019-06-09|    William Miller|            Rose Inc|          Medicare| 6185.903529552847|        126|     Emergency|    2019-06-26|Paracetamol|Inconclusive|\n",
      "|  Christina Williams| 85|Female|        A+|         Diabetes|       2021-11-29|     Laura Roberts|Malone, Thompson ...|             Aetna| 4835.945649525413|        444|      Elective|    2021-12-14|    Aspirin|Inconclusive|\n",
      "|        William Page| 72|Female|        A+|         Diabetes|       2021-07-29|      James Carney|   Richardson-Powell|             Cigna|13669.377744164889|        492|      Elective|    2021-08-14|    Aspirin|      Normal|\n",
      "|    Michael Bradshaw| 65|Female|       AB+|           Cancer|       2021-06-05|    Katherine Lowe|     Castaneda-Hardy|             Cigna|10342.836123527373|        120|     Emergency|    2021-06-25|  Ibuprofen|Inconclusive|\n",
      "|        Brian Dorsey| 32|Female|        O+|        Arthritis|       2021-08-07|      Curtis Smith|         Burch-White|             Aetna|27174.942906232496|        492|     Emergency|    2021-08-14|    Aspirin|Inconclusive|\n",
      "|     Olivia Gonzalez| 64|  Male|       AB-|         Diabetes|       2019-11-15|  Clayton Mcknight| Cunningham and Sons|             Aetna|17394.994264453202|        315|      Elective|    2019-12-04|    Aspirin|Inconclusive|\n",
      "|     Teresa Caldwell| 23|  Male|        A+|        Arthritis|       2022-03-08|      Debra Meyers|Bell, Mcknight an...|          Medicare| 45213.53762641964|        475|      Elective|    2022-03-16|  Ibuprofen|Inconclusive|\n",
      "| Desiree Williams MD| 66|  Male|        O+|          Obesity|       2022-06-19|     Megan Sanders|         Pugh-Rogers|  UnitedHealthcare|  4262.91157816964|        125|      Elective|    2022-06-29|    Aspirin|Inconclusive|\n",
      "|          Sally Shaw| 80|  Male|        O-|        Arthritis|       2019-07-10|Zachary Horton DDS|Rush, Owens and J...|        Blue Cross|16609.311817449878|        366|     Emergency|    2019-08-07|  Ibuprofen|Inconclusive|\n",
      "+--------------------+---+------+----------+-----------------+-----------------+------------------+--------------------+------------------+------------------+-----------+--------------+--------------+-----------+------------+\n",
      "10000\n"
     ]
    }
   ],
   "source": [
    "from pyspark.sql import SparkSession\n",
    "\n",
    "spark = SparkSession.builder.appName(\"ETL\").getOrCreate()\n",
    "\n",
    "csv_reader = CSVDataProcessor(spark, \"data/healthcare_dataset.csv\")\n",
    "\n",
    "# Read the CSV file\n",
    "df = csv_reader.run()\n",
    "\n",
    "# Show DataFrame\n",
    "df.show()\n",
    "df.createOrReplaceTempView(\"raw_healthcare_data\")\n",
    "get_row_count(df)\n"
   ],
   "metadata": {
    "collapsed": false,
    "ExecuteTime": {
     "end_time": "2024-01-22T20:59:00.414806Z",
     "start_time": "2024-01-22T20:58:52.943727Z"
    }
   },
   "id": "edddbd10a6d1a787"
  },
  {
   "cell_type": "code",
   "execution_count": 4,
   "outputs": [],
   "source": [
    "# distinct_docs = spark.sql(f\"select distinct Doctor from raw_healthcare_data\")"
   ],
   "metadata": {
    "collapsed": false,
    "ExecuteTime": {
     "end_time": "2024-01-22T20:59:00.415187Z",
     "start_time": "2024-01-22T20:59:00.371100Z"
    }
   },
   "id": "62a36aacde33aed7"
  },
  {
   "cell_type": "code",
   "execution_count": 5,
   "outputs": [],
   "source": [
    "# distinct_docs.show()"
   ],
   "metadata": {
    "collapsed": false,
    "ExecuteTime": {
     "end_time": "2024-01-22T20:59:00.415442Z",
     "start_time": "2024-01-22T20:59:00.378294Z"
    }
   },
   "id": "2a98e27b2331f87"
  },
  {
   "cell_type": "code",
   "execution_count": 6,
   "outputs": [],
   "source": [
    "# distinct_patients_age = spark.sql(\"SELECT DISTINCT Name, Age FROM raw_healthcare_data\")\n",
    "# distinct_patients_name = spark.sql(\"SELECT DISTINCT Name FROM raw_healthcare_data\")"
   ],
   "metadata": {
    "collapsed": false,
    "ExecuteTime": {
     "end_time": "2024-01-22T20:59:00.418574Z",
     "start_time": "2024-01-22T20:59:00.408755Z"
    }
   },
   "id": "5d90875e2e09ab32"
  },
  {
   "cell_type": "code",
   "execution_count": 7,
   "outputs": [],
   "source": [
    "# get_row_count(distinct_patients_name)\n",
    "# get_row_count(distinct_patients_age)\n"
   ],
   "metadata": {
    "collapsed": false,
    "ExecuteTime": {
     "end_time": "2024-01-22T20:59:00.428836Z",
     "start_time": "2024-01-22T20:59:00.416952Z"
    }
   },
   "id": "260418ec40990af6"
  },
  {
   "cell_type": "code",
   "execution_count": 8,
   "outputs": [],
   "source": [
    "# admission_types = spark.sql(\"SELECT DISTINCT Admission_Type FROM raw_healthcare_data\")"
   ],
   "metadata": {
    "collapsed": false,
    "ExecuteTime": {
     "end_time": "2024-01-22T20:59:00.429430Z",
     "start_time": "2024-01-22T20:59:00.423363Z"
    }
   },
   "id": "8113f6221924f448"
  },
  {
   "cell_type": "code",
   "execution_count": 9,
   "outputs": [],
   "source": [
    "# get_row_count(admission_types)"
   ],
   "metadata": {
    "collapsed": false,
    "ExecuteTime": {
     "end_time": "2024-01-22T20:59:00.444915Z",
     "start_time": "2024-01-22T20:59:00.429595Z"
    }
   },
   "id": "fabfc1555b7896a8"
  },
  {
   "cell_type": "code",
   "execution_count": 10,
   "outputs": [],
   "source": [
    "new_admission_types = [\"emergency\", \"gp_referral\", \"hospital_referral\", \"self_referral\", \"elective\"]\n",
    "sub_admission_types = [\n",
    "    \"maternity\", \"mental\", \"injury_rtc\", \"urgent\", \"self_inflicted\", \"cancer\",\n",
    "    \"neurology\", \"cardiology\", \"orthopedics\", \"pediatrics\", \"gastroenterology\",\n",
    "    \"pulmonology\", \"nephrology\", \"endocrinology\", \"dermatology\", \"oncology\",\n",
    "    \"ophthalmology\", \"otorhinolaryngology(ENT)\", \"geriatrics\", \"obstetrics\", \"infectious_diseases\"\n",
    "]\n",
    "stay_type = [\"outpatient\", \"inpatient\", \"day_patient\"]\n",
    "\n",
    "sub_admission_tests = {\n",
    "    \"maternity\": [\"Ultrasound\", \"Blood tests\", \"Glucose tolerance test\", \"Amniocentesis\"],\n",
    "    \"mental\": [\"Psychological evaluation\", \"Blood tests\", \"Brain imaging (MRI, CT scans)\", \"Electroencephalogram (EEG)\"],\n",
    "    \"injury_rtc\": [\"X-rays\", \"CT scans\", \"MRI\", \"Ultrasound\", \"Blood tests\"],\n",
    "    \"urgent\": [\"Varies by condition\", \"Blood tests\", \"X-rays\", \"ECG\", \"CT scans\", \"MRI\"],\n",
    "    \"self_inflicted\": [\"Psychological assessment\", \"X-rays (for physical injuries)\", \"Blood tests\", \"Toxicology screening\"],\n",
    "    \"cancer\": [\"Biopsy\", \"Blood tests\", \"MRI\", \"CT scans\", \"PET scans\", \"X-rays\", \"Ultrasound\"],\n",
    "    \"neurology\": [\"MRI or CT scans of the brain\", \"Electroencephalogram (EEG)\", \"Lumbar puncture\", \"Nerve conduction studies\", \"Blood tests\"],\n",
    "    \"cardiology\": [\"ECG\", \"Echocardiogram\", \"Stress tests\", \"Cardiac catheterization\", \"Blood tests\"],\n",
    "    \"orthopedics\": [\"X-rays\", \"MRI\", \"CT scans\", \"Bone scans\", \"Blood tests\"],\n",
    "    \"pediatrics\": [\"Blood tests\", \"Urine tests\", \"X-rays\", \"Ultrasound\", \"MRI\", \"Developmental screening tests\"],\n",
    "    \"gastroenterology\": [\"Endoscopy\", \"Colonoscopy\", \"Blood tests\", \"Stool tests\", \"Abdominal ultrasound\", \"CT scan\"],\n",
    "    \"pulmonology\": [\"Pulmonary function tests\", \"Chest X-ray\", \"CT scan\", \"Bronchoscopy\"],\n",
    "    \"nephrology\": [\"Blood tests (renal function tests)\", \"Urine tests\", \"Ultrasound of the kidneys\", \"Biopsy\"],\n",
    "    \"endocrinology\": [\"Blood tests (hormone levels)\", \"Thyroid function tests\", \"Bone density tests\"],\n",
    "    \"dermatology\": [\"Skin biopsy\", \"Patch tests\", \"Skin scrapings\", \"Blood tests\"],\n",
    "    \"oncology\": [\"Biopsies\", \"Blood tests\", \"Imaging tests (CT, MRI, PET scans)\"],\n",
    "    \"ophthalmology\": [\"Eye exam\", \"Tonometry (eye pressure test)\", \"Retinal imaging\", \"Visual field test\"],\n",
    "    \"otorhinolaryngology\": [\"Hearing tests\", \"Endoscopy of the ear/nose/throat\", \"Imaging tests (CT or MRI)\"],\n",
    "    \"geriatrics\": [\"Comprehensive geriatric assessment\", \"Blood tests\", \"Bone density scans\", \"Cognitive tests\"],\n",
    "    \"obstetrics\": [\"Ultrasound\", \"Blood tests\", \"Glucose tolerance test\", \"Amniocentesis\", \"Cervical screening\"],\n",
    "    \"infectious_diseases\": [\"Blood cultures\", \"PCR tests\", \"Antibody tests\", \"Imaging (e.g., chest X-ray for pneumonia)\", \"Lumbar puncture\"]\n",
    "}\n"
   ],
   "metadata": {
    "collapsed": false,
    "ExecuteTime": {
     "end_time": "2024-01-22T20:59:00.507488Z",
     "start_time": "2024-01-22T20:59:00.444132Z"
    }
   },
   "id": "aa102fdf63231a94"
  },
  {
   "cell_type": "markdown",
   "source": [],
   "metadata": {
    "collapsed": false
   },
   "id": "91cbf2450129e737"
  },
  {
   "cell_type": "code",
   "execution_count": 11,
   "outputs": [],
   "source": [
    "df_with_dob = df.withColumn(\"DOB\", generate_dob()).drop(\"age\")\n"
   ],
   "metadata": {
    "collapsed": false,
    "ExecuteTime": {
     "end_time": "2024-01-22T20:59:00.556682Z",
     "start_time": "2024-01-22T20:59:00.453859Z"
    }
   },
   "id": "b732381e81d3f08d"
  },
  {
   "cell_type": "code",
   "execution_count": 12,
   "outputs": [
    {
     "name": "stderr",
     "output_type": "stream",
     "text": [
      "[Stage 6:>                                                          (0 + 1) / 1]\r"
     ]
    },
    {
     "name": "stdout",
     "output_type": "stream",
     "text": [
      "+--------------------+------+----------+-----------------+-----------------+------------------+--------------------+------------------+------------------+-----------+--------------+--------------+-----------+------------+--------+\n",
      "|                name|gender|blood_type|medical_condition|date_of_admission|            doctor|            hospital|insurance_provider|    billing_amount|room_number|admission_type|discharge_date| medication|test_results|     DOB|\n",
      "+--------------------+------+----------+-----------------+-----------------+------------------+--------------------+------------------+------------------+-----------+--------------+--------------+-----------+------------+--------+\n",
      "|     Tiffany Ramirez|Female|        O-|         Diabetes|       2022-11-17|    Patrick Parker|    Wallace-Hamilton|          Medicare| 37490.98336352819|        146|      Elective|    2022-12-01|    Aspirin|Inconclusive|19580204|\n",
      "|         Ruben Burns|  Male|        O+|           Asthma|       2023-06-01|     Diane Jackson|Burke, Griffin an...|  UnitedHealthcare| 47304.06484547511|        404|     Emergency|    2023-06-15|    Lipitor|      Normal|19880421|\n",
      "|           Chad Byrd|  Male|        B-|          Obesity|       2019-01-09|        Paul Baker|          Walton LLC|          Medicare| 36874.89699661277|        292|     Emergency|    2019-02-08|    Lipitor|      Normal|19941204|\n",
      "|   Antonio Frederick|  Male|        B-|           Asthma|       2020-05-02|    Brian Chandler|          Garcia Ltd|          Medicare|23303.322092196904|        480|        Urgent|    2020-05-03| Penicillin|    Abnormal|20061005|\n",
      "| Mrs. Brandy Flowers|  Male|        O-|        Arthritis|       2021-07-09|    Dustin Griffin|Jones, Brown and ...|  UnitedHealthcare|18086.344183563877|        477|        Urgent|    2021-08-02|Paracetamol|      Normal|19830612|\n",
      "|      Patrick Parker|  Male|       AB+|        Arthritis|       2020-08-20|       Robin Green|            Boyd PLC|             Aetna|22522.363384853266|        180|        Urgent|    2020-08-23|    Aspirin|    Abnormal|19551009|\n",
      "|      Charles Horton|  Male|       AB+|     Hypertension|       2021-03-22|   Patricia Bishop|Wheeler, Bryant a...|             Cigna|  39593.4357611308|        161|        Urgent|    2021-04-15|    Lipitor|    Abnormal|19850907|\n",
      "|        Patty Norman|Female|        O-|        Arthritis|       2019-05-16|     Brian Kennedy|           Brown Inc|        Blue Cross|13546.817249364824|        384|      Elective|    2019-06-02|    Aspirin|      Normal|19420901|\n",
      "|          Ryan Hayes|  Male|        A+|         Diabetes|       2020-12-17|      Kristin Dunn|Smith, Edwards an...|             Aetna| 24903.03726973869|        215|      Elective|    2020-12-22|    Aspirin|    Abnormal|19850422|\n",
      "|        Sharon Perez|Female|        O-|           Asthma|       2022-12-15|    Jessica Bailey|        Brown-Golden|        Blue Cross|22788.236026376766|        310|        Urgent|    2022-12-16|    Aspirin|      Normal|19420507|\n",
      "|         Amy Roberts|  Male|        B-|           Cancer|       2021-04-13|   Anthony Roberts|      Little-Spencer|             Aetna|40325.071393983046|        306|     Emergency|    2021-05-11| Penicillin|    Abnormal|19760529|\n",
      "|Mrs. Caroline Far...|Female|        O-|     Hypertension|       2019-06-09|    William Miller|            Rose Inc|          Medicare| 6185.903529552847|        126|     Emergency|    2019-06-26|Paracetamol|Inconclusive|19940705|\n",
      "|  Christina Williams|Female|        A+|         Diabetes|       2021-11-29|     Laura Roberts|Malone, Thompson ...|             Aetna| 4835.945649525413|        444|      Elective|    2021-12-14|    Aspirin|Inconclusive|19760416|\n",
      "|        William Page|Female|        A+|         Diabetes|       2021-07-29|      James Carney|   Richardson-Powell|             Cigna|13669.377744164889|        492|      Elective|    2021-08-14|    Aspirin|      Normal|20040205|\n",
      "|    Michael Bradshaw|Female|       AB+|           Cancer|       2021-06-05|    Katherine Lowe|     Castaneda-Hardy|             Cigna|10342.836123527373|        120|     Emergency|    2021-06-25|  Ibuprofen|Inconclusive|19820226|\n",
      "|        Brian Dorsey|Female|        O+|        Arthritis|       2021-08-07|      Curtis Smith|         Burch-White|             Aetna|27174.942906232496|        492|     Emergency|    2021-08-14|    Aspirin|Inconclusive|19841224|\n",
      "|     Olivia Gonzalez|  Male|       AB-|         Diabetes|       2019-11-15|  Clayton Mcknight| Cunningham and Sons|             Aetna|17394.994264453202|        315|      Elective|    2019-12-04|    Aspirin|Inconclusive|19350124|\n",
      "|     Teresa Caldwell|  Male|        A+|        Arthritis|       2022-03-08|      Debra Meyers|Bell, Mcknight an...|          Medicare| 45213.53762641964|        475|      Elective|    2022-03-16|  Ibuprofen|Inconclusive|19350225|\n",
      "| Desiree Williams MD|  Male|        O+|          Obesity|       2022-06-19|     Megan Sanders|         Pugh-Rogers|  UnitedHealthcare|  4262.91157816964|        125|      Elective|    2022-06-29|    Aspirin|Inconclusive|19730216|\n",
      "|          Sally Shaw|  Male|        O-|        Arthritis|       2019-07-10|Zachary Horton DDS|Rush, Owens and J...|        Blue Cross|16609.311817449878|        366|     Emergency|    2019-08-07|  Ibuprofen|Inconclusive|19760312|\n",
      "+--------------------+------+----------+-----------------+-----------------+------------------+--------------------+------------------+------------------+-----------+--------------+--------------+-----------+------------+--------+\n"
     ]
    },
    {
     "name": "stderr",
     "output_type": "stream",
     "text": [
      "                                                                                \r"
     ]
    }
   ],
   "source": [
    "df_with_dob.show()"
   ],
   "metadata": {
    "collapsed": false,
    "ExecuteTime": {
     "end_time": "2024-01-22T20:59:01.851788Z",
     "start_time": "2024-01-22T20:59:00.546681Z"
    }
   },
   "id": "91bc9bb3fb026ae4"
  },
  {
   "cell_type": "code",
   "execution_count": 96,
   "outputs": [],
   "source": [
    "import random\n",
    "from datetime import datetime\n",
    "from constants.admission_types_tests_dataset import new_admission_types, admission_mapping, stay_type, admission_tests\n",
    "\n",
    "def select_random_tests(sub_admission_type):\n",
    "    tests = admission_tests.get(sub_admission_type, [])\n",
    "    number_of_tests = random.randint(1, len(tests))  # Randomly choose how many tests to include\n",
    "    return random.sample(tests, number_of_tests)  # Randomly select tests\n",
    "\n",
    "\n",
    "def create_new_admission_data(gender: str, dob: str):\n",
    "    def select_sub_admission():\n",
    "        return random.choice(list(sub_admission_dict.keys()))\n",
    "    \n",
    "    female_only = [\"maternity\", \"obstetrics\"]\n",
    "    \n",
    "    # calculate if a pediatric case\n",
    "    today = datetime.now()\n",
    "    dob_date = datetime.strptime(dob, \"%Y%m%d\")\n",
    "    age = today.year - dob_date.year - ((today.month, today.day) < (dob_date.month, dob_date.day))\n",
    "    \n",
    "    ped_case = \"pediatrics\" if age < 18 else ''\n",
    "    \n",
    "    print('CHILD ', ped_case)\n",
    "    selected_new_admission_type = random.choice(list(admission_mapping.keys()))\n",
    "    sub_admission_dict = admission_mapping[selected_new_admission_type]\n",
    "    selected_sub_admission_type = select_sub_admission()\n",
    "    if gender.lower() == \"male\":\n",
    "        while selected_sub_admission_type in female_only:\n",
    "            print('CHOOSE AGAIN!')\n",
    "            selected_sub_admission_type = select_sub_admission()  \n",
    "            print(selected_sub_admission_type)\n",
    "    if gender.lower() == 'female':\n",
    "        print('FEMALE')\n",
    "        while selected_sub_admission_type == female_only[0] and age < 16:\n",
    "            print('TOO YOUNG')\n",
    "            selected_sub_admission_type = select_sub_admission()\n",
    "            break\n",
    "    selected_stay_type = random.choice(list(sub_admission_dict[selected_sub_admission_type]))\n",
    "    selected_tests = select_random_tests(selected_sub_admission_type)\n",
    "    \n",
    "    print(f\"Selected Admission Type: {selected_new_admission_type}\")\n",
    "    print(f\"Selected Sub-Admission Type: {selected_sub_admission_type}\")\n",
    "    print(f\"Selected Stay Type: {selected_stay_type}\")\n",
    "    print(f\"Selected Tests: {selected_tests}\")"
   ],
   "metadata": {
    "collapsed": false,
    "ExecuteTime": {
     "end_time": "2024-01-22T22:22:07.146582Z",
     "start_time": "2024-01-22T22:22:07.136548Z"
    }
   },
   "id": "4315d5dd01e83d99"
  },
  {
   "cell_type": "code",
   "execution_count": 97,
   "outputs": [
    {
     "name": "stdout",
     "output_type": "stream",
     "text": [
      "CHILD  pediatrics\n",
      "FEMALE\n",
      "Selected Admission Type: gp_referral\n",
      "Selected Sub-Admission Type: endocrinology\n",
      "Selected Stay Type: outpatient\n",
      "Selected Tests: ['Bone density tests', 'Thyroid function tests']\n"
     ]
    }
   ],
   "source": [
    "create_new_admission_data(\"female\", \"20200302\")"
   ],
   "metadata": {
    "collapsed": false,
    "ExecuteTime": {
     "end_time": "2024-01-22T22:22:07.416440Z",
     "start_time": "2024-01-22T22:22:07.401970Z"
    }
   },
   "id": "7801bbc0146e42c7"
  }
 ],
 "metadata": {
  "kernelspec": {
   "display_name": "Python 3",
   "language": "python",
   "name": "python3"
  },
  "language_info": {
   "codemirror_mode": {
    "name": "ipython",
    "version": 2
   },
   "file_extension": ".py",
   "mimetype": "text/x-python",
   "name": "python",
   "nbconvert_exporter": "python",
   "pygments_lexer": "ipython2",
   "version": "2.7.6"
  }
 },
 "nbformat": 4,
 "nbformat_minor": 5
}
