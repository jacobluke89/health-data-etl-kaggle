{
 "cells": [
  {
   "cell_type": "code",
   "execution_count": 1,
   "id": "initial_id",
   "metadata": {
    "collapsed": true,
    "ExecuteTime": {
     "end_time": "2024-01-14T22:54:57.752441Z",
     "start_time": "2024-01-14T22:54:57.656570Z"
    }
   },
   "outputs": [],
   "source": [
    "from data_generator.csv_data_processor import CSVDataProcessor"
   ]
  },
  {
   "cell_type": "code",
   "execution_count": 2,
   "outputs": [
    {
     "name": "stderr",
     "output_type": "stream",
     "text": [
      "Setting default log level to \"WARN\".\n",
      "To adjust logging level use sc.setLogLevel(newLevel). For SparkR, use setLogLevel(newLevel).\n",
      "24/01/14 22:55:01 WARN NativeCodeLoader: Unable to load native-hadoop library for your platform... using builtin-java classes where applicable\n"
     ]
    },
    {
     "name": "stdout",
     "output_type": "stream",
     "text": [
      "Welcome to\n",
      "      ____              __\n",
      "     / __/__  ___ _____/ /__\n",
      "    _\\ \\/ _ \\/ _ `/ __/  '_/\n",
      "   /__ / .__/\\_,_/_/ /_/\\_\\   version 3.5.0\n",
      "      /_/\n",
      "\n",
      "Using Python version 3.11.4 (v3.11.4:d2340ef257, Jun  6 2023 19:15:51)\n",
      "Spark context Web UI available at http://192.168.0.87:4040\n",
      "Spark context available as 'sc' (master = local[*], app id = local-1705272902784).\n",
      "SparkSession available as 'spark'.\n"
     ]
    }
   ],
   "source": [
    "from utils.util_funcs import get_row_count"
   ],
   "metadata": {
    "collapsed": false,
    "ExecuteTime": {
     "end_time": "2024-01-14T22:55:03.469462Z",
     "start_time": "2024-01-14T22:54:58.329107Z"
    }
   },
   "id": "6a71c2f3a532a735"
  },
  {
   "cell_type": "code",
   "execution_count": 3,
   "outputs": [
    {
     "name": "stderr",
     "output_type": "stream",
     "text": [
      "24/01/14 22:55:04 WARN SparkSession: Using an existing Spark session; only runtime SQL configurations will take effect.\n"
     ]
    },
    {
     "name": "stdout",
     "output_type": "stream",
     "text": [
      "runner func.\n"
     ]
    },
    {
     "name": "stderr",
     "output_type": "stream",
     "text": [
      "                                                                                \r"
     ]
    },
    {
     "name": "stdout",
     "output_type": "stream",
     "text": [
      "+--------------------+---+------+----------+-----------------+-----------------+------------------+--------------------+------------------+------------------+-----------+--------------+--------------+-----------+------------+\n",
      "|                name|age|gender|blood_type|medical_condition|date_of_admission|            doctor|            hospital|insurance_provider|    billing_amount|room_number|admission_type|discharge_date| medication|test_results|\n",
      "+--------------------+---+------+----------+-----------------+-----------------+------------------+--------------------+------------------+------------------+-----------+--------------+--------------+-----------+------------+\n",
      "|     Tiffany Ramirez| 81|Female|        O-|         Diabetes|       2022-11-17|    Patrick Parker|    Wallace-Hamilton|          Medicare| 37490.98336352819|        146|      Elective|    2022-12-01|    Aspirin|Inconclusive|\n",
      "|         Ruben Burns| 35|  Male|        O+|           Asthma|       2023-06-01|     Diane Jackson|Burke, Griffin an...|  UnitedHealthcare| 47304.06484547511|        404|     Emergency|    2023-06-15|    Lipitor|      Normal|\n",
      "|           Chad Byrd| 61|  Male|        B-|          Obesity|       2019-01-09|        Paul Baker|          Walton LLC|          Medicare| 36874.89699661277|        292|     Emergency|    2019-02-08|    Lipitor|      Normal|\n",
      "|   Antonio Frederick| 49|  Male|        B-|           Asthma|       2020-05-02|    Brian Chandler|          Garcia Ltd|          Medicare|23303.322092196904|        480|        Urgent|    2020-05-03| Penicillin|    Abnormal|\n",
      "| Mrs. Brandy Flowers| 51|  Male|        O-|        Arthritis|       2021-07-09|    Dustin Griffin|Jones, Brown and ...|  UnitedHealthcare|18086.344183563877|        477|        Urgent|    2021-08-02|Paracetamol|      Normal|\n",
      "|      Patrick Parker| 41|  Male|       AB+|        Arthritis|       2020-08-20|       Robin Green|            Boyd PLC|             Aetna|22522.363384853266|        180|        Urgent|    2020-08-23|    Aspirin|    Abnormal|\n",
      "|      Charles Horton| 82|  Male|       AB+|     Hypertension|       2021-03-22|   Patricia Bishop|Wheeler, Bryant a...|             Cigna|  39593.4357611308|        161|        Urgent|    2021-04-15|    Lipitor|    Abnormal|\n",
      "|        Patty Norman| 55|Female|        O-|        Arthritis|       2019-05-16|     Brian Kennedy|           Brown Inc|        Blue Cross|13546.817249364824|        384|      Elective|    2019-06-02|    Aspirin|      Normal|\n",
      "|          Ryan Hayes| 33|  Male|        A+|         Diabetes|       2020-12-17|      Kristin Dunn|Smith, Edwards an...|             Aetna| 24903.03726973869|        215|      Elective|    2020-12-22|    Aspirin|    Abnormal|\n",
      "|        Sharon Perez| 39|Female|        O-|           Asthma|       2022-12-15|    Jessica Bailey|        Brown-Golden|        Blue Cross|22788.236026376766|        310|        Urgent|    2022-12-16|    Aspirin|      Normal|\n",
      "|         Amy Roberts| 45|  Male|        B-|           Cancer|       2021-04-13|   Anthony Roberts|      Little-Spencer|             Aetna|40325.071393983046|        306|     Emergency|    2021-05-11| Penicillin|    Abnormal|\n",
      "|Mrs. Caroline Far...| 23|Female|        O-|     Hypertension|       2019-06-09|    William Miller|            Rose Inc|          Medicare| 6185.903529552847|        126|     Emergency|    2019-06-26|Paracetamol|Inconclusive|\n",
      "|  Christina Williams| 85|Female|        A+|         Diabetes|       2021-11-29|     Laura Roberts|Malone, Thompson ...|             Aetna| 4835.945649525413|        444|      Elective|    2021-12-14|    Aspirin|Inconclusive|\n",
      "|        William Page| 72|Female|        A+|         Diabetes|       2021-07-29|      James Carney|   Richardson-Powell|             Cigna|13669.377744164889|        492|      Elective|    2021-08-14|    Aspirin|      Normal|\n",
      "|    Michael Bradshaw| 65|Female|       AB+|           Cancer|       2021-06-05|    Katherine Lowe|     Castaneda-Hardy|             Cigna|10342.836123527373|        120|     Emergency|    2021-06-25|  Ibuprofen|Inconclusive|\n",
      "|        Brian Dorsey| 32|Female|        O+|        Arthritis|       2021-08-07|      Curtis Smith|         Burch-White|             Aetna|27174.942906232496|        492|     Emergency|    2021-08-14|    Aspirin|Inconclusive|\n",
      "|     Olivia Gonzalez| 64|  Male|       AB-|         Diabetes|       2019-11-15|  Clayton Mcknight| Cunningham and Sons|             Aetna|17394.994264453202|        315|      Elective|    2019-12-04|    Aspirin|Inconclusive|\n",
      "|     Teresa Caldwell| 23|  Male|        A+|        Arthritis|       2022-03-08|      Debra Meyers|Bell, Mcknight an...|          Medicare| 45213.53762641964|        475|      Elective|    2022-03-16|  Ibuprofen|Inconclusive|\n",
      "| Desiree Williams MD| 66|  Male|        O+|          Obesity|       2022-06-19|     Megan Sanders|         Pugh-Rogers|  UnitedHealthcare|  4262.91157816964|        125|      Elective|    2022-06-29|    Aspirin|Inconclusive|\n",
      "|          Sally Shaw| 80|  Male|        O-|        Arthritis|       2019-07-10|Zachary Horton DDS|Rush, Owens and J...|        Blue Cross|16609.311817449878|        366|     Emergency|    2019-08-07|  Ibuprofen|Inconclusive|\n",
      "+--------------------+---+------+----------+-----------------+-----------------+------------------+--------------------+------------------+------------------+-----------+--------------+--------------+-----------+------------+\n",
      "10000\n"
     ]
    }
   ],
   "source": [
    "from pyspark.sql import SparkSession\n",
    "\n",
    "spark = SparkSession.builder.appName(\"ETL\").getOrCreate()\n",
    "\n",
    "csv_reader = CSVDataProcessor(spark, \"data/healthcare_dataset.csv\")\n",
    "\n",
    "# Read the CSV file\n",
    "df = csv_reader.run()\n",
    "\n",
    "# Show DataFrame\n",
    "df.show()\n",
    "df.createOrReplaceTempView(\"raw_healthcare_data\")\n",
    "get_row_count(df)\n"
   ],
   "metadata": {
    "collapsed": false,
    "ExecuteTime": {
     "end_time": "2024-01-14T22:55:11.999743Z",
     "start_time": "2024-01-14T22:55:03.467398Z"
    }
   },
   "id": "edddbd10a6d1a787"
  },
  {
   "cell_type": "code",
   "execution_count": 4,
   "outputs": [],
   "source": [
    "distinct_docs = spark.sql(f\"select distinct Doctor from raw_healthcare_data\")"
   ],
   "metadata": {
    "collapsed": false,
    "ExecuteTime": {
     "end_time": "2024-01-14T22:55:12.088024Z",
     "start_time": "2024-01-14T22:55:11.999158Z"
    }
   },
   "id": "62a36aacde33aed7"
  },
  {
   "cell_type": "code",
   "execution_count": 5,
   "outputs": [
    {
     "name": "stdout",
     "output_type": "stream",
     "text": [
      "+----------------+\n",
      "|          Doctor|\n",
      "+----------------+\n",
      "| Gabrielle Pitts|\n",
      "|      Erika Long|\n",
      "|    Annette Cook|\n",
      "|  Danny Mcdaniel|\n",
      "|   Mary Williams|\n",
      "|      Anna Lyons|\n",
      "|  Carolyn Howard|\n",
      "|    Marcia Davis|\n",
      "|  Amanda Sanders|\n",
      "|   Ellen Daniels|\n",
      "|    Richard King|\n",
      "|  Michael Atkins|\n",
      "|   Amanda Austin|\n",
      "|   Tracy Jenkins|\n",
      "|    Devin Sparks|\n",
      "| Cameron Jackson|\n",
      "| Michael Lindsey|\n",
      "|Madison Copeland|\n",
      "|      William Wu|\n",
      "| Jessica Wallace|\n",
      "+----------------+\n"
     ]
    }
   ],
   "source": [
    "distinct_docs.show()"
   ],
   "metadata": {
    "collapsed": false,
    "ExecuteTime": {
     "end_time": "2024-01-14T22:55:12.972581Z",
     "start_time": "2024-01-14T22:55:12.095038Z"
    }
   },
   "id": "2a98e27b2331f87"
  },
  {
   "cell_type": "code",
   "execution_count": 6,
   "outputs": [],
   "source": [
    "distinct_patients_age = spark.sql(\"SELECT DISTINCT Name, Age FROM raw_healthcare_data\")\n",
    "distinct_patients_name = spark.sql(\"SELECT DISTINCT Name FROM raw_healthcare_data\")"
   ],
   "metadata": {
    "collapsed": false,
    "ExecuteTime": {
     "end_time": "2024-01-14T22:55:13.108649Z",
     "start_time": "2024-01-14T22:55:12.970873Z"
    }
   },
   "id": "5d90875e2e09ab32"
  },
  {
   "cell_type": "code",
   "execution_count": 7,
   "outputs": [
    {
     "name": "stdout",
     "output_type": "stream",
     "text": [
      "9378\n",
      "9990\n"
     ]
    }
   ],
   "source": [
    "get_row_count(distinct_patients_name)\n",
    "get_row_count(distinct_patients_age)\n"
   ],
   "metadata": {
    "collapsed": false,
    "ExecuteTime": {
     "end_time": "2024-01-14T22:55:14.396401Z",
     "start_time": "2024-01-14T22:55:13.033330Z"
    }
   },
   "id": "260418ec40990af6"
  },
  {
   "cell_type": "code",
   "execution_count": 8,
   "outputs": [],
   "source": [
    "admission_types = spark.sql(\"SELECT DISTINCT Admission_Type FROM raw_healthcare_data\")"
   ],
   "metadata": {
    "collapsed": false,
    "ExecuteTime": {
     "end_time": "2024-01-14T22:55:14.421645Z",
     "start_time": "2024-01-14T22:55:14.395822Z"
    }
   },
   "id": "8113f6221924f448"
  },
  {
   "cell_type": "code",
   "execution_count": 9,
   "outputs": [
    {
     "name": "stdout",
     "output_type": "stream",
     "text": [
      "3\n"
     ]
    }
   ],
   "source": [
    "get_row_count(admission_types)"
   ],
   "metadata": {
    "collapsed": false,
    "ExecuteTime": {
     "end_time": "2024-01-14T22:55:31.729754Z",
     "start_time": "2024-01-14T22:55:31.389284Z"
    }
   },
   "id": "fabfc1555b7896a8"
  },
  {
   "cell_type": "code",
   "execution_count": null,
   "outputs": [],
   "source": [],
   "metadata": {
    "collapsed": false
   },
   "id": "aa102fdf63231a94"
  }
 ],
 "metadata": {
  "kernelspec": {
   "display_name": "Python 3",
   "language": "python",
   "name": "python3"
  },
  "language_info": {
   "codemirror_mode": {
    "name": "ipython",
    "version": 2
   },
   "file_extension": ".py",
   "mimetype": "text/x-python",
   "name": "python",
   "nbconvert_exporter": "python",
   "pygments_lexer": "ipython2",
   "version": "2.7.6"
  }
 },
 "nbformat": 4,
 "nbformat_minor": 5
}
