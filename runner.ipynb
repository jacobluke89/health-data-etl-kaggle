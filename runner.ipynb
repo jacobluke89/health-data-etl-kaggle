{
 "cells": [
  {
   "cell_type": "code",
   "execution_count": 1,
   "id": "initial_id",
   "metadata": {
    "collapsed": true,
    "ExecuteTime": {
     "end_time": "2024-01-23T21:26:42.753375Z",
     "start_time": "2024-01-23T21:26:42.638415Z"
    }
   },
   "outputs": [],
   "source": [
    "from data_generator.csv_data_processor import CSVDataProcessor"
   ]
  },
  {
   "cell_type": "code",
   "execution_count": 2,
   "outputs": [],
   "source": [
    "from utils.util_funcs import get_row_count"
   ],
   "metadata": {
    "collapsed": false,
    "ExecuteTime": {
     "end_time": "2024-01-23T21:26:43.117162Z",
     "start_time": "2024-01-23T21:26:43.103410Z"
    }
   },
   "id": "6a71c2f3a532a735"
  },
  {
   "cell_type": "code",
   "execution_count": 3,
   "outputs": [
    {
     "name": "stderr",
     "output_type": "stream",
     "text": [
      "Setting default log level to \"WARN\".\n",
      "To adjust logging level use sc.setLogLevel(newLevel). For SparkR, use setLogLevel(newLevel).\n",
      "24/01/23 21:26:46 WARN NativeCodeLoader: Unable to load native-hadoop library for your platform... using builtin-java classes where applicable\n"
     ]
    },
    {
     "name": "stdout",
     "output_type": "stream",
     "text": [
      "runner func.\n"
     ]
    },
    {
     "name": "stderr",
     "output_type": "stream",
     "text": [
      "                                                                                \r"
     ]
    },
    {
     "name": "stdout",
     "output_type": "stream",
     "text": [
      "+--------------------+---+------+----------+-----------------+-----------------+------------------+--------------------+------------------+------------------+-----------+--------------+--------------+-----------+------------+\n",
      "|                name|age|gender|blood_type|medical_condition|date_of_admission|            doctor|            hospital|insurance_provider|    billing_amount|room_number|admission_type|discharge_date| medication|test_results|\n",
      "+--------------------+---+------+----------+-----------------+-----------------+------------------+--------------------+------------------+------------------+-----------+--------------+--------------+-----------+------------+\n",
      "|     Tiffany Ramirez| 81|Female|        O-|         Diabetes|       2022-11-17|    Patrick Parker|    Wallace-Hamilton|          Medicare| 37490.98336352819|        146|      Elective|    2022-12-01|    Aspirin|Inconclusive|\n",
      "|         Ruben Burns| 35|  Male|        O+|           Asthma|       2023-06-01|     Diane Jackson|Burke, Griffin an...|  UnitedHealthcare| 47304.06484547511|        404|     Emergency|    2023-06-15|    Lipitor|      Normal|\n",
      "|           Chad Byrd| 61|  Male|        B-|          Obesity|       2019-01-09|        Paul Baker|          Walton LLC|          Medicare| 36874.89699661277|        292|     Emergency|    2019-02-08|    Lipitor|      Normal|\n",
      "|   Antonio Frederick| 49|  Male|        B-|           Asthma|       2020-05-02|    Brian Chandler|          Garcia Ltd|          Medicare|23303.322092196904|        480|        Urgent|    2020-05-03| Penicillin|    Abnormal|\n",
      "| Mrs. Brandy Flowers| 51|  Male|        O-|        Arthritis|       2021-07-09|    Dustin Griffin|Jones, Brown and ...|  UnitedHealthcare|18086.344183563877|        477|        Urgent|    2021-08-02|Paracetamol|      Normal|\n",
      "|      Patrick Parker| 41|  Male|       AB+|        Arthritis|       2020-08-20|       Robin Green|            Boyd PLC|             Aetna|22522.363384853266|        180|        Urgent|    2020-08-23|    Aspirin|    Abnormal|\n",
      "|      Charles Horton| 82|  Male|       AB+|     Hypertension|       2021-03-22|   Patricia Bishop|Wheeler, Bryant a...|             Cigna|  39593.4357611308|        161|        Urgent|    2021-04-15|    Lipitor|    Abnormal|\n",
      "|        Patty Norman| 55|Female|        O-|        Arthritis|       2019-05-16|     Brian Kennedy|           Brown Inc|        Blue Cross|13546.817249364824|        384|      Elective|    2019-06-02|    Aspirin|      Normal|\n",
      "|          Ryan Hayes| 33|  Male|        A+|         Diabetes|       2020-12-17|      Kristin Dunn|Smith, Edwards an...|             Aetna| 24903.03726973869|        215|      Elective|    2020-12-22|    Aspirin|    Abnormal|\n",
      "|        Sharon Perez| 39|Female|        O-|           Asthma|       2022-12-15|    Jessica Bailey|        Brown-Golden|        Blue Cross|22788.236026376766|        310|        Urgent|    2022-12-16|    Aspirin|      Normal|\n",
      "|         Amy Roberts| 45|  Male|        B-|           Cancer|       2021-04-13|   Anthony Roberts|      Little-Spencer|             Aetna|40325.071393983046|        306|     Emergency|    2021-05-11| Penicillin|    Abnormal|\n",
      "|Mrs. Caroline Far...| 23|Female|        O-|     Hypertension|       2019-06-09|    William Miller|            Rose Inc|          Medicare| 6185.903529552847|        126|     Emergency|    2019-06-26|Paracetamol|Inconclusive|\n",
      "|  Christina Williams| 85|Female|        A+|         Diabetes|       2021-11-29|     Laura Roberts|Malone, Thompson ...|             Aetna| 4835.945649525413|        444|      Elective|    2021-12-14|    Aspirin|Inconclusive|\n",
      "|        William Page| 72|Female|        A+|         Diabetes|       2021-07-29|      James Carney|   Richardson-Powell|             Cigna|13669.377744164889|        492|      Elective|    2021-08-14|    Aspirin|      Normal|\n",
      "|    Michael Bradshaw| 65|Female|       AB+|           Cancer|       2021-06-05|    Katherine Lowe|     Castaneda-Hardy|             Cigna|10342.836123527373|        120|     Emergency|    2021-06-25|  Ibuprofen|Inconclusive|\n",
      "|        Brian Dorsey| 32|Female|        O+|        Arthritis|       2021-08-07|      Curtis Smith|         Burch-White|             Aetna|27174.942906232496|        492|     Emergency|    2021-08-14|    Aspirin|Inconclusive|\n",
      "|     Olivia Gonzalez| 64|  Male|       AB-|         Diabetes|       2019-11-15|  Clayton Mcknight| Cunningham and Sons|             Aetna|17394.994264453202|        315|      Elective|    2019-12-04|    Aspirin|Inconclusive|\n",
      "|     Teresa Caldwell| 23|  Male|        A+|        Arthritis|       2022-03-08|      Debra Meyers|Bell, Mcknight an...|          Medicare| 45213.53762641964|        475|      Elective|    2022-03-16|  Ibuprofen|Inconclusive|\n",
      "| Desiree Williams MD| 66|  Male|        O+|          Obesity|       2022-06-19|     Megan Sanders|         Pugh-Rogers|  UnitedHealthcare|  4262.91157816964|        125|      Elective|    2022-06-29|    Aspirin|Inconclusive|\n",
      "|          Sally Shaw| 80|  Male|        O-|        Arthritis|       2019-07-10|Zachary Horton DDS|Rush, Owens and J...|        Blue Cross|16609.311817449878|        366|     Emergency|    2019-08-07|  Ibuprofen|Inconclusive|\n",
      "+--------------------+---+------+----------+-----------------+-----------------+------------------+--------------------+------------------+------------------+-----------+--------------+--------------+-----------+------------+\n",
      "10000\n"
     ]
    }
   ],
   "source": [
    "from pyspark.sql import SparkSession\n",
    "\n",
    "spark = SparkSession.builder.appName(\"ETL\").getOrCreate()\n",
    "\n",
    "csv_reader = CSVDataProcessor(spark, \"data/healthcare_dataset.csv\")\n",
    "\n",
    "# Read the CSV file\n",
    "df = csv_reader.run()\n",
    "\n",
    "# Show DataFrame\n",
    "df.show()\n",
    "df.createOrReplaceTempView(\"raw_healthcare_data\")\n",
    "get_row_count(df)\n"
   ],
   "metadata": {
    "collapsed": false,
    "ExecuteTime": {
     "end_time": "2024-01-23T21:26:57.341853Z",
     "start_time": "2024-01-23T21:26:43.639492Z"
    }
   },
   "id": "edddbd10a6d1a787"
  },
  {
   "cell_type": "code",
   "execution_count": null,
   "outputs": [],
   "source": [
    "# distinct_docs = spark.sql(f\"select distinct Doctor from raw_healthcare_data\")"
   ],
   "metadata": {
    "collapsed": false,
    "ExecuteTime": {
     "end_time": "2024-01-23T21:26:33.506502Z",
     "start_time": "2024-01-23T21:26:33.490831Z"
    }
   },
   "id": "62a36aacde33aed7"
  },
  {
   "cell_type": "code",
   "execution_count": null,
   "outputs": [],
   "source": [
    "# distinct_docs.show()"
   ],
   "metadata": {
    "collapsed": false,
    "ExecuteTime": {
     "start_time": "2024-01-23T21:26:33.496753Z"
    }
   },
   "id": "2a98e27b2331f87"
  },
  {
   "cell_type": "code",
   "execution_count": null,
   "outputs": [],
   "source": [
    "# distinct_patients_age = spark.sql(\"SELECT DISTINCT Name, Age FROM raw_healthcare_data\")\n",
    "# distinct_patients_name = spark.sql(\"SELECT DISTINCT Name FROM raw_healthcare_data\")"
   ],
   "metadata": {
    "collapsed": false,
    "ExecuteTime": {
     "start_time": "2024-01-23T21:26:33.502278Z"
    }
   },
   "id": "5d90875e2e09ab32"
  },
  {
   "cell_type": "code",
   "execution_count": null,
   "outputs": [],
   "source": [
    "# get_row_count(distinct_patients_name)\n",
    "# get_row_count(distinct_patients_age)\n"
   ],
   "metadata": {
    "collapsed": false,
    "ExecuteTime": {
     "start_time": "2024-01-23T21:26:33.508608Z"
    }
   },
   "id": "260418ec40990af6"
  },
  {
   "cell_type": "code",
   "execution_count": null,
   "outputs": [],
   "source": [
    "# admission_types = spark.sql(\"SELECT DISTINCT Admission_Type FROM raw_healthcare_data\")"
   ],
   "metadata": {
    "collapsed": false,
    "ExecuteTime": {
     "start_time": "2024-01-23T21:26:33.515437Z"
    }
   },
   "id": "8113f6221924f448"
  },
  {
   "cell_type": "code",
   "execution_count": null,
   "outputs": [],
   "source": [
    "# get_row_count(admission_types)"
   ],
   "metadata": {
    "collapsed": false,
    "ExecuteTime": {
     "start_time": "2024-01-23T21:26:33.522148Z"
    }
   },
   "id": "fabfc1555b7896a8"
  },
  {
   "cell_type": "code",
   "execution_count": 4,
   "outputs": [],
   "source": [
    "from data_generator.admission_data_processor import AdmissionProcessor, create_new_admission_data"
   ],
   "metadata": {
    "collapsed": false,
    "ExecuteTime": {
     "end_time": "2024-01-23T21:26:57.352456Z",
     "start_time": "2024-01-23T21:26:57.339532Z"
    }
   },
   "id": "b12d2f739997bd85"
  },
  {
   "cell_type": "code",
   "execution_count": 5,
   "outputs": [],
   "source": [
    "df_with_dob = df.withColumn(\"DOB\", AdmissionProcessor.generate_dob()).drop(\"age\")"
   ],
   "metadata": {
    "collapsed": false,
    "ExecuteTime": {
     "end_time": "2024-01-23T21:26:57.430278Z",
     "start_time": "2024-01-23T21:26:57.355047Z"
    }
   },
   "id": "ac6ab3bac3343502"
  },
  {
   "cell_type": "code",
   "execution_count": 6,
   "outputs": [
    {
     "name": "stderr",
     "output_type": "stream",
     "text": [
      "[Stage 6:>                                                          (0 + 1) / 1]\r"
     ]
    },
    {
     "name": "stdout",
     "output_type": "stream",
     "text": [
      "+--------------------+------+----------+-----------------+-----------------+------------------+--------------------+------------------+------------------+-----------+--------------+--------------+-----------+------------+--------+\n",
      "|                name|gender|blood_type|medical_condition|date_of_admission|            doctor|            hospital|insurance_provider|    billing_amount|room_number|admission_type|discharge_date| medication|test_results|     DOB|\n",
      "+--------------------+------+----------+-----------------+-----------------+------------------+--------------------+------------------+------------------+-----------+--------------+--------------+-----------+------------+--------+\n",
      "|     Tiffany Ramirez|Female|        O-|         Diabetes|       2022-11-17|    Patrick Parker|    Wallace-Hamilton|          Medicare| 37490.98336352819|        146|      Elective|    2022-12-01|    Aspirin|Inconclusive|19561128|\n",
      "|         Ruben Burns|  Male|        O+|           Asthma|       2023-06-01|     Diane Jackson|Burke, Griffin an...|  UnitedHealthcare| 47304.06484547511|        404|     Emergency|    2023-06-15|    Lipitor|      Normal|19961006|\n",
      "|           Chad Byrd|  Male|        B-|          Obesity|       2019-01-09|        Paul Baker|          Walton LLC|          Medicare| 36874.89699661277|        292|     Emergency|    2019-02-08|    Lipitor|      Normal|19620702|\n",
      "|   Antonio Frederick|  Male|        B-|           Asthma|       2020-05-02|    Brian Chandler|          Garcia Ltd|          Medicare|23303.322092196904|        480|        Urgent|    2020-05-03| Penicillin|    Abnormal|20140917|\n",
      "| Mrs. Brandy Flowers|  Male|        O-|        Arthritis|       2021-07-09|    Dustin Griffin|Jones, Brown and ...|  UnitedHealthcare|18086.344183563877|        477|        Urgent|    2021-08-02|Paracetamol|      Normal|19610510|\n",
      "|      Patrick Parker|  Male|       AB+|        Arthritis|       2020-08-20|       Robin Green|            Boyd PLC|             Aetna|22522.363384853266|        180|        Urgent|    2020-08-23|    Aspirin|    Abnormal|19300213|\n",
      "|      Charles Horton|  Male|       AB+|     Hypertension|       2021-03-22|   Patricia Bishop|Wheeler, Bryant a...|             Cigna|  39593.4357611308|        161|        Urgent|    2021-04-15|    Lipitor|    Abnormal|19760101|\n",
      "|        Patty Norman|Female|        O-|        Arthritis|       2019-05-16|     Brian Kennedy|           Brown Inc|        Blue Cross|13546.817249364824|        384|      Elective|    2019-06-02|    Aspirin|      Normal|19981030|\n",
      "|          Ryan Hayes|  Male|        A+|         Diabetes|       2020-12-17|      Kristin Dunn|Smith, Edwards an...|             Aetna| 24903.03726973869|        215|      Elective|    2020-12-22|    Aspirin|    Abnormal|19300326|\n",
      "|        Sharon Perez|Female|        O-|           Asthma|       2022-12-15|    Jessica Bailey|        Brown-Golden|        Blue Cross|22788.236026376766|        310|        Urgent|    2022-12-16|    Aspirin|      Normal|19820626|\n",
      "|         Amy Roberts|  Male|        B-|           Cancer|       2021-04-13|   Anthony Roberts|      Little-Spencer|             Aetna|40325.071393983046|        306|     Emergency|    2021-05-11| Penicillin|    Abnormal|19250226|\n",
      "|Mrs. Caroline Far...|Female|        O-|     Hypertension|       2019-06-09|    William Miller|            Rose Inc|          Medicare| 6185.903529552847|        126|     Emergency|    2019-06-26|Paracetamol|Inconclusive|20140314|\n",
      "|  Christina Williams|Female|        A+|         Diabetes|       2021-11-29|     Laura Roberts|Malone, Thompson ...|             Aetna| 4835.945649525413|        444|      Elective|    2021-12-14|    Aspirin|Inconclusive|19760614|\n",
      "|        William Page|Female|        A+|         Diabetes|       2021-07-29|      James Carney|   Richardson-Powell|             Cigna|13669.377744164889|        492|      Elective|    2021-08-14|    Aspirin|      Normal|20040418|\n",
      "|    Michael Bradshaw|Female|       AB+|           Cancer|       2021-06-05|    Katherine Lowe|     Castaneda-Hardy|             Cigna|10342.836123527373|        120|     Emergency|    2021-06-25|  Ibuprofen|Inconclusive|19991001|\n",
      "|        Brian Dorsey|Female|        O+|        Arthritis|       2021-08-07|      Curtis Smith|         Burch-White|             Aetna|27174.942906232496|        492|     Emergency|    2021-08-14|    Aspirin|Inconclusive|19790403|\n",
      "|     Olivia Gonzalez|  Male|       AB-|         Diabetes|       2019-11-15|  Clayton Mcknight| Cunningham and Sons|             Aetna|17394.994264453202|        315|      Elective|    2019-12-04|    Aspirin|Inconclusive|19601024|\n",
      "|     Teresa Caldwell|  Male|        A+|        Arthritis|       2022-03-08|      Debra Meyers|Bell, Mcknight an...|          Medicare| 45213.53762641964|        475|      Elective|    2022-03-16|  Ibuprofen|Inconclusive|19491217|\n",
      "| Desiree Williams MD|  Male|        O+|          Obesity|       2022-06-19|     Megan Sanders|         Pugh-Rogers|  UnitedHealthcare|  4262.91157816964|        125|      Elective|    2022-06-29|    Aspirin|Inconclusive|20050130|\n",
      "|          Sally Shaw|  Male|        O-|        Arthritis|       2019-07-10|Zachary Horton DDS|Rush, Owens and J...|        Blue Cross|16609.311817449878|        366|     Emergency|    2019-08-07|  Ibuprofen|Inconclusive|19600903|\n",
      "+--------------------+------+----------+-----------------+-----------------+------------------+--------------------+------------------+------------------+-----------+--------------+--------------+-----------+------------+--------+\n"
     ]
    },
    {
     "name": "stderr",
     "output_type": "stream",
     "text": [
      "                                                                                \r"
     ]
    }
   ],
   "source": [
    "df_with_dob.show()"
   ],
   "metadata": {
    "collapsed": false,
    "ExecuteTime": {
     "end_time": "2024-01-23T21:26:58.653355Z",
     "start_time": "2024-01-23T21:26:57.435627Z"
    }
   },
   "id": "5fa4a109e7e03b52"
  },
  {
   "cell_type": "code",
   "execution_count": 9,
   "outputs": [],
   "source": [
    "df_with_new_data = df_with_dob.withColumn(\"new_data\", create_new_admission_data(df_with_dob[\"gender\"], df_with_dob[\"DOB\"]))"
   ],
   "metadata": {
    "collapsed": false,
    "ExecuteTime": {
     "end_time": "2024-01-23T21:27:35.389340Z",
     "start_time": "2024-01-23T21:27:35.364343Z"
    }
   },
   "id": "17c0094cbd14fbed"
  },
  {
   "cell_type": "code",
   "execution_count": 10,
   "outputs": [
    {
     "name": "stdout",
     "output_type": "stream",
     "text": [
      "+--------------------+------+----------+-----------------+-----------------+------------------+--------------------+------------------+------------------+-----------+--------------+--------------+-----------+------------+--------+--------------------+\n",
      "|                name|gender|blood_type|medical_condition|date_of_admission|            doctor|            hospital|insurance_provider|    billing_amount|room_number|admission_type|discharge_date| medication|test_results|     DOB|            new_data|\n",
      "+--------------------+------+----------+-----------------+-----------------+------------------+--------------------+------------------+------------------+-----------+--------------+--------------+-----------+------------+--------+--------------------+\n",
      "|     Tiffany Ramirez|Female|        O-|         Diabetes|       2022-11-17|    Patrick Parker|    Wallace-Hamilton|          Medicare| 37490.98336352819|        146|      Elective|    2022-12-01|    Aspirin|Inconclusive|19690524|{self_referral, d...|\n",
      "|         Ruben Burns|  Male|        O+|           Asthma|       2023-06-01|     Diane Jackson|Burke, Griffin an...|  UnitedHealthcare| 47304.06484547511|        404|     Emergency|    2023-06-15|    Lipitor|      Normal|19970120|{hospital_referra...|\n",
      "|           Chad Byrd|  Male|        B-|          Obesity|       2019-01-09|        Paul Baker|          Walton LLC|          Medicare| 36874.89699661277|        292|     Emergency|    2019-02-08|    Lipitor|      Normal|20060104|{emergency, neuro...|\n",
      "|   Antonio Frederick|  Male|        B-|           Asthma|       2020-05-02|    Brian Chandler|          Garcia Ltd|          Medicare|23303.322092196904|        480|        Urgent|    2020-05-03| Penicillin|    Abnormal|20000812|{elective, ophtha...|\n",
      "| Mrs. Brandy Flowers|  Male|        O-|        Arthritis|       2021-07-09|    Dustin Griffin|Jones, Brown and ...|  UnitedHealthcare|18086.344183563877|        477|        Urgent|    2021-08-02|Paracetamol|      Normal|20010520|{elective, orthop...|\n",
      "|      Patrick Parker|  Male|       AB+|        Arthritis|       2020-08-20|       Robin Green|            Boyd PLC|             Aetna|22522.363384853266|        180|        Urgent|    2020-08-23|    Aspirin|    Abnormal|20030628|{hospital_referra...|\n",
      "|      Charles Horton|  Male|       AB+|     Hypertension|       2021-03-22|   Patricia Bishop|Wheeler, Bryant a...|             Cigna|  39593.4357611308|        161|        Urgent|    2021-04-15|    Lipitor|    Abnormal|19980210|{gp_referral, gas...|\n",
      "|        Patty Norman|Female|        O-|        Arthritis|       2019-05-16|     Brian Kennedy|           Brown Inc|        Blue Cross|13546.817249364824|        384|      Elective|    2019-06-02|    Aspirin|      Normal|19420304|{gp_referral, end...|\n",
      "|          Ryan Hayes|  Male|        A+|         Diabetes|       2020-12-17|      Kristin Dunn|Smith, Edwards an...|             Aetna| 24903.03726973869|        215|      Elective|    2020-12-22|    Aspirin|    Abnormal|19430917|{elective, orthop...|\n",
      "|        Sharon Perez|Female|        O-|           Asthma|       2022-12-15|    Jessica Bailey|        Brown-Golden|        Blue Cross|22788.236026376766|        310|        Urgent|    2022-12-16|    Aspirin|      Normal|19480221|{emergency, neuro...|\n",
      "|         Amy Roberts|  Male|        B-|           Cancer|       2021-04-13|   Anthony Roberts|      Little-Spencer|             Aetna|40325.071393983046|        306|     Emergency|    2021-05-11| Penicillin|    Abnormal|19430427|{emergency, pulmo...|\n",
      "|Mrs. Caroline Far...|Female|        O-|     Hypertension|       2019-06-09|    William Miller|            Rose Inc|          Medicare| 6185.903529552847|        126|     Emergency|    2019-06-26|Paracetamol|Inconclusive|19471028|{self_referral, g...|\n",
      "|  Christina Williams|Female|        A+|         Diabetes|       2021-11-29|     Laura Roberts|Malone, Thompson ...|             Aetna| 4835.945649525413|        444|      Elective|    2021-12-14|    Aspirin|Inconclusive|20101013|{pediatric_electi...|\n",
      "|        William Page|Female|        A+|         Diabetes|       2021-07-29|      James Carney|   Richardson-Powell|             Cigna|13669.377744164889|        492|      Elective|    2021-08-14|    Aspirin|      Normal|19320321|{emergency, infec...|\n",
      "|    Michael Bradshaw|Female|       AB+|           Cancer|       2021-06-05|    Katherine Lowe|     Castaneda-Hardy|             Cigna|10342.836123527373|        120|     Emergency|    2021-06-25|  Ibuprofen|Inconclusive|19570731|{gp_referral, der...|\n",
      "|        Brian Dorsey|Female|        O+|        Arthritis|       2021-08-07|      Curtis Smith|         Burch-White|             Aetna|27174.942906232496|        492|     Emergency|    2021-08-14|    Aspirin|Inconclusive|19340422|{self_referral, e...|\n",
      "|     Olivia Gonzalez|  Male|       AB-|         Diabetes|       2019-11-15|  Clayton Mcknight| Cunningham and Sons|             Aetna|17394.994264453202|        315|      Elective|    2019-12-04|    Aspirin|Inconclusive|19770604|{self_referral, m...|\n",
      "|     Teresa Caldwell|  Male|        A+|        Arthritis|       2022-03-08|      Debra Meyers|Bell, Mcknight an...|          Medicare| 45213.53762641964|        475|      Elective|    2022-03-16|  Ibuprofen|Inconclusive|19281028|{elective, ophtha...|\n",
      "| Desiree Williams MD|  Male|        O+|          Obesity|       2022-06-19|     Megan Sanders|         Pugh-Rogers|  UnitedHealthcare|  4262.91157816964|        125|      Elective|    2022-06-29|    Aspirin|Inconclusive|19300927|{elective, orthop...|\n",
      "|          Sally Shaw|  Male|        O-|        Arthritis|       2019-07-10|Zachary Horton DDS|Rush, Owens and J...|        Blue Cross|16609.311817449878|        366|     Emergency|    2019-08-07|  Ibuprofen|Inconclusive|19830207|{hospital_referra...|\n",
      "+--------------------+------+----------+-----------------+-----------------+------------------+--------------------+------------------+------------------+-----------+--------------+--------------+-----------+------------+--------+--------------------+\n"
     ]
    },
    {
     "name": "stderr",
     "output_type": "stream",
     "text": [
      "Selected Admission Type: self_referral\n",
      "Selected Sub-Admission Type: dermatology\n",
      "Selected Stay Type: outpatient\n",
      "Selected Tests: ['Patch tests', 'Skin scrapings', 'Skin biopsy', 'Blood tests']\n",
      "Selected Admission Type: hospital_referral\n",
      "Selected Sub-Admission Type: cancer\n",
      "Selected Stay Type: day_patient\n",
      "Selected Tests: ['MRI', 'Biopsy', 'CT scans', 'PET scans']\n",
      "Selected Admission Type: emergency\n",
      "Selected Sub-Admission Type: neurology\n",
      "Selected Stay Type: inpatient\n",
      "Selected Tests: ['Electroencephalogram (EEG)', 'Nerve conduction studies', 'Blood tests', 'MRI or CT scans of the brain']\n",
      "Selected Admission Type: elective\n",
      "Selected Sub-Admission Type: ophthalmology\n",
      "Selected Stay Type: day_patient\n",
      "Selected Tests: ['Visual field test', 'Eye exam', 'Retinal imaging']\n",
      "Selected Admission Type: elective\n",
      "Selected Sub-Admission Type: orthopedics\n",
      "Selected Stay Type: inpatient\n",
      "Selected Tests: ['CT scans', 'Bone scans']\n",
      "Selected Admission Type: hospital_referral\n",
      "Selected Sub-Admission Type: nephrology\n",
      "Selected Stay Type: inpatient\n",
      "Selected Tests: ['Blood tests (renal function tests)']\n",
      "Selected Admission Type: gp_referral\n",
      "Selected Sub-Admission Type: gastroenterology\n",
      "Selected Stay Type: day_patient\n",
      "Selected Tests: ['Endoscopy', 'Stool tests', 'CT scan', 'Abdominal ultrasound', 'Colonoscopy', 'Blood tests']\n",
      "Selected Admission Type: gp_referral\n",
      "Selected Sub-Admission Type: endocrinology\n",
      "Selected Stay Type: outpatient\n",
      "Selected Tests: ['Blood tests (hormone levels)', 'Bone density tests']\n",
      "Selected Admission Type: elective\n",
      "Selected Sub-Admission Type: orthopedics\n",
      "Selected Stay Type: day_patient\n",
      "Selected Tests: ['MRI', 'X-rays']\n",
      "Selected Admission Type: emergency\n",
      "Selected Sub-Admission Type: neurology\n",
      "Selected Stay Type: inpatient\n",
      "Selected Tests: ['MRI or CT scans of the brain']\n",
      "Selected Admission Type: emergency\n",
      "Selected Sub-Admission Type: pulmonology\n",
      "Selected Stay Type: inpatient\n",
      "Selected Tests: ['Chest X-ray', 'CT scan']\n",
      "Selected Admission Type: self_referral\n",
      "Selected Sub-Admission Type: gastroenterology\n",
      "Selected Stay Type: outpatient\n",
      "Selected Tests: ['Colonoscopy', 'Endoscopy', 'CT scan', 'Stool tests']\n",
      "Selected Admission Type: pediatric_elective\n",
      "Selected Sub-Admission Type: pediatric_ophthalmology\n",
      "Selected Stay Type: outpatient\n",
      "Selected Tests: ['Eye exam', 'Tonometry (eye pressure test)', 'Retinal imaging']\n",
      "Selected Admission Type: emergency\n",
      "Selected Sub-Admission Type: infectious_diseases\n",
      "Selected Stay Type: inpatient\n",
      "Selected Tests: ['Imaging (e.g., chest X-ray for pneumonia)']\n",
      "Selected Admission Type: gp_referral\n",
      "Selected Sub-Admission Type: dermatology\n",
      "Selected Stay Type: outpatient\n",
      "Selected Tests: ['Blood tests', 'Skin scrapings', 'Patch tests', 'Skin biopsy']\n",
      "Selected Admission Type: self_referral\n",
      "Selected Sub-Admission Type: endocrinology\n",
      "Selected Stay Type: outpatient\n",
      "Selected Tests: ['Blood tests (hormone levels)']\n",
      "Selected Admission Type: self_referral\n",
      "Selected Sub-Admission Type: mental\n",
      "Selected Stay Type: outpatient\n",
      "Selected Tests: ['Electroencephalogram (EEG)', 'Blood tests', 'Psychological evaluation', 'Brain imaging (MRI, CT scans)']\n",
      "Selected Admission Type: elective\n",
      "Selected Sub-Admission Type: ophthalmology\n",
      "Selected Stay Type: outpatient\n",
      "Selected Tests: ['Eye exam', 'Retinal imaging', 'Tonometry (eye pressure test)', 'Visual field test']\n",
      "Selected Admission Type: elective\n",
      "Selected Sub-Admission Type: orthopedics\n",
      "Selected Stay Type: day_patient\n",
      "Selected Tests: ['Bone scans', 'X-rays', 'MRI']\n",
      "Selected Admission Type: hospital_referral\n",
      "Selected Sub-Admission Type: otorhinolaryngology_ENT\n",
      "Selected Stay Type: day_patient\n",
      "Selected Tests: ['Imaging tests (CT or MRI)', 'Endoscopy of the ear/nose/throat']\n",
      "Selected Admission Type: hospital_referral\n",
      "Selected Sub-Admission Type: cardiology\n",
      "Selected Stay Type: inpatient\n",
      "Selected Tests: ['Echocardiogram', 'Stress tests', 'Cardiac catheterization']\n"
     ]
    }
   ],
   "source": [
    "df_with_new_data.show()"
   ],
   "metadata": {
    "collapsed": false,
    "ExecuteTime": {
     "end_time": "2024-01-23T21:27:36.707808Z",
     "start_time": "2024-01-23T21:27:36.171922Z"
    }
   },
   "id": "68a74d947c626c4b"
  },
  {
   "cell_type": "code",
   "execution_count": 14,
   "outputs": [],
   "source": [
    "df_with_new_data = (df_with_new_data.withColumn(\"ADMISSION_TYPE\", df_with_new_data[\"new_data\"][\"ADMISSION_TYPE\"]) \n",
    "                                    .withColumn(\"SUB_ADMISSION_TYPE\", df_with_new_data[\"new_data\"][\"SUB_ADMISSION_TYPE\"]) \n",
    "                                    .withColumn(\"STAY_TYPE\", df_with_new_data[\"new_data\"][\"STAY_TYPE\"]) \n",
    "                                    .withColumn(\"TESTS_SUGGESTED\", df_with_new_data[\"new_data\"][\"TESTS_SUGGESTED\"]).drop(\"new_data\"))\n"
   ],
   "metadata": {
    "collapsed": false,
    "ExecuteTime": {
     "end_time": "2024-01-23T21:33:33.585341Z",
     "start_time": "2024-01-23T21:33:33.486674Z"
    }
   },
   "id": "cf78d856cb4bc5a2"
  },
  {
   "cell_type": "code",
   "execution_count": 15,
   "outputs": [
    {
     "name": "stdout",
     "output_type": "stream",
     "text": [
      "+--------------------+------+----------+-----------------+-----------------+------------------+--------------------+------------------+------------------+-----------+--------------------+--------------+-----------+------------+--------+--------------------+-----------+--------------------+\n",
      "|                name|gender|blood_type|medical_condition|date_of_admission|            doctor|            hospital|insurance_provider|    billing_amount|room_number|      ADMISSION_TYPE|discharge_date| medication|test_results|     DOB|  SUB_ADMISSION_TYPE|  STAY_TYPE|     TESTS_SUGGESTED|\n",
      "+--------------------+------+----------+-----------------+-----------------+------------------+--------------------+------------------+------------------+-----------+--------------------+--------------+-----------+------------+--------+--------------------+-----------+--------------------+\n",
      "|     Tiffany Ramirez|Female|        O-|         Diabetes|       2022-11-17|    Patrick Parker|    Wallace-Hamilton|          Medicare| 37490.98336352819|        146|           emergency|    2022-12-01|    Aspirin|Inconclusive|19870109| infectious_diseases|  inpatient|[PCR tests, Imagi...|\n",
      "|         Ruben Burns|  Male|        O+|           Asthma|       2023-06-01|     Diane Jackson|Burke, Griffin an...|  UnitedHealthcare| 47304.06484547511|        404|            elective|    2023-06-15|    Lipitor|      Normal|19341115|         orthopedics|day_patient|               [MRI]|\n",
      "|           Chad Byrd|  Male|        B-|          Obesity|       2019-01-09|        Paul Baker|          Walton LLC|          Medicare| 36874.89699661277|        292|  pediatric_elective|    2019-02-08|    Lipitor|      Normal|20131104|pediatric_orthope...|day_patient|            [X-rays]|\n",
      "|   Antonio Frederick|  Male|        B-|           Asthma|       2020-05-02|    Brian Chandler|          Garcia Ltd|          Medicare|23303.322092196904|        480|   hospital_referral|    2020-05-03| Penicillin|    Abnormal|19311024|           neurology|  inpatient|       [Blood tests]|\n",
      "| Mrs. Brandy Flowers|  Male|        O-|        Arthritis|       2021-07-09|    Dustin Griffin|Jones, Brown and ...|  UnitedHealthcare|18086.344183563877|        477|            elective|    2021-08-02|Paracetamol|      Normal|19550915|          geriatrics| outpatient|[Cognitive tests,...|\n",
      "|      Patrick Parker|  Male|       AB+|        Arthritis|       2020-08-20|       Robin Green|            Boyd PLC|             Aetna|22522.363384853266|        180|   hospital_referral|    2020-08-23|    Aspirin|    Abnormal|19490302|           neurology|  inpatient|[Blood tests, Lum...|\n",
      "|      Charles Horton|  Male|       AB+|     Hypertension|       2021-03-22|   Patricia Bishop|Wheeler, Bryant a...|             Cigna|  39593.4357611308|        161|   hospital_referral|    2021-04-15|    Lipitor|    Abnormal|19581215|           neurology|  inpatient|[Lumbar puncture,...|\n",
      "|        Patty Norman|Female|        O-|        Arthritis|       2019-05-16|     Brian Kennedy|           Brown Inc|        Blue Cross|13546.817249364824|        384|         gp_referral|    2019-06-02|    Aspirin|      Normal|19370522|    gastroenterology| outpatient|       [Stool tests]|\n",
      "|          Ryan Hayes|  Male|        A+|         Diabetes|       2020-12-17|      Kristin Dunn|Smith, Edwards an...|             Aetna| 24903.03726973869|        215|       self_referral|    2020-12-22|    Aspirin|    Abnormal|19670926|            oncology| outpatient|[Biopsies, Imagin...|\n",
      "|        Sharon Perez|Female|        O-|           Asthma|       2022-12-15|    Jessica Bailey|        Brown-Golden|        Blue Cross|22788.236026376766|        310|            elective|    2022-12-16|    Aspirin|      Normal|19760513|         orthopedics|  inpatient|               [MRI]|\n",
      "|         Amy Roberts|  Male|        B-|           Cancer|       2021-04-13|   Anthony Roberts|      Little-Spencer|             Aetna|40325.071393983046|        306|         gp_referral|    2021-05-11| Penicillin|    Abnormal|19500507|         orthopedics|  inpatient|          [CT scans]|\n",
      "|Mrs. Caroline Far...|Female|        O-|     Hypertension|       2019-06-09|    William Miller|            Rose Inc|          Medicare| 6185.903529552847|        126|            elective|    2019-06-26|Paracetamol|Inconclusive|19420319|          obstetrics|  inpatient|[Amniocentesis, U...|\n",
      "|  Christina Williams|Female|        A+|         Diabetes|       2021-11-29|     Laura Roberts|Malone, Thompson ...|             Aetna| 4835.945649525413|        444|           emergency|    2021-12-14|    Aspirin|Inconclusive|19881020|          injury_rtc|day_patient|[Ultrasound, Bloo...|\n",
      "|        William Page|Female|        A+|         Diabetes|       2021-07-29|      James Carney|   Richardson-Powell|             Cigna|13669.377744164889|        492|pediatric_hospita...|    2021-08-14|    Aspirin|      Normal|20140804| pediatric_neurology|  inpatient|[Nerve conduction...|\n",
      "|    Michael Bradshaw|Female|       AB+|           Cancer|       2021-06-05|    Katherine Lowe|     Castaneda-Hardy|             Cigna|10342.836123527373|        120|           emergency|    2021-06-25|  Ibuprofen|Inconclusive|19820124|         pulmonology|  inpatient|           [CT scan]|\n",
      "|        Brian Dorsey|Female|        O+|        Arthritis|       2021-08-07|      Curtis Smith|         Burch-White|             Aetna|27174.942906232496|        492|pediatric_gp_refe...|    2021-08-14|    Aspirin|Inconclusive|20101208|pediatric_gastroe...| outpatient|[Stool tests, CT ...|\n",
      "|     Olivia Gonzalez|  Male|       AB-|         Diabetes|       2019-11-15|  Clayton Mcknight| Cunningham and Sons|             Aetna|17394.994264453202|        315|   hospital_referral|    2019-12-04|    Aspirin|Inconclusive|19960706|          nephrology|  inpatient|[Biopsy, Blood te...|\n",
      "|     Teresa Caldwell|  Male|        A+|        Arthritis|       2022-03-08|      Debra Meyers|Bell, Mcknight an...|          Medicare| 45213.53762641964|        475|  pediatric_elective|    2022-03-16|  Ibuprofen|Inconclusive|20120812|pediatric_ophthal...| outpatient|[Visual field tes...|\n",
      "| Desiree Williams MD|  Male|        O+|          Obesity|       2022-06-19|     Megan Sanders|         Pugh-Rogers|  UnitedHealthcare|  4262.91157816964|        125|         gp_referral|    2022-06-29|    Aspirin|Inconclusive|20030915|         dermatology| outpatient|[Blood tests, Pat...|\n",
      "|          Sally Shaw|  Male|        O-|        Arthritis|       2019-07-10|Zachary Horton DDS|Rush, Owens and J...|        Blue Cross|16609.311817449878|        366|       self_referral|    2019-08-07|  Ibuprofen|Inconclusive|20041015|         orthopedics|day_patient|[Blood tests, CT ...|\n",
      "+--------------------+------+----------+-----------------+-----------------+------------------+--------------------+------------------+------------------+-----------+--------------------+--------------+-----------+------------+--------+--------------------+-----------+--------------------+\n"
     ]
    },
    {
     "name": "stderr",
     "output_type": "stream",
     "text": [
      "Selected Admission Type: emergency\n",
      "Selected Sub-Admission Type: infectious_diseases\n",
      "Selected Stay Type: inpatient\n",
      "Selected Tests: ['PCR tests', 'Imaging (e.g., chest X-ray for pneumonia)']\n",
      "Selected Admission Type: elective\n",
      "Selected Sub-Admission Type: orthopedics\n",
      "Selected Stay Type: day_patient\n",
      "Selected Tests: ['MRI']\n",
      "Selected Admission Type: pediatric_elective\n",
      "Selected Sub-Admission Type: pediatric_orthopedics\n",
      "Selected Stay Type: day_patient\n",
      "Selected Tests: ['X-rays']\n",
      "Selected Admission Type: hospital_referral\n",
      "Selected Sub-Admission Type: neurology\n",
      "Selected Stay Type: inpatient\n",
      "Selected Tests: ['Blood tests']\n",
      "Selected Admission Type: elective\n",
      "Selected Sub-Admission Type: geriatrics\n",
      "Selected Stay Type: outpatient\n",
      "Selected Tests: ['Cognitive tests', 'Bone density scans', 'Blood tests', 'Comprehensive geriatric assessment']\n",
      "Selected Admission Type: hospital_referral\n",
      "Selected Sub-Admission Type: neurology\n",
      "Selected Stay Type: inpatient\n",
      "Selected Tests: ['Blood tests', 'Lumbar puncture', 'Nerve conduction studies']\n",
      "Selected Admission Type: hospital_referral\n",
      "Selected Sub-Admission Type: neurology\n",
      "Selected Stay Type: inpatient\n",
      "Selected Tests: ['Lumbar puncture', 'Nerve conduction studies']\n",
      "Selected Admission Type: gp_referral\n",
      "Selected Sub-Admission Type: gastroenterology\n",
      "Selected Stay Type: outpatient\n",
      "Selected Tests: ['Stool tests']\n",
      "Selected Admission Type: self_referral\n",
      "Selected Sub-Admission Type: oncology\n",
      "Selected Stay Type: outpatient\n",
      "Selected Tests: ['Biopsies', 'Imaging tests (CT, MRI, PET scans)', 'Blood tests']\n",
      "Selected Admission Type: elective\n",
      "Selected Sub-Admission Type: orthopedics\n",
      "Selected Stay Type: inpatient\n",
      "Selected Tests: ['MRI']\n",
      "Selected Admission Type: gp_referral\n",
      "Selected Sub-Admission Type: orthopedics\n",
      "Selected Stay Type: inpatient\n",
      "Selected Tests: ['CT scans']\n",
      "Selected Admission Type: elective\n",
      "Selected Sub-Admission Type: obstetrics\n",
      "Selected Stay Type: inpatient\n",
      "Selected Tests: ['Amniocentesis', 'Ultrasound', 'Blood tests', 'Cervical screening']\n",
      "Selected Admission Type: emergency\n",
      "Selected Sub-Admission Type: injury_rtc\n",
      "Selected Stay Type: day_patient\n",
      "Selected Tests: ['Ultrasound', 'Blood tests', 'CT scans']\n",
      "Selected Admission Type: pediatric_hospital_referral\n",
      "Selected Sub-Admission Type: pediatric_neurology\n",
      "Selected Stay Type: inpatient\n",
      "Selected Tests: ['Nerve conduction studies']\n",
      "Selected Admission Type: emergency\n",
      "Selected Sub-Admission Type: pulmonology\n",
      "Selected Stay Type: inpatient\n",
      "Selected Tests: ['CT scan']\n",
      "Selected Admission Type: pediatric_gp_referral\n",
      "Selected Sub-Admission Type: pediatric_gastroenterology\n",
      "Selected Stay Type: outpatient\n",
      "Selected Tests: ['Stool tests', 'CT scan', 'Endoscopy']\n",
      "Selected Admission Type: hospital_referral\n",
      "Selected Sub-Admission Type: nephrology\n",
      "Selected Stay Type: inpatient\n",
      "Selected Tests: ['Biopsy', 'Blood tests (renal function tests)', 'Ultrasound of the kidneys', 'Urine tests']\n",
      "Selected Admission Type: pediatric_elective\n",
      "Selected Sub-Admission Type: pediatric_ophthalmology\n",
      "Selected Stay Type: outpatient\n",
      "Selected Tests: ['Visual field test', 'Eye exam', 'Retinal imaging']\n",
      "Selected Admission Type: gp_referral\n",
      "Selected Sub-Admission Type: dermatology\n",
      "Selected Stay Type: outpatient\n",
      "Selected Tests: ['Blood tests', 'Patch tests', 'Skin scrapings', 'Skin biopsy']\n",
      "Selected Admission Type: self_referral\n",
      "Selected Sub-Admission Type: orthopedics\n",
      "Selected Stay Type: day_patient\n",
      "Selected Tests: ['Blood tests', 'CT scans']\n",
      "Selected Admission Type: emergency\n",
      "Selected Sub-Admission Type: injury_rtc\n",
      "Selected Stay Type: day_patient\n",
      "Selected Tests: ['Blood tests', 'X-rays', 'CT scans', 'MRI', 'Ultrasound']\n"
     ]
    }
   ],
   "source": [
    "df_with_new_data.show()"
   ],
   "metadata": {
    "collapsed": false,
    "ExecuteTime": {
     "end_time": "2024-01-23T21:33:35.244943Z",
     "start_time": "2024-01-23T21:33:34.764939Z"
    }
   },
   "id": "e8f6e6c9a46ab99c"
  },
  {
   "cell_type": "code",
   "execution_count": null,
   "outputs": [],
   "source": [],
   "metadata": {
    "collapsed": false
   },
   "id": "bced158648cd125d"
  }
 ],
 "metadata": {
  "kernelspec": {
   "display_name": "Python 3",
   "language": "python",
   "name": "python3"
  },
  "language_info": {
   "codemirror_mode": {
    "name": "ipython",
    "version": 2
   },
   "file_extension": ".py",
   "mimetype": "text/x-python",
   "name": "python",
   "nbconvert_exporter": "python",
   "pygments_lexer": "ipython2",
   "version": "2.7.6"
  }
 },
 "nbformat": 4,
 "nbformat_minor": 5
}
